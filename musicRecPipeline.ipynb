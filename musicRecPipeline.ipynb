{
  "cells": [
    {
      "cell_type": "code",
      "execution_count": 39,
      "metadata": {
        "colab": {
          "base_uri": "https://localhost:8080/"
        },
        "id": "df4wvrrcNScP",
        "outputId": "6bed59e1-eb45-4d7b-a9ad-9acc2f635ee2"
      },
      "outputs": [
        {
          "name": "stdout",
          "output_type": "stream",
          "text": [
            "Looking in indexes: https://pypi.org/simple, https://us-python.pkg.dev/colab-wheels/public/simple/\n",
            "Requirement already satisfied: neo4j in /usr/local/lib/python3.7/dist-packages (5.2.0)\n",
            "Requirement already satisfied: pytz in /usr/local/lib/python3.7/dist-packages (from neo4j) (2022.6)\n"
          ]
        }
      ],
      "source": [
        "!pip3 install neo4j"
      ]
    },
    {
      "cell_type": "code",
      "execution_count": 40,
      "metadata": {
        "colab": {
          "base_uri": "https://localhost:8080/"
        },
        "id": "g4LgXx0z53fb",
        "outputId": "6f86b2eb-6d52-46d5-a611-6dc3c32a3984"
      },
      "outputs": [
        {
          "name": "stdout",
          "output_type": "stream",
          "text": [
            "Looking in indexes: https://pypi.org/simple, https://us-python.pkg.dev/colab-wheels/public/simple/\n",
            "Requirement already satisfied: neo4j-driver in /usr/local/lib/python3.7/dist-packages (5.2.0)\n",
            "Requirement already satisfied: pytz in /usr/local/lib/python3.7/dist-packages (from neo4j-driver) (2022.6)\n"
          ]
        }
      ],
      "source": [
        "pip install neo4j-driver"
      ]
    },
    {
      "cell_type": "code",
      "execution_count": 41,
      "metadata": {
        "id": "LO2r2On_PYPH"
      },
      "outputs": [],
      "source": [
        "import pandas as pd\n",
        "from neo4j import GraphDatabase"
      ]
    },
    {
      "cell_type": "code",
      "execution_count": 42,
      "metadata": {
        "id": "yIsOSSgCOnnM"
      },
      "outputs": [],
      "source": [
        "# connect to neo4j instance\n",
        "\n",
        "class Neo4jConnection:\n",
        "\n",
        "\n",
        "    def __init__(self, uri, user, pwd):\n",
        "        self.__uri = uri\n",
        "        self.__user = user\n",
        "        self.__pwd = pwd\n",
        "        self.__driver = None\n",
        "        try:\n",
        "            self.__driver = GraphDatabase.driver(self.__uri, auth=(self.__user, self.__pwd))\n",
        "        except Exception as e:\n",
        "            print('Failed to create the driver:', e)\n",
        "\n",
        "\n",
        "    def close(self):\n",
        "        if self.__driver is not None:\n",
        "            self.__driver.close()\n",
        "\n",
        "\n",
        "    def query(self, query, parameters=None, db=None):\n",
        "        assert self.__driver is not None, 'Driver not initialised'\n",
        "        session = None\n",
        "        response = None\n",
        "        try:\n",
        "            session = self.__driver.session(database=db) if db is not None else self.__driver.session()\n",
        "            response = list(session.run(query, parameters))\n",
        "        except Exception as e:\n",
        "            print('Query failed:', e)\n",
        "        finally:\n",
        "            if session is not None:\n",
        "                session.close()\n",
        "        return response\n",
        "\n",
        "\n",
        "conn = Neo4jConnection(uri='', \n",
        "                       user='neo4j', \n",
        "                       pwd='')\n"
      ]
    },
    {
      "cell_type": "code",
      "execution_count": 43,
      "metadata": {
        "colab": {
          "base_uri": "https://localhost:8080/"
        },
        "id": "31ZLFu3KQiz8",
        "outputId": "322e2acd-c6e3-45cc-da72-9e974f433cdd"
      },
      "outputs": [
        {
          "name": "stdout",
          "output_type": "stream",
          "text": [
            "Query failed: {code: Neo.ClientError.Procedure.ProcedureCallFailed} {message: Failed to invoke procedure `apoc.load.json`: Caused by: java.net.MalformedURLException: Illegal character in URL}\n",
            "None\n"
          ]
        }
      ],
      "source": [
        "query = '''\n",
        "CALL apoc.load.json('http://ws.audioscrobbler.com/2.0/?method=user.getFriends\n",
        "&user=dorky_&api_key=<api_key>&format=json&format=json') \n",
        "YIELD value\n",
        "'''\n",
        "\n",
        "result = conn.query(query)\n",
        "print(result)"
      ]
    },
    {
      "cell_type": "code",
      "execution_count": 44,
      "metadata": {
        "colab": {
          "base_uri": "https://localhost:8080/"
        },
        "id": "d85UnQpNzJdr",
        "outputId": "2669d580-0a28-4024-92c2-b75464d9f1ee"
      },
      "outputs": [
        {
          "name": "stdout",
          "output_type": "stream",
          "text": [
            "Query failed: {code: Neo.ClientError.Procedure.ProcedureCallFailed} {message: Failed to invoke procedure `apoc.load.json`: Caused by: java.net.MalformedURLException: Illegal character in URL}\n",
            "None\n"
          ]
        }
      ],
      "source": [
        "query = '''\n",
        "CALL apoc.load.json('http://ws.audioscrobbler.com/2.0/?method=user.getFriends\n",
        "&user=dorky_&api_key=<api_key>&format=json&format=json') \n",
        "YIELD value\n",
        "'''\n",
        "\n",
        "result = conn.query(query)\n",
        "print(result)"
      ]
    },
    {
      "cell_type": "code",
      "execution_count": 45,
      "metadata": {
        "colab": {
          "base_uri": "https://localhost:8080/"
        },
        "id": "MWV-m9G_tXRj",
        "outputId": "e525c7c5-14c5-485a-e8f8-304b590c29b4"
      },
      "outputs": [
        {
          "name": "stdout",
          "output_type": "stream",
          "text": [
            "[]\n"
          ]
        }
      ],
      "source": [
        "query = '''\n",
        "CALL apoc.load.json('http://ws.audioscrobbler.com/2.0/?method=chart.gettopartists&api_key=<api_key>&format=json&format=json') \n",
        "YIELD value\n",
        "with value\n",
        "match (e:Existing {name:value.artists})\n",
        "unwind value.artist as l2\n",
        "unwind apoc.map.values(l2, keys(l2)) as l3\n",
        "unwind apoc.map.values(l3, keys(l3)) as l4\n",
        "unwind apoc.map.values(l4, keys(l4)) as l5\n",
        "unwind apoc.map.values(l5, keys(l5)) as l6\n",
        "foreach (item in l4 |\n",
        "\n",
        "merge (n:New {listeners:item.listeners, mbid:item.mbid, name:item.name, playcount:item.playcount, streamable:item.streamable, url:item.url })\n",
        "merge (n)-[:isin]->(e))\n",
        "'''\n",
        "\n",
        "result = conn.query(query)\n",
        "print(result)"
      ]
    },
    {
      "cell_type": "code",
      "execution_count": 46,
      "metadata": {
        "colab": {
          "base_uri": "https://localhost:8080/"
        },
        "id": "8IV04n0ISYo2",
        "outputId": "607b9487-e085-49d1-b681-fb528ed39fb0"
      },
      "outputs": [
        {
          "name": "stdout",
          "output_type": "stream",
          "text": [
            "Looking in indexes: https://pypi.org/simple, https://us-python.pkg.dev/colab-wheels/public/simple/\n",
            "Requirement already satisfied: pyspark in /usr/local/lib/python3.7/dist-packages (3.3.1)\n",
            "Requirement already satisfied: py4j==0.10.9.5 in /usr/local/lib/python3.7/dist-packages (from pyspark) (0.10.9.5)\n"
          ]
        }
      ],
      "source": [
        "pip install pyspark"
      ]
    },
    {
      "cell_type": "code",
      "execution_count": 47,
      "metadata": {
        "id": "SpwveREx4K7x"
      },
      "outputs": [],
      "source": [
        "from pyspark.mllib.recommendation import *\n",
        "import random\n",
        "from operator import *\n",
        "\n",
        "\n",
        "api_key = ''\n",
        "user_agent = ''"
      ]
    },
    {
      "cell_type": "code",
      "execution_count": 48,
      "metadata": {
        "id": "zOXmV2N8ap_x"
      },
      "outputs": [],
      "source": [
        "import requests\n",
        "\n",
        "def lastfm_get(payload):\n",
        "\n",
        "    url = 'https://ws.audioscrobbler.com/2.0/'\n",
        "\n",
        "    headers = {\n",
        "        'user-agent': user_agent\n",
        "    }\n",
        "\n",
        "    payload['api_key'] = api_key\n",
        "    payload['format'] = 'json'\n",
        "\n",
        "    response = requests.get(url, headers=headers, params=payload)\n",
        "    return response"
      ]
    },
    {
      "cell_type": "code",
      "execution_count": 48,
      "metadata": {
        "id": "EgaJeMLIisz6"
      },
      "outputs": [],
      "source": []
    },
    {
      "cell_type": "code",
      "execution_count": 49,
      "metadata": {
        "colab": {
          "base_uri": "https://localhost:8080/"
        },
        "id": "A8RJ1k3920hC",
        "outputId": "8da88b3d-0f8f-44d0-e10a-56d530ba0a2a"
      },
      "outputs": [
        {
          "name": "stdout",
          "output_type": "stream",
          "text": [
            "200\n",
            "200\n"
          ]
        }
      ],
      "source": [
        "\n",
        "user_getfriends_data = lastfm_get({\n",
        "    'method': 'user.getFriends',\n",
        "    'user': 'Dorky_'\n",
        "})\n",
        "\n",
        "user_gettopalbum_data = lastfm_get({\n",
        "    'method': 'user.getTopAlbums',\n",
        "    'user': 'Dorky_'\n",
        "})\n",
        "\n",
        "\n",
        "print(user_getfriends_data.status_code)\n",
        "print(user_gettopalbum_data.status_code)"
      ]
    },
    {
      "cell_type": "code",
      "execution_count": 50,
      "metadata": {
        "id": "_liyoadILwIo"
      },
      "outputs": [],
      "source": [
        "import json\n",
        "\n",
        "def jprint(obj):\n",
        "    # create a formatted string of the Python JSON object\n",
        "    text = json.dumps(obj, sort_keys=True, indent=4)\n",
        "    print(text)"
      ]
    },
    {
      "cell_type": "code",
      "execution_count": 51,
      "metadata": {
        "id": "zMpJrqQsWp4G"
      },
      "outputs": [],
      "source": [
        "# random user data\n",
        "kotatsu_data = lastfm_get({\n",
        "    'method': 'user.getTopAlbums',\n",
        "    'user': 'Ko_tatsu'\n",
        "})"
      ]
    },
    {
      "cell_type": "code",
      "execution_count": 52,
      "metadata": {
        "colab": {
          "base_uri": "https://localhost:8080/"
        },
        "id": "WEX0N0EQWyse",
        "outputId": "1a6b1a79-ac89-402a-faf0-dff421437ce9"
      },
      "outputs": [
        {
          "name": "stdout",
          "output_type": "stream",
          "text": [
            "\"Drukqs\"\n"
          ]
        }
      ],
      "source": [
        "jprint(kotatsu_data.json()['topalbums']['album'][0]['name'])"
      ]
    },
    {
      "cell_type": "code",
      "execution_count": 54,
      "metadata": {
        "id": "1dGtgShtXEqe"
      },
      "outputs": [],
      "source": [
        "# while data.json()['friends']['@attr']['page'] is <= data.json()['friends']['@attr']['totalPages']"
      ]
    },
    {
      "cell_type": "code",
      "execution_count": 55,
      "metadata": {
        "colab": {
          "base_uri": "https://localhost:8080/"
        },
        "id": "FWBZl-kH9jTu",
        "outputId": "a125ab1c-3b98-407e-fd84-6db032c3f405"
      },
      "outputs": [
        {
          "name": "stdout",
          "output_type": "stream",
          "text": [
            "{\n",
            "    \"friends\": {\n",
            "        \"@attr\": {\n",
            "            \"page\": \"1\",\n",
            "            \"perPage\": \"50\",\n",
            "            \"total\": \"192\",\n",
            "            \"totalPages\": \"4\",\n",
            "            \"user\": \"Dorky_\"\n",
            "        },\n",
            "        \"user\": [\n",
            "            {\n",
            "                \"bootstrap\": \"0\",\n",
            "                \"country\": \"None\",\n",
            "                \"image\": [\n",
            "                    {\n",
            "                        \"#text\": \"https://lastfm.freetls.fastly.net/i/u/34s/ad89cb603fd27ca5502d5634dee14284.png\",\n",
            "                        \"size\": \"small\"\n",
            "                    },\n",
            "                    {\n",
            "                        \"#text\": \"https://lastfm.freetls.fastly.net/i/u/64s/ad89cb603fd27ca5502d5634dee14284.png\",\n",
            "                        \"size\": \"medium\"\n",
            "                    },\n",
            "                    {\n",
            "                        \"#text\": \"https://lastfm.freetls.fastly.net/i/u/174s/ad89cb603fd27ca5502d5634dee14284.png\",\n",
            "                        \"size\": \"large\"\n",
            "                    },\n",
            "                    {\n",
            "                        \"#text\": \"https://lastfm.freetls.fastly.net/i/u/300x300/ad89cb603fd27ca5502d5634dee14284.png\",\n",
            "                        \"size\": \"extralarge\"\n",
            "                    }\n",
            "                ],\n",
            "                \"name\": \"hikamu\",\n",
            "                \"playcount\": \"0\",\n",
            "                \"playlists\": \"0\",\n",
            "                \"realname\": \"\\udb40\\udc21\\udb40\\udc21\",\n",
            "                \"registered\": {\n",
            "                    \"#text\": \"2021-09-14 18:37\",\n",
            "                    \"unixtime\": \"1631644646\"\n",
            "                },\n",
            "                \"subscriber\": \"0\",\n",
            "                \"type\": \"user\",\n",
            "                \"url\": \"https://www.last.fm/user/hikamu\"\n",
            "            },\n",
            "            {\n",
            "                \"bootstrap\": \"0\",\n",
            "                \"country\": \"Italy\",\n",
            "                \"image\": [\n",
            "                    {\n",
            "                        \"#text\": \"https://lastfm.freetls.fastly.net/i/u/34s/79bef8a0ebed358016e7cf3c48d4543d.png\",\n",
            "                        \"size\": \"small\"\n",
            "                    },\n",
            "                    {\n",
            "                        \"#text\": \"https://lastfm.freetls.fastly.net/i/u/64s/79bef8a0ebed358016e7cf3c48d4543d.png\",\n",
            "                        \"size\": \"medium\"\n",
            "                    },\n",
            "                    {\n",
            "                        \"#text\": \"https://lastfm.freetls.fastly.net/i/u/174s/79bef8a0ebed358016e7cf3c48d4543d.png\",\n",
            "                        \"size\": \"large\"\n",
            "                    },\n",
            "                    {\n",
            "                        \"#text\": \"https://lastfm.freetls.fastly.net/i/u/300x300/79bef8a0ebed358016e7cf3c48d4543d.png\",\n",
            "                        \"size\": \"extralarge\"\n",
            "                    }\n",
            "                ],\n",
            "                \"name\": \"Ko_tatsu\",\n",
            "                \"playcount\": \"0\",\n",
            "                \"playlists\": \"0\",\n",
            "                \"realname\": \"Kotatsu\",\n",
            "                \"registered\": {\n",
            "                    \"#text\": \"2020-04-02 13:02\",\n",
            "                    \"unixtime\": \"1585832526\"\n",
            "                },\n",
            "                \"subscriber\": \"0\",\n",
            "                \"type\": \"user\",\n",
            "                \"url\": \"https://www.last.fm/user/Ko_tatsu\"\n",
            "            },\n",
            "            {\n",
            "                \"bootstrap\": \"0\",\n",
            "                \"country\": \"None\",\n",
            "                \"image\": [\n",
            "                    {\n",
            "                        \"#text\": \"https://lastfm.freetls.fastly.net/i/u/34s/71e15d8eea0e0e680bc73030816a5c4b.png\",\n",
            "                        \"size\": \"small\"\n",
            "                    },\n",
            "                    {\n",
            "                        \"#text\": \"https://lastfm.freetls.fastly.net/i/u/64s/71e15d8eea0e0e680bc73030816a5c4b.png\",\n",
            "                        \"size\": \"medium\"\n",
            "                    },\n",
            "                    {\n",
            "                        \"#text\": \"https://lastfm.freetls.fastly.net/i/u/174s/71e15d8eea0e0e680bc73030816a5c4b.png\",\n",
            "                        \"size\": \"large\"\n",
            "                    },\n",
            "                    {\n",
            "                        \"#text\": \"https://lastfm.freetls.fastly.net/i/u/300x300/71e15d8eea0e0e680bc73030816a5c4b.png\",\n",
            "                        \"size\": \"extralarge\"\n",
            "                    }\n",
            "                ],\n",
            "                \"name\": \"oddpulp\",\n",
            "                \"playcount\": \"0\",\n",
            "                \"playlists\": \"0\",\n",
            "                \"realname\": \"alann\",\n",
            "                \"registered\": {\n",
            "                    \"#text\": \"2021-09-10 11:12\",\n",
            "                    \"unixtime\": \"1631272369\"\n",
            "                },\n",
            "                \"subscriber\": \"0\",\n",
            "                \"type\": \"user\",\n",
            "                \"url\": \"https://www.last.fm/user/oddpulp\"\n",
            "            },\n",
            "            {\n",
            "                \"bootstrap\": \"0\",\n",
            "                \"country\": \"Brazil\",\n",
            "                \"image\": [\n",
            "                    {\n",
            "                        \"#text\": \"https://lastfm.freetls.fastly.net/i/u/34s/3ba6e01fdc208170a4dd0b63bc989cf0.png\",\n",
            "                        \"size\": \"small\"\n",
            "                    },\n",
            "                    {\n",
            "                        \"#text\": \"https://lastfm.freetls.fastly.net/i/u/64s/3ba6e01fdc208170a4dd0b63bc989cf0.png\",\n",
            "                        \"size\": \"medium\"\n",
            "                    },\n",
            "                    {\n",
            "                        \"#text\": \"https://lastfm.freetls.fastly.net/i/u/174s/3ba6e01fdc208170a4dd0b63bc989cf0.png\",\n",
            "                        \"size\": \"large\"\n",
            "                    },\n",
            "                    {\n",
            "                        \"#text\": \"https://lastfm.freetls.fastly.net/i/u/300x300/3ba6e01fdc208170a4dd0b63bc989cf0.png\",\n",
            "                        \"size\": \"extralarge\"\n",
            "                    }\n",
            "                ],\n",
            "                \"name\": \"arthuic\",\n",
            "                \"playcount\": \"0\",\n",
            "                \"playlists\": \"0\",\n",
            "                \"realname\": \"thui\",\n",
            "                \"registered\": {\n",
            "                    \"#text\": \"2022-11-02 00:39\",\n",
            "                    \"unixtime\": \"1667349586\"\n",
            "                },\n",
            "                \"subscriber\": \"0\",\n",
            "                \"type\": \"user\",\n",
            "                \"url\": \"https://www.last.fm/user/arthuic\"\n",
            "            },\n",
            "            {\n",
            "                \"bootstrap\": \"0\",\n",
            "                \"country\": \"Philippines\",\n",
            "                \"image\": [\n",
            "                    {\n",
            "                        \"#text\": \"https://lastfm.freetls.fastly.net/i/u/34s/b17f114420538434a4c8af53cbfcbe0f.png\",\n",
            "                        \"size\": \"small\"\n",
            "                    },\n",
            "                    {\n",
            "                        \"#text\": \"https://lastfm.freetls.fastly.net/i/u/64s/b17f114420538434a4c8af53cbfcbe0f.png\",\n",
            "                        \"size\": \"medium\"\n",
            "                    },\n",
            "                    {\n",
            "                        \"#text\": \"https://lastfm.freetls.fastly.net/i/u/174s/b17f114420538434a4c8af53cbfcbe0f.png\",\n",
            "                        \"size\": \"large\"\n",
            "                    },\n",
            "                    {\n",
            "                        \"#text\": \"https://lastfm.freetls.fastly.net/i/u/300x300/b17f114420538434a4c8af53cbfcbe0f.png\",\n",
            "                        \"size\": \"extralarge\"\n",
            "                    }\n",
            "                ],\n",
            "                \"name\": \"darcvv\",\n",
            "                \"playcount\": \"0\",\n",
            "                \"playlists\": \"0\",\n",
            "                \"realname\": \"\",\n",
            "                \"registered\": {\n",
            "                    \"#text\": \"2022-01-26 08:40\",\n",
            "                    \"unixtime\": \"1643186409\"\n",
            "                },\n",
            "                \"subscriber\": \"0\",\n",
            "                \"type\": \"user\",\n",
            "                \"url\": \"https://www.last.fm/user/darcvv\"\n",
            "            },\n",
            "            {\n",
            "                \"bootstrap\": \"0\",\n",
            "                \"country\": \"None\",\n",
            "                \"image\": [\n",
            "                    {\n",
            "                        \"#text\": \"https://lastfm.freetls.fastly.net/i/u/34s/a42817b56ab6f033b5dc404a0785832b.png\",\n",
            "                        \"size\": \"small\"\n",
            "                    },\n",
            "                    {\n",
            "                        \"#text\": \"https://lastfm.freetls.fastly.net/i/u/64s/a42817b56ab6f033b5dc404a0785832b.png\",\n",
            "                        \"size\": \"medium\"\n",
            "                    },\n",
            "                    {\n",
            "                        \"#text\": \"https://lastfm.freetls.fastly.net/i/u/174s/a42817b56ab6f033b5dc404a0785832b.png\",\n",
            "                        \"size\": \"large\"\n",
            "                    },\n",
            "                    {\n",
            "                        \"#text\": \"https://lastfm.freetls.fastly.net/i/u/300x300/a42817b56ab6f033b5dc404a0785832b.png\",\n",
            "                        \"size\": \"extralarge\"\n",
            "                    }\n",
            "                ],\n",
            "                \"name\": \"cerejinhalol\",\n",
            "                \"playcount\": \"0\",\n",
            "                \"playlists\": \"0\",\n",
            "                \"realname\": \"\\u2661\",\n",
            "                \"registered\": {\n",
            "                    \"#text\": \"2022-10-24 01:10\",\n",
            "                    \"unixtime\": \"1666573813\"\n",
            "                },\n",
            "                \"subscriber\": \"0\",\n",
            "                \"type\": \"user\",\n",
            "                \"url\": \"https://www.last.fm/user/cerejinhalol\"\n",
            "            },\n",
            "            {\n",
            "                \"bootstrap\": \"0\",\n",
            "                \"country\": \"Indonesia\",\n",
            "                \"image\": [\n",
            "                    {\n",
            "                        \"#text\": \"https://lastfm.freetls.fastly.net/i/u/34s/dc96440d1b7d8401f27db405d26c9691.png\",\n",
            "                        \"size\": \"small\"\n",
            "                    },\n",
            "                    {\n",
            "                        \"#text\": \"https://lastfm.freetls.fastly.net/i/u/64s/dc96440d1b7d8401f27db405d26c9691.png\",\n",
            "                        \"size\": \"medium\"\n",
            "                    },\n",
            "                    {\n",
            "                        \"#text\": \"https://lastfm.freetls.fastly.net/i/u/174s/dc96440d1b7d8401f27db405d26c9691.png\",\n",
            "                        \"size\": \"large\"\n",
            "                    },\n",
            "                    {\n",
            "                        \"#text\": \"https://lastfm.freetls.fastly.net/i/u/300x300/dc96440d1b7d8401f27db405d26c9691.png\",\n",
            "                        \"size\": \"extralarge\"\n",
            "                    }\n",
            "                ],\n",
            "                \"name\": \"caudria\",\n",
            "                \"playcount\": \"0\",\n",
            "                \"playlists\": \"0\",\n",
            "                \"realname\": \"\",\n",
            "                \"registered\": {\n",
            "                    \"#text\": \"2020-08-15 11:34\",\n",
            "                    \"unixtime\": \"1597491296\"\n",
            "                },\n",
            "                \"subscriber\": \"0\",\n",
            "                \"type\": \"user\",\n",
            "                \"url\": \"https://www.last.fm/user/caudria\"\n",
            "            },\n",
            "            {\n",
            "                \"bootstrap\": \"0\",\n",
            "                \"country\": \"United States\",\n",
            "                \"image\": [\n",
            "                    {\n",
            "                        \"#text\": \"https://lastfm.freetls.fastly.net/i/u/34s/f0d0de8ad037e44f41b0899f786e3712.png\",\n",
            "                        \"size\": \"small\"\n",
            "                    },\n",
            "                    {\n",
            "                        \"#text\": \"https://lastfm.freetls.fastly.net/i/u/64s/f0d0de8ad037e44f41b0899f786e3712.png\",\n",
            "                        \"size\": \"medium\"\n",
            "                    },\n",
            "                    {\n",
            "                        \"#text\": \"https://lastfm.freetls.fastly.net/i/u/174s/f0d0de8ad037e44f41b0899f786e3712.png\",\n",
            "                        \"size\": \"large\"\n",
            "                    },\n",
            "                    {\n",
            "                        \"#text\": \"https://lastfm.freetls.fastly.net/i/u/300x300/f0d0de8ad037e44f41b0899f786e3712.png\",\n",
            "                        \"size\": \"extralarge\"\n",
            "                    }\n",
            "                ],\n",
            "                \"name\": \"CitrusCircus\",\n",
            "                \"playcount\": \"0\",\n",
            "                \"playlists\": \"0\",\n",
            "                \"realname\": \"Salamander\",\n",
            "                \"registered\": {\n",
            "                    \"#text\": \"2013-10-03 03:09\",\n",
            "                    \"unixtime\": \"1380769799\"\n",
            "                },\n",
            "                \"subscriber\": \"0\",\n",
            "                \"type\": \"user\",\n",
            "                \"url\": \"https://www.last.fm/user/CitrusCircus\"\n",
            "            },\n",
            "            {\n",
            "                \"bootstrap\": \"0\",\n",
            "                \"country\": \"None\",\n",
            "                \"image\": [\n",
            "                    {\n",
            "                        \"#text\": \"https://lastfm.freetls.fastly.net/i/u/34s/932d38194fe8ae651e6a50d198163250.png\",\n",
            "                        \"size\": \"small\"\n",
            "                    },\n",
            "                    {\n",
            "                        \"#text\": \"https://lastfm.freetls.fastly.net/i/u/64s/932d38194fe8ae651e6a50d198163250.png\",\n",
            "                        \"size\": \"medium\"\n",
            "                    },\n",
            "                    {\n",
            "                        \"#text\": \"https://lastfm.freetls.fastly.net/i/u/174s/932d38194fe8ae651e6a50d198163250.png\",\n",
            "                        \"size\": \"large\"\n",
            "                    },\n",
            "                    {\n",
            "                        \"#text\": \"https://lastfm.freetls.fastly.net/i/u/300x300/932d38194fe8ae651e6a50d198163250.png\",\n",
            "                        \"size\": \"extralarge\"\n",
            "                    }\n",
            "                ],\n",
            "                \"name\": \"kaiquemaximoff\",\n",
            "                \"playcount\": \"0\",\n",
            "                \"playlists\": \"0\",\n",
            "                \"realname\": \"kai\",\n",
            "                \"registered\": {\n",
            "                    \"#text\": \"2021-11-09 23:09\",\n",
            "                    \"unixtime\": \"1636499377\"\n",
            "                },\n",
            "                \"subscriber\": \"0\",\n",
            "                \"type\": \"user\",\n",
            "                \"url\": \"https://www.last.fm/user/kaiquemaximoff\"\n",
            "            },\n",
            "            {\n",
            "                \"bootstrap\": \"0\",\n",
            "                \"country\": \"Uruguay\",\n",
            "                \"image\": [\n",
            "                    {\n",
            "                        \"#text\": \"https://lastfm.freetls.fastly.net/i/u/34s/360997f603f1ff6c0c0cce8814633528.png\",\n",
            "                        \"size\": \"small\"\n",
            "                    },\n",
            "                    {\n",
            "                        \"#text\": \"https://lastfm.freetls.fastly.net/i/u/64s/360997f603f1ff6c0c0cce8814633528.png\",\n",
            "                        \"size\": \"medium\"\n",
            "                    },\n",
            "                    {\n",
            "                        \"#text\": \"https://lastfm.freetls.fastly.net/i/u/174s/360997f603f1ff6c0c0cce8814633528.png\",\n",
            "                        \"size\": \"large\"\n",
            "                    },\n",
            "                    {\n",
            "                        \"#text\": \"https://lastfm.freetls.fastly.net/i/u/300x300/360997f603f1ff6c0c0cce8814633528.png\",\n",
            "                        \"size\": \"extralarge\"\n",
            "                    }\n",
            "                ],\n",
            "                \"name\": \"Junkento\",\n",
            "                \"playcount\": \"0\",\n",
            "                \"playlists\": \"0\",\n",
            "                \"realname\": \"YOU ALL LOOK THE SAME TO ME\",\n",
            "                \"registered\": {\n",
            "                    \"#text\": \"2021-11-14 23:15\",\n",
            "                    \"unixtime\": \"1636931750\"\n",
            "                },\n",
            "                \"subscriber\": \"0\",\n",
            "                \"type\": \"user\",\n",
            "                \"url\": \"https://www.last.fm/user/Junkento\"\n",
            "            },\n",
            "            {\n",
            "                \"bootstrap\": \"0\",\n",
            "                \"country\": \"None\",\n",
            "                \"image\": [\n",
            "                    {\n",
            "                        \"#text\": \"https://lastfm.freetls.fastly.net/i/u/34s/86ee1c1fd0b9d35b840a837d0dfccb3f.png\",\n",
            "                        \"size\": \"small\"\n",
            "                    },\n",
            "                    {\n",
            "                        \"#text\": \"https://lastfm.freetls.fastly.net/i/u/64s/86ee1c1fd0b9d35b840a837d0dfccb3f.png\",\n",
            "                        \"size\": \"medium\"\n",
            "                    },\n",
            "                    {\n",
            "                        \"#text\": \"https://lastfm.freetls.fastly.net/i/u/174s/86ee1c1fd0b9d35b840a837d0dfccb3f.png\",\n",
            "                        \"size\": \"large\"\n",
            "                    },\n",
            "                    {\n",
            "                        \"#text\": \"https://lastfm.freetls.fastly.net/i/u/300x300/86ee1c1fd0b9d35b840a837d0dfccb3f.png\",\n",
            "                        \"size\": \"extralarge\"\n",
            "                    }\n",
            "                ],\n",
            "                \"name\": \"jinsoulist\",\n",
            "                \"playcount\": \"0\",\n",
            "                \"playlists\": \"0\",\n",
            "                \"realname\": \"chiara\",\n",
            "                \"registered\": {\n",
            "                    \"#text\": \"2019-03-16 05:39\",\n",
            "                    \"unixtime\": \"1552714767\"\n",
            "                },\n",
            "                \"subscriber\": \"1\",\n",
            "                \"type\": \"subscriber\",\n",
            "                \"url\": \"https://www.last.fm/user/jinsoulist\"\n",
            "            },\n",
            "            {\n",
            "                \"bootstrap\": \"0\",\n",
            "                \"country\": \"None\",\n",
            "                \"image\": [\n",
            "                    {\n",
            "                        \"#text\": \"https://lastfm.freetls.fastly.net/i/u/34s/2d663fd8b11ef1112380204442a06ec1.png\",\n",
            "                        \"size\": \"small\"\n",
            "                    },\n",
            "                    {\n",
            "                        \"#text\": \"https://lastfm.freetls.fastly.net/i/u/64s/2d663fd8b11ef1112380204442a06ec1.png\",\n",
            "                        \"size\": \"medium\"\n",
            "                    },\n",
            "                    {\n",
            "                        \"#text\": \"https://lastfm.freetls.fastly.net/i/u/174s/2d663fd8b11ef1112380204442a06ec1.png\",\n",
            "                        \"size\": \"large\"\n",
            "                    },\n",
            "                    {\n",
            "                        \"#text\": \"https://lastfm.freetls.fastly.net/i/u/300x300/2d663fd8b11ef1112380204442a06ec1.png\",\n",
            "                        \"size\": \"extralarge\"\n",
            "                    }\n",
            "                ],\n",
            "                \"name\": \"Rockrarted\",\n",
            "                \"playcount\": \"0\",\n",
            "                \"playlists\": \"0\",\n",
            "                \"realname\": \"\",\n",
            "                \"registered\": {\n",
            "                    \"#text\": \"2018-11-17 04:49\",\n",
            "                    \"unixtime\": \"1542430144\"\n",
            "                },\n",
            "                \"subscriber\": \"0\",\n",
            "                \"type\": \"user\",\n",
            "                \"url\": \"https://www.last.fm/user/Rockrarted\"\n",
            "            },\n",
            "            {\n",
            "                \"bootstrap\": \"0\",\n",
            "                \"country\": \"United Kingdom\",\n",
            "                \"image\": [\n",
            "                    {\n",
            "                        \"#text\": \"https://lastfm.freetls.fastly.net/i/u/34s/9f2b4cad5e3a36451fbf6f9eb5b8f7fd.png\",\n",
            "                        \"size\": \"small\"\n",
            "                    },\n",
            "                    {\n",
            "                        \"#text\": \"https://lastfm.freetls.fastly.net/i/u/64s/9f2b4cad5e3a36451fbf6f9eb5b8f7fd.png\",\n",
            "                        \"size\": \"medium\"\n",
            "                    },\n",
            "                    {\n",
            "                        \"#text\": \"https://lastfm.freetls.fastly.net/i/u/174s/9f2b4cad5e3a36451fbf6f9eb5b8f7fd.png\",\n",
            "                        \"size\": \"large\"\n",
            "                    },\n",
            "                    {\n",
            "                        \"#text\": \"https://lastfm.freetls.fastly.net/i/u/300x300/9f2b4cad5e3a36451fbf6f9eb5b8f7fd.png\",\n",
            "                        \"size\": \"extralarge\"\n",
            "                    }\n",
            "                ],\n",
            "                \"name\": \"Evan_Mumford\",\n",
            "                \"playcount\": \"0\",\n",
            "                \"playlists\": \"0\",\n",
            "                \"realname\": \"Evan\",\n",
            "                \"registered\": {\n",
            "                    \"#text\": \"2021-05-14 17:11\",\n",
            "                    \"unixtime\": \"1621012276\"\n",
            "                },\n",
            "                \"subscriber\": \"0\",\n",
            "                \"type\": \"user\",\n",
            "                \"url\": \"https://www.last.fm/user/Evan_Mumford\"\n",
            "            },\n",
            "            {\n",
            "                \"bootstrap\": \"0\",\n",
            "                \"country\": \"Argentina\",\n",
            "                \"image\": [\n",
            "                    {\n",
            "                        \"#text\": \"https://lastfm.freetls.fastly.net/i/u/34s/8ccaf1ad49c867e935e85bccb6e0afbd.png\",\n",
            "                        \"size\": \"small\"\n",
            "                    },\n",
            "                    {\n",
            "                        \"#text\": \"https://lastfm.freetls.fastly.net/i/u/64s/8ccaf1ad49c867e935e85bccb6e0afbd.png\",\n",
            "                        \"size\": \"medium\"\n",
            "                    },\n",
            "                    {\n",
            "                        \"#text\": \"https://lastfm.freetls.fastly.net/i/u/174s/8ccaf1ad49c867e935e85bccb6e0afbd.png\",\n",
            "                        \"size\": \"large\"\n",
            "                    },\n",
            "                    {\n",
            "                        \"#text\": \"https://lastfm.freetls.fastly.net/i/u/300x300/8ccaf1ad49c867e935e85bccb6e0afbd.png\",\n",
            "                        \"size\": \"extralarge\"\n",
            "                    }\n",
            "                ],\n",
            "                \"name\": \"Airen3a\",\n",
            "                \"playcount\": \"0\",\n",
            "                \"playlists\": \"0\",\n",
            "                \"realname\": \"Ai\",\n",
            "                \"registered\": {\n",
            "                    \"#text\": \"2021-12-01 19:54\",\n",
            "                    \"unixtime\": \"1638388485\"\n",
            "                },\n",
            "                \"subscriber\": \"0\",\n",
            "                \"type\": \"user\",\n",
            "                \"url\": \"https://www.last.fm/user/Airen3a\"\n",
            "            },\n",
            "            {\n",
            "                \"bootstrap\": \"0\",\n",
            "                \"country\": \"Philippines\",\n",
            "                \"image\": [\n",
            "                    {\n",
            "                        \"#text\": \"https://lastfm.freetls.fastly.net/i/u/34s/06810404522ad542ca6df3394366f430.png\",\n",
            "                        \"size\": \"small\"\n",
            "                    },\n",
            "                    {\n",
            "                        \"#text\": \"https://lastfm.freetls.fastly.net/i/u/64s/06810404522ad542ca6df3394366f430.png\",\n",
            "                        \"size\": \"medium\"\n",
            "                    },\n",
            "                    {\n",
            "                        \"#text\": \"https://lastfm.freetls.fastly.net/i/u/174s/06810404522ad542ca6df3394366f430.png\",\n",
            "                        \"size\": \"large\"\n",
            "                    },\n",
            "                    {\n",
            "                        \"#text\": \"https://lastfm.freetls.fastly.net/i/u/300x300/06810404522ad542ca6df3394366f430.png\",\n",
            "                        \"size\": \"extralarge\"\n",
            "                    }\n",
            "                ],\n",
            "                \"name\": \"jomellyfish\",\n",
            "                \"playcount\": \"0\",\n",
            "                \"playlists\": \"0\",\n",
            "                \"realname\": \"Jomel De Guzman\",\n",
            "                \"registered\": {\n",
            "                    \"#text\": \"2021-05-13 04:19\",\n",
            "                    \"unixtime\": \"1620879588\"\n",
            "                },\n",
            "                \"subscriber\": \"0\",\n",
            "                \"type\": \"user\",\n",
            "                \"url\": \"https://www.last.fm/user/jomellyfish\"\n",
            "            },\n",
            "            {\n",
            "                \"bootstrap\": \"0\",\n",
            "                \"country\": \"Brazil\",\n",
            "                \"image\": [\n",
            "                    {\n",
            "                        \"#text\": \"https://lastfm.freetls.fastly.net/i/u/34s/33d479076452ac91c8a475db9ac9797d.png\",\n",
            "                        \"size\": \"small\"\n",
            "                    },\n",
            "                    {\n",
            "                        \"#text\": \"https://lastfm.freetls.fastly.net/i/u/64s/33d479076452ac91c8a475db9ac9797d.png\",\n",
            "                        \"size\": \"medium\"\n",
            "                    },\n",
            "                    {\n",
            "                        \"#text\": \"https://lastfm.freetls.fastly.net/i/u/174s/33d479076452ac91c8a475db9ac9797d.png\",\n",
            "                        \"size\": \"large\"\n",
            "                    },\n",
            "                    {\n",
            "                        \"#text\": \"https://lastfm.freetls.fastly.net/i/u/300x300/33d479076452ac91c8a475db9ac9797d.png\",\n",
            "                        \"size\": \"extralarge\"\n",
            "                    }\n",
            "                ],\n",
            "                \"name\": \"baratacorn4\",\n",
            "                \"playcount\": \"0\",\n",
            "                \"playlists\": \"0\",\n",
            "                \"realname\": \"joe\",\n",
            "                \"registered\": {\n",
            "                    \"#text\": \"2021-03-09 19:37\",\n",
            "                    \"unixtime\": \"1615318634\"\n",
            "                },\n",
            "                \"subscriber\": \"0\",\n",
            "                \"type\": \"user\",\n",
            "                \"url\": \"https://www.last.fm/user/baratacorn4\"\n",
            "            },\n",
            "            {\n",
            "                \"bootstrap\": \"0\",\n",
            "                \"country\": \"United States\",\n",
            "                \"image\": [\n",
            "                    {\n",
            "                        \"#text\": \"https://lastfm.freetls.fastly.net/i/u/34s/1eab912b1c0d24032834deb10872a439.png\",\n",
            "                        \"size\": \"small\"\n",
            "                    },\n",
            "                    {\n",
            "                        \"#text\": \"https://lastfm.freetls.fastly.net/i/u/64s/1eab912b1c0d24032834deb10872a439.png\",\n",
            "                        \"size\": \"medium\"\n",
            "                    },\n",
            "                    {\n",
            "                        \"#text\": \"https://lastfm.freetls.fastly.net/i/u/174s/1eab912b1c0d24032834deb10872a439.png\",\n",
            "                        \"size\": \"large\"\n",
            "                    },\n",
            "                    {\n",
            "                        \"#text\": \"https://lastfm.freetls.fastly.net/i/u/300x300/1eab912b1c0d24032834deb10872a439.png\",\n",
            "                        \"size\": \"extralarge\"\n",
            "                    }\n",
            "                ],\n",
            "                \"name\": \"addison_d\",\n",
            "                \"playcount\": \"0\",\n",
            "                \"playlists\": \"0\",\n",
            "                \"realname\": \"ok bitch its weezer and its weezy\",\n",
            "                \"registered\": {\n",
            "                    \"#text\": \"2021-12-06 22:52\",\n",
            "                    \"unixtime\": \"1638831125\"\n",
            "                },\n",
            "                \"subscriber\": \"0\",\n",
            "                \"type\": \"user\",\n",
            "                \"url\": \"https://www.last.fm/user/addison_d\"\n",
            "            },\n",
            "            {\n",
            "                \"bootstrap\": \"0\",\n",
            "                \"country\": \"Colombia\",\n",
            "                \"image\": [\n",
            "                    {\n",
            "                        \"#text\": \"https://lastfm.freetls.fastly.net/i/u/34s/83e65bf8332128c86ab25cd94ad13775.png\",\n",
            "                        \"size\": \"small\"\n",
            "                    },\n",
            "                    {\n",
            "                        \"#text\": \"https://lastfm.freetls.fastly.net/i/u/64s/83e65bf8332128c86ab25cd94ad13775.png\",\n",
            "                        \"size\": \"medium\"\n",
            "                    },\n",
            "                    {\n",
            "                        \"#text\": \"https://lastfm.freetls.fastly.net/i/u/174s/83e65bf8332128c86ab25cd94ad13775.png\",\n",
            "                        \"size\": \"large\"\n",
            "                    },\n",
            "                    {\n",
            "                        \"#text\": \"https://lastfm.freetls.fastly.net/i/u/300x300/83e65bf8332128c86ab25cd94ad13775.png\",\n",
            "                        \"size\": \"extralarge\"\n",
            "                    }\n",
            "                ],\n",
            "                \"name\": \"mateo1232\",\n",
            "                \"playcount\": \"0\",\n",
            "                \"playlists\": \"0\",\n",
            "                \"realname\": \"Mateo\",\n",
            "                \"registered\": {\n",
            "                    \"#text\": \"2013-09-20 19:16\",\n",
            "                    \"unixtime\": \"1379704603\"\n",
            "                },\n",
            "                \"subscriber\": \"0\",\n",
            "                \"type\": \"user\",\n",
            "                \"url\": \"https://www.last.fm/user/mateo1232\"\n",
            "            },\n",
            "            {\n",
            "                \"bootstrap\": \"0\",\n",
            "                \"country\": \"None\",\n",
            "                \"image\": [\n",
            "                    {\n",
            "                        \"#text\": \"https://lastfm.freetls.fastly.net/i/u/34s/9ae87427d45182ea761d97cea97d65cf.png\",\n",
            "                        \"size\": \"small\"\n",
            "                    },\n",
            "                    {\n",
            "                        \"#text\": \"https://lastfm.freetls.fastly.net/i/u/64s/9ae87427d45182ea761d97cea97d65cf.png\",\n",
            "                        \"size\": \"medium\"\n",
            "                    },\n",
            "                    {\n",
            "                        \"#text\": \"https://lastfm.freetls.fastly.net/i/u/174s/9ae87427d45182ea761d97cea97d65cf.png\",\n",
            "                        \"size\": \"large\"\n",
            "                    },\n",
            "                    {\n",
            "                        \"#text\": \"https://lastfm.freetls.fastly.net/i/u/300x300/9ae87427d45182ea761d97cea97d65cf.png\",\n",
            "                        \"size\": \"extralarge\"\n",
            "                    }\n",
            "                ],\n",
            "                \"name\": \"Labotx95\",\n",
            "                \"playcount\": \"0\",\n",
            "                \"playlists\": \"0\",\n",
            "                \"realname\": \"\",\n",
            "                \"registered\": {\n",
            "                    \"#text\": \"2021-10-26 20:57\",\n",
            "                    \"unixtime\": \"1635281872\"\n",
            "                },\n",
            "                \"subscriber\": \"0\",\n",
            "                \"type\": \"user\",\n",
            "                \"url\": \"https://www.last.fm/user/Labotx95\"\n",
            "            },\n",
            "            {\n",
            "                \"bootstrap\": \"0\",\n",
            "                \"country\": \"None\",\n",
            "                \"image\": [\n",
            "                    {\n",
            "                        \"#text\": \"https://lastfm.freetls.fastly.net/i/u/34s/ffceede49a6918d96cad8c5966e1309a.png\",\n",
            "                        \"size\": \"small\"\n",
            "                    },\n",
            "                    {\n",
            "                        \"#text\": \"https://lastfm.freetls.fastly.net/i/u/64s/ffceede49a6918d96cad8c5966e1309a.png\",\n",
            "                        \"size\": \"medium\"\n",
            "                    },\n",
            "                    {\n",
            "                        \"#text\": \"https://lastfm.freetls.fastly.net/i/u/174s/ffceede49a6918d96cad8c5966e1309a.png\",\n",
            "                        \"size\": \"large\"\n",
            "                    },\n",
            "                    {\n",
            "                        \"#text\": \"https://lastfm.freetls.fastly.net/i/u/300x300/ffceede49a6918d96cad8c5966e1309a.png\",\n",
            "                        \"size\": \"extralarge\"\n",
            "                    }\n",
            "                ],\n",
            "                \"name\": \"Kinematosis\",\n",
            "                \"playcount\": \"0\",\n",
            "                \"playlists\": \"0\",\n",
            "                \"realname\": \"\",\n",
            "                \"registered\": {\n",
            "                    \"#text\": \"2016-02-08 15:05\",\n",
            "                    \"unixtime\": \"1454943948\"\n",
            "                },\n",
            "                \"subscriber\": \"0\",\n",
            "                \"type\": \"user\",\n",
            "                \"url\": \"https://www.last.fm/user/Kinematosis\"\n",
            "            },\n",
            "            {\n",
            "                \"bootstrap\": \"0\",\n",
            "                \"country\": \"United States\",\n",
            "                \"image\": [\n",
            "                    {\n",
            "                        \"#text\": \"https://lastfm.freetls.fastly.net/i/u/34s/311cba62283a5dd7b9302865b8865d9f.png\",\n",
            "                        \"size\": \"small\"\n",
            "                    },\n",
            "                    {\n",
            "                        \"#text\": \"https://lastfm.freetls.fastly.net/i/u/64s/311cba62283a5dd7b9302865b8865d9f.png\",\n",
            "                        \"size\": \"medium\"\n",
            "                    },\n",
            "                    {\n",
            "                        \"#text\": \"https://lastfm.freetls.fastly.net/i/u/174s/311cba62283a5dd7b9302865b8865d9f.png\",\n",
            "                        \"size\": \"large\"\n",
            "                    },\n",
            "                    {\n",
            "                        \"#text\": \"https://lastfm.freetls.fastly.net/i/u/300x300/311cba62283a5dd7b9302865b8865d9f.png\",\n",
            "                        \"size\": \"extralarge\"\n",
            "                    }\n",
            "                ],\n",
            "                \"name\": \"numanuma_\",\n",
            "                \"playcount\": \"0\",\n",
            "                \"playlists\": \"0\",\n",
            "                \"realname\": \"numanuma#0009\",\n",
            "                \"registered\": {\n",
            "                    \"#text\": \"2021-11-13 05:59\",\n",
            "                    \"unixtime\": \"1636783143\"\n",
            "                },\n",
            "                \"subscriber\": \"0\",\n",
            "                \"type\": \"user\",\n",
            "                \"url\": \"https://www.last.fm/user/numanuma_\"\n",
            "            },\n",
            "            {\n",
            "                \"bootstrap\": \"0\",\n",
            "                \"country\": \"Czech Republic\",\n",
            "                \"image\": [\n",
            "                    {\n",
            "                        \"#text\": \"https://lastfm.freetls.fastly.net/i/u/34s/9d44bd751b554badcbd6ab096591d732.png\",\n",
            "                        \"size\": \"small\"\n",
            "                    },\n",
            "                    {\n",
            "                        \"#text\": \"https://lastfm.freetls.fastly.net/i/u/64s/9d44bd751b554badcbd6ab096591d732.png\",\n",
            "                        \"size\": \"medium\"\n",
            "                    },\n",
            "                    {\n",
            "                        \"#text\": \"https://lastfm.freetls.fastly.net/i/u/174s/9d44bd751b554badcbd6ab096591d732.png\",\n",
            "                        \"size\": \"large\"\n",
            "                    },\n",
            "                    {\n",
            "                        \"#text\": \"https://lastfm.freetls.fastly.net/i/u/300x300/9d44bd751b554badcbd6ab096591d732.png\",\n",
            "                        \"size\": \"extralarge\"\n",
            "                    }\n",
            "                ],\n",
            "                \"name\": \"ayawaska1\",\n",
            "                \"playcount\": \"0\",\n",
            "                \"playlists\": \"0\",\n",
            "                \"realname\": \"\",\n",
            "                \"registered\": {\n",
            "                    \"#text\": \"2012-08-01 14:13\",\n",
            "                    \"unixtime\": \"1343830383\"\n",
            "                },\n",
            "                \"subscriber\": \"0\",\n",
            "                \"type\": \"user\",\n",
            "                \"url\": \"https://www.last.fm/user/ayawaska1\"\n",
            "            },\n",
            "            {\n",
            "                \"bootstrap\": \"0\",\n",
            "                \"country\": \"United States\",\n",
            "                \"image\": [\n",
            "                    {\n",
            "                        \"#text\": \"https://lastfm.freetls.fastly.net/i/u/34s/bbb761528b356d25db8ec79c2ca92889.png\",\n",
            "                        \"size\": \"small\"\n",
            "                    },\n",
            "                    {\n",
            "                        \"#text\": \"https://lastfm.freetls.fastly.net/i/u/64s/bbb761528b356d25db8ec79c2ca92889.png\",\n",
            "                        \"size\": \"medium\"\n",
            "                    },\n",
            "                    {\n",
            "                        \"#text\": \"https://lastfm.freetls.fastly.net/i/u/174s/bbb761528b356d25db8ec79c2ca92889.png\",\n",
            "                        \"size\": \"large\"\n",
            "                    },\n",
            "                    {\n",
            "                        \"#text\": \"https://lastfm.freetls.fastly.net/i/u/300x300/bbb761528b356d25db8ec79c2ca92889.png\",\n",
            "                        \"size\": \"extralarge\"\n",
            "                    }\n",
            "                ],\n",
            "                \"name\": \"guywithaqmark\",\n",
            "                \"playcount\": \"0\",\n",
            "                \"playlists\": \"0\",\n",
            "                \"realname\": \"diego - 23/he/they/mlm/nblm\",\n",
            "                \"registered\": {\n",
            "                    \"#text\": \"2021-04-25 16:32\",\n",
            "                    \"unixtime\": \"1619368368\"\n",
            "                },\n",
            "                \"subscriber\": \"1\",\n",
            "                \"type\": \"subscriber\",\n",
            "                \"url\": \"https://www.last.fm/user/guywithaqmark\"\n",
            "            },\n",
            "            {\n",
            "                \"bootstrap\": \"0\",\n",
            "                \"country\": \"United Kingdom\",\n",
            "                \"image\": [\n",
            "                    {\n",
            "                        \"#text\": \"https://lastfm.freetls.fastly.net/i/u/34s/77a3c327a7ef89690b15f4c07feff5e0.png\",\n",
            "                        \"size\": \"small\"\n",
            "                    },\n",
            "                    {\n",
            "                        \"#text\": \"https://lastfm.freetls.fastly.net/i/u/64s/77a3c327a7ef89690b15f4c07feff5e0.png\",\n",
            "                        \"size\": \"medium\"\n",
            "                    },\n",
            "                    {\n",
            "                        \"#text\": \"https://lastfm.freetls.fastly.net/i/u/174s/77a3c327a7ef89690b15f4c07feff5e0.png\",\n",
            "                        \"size\": \"large\"\n",
            "                    },\n",
            "                    {\n",
            "                        \"#text\": \"https://lastfm.freetls.fastly.net/i/u/300x300/77a3c327a7ef89690b15f4c07feff5e0.png\",\n",
            "                        \"size\": \"extralarge\"\n",
            "                    }\n",
            "                ],\n",
            "                \"name\": \"rtasriel\",\n",
            "                \"playcount\": \"0\",\n",
            "                \"playlists\": \"0\",\n",
            "                \"realname\": \"robin \\ud83c\\udff4\",\n",
            "                \"registered\": {\n",
            "                    \"#text\": \"2022-03-03 00:29\",\n",
            "                    \"unixtime\": \"1646267359\"\n",
            "                },\n",
            "                \"subscriber\": \"1\",\n",
            "                \"type\": \"subscriber\",\n",
            "                \"url\": \"https://www.last.fm/user/rtasriel\"\n",
            "            },\n",
            "            {\n",
            "                \"bootstrap\": \"0\",\n",
            "                \"country\": \"None\",\n",
            "                \"image\": [\n",
            "                    {\n",
            "                        \"#text\": \"https://lastfm.freetls.fastly.net/i/u/34s/93418404ddd58ab3001196737e5bd8d7.png\",\n",
            "                        \"size\": \"small\"\n",
            "                    },\n",
            "                    {\n",
            "                        \"#text\": \"https://lastfm.freetls.fastly.net/i/u/64s/93418404ddd58ab3001196737e5bd8d7.png\",\n",
            "                        \"size\": \"medium\"\n",
            "                    },\n",
            "                    {\n",
            "                        \"#text\": \"https://lastfm.freetls.fastly.net/i/u/174s/93418404ddd58ab3001196737e5bd8d7.png\",\n",
            "                        \"size\": \"large\"\n",
            "                    },\n",
            "                    {\n",
            "                        \"#text\": \"https://lastfm.freetls.fastly.net/i/u/300x300/93418404ddd58ab3001196737e5bd8d7.png\",\n",
            "                        \"size\": \"extralarge\"\n",
            "                    }\n",
            "                ],\n",
            "                \"name\": \"anoond\",\n",
            "                \"playcount\": \"0\",\n",
            "                \"playlists\": \"0\",\n",
            "                \"realname\": \"cream\",\n",
            "                \"registered\": {\n",
            "                    \"#text\": \"2021-12-12 23:45\",\n",
            "                    \"unixtime\": \"1639352756\"\n",
            "                },\n",
            "                \"subscriber\": \"0\",\n",
            "                \"type\": \"user\",\n",
            "                \"url\": \"https://www.last.fm/user/anoond\"\n",
            "            },\n",
            "            {\n",
            "                \"bootstrap\": \"0\",\n",
            "                \"country\": \"United States\",\n",
            "                \"image\": [\n",
            "                    {\n",
            "                        \"#text\": \"https://lastfm.freetls.fastly.net/i/u/34s/3afba2b39431b0ebf772e605544deb92.png\",\n",
            "                        \"size\": \"small\"\n",
            "                    },\n",
            "                    {\n",
            "                        \"#text\": \"https://lastfm.freetls.fastly.net/i/u/64s/3afba2b39431b0ebf772e605544deb92.png\",\n",
            "                        \"size\": \"medium\"\n",
            "                    },\n",
            "                    {\n",
            "                        \"#text\": \"https://lastfm.freetls.fastly.net/i/u/174s/3afba2b39431b0ebf772e605544deb92.png\",\n",
            "                        \"size\": \"large\"\n",
            "                    },\n",
            "                    {\n",
            "                        \"#text\": \"https://lastfm.freetls.fastly.net/i/u/300x300/3afba2b39431b0ebf772e605544deb92.png\",\n",
            "                        \"size\": \"extralarge\"\n",
            "                    }\n",
            "                ],\n",
            "                \"name\": \"maxwellk10\",\n",
            "                \"playcount\": \"0\",\n",
            "                \"playlists\": \"0\",\n",
            "                \"realname\": \"Maxwell(\\u2018s Silver Hammer)\",\n",
            "                \"registered\": {\n",
            "                    \"#text\": \"2020-09-21 06:28\",\n",
            "                    \"unixtime\": \"1600669690\"\n",
            "                },\n",
            "                \"subscriber\": \"1\",\n",
            "                \"type\": \"subscriber\",\n",
            "                \"url\": \"https://www.last.fm/user/maxwellk10\"\n",
            "            },\n",
            "            {\n",
            "                \"bootstrap\": \"0\",\n",
            "                \"country\": \"Canada\",\n",
            "                \"image\": [\n",
            "                    {\n",
            "                        \"#text\": \"https://lastfm.freetls.fastly.net/i/u/34s/a26d30f85b052ae35cf33e75cd59034a.png\",\n",
            "                        \"size\": \"small\"\n",
            "                    },\n",
            "                    {\n",
            "                        \"#text\": \"https://lastfm.freetls.fastly.net/i/u/64s/a26d30f85b052ae35cf33e75cd59034a.png\",\n",
            "                        \"size\": \"medium\"\n",
            "                    },\n",
            "                    {\n",
            "                        \"#text\": \"https://lastfm.freetls.fastly.net/i/u/174s/a26d30f85b052ae35cf33e75cd59034a.png\",\n",
            "                        \"size\": \"large\"\n",
            "                    },\n",
            "                    {\n",
            "                        \"#text\": \"https://lastfm.freetls.fastly.net/i/u/300x300/a26d30f85b052ae35cf33e75cd59034a.png\",\n",
            "                        \"size\": \"extralarge\"\n",
            "                    }\n",
            "                ],\n",
            "                \"name\": \"weldingbrick\",\n",
            "                \"playcount\": \"0\",\n",
            "                \"playlists\": \"0\",\n",
            "                \"realname\": \"\",\n",
            "                \"registered\": {\n",
            "                    \"#text\": \"2021-03-02 18:46\",\n",
            "                    \"unixtime\": \"1614710799\"\n",
            "                },\n",
            "                \"subscriber\": \"0\",\n",
            "                \"type\": \"user\",\n",
            "                \"url\": \"https://www.last.fm/user/weldingbrick\"\n",
            "            },\n",
            "            {\n",
            "                \"bootstrap\": \"0\",\n",
            "                \"country\": \"None\",\n",
            "                \"image\": [\n",
            "                    {\n",
            "                        \"#text\": \"https://lastfm.freetls.fastly.net/i/u/34s/ec8e0d810801e48b79eed6ba34d1b14a.png\",\n",
            "                        \"size\": \"small\"\n",
            "                    },\n",
            "                    {\n",
            "                        \"#text\": \"https://lastfm.freetls.fastly.net/i/u/64s/ec8e0d810801e48b79eed6ba34d1b14a.png\",\n",
            "                        \"size\": \"medium\"\n",
            "                    },\n",
            "                    {\n",
            "                        \"#text\": \"https://lastfm.freetls.fastly.net/i/u/174s/ec8e0d810801e48b79eed6ba34d1b14a.png\",\n",
            "                        \"size\": \"large\"\n",
            "                    },\n",
            "                    {\n",
            "                        \"#text\": \"https://lastfm.freetls.fastly.net/i/u/300x300/ec8e0d810801e48b79eed6ba34d1b14a.png\",\n",
            "                        \"size\": \"extralarge\"\n",
            "                    }\n",
            "                ],\n",
            "                \"name\": \"Marz_bruh\",\n",
            "                \"playcount\": \"0\",\n",
            "                \"playlists\": \"0\",\n",
            "                \"realname\": \"Marz\",\n",
            "                \"registered\": {\n",
            "                    \"#text\": \"2021-12-02 21:56\",\n",
            "                    \"unixtime\": \"1638482174\"\n",
            "                },\n",
            "                \"subscriber\": \"0\",\n",
            "                \"type\": \"user\",\n",
            "                \"url\": \"https://www.last.fm/user/Marz_bruh\"\n",
            "            },\n",
            "            {\n",
            "                \"bootstrap\": \"0\",\n",
            "                \"country\": \"None\",\n",
            "                \"image\": [\n",
            "                    {\n",
            "                        \"#text\": \"https://lastfm.freetls.fastly.net/i/u/34s/2f9cb9182289f51863f63b6b06356bd3.png\",\n",
            "                        \"size\": \"small\"\n",
            "                    },\n",
            "                    {\n",
            "                        \"#text\": \"https://lastfm.freetls.fastly.net/i/u/64s/2f9cb9182289f51863f63b6b06356bd3.png\",\n",
            "                        \"size\": \"medium\"\n",
            "                    },\n",
            "                    {\n",
            "                        \"#text\": \"https://lastfm.freetls.fastly.net/i/u/174s/2f9cb9182289f51863f63b6b06356bd3.png\",\n",
            "                        \"size\": \"large\"\n",
            "                    },\n",
            "                    {\n",
            "                        \"#text\": \"https://lastfm.freetls.fastly.net/i/u/300x300/2f9cb9182289f51863f63b6b06356bd3.png\",\n",
            "                        \"size\": \"extralarge\"\n",
            "                    }\n",
            "                ],\n",
            "                \"name\": \"how_aud\",\n",
            "                \"playcount\": \"0\",\n",
            "                \"playlists\": \"0\",\n",
            "                \"realname\": \"audrey\",\n",
            "                \"registered\": {\n",
            "                    \"#text\": \"2021-02-06 22:19\",\n",
            "                    \"unixtime\": \"1612649955\"\n",
            "                },\n",
            "                \"subscriber\": \"1\",\n",
            "                \"type\": \"subscriber\",\n",
            "                \"url\": \"https://www.last.fm/user/how_aud\"\n",
            "            },\n",
            "            {\n",
            "                \"bootstrap\": \"0\",\n",
            "                \"country\": \"Russian Federation\",\n",
            "                \"image\": [\n",
            "                    {\n",
            "                        \"#text\": \"https://lastfm.freetls.fastly.net/i/u/34s/abca56cde23a4de8219fc8cea359fea3.png\",\n",
            "                        \"size\": \"small\"\n",
            "                    },\n",
            "                    {\n",
            "                        \"#text\": \"https://lastfm.freetls.fastly.net/i/u/64s/abca56cde23a4de8219fc8cea359fea3.png\",\n",
            "                        \"size\": \"medium\"\n",
            "                    },\n",
            "                    {\n",
            "                        \"#text\": \"https://lastfm.freetls.fastly.net/i/u/174s/abca56cde23a4de8219fc8cea359fea3.png\",\n",
            "                        \"size\": \"large\"\n",
            "                    },\n",
            "                    {\n",
            "                        \"#text\": \"https://lastfm.freetls.fastly.net/i/u/300x300/abca56cde23a4de8219fc8cea359fea3.png\",\n",
            "                        \"size\": \"extralarge\"\n",
            "                    }\n",
            "                ],\n",
            "                \"name\": \"avvisa\",\n",
            "                \"playcount\": \"0\",\n",
            "                \"playlists\": \"0\",\n",
            "                \"realname\": \"avvisa ! \\u2605\",\n",
            "                \"registered\": {\n",
            "                    \"#text\": \"2021-08-26 06:07\",\n",
            "                    \"unixtime\": \"1629958026\"\n",
            "                },\n",
            "                \"subscriber\": \"1\",\n",
            "                \"type\": \"subscriber\",\n",
            "                \"url\": \"https://www.last.fm/user/avvisa\"\n",
            "            },\n",
            "            {\n",
            "                \"bootstrap\": \"0\",\n",
            "                \"country\": \"None\",\n",
            "                \"image\": [\n",
            "                    {\n",
            "                        \"#text\": \"https://lastfm.freetls.fastly.net/i/u/34s/3d07c188e8fd40a35fa41193844c1ab1.png\",\n",
            "                        \"size\": \"small\"\n",
            "                    },\n",
            "                    {\n",
            "                        \"#text\": \"https://lastfm.freetls.fastly.net/i/u/64s/3d07c188e8fd40a35fa41193844c1ab1.png\",\n",
            "                        \"size\": \"medium\"\n",
            "                    },\n",
            "                    {\n",
            "                        \"#text\": \"https://lastfm.freetls.fastly.net/i/u/174s/3d07c188e8fd40a35fa41193844c1ab1.png\",\n",
            "                        \"size\": \"large\"\n",
            "                    },\n",
            "                    {\n",
            "                        \"#text\": \"https://lastfm.freetls.fastly.net/i/u/300x300/3d07c188e8fd40a35fa41193844c1ab1.png\",\n",
            "                        \"size\": \"extralarge\"\n",
            "                    }\n",
            "                ],\n",
            "                \"name\": \"DiegoVazquez77\",\n",
            "                \"playcount\": \"0\",\n",
            "                \"playlists\": \"0\",\n",
            "                \"realname\": \"Sisisisisisisissiissisisisisisisisisisisisisisisisisiisisisisisisisisisisisisisis\",\n",
            "                \"registered\": {\n",
            "                    \"#text\": \"2016-06-18 19:49\",\n",
            "                    \"unixtime\": \"1466279394\"\n",
            "                },\n",
            "                \"subscriber\": \"0\",\n",
            "                \"type\": \"user\",\n",
            "                \"url\": \"https://www.last.fm/user/DiegoVazquez77\"\n",
            "            },\n",
            "            {\n",
            "                \"bootstrap\": \"0\",\n",
            "                \"country\": \"Korea, Republic of\",\n",
            "                \"image\": [\n",
            "                    {\n",
            "                        \"#text\": \"https://lastfm.freetls.fastly.net/i/u/34s/006f22e85eda9f7454a94ad7ca332e96.png\",\n",
            "                        \"size\": \"small\"\n",
            "                    },\n",
            "                    {\n",
            "                        \"#text\": \"https://lastfm.freetls.fastly.net/i/u/64s/006f22e85eda9f7454a94ad7ca332e96.png\",\n",
            "                        \"size\": \"medium\"\n",
            "                    },\n",
            "                    {\n",
            "                        \"#text\": \"https://lastfm.freetls.fastly.net/i/u/174s/006f22e85eda9f7454a94ad7ca332e96.png\",\n",
            "                        \"size\": \"large\"\n",
            "                    },\n",
            "                    {\n",
            "                        \"#text\": \"https://lastfm.freetls.fastly.net/i/u/300x300/006f22e85eda9f7454a94ad7ca332e96.png\",\n",
            "                        \"size\": \"extralarge\"\n",
            "                    }\n",
            "                ],\n",
            "                \"name\": \"CookieHoliday\",\n",
            "                \"playcount\": \"0\",\n",
            "                \"playlists\": \"0\",\n",
            "                \"realname\": \"Poo\",\n",
            "                \"registered\": {\n",
            "                    \"#text\": \"2009-06-03 16:34\",\n",
            "                    \"unixtime\": \"1244046875\"\n",
            "                },\n",
            "                \"subscriber\": \"1\",\n",
            "                \"type\": \"subscriber\",\n",
            "                \"url\": \"https://www.last.fm/user/CookieHoliday\"\n",
            "            },\n",
            "            {\n",
            "                \"bootstrap\": \"0\",\n",
            "                \"country\": \"Spain\",\n",
            "                \"image\": [\n",
            "                    {\n",
            "                        \"#text\": \"https://lastfm.freetls.fastly.net/i/u/34s/0fcbe882a87521ecb838c6bed247f3ab.png\",\n",
            "                        \"size\": \"small\"\n",
            "                    },\n",
            "                    {\n",
            "                        \"#text\": \"https://lastfm.freetls.fastly.net/i/u/64s/0fcbe882a87521ecb838c6bed247f3ab.png\",\n",
            "                        \"size\": \"medium\"\n",
            "                    },\n",
            "                    {\n",
            "                        \"#text\": \"https://lastfm.freetls.fastly.net/i/u/174s/0fcbe882a87521ecb838c6bed247f3ab.png\",\n",
            "                        \"size\": \"large\"\n",
            "                    },\n",
            "                    {\n",
            "                        \"#text\": \"https://lastfm.freetls.fastly.net/i/u/300x300/0fcbe882a87521ecb838c6bed247f3ab.png\",\n",
            "                        \"size\": \"extralarge\"\n",
            "                    }\n",
            "                ],\n",
            "                \"name\": \"pxrea\",\n",
            "                \"playcount\": \"0\",\n",
            "                \"playlists\": \"0\",\n",
            "                \"realname\": \"perea\",\n",
            "                \"registered\": {\n",
            "                    \"#text\": \"2017-12-18 23:02\",\n",
            "                    \"unixtime\": \"1513638142\"\n",
            "                },\n",
            "                \"subscriber\": \"1\",\n",
            "                \"type\": \"subscriber\",\n",
            "                \"url\": \"https://www.last.fm/user/pxrea\"\n",
            "            },\n",
            "            {\n",
            "                \"bootstrap\": \"0\",\n",
            "                \"country\": \"Italy\",\n",
            "                \"image\": [\n",
            "                    {\n",
            "                        \"#text\": \"https://lastfm.freetls.fastly.net/i/u/34s/cf61414ec47ac951368cfafc62f98541.png\",\n",
            "                        \"size\": \"small\"\n",
            "                    },\n",
            "                    {\n",
            "                        \"#text\": \"https://lastfm.freetls.fastly.net/i/u/64s/cf61414ec47ac951368cfafc62f98541.png\",\n",
            "                        \"size\": \"medium\"\n",
            "                    },\n",
            "                    {\n",
            "                        \"#text\": \"https://lastfm.freetls.fastly.net/i/u/174s/cf61414ec47ac951368cfafc62f98541.png\",\n",
            "                        \"size\": \"large\"\n",
            "                    },\n",
            "                    {\n",
            "                        \"#text\": \"https://lastfm.freetls.fastly.net/i/u/300x300/cf61414ec47ac951368cfafc62f98541.png\",\n",
            "                        \"size\": \"extralarge\"\n",
            "                    }\n",
            "                ],\n",
            "                \"name\": \"kt3301\",\n",
            "                \"playcount\": \"0\",\n",
            "                \"playlists\": \"0\",\n",
            "                \"realname\": \"\",\n",
            "                \"registered\": {\n",
            "                    \"#text\": \"2022-02-14 13:02\",\n",
            "                    \"unixtime\": \"1644843773\"\n",
            "                },\n",
            "                \"subscriber\": \"0\",\n",
            "                \"type\": \"user\",\n",
            "                \"url\": \"https://www.last.fm/user/kt3301\"\n",
            "            },\n",
            "            {\n",
            "                \"bootstrap\": \"0\",\n",
            "                \"country\": \"None\",\n",
            "                \"image\": [\n",
            "                    {\n",
            "                        \"#text\": \"\",\n",
            "                        \"size\": \"small\"\n",
            "                    },\n",
            "                    {\n",
            "                        \"#text\": \"\",\n",
            "                        \"size\": \"medium\"\n",
            "                    },\n",
            "                    {\n",
            "                        \"#text\": \"\",\n",
            "                        \"size\": \"large\"\n",
            "                    },\n",
            "                    {\n",
            "                        \"#text\": \"\",\n",
            "                        \"size\": \"extralarge\"\n",
            "                    }\n",
            "                ],\n",
            "                \"name\": \"Anonymousmov\",\n",
            "                \"playcount\": \"0\",\n",
            "                \"playlists\": \"0\",\n",
            "                \"realname\": \"DSM\",\n",
            "                \"registered\": {\n",
            "                    \"#text\": \"2022-06-18 13:31\",\n",
            "                    \"unixtime\": \"1655559084\"\n",
            "                },\n",
            "                \"subscriber\": \"0\",\n",
            "                \"type\": \"user\",\n",
            "                \"url\": \"https://www.last.fm/user/Anonymousmov\"\n",
            "            },\n",
            "            {\n",
            "                \"bootstrap\": \"0\",\n",
            "                \"country\": \"Brazil\",\n",
            "                \"image\": [\n",
            "                    {\n",
            "                        \"#text\": \"https://lastfm.freetls.fastly.net/i/u/34s/3faf6fd65fcb2ff46d159e375b36c2ff.png\",\n",
            "                        \"size\": \"small\"\n",
            "                    },\n",
            "                    {\n",
            "                        \"#text\": \"https://lastfm.freetls.fastly.net/i/u/64s/3faf6fd65fcb2ff46d159e375b36c2ff.png\",\n",
            "                        \"size\": \"medium\"\n",
            "                    },\n",
            "                    {\n",
            "                        \"#text\": \"https://lastfm.freetls.fastly.net/i/u/174s/3faf6fd65fcb2ff46d159e375b36c2ff.png\",\n",
            "                        \"size\": \"large\"\n",
            "                    },\n",
            "                    {\n",
            "                        \"#text\": \"https://lastfm.freetls.fastly.net/i/u/300x300/3faf6fd65fcb2ff46d159e375b36c2ff.png\",\n",
            "                        \"size\": \"extralarge\"\n",
            "                    }\n",
            "                ],\n",
            "                \"name\": \"PHChronos\",\n",
            "                \"playcount\": \"0\",\n",
            "                \"playlists\": \"0\",\n",
            "                \"realname\": \"PAULO HENRIQUE\",\n",
            "                \"registered\": {\n",
            "                    \"#text\": \"2021-11-12 19:00\",\n",
            "                    \"unixtime\": \"1636743620\"\n",
            "                },\n",
            "                \"subscriber\": \"0\",\n",
            "                \"type\": \"user\",\n",
            "                \"url\": \"https://www.last.fm/user/PHChronos\"\n",
            "            },\n",
            "            {\n",
            "                \"bootstrap\": \"0\",\n",
            "                \"country\": \"None\",\n",
            "                \"image\": [\n",
            "                    {\n",
            "                        \"#text\": \"https://lastfm.freetls.fastly.net/i/u/34s/534118ce289851629e8b75ce60875049.png\",\n",
            "                        \"size\": \"small\"\n",
            "                    },\n",
            "                    {\n",
            "                        \"#text\": \"https://lastfm.freetls.fastly.net/i/u/64s/534118ce289851629e8b75ce60875049.png\",\n",
            "                        \"size\": \"medium\"\n",
            "                    },\n",
            "                    {\n",
            "                        \"#text\": \"https://lastfm.freetls.fastly.net/i/u/174s/534118ce289851629e8b75ce60875049.png\",\n",
            "                        \"size\": \"large\"\n",
            "                    },\n",
            "                    {\n",
            "                        \"#text\": \"https://lastfm.freetls.fastly.net/i/u/300x300/534118ce289851629e8b75ce60875049.png\",\n",
            "                        \"size\": \"extralarge\"\n",
            "                    }\n",
            "                ],\n",
            "                \"name\": \"Kid_aw\",\n",
            "                \"playcount\": \"0\",\n",
            "                \"playlists\": \"0\",\n",
            "                \"realname\": \"\",\n",
            "                \"registered\": {\n",
            "                    \"#text\": \"2022-07-19 23:15\",\n",
            "                    \"unixtime\": \"1658272558\"\n",
            "                },\n",
            "                \"subscriber\": \"0\",\n",
            "                \"type\": \"user\",\n",
            "                \"url\": \"https://www.last.fm/user/Kid_aw\"\n",
            "            },\n",
            "            {\n",
            "                \"bootstrap\": \"0\",\n",
            "                \"country\": \"Brazil\",\n",
            "                \"image\": [\n",
            "                    {\n",
            "                        \"#text\": \"https://lastfm.freetls.fastly.net/i/u/34s/aca88cb5be9c81ace0385fef463b2f3b.png\",\n",
            "                        \"size\": \"small\"\n",
            "                    },\n",
            "                    {\n",
            "                        \"#text\": \"https://lastfm.freetls.fastly.net/i/u/64s/aca88cb5be9c81ace0385fef463b2f3b.png\",\n",
            "                        \"size\": \"medium\"\n",
            "                    },\n",
            "                    {\n",
            "                        \"#text\": \"https://lastfm.freetls.fastly.net/i/u/174s/aca88cb5be9c81ace0385fef463b2f3b.png\",\n",
            "                        \"size\": \"large\"\n",
            "                    },\n",
            "                    {\n",
            "                        \"#text\": \"https://lastfm.freetls.fastly.net/i/u/300x300/aca88cb5be9c81ace0385fef463b2f3b.png\",\n",
            "                        \"size\": \"extralarge\"\n",
            "                    }\n",
            "                ],\n",
            "                \"name\": \"smelltoxic\",\n",
            "                \"playcount\": \"0\",\n",
            "                \"playlists\": \"0\",\n",
            "                \"realname\": \"kaue\",\n",
            "                \"registered\": {\n",
            "                    \"#text\": \"2016-10-12 16:52\",\n",
            "                    \"unixtime\": \"1476291152\"\n",
            "                },\n",
            "                \"subscriber\": \"0\",\n",
            "                \"type\": \"user\",\n",
            "                \"url\": \"https://www.last.fm/user/smelltoxic\"\n",
            "            },\n",
            "            {\n",
            "                \"bootstrap\": \"0\",\n",
            "                \"country\": \"Greece\",\n",
            "                \"image\": [\n",
            "                    {\n",
            "                        \"#text\": \"https://lastfm.freetls.fastly.net/i/u/34s/04afcac1c1de12902cc2bac1ac1f13a9.png\",\n",
            "                        \"size\": \"small\"\n",
            "                    },\n",
            "                    {\n",
            "                        \"#text\": \"https://lastfm.freetls.fastly.net/i/u/64s/04afcac1c1de12902cc2bac1ac1f13a9.png\",\n",
            "                        \"size\": \"medium\"\n",
            "                    },\n",
            "                    {\n",
            "                        \"#text\": \"https://lastfm.freetls.fastly.net/i/u/174s/04afcac1c1de12902cc2bac1ac1f13a9.png\",\n",
            "                        \"size\": \"large\"\n",
            "                    },\n",
            "                    {\n",
            "                        \"#text\": \"https://lastfm.freetls.fastly.net/i/u/300x300/04afcac1c1de12902cc2bac1ac1f13a9.png\",\n",
            "                        \"size\": \"extralarge\"\n",
            "                    }\n",
            "                ],\n",
            "                \"name\": \"iwnaras\",\n",
            "                \"playcount\": \"0\",\n",
            "                \"playlists\": \"0\",\n",
            "                \"realname\": \"iwnaras\",\n",
            "                \"registered\": {\n",
            "                    \"#text\": \"2021-04-21 13:50\",\n",
            "                    \"unixtime\": \"1619013030\"\n",
            "                },\n",
            "                \"subscriber\": \"0\",\n",
            "                \"type\": \"user\",\n",
            "                \"url\": \"https://www.last.fm/user/iwnaras\"\n",
            "            },\n",
            "            {\n",
            "                \"bootstrap\": \"0\",\n",
            "                \"country\": \"None\",\n",
            "                \"image\": [\n",
            "                    {\n",
            "                        \"#text\": \"https://lastfm.freetls.fastly.net/i/u/34s/f674e5b70b9c209c33bbdea6350edda5.png\",\n",
            "                        \"size\": \"small\"\n",
            "                    },\n",
            "                    {\n",
            "                        \"#text\": \"https://lastfm.freetls.fastly.net/i/u/64s/f674e5b70b9c209c33bbdea6350edda5.png\",\n",
            "                        \"size\": \"medium\"\n",
            "                    },\n",
            "                    {\n",
            "                        \"#text\": \"https://lastfm.freetls.fastly.net/i/u/174s/f674e5b70b9c209c33bbdea6350edda5.png\",\n",
            "                        \"size\": \"large\"\n",
            "                    },\n",
            "                    {\n",
            "                        \"#text\": \"https://lastfm.freetls.fastly.net/i/u/300x300/f674e5b70b9c209c33bbdea6350edda5.png\",\n",
            "                        \"size\": \"extralarge\"\n",
            "                    }\n",
            "                ],\n",
            "                \"name\": \"Hay-zel\",\n",
            "                \"playcount\": \"0\",\n",
            "                \"playlists\": \"0\",\n",
            "                \"realname\": \"Hazel\",\n",
            "                \"registered\": {\n",
            "                    \"#text\": \"2022-03-12 03:13\",\n",
            "                    \"unixtime\": \"1647054825\"\n",
            "                },\n",
            "                \"subscriber\": \"0\",\n",
            "                \"type\": \"user\",\n",
            "                \"url\": \"https://www.last.fm/user/Hay-zel\"\n",
            "            },\n",
            "            {\n",
            "                \"bootstrap\": \"0\",\n",
            "                \"country\": \"Mexico\",\n",
            "                \"image\": [\n",
            "                    {\n",
            "                        \"#text\": \"https://lastfm.freetls.fastly.net/i/u/34s/e9adc5ac41af90ed6e5c99f9db0cb1a7.png\",\n",
            "                        \"size\": \"small\"\n",
            "                    },\n",
            "                    {\n",
            "                        \"#text\": \"https://lastfm.freetls.fastly.net/i/u/64s/e9adc5ac41af90ed6e5c99f9db0cb1a7.png\",\n",
            "                        \"size\": \"medium\"\n",
            "                    },\n",
            "                    {\n",
            "                        \"#text\": \"https://lastfm.freetls.fastly.net/i/u/174s/e9adc5ac41af90ed6e5c99f9db0cb1a7.png\",\n",
            "                        \"size\": \"large\"\n",
            "                    },\n",
            "                    {\n",
            "                        \"#text\": \"https://lastfm.freetls.fastly.net/i/u/300x300/e9adc5ac41af90ed6e5c99f9db0cb1a7.png\",\n",
            "                        \"size\": \"extralarge\"\n",
            "                    }\n",
            "                ],\n",
            "                \"name\": \"davxpr\",\n",
            "                \"playcount\": \"0\",\n",
            "                \"playlists\": \"0\",\n",
            "                \"realname\": \"David\",\n",
            "                \"registered\": {\n",
            "                    \"#text\": \"2008-03-22 01:22\",\n",
            "                    \"unixtime\": \"1206148936\"\n",
            "                },\n",
            "                \"subscriber\": \"0\",\n",
            "                \"type\": \"user\",\n",
            "                \"url\": \"https://www.last.fm/user/davxpr\"\n",
            "            },\n",
            "            {\n",
            "                \"bootstrap\": \"0\",\n",
            "                \"country\": \"Chile\",\n",
            "                \"image\": [\n",
            "                    {\n",
            "                        \"#text\": \"https://lastfm.freetls.fastly.net/i/u/34s/63211ed590ec7373172d93a4fadf3614.png\",\n",
            "                        \"size\": \"small\"\n",
            "                    },\n",
            "                    {\n",
            "                        \"#text\": \"https://lastfm.freetls.fastly.net/i/u/64s/63211ed590ec7373172d93a4fadf3614.png\",\n",
            "                        \"size\": \"medium\"\n",
            "                    },\n",
            "                    {\n",
            "                        \"#text\": \"https://lastfm.freetls.fastly.net/i/u/174s/63211ed590ec7373172d93a4fadf3614.png\",\n",
            "                        \"size\": \"large\"\n",
            "                    },\n",
            "                    {\n",
            "                        \"#text\": \"https://lastfm.freetls.fastly.net/i/u/300x300/63211ed590ec7373172d93a4fadf3614.png\",\n",
            "                        \"size\": \"extralarge\"\n",
            "                    }\n",
            "                ],\n",
            "                \"name\": \"AllanZone\",\n",
            "                \"playcount\": \"0\",\n",
            "                \"playlists\": \"0\",\n",
            "                \"realname\": \"GG4llan\",\n",
            "                \"registered\": {\n",
            "                    \"#text\": \"2011-07-16 01:12\",\n",
            "                    \"unixtime\": \"1310778769\"\n",
            "                },\n",
            "                \"subscriber\": \"0\",\n",
            "                \"type\": \"user\",\n",
            "                \"url\": \"https://www.last.fm/user/AllanZone\"\n",
            "            },\n",
            "            {\n",
            "                \"bootstrap\": \"0\",\n",
            "                \"country\": \"None\",\n",
            "                \"image\": [\n",
            "                    {\n",
            "                        \"#text\": \"https://lastfm.freetls.fastly.net/i/u/34s/f156c7d557597340c3a33b20b1ceed06.png\",\n",
            "                        \"size\": \"small\"\n",
            "                    },\n",
            "                    {\n",
            "                        \"#text\": \"https://lastfm.freetls.fastly.net/i/u/64s/f156c7d557597340c3a33b20b1ceed06.png\",\n",
            "                        \"size\": \"medium\"\n",
            "                    },\n",
            "                    {\n",
            "                        \"#text\": \"https://lastfm.freetls.fastly.net/i/u/174s/f156c7d557597340c3a33b20b1ceed06.png\",\n",
            "                        \"size\": \"large\"\n",
            "                    },\n",
            "                    {\n",
            "                        \"#text\": \"https://lastfm.freetls.fastly.net/i/u/300x300/f156c7d557597340c3a33b20b1ceed06.png\",\n",
            "                        \"size\": \"extralarge\"\n",
            "                    }\n",
            "                ],\n",
            "                \"name\": \"testtype02\",\n",
            "                \"playcount\": \"0\",\n",
            "                \"playlists\": \"0\",\n",
            "                \"realname\": \"\",\n",
            "                \"registered\": {\n",
            "                    \"#text\": \"2020-03-30 21:44\",\n",
            "                    \"unixtime\": \"1585604650\"\n",
            "                },\n",
            "                \"subscriber\": \"0\",\n",
            "                \"type\": \"user\",\n",
            "                \"url\": \"https://www.last.fm/user/testtype02\"\n",
            "            },\n",
            "            {\n",
            "                \"bootstrap\": \"0\",\n",
            "                \"country\": \"None\",\n",
            "                \"image\": [\n",
            "                    {\n",
            "                        \"#text\": \"https://lastfm.freetls.fastly.net/i/u/34s/efd34c81583a86bd2e115c3e0f6f7952.png\",\n",
            "                        \"size\": \"small\"\n",
            "                    },\n",
            "                    {\n",
            "                        \"#text\": \"https://lastfm.freetls.fastly.net/i/u/64s/efd34c81583a86bd2e115c3e0f6f7952.png\",\n",
            "                        \"size\": \"medium\"\n",
            "                    },\n",
            "                    {\n",
            "                        \"#text\": \"https://lastfm.freetls.fastly.net/i/u/174s/efd34c81583a86bd2e115c3e0f6f7952.png\",\n",
            "                        \"size\": \"large\"\n",
            "                    },\n",
            "                    {\n",
            "                        \"#text\": \"https://lastfm.freetls.fastly.net/i/u/300x300/efd34c81583a86bd2e115c3e0f6f7952.png\",\n",
            "                        \"size\": \"extralarge\"\n",
            "                    }\n",
            "                ],\n",
            "                \"name\": \"semihcc\",\n",
            "                \"playcount\": \"0\",\n",
            "                \"playlists\": \"0\",\n",
            "                \"realname\": \"\",\n",
            "                \"registered\": {\n",
            "                    \"#text\": \"2021-10-09 21:01\",\n",
            "                    \"unixtime\": \"1633813302\"\n",
            "                },\n",
            "                \"subscriber\": \"0\",\n",
            "                \"type\": \"user\",\n",
            "                \"url\": \"https://www.last.fm/user/semihcc\"\n",
            "            },\n",
            "            {\n",
            "                \"bootstrap\": \"0\",\n",
            "                \"country\": \"United States\",\n",
            "                \"image\": [\n",
            "                    {\n",
            "                        \"#text\": \"https://lastfm.freetls.fastly.net/i/u/34s/83c88898bb34d5d280fff101c5486060.png\",\n",
            "                        \"size\": \"small\"\n",
            "                    },\n",
            "                    {\n",
            "                        \"#text\": \"https://lastfm.freetls.fastly.net/i/u/64s/83c88898bb34d5d280fff101c5486060.png\",\n",
            "                        \"size\": \"medium\"\n",
            "                    },\n",
            "                    {\n",
            "                        \"#text\": \"https://lastfm.freetls.fastly.net/i/u/174s/83c88898bb34d5d280fff101c5486060.png\",\n",
            "                        \"size\": \"large\"\n",
            "                    },\n",
            "                    {\n",
            "                        \"#text\": \"https://lastfm.freetls.fastly.net/i/u/300x300/83c88898bb34d5d280fff101c5486060.png\",\n",
            "                        \"size\": \"extralarge\"\n",
            "                    }\n",
            "                ],\n",
            "                \"name\": \"mudkipi\",\n",
            "                \"playcount\": \"0\",\n",
            "                \"playlists\": \"0\",\n",
            "                \"realname\": \"Ken (I'm still a proud member of the Cult of Boognish.)\",\n",
            "                \"registered\": {\n",
            "                    \"#text\": \"2021-09-01 18:46\",\n",
            "                    \"unixtime\": \"1630521960\"\n",
            "                },\n",
            "                \"subscriber\": \"0\",\n",
            "                \"type\": \"user\",\n",
            "                \"url\": \"https://www.last.fm/user/mudkipi\"\n",
            "            },\n",
            "            {\n",
            "                \"bootstrap\": \"0\",\n",
            "                \"country\": \"None\",\n",
            "                \"image\": [\n",
            "                    {\n",
            "                        \"#text\": \"https://lastfm.freetls.fastly.net/i/u/34s/2328c062ec890c10350f098020042d46.png\",\n",
            "                        \"size\": \"small\"\n",
            "                    },\n",
            "                    {\n",
            "                        \"#text\": \"https://lastfm.freetls.fastly.net/i/u/64s/2328c062ec890c10350f098020042d46.png\",\n",
            "                        \"size\": \"medium\"\n",
            "                    },\n",
            "                    {\n",
            "                        \"#text\": \"https://lastfm.freetls.fastly.net/i/u/174s/2328c062ec890c10350f098020042d46.png\",\n",
            "                        \"size\": \"large\"\n",
            "                    },\n",
            "                    {\n",
            "                        \"#text\": \"https://lastfm.freetls.fastly.net/i/u/300x300/2328c062ec890c10350f098020042d46.png\",\n",
            "                        \"size\": \"extralarge\"\n",
            "                    }\n",
            "                ],\n",
            "                \"name\": \"sapphicasf\",\n",
            "                \"playcount\": \"0\",\n",
            "                \"playlists\": \"0\",\n",
            "                \"realname\": \"eda :)\",\n",
            "                \"registered\": {\n",
            "                    \"#text\": \"2021-04-23 14:22\",\n",
            "                    \"unixtime\": \"1619187744\"\n",
            "                },\n",
            "                \"subscriber\": \"0\",\n",
            "                \"type\": \"user\",\n",
            "                \"url\": \"https://www.last.fm/user/sapphicasf\"\n",
            "            },\n",
            "            {\n",
            "                \"bootstrap\": \"0\",\n",
            "                \"country\": \"None\",\n",
            "                \"image\": [\n",
            "                    {\n",
            "                        \"#text\": \"https://lastfm.freetls.fastly.net/i/u/34s/5de545c2454ca9d9b491366e9347abcf.png\",\n",
            "                        \"size\": \"small\"\n",
            "                    },\n",
            "                    {\n",
            "                        \"#text\": \"https://lastfm.freetls.fastly.net/i/u/64s/5de545c2454ca9d9b491366e9347abcf.png\",\n",
            "                        \"size\": \"medium\"\n",
            "                    },\n",
            "                    {\n",
            "                        \"#text\": \"https://lastfm.freetls.fastly.net/i/u/174s/5de545c2454ca9d9b491366e9347abcf.png\",\n",
            "                        \"size\": \"large\"\n",
            "                    },\n",
            "                    {\n",
            "                        \"#text\": \"https://lastfm.freetls.fastly.net/i/u/300x300/5de545c2454ca9d9b491366e9347abcf.png\",\n",
            "                        \"size\": \"extralarge\"\n",
            "                    }\n",
            "                ],\n",
            "                \"name\": \"emabelickova\",\n",
            "                \"playcount\": \"0\",\n",
            "                \"playlists\": \"0\",\n",
            "                \"realname\": \"emusq:3\",\n",
            "                \"registered\": {\n",
            "                    \"#text\": \"2020-11-14 11:09\",\n",
            "                    \"unixtime\": \"1605352188\"\n",
            "                },\n",
            "                \"subscriber\": \"0\",\n",
            "                \"type\": \"user\",\n",
            "                \"url\": \"https://www.last.fm/user/emabelickova\"\n",
            "            },\n",
            "            {\n",
            "                \"bootstrap\": \"0\",\n",
            "                \"country\": \"None\",\n",
            "                \"image\": [\n",
            "                    {\n",
            "                        \"#text\": \"https://lastfm.freetls.fastly.net/i/u/34s/310daae5c027af4d907e154865b95f38.png\",\n",
            "                        \"size\": \"small\"\n",
            "                    },\n",
            "                    {\n",
            "                        \"#text\": \"https://lastfm.freetls.fastly.net/i/u/64s/310daae5c027af4d907e154865b95f38.png\",\n",
            "                        \"size\": \"medium\"\n",
            "                    },\n",
            "                    {\n",
            "                        \"#text\": \"https://lastfm.freetls.fastly.net/i/u/174s/310daae5c027af4d907e154865b95f38.png\",\n",
            "                        \"size\": \"large\"\n",
            "                    },\n",
            "                    {\n",
            "                        \"#text\": \"https://lastfm.freetls.fastly.net/i/u/300x300/310daae5c027af4d907e154865b95f38.png\",\n",
            "                        \"size\": \"extralarge\"\n",
            "                    }\n",
            "                ],\n",
            "                \"name\": \"LuisPaez02\",\n",
            "                \"playcount\": \"0\",\n",
            "                \"playlists\": \"0\",\n",
            "                \"realname\": \"\",\n",
            "                \"registered\": {\n",
            "                    \"#text\": \"2022-04-19 06:10\",\n",
            "                    \"unixtime\": \"1650348654\"\n",
            "                },\n",
            "                \"subscriber\": \"0\",\n",
            "                \"type\": \"user\",\n",
            "                \"url\": \"https://www.last.fm/user/LuisPaez02\"\n",
            "            },\n",
            "            {\n",
            "                \"bootstrap\": \"0\",\n",
            "                \"country\": \"Chile\",\n",
            "                \"image\": [\n",
            "                    {\n",
            "                        \"#text\": \"https://lastfm.freetls.fastly.net/i/u/34s/f5d751f439f0848e3a59606a31d3190f.png\",\n",
            "                        \"size\": \"small\"\n",
            "                    },\n",
            "                    {\n",
            "                        \"#text\": \"https://lastfm.freetls.fastly.net/i/u/64s/f5d751f439f0848e3a59606a31d3190f.png\",\n",
            "                        \"size\": \"medium\"\n",
            "                    },\n",
            "                    {\n",
            "                        \"#text\": \"https://lastfm.freetls.fastly.net/i/u/174s/f5d751f439f0848e3a59606a31d3190f.png\",\n",
            "                        \"size\": \"large\"\n",
            "                    },\n",
            "                    {\n",
            "                        \"#text\": \"https://lastfm.freetls.fastly.net/i/u/300x300/f5d751f439f0848e3a59606a31d3190f.png\",\n",
            "                        \"size\": \"extralarge\"\n",
            "                    }\n",
            "                ],\n",
            "                \"name\": \"AbelgodXOTWOD\",\n",
            "                \"playcount\": \"0\",\n",
            "                \"playlists\": \"0\",\n",
            "                \"realname\": \"\",\n",
            "                \"registered\": {\n",
            "                    \"#text\": \"2021-12-05 07:58\",\n",
            "                    \"unixtime\": \"1638691139\"\n",
            "                },\n",
            "                \"subscriber\": \"0\",\n",
            "                \"type\": \"user\",\n",
            "                \"url\": \"https://www.last.fm/user/AbelgodXOTWOD\"\n",
            "            },\n",
            "            {\n",
            "                \"bootstrap\": \"0\",\n",
            "                \"country\": \"Chile\",\n",
            "                \"image\": [\n",
            "                    {\n",
            "                        \"#text\": \"https://lastfm.freetls.fastly.net/i/u/34s/3b6cd93d411e6f5cbe44607b89f5900e.png\",\n",
            "                        \"size\": \"small\"\n",
            "                    },\n",
            "                    {\n",
            "                        \"#text\": \"https://lastfm.freetls.fastly.net/i/u/64s/3b6cd93d411e6f5cbe44607b89f5900e.png\",\n",
            "                        \"size\": \"medium\"\n",
            "                    },\n",
            "                    {\n",
            "                        \"#text\": \"https://lastfm.freetls.fastly.net/i/u/174s/3b6cd93d411e6f5cbe44607b89f5900e.png\",\n",
            "                        \"size\": \"large\"\n",
            "                    },\n",
            "                    {\n",
            "                        \"#text\": \"https://lastfm.freetls.fastly.net/i/u/300x300/3b6cd93d411e6f5cbe44607b89f5900e.png\",\n",
            "                        \"size\": \"extralarge\"\n",
            "                    }\n",
            "                ],\n",
            "                \"name\": \"deicidios\",\n",
            "                \"playcount\": \"0\",\n",
            "                \"playlists\": \"0\",\n",
            "                \"realname\": \"Javiera\",\n",
            "                \"registered\": {\n",
            "                    \"#text\": \"2013-12-21 22:13\",\n",
            "                    \"unixtime\": \"1387664030\"\n",
            "                },\n",
            "                \"subscriber\": \"0\",\n",
            "                \"type\": \"user\",\n",
            "                \"url\": \"https://www.last.fm/user/deicidios\"\n",
            "            }\n",
            "        ]\n",
            "    }\n",
            "}\n"
          ]
        }
      ],
      "source": [
        "jprint(user_getfriends_data.json())"
      ]
    },
    {
      "cell_type": "code",
      "execution_count": 56,
      "metadata": {
        "colab": {
          "base_uri": "https://localhost:8080/"
        },
        "id": "HXFJe0lV11zR",
        "outputId": "fdcd037b-23bd-43b8-c425-c37c18221f62"
      },
      "outputs": [
        {
          "name": "stdout",
          "output_type": "stream",
          "text": [
            "\"hikamu\"\n"
          ]
        }
      ],
      "source": [
        "jprint(user_getfriends_data.json()['friends']['user'][0]['name'])"
      ]
    },
    {
      "cell_type": "code",
      "execution_count": 57,
      "metadata": {
        "colab": {
          "base_uri": "https://localhost:8080/",
          "height": 164
        },
        "id": "D19O80O5Z8nn",
        "outputId": "6ff1b98d-b791-4db6-a77a-8bb47100d85c"
      },
      "outputs": [
        {
          "ename": "TypeError",
          "evalue": "ignored",
          "output_type": "error",
          "traceback": [
            "\u001b[0;31m---------------------------------------------------------------------------\u001b[0m",
            "\u001b[0;31mTypeError\u001b[0m                                 Traceback (most recent call last)",
            "\u001b[0;32m<ipython-input-57-2e24fc2937f4>\u001b[0m in \u001b[0;36m<module>\u001b[0;34m\u001b[0m\n\u001b[0;32m----> 1\u001b[0;31m \u001b[0mjprint\u001b[0m\u001b[0;34m(\u001b[0m\u001b[0muser_gettopalbum_data\u001b[0m\u001b[0;34m.\u001b[0m\u001b[0mjson\u001b[0m\u001b[0;34m(\u001b[0m\u001b[0;34m)\u001b[0m\u001b[0;34m[\u001b[0m\u001b[0;34m'topalbums'\u001b[0m\u001b[0;34m]\u001b[0m\u001b[0;34m[\u001b[0m\u001b[0;34m'album'\u001b[0m\u001b[0;34m]\u001b[0m\u001b[0;34m[\u001b[0m\u001b[0;34m'name'\u001b[0m\u001b[0;34m]\u001b[0m\u001b[0;34m)\u001b[0m\u001b[0;34m\u001b[0m\u001b[0;34m\u001b[0m\u001b[0m\n\u001b[0m",
            "\u001b[0;31mTypeError\u001b[0m: list indices must be integers or slices, not str"
          ]
        }
      ],
      "source": [
        "# jprint(user_gettopalbum_data.json()['topalbums']['album']['name'])"
      ]
    },
    {
      "cell_type": "code",
      "execution_count": null,
      "metadata": {
        "id": "wCOHiNdtDRZF"
      },
      "outputs": [],
      "source": [
        "jprint(user_gettopalbum_data.json())"
      ]
    },
    {
      "cell_type": "code",
      "execution_count": null,
      "metadata": {
        "id": "eF3WEeRrbd48"
      },
      "outputs": [],
      "source": [
        "# jprint(user_gettopalbum_data.json()['topalbums']['album'][0]['name'])\n",
        "# jprint(user_gettopalbum_data.json()['topalbums']['album'][0]['playcount'])"
      ]
    },
    {
      "cell_type": "code",
      "execution_count": null,
      "metadata": {
        "id": "VV62WGxkgoj1"
      },
      "outputs": [],
      "source": [
        "# print(user_gettopalbum_data.json()['topalbums']['album'][0]['name'])\n",
        "# print(user_gettopalbum_data.json()['topalbums']['album'][0]['playcount'])"
      ]
    },
    {
      "cell_type": "code",
      "execution_count": 63,
      "metadata": {
        "id": "0N7qsdXD7AWT"
      },
      "outputs": [],
      "source": [
        "def get_user_friends():\n",
        "\n",
        "    friends_names = []\n",
        "\n",
        "    for friend in user_getfriends_data.json()['friends']['user']:\n",
        "\n",
        "        name = friend.get('name')\n",
        "\n",
        "        friends_names.append(name)\n",
        "\n",
        "    return friends_names"
      ]
    },
    {
      "cell_type": "code",
      "execution_count": 64,
      "metadata": {
        "id": "3R7lhNYn7pyP"
      },
      "outputs": [],
      "source": [
        "friend_names = get_user_friends()"
      ]
    },
    {
      "cell_type": "code",
      "execution_count": 65,
      "metadata": {
        "colab": {
          "base_uri": "https://localhost:8080/"
        },
        "id": "_5nkP5R5KVxJ",
        "outputId": "24fa325d-1cf2-4383-ea61-ab74b1d494c5"
      },
      "outputs": [
        {
          "name": "stdout",
          "output_type": "stream",
          "text": [
            "['hikamu', 'Ko_tatsu', 'oddpulp', 'arthuic', 'darcvv', 'cerejinhalol', 'caudria', 'CitrusCircus', 'kaiquemaximoff', 'Junkento', 'jinsoulist', 'Rockrarted', 'Evan_Mumford', 'Airen3a', 'jomellyfish', 'baratacorn4', 'addison_d', 'mateo1232', 'Labotx95', 'Kinematosis', 'numanuma_', 'ayawaska1', 'guywithaqmark', 'rtasriel', 'anoond', 'maxwellk10', 'weldingbrick', 'Marz_bruh', 'how_aud', 'avvisa', 'DiegoVazquez77', 'CookieHoliday', 'pxrea', 'kt3301', 'Anonymousmov', 'PHChronos', 'Kid_aw', 'smelltoxic', 'iwnaras', 'Hay-zel', 'davxpr', 'AllanZone', 'testtype02', 'semihcc', 'mudkipi', 'sapphicasf', 'emabelickova', 'LuisPaez02', 'AbelgodXOTWOD', 'deicidios']\n",
            "50\n"
          ]
        }
      ],
      "source": [
        "print(friend_names)\n",
        "print(len(friend_names))"
      ]
    },
    {
      "cell_type": "code",
      "execution_count": 59,
      "metadata": {
        "id": "NmurbQ5_nIlc"
      },
      "outputs": [],
      "source": [
        "# friend_album = lastfm_get({\n",
        "#             'method': 'user.getTopAlbums',\n",
        "#             'user': 'hikamu'\n",
        "#         })"
      ]
    },
    {
      "cell_type": "code",
      "execution_count": 60,
      "metadata": {
        "id": "Kw17-ULZn5Pw"
      },
      "outputs": [],
      "source": [
        "# print(username)\n",
        "# print(len(username))\n",
        "# print(album_name)\n",
        "# print(len(album_name))"
      ]
    },
    {
      "cell_type": "code",
      "execution_count": 66,
      "metadata": {
        "id": "edLLd3lsuJ6j"
      },
      "outputs": [],
      "source": [
        "def get_friends_albums_info():\n",
        "\n",
        "    username = []\n",
        "    album_title = []\n",
        "    playcount = []\n",
        "\n",
        "\n",
        "    for name in get_user_friends():\n",
        "\n",
        "        friend_album = lastfm_get({\n",
        "            'method': 'user.getTopAlbums',\n",
        "            'user': name\n",
        "        })\n",
        "\n",
        "        album_n = []\n",
        "        user_playcount = []\n",
        "\n",
        "        count = 0\n",
        "        for album in friend_album.json()['topalbums']['album']:\n",
        "\n",
        "            count += 1\n",
        "            title = album.get('name')\n",
        "            album_n.append(title)\n",
        "\n",
        "            playcount_num = album.get('playcount')\n",
        "            user_playcount.append(playcount_num)\n",
        "        \n",
        "\n",
        "        username.append([friend_album.json()['topalbums']['@attr']['user']] * count)\n",
        "        album_title.append(album_n)\n",
        "        playcount.append(user_playcount)\n",
        "\n",
        "    return username, album_title, playcount\n"
      ]
    },
    {
      "cell_type": "code",
      "execution_count": 67,
      "metadata": {
        "id": "a_2FkMKxALiL"
      },
      "outputs": [],
      "source": [
        "users, album_names, playcount = get_friends_albums_info()"
      ]
    },
    {
      "cell_type": "code",
      "execution_count": 68,
      "metadata": {
        "colab": {
          "base_uri": "https://localhost:8080/"
        },
        "id": "N3QGUY4xAWKC",
        "outputId": "15d1faa6-0330-47d9-d116-b3231d2b1531"
      },
      "outputs": [
        {
          "name": "stdout",
          "output_type": "stream",
          "text": [
            "[['hikamu', 'hikamu', 'hikamu', 'hikamu', 'hikamu', 'hikamu', 'hikamu', 'hikamu', 'hikamu', 'hikamu', 'hikamu', 'hikamu', 'hikamu', 'hikamu', 'hikamu', 'hikamu', 'hikamu', 'hikamu', 'hikamu', 'hikamu', 'hikamu', 'hikamu', 'hikamu', 'hikamu', 'hikamu', 'hikamu', 'hikamu', 'hikamu', 'hikamu', 'hikamu', 'hikamu', 'hikamu', 'hikamu', 'hikamu', 'hikamu', 'hikamu', 'hikamu', 'hikamu', 'hikamu', 'hikamu', 'hikamu', 'hikamu', 'hikamu', 'hikamu', 'hikamu', 'hikamu', 'hikamu', 'hikamu', 'hikamu', 'hikamu'], ['Ko_tatsu', 'Ko_tatsu', 'Ko_tatsu', 'Ko_tatsu', 'Ko_tatsu', 'Ko_tatsu', 'Ko_tatsu', 'Ko_tatsu', 'Ko_tatsu', 'Ko_tatsu', 'Ko_tatsu', 'Ko_tatsu', 'Ko_tatsu', 'Ko_tatsu', 'Ko_tatsu', 'Ko_tatsu', 'Ko_tatsu', 'Ko_tatsu', 'Ko_tatsu', 'Ko_tatsu', 'Ko_tatsu', 'Ko_tatsu', 'Ko_tatsu', 'Ko_tatsu', 'Ko_tatsu', 'Ko_tatsu', 'Ko_tatsu', 'Ko_tatsu', 'Ko_tatsu', 'Ko_tatsu', 'Ko_tatsu', 'Ko_tatsu', 'Ko_tatsu', 'Ko_tatsu', 'Ko_tatsu', 'Ko_tatsu', 'Ko_tatsu', 'Ko_tatsu', 'Ko_tatsu', 'Ko_tatsu', 'Ko_tatsu', 'Ko_tatsu', 'Ko_tatsu', 'Ko_tatsu', 'Ko_tatsu', 'Ko_tatsu', 'Ko_tatsu', 'Ko_tatsu', 'Ko_tatsu', 'Ko_tatsu'], ['oddpulp', 'oddpulp', 'oddpulp', 'oddpulp', 'oddpulp', 'oddpulp', 'oddpulp', 'oddpulp', 'oddpulp', 'oddpulp', 'oddpulp', 'oddpulp', 'oddpulp', 'oddpulp', 'oddpulp', 'oddpulp', 'oddpulp', 'oddpulp', 'oddpulp', 'oddpulp', 'oddpulp', 'oddpulp', 'oddpulp', 'oddpulp', 'oddpulp', 'oddpulp', 'oddpulp', 'oddpulp', 'oddpulp', 'oddpulp', 'oddpulp', 'oddpulp', 'oddpulp', 'oddpulp', 'oddpulp', 'oddpulp', 'oddpulp', 'oddpulp', 'oddpulp', 'oddpulp', 'oddpulp', 'oddpulp', 'oddpulp', 'oddpulp', 'oddpulp', 'oddpulp', 'oddpulp', 'oddpulp', 'oddpulp', 'oddpulp'], ['arthuic', 'arthuic', 'arthuic', 'arthuic', 'arthuic', 'arthuic', 'arthuic', 'arthuic', 'arthuic', 'arthuic', 'arthuic', 'arthuic', 'arthuic', 'arthuic', 'arthuic', 'arthuic', 'arthuic', 'arthuic', 'arthuic', 'arthuic', 'arthuic', 'arthuic', 'arthuic', 'arthuic', 'arthuic', 'arthuic', 'arthuic', 'arthuic', 'arthuic', 'arthuic', 'arthuic', 'arthuic', 'arthuic', 'arthuic', 'arthuic', 'arthuic', 'arthuic', 'arthuic', 'arthuic', 'arthuic', 'arthuic', 'arthuic', 'arthuic', 'arthuic', 'arthuic', 'arthuic', 'arthuic', 'arthuic', 'arthuic', 'arthuic'], ['darcvv', 'darcvv', 'darcvv', 'darcvv', 'darcvv', 'darcvv', 'darcvv', 'darcvv', 'darcvv', 'darcvv', 'darcvv', 'darcvv', 'darcvv', 'darcvv', 'darcvv', 'darcvv', 'darcvv', 'darcvv', 'darcvv', 'darcvv', 'darcvv', 'darcvv', 'darcvv', 'darcvv', 'darcvv', 'darcvv', 'darcvv', 'darcvv', 'darcvv', 'darcvv', 'darcvv', 'darcvv', 'darcvv', 'darcvv', 'darcvv', 'darcvv', 'darcvv', 'darcvv', 'darcvv', 'darcvv', 'darcvv', 'darcvv', 'darcvv', 'darcvv', 'darcvv', 'darcvv', 'darcvv', 'darcvv', 'darcvv', 'darcvv'], ['cerejinhalol', 'cerejinhalol', 'cerejinhalol', 'cerejinhalol', 'cerejinhalol', 'cerejinhalol', 'cerejinhalol', 'cerejinhalol', 'cerejinhalol', 'cerejinhalol', 'cerejinhalol', 'cerejinhalol', 'cerejinhalol', 'cerejinhalol', 'cerejinhalol', 'cerejinhalol', 'cerejinhalol', 'cerejinhalol', 'cerejinhalol', 'cerejinhalol', 'cerejinhalol', 'cerejinhalol', 'cerejinhalol', 'cerejinhalol', 'cerejinhalol', 'cerejinhalol', 'cerejinhalol', 'cerejinhalol', 'cerejinhalol', 'cerejinhalol', 'cerejinhalol', 'cerejinhalol', 'cerejinhalol', 'cerejinhalol', 'cerejinhalol', 'cerejinhalol', 'cerejinhalol', 'cerejinhalol', 'cerejinhalol', 'cerejinhalol', 'cerejinhalol', 'cerejinhalol', 'cerejinhalol', 'cerejinhalol', 'cerejinhalol', 'cerejinhalol', 'cerejinhalol', 'cerejinhalol', 'cerejinhalol', 'cerejinhalol'], ['caudria', 'caudria', 'caudria', 'caudria', 'caudria', 'caudria', 'caudria', 'caudria', 'caudria', 'caudria', 'caudria', 'caudria', 'caudria', 'caudria', 'caudria', 'caudria', 'caudria', 'caudria', 'caudria', 'caudria', 'caudria', 'caudria', 'caudria', 'caudria', 'caudria', 'caudria', 'caudria', 'caudria', 'caudria', 'caudria', 'caudria', 'caudria', 'caudria', 'caudria', 'caudria', 'caudria', 'caudria', 'caudria', 'caudria', 'caudria', 'caudria', 'caudria', 'caudria', 'caudria', 'caudria', 'caudria', 'caudria', 'caudria', 'caudria', 'caudria'], ['CitrusCircus', 'CitrusCircus', 'CitrusCircus', 'CitrusCircus', 'CitrusCircus', 'CitrusCircus', 'CitrusCircus', 'CitrusCircus', 'CitrusCircus', 'CitrusCircus', 'CitrusCircus', 'CitrusCircus', 'CitrusCircus', 'CitrusCircus', 'CitrusCircus', 'CitrusCircus', 'CitrusCircus', 'CitrusCircus', 'CitrusCircus', 'CitrusCircus', 'CitrusCircus', 'CitrusCircus', 'CitrusCircus', 'CitrusCircus', 'CitrusCircus', 'CitrusCircus', 'CitrusCircus', 'CitrusCircus', 'CitrusCircus', 'CitrusCircus', 'CitrusCircus', 'CitrusCircus', 'CitrusCircus', 'CitrusCircus', 'CitrusCircus', 'CitrusCircus', 'CitrusCircus', 'CitrusCircus', 'CitrusCircus', 'CitrusCircus', 'CitrusCircus', 'CitrusCircus', 'CitrusCircus', 'CitrusCircus', 'CitrusCircus', 'CitrusCircus', 'CitrusCircus', 'CitrusCircus', 'CitrusCircus', 'CitrusCircus'], ['kaiquemaximoff', 'kaiquemaximoff', 'kaiquemaximoff', 'kaiquemaximoff', 'kaiquemaximoff', 'kaiquemaximoff', 'kaiquemaximoff', 'kaiquemaximoff', 'kaiquemaximoff', 'kaiquemaximoff', 'kaiquemaximoff', 'kaiquemaximoff', 'kaiquemaximoff', 'kaiquemaximoff', 'kaiquemaximoff', 'kaiquemaximoff', 'kaiquemaximoff', 'kaiquemaximoff', 'kaiquemaximoff', 'kaiquemaximoff', 'kaiquemaximoff', 'kaiquemaximoff', 'kaiquemaximoff', 'kaiquemaximoff', 'kaiquemaximoff', 'kaiquemaximoff', 'kaiquemaximoff', 'kaiquemaximoff', 'kaiquemaximoff', 'kaiquemaximoff', 'kaiquemaximoff', 'kaiquemaximoff', 'kaiquemaximoff', 'kaiquemaximoff', 'kaiquemaximoff', 'kaiquemaximoff', 'kaiquemaximoff', 'kaiquemaximoff', 'kaiquemaximoff', 'kaiquemaximoff', 'kaiquemaximoff', 'kaiquemaximoff', 'kaiquemaximoff', 'kaiquemaximoff', 'kaiquemaximoff', 'kaiquemaximoff', 'kaiquemaximoff', 'kaiquemaximoff', 'kaiquemaximoff', 'kaiquemaximoff'], ['Junkento', 'Junkento', 'Junkento', 'Junkento', 'Junkento', 'Junkento', 'Junkento', 'Junkento', 'Junkento', 'Junkento', 'Junkento', 'Junkento', 'Junkento', 'Junkento', 'Junkento', 'Junkento', 'Junkento', 'Junkento', 'Junkento', 'Junkento', 'Junkento', 'Junkento', 'Junkento', 'Junkento', 'Junkento', 'Junkento', 'Junkento', 'Junkento', 'Junkento', 'Junkento', 'Junkento', 'Junkento', 'Junkento', 'Junkento', 'Junkento', 'Junkento', 'Junkento', 'Junkento', 'Junkento', 'Junkento', 'Junkento', 'Junkento', 'Junkento', 'Junkento', 'Junkento', 'Junkento', 'Junkento', 'Junkento', 'Junkento', 'Junkento'], ['jinsoulist', 'jinsoulist', 'jinsoulist', 'jinsoulist', 'jinsoulist', 'jinsoulist', 'jinsoulist', 'jinsoulist', 'jinsoulist', 'jinsoulist', 'jinsoulist', 'jinsoulist', 'jinsoulist', 'jinsoulist', 'jinsoulist', 'jinsoulist', 'jinsoulist', 'jinsoulist', 'jinsoulist', 'jinsoulist', 'jinsoulist', 'jinsoulist', 'jinsoulist', 'jinsoulist', 'jinsoulist', 'jinsoulist', 'jinsoulist', 'jinsoulist', 'jinsoulist', 'jinsoulist', 'jinsoulist', 'jinsoulist', 'jinsoulist', 'jinsoulist', 'jinsoulist', 'jinsoulist', 'jinsoulist', 'jinsoulist', 'jinsoulist', 'jinsoulist', 'jinsoulist', 'jinsoulist', 'jinsoulist', 'jinsoulist', 'jinsoulist', 'jinsoulist', 'jinsoulist', 'jinsoulist', 'jinsoulist', 'jinsoulist'], ['Rockrarted', 'Rockrarted', 'Rockrarted', 'Rockrarted', 'Rockrarted', 'Rockrarted', 'Rockrarted', 'Rockrarted', 'Rockrarted', 'Rockrarted', 'Rockrarted', 'Rockrarted', 'Rockrarted', 'Rockrarted', 'Rockrarted', 'Rockrarted', 'Rockrarted', 'Rockrarted', 'Rockrarted', 'Rockrarted', 'Rockrarted', 'Rockrarted', 'Rockrarted', 'Rockrarted', 'Rockrarted', 'Rockrarted', 'Rockrarted', 'Rockrarted', 'Rockrarted', 'Rockrarted', 'Rockrarted', 'Rockrarted', 'Rockrarted', 'Rockrarted', 'Rockrarted', 'Rockrarted', 'Rockrarted', 'Rockrarted', 'Rockrarted', 'Rockrarted', 'Rockrarted', 'Rockrarted', 'Rockrarted', 'Rockrarted', 'Rockrarted', 'Rockrarted', 'Rockrarted', 'Rockrarted', 'Rockrarted', 'Rockrarted'], ['Evan_Mumford', 'Evan_Mumford', 'Evan_Mumford', 'Evan_Mumford', 'Evan_Mumford', 'Evan_Mumford', 'Evan_Mumford', 'Evan_Mumford', 'Evan_Mumford', 'Evan_Mumford', 'Evan_Mumford', 'Evan_Mumford', 'Evan_Mumford', 'Evan_Mumford', 'Evan_Mumford', 'Evan_Mumford', 'Evan_Mumford', 'Evan_Mumford', 'Evan_Mumford', 'Evan_Mumford', 'Evan_Mumford', 'Evan_Mumford', 'Evan_Mumford', 'Evan_Mumford', 'Evan_Mumford', 'Evan_Mumford', 'Evan_Mumford', 'Evan_Mumford', 'Evan_Mumford', 'Evan_Mumford', 'Evan_Mumford', 'Evan_Mumford', 'Evan_Mumford', 'Evan_Mumford', 'Evan_Mumford', 'Evan_Mumford', 'Evan_Mumford', 'Evan_Mumford', 'Evan_Mumford', 'Evan_Mumford', 'Evan_Mumford', 'Evan_Mumford', 'Evan_Mumford', 'Evan_Mumford', 'Evan_Mumford', 'Evan_Mumford', 'Evan_Mumford', 'Evan_Mumford', 'Evan_Mumford', 'Evan_Mumford'], ['Airen3a', 'Airen3a', 'Airen3a', 'Airen3a', 'Airen3a', 'Airen3a', 'Airen3a', 'Airen3a', 'Airen3a', 'Airen3a', 'Airen3a', 'Airen3a', 'Airen3a', 'Airen3a', 'Airen3a', 'Airen3a', 'Airen3a', 'Airen3a', 'Airen3a', 'Airen3a', 'Airen3a', 'Airen3a', 'Airen3a', 'Airen3a', 'Airen3a', 'Airen3a', 'Airen3a', 'Airen3a', 'Airen3a', 'Airen3a', 'Airen3a', 'Airen3a', 'Airen3a', 'Airen3a', 'Airen3a', 'Airen3a', 'Airen3a', 'Airen3a', 'Airen3a', 'Airen3a', 'Airen3a', 'Airen3a', 'Airen3a', 'Airen3a', 'Airen3a', 'Airen3a', 'Airen3a', 'Airen3a', 'Airen3a', 'Airen3a'], ['jomellyfish', 'jomellyfish', 'jomellyfish', 'jomellyfish', 'jomellyfish', 'jomellyfish', 'jomellyfish', 'jomellyfish', 'jomellyfish', 'jomellyfish', 'jomellyfish', 'jomellyfish', 'jomellyfish', 'jomellyfish', 'jomellyfish', 'jomellyfish', 'jomellyfish', 'jomellyfish', 'jomellyfish', 'jomellyfish', 'jomellyfish', 'jomellyfish', 'jomellyfish', 'jomellyfish', 'jomellyfish', 'jomellyfish', 'jomellyfish', 'jomellyfish', 'jomellyfish', 'jomellyfish', 'jomellyfish', 'jomellyfish', 'jomellyfish', 'jomellyfish', 'jomellyfish', 'jomellyfish', 'jomellyfish', 'jomellyfish', 'jomellyfish', 'jomellyfish', 'jomellyfish', 'jomellyfish', 'jomellyfish', 'jomellyfish', 'jomellyfish', 'jomellyfish', 'jomellyfish', 'jomellyfish', 'jomellyfish', 'jomellyfish'], ['baratacorn4', 'baratacorn4', 'baratacorn4', 'baratacorn4', 'baratacorn4', 'baratacorn4', 'baratacorn4', 'baratacorn4', 'baratacorn4', 'baratacorn4', 'baratacorn4', 'baratacorn4', 'baratacorn4', 'baratacorn4', 'baratacorn4', 'baratacorn4', 'baratacorn4', 'baratacorn4', 'baratacorn4', 'baratacorn4', 'baratacorn4', 'baratacorn4', 'baratacorn4', 'baratacorn4', 'baratacorn4', 'baratacorn4', 'baratacorn4', 'baratacorn4', 'baratacorn4', 'baratacorn4', 'baratacorn4', 'baratacorn4', 'baratacorn4', 'baratacorn4', 'baratacorn4', 'baratacorn4', 'baratacorn4', 'baratacorn4', 'baratacorn4', 'baratacorn4', 'baratacorn4', 'baratacorn4', 'baratacorn4', 'baratacorn4', 'baratacorn4', 'baratacorn4', 'baratacorn4', 'baratacorn4', 'baratacorn4', 'baratacorn4'], ['addison_d', 'addison_d', 'addison_d', 'addison_d', 'addison_d', 'addison_d', 'addison_d', 'addison_d', 'addison_d', 'addison_d', 'addison_d', 'addison_d', 'addison_d', 'addison_d', 'addison_d', 'addison_d', 'addison_d', 'addison_d', 'addison_d', 'addison_d', 'addison_d', 'addison_d', 'addison_d', 'addison_d', 'addison_d', 'addison_d', 'addison_d', 'addison_d', 'addison_d', 'addison_d', 'addison_d', 'addison_d', 'addison_d', 'addison_d', 'addison_d', 'addison_d', 'addison_d', 'addison_d', 'addison_d', 'addison_d', 'addison_d', 'addison_d', 'addison_d', 'addison_d', 'addison_d', 'addison_d', 'addison_d', 'addison_d', 'addison_d', 'addison_d'], ['mateo1232', 'mateo1232', 'mateo1232', 'mateo1232', 'mateo1232', 'mateo1232', 'mateo1232', 'mateo1232', 'mateo1232', 'mateo1232', 'mateo1232', 'mateo1232', 'mateo1232', 'mateo1232', 'mateo1232', 'mateo1232', 'mateo1232', 'mateo1232', 'mateo1232', 'mateo1232', 'mateo1232', 'mateo1232', 'mateo1232', 'mateo1232', 'mateo1232', 'mateo1232', 'mateo1232', 'mateo1232', 'mateo1232', 'mateo1232', 'mateo1232', 'mateo1232', 'mateo1232', 'mateo1232', 'mateo1232', 'mateo1232', 'mateo1232', 'mateo1232', 'mateo1232', 'mateo1232', 'mateo1232', 'mateo1232', 'mateo1232', 'mateo1232', 'mateo1232', 'mateo1232', 'mateo1232', 'mateo1232', 'mateo1232', 'mateo1232'], ['Labotx95', 'Labotx95', 'Labotx95', 'Labotx95', 'Labotx95', 'Labotx95', 'Labotx95', 'Labotx95', 'Labotx95', 'Labotx95', 'Labotx95', 'Labotx95', 'Labotx95', 'Labotx95', 'Labotx95', 'Labotx95', 'Labotx95', 'Labotx95', 'Labotx95', 'Labotx95', 'Labotx95', 'Labotx95', 'Labotx95', 'Labotx95', 'Labotx95', 'Labotx95', 'Labotx95', 'Labotx95', 'Labotx95', 'Labotx95', 'Labotx95', 'Labotx95', 'Labotx95', 'Labotx95', 'Labotx95', 'Labotx95', 'Labotx95', 'Labotx95', 'Labotx95', 'Labotx95', 'Labotx95', 'Labotx95', 'Labotx95', 'Labotx95', 'Labotx95', 'Labotx95', 'Labotx95', 'Labotx95', 'Labotx95', 'Labotx95'], ['Kinematosis', 'Kinematosis', 'Kinematosis', 'Kinematosis', 'Kinematosis', 'Kinematosis', 'Kinematosis', 'Kinematosis', 'Kinematosis', 'Kinematosis', 'Kinematosis', 'Kinematosis', 'Kinematosis', 'Kinematosis', 'Kinematosis', 'Kinematosis', 'Kinematosis', 'Kinematosis', 'Kinematosis', 'Kinematosis', 'Kinematosis', 'Kinematosis', 'Kinematosis', 'Kinematosis', 'Kinematosis', 'Kinematosis', 'Kinematosis', 'Kinematosis', 'Kinematosis', 'Kinematosis', 'Kinematosis', 'Kinematosis', 'Kinematosis', 'Kinematosis', 'Kinematosis', 'Kinematosis', 'Kinematosis', 'Kinematosis', 'Kinematosis', 'Kinematosis', 'Kinematosis', 'Kinematosis', 'Kinematosis', 'Kinematosis', 'Kinematosis', 'Kinematosis', 'Kinematosis', 'Kinematosis', 'Kinematosis', 'Kinematosis'], ['numanuma_', 'numanuma_', 'numanuma_', 'numanuma_', 'numanuma_', 'numanuma_', 'numanuma_', 'numanuma_', 'numanuma_', 'numanuma_', 'numanuma_', 'numanuma_', 'numanuma_', 'numanuma_', 'numanuma_', 'numanuma_', 'numanuma_', 'numanuma_', 'numanuma_', 'numanuma_', 'numanuma_', 'numanuma_', 'numanuma_', 'numanuma_', 'numanuma_', 'numanuma_', 'numanuma_', 'numanuma_', 'numanuma_', 'numanuma_', 'numanuma_', 'numanuma_', 'numanuma_', 'numanuma_', 'numanuma_', 'numanuma_', 'numanuma_', 'numanuma_', 'numanuma_', 'numanuma_', 'numanuma_', 'numanuma_', 'numanuma_', 'numanuma_', 'numanuma_', 'numanuma_', 'numanuma_', 'numanuma_', 'numanuma_', 'numanuma_'], ['ayawaska1', 'ayawaska1', 'ayawaska1', 'ayawaska1', 'ayawaska1', 'ayawaska1', 'ayawaska1', 'ayawaska1', 'ayawaska1', 'ayawaska1', 'ayawaska1', 'ayawaska1', 'ayawaska1', 'ayawaska1', 'ayawaska1', 'ayawaska1', 'ayawaska1', 'ayawaska1', 'ayawaska1', 'ayawaska1', 'ayawaska1', 'ayawaska1', 'ayawaska1', 'ayawaska1', 'ayawaska1', 'ayawaska1', 'ayawaska1', 'ayawaska1', 'ayawaska1', 'ayawaska1', 'ayawaska1', 'ayawaska1', 'ayawaska1', 'ayawaska1', 'ayawaska1', 'ayawaska1', 'ayawaska1', 'ayawaska1', 'ayawaska1', 'ayawaska1', 'ayawaska1', 'ayawaska1', 'ayawaska1', 'ayawaska1', 'ayawaska1', 'ayawaska1', 'ayawaska1', 'ayawaska1', 'ayawaska1', 'ayawaska1'], ['guywithaqmark', 'guywithaqmark', 'guywithaqmark', 'guywithaqmark', 'guywithaqmark', 'guywithaqmark', 'guywithaqmark', 'guywithaqmark', 'guywithaqmark', 'guywithaqmark', 'guywithaqmark', 'guywithaqmark', 'guywithaqmark', 'guywithaqmark', 'guywithaqmark', 'guywithaqmark', 'guywithaqmark', 'guywithaqmark', 'guywithaqmark', 'guywithaqmark', 'guywithaqmark', 'guywithaqmark', 'guywithaqmark', 'guywithaqmark', 'guywithaqmark', 'guywithaqmark', 'guywithaqmark', 'guywithaqmark', 'guywithaqmark', 'guywithaqmark', 'guywithaqmark', 'guywithaqmark', 'guywithaqmark', 'guywithaqmark', 'guywithaqmark', 'guywithaqmark', 'guywithaqmark', 'guywithaqmark', 'guywithaqmark', 'guywithaqmark', 'guywithaqmark', 'guywithaqmark', 'guywithaqmark', 'guywithaqmark', 'guywithaqmark', 'guywithaqmark', 'guywithaqmark', 'guywithaqmark', 'guywithaqmark', 'guywithaqmark'], ['rtasriel', 'rtasriel', 'rtasriel', 'rtasriel', 'rtasriel', 'rtasriel', 'rtasriel', 'rtasriel', 'rtasriel', 'rtasriel', 'rtasriel', 'rtasriel', 'rtasriel', 'rtasriel', 'rtasriel', 'rtasriel', 'rtasriel', 'rtasriel', 'rtasriel', 'rtasriel', 'rtasriel', 'rtasriel', 'rtasriel', 'rtasriel', 'rtasriel', 'rtasriel', 'rtasriel', 'rtasriel', 'rtasriel', 'rtasriel', 'rtasriel', 'rtasriel', 'rtasriel', 'rtasriel', 'rtasriel', 'rtasriel', 'rtasriel', 'rtasriel', 'rtasriel', 'rtasriel', 'rtasriel', 'rtasriel', 'rtasriel', 'rtasriel', 'rtasriel', 'rtasriel', 'rtasriel', 'rtasriel', 'rtasriel', 'rtasriel'], ['anoond', 'anoond', 'anoond', 'anoond', 'anoond', 'anoond', 'anoond', 'anoond', 'anoond', 'anoond', 'anoond', 'anoond', 'anoond', 'anoond', 'anoond', 'anoond', 'anoond', 'anoond', 'anoond', 'anoond', 'anoond', 'anoond', 'anoond', 'anoond', 'anoond', 'anoond', 'anoond', 'anoond', 'anoond', 'anoond', 'anoond', 'anoond', 'anoond', 'anoond', 'anoond', 'anoond', 'anoond', 'anoond', 'anoond', 'anoond', 'anoond', 'anoond', 'anoond', 'anoond', 'anoond', 'anoond', 'anoond', 'anoond', 'anoond', 'anoond'], ['maxwellk10', 'maxwellk10', 'maxwellk10', 'maxwellk10', 'maxwellk10', 'maxwellk10', 'maxwellk10', 'maxwellk10', 'maxwellk10', 'maxwellk10', 'maxwellk10', 'maxwellk10', 'maxwellk10', 'maxwellk10', 'maxwellk10', 'maxwellk10', 'maxwellk10', 'maxwellk10', 'maxwellk10', 'maxwellk10', 'maxwellk10', 'maxwellk10', 'maxwellk10', 'maxwellk10', 'maxwellk10', 'maxwellk10', 'maxwellk10', 'maxwellk10', 'maxwellk10', 'maxwellk10', 'maxwellk10', 'maxwellk10', 'maxwellk10', 'maxwellk10', 'maxwellk10', 'maxwellk10', 'maxwellk10', 'maxwellk10', 'maxwellk10', 'maxwellk10', 'maxwellk10', 'maxwellk10', 'maxwellk10', 'maxwellk10', 'maxwellk10', 'maxwellk10', 'maxwellk10', 'maxwellk10', 'maxwellk10', 'maxwellk10'], ['weldingbrick', 'weldingbrick', 'weldingbrick', 'weldingbrick', 'weldingbrick', 'weldingbrick', 'weldingbrick', 'weldingbrick', 'weldingbrick', 'weldingbrick', 'weldingbrick', 'weldingbrick', 'weldingbrick', 'weldingbrick', 'weldingbrick', 'weldingbrick', 'weldingbrick', 'weldingbrick', 'weldingbrick', 'weldingbrick', 'weldingbrick', 'weldingbrick', 'weldingbrick', 'weldingbrick', 'weldingbrick', 'weldingbrick', 'weldingbrick', 'weldingbrick', 'weldingbrick', 'weldingbrick', 'weldingbrick', 'weldingbrick', 'weldingbrick', 'weldingbrick', 'weldingbrick', 'weldingbrick', 'weldingbrick', 'weldingbrick', 'weldingbrick', 'weldingbrick', 'weldingbrick', 'weldingbrick', 'weldingbrick', 'weldingbrick', 'weldingbrick', 'weldingbrick', 'weldingbrick', 'weldingbrick', 'weldingbrick', 'weldingbrick'], ['Marz_bruh', 'Marz_bruh', 'Marz_bruh', 'Marz_bruh', 'Marz_bruh', 'Marz_bruh', 'Marz_bruh', 'Marz_bruh', 'Marz_bruh', 'Marz_bruh', 'Marz_bruh', 'Marz_bruh', 'Marz_bruh', 'Marz_bruh', 'Marz_bruh', 'Marz_bruh', 'Marz_bruh', 'Marz_bruh', 'Marz_bruh', 'Marz_bruh', 'Marz_bruh', 'Marz_bruh', 'Marz_bruh', 'Marz_bruh', 'Marz_bruh', 'Marz_bruh', 'Marz_bruh', 'Marz_bruh', 'Marz_bruh', 'Marz_bruh', 'Marz_bruh', 'Marz_bruh', 'Marz_bruh', 'Marz_bruh', 'Marz_bruh', 'Marz_bruh', 'Marz_bruh', 'Marz_bruh', 'Marz_bruh', 'Marz_bruh', 'Marz_bruh', 'Marz_bruh', 'Marz_bruh', 'Marz_bruh', 'Marz_bruh', 'Marz_bruh', 'Marz_bruh', 'Marz_bruh', 'Marz_bruh', 'Marz_bruh'], ['how_aud', 'how_aud', 'how_aud', 'how_aud', 'how_aud', 'how_aud', 'how_aud', 'how_aud', 'how_aud', 'how_aud', 'how_aud', 'how_aud', 'how_aud', 'how_aud', 'how_aud', 'how_aud', 'how_aud', 'how_aud', 'how_aud', 'how_aud', 'how_aud', 'how_aud', 'how_aud', 'how_aud', 'how_aud', 'how_aud', 'how_aud', 'how_aud', 'how_aud', 'how_aud', 'how_aud', 'how_aud', 'how_aud', 'how_aud', 'how_aud', 'how_aud', 'how_aud', 'how_aud', 'how_aud', 'how_aud', 'how_aud', 'how_aud', 'how_aud', 'how_aud', 'how_aud', 'how_aud', 'how_aud', 'how_aud', 'how_aud', 'how_aud'], ['avvisa', 'avvisa', 'avvisa', 'avvisa', 'avvisa', 'avvisa', 'avvisa', 'avvisa', 'avvisa', 'avvisa', 'avvisa', 'avvisa', 'avvisa', 'avvisa', 'avvisa', 'avvisa', 'avvisa', 'avvisa', 'avvisa', 'avvisa', 'avvisa', 'avvisa', 'avvisa', 'avvisa', 'avvisa', 'avvisa', 'avvisa', 'avvisa', 'avvisa', 'avvisa', 'avvisa', 'avvisa', 'avvisa', 'avvisa', 'avvisa', 'avvisa', 'avvisa', 'avvisa', 'avvisa', 'avvisa', 'avvisa', 'avvisa', 'avvisa', 'avvisa', 'avvisa', 'avvisa', 'avvisa', 'avvisa', 'avvisa', 'avvisa'], ['DiegoVazquez77', 'DiegoVazquez77', 'DiegoVazquez77', 'DiegoVazquez77', 'DiegoVazquez77', 'DiegoVazquez77', 'DiegoVazquez77', 'DiegoVazquez77', 'DiegoVazquez77', 'DiegoVazquez77', 'DiegoVazquez77', 'DiegoVazquez77', 'DiegoVazquez77', 'DiegoVazquez77', 'DiegoVazquez77', 'DiegoVazquez77', 'DiegoVazquez77', 'DiegoVazquez77', 'DiegoVazquez77', 'DiegoVazquez77', 'DiegoVazquez77', 'DiegoVazquez77', 'DiegoVazquez77', 'DiegoVazquez77', 'DiegoVazquez77', 'DiegoVazquez77', 'DiegoVazquez77', 'DiegoVazquez77', 'DiegoVazquez77', 'DiegoVazquez77', 'DiegoVazquez77', 'DiegoVazquez77', 'DiegoVazquez77', 'DiegoVazquez77', 'DiegoVazquez77', 'DiegoVazquez77', 'DiegoVazquez77', 'DiegoVazquez77', 'DiegoVazquez77', 'DiegoVazquez77', 'DiegoVazquez77', 'DiegoVazquez77', 'DiegoVazquez77', 'DiegoVazquez77', 'DiegoVazquez77', 'DiegoVazquez77', 'DiegoVazquez77', 'DiegoVazquez77', 'DiegoVazquez77', 'DiegoVazquez77'], ['CookieHoliday', 'CookieHoliday', 'CookieHoliday', 'CookieHoliday', 'CookieHoliday', 'CookieHoliday', 'CookieHoliday', 'CookieHoliday', 'CookieHoliday', 'CookieHoliday', 'CookieHoliday', 'CookieHoliday', 'CookieHoliday', 'CookieHoliday', 'CookieHoliday', 'CookieHoliday', 'CookieHoliday', 'CookieHoliday', 'CookieHoliday', 'CookieHoliday', 'CookieHoliday', 'CookieHoliday', 'CookieHoliday', 'CookieHoliday', 'CookieHoliday', 'CookieHoliday', 'CookieHoliday', 'CookieHoliday', 'CookieHoliday', 'CookieHoliday', 'CookieHoliday', 'CookieHoliday', 'CookieHoliday', 'CookieHoliday', 'CookieHoliday', 'CookieHoliday', 'CookieHoliday', 'CookieHoliday', 'CookieHoliday', 'CookieHoliday', 'CookieHoliday', 'CookieHoliday', 'CookieHoliday', 'CookieHoliday', 'CookieHoliday', 'CookieHoliday', 'CookieHoliday', 'CookieHoliday', 'CookieHoliday', 'CookieHoliday'], ['pxrea', 'pxrea', 'pxrea', 'pxrea', 'pxrea', 'pxrea', 'pxrea', 'pxrea', 'pxrea', 'pxrea', 'pxrea', 'pxrea', 'pxrea', 'pxrea', 'pxrea', 'pxrea', 'pxrea', 'pxrea', 'pxrea', 'pxrea', 'pxrea', 'pxrea', 'pxrea', 'pxrea', 'pxrea', 'pxrea', 'pxrea', 'pxrea', 'pxrea', 'pxrea', 'pxrea', 'pxrea', 'pxrea', 'pxrea', 'pxrea', 'pxrea', 'pxrea', 'pxrea', 'pxrea', 'pxrea', 'pxrea', 'pxrea', 'pxrea', 'pxrea', 'pxrea', 'pxrea', 'pxrea', 'pxrea', 'pxrea', 'pxrea'], ['kt3301', 'kt3301', 'kt3301', 'kt3301', 'kt3301', 'kt3301', 'kt3301', 'kt3301', 'kt3301', 'kt3301', 'kt3301', 'kt3301', 'kt3301', 'kt3301', 'kt3301', 'kt3301', 'kt3301', 'kt3301', 'kt3301', 'kt3301', 'kt3301', 'kt3301', 'kt3301', 'kt3301', 'kt3301', 'kt3301', 'kt3301', 'kt3301', 'kt3301', 'kt3301', 'kt3301', 'kt3301', 'kt3301', 'kt3301', 'kt3301', 'kt3301', 'kt3301', 'kt3301', 'kt3301', 'kt3301', 'kt3301', 'kt3301', 'kt3301', 'kt3301', 'kt3301', 'kt3301', 'kt3301', 'kt3301', 'kt3301', 'kt3301'], ['Anonymousmov', 'Anonymousmov', 'Anonymousmov', 'Anonymousmov', 'Anonymousmov', 'Anonymousmov', 'Anonymousmov', 'Anonymousmov', 'Anonymousmov', 'Anonymousmov', 'Anonymousmov', 'Anonymousmov', 'Anonymousmov', 'Anonymousmov', 'Anonymousmov', 'Anonymousmov', 'Anonymousmov', 'Anonymousmov', 'Anonymousmov', 'Anonymousmov', 'Anonymousmov', 'Anonymousmov', 'Anonymousmov', 'Anonymousmov', 'Anonymousmov', 'Anonymousmov', 'Anonymousmov', 'Anonymousmov', 'Anonymousmov', 'Anonymousmov', 'Anonymousmov', 'Anonymousmov', 'Anonymousmov', 'Anonymousmov', 'Anonymousmov', 'Anonymousmov', 'Anonymousmov', 'Anonymousmov', 'Anonymousmov', 'Anonymousmov', 'Anonymousmov', 'Anonymousmov', 'Anonymousmov', 'Anonymousmov', 'Anonymousmov', 'Anonymousmov', 'Anonymousmov', 'Anonymousmov', 'Anonymousmov', 'Anonymousmov'], ['PHChronos', 'PHChronos', 'PHChronos', 'PHChronos', 'PHChronos', 'PHChronos', 'PHChronos', 'PHChronos', 'PHChronos', 'PHChronos', 'PHChronos', 'PHChronos', 'PHChronos', 'PHChronos', 'PHChronos', 'PHChronos', 'PHChronos', 'PHChronos', 'PHChronos', 'PHChronos', 'PHChronos', 'PHChronos', 'PHChronos', 'PHChronos', 'PHChronos', 'PHChronos', 'PHChronos', 'PHChronos', 'PHChronos', 'PHChronos', 'PHChronos', 'PHChronos', 'PHChronos', 'PHChronos', 'PHChronos', 'PHChronos', 'PHChronos', 'PHChronos', 'PHChronos', 'PHChronos', 'PHChronos', 'PHChronos', 'PHChronos', 'PHChronos', 'PHChronos', 'PHChronos', 'PHChronos', 'PHChronos', 'PHChronos', 'PHChronos'], ['Kid_aw', 'Kid_aw', 'Kid_aw', 'Kid_aw', 'Kid_aw', 'Kid_aw', 'Kid_aw', 'Kid_aw', 'Kid_aw', 'Kid_aw', 'Kid_aw', 'Kid_aw', 'Kid_aw', 'Kid_aw', 'Kid_aw', 'Kid_aw', 'Kid_aw', 'Kid_aw', 'Kid_aw', 'Kid_aw', 'Kid_aw', 'Kid_aw', 'Kid_aw', 'Kid_aw', 'Kid_aw', 'Kid_aw', 'Kid_aw', 'Kid_aw', 'Kid_aw', 'Kid_aw', 'Kid_aw', 'Kid_aw', 'Kid_aw', 'Kid_aw', 'Kid_aw', 'Kid_aw', 'Kid_aw', 'Kid_aw', 'Kid_aw', 'Kid_aw', 'Kid_aw', 'Kid_aw', 'Kid_aw', 'Kid_aw', 'Kid_aw', 'Kid_aw', 'Kid_aw', 'Kid_aw', 'Kid_aw', 'Kid_aw'], ['smelltoxic', 'smelltoxic', 'smelltoxic', 'smelltoxic', 'smelltoxic', 'smelltoxic', 'smelltoxic', 'smelltoxic', 'smelltoxic', 'smelltoxic', 'smelltoxic', 'smelltoxic', 'smelltoxic', 'smelltoxic', 'smelltoxic', 'smelltoxic', 'smelltoxic', 'smelltoxic', 'smelltoxic', 'smelltoxic', 'smelltoxic', 'smelltoxic', 'smelltoxic', 'smelltoxic', 'smelltoxic', 'smelltoxic', 'smelltoxic', 'smelltoxic', 'smelltoxic', 'smelltoxic', 'smelltoxic', 'smelltoxic', 'smelltoxic', 'smelltoxic', 'smelltoxic', 'smelltoxic', 'smelltoxic', 'smelltoxic', 'smelltoxic', 'smelltoxic', 'smelltoxic', 'smelltoxic', 'smelltoxic', 'smelltoxic', 'smelltoxic', 'smelltoxic', 'smelltoxic', 'smelltoxic', 'smelltoxic', 'smelltoxic'], ['iwnaras', 'iwnaras', 'iwnaras', 'iwnaras', 'iwnaras', 'iwnaras', 'iwnaras', 'iwnaras', 'iwnaras', 'iwnaras', 'iwnaras', 'iwnaras', 'iwnaras', 'iwnaras', 'iwnaras', 'iwnaras', 'iwnaras', 'iwnaras', 'iwnaras', 'iwnaras', 'iwnaras', 'iwnaras', 'iwnaras', 'iwnaras', 'iwnaras', 'iwnaras', 'iwnaras', 'iwnaras', 'iwnaras', 'iwnaras', 'iwnaras', 'iwnaras', 'iwnaras', 'iwnaras', 'iwnaras', 'iwnaras', 'iwnaras', 'iwnaras', 'iwnaras', 'iwnaras', 'iwnaras', 'iwnaras', 'iwnaras', 'iwnaras', 'iwnaras', 'iwnaras', 'iwnaras', 'iwnaras', 'iwnaras', 'iwnaras'], ['Hay-zel', 'Hay-zel', 'Hay-zel', 'Hay-zel', 'Hay-zel', 'Hay-zel', 'Hay-zel', 'Hay-zel', 'Hay-zel', 'Hay-zel', 'Hay-zel', 'Hay-zel', 'Hay-zel', 'Hay-zel', 'Hay-zel', 'Hay-zel', 'Hay-zel', 'Hay-zel', 'Hay-zel', 'Hay-zel', 'Hay-zel', 'Hay-zel', 'Hay-zel', 'Hay-zel', 'Hay-zel', 'Hay-zel', 'Hay-zel', 'Hay-zel', 'Hay-zel', 'Hay-zel', 'Hay-zel', 'Hay-zel', 'Hay-zel', 'Hay-zel', 'Hay-zel', 'Hay-zel', 'Hay-zel', 'Hay-zel', 'Hay-zel', 'Hay-zel', 'Hay-zel', 'Hay-zel', 'Hay-zel', 'Hay-zel', 'Hay-zel', 'Hay-zel', 'Hay-zel', 'Hay-zel', 'Hay-zel', 'Hay-zel'], ['davxpr', 'davxpr', 'davxpr', 'davxpr', 'davxpr', 'davxpr', 'davxpr', 'davxpr', 'davxpr', 'davxpr', 'davxpr', 'davxpr', 'davxpr', 'davxpr', 'davxpr', 'davxpr', 'davxpr', 'davxpr', 'davxpr', 'davxpr', 'davxpr', 'davxpr', 'davxpr', 'davxpr', 'davxpr', 'davxpr', 'davxpr', 'davxpr', 'davxpr', 'davxpr', 'davxpr', 'davxpr', 'davxpr', 'davxpr', 'davxpr', 'davxpr', 'davxpr', 'davxpr', 'davxpr', 'davxpr', 'davxpr', 'davxpr', 'davxpr', 'davxpr', 'davxpr', 'davxpr', 'davxpr', 'davxpr', 'davxpr', 'davxpr'], ['AllanZone', 'AllanZone', 'AllanZone', 'AllanZone', 'AllanZone', 'AllanZone', 'AllanZone', 'AllanZone', 'AllanZone', 'AllanZone', 'AllanZone', 'AllanZone', 'AllanZone', 'AllanZone', 'AllanZone', 'AllanZone', 'AllanZone', 'AllanZone', 'AllanZone', 'AllanZone', 'AllanZone', 'AllanZone', 'AllanZone', 'AllanZone', 'AllanZone', 'AllanZone', 'AllanZone', 'AllanZone', 'AllanZone', 'AllanZone', 'AllanZone', 'AllanZone', 'AllanZone', 'AllanZone', 'AllanZone', 'AllanZone', 'AllanZone', 'AllanZone', 'AllanZone', 'AllanZone', 'AllanZone', 'AllanZone', 'AllanZone', 'AllanZone', 'AllanZone', 'AllanZone', 'AllanZone', 'AllanZone', 'AllanZone', 'AllanZone'], ['testtype02', 'testtype02', 'testtype02', 'testtype02', 'testtype02', 'testtype02', 'testtype02', 'testtype02', 'testtype02', 'testtype02', 'testtype02', 'testtype02', 'testtype02', 'testtype02', 'testtype02', 'testtype02', 'testtype02', 'testtype02', 'testtype02', 'testtype02', 'testtype02', 'testtype02', 'testtype02', 'testtype02', 'testtype02', 'testtype02', 'testtype02', 'testtype02', 'testtype02', 'testtype02', 'testtype02', 'testtype02', 'testtype02', 'testtype02', 'testtype02', 'testtype02', 'testtype02', 'testtype02', 'testtype02', 'testtype02', 'testtype02', 'testtype02', 'testtype02', 'testtype02', 'testtype02', 'testtype02', 'testtype02', 'testtype02', 'testtype02', 'testtype02'], ['semihcc', 'semihcc', 'semihcc', 'semihcc', 'semihcc', 'semihcc', 'semihcc', 'semihcc', 'semihcc', 'semihcc', 'semihcc', 'semihcc', 'semihcc', 'semihcc', 'semihcc', 'semihcc', 'semihcc', 'semihcc', 'semihcc', 'semihcc', 'semihcc', 'semihcc', 'semihcc', 'semihcc', 'semihcc', 'semihcc', 'semihcc', 'semihcc', 'semihcc', 'semihcc', 'semihcc', 'semihcc', 'semihcc', 'semihcc', 'semihcc', 'semihcc', 'semihcc', 'semihcc', 'semihcc', 'semihcc', 'semihcc', 'semihcc', 'semihcc', 'semihcc', 'semihcc', 'semihcc', 'semihcc', 'semihcc', 'semihcc', 'semihcc'], ['mudkipi', 'mudkipi', 'mudkipi', 'mudkipi', 'mudkipi', 'mudkipi', 'mudkipi', 'mudkipi', 'mudkipi', 'mudkipi', 'mudkipi', 'mudkipi', 'mudkipi', 'mudkipi', 'mudkipi', 'mudkipi', 'mudkipi', 'mudkipi', 'mudkipi', 'mudkipi', 'mudkipi', 'mudkipi', 'mudkipi', 'mudkipi', 'mudkipi', 'mudkipi', 'mudkipi', 'mudkipi', 'mudkipi', 'mudkipi', 'mudkipi', 'mudkipi', 'mudkipi', 'mudkipi', 'mudkipi', 'mudkipi', 'mudkipi', 'mudkipi', 'mudkipi', 'mudkipi', 'mudkipi', 'mudkipi', 'mudkipi', 'mudkipi', 'mudkipi', 'mudkipi', 'mudkipi', 'mudkipi', 'mudkipi', 'mudkipi'], ['sapphicasf', 'sapphicasf', 'sapphicasf', 'sapphicasf', 'sapphicasf', 'sapphicasf', 'sapphicasf', 'sapphicasf', 'sapphicasf', 'sapphicasf', 'sapphicasf', 'sapphicasf', 'sapphicasf', 'sapphicasf', 'sapphicasf', 'sapphicasf', 'sapphicasf', 'sapphicasf', 'sapphicasf', 'sapphicasf', 'sapphicasf', 'sapphicasf', 'sapphicasf', 'sapphicasf', 'sapphicasf', 'sapphicasf', 'sapphicasf', 'sapphicasf', 'sapphicasf', 'sapphicasf', 'sapphicasf', 'sapphicasf', 'sapphicasf', 'sapphicasf', 'sapphicasf', 'sapphicasf', 'sapphicasf', 'sapphicasf', 'sapphicasf', 'sapphicasf', 'sapphicasf', 'sapphicasf', 'sapphicasf', 'sapphicasf', 'sapphicasf', 'sapphicasf', 'sapphicasf', 'sapphicasf', 'sapphicasf', 'sapphicasf'], ['emabelickova', 'emabelickova', 'emabelickova', 'emabelickova', 'emabelickova', 'emabelickova', 'emabelickova', 'emabelickova', 'emabelickova', 'emabelickova', 'emabelickova', 'emabelickova', 'emabelickova', 'emabelickova', 'emabelickova', 'emabelickova', 'emabelickova', 'emabelickova', 'emabelickova', 'emabelickova', 'emabelickova', 'emabelickova', 'emabelickova', 'emabelickova', 'emabelickova', 'emabelickova', 'emabelickova', 'emabelickova', 'emabelickova', 'emabelickova', 'emabelickova', 'emabelickova', 'emabelickova', 'emabelickova', 'emabelickova', 'emabelickova', 'emabelickova', 'emabelickova', 'emabelickova', 'emabelickova', 'emabelickova', 'emabelickova', 'emabelickova', 'emabelickova', 'emabelickova', 'emabelickova', 'emabelickova', 'emabelickova', 'emabelickova', 'emabelickova'], ['LuisPaez02', 'LuisPaez02', 'LuisPaez02', 'LuisPaez02', 'LuisPaez02', 'LuisPaez02', 'LuisPaez02', 'LuisPaez02', 'LuisPaez02', 'LuisPaez02', 'LuisPaez02', 'LuisPaez02', 'LuisPaez02', 'LuisPaez02', 'LuisPaez02', 'LuisPaez02', 'LuisPaez02', 'LuisPaez02', 'LuisPaez02', 'LuisPaez02', 'LuisPaez02', 'LuisPaez02', 'LuisPaez02', 'LuisPaez02', 'LuisPaez02', 'LuisPaez02', 'LuisPaez02', 'LuisPaez02', 'LuisPaez02', 'LuisPaez02', 'LuisPaez02', 'LuisPaez02', 'LuisPaez02', 'LuisPaez02', 'LuisPaez02', 'LuisPaez02', 'LuisPaez02', 'LuisPaez02', 'LuisPaez02', 'LuisPaez02', 'LuisPaez02', 'LuisPaez02', 'LuisPaez02', 'LuisPaez02', 'LuisPaez02', 'LuisPaez02', 'LuisPaez02', 'LuisPaez02', 'LuisPaez02', 'LuisPaez02'], ['AbelgodXOTWOD', 'AbelgodXOTWOD', 'AbelgodXOTWOD', 'AbelgodXOTWOD', 'AbelgodXOTWOD', 'AbelgodXOTWOD', 'AbelgodXOTWOD', 'AbelgodXOTWOD', 'AbelgodXOTWOD', 'AbelgodXOTWOD', 'AbelgodXOTWOD', 'AbelgodXOTWOD', 'AbelgodXOTWOD', 'AbelgodXOTWOD', 'AbelgodXOTWOD', 'AbelgodXOTWOD', 'AbelgodXOTWOD', 'AbelgodXOTWOD', 'AbelgodXOTWOD', 'AbelgodXOTWOD', 'AbelgodXOTWOD', 'AbelgodXOTWOD', 'AbelgodXOTWOD', 'AbelgodXOTWOD', 'AbelgodXOTWOD', 'AbelgodXOTWOD', 'AbelgodXOTWOD', 'AbelgodXOTWOD', 'AbelgodXOTWOD', 'AbelgodXOTWOD', 'AbelgodXOTWOD', 'AbelgodXOTWOD', 'AbelgodXOTWOD', 'AbelgodXOTWOD', 'AbelgodXOTWOD', 'AbelgodXOTWOD', 'AbelgodXOTWOD', 'AbelgodXOTWOD', 'AbelgodXOTWOD', 'AbelgodXOTWOD', 'AbelgodXOTWOD', 'AbelgodXOTWOD', 'AbelgodXOTWOD', 'AbelgodXOTWOD', 'AbelgodXOTWOD', 'AbelgodXOTWOD', 'AbelgodXOTWOD', 'AbelgodXOTWOD', 'AbelgodXOTWOD', 'AbelgodXOTWOD'], ['deicidios', 'deicidios', 'deicidios', 'deicidios', 'deicidios', 'deicidios', 'deicidios', 'deicidios', 'deicidios', 'deicidios', 'deicidios', 'deicidios', 'deicidios', 'deicidios', 'deicidios', 'deicidios', 'deicidios', 'deicidios', 'deicidios', 'deicidios', 'deicidios', 'deicidios', 'deicidios', 'deicidios', 'deicidios', 'deicidios', 'deicidios', 'deicidios', 'deicidios', 'deicidios', 'deicidios', 'deicidios', 'deicidios', 'deicidios', 'deicidios', 'deicidios', 'deicidios', 'deicidios', 'deicidios', 'deicidios', 'deicidios', 'deicidios', 'deicidios', 'deicidios', 'deicidios', 'deicidios', 'deicidios', 'deicidios', 'deicidios', 'deicidios']]\n",
            "[['Black Moon', 'D&G', 'FLASH DESIRE', 'Azeroy', 'Icedancer', 'Marjorie -W.C. Sinclair', 'AZEROY GARDEN 8888', 'SURGEON DOGMA', 'Last Bible', 'SWORDS', 'CRYSTAL HELIX', 'Gluee', 'EVERSINCE', 'BAROQUE', 'Contemporary Movement', 'Working on Dying', 'E', 'Red Light', 'Earlier Works Bootleg', 'Munnie Fetish Renegade Demon', 'Legendary Member', 'Let Me Go', 'VALERIA PULSAR', 'The Best Piece of Shit Vol. 3', 'Unknown Memory', 'e m o c e a n', 'CLAWS', 'Total Eclipse', 'Rare RCB hexD', 'Pale Swordsman', 'Minecraft - Volume Alpha', 'Чернь', 'outcome', 'Grimey Youth', 'HARDSTYLE DRILL 2009 NOKIA ANGELZ 1.6', 'rip bladee', '302? ionwan2go', 'SILENT HILL3 (Original Soundtrack)', '333', 'Trash Island', 'Yrrr Mind', 'Drakengard', 'so bitter', 'Unknown Death 2002', 'Bladeecity', 'Almighty So', 'Poison Ivy', 'Rainbow Bridge 3', 'The Fool', 'Kyoto'], ['Drukqs', 'The Tired Sounds of Stars of the Lid', 'Selected Ambient Works Volume II', 'The Ape of Naples', 'Vivadixiesubmarinetransmissionplot', 'Soundtracks for the Blind', 'The Dance of the Moon and the Sun', 'Trust', 'Geogaddi', 'Zen Arcade', 'Music Has the Right to Children', 'Xuvetyn', 'Pink Flag', 'Ágætis byrjun', 'You Will Never Know Why', 'Hellfire', 'Exai', 'Velocity: Design: Comfort.', 'Feels', 'LP5', 'Quaristice', 'Tri Repetae', 'In Rainbows', 'Yanqui U.X.O.', 'Stratosphere', 'Ravedeath, 1972', 'Yerself Is Steam', 'From Here We Go Sublime', 'Haunt Me', 'Confield', 'The Glow, Pt. 2', 'The Campfire Headphase', 'A Moon Shaped Pool', 'Red House Painters I', 'Hitori + Kaiso (1998 - 2001)', 'Rounds', 'TNT', 'Born Into Trouble as the Sparks Fly Upward', 'Things We Lost In the Fire', 'Syro', 'Codename: Dustsucker', 'A Promise', '...I Care Because You Do', 'Oversteps', 'Washing Machine', 'Pygmalion', 'Amber', 'Untrue', 'Electro-Shock Blues', \"Love's Secret Domain (30th Anniversary 2021 Remaster) [Bonati]\"], ['KiCk i', 'I Brought You My Bullets, You Brought Me Your Love', 'The Black Parade', 'His N Hers', 'Arca', 'KicK iii', 'Three Cheers for Sweet Revenge', 'KICK ii', 'Freaks', 'Danger Days: The True Lives of the Fabulous Killjoys', 'パンクの鬼 (Tokyo Anal Dynamite)', 'kiCK iiiii', 'Different Class', 'Mutant', 'Fetch', 'Chocolate Hearts and Stag Beetles', 'S/T', 'Early Works Bootleg', '4: AIDS-a-Delic', 'how many h8 can u feeling?', 'El Alma Que Te Trajo', 'Enemy Of The Azunyan Business', '@@@@@', 'OOIOO', '22nd Chances', 'Unlimited Ammo', 'WAHALLA', 'Instruments Disorder (170 Songs CD)', 'Yellow Trash Bazooka', 'Umeå', 'This Is Hardcore', 'Marjorie -W.C. Sinclair', 'Separations (Remastered)', 'Cutie Cutie', \"'77 Live\", \"What's Tonight To Eternity\", 'Oh! Mountain', 'Xen (????? Edition)', 'VOLCANIC BIRD ENEMY AND THE VOICED CONCERN', '空中キャンプ', 'あらためまして、はじめまして、ミドリです。', 'Azeroy', 'The Foundations of Decay', '[untitled]', 'This Is Not an Erect, All-Red Neon Body', 'It', 'Malenkost', 'Nothing Above, Nothing Below', 'Cable Hogue Soundtrack', '宇宙 日本 世田谷'], ['Pang', 'Ultraviolence (Deluxe)', 'to hell with it', 'Galore', 'Beatopia', 'Norman Fucking Rockwell!', 'Essentials', 'Flower Boy', 'Sin Miedo (del Amor y Otros Demonios) ∞', 'Sensational', 'Max & Match', 'Nymph', 'Patched Up', 'CRASH', 'bOrN pInK', 'Lust for Life', 'Yves', 'Midnights (3am Edition)', 'Ctrl', 'Blonde', 'Fake It Flowers', 'Climate Hive', 'French Exit', 'Soft Forest Clappering', 'Sky Is Rumbling', 'evermore (deluxe version)', 'Weather Watcher', 'Black Panther the Album Music From and Inspired By', 'Rainward', 'Blue Banisters', 'Chemtrails Over the Country Club', 'Nano Wave Sounds', 'Rainy days and rainy nights', 'Relaxation Makers', 'Soft Waves', 'WE NEED LOVE', 'YOUNG-LUV.COM', 'Z', 'folklore', 'folklore (deluxe version)', 'Sleepy Storm', \"Qu'il y Ait Des Vagues\", '2021 Wave Sounds', 'Ocean HD Vol. 3', 'Latent Heat', 'Thriftless Thunder', 'KICK ii', 'CAPRISONGS', 'Luscious Rain', 'Isolation'], ['Souvlaki', 'Around the Fur', 'Nevermind (Deluxe Edition)', 'unexpectedly', 'OK Computer', 'Loveless', 'Ultraviolence (Deluxe)', 'The Dark Side of the Moon', 'Adrenaline', 'White Pony', 'Kiss Me, Kiss Me, Kiss Me', 'Stratosphere', 'Saturday Night Wrist', \"Unknown Pleasures (Collector's Edition)\", 'Pablo Honey', 'Weezer', 'Blonde', 'Icedancer', 'The Rise and Fall of Ziggy Stardust and the Spiders from Mars (2012 Remaster)', 'Diamond Eyes', 'Deathconsciousness', 'MTV Unplugged in New York', 'Amnesiac', 'channel ORANGE', 'folklore', 'The Bends', 'Just for a Day', 'Bleach', 'Ohms', 'Hatful of Hollow', 'Siamese Dream (2011 - Remaster)', 'The Money Store', '13', 'The Colour and the Shape', 'In Utero - 20th Anniversary - Deluxe Edition', 'She Hangs Brightly', 'Gore', 'Koi No Yokan', 'Doolittle', 'Born to Die - The Paradise Edition', 'The Fool', 'evermore (deluxe version)', 'Lover', 'Blur: The Best Of', 'Incesticide', 'Norman Fucking Rockwell!', 'Retired from Sad, New Career in Business', 'Capsule Losing Contact', 'The Idiot', 'In the Aeroplane Over the Sea'], ['White Pony', 'Nevermind (Remastered)', 'The Slow Rush', 'Nevermind (Deluxe Edition)', 'Saturday Night Wrist', 'When the Pawn...', 'Diamond Eyes', 'Fallen', 'Three Cheers for Sweet Revenge', 'In Rainbows', 'Mezmerize', 'Around the Fur', 'Metallica', 'Vol. 3: The Subliminal Verses', 'Hybrid Theory (Bonus Edition)', 'The Bends', 'Facelift', 'From Under the Cork Tree', 'BU-IKIKAESU', 'In Utero - 20th Anniversary - Deluxe Edition', 'Gore', '13', 'Blur: The Best Of', 'Adrenaline', 'Deftones', 'Sinner', 'Dynasty', 'Be the Cowboy', 'Absolution', 'In Utero - 20th Anniversary Remaster', 'System of a Down', 'Toxicity', 'Currents', 'Comedown Machine', 'Black Ice', 'Post', 'Twilight', 'Anywhere But Home (Live)', 'Use Your Illusion II', 'See You on the Other Side', 'St. Anger', 'The Black Parade', 'Incesticide', 'The Wall', 'Amnesiac', 'Pablo Honey', 'Awake', 'All Hope Is Gone (10th Anniversary)', 'Superunknown (Deluxe Edition)', 'Mrs Magic'], ['I like it when you sleep, for you are so beautiful yet so unaware of it', 'A Brief Inquiry Into Online Relationships', 'Notes on a Conditional Form', 'The 1975', 'The Slow Rush', 'Currents', 'Pablo Honey', 'Oracular Spectacular', 'brand new eyes', 'Chip Chrome & The Mono-Tones (Deluxe)', 'Who Really Cares', 'The 1975 (Deluxe)', 'Congratulations', 'GABRIEL', 'Corinne Bailey Rae', 'Plastic Beach', 'Peripheral Vision', 'mOoDsWiNgS iN tO oRdEr', 'Sidelines', 'French Exit', 'Little Dark Age', 'Be the Cowboy', 'When You Come Around', 'In Rainbows', 'MATA', \"Harry's House\", 'The New Abnormal', 'RENAISSANCE', 'Daydream', 'Science & Faith', 'Moodswings In This Order', 'A Twist in My Story', 'Fine Line', \"Good Morning It's Now Tomorrow\", \"mama's boy\", 'The Bends', 'Once Twice Melody', 'TEMPORARY HIGHS IN THE VIOLET SKIES', 'Pastlife', 'The Night in Question: French Exit Outtakes', 'What Do You Really Know?', 'RIP Indo Hisashi', 'Wolfgang Amadeus Phoenix', 'gg bb xx', 'The Miseducation of Lauryn Hill', 'Being Funny In A Foreign Language', '22', 'Hopes and Fears', 'Demon Days', \"Brotherhood (Collector's Edition)\"], ['One Nite Alone... Live!', 'Purple Rain (Deluxe) [Expanded Edition]', \"One Nite Alone... The Aftershow: It Ain't Over! (Up Late with Prince & the NPG) [Live]\", 'Anthology: 1995-2010', 'Indigo Nights / Live Sessions', 'Emancipation', \"Sign ''O'' the Times\", 'Live in London', 'Parade (Music from the Motion Picture Under the Cherry Moon)', 'Musicology', 'Graffiti Bridge', 'Live in Dublin', \"Don Juan's Reckless Daughter\", 'Piano & a Microphone 1983', '1999', 'Prince', 'Originals', 'Blue Gardenia', '3121', 'Diamonds and Pearls', 'One Nite Alone... (Solo piano and voice by Prince)', 'Love Symbol Album', 'For You', 'Purple Rain', 'Crystal Ball', 'The Rainbow Children', 'Court and Spark', 'Around the World in a Day', 'Shadows and Light', 'Sweet Soul Queen of New Orleans: The Irma Thomas Collection', '20Ten', 'Back to Black', 'The Truth', 'Hejira', 'Dirty Mind', 'Miles of Aisles', 'For the Roses', 'PLECTRUMELECTRUM', 'Live at Carnegie Hall 1972-02-23', 'Prince And The Revolution: Live', 'From Natchez To New York', 'The Hissing Of The Summer Lawns', 'Blue', 'Live at Red Rocks, 30.08.1983', 'River: The Joni Letters', \"A Woman's Viewpoint: The Essential 1970s Recordings\", 'Frank', 'Ulisses', 'Ladies of the Canyon', 'Preludes: Rare And Unreleased Recordings'], ['folklore (deluxe version)', \"Red (Taylor's Version)\", 'Lover', 'evermore (deluxe version)', 'Norman Fucking Rockwell!', 'reputation', '1989 (Deluxe)', 'Honeymoon', 'Formula of Love: O+T=<3', \"Fearless (Taylor's Version)\", 'Speak Now', 'THE ALBUM', 'MOTOMAMI', 'Midnights (3am Edition)', 'Rare (Deluxe)', 'Savage - The 1st Mini Album', 'BETWEEN 1&2', 'Pang', 'Ultraviolence (Deluxe)', 'Born This Way (International Special Edition Version)', 'SOUR', 'bOrN pInK', 'Lemonade', 'Melodrama', 'RENAISSANCE', 'COR', 'Lust for Life', \"Hollywood's Bleeding\", 'CRASH (Deluxe)', 'The Perfect Red Velvet - The 2nd Album Repackage', 'Chromatica', 'Born to Die - The Paradise Edition', 'Feel Special', 'WHEN WE ALL FALL ASLEEP, WHERE DO WE GO?', 'Im Nayeon', 'Blue Banisters', 'Cry Baby (Deluxe Edition)', 'All My Demons Greeting Me As A Friend (Deluxe)', 'MORE & MORE', 'Scorpion', '28 Reasons - The 1st Mini Album', 'Revival (Deluxe)', 'Eyes wide open', 'K-12', 'Queendom - The 6th Mini Album', '[X X]', 'Hard to Imagine the Neighbourhood Ever Changing', 'More Life', 'Taste of Love', 'Red (Deluxe Edition)'], ['Deathconsciousness', 'OK Computer', 'The Bends', 'Stratosphere', 'Kid A', 'Shame, Shame (Deluxe Edition)', 'Pinkerton - Deluxe Edition', 'The Smiths', 'Talk Talk Talk', 'Amnesiac', 'DEATH NOTE original soundtrack', 'Songs About Leaving', 'Aerial 13', 'First Utterance', 'The Devil and God Are Raging Inside Me', 'Shakers For You', 'Hard Normal Daddy', 'Is This It', 'How It Feels to Be Something On', 'D>E>A>T>H>M>E>T>A>L', 'Alucinaciones en familia', \"La Conferencia Secreta Del Toto'S Bar\", 'American Football', 'Obey', 'Voids', 'Tri Repetae', 'Room on Fire', 'Raro', 'Deloused in the Comatorium', 'Soy Una Arveja', 'Pablo Honey', 'Barranca Abajo', 'Restos de un incendio', 'Hatful of Hollow', 'Danganronpa : Trigger Happy Havoc Original Soundtrack', 'haha', 'Yankee Hotel Foxtrot', 'Down Colorful Hill', 'Electro-Soma', 'Damnation', 'Zanoza', 'Развлечение', 'Pinkerton', 'Lunatic Harness', 'Zanoza', 'Selected Ambient Works 85-92', 'one', 'Rubber Soul', 'You All Look the Same to Me', 'Split'], ['Lush', 'The Colour in Anything', 'Overgrown', 'James Blake', '[#]', 'Max & Match', 'Endless', 'Assume Form', 'Hounds of Love', 'Broke with Expensive Taste', '[+ +]', 'Valentine', '[&]', '[12:00]', 'JinSoul', 'Charli', 'MAGDALENE', '[X X]', '333 (Deluxe)', 'Perfect Velvet - The 2nd Album', 'EP2', 'LP1', 'M3LL155X', 'Unknown Pleasures', 'Blood', 'Arca', 'Lungs (International Version)', 'KiCk i', 'Aromanticism', 'When I Get Home', 'CTRL (Deluxe)', 'Choerry', 'Kim Lip', 'Souvlaki', 'Clean', 'How Big, How Blue, How Beautiful (Deluxe)', 'Goddess (Deluxe)', 'Take Me Apart', 'Carrie & Lowell', 'Number 1 Angel', 'Summer Special [Flip That]', 'Ceremonials', 'Lemonade', 'Pop 2', 'Friends That Break Your Heart', 'Hatful of Hollow', 'Blue Bell Knoll', 'evermore (deluxe version)', \"What's Your Pleasure?\", 'In Colour'], ['Artaud', 'Piano bar', 'The Sound of Perseverance - Reissue', 'Pride & Glory', 'Serú Girán', 'Deliverance', 'Souvlaki', 'Bangkok Shocks, Saigon Shakes, Hanoi Rocks', 'Complete and Total Hell', 'Clics modernos', 'No Mercy For Mayhem', 'Bardcore, Vol. 2', 'Rebel Yell', 'King for a Day, Fool for a Lifetime', 'Two Steps From the Move', 'Blood Sugar Sex Magik (Deluxe Edition)', \"Kill 'em All (Remastered)\", 'García 87/93', 'La Rue Morgue', 'Serú Girán (Remasterizado 2021)', 'En la Ruta', 'Brother', 'The Real Thing', 'How I Go', 'Stay Sick!', 'Skid Row', 'Spellbound', 'Phenomenon (2007 Remaster)', 'Peacemaker', 'Mellon Collie and the Infinite Sadness (Deluxe Edition)', 'An Ocean Between Us', 'Pubis Angelical / Yendo De La Cama Al Living', 'Night of the Blade ...The Night Before', 'Abrázame', 'Historias de un hijo del Blues', 'Too Fast for Love', 'Black Magic', 'Pescado Rabioso 2', 'Morbid Visions / Bestial Devastation', 'Temple of the Dog', 'Bitterness the Star', 'Cowboys From Hell', 'Divididos por la Felicidad', 'Gravity X', 'Brother Cane', 'Hints, Allegations & Things Left Unsaid', 'White Pony', 'Probot', 'Red Fang', 'Dirt'], ['Madvillainy', 'Revenge', 'Veteran', 'who told you to think??!!?!?!?!', \"So The Flies Don't Come\", 'Blonde', 'Donuts', 'things that happen at day // things that happen at night', 'IGOR', 'Some Rap Songs', 'Anthology', '17', \"I Don't Like Shit, I Don't Go Outside: An Album by Earl Sweatshirt\", 'Harbor', 'Dark Comedy', 'By the Throat', 'In Rainbows', 'Look at Me! - Single', 'The Money Store', 'Sports', 'Bottomless Pit', 'Detour', 'When We Were Friends', 'The Impossible Kid', \"Whatever People Say I Am, That's What I'm Not\", 'The G.A.T. (The Gospel According To...)', 'let the sun talk', 'Hot Fuss', 'Hella Personal Film Festival', 'No Love Deep Web', 'In the Aeroplane Over the Sea', 'Japan', '1000 gecs', 'Twin Fantasy', 'Budding ornithologists are weary of tired analogies', 'purple moonlight pages', 'May God Bless Your Hustle', 'All My Heroes Are Cornballs', 'Skelethon', 'For Emma, Forever Ago', 'Hiding Places', 'WHEN WE ALL FALL ASLEEP, WHERE DO WE GO?', 'OK Computer', 'Scatterbrain', 'Favourite Worst Nightmare', 'Souvlaki', 'Malibu Ken', 'Marlowe 2', 'LP!', 'The Glow, Pt. 2'], ['Since I Left You (20th Anniversary Deluxe Edition)', 'Peliculas', 'Promises', 'Hounds of Love', 'Clics modernos', 'The Glow, Pt. 2', 'IGOR', 'Music for Commercials', 'Veteran', 'Fantasma (remastered)', 'あらためまして、はじめまして、ミドリです。', 'Three Cheers for Sweet Revenge', 'KICK ii', 'LP!', 'La Grasa de las Capitales: Edición 40º Aniversario', 'Hosianna Mantra', 'Human Beings and Animals', 'Camera Talk (Remastered 2006)', 'The Piper at the Gates of Dawn', 'Some Rap Songs', 'KiCk i', 'The Money Store', \"Mother Earth's Plantasia\", 'The Black Parade', 'Kakashi', 'A Shape of Light \"A Silent Voice the Movie\" Original Soundtrack', 'THREE CHEERS FOR OUR SIDE~海へ行くつもりじゃなかった~ (Remastered 2006)', 'London Calling (Remastered)', 'A', 'TONDEMO-WONDERZ', 'Disintegration (Deluxe Edition)', 'The Kick Inside', 'Divididos por la Felicidad', 'Llegando los Monos', 'Exmilitary', 'Draining Love Story', 'Call Me By Your Name (Original Motion Picture Soundtrack)', 'Joy as an Act of Resistance.', 'Dawn FM', 'KicK iii', 'Serú Girán (Remasterizado 2021)', 'Selected Ambient Works 85-92', 'Tango', 'Ants From Up There', 'Omori (Original Game Soundtrack), Pt.3', 'Russian Roulette - The 3rd Mini Album', 'El Mal Querer', 'MAN PLAYS THE HORN', 'my love feels all wrong. digipak', \"What's Going On\"], ['Have One on Me', 'Heartland', 'Ys', 'He Poos Clouds', 'In Conflict', 'Ten Love Songs', 'Emotion', 'All Mirrors', 'Titanic Rising', 'Rid of Me', 'White Chalk', 'The Milk-Eyed Mender', 'Vespertine', 'Just for a Day', 'Divers', 'Soft Sounds From Another Planet', \"What's Your Pleasure?\", 'Dedicated', 'Have You In My Wilderness', 'WLFGRL', 'The New Abnormal', 'Dedicated Side B', 'Has A Good Home', 'and Their Refinement of the Decline', 'Atrocity Exhibition', 'Set My Heart On Fire Immediately', 'Too Bright', 'Jubilee', 'Boys for Pele (Deluxe Edition)', 'Let England Shake', 'IMPOSSIBLE WEIGHT', 'Aviary', 'Sound Of Silver', 'Stories from the City, Stories from the Sea', 'Psychopomp', 'Capsule Losing Contact', 'Soviet Kitsch', 'This Is Happening', 'Modern Vampires of the City', 'Soul Lady', 'The Dreaming', 'New Long Leg', 'bury me at makeout creek', 'Pray For Paris', 'Begin to Hope', 'Souvlaki', 'A Promise', 'Loud City Song', 'MY WOMAN', 'Diaries'], ['Teen Dream', 'In Rainbows', 'To See the Next Part of the Dream', 'Melophobia', 'OK Computer', 'Bloom', 'Depression Cherry', 'Loveless', 'Devotion', '7', 'Once Twice Melody', 'Thank Your Lucky Stars', 'Heaven or Las Vegas', 'Carrie & Lowell', 'Kid A', 'The Bends', 'Antisocialites', 'Souvlaki', 'Plastic Beach', 'Slowdive', 'A Moon Shaped Pool', \"Whatever People Say I Am, That's What I'm Not\", 'Homogenic', 'Social Cues', 'Have One on Me', '...Like Clockwork', 'Supermodel', 'Downfall of the Neon Youth', 'Treasure', 'Illinois', 'Ys', 'Villains', 'Vespertine', 'Demon Days', 'Pure Heroine (Extended)', \"Tell Me I'm Pretty\", 'Twenty One Pilots', 'Kodama', 'Minecraft - Volume Alpha', 'Vessel', 'Beach House', 'Weatherglow', 'Trench', 'The Glow, Pt. 2', 'Écailles de lune', \"Hurry Up, We're Dreaming\", 'm b v', 'Bon Iver', 'Sunbather', 'Let Go'], ['Live Through This', 'Nevermind (Remastered)', 'OK Computer', 'Foo Fighters', 'Because of the Times', 'In Utero - 20th Anniversary Remaster', 'Aha Shake Heartbreak', 'Only by the Night', 'The Colour and the Shape', 'Room on Fire', 'Mechanical Bull (Expanded Edition)', 'When You See Yourself', 'Weezer', 'There Is Nothing Left to Lose', 'The Bends', 'Youth and Young Manhood', 'Come Around Sundown (Expanded Edition)', 'In Rainbows', 'Is This It', 'Incesticide', 'MTV Unplugged in New York', 'Dirt', 'In Utero - 20th Anniversary - Deluxe Edition', 'Bleach', 'AM', 'Celebrity Skin', 'Fantastic Planet', 'Everything All the Time', 'Colter Wall', 'First Impressions of Earth', 'Jar of Flies', 'Angles', 'The New Abnormal', 'Dirt (2022 Remaster)', 'WALLS', 'Alice in Chains', 'Brothers', 'Pinkerton', 'Stadium Arcadium', 'Cease to Begin', 'Hot Fuss', 'Things Are Great', 'summerteeth', 'Traveller', 'Kid A', 'Holy Roller Novocaine', 'Dookie', 'By the Way (Deluxe Edition)', 'Born To Die (Bonus Track Version)', 'Master Of Puppets (Remastered)'], ['The Life of Pablo', 'Kamikaze', 'Peluson Of Milk', 'ye', 'Artaud', 'Donda', 'My Beautiful Dark Twisted Fantasy', 'The Smiths', 'Yeezus', 'Graduation', 'The Rise and Fall of Ziggy Stardust and the Spiders From Mars', 'Almendra', 'JESUS IS KING', 'Louder Than Bombs', 'London Calling', 'The Queen Is Dead', 'Vida', 'El jardín de los presentes', 'The College Dropout', 'Durazno Sangrando', 'Bocanada', 'Hunky Dory', 'Al final de este viaje...', 'Late Registration', 'Peperina', 'Muerte', 'Confesiones De Invierno', 'Artaud', 'Blonde', 'The Doors', 'Clics modernos', 'Dynamo', 'Amor Amarillo', 'Transformer', 'Piano bar', 'Clandestino... Esperando La Última Ola', '808s & Heartbreak', 'El Amor Después del Amor', 'Los Demenciales Chicos Acelerados', 'The Clash', 'Salad Days', 'Anti Todo', '2', 'Kortatu', '1964-1971', 'The Rise and Fall of Ziggy Stardust and the Spiders from Mars (2012 Remaster)', 'Selected Ambient Works 85-92', 'Static Age', 'The Velvet Underground & Nico 45th Anniversary', 'Ramones'], ['Mahler: Symphony No. 5', 'Midnights (3am Edition)', 'The Beatles', 'Glenn Gould plays Schoenberg: Klavierstücke opp. 11, 19, 23, 33; Piano Suite op. 25; Piano Concerto op. 42; Fantasy for Violin & Piano op. 47; Ode to Napoleon Buonaparte op. 41; Lieder opp. 1; 2; 3; 6; 12; 14; 15; 48', 'Hawaii', 'あらためまして、はじめまして、ミドリです。', 'Mozart: The Complete Piano Concertos', 'Merriweather Post Pavilion', 'Saijiki', 'channel ORANGE', 'Debussy: complete orchestral works', 'Debussy: Complete Works for Piano', 'reputation', 'Mezzanine', 'Bavarian Fruit Bread', 'Abbey Road', 'OK Computer', 'Vivaldi Masterworks', 'Fossora', 'Bach, J.S.: Cantatas & Sacred Masterpieces', \"Sgt. Pepper's Lonely Hearts Club Band (Super Deluxe Edition)\", 'summerteeth', 'Modern Life Is Rubbish', 'Be the Cowboy', 'Illinois', '1989 (Deluxe)', '勝訴ストリップ', 'Departure', 'Suspiria (Music for the Luca Guadagnino Film)', 'Yankee Hotel Foxtrot (Deluxe Edition)', 'Pygmalion', \"Red (Taylor's Version)\", 'Late Registration', 'Midnights', 'Rubber Soul', '69 Love Songs', 'Fly', 'Phantom Thread (Original Motion Picture Soundtrack)', 'Lift Your Skinny Fists Like Antennas to Heaven', 'Souvlaki', 'Homogenic', 'In the Aeroplane Over the Sea', 'folklore: the long pond studio sessions (from the Disney+ special) [deluxe edition]', \"Le fabuleux destin d'Amélie Poulain (Bande originale du film)\", 'Past Masters (Vols. 1 & 2)', 'Revolver', 'Disintegration (Remastered)', 'Raciocínio Quebrado', 'KID A MNESIA', 'Emotion (Deluxe Expanded Edition)'], ['Year of the Snitch', 'Music Has the Right to Children', 'Geogaddi', 'Galaxy 2 Galaxy: A High Tech Jazz Compilation', 'Twilight', 'To Pimp a Butterfly', 'Heroes', 'New Moon', 'Dubnobasswithmyheadman (20th Anniversary Remaster)', 'No Love Deep Web', 'The Money Store', 'Veteran', 'Kid A', 'IGOR', 'Currents', 'Somersault', 'Second Toughest In The Infants (Remastered)', 'RAMONA', 'Change', 'Visions', 'untitled unmastered.', 'CLANNAD ORIGINAL SOUNDTRACK DI', 'Lonerism', 'Government Plates', 'Crack-Up', 'Atrocity Exhibition', 'Endtroducing.....', 'InnerSpeaker', 'Hejira', 'Emergency & I', 'Blonde', 'DAMN.', 'Exmilitary', 'Bookends', 'Beaucoup Fish', 'Double Nickels on the Dime', 'Syro', 'Blackstar', 'Flower Boy', 'Sometimes I Sit and Think, and Sometimes I Just Sit', 'COOOL', 'Bottomless Pit', 'The Fat of the Land', 'Art Angels', \"Who Will Cut Our Hair When We're Gone? (Remastered)\", 'Second Edition', 'good kid, m.A.A.d city', 'Madvillainy', 'Low', 'cLOUDDEAD'], ['The Downward Spiral', 'Tourist History', 'OK Computer', 'FINAL FANTASY VI (Original Soundtrack)', 'The Glow, Pt. 2', 'We Are Not Your Kind', 'Rust In Peace', 'Demon Days', 'Toxicity', 'Discovery', 'In Utero (20th Anniversary Edition)', 'The Fragile', 'Random Access Memories', 'Absolution', 'Giving The World Away', 'Nevermind', 'Black Holes and Revelations', 'Broken', 'Pink Moon', 'Plastic Beach', 'Velocity : Design : Comfort.', 'Abbey Road (Remastered)', 'Nite Versions', 'Pretty Hate Machine (Remastered)', 'Among the Living', 'Black On Both Sides', 'VEGA INTL. Night School', 'Songs from the Big Chair', 'The Powers That B', '…Because I’m Young Arrogant and Hate Everything You Stand For', 'With Teeth', 'Pretty Hate Machine', 'Screaming for Vengeance (Bonus Track Version)', 'Ladies and Gentlemen We Are Floating in Space', 'Mega Man X Sound Collection', 'Electric', 'Since I Left You', 'Metaphorical Music', 'The Tired Sounds of Stars of the Lid', 'Justice', 'Ghosts I-IV', 'Power, Corruption & Lies', 'In Colour', 'Big Fish Theory', 'Psychic Chasms', 'Polygon', 'HIRAETH', \"Peace Sells... But Who's Buying?\", 'Dirt', 'Blackstar'], ['Stranger', 'Deep Cuts', 'Warlord (Deluxe)', 'Студень', 'HotLine Miami 2: Wrong Number', 'LONG.LIVE.A$AP (Deluxe Version)', 'Crystal Castles', 'Unknown Memory', 'Luv Is Rage 2', 'Hotline Miami', 'AT.LONG.LAST.A$AP', 'Dummy', 'Frost God', 'Silent Shout', 'My Love Is Cool', '(III)', \"Can't Sleep\", '2', 'Crystal Castles (II)', 'Nevermind', 'Salad Days', 'Portishead', 'Finally Rich', 'OK Computer', 'Гантеля', 'Stoney (Deluxe)', 'Mas Fuerte', 'Неизвест. альбом', 'Annabel Dream Reader', 'Mezzanine', 'MCMXC a.D.', 'King Night', 'Ignorance is Bliss', 'Does This Look Infected?', 'Exploding Head', 'Lil Boat 2', 'Visions', 'Long Ambients 1: Calm. Sleep', 'Fires in Heaven', 'Kid A', 'Close The Door', 'Kasabian', 'Do Not Lay Waste To Homes...', 'The South Got Something to Say', 'Meteora', 'The Doors', 'Demon Days', 'The Knife', 'Tragic City', 'Back to Black'], ['Punisher', 'Montgomery Ricky', 'Alopecia (Reissue)', 'Stranger in the Alps (Deluxe Edition)', 'Harmony House', 'evermore (deluxe version)', \"Red (Taylor's Version)\", 'folklore (deluxe version)', \"It's 2016 Somewhere\", 'Tallahassee', \"Harry's House\", 'Better Oblivion Community Center', 'Lover', 'Teens of Denial', 'Dark in Here', 'Plans', 'Transatlanticism (10th Anniversary Edition)', 'Fine Line', 'Fuzzybrain', 'Reconstruction Site', 'Elephant Eyelash', 'Pretty. Odd.', 'Take the Sadness out of Saturday Night', 'Pure Heroine', '1989 (Deluxe Edition)', 'Silo', 'Solar Power (Deluxe Edition)', 'Fleet Foxes', 'Shore', 'OUCH!', 'The Honeysticks', 'Making a Door Less Open', \"Fearless (Taylor's Version)\", 'In Sickness & in Flames', 'Testarossa', 'Talon of the Hawk', 'Norman Fucking Rockwell!', 'See You There', 'AM', 'Copycat Killer', 'Challengers', 'Jubilee', 'Marigold (Expanded Edition)', 'The Baby', 'Moh Lhean Expanded', 'Dreamland (+ Bonus Levels)', 'Amperland, NY', 'Strange Desire', '11:11', 'A Very Lonely Solstice'], ['Leaves Turn Inside You', 'Orchid', 'Repetition', 'Voyage Out', 'The Going Away Present', 'The OOZ', 'Last City', 'Lumens', 'New Plastic Ideas', 'Fake Train', 'End on End', 'Spiderland', 'Unwound', 'fawn', 'The Future of What', 'Stratosphere', 'Dance Tonight! Revolution Tomorrow!', 'Steady Diet of Nothing', 'I.V.', 'Circle Thinking', 'Instrument Soundtrack', 'Pockets', 'Hatful of Hollow', 'Challenge for a Civilized Society', 'American Football', 'Collected', 'Here Comes the Cowboy', 'Damaged', 'Nothing Feels Natural', 'The Feeling', 'City of Caterpillar', 'TNT', 'Twin Fantasy (Mirror to Mirror)', 'Rat Conspiracy', 'Pieces of a Man', 'The Punch Line', 'Bad Brains', 'The Queen Is Dead', 'Skinny Grin', 'The Money Store', 'Rock and Roll Night Club', 'UNDERTALE Soundtrack', 'The Visit/Seduction', 'Out of Step', '2', 'あらためまして、はじめまして、ミドリです。', 'My War', 'Laisser vivre les squelettes', 'European Tour 2011', 'Fuzzybrain'], ['The Beatles [White Album] CD1', 'Let It Be', 'Paranoid (Remaster)', 'Abbey Road', 'Abbey Road (Remastered)', 'Love', 'The Beatles (Remastered)', 'Magical Mystery Tour', 'Beatles for Sale', 'Rubber Soul', 'Sgt Peppers Lonely Hearts Club Band', 'With the Beatles', 'Gamer', 'Help!', 'The Queen Is Dead', 'All Things Must Pass (Remastered 2014)', 'Pablo Honey', 'Let It Be (remastered)', 'Hatful of Hollow', 'Paranoid', 'A Hard Day´s Night', 'Past Masters I', 'Abbey Road (Super Deluxe Edition)', 'Nevermind (Remastered)', 'In the Aeroplane Over the Sea', 'Revolver', 'Louder Than Bombs', 'Zerwee', 'OK Computer', 'The Smiths', 'Metallica (Remastered)', 'Please Please Me', 'MSG, Vol. 2', 'Little Dark Age', 'Past Masters II', 'Rubber Soul (Remastered)', 'MKULTRA SUPPORT GROUP, Vol. 1', \"Sgt. Pepper's Lonely Hearts Club Band (Remastered)\", 'Three Imaginary Boys (Deluxe Edition)', 'Let It Be... Naked (remastered)', 'Meat Is Murder', 'MSG, Vol. 3', 'Nevermind', 'The Bends', 'With the Beatles (Remastered)', 'Strange Days', 'Magical Mystery Tour (Remastered)', 'Old music alert', 'MKULTRA SUPPORT GROUP, Vol. 2', 'Yellow Submarine'], ['KID A MNESIA', 'In Rainbows', 'Turn On The Bright Lights (The Tenth Anniversary Edition - 2012 Remaster)', 'Suffer On', 'OK Computer OKNOTOK 1997 2017', 'Wish Me Well', 'The Wall', 'Nevermind (Remastered 2021)', 'Antics (The Special Edition)', 'Hail to the Thief', \"50 Years - Don't Stop\", 'A Moon Shaped Pool', 'Magical Mystery Tour (Remastered)', 'We Will Always Love You', 'Endless Rooms', 'Culture III', 'The King of Limbs', 'Afraid Of Heights', 'Shoot for the Stars Aim for the Moon', 'The Beatles (Remastered)', 'After Hours', 'Suffer On (Deluxe Edition)', 'TYRON', 'Revolver (Remastered)', 'Khaled Khaled', 'The Devil and God Are Raging Inside Me', 'Scary Hours 2', 'Elephant Shell', 'Faith', 'Abbey Road (Super Deluxe Edition)', 'The Beatles (White Album / Super Deluxe)', 'Revolver (Super Deluxe)', 'Let It Be (Super Deluxe)', 'Ants From Up There', \"It's Been a Long Time Since You Said That You Missed Me\", 'Savage Mode II', 'In Utero - 20th Anniversary Remaster (96k)', 'Franchise (feat. Future, Young Thug & M.I.A.) [remix]', 'Plans', 'The Dark Side of the Moon', 'The Queen Is Dead (Deluxe Edition)', 'Complete', 'Keep It Like a Secret', 'AP (Music from the film Boogie)', 'Certified Lover Boy', 's/t', 'What a Time to Be Alive', \"Hollywood's Bleeding\", \"Come Over When You're Sober, Pt. 1\", 'Rust Never Sleeps'], ['Amnesiac', '13', 'Hybrid', 'The Bends', 'In Rainbows', 'Nurture', 'Worlds', 'Kid A', 'Parklife', 'Music Has the Right to Children', 'Justice', 'Remote', 'Mezzanine', 'Spirit Phone', 'In the Aeroplane Over the Sea', 'Outside the Box', 'LCD Soundsystem', 'Mouth Silence', 'Happier Than Ever', 'Demon Days', 'Remain In Light (Deluxe Version)', 'Homework', 'Pablo Honey', 'The Great Escape', 'Good Faith', 'Random Access Memories', 'Discovery', 'Audio, Video, Disco.', 'Mouth Dreams', 'Alive 2007', 'No Jacket Required (2016 Remaster)', 'Adventure (Deluxe)', 'OK Computer', 'Outsidein', 'Yoshimi Battles The Pink Robots', 'The Downward Spiral', 'The Stranger', 'Think Tank', 'This Is Happening', 'Swing Resistance', 'The Velvet Underground & Nico 45th Anniversary', 'Plastic Beach', 'Leisure', 'The Eraser', 'American Pie', 'Three Cheers for Sweet Revenge', 'Future Nostalgia', 'SOUR', 'My Beautiful Dark Twisted Fantasy', 'Blur'], ['Whole Lotta Red', 'Die Lit', 'FLASH DESIRE', 'PXE', 'Icedancer', 'CLAWS', 'solitude.', 'EXETER', 'Playboi Carti', '333', 'Crest', 'Good Luck', \"I'm Fresh\", 'EVERSINCE', 'Fade', 'E', 'Working on Dying', 'Eternal Atake (Deluxe) - LUV vs. The World 2', 'Let Me Go', 'Variety Pack EP, Vol. 1', 'The Fool', 'Lil Uzi Vert vs. the World', 'Bitch Made', 'ASTROWORLD', 'Kick Rocks (feat. Lil Darkie)', 'Life', 'In Abundance', 'Cozy Tapes Vol. 2: Too Cozy', 'Trash Island', 'BAROQUE', 'Red Light', 'WHAT', 'Man On The Moon: The End Of Day (Deluxe)', 'Gluee', '808s & Heartbreak', 'Into Dust', 'The Life of Pablo', 'SWORDS', '#SantanaWorld (+)', \"Nuthin' 2 Prove\", 'Freewave', 'Broke Boi', 'Wrath', 'Dark Lane Demo Tapes', 'Lil Boat 3.5', 'Kona Park', 'Graduation', 'xxet', 'Donda', '8888EACH DIVINITY'], ['Formula of Love: O+T=<3', 'Nectar', 'ODDINARY', 'Cigarettes After Sex', 'Cry', 'the sum', 'AM', 'The Essential Michael Jackson', 'Taste of Love', 'LOVE DIVE', 'Summer Nights', 'Grande', 'Perfect World', 'Favourite Worst Nightmare (Standard Version)', 'good luck have fun', 'recess', 'Electra Heart (Platinum Blonde Edition)', 'The Family Jewels (Deluxe)', 'TWICEcoaster: LANE 1', 'The Nat King Cole Story', 'Eat Ya Veggies', 'Eyes wide open', 'Hard to Imagine the Neighbourhood Ever Changing', 'Ancient Dreams In A Modern Land (Deluxe Edition)', 'Planet Her', 'Celebrate', 'BETWEEN 1&2', 'gg bb xx', 'The Dream Chapter: STAR', 'The Fame Monster (Deluxe Edition)', 'NOEASY', 'Gasanova', '1 (Remastered)', 'FANCY YOU', 'Stokeley', 'Humanz (Deluxe)', 'sweetlilly93@hotmail.com', 'Chip Chrome & The Mono-Tones (Deluxe)', 'nokdu ep vol.1', 'GO Live', 'Feel Special', 'Nothing Happens', 'HIDEOUT: REMEMBER WHO WE ARE - SEASON1.', 'The Beatles (Remastered)', 'STAYDOM', 'Hello Future - The 1st Album Repackage', \"Seventeen 4th Album Repackage 'SECTOR 17'\", 'BORDER : CARNIVAL', 'Diana Ross Presents the Jackson 5', 'I.'], ['THE GHOST~POP TAPE', 'Crystal Castles', 'Grind Mansion: Midnight House Party', 'VOLCANIC BIRD ENEMY AND THE VOICED CONCERN', 'Anti-World', 'Veteran', 'Unknown Pleasures', 'Whole Lotta Red', 'Goth Luv', 'All My Heroes Are Cornballs', 'Icytwat Radio', '700 DAGREEZ', 'LP!', 'Паранойя', 'Unimon Superstar', 'e m o c e a n', 'Donuts', 'HELLHORSE', 'Scumbag', 'Chocolate Hearts and Stag Beetles', 'Cilvia Demo', 'Soulja Luv Rari World', 'Serotonin II', 'Psychobabble Boogiepop', 'EVERSINCE', 'RARE Hi-C .PNG', 'Die Lit', 'CRACK CLOUD$ OVER ARTS KITCHEN', 'Konkurs', 'Loveless', 'Everyone Into Position', 'Yeezus', 'Dior Junts', 'antidote', \"Speedin' Bullet 2 Heaven\", '6 Dogs', 'OFFLINE!', 'キュプラ', 'Essentials', 'Trapped in The Trenches', 'Early Works Bootleg', 'Deathconsciousness', 'Red Light', 'Evil Nigga', 'Enchanted Propaganda', 'Hybrid Theory', 'Donda', 'Sxicid3 Sqxad', 'HELLBOY', 'Music For Nurses'], ['Lincoln', 'Le Voyage dans la Lune', 'Hard Candy', 'Luxurious', 'Madvillainy', 'Marcos Valle', 'Some Rap Songs', 'Double Nickels on the Dime', 'Flower Boy', 'Five-A-Side', 'Illmatic', 'CALL ME IF YOU GET LOST', 'Turnpike Diaries', 'Songs in the Key of Life', 'NO OFFENCE', 'The Life of Pablo', 'Robbie Dupree', \"Dah Shinin'\", \"What's Going On\", 'Máquina do Tempo', 'Stukas Over Disneyland', 'Graduation', 'IGOR', 'ハルカリベーコン', 'Careless', \"LIFE'S A TRIP\", 'Lost in Love', 'A Mis 20', 'NataKong', 'More Life', 'Moment Of Truth', 'Pet Sounds (Original Mono & Stereo Mix Versions)', 'Luv Is Rage 2', 'Internal Affairs', 'Vacation (Original Motion Picture Soundtrack)', 'Superunknown', 'Hard To Earn', 'To Pimp a Butterfly', 'Minute by Minute', 'Behind Bars', '2+2+1=', 'We Got It From Here... Thank You 4 Your Service', 'Tesoros De Coleccion', 'The Original Soundtrack', 'Is This It', 'Endtroducing.....', 'Blind Melon', 'Garra', 'Baby On Baby', 'Traffic Jam In Moscow'], ['MACABRE', 'The Wall', \"Never Mind The Bollocks, Here's The Sex Pistols\", 'GAUZE', 'American Psycho', 'I Disagree', 'Collection', 'THE MARROW OF A BONE', 'The Boys', 'Citron', 'Am I a Girl?', 'UROBOROS', '...And Out Come the Wolves', 'Eleventeen', 'Famous Monsters', 'Kisou', 'To Anyone', 'Hell Yeah', 'The Dark Side of the Moon', 'Static Age', 'Suki Suki Daisuki', '2NE1 2nd Mini Album', 'Wonder World', 'The Kick Inside', \"It's My Party!\", 'I GOT A BOY', 'London Calling', 'Never for Ever', 'A Kiss Before You Go', 'Flux', 'C.AARMÉ', 'CRASH', 'Energy', 'Sweets～SCANCH BEST COLLECTION～', 'Rancid [1993]', 'Rain Dogs', 'Vita', 'Electric Shock', 'JET CD', 'Le Pop', \"Life Won't Wait\", 'DUM SPIRO SPERO', 'I am...', 'ARCHE', 'Stone Roses', 'Jealousy', 'The Best Of The Ronettes', 'MY STORY', 'Hounds of Love', 'Splurge'], ['Blonde', 'Parachutes', \"LO▼E'S\", 'YHLQMDLG', 'Random Access Memories', 'EL ÚLTIMO TOUR DEL MUNDO', 'beerbongs & bentleys', 'A Rush of Blood to the Head', \"Hollywood's Bleeding\", 'El Madrileño', 'OK Computer', 'Moonlight922', 'After Hours', 'Souvlaki', 'Standing On The Corner', 'X&Y', 'A.D.R.O.M.I.C.F.M.S. 4', 'Tercer Verano del Amor', 'In Rainbows', 'Unreleased', 'Siempre', 'Melanchole', 'Timelezz', 'How to Save a Life', 'Untrue', 'Die Lit', 'Pablo Honey', 'Around the Fur', '1999', 'The Life of Pablo', 'Kid A', 'Loveless', 'Avida Dollars', 'To Pimp a Butterfly', 'Maracucho Bueno Muere Chiquito', 'Traumatismo Kraneoencefalico', 'LAS QUE NO IBAN A SALIR', 'Is This It', 'The College Dropout', 'Ídolo', 'Dummy', 'The Queen Is Dead', 'X 100PRE', '808s & Heartbreak', '2001', 'Late Registration', 'MOTOMAMI', 'ye', 'El Mal Querer', 'My Beautiful Dark Twisted Fantasy'], ['Whole Lotta Red', 'Fresh Fruit For Rotting Vegetables (Expanded Edition)', 'The Velvet Underground & Nico 45th Anniversary', 'ひまわり画像', 'Trout Mask Replica', 'Loveless', 'Kollaps', 'Pink Moon', 'Bad Brains', 'But, What Ends When the Symbols Shatter?', 'Rainbow Bridge 3', 'Filth', 'Deceit', 'A Promise', \"OIL OF EVERY PEARL'S UN-INSIDES\", 'In the Aeroplane Over the Sea', 'Double Nickels on the Dime', 'Children of God', 'Soundtracks for the Blind', 'Todd', 'Madvillainy', 'Rainbow Bridge', 'Sink', 'Remain In Light (Deluxe Version)', 'Horseshit on route 66', 'The Queen Is Dead', 'In the Flat Field', 'Stratosphere', 'あらためまして、はじめまして、ミドリです。', 'Fetch', 'Ortodossia II/Compagni, Cittadini, Fratelli, Partigiani (2008 Remastered Edition)', 'Crack Musica', 'MOTOMAMI', '・薔薇綺麗躊躇網羅就職痙攣蝋燭鷹麟爨齉馕龘爨齉龘・  (Pink Album)', 'Damaged', 'Obey', 'Atrocity Exhibition', '…Because I’m Young Arrogant and Hate Everything You Stand For', 'Le Mani Destre Recise Degli Ultimi Uomini', 'Obscura', 'All My Heroes Are Cornballs', '20 Jazz Funk Greats', 'Русское Поле Эксперимента (Акустика)', \"You Won't Get What You Want\", '好き好き大好き', 'Bad Moon Rising', 'To Be Kind', 'The Seeds', 'Live 1977-1979', 'Prayers On Fire'], ['Punisher', 'LP!', 'Titanic Rising', 'Piñata', 'To Pimp a Butterfly', \"I Don't Like Shit, I Don't Go Outside: An Album by Earl Sweatshirt\", 'Minecraft - Volume Alpha', 'Whack World', 'Some Rap Songs', 'Paper Mâché Dream Balloon', 'WORRY.', 'All My Heroes Are Cornballs', 'The Money Store', 'Ants From Up There', 'Brick Body Kids Still Daydream', \"Time 'n' Place\", 'TA13OO', 'Flower Boy', 'Mista Thug Isolation', 'Madvillainy', 'Weezer', 'The Rise and Fall of Ziggy Stardust and the Spiders from Mars (2012 Remaster)', 'Hellfire', 'Atrocity Exhibition', 'Deceit', 'The Forever Story', 'good kid, m.A.A.d city (Deluxe)', 'SATURATION II', 'Mr. Morale & the Big Steppers', 'Revolver (Remastered)', 'Post', 'OFFLINE!', 'Late Registration', 'Melt My Eyez See Your Future', 'The Black Parade', 'The Impossible Kid', 'Veteran', 'Spiderr', 'CLPPNG', 'Pink Moon', 'Little Dark Age', 'Die Lit', 'Teens of Denial', 'Demon Days', 'By the Time I Get to Phoenix', 'GODS FATHER', 'FM!', '4eva Is a Mighty Long Time', 'Visions of Bodies Being Burned', 'Hyper-Dimensional Expansion Beam'], ['AIM (Deluxe)', 'Trava Línguas', 'Matangi', 'MOTOMAMI', 'Born to Die - The Paradise Edition', 'Blue Banisters', 'Honeymoon', 'Norman Fucking Rockwell!', 'Ultraviolence (Deluxe)', 'Te Amo Lá Fora', 'MATA', 'Sin Miedo (del Amor y Otros Demonios) ∞', 'Lust for Life', 'KiCk i', 'Sinto Muito', 'Halfaxa', 'Born This Way (International Special Edition Version)', 'Brilliant Adventure (1992 – 2001)', 'Visions', 'New Decadence', 'Popular', 'Arular', 'The Fame Monster (Deluxe Edition)', \"Let's Part in Style\", 'Miley Cyrus & Her Dead Petz', '/\\\\/\\\\ /\\\\ Y /\\\\ (Deluxe Edition)', 'Elis', 'Clube Da Esquina', 'Chromatica', 'MENGA', 'Mourn', 'Miss Anthropocene (Deluxe Edition)', 'Starboy', 'Party Girl', 'Ecstasy in the Shadow of Ecstasy', 'The One', 'Rito de Passá', 'Kala', 'Born to Die – Paradise Edition (Special Version)', 'EVERYONE AFRAID TO BE FORGOTTEN', 'The Wall', 'Nó Na Orelha', 'kin', 'The Immaculate Collection', 'Pang', 'Tropix', 'Los Ángeles', 'Envolver', 'Transversal Do Tempo', 'Black Celebration (Deluxe)'], ['Twin Fantasy', 'Teens of Denial', 'Making a Door Less Open', 'The Bends', 'In Rainbows', 'Horseshit on route 66', 'Pinkerton - Deluxe Edition', 'Is This It', 'Around the Fur', 'Loveless', 'How To Leave Town', 'Mirror Might Steal Your Charm', 'Cruel Melody', 'Saturday Night Wrist', 'OK Computer', 'Weezer (Black Album)', 'D>E>A>T>H>M>E>T>A>L', 'Position 2 (Extended)', 'Twilight', 'Either/Or', 'Room on Fire', '333', 'Pablo Honey', '22nd Chances', 'Red Light', 'Los Flakos', 'Hidden Treasures', 'Spirit Youth', 'Hunky Dory (2015 Remaster)', 'Rumskib', 'Rainbow Bridge', 'Vecinos Psicodélicos', 'Rust in Peace (Expanded Edition)', 'Depresión Sonora', 'Stratosphere', 'ep’s 1988-1991 and rare tracks', 'Diamond Eyes', 'XO', 'Marjorie -W.C. Sinclair', 'Collide With the Sky', \"Let's Dance (2018 remaster)\", 'La La Land (Original Motion Picture Score)', 'Souvlaki', 'tyuudokusyoujyou〜ni〜', 'White Pony', 'For Lovers', '日々のあわ', 'Microcastle', 'hikikomori days', 'Vol. 3: The Subliminal Verses'], ['Born This Way', 'Melodrama', 'Back to Black', '1989', 'Lemonade', 'MASSEDUCTION', 'E•MO•TION', 'After Laughter', 'Dirty Computer', 'Sweetener', 'Night Time, My Time', 'Red', 'Chromatica', 'ANTI', 'Hounds of Love', 'ARTPOP', 'folklore', 'Lança perfume', 'Be the Cowboy', 'Dangerous Woman', 'Isolation', 'Lust for Life', 'SAWAYAMA', 'Pure Heroine', 'RENAISSANCE', 'Beyoncé', 'Blackout', 'MOTOMAMI', 'The Velvet Rope', \"Red (Taylor's Version)\", 'Laundry Service', 'Butterfly', 'thank u, next', 'Ctrl', 'Rainbow', 'Golden Hour', 'HOMECOMING: THE LIVE ALBUM', 'St. Vincent', 'Positions', 'Daydream', 'Rita Lee', 'Dedicated', 'No Shame', 'Fruto Proibido', 'Number 1 Angel', 'Alright, Still', 'Joanne', 'Broke with Expensive Taste', 'Caution', 'Sheezus'], ['Relationship of Command', 'Career Suicide', 'Hissing Prigs in Static Couture', 'In On the Kill Taker', 'Red Medicine', 'The Smiths', 'Strangeways, Here We Come', 'Domestica', 'Hatful of Hollow', 'Life on a Plate', 'Attack on Memory', 'Fast Forward Eats the Tape', 'Ruiner', '13 Songs', 'Bright Green Field', 'Repetition', 'Public Strain', 'The Future of What', 'The Queen Is Dead (2017 Master)', 'The Queen Is Dead', 'Mute Print', 'Drive Like Jehu', 'Pennybridge Pioneers', 'Ass Cobra', 'Embrace', 'Songs to Scream at the Sun', 'Since I Left You', 'Sideburner', 'An American Paradox', 'Complete Discography [2003 Remaster]', 'Little Dark Age', 'Milo Goes to College', 'Endtroducing.....', 'The Marshall Mathers LP', 'Repeater + 3 Songs', 'Generator', 'Anonymized Internal Criminals', 'Entertainment!', 'Leaves Turn Inside You', 'The Argument', 'The Lurid Traversal of Route 7', 'Doppelgänger', \"Let's Talk About Feelings\", 'Suicide Invoice', 'Black Eyes', 'Meat Is Murder', 'Smash', 'The Life of Pablo', 'Operation Ivy', 'The Fall Of Troy'], ['Wolf', 'Stratosphere', 'To Pimp a Butterfly', 'Chocolate and Cheese', 'Pure Guava', 'OK Computer', 'Die Lit', 'Kid A', 'The Life of Pablo', 'The Mollusk', 'Late Registration', 'The Bends', 'The Pod', 'Bastard', 'Goblin', 'Whole Lotta Red', 'ye', 'Quebec', 'Yeezus', 'GodWeenSatan: The Oneness', 'Experimental Dust', 'Blonde', 'The Wall', 'Contemporary Movement', 'Capsule Losing Contact', 'The College Dropout', 'IGOR', 'Geogaddi', 'Old Tunes Vol. 2', 'Cherry Bomb', 'Selected Ambient Works 85-92', 'Donda', 'Enter the Wu-Tang (36 Chambers)', 'Deathconsciousness', 'The Velvet Underground & Nico', 'White Pony', 'Watch the Throne', 'MM..Food', 'Flood', 'channel ORANGE', 'JESUS IS KING', 'Under Construction [The Wall Demos]', '808s & Heartbreak', 'Amnesiac', 'White Pepper', 'Resident Alien', 'WOLF (2010)', 'Graduation', 'Under Construction', 'So Help Me God'], ['His N Hers', 'Danger Days: The True Lives of the Fabulous Killjoys', 'Wolfgang Amadeus Phoenix', 'Silent Alarm', 'You & Me', 'Different Class', 'Reflektor', 'The Suburbs', 'Kaputt', 'The Glow, Pt. 2', 'Modern Vampires of the City', 'HiperAsia', \"Sam's Town\", 'Neon Bible', 'This Is Happening', 'Portamento', 'Everyone Who Pretended to Like Me Is Gone', 'xx', 'Intimacy', 'Plastic Beach', 'Up the Bracket', 'Wildflower', 'Cupid Deluxe', 'My Beautiful Dark Twisted Fantasy', 'Ti Amo', 'Some Rap Songs', 'Bows + Arrows', 'Screamadelica', 'In Rainbows', 'Primary Colours', 'The Libertines', 'Depression Cherry', 'Sound Of Silver', 'Father of the Bride', 'Doolittle', 'First Impressions of Earth', 'A Weekend In the City', 'Love Letters', 'Four', 'Bossanova', 'The Resistance', 'Loveless', 'The Drums', 'A Brief Inquiry Into Online Relationships', '22, a Million', 'Bankrupt!', 'Contra', 'Humbug', 'Plans', 'Freetown Sound'], ['Anthology 2', 'Abbey Road', 'Rubber Soul', 'Anthology 3', 'Anthology 1', 'Aha Shake Heartbreak', 'Help!', 'Complete', 'Past Masters, Vols. 1 & 2', 'The Dark Side Of The Moon (Remastered)', 'Junk of the Heart', \"Sgt. Pepper's Lonely Hearts Club Band\", 'The Dark Side of the Moon', 'The Platinum Collection', 'The Wall', 'Spinetta Y Los Socios Del Desierto', 'Tejas', 'Let It Be', '1919 Eternal', 'Degüello', 'Revolver', 'MTV Unplugged', 'Coliumo', 'Beatles for Sale', 'Please Please Me', 'The Beatles (White Album)', 'Pulse (live)', 'Live at Budokan', 'With the Beatles', 'More', \"A Hard Day's Night\", 'Magical Mystery Tour', 'Konk', 'Plans', 'No Rest for the Wicked (Bonus Track Version)', 'El Loco', 'Technical Difficulties', 'Incesticide', 'Pulse', 'Héroes del Silencio: The Platinum Collection', 'Imagine', 'Nevermind', 'The Division Bell', 'Ahí Vamos', 'Rak', 'Comfort y Música Para Volar', 'Big Bang', 'La Sangre En El Cuerpo', 'Obscured by Clouds', 'Yellow Submarine'], ['NieR Gestalt & NieR RepliCant Original Soundtrack', 'Red Light', 'D&G', 'NieR:Automata Original Soundtrack', 'undergone', 'E', 'Icedancer', 'EVERSINCE', 'my love feels all wrong. digipak', 'gnb', 'EVANGELION FINALLY', 'Nekomonogatari (Kuro) Gekihanongakushu [Original Soundtrack]', 'Stranger', 'EXETER', 'goretrance 9', 'Shiro SAGISU Music from \"SHIN EVANGELION\" EVANGELION: 3.0+1.0.', 'NEO: The World Ends with You - Original Soundtrack', 'PERSONA5 ORIGINAL SOUNDTRACK', '0', 'Trash Island', 'Bakemonogatari Gekihanongakushu (Original Soundtrack)', 'Singles', 'Catherine & Catherine Full Body Soundtrack Set', 'UNDERTALE Soundtrack', 'Poison Ivy', 'Unknown Memory', 'NieR Gestalt & Replicant 15 Nightmares & Arrange Tracks', 'STEINS;GATE Original Soundtrack', 'C3L3STIAL天の', '333', 'Bladeecity', 'NieR:Automata Original Soundtrack', 'Nisemonogatari Gekihanongakushu (Original Soundtrack)', 'NieR:Automata Original Soundtrack', 'FINAL FANTASY XIII-2 Original Soundtrack PLUS', 'Heaven to a Tortured Mind', 'TOHO BOSSA NOVA 2', 'AvP', 'with all my heart. digipak', 'TOHO BOSSA NOVA 3', 'Koimonogatari Gekihanongakushu (Original Soundtrack)', 'Tomo Me Nyado', 'Violence', 'Sunset in Silver City', 'Utamonogatari Special Edition (Original Soundtrack)', 'Working on Dying', 'Kizumonogatari Gekihanongakushu (Original Soundtrack)', 'Tomboyish Love for Soda Pop and Apple Sweets (Digipak)', 'Draining Love Story', 'GUILTY GEAR SOUND COMPLETE BOX (5)'], ['Icedancer', 'Stratosphere', 'Songs About Leaving', 'BAROQUE', '(III)', 'Three Cheers for Sweet Revenge', 'Azure-Core', 'Working on Dying', 'The Fool', 'FLASH DESIRE', 'D&G', 'SILENT HILL2 (Original Soundtrack)', 'Birds in the Ground', 'Trash Star', 'A Promise', 'The Glow, Pt. 2', 'Either/Or', 'Trash Island', 'Modal Soul', 'Spiderr', 'Early Works Bootleg', 'World Tour', 'Loveless', 'Whole Lotta Red', 'Twilight', 'White Pony', 'Leaves Turn Inside You', \"Just Got Back from the Discomfort We're Alright\", 'D>E>A>T>H>M>E>T>A>L', 'Red Light', 'Souvlaki', 'Crest', 'Together', 'Fabulous Muscles', 'E', 'Untrue', 'The Black Parade', 'Crystal Castles', 'Turn on the Bright Lights', 'Diary (2009 Edition)', 'Duster', 'Attention 2 Retail', 'The Power of Failing', 'Glitch Princess', '700 DAGREEZ', 'Transmission, Flux', 'value', 'Around the Fur', 'Twin Fantasy', 'Melody of Certain Damaged Lemons'], ['The Mollusk', 'GodWeenSatan: The Oneness', 'The Wall', 'Chocolate and Cheese', 'Quebec', 'The Pod', 'Mass Teen Fainting', 'The Piper at the Gates of Dawn', 'Flood', 'White Pepper', 'Apollo 18', 'Pure Guava', 'They Might Be Giants', 'Scott Pilgrim vs. the World (Original Motion Picture Soundtrack)', 'More Songs About Buildings and Food', 'La Cucaracha', 'Talking Heads: 77', 'Night in the Woods Vol. 1: At The End Of Everything', 'Wish You Were Here', 'Lincoln', 'Grand Slam', 'Portal 2: Songs to Test By (Collectors Edition)', 'The Dark Side of the Moon', 'life changing moments seem minor in pictures', 'Chef Aid: The South Park Album', 'Flutterboard', 'Not For Broadcast - Original Soundtrack', 'Fear of Music', 'Ivy and the Big Apples', \"I'm in Your Mind Fuzz\", 'A Message for Marta', 'Nonagon Infinity', 'Night in the Woods Vol. 2: Hold On To Anything', 'A Saucerful of Secrets', 'Minecraft - Volume Alpha', 'Meddle', \"The Beginner's Guide\", 'Out of the Blue', 'A Night at the Opera', 'Cold Spring Harbor', 'Sam & Max Save the World', 'Life Sentence (B-Sides & Rarities)', 'Polygondwanaland', 'Brown Album', 'Fishing for Fishies', 'State Songs', 'Time', 'Atom Heart Mother', \"This Day Won't Last At All\", 'John Henry'], ['Punisher', 'evermore (deluxe version)', 'reputation', 'folklore (deluxe version)', '1989 (Deluxe)', 'Lover', 'Red (Deluxe Edition)', \"Red (Taylor's Version)\", 'Blonde', 'Midnights', 'Melodrama', 'Puberty 2', 'Women in Music Pt III (Expanded Edition)', 'Home Video', 'songs', 'Be the Cowboy', 'SOUR', 'Stranger in the Alps', 'bury me at makeout creek', 'Historian', \"Fearless (Taylor's Version)\", 'Speak Now', 'Either/Or', 'Boygenius', 'LUSH', 'Burn Your Fire For No Witness (Deluxe Edition)', 'Masterpiece', 'folklore', 'evermore', 'Retired from Sad, New Career in Business', 'Hozier', 'Midnights (3am Edition)', 'Louder Than Bombs', 'Sling', 'Heard It in a Past Life', 'OK Computer', 'Cigarettes After Sex', \"I'm Wide Awake, It's Morning\", 'Norman Fucking Rockwell!', 'MY WOMAN', 'Carrie & Lowell', 'Solar Power', 'Stranger in the Alps (Deluxe Edition)', 'Valentine', 'channel ORANGE', 'Hatful of Hollow', 'In Rainbows', 'When the Pawn...', 'Novacane', 'Titanic Rising'], ['Teen Dream', 'Schlagenheim', \"how i'm feeling now\", 'Bloom', 'Goat Girl', 'Pang', 'For the First Time', 'Visions of a Life', 'Titanic Rising', 'Blue Weekend', 'Leaves Turn Inside You', 'Cavalcade', 'White Light From the Mouth of Infinity', 'Drukqs', '925', 'Devotion', 'Depression Cherry', \"G_d's Pee AT STATE'S END!\", 'CALIGULA', 'Beach House', 'Telegraphs in Negative / Mouths Trapped in Static', 'Soundtrack ke konci světa', 'Spiderland', 'KiCk i', 'Souvlaki', 'Luciferian Towers', 'Public Strain', 'KicK iii', 'Stratosphere', '…Because I’m Young Arrogant and Hate Everything You Stand For', '7', 'Ants From Up There', 'My Love Is Cool (Deluxe Edition)', 'The Glow, Pt. 2', 'WOMEN', 'Once Twice Melody', 'Le voyage éternel', 'Thank Your Lucky Stars', 'Wicked City', 'Generácia Y', 'Nebeský klid', 'Around the Fur', 'New Plastic Ideas', 'On All Fours', 'CRASH', 'The Bends', 'Bright Green Field', 'White Pony', 'Repetition', 'In Rainbows'], ['Tiene Que Haber Algo Más', 'Souvlaki', 'El Madrileño', 'Whole Lotta Red', 'Dizzy Up the Girl', 'Heaven or Las Vegas', 'Fetch the Bolt Cutters', 'Blonde', 'The Life of Pablo', 'FREELANCE', 'IGOR', 'Donda', 'Icedancer', 'EL ÚLTIMO TOUR DEL MUNDO', 'Die Lit', 'Twin Fantasy', 'El Mal Querer', 'Madvillainy', 'K.I.D.S.', 'Yeezus', 'We Love You Tecca', 'The Melodic Blue', 'Twilight', 'Graduation', 'Slowdive', \"(What's the Story) Morning Glory? [Remastered]\", 'Mr. Morale & the Big Steppers', 'Un Verano Sin Ti', 'Debut', 'My Beautiful Dark Twisted Fantasy', 'Around the Fur', 'Some Rap Songs', 'X 100PRE', 'Trash Island', 'Gutterflower', 'ye', 'MOTOMAMI', 'Montage of Heck: The Home Recordings (Deluxe Soundtrack)', 'When the Pawn...', 'Playboi Carti', 'Be the Cowboy', '18', 'DAMN.', 'Teens of Denial', 'Heathen Chemistry', \"It's Almost Dry\", 'Crest', 'Instrument Soundtrack', 'Richard D. James Album', 'After Hours'], ['The Smiths', 'The Bends', 'The Queen Is Dead', 'Hatful of Hollow', 'Souvlaki', 'OK Computer', 'Meat Is Murder', 'Soda Stereo (Remastered)', 'Louder Than Bombs', 'The Doors', 'Just for a Day', 'Loveless', 'Depression Cherry', 'Nevermind (Remastered)', 'Stratosphere', 'In Rainbows', 'Unknown Pleasures', 'Comfort Y Musica Para Volar', 'Canción Animal (Remastered)', 'White Pony', 'In Utero - 20th Anniversary - Deluxe Edition', 'Doble Vida (Remastered)', 'Nada Personal (Remastered)', 'Three Imaginary Boys', 'Signos (Remastered)', 'Grace', 'Twilight', 'Deathconsciousness', \"Everybody Else Is Doing It, So Why Can't We?\", 'A Rush of Blood to the Head', 'Draining Love Story', 'Hybrid Theory (Bonus Edition)', 'этажи', 'Around the Fur', 'Turn on the Bright Lights', 'Locura', 'Bloweyelashwish', 'Pablo Honey', 'Los Tres', 'Favourite Worst Nightmare', 'Parachutes', 'Dynamo (Remastered)', 'Amnesiac', 'Endtroducing.....', 'Steve McQueen', \"Whatever People Say I Am, That's What I'm Not\", 'El Jardin De Los Presentes', 'Saturday Night Wrist', 'Silent Alarm', 'Bocanada'], ['POST HUMAN: SURVIVAL HORROR', 'WINGS', 'Koi No Yokan', 'Finally We Are No One', '醜奴兒', 'Dear', 'The Most Beautiful Moment In Life Pt.2', 'The Most Beautiful Moment in Life: Young Forever', 'and Their Refinement of the Decline', 'White Pony', '更迭', 'Absolution', 'The Tired Sounds of Stars of the Lid', 'Diamond Eyes', 'OK Computer', 'The 2nd Law', '1830m', 'Mothership', '鮎川のしづく', 'Sempiternal (Expanded Edition)', '冀西南林路行', 'Death Magic', 'Wiped Out!', '何度でも新しく生まれる', 'Ohms', 'Saturday Night Wrist', \"No Man's Sky: Music for an Infinite Universe\", 'To See the Next Part of the Dream', 'Windswept Adan', 'Origin of Symmetry', 'Fetch', 'Electric Girl', 'Worlds', 'Shrines', 'AM', '(III)', 'Neō Wax Bloom', '(II)', 'Fantôme', 'NCT #127 Neo Zone: The Final Round - The 2nd Album Repackage', 'Sleeping with Ghosts', 'Kid A', 'Instant Gratification', 'NCT RESONANCE Pt. 2 - The 2nd Album', '暗闇', '0', 'FIRST IMPACT', 'Lance', '鏡中鏡', 'Deftones']]\n",
            "[['8027', '3190', '2356', '2164', '2036', '1735', '1503', '1495', '1428', '1300', '1044', '991', '875', '725', '695', '639', '579', '552', '516', '489', '483', '469', '460', '455', '428', '395', '384', '376', '375', '362', '341', '341', '329', '321', '320', '318', '308', '299', '299', '298', '292', '291', '290', '287', '284', '269', '269', '242', '239', '239'], ['387', '330', '267', '254', '244', '213', '194', '186', '161', '151', '150', '150', '150', '146', '143', '141', '139', '134', '130', '123', '121', '121', '115', '113', '111', '109', '106', '104', '104', '102', '102', '101', '101', '100', '98', '94', '94', '93', '92', '91', '91', '91', '88', '88', '88', '87', '86', '86', '86', '85'], ['1919', '1399', '1175', '1149', '1006', '1002', '899', '882', '725', '682', '679', '607', '598', '460', '449', '432', '432', '424', '385', '368', '364', '361', '341', '327', '323', '305', '303', '293', '290', '287', '284', '283', '281', '273', '273', '268', '263', '253', '244', '242', '242', '237', '232', '231', '230', '230', '215', '215', '215', '214'], ['56', '32', '30', '23', '20', '20', '18', '17', '14', '13', '13', '13', '12', '12', '11', '11', '11', '11', '10', '9', '8', '8', '8', '7', '7', '7', '7', '6', '6', '6', '6', '6', '6', '6', '6', '6', '6', '6', '6', '6', '6', '6', '6', '6', '6', '5', '5', '5', '5', '5'], ['8101', '7168', '4723', '4222', '4056', '3464', '3462', '3322', '3012', '2995', '2978', '2916', '2797', '2796', '2726', '2693', '2644', '2618', '2603', '2481', '2447', '2447', '2417', '2267', '2257', '2181', '2110', '2107', '2095', '2051', '1998', '1960', '1885', '1884', '1868', '1854', '1827', '1814', '1797', '1730', '1668', '1593', '1556', '1545', '1506', '1489', '1478', '1437', '1424', '1353'], ['38', '31', '25', '20', '17', '16', '13', '11', '11', '11', '10', '8', '8', '8', '7', '7', '6', '6', '6', '6', '6', '5', '5', '5', '5', '5', '5', '5', '5', '5', '5', '5', '5', '5', '4', '4', '4', '4', '4', '4', '4', '4', '4', '4', '4', '4', '4', '4', '4', '4'], ['526', '508', '466', '343', '270', '240', '238', '185', '169', '165', '149', '146', '138', '135', '124', '112', '111', '109', '106', '106', '105', '101', '101', '100', '97', '94', '93', '91', '91', '90', '89', '89', '87', '85', '83', '79', '75', '75', '73', '72', '71', '69', '69', '68', '67', '67', '65', '65', '64', '64'], ['29883', '9110', '8985', '8821', '8149', '5678', '5551', '5327', '4492', '4117', '4017', '3948', '3858', '3739', '3719', '3438', '3318', '2985', '2897', '2874', '2771', '2531', '2426', '2373', '2327', '2324', '2250', '2230', '2176', '2166', '2118', '1935', '1928', '1925', '1917', '1895', '1888', '1863', '1825', '1766', '1719', '1710', '1697', '1590', '1589', '1583', '1577', '1539', '1537', '1472'], ['2219', '1830', '1255', '1129', '1115', '1084', '1049', '712', '671', '654', '630', '621', '608', '608', '536', '476', '473', '465', '448', '444', '432', '428', '421', '412', '392', '355', '351', '340', '336', '335', '327', '315', '312', '311', '303', '301', '300', '295', '279', '274', '262', '256', '238', '237', '231', '224', '223', '221', '213', '209'], ['1320', '819', '645', '602', '508', '491', '453', '447', '443', '432', '422', '404', '384', '353', '350', '340', '340', '328', '325', '314', '255', '248', '239', '239', '235', '229', '219', '214', '207', '202', '196', '188', '183', '183', '179', '179', '174', '173', '172', '163', '150', '148', '144', '138', '138', '136', '135', '132', '125', '117'], ['1513', '1324', '1118', '918', '908', '856', '855', '756', '689', '675', '633', '631', '626', '604', '588', '554', '526', '512', '499', '488', '469', '457', '448', '416', '411', '410', '400', '378', '363', '362', '361', '338', '338', '330', '323', '313', '312', '289', '289', '282', '271', '267', '266', '265', '252', '246', '245', '244', '229', '225'], ['124', '97', '66', '61', '55', '53', '53', '49', '49', '47', '47', '47', '45', '45', '45', '44', '42', '41', '41', '41', '41', '39', '38', '38', '38', '37', '37', '37', '36', '36', '35', '34', '34', '33', '33', '33', '32', '32', '32', '32', '31', '31', '31', '31', '30', '30', '30', '30', '30', '29'], ['451', '350', '323', '282', '271', '255', '234', '227', '203', '181', '167', '157', '155', '155', '150', '138', '133', '133', '131', '131', '128', '126', '126', '125', '125', '124', '121', '117', '113', '109', '109', '109', '106', '104', '103', '101', '98', '97', '94', '92', '89', '84', '82', '79', '76', '75', '74', '73', '71', '70'], ['278', '270', '228', '213', '209', '202', '187', '187', '176', '163', '159', '150', '141', '140', '129', '111', '110', '107', '99', '91', '84', '84', '82', '82', '80', '78', '76', '72', '71', '69', '69', '68', '67', '64', '62', '61', '61', '59', '57', '56', '55', '54', '54', '52', '51', '51', '50', '49', '48', '47'], ['723', '481', '452', '436', '358', '301', '298', '296', '282', '255', '255', '249', '244', '236', '228', '208', '205', '200', '195', '189', '179', '168', '167', '166', '163', '161', '160', '158', '155', '139', '133', '133', '132', '123', '113', '112', '112', '110', '108', '107', '106', '103', '103', '103', '102', '97', '96', '90', '87', '86'], ['2180', '2065', '1860', '1457', '1390', '1373', '1338', '1046', '1014', '991', '926', '893', '843', '823', '709', '682', '680', '650', '595', '595', '585', '582', '576', '567', '516', '460', '449', '424', '421', '421', '418', '410', '405', '388', '381', '379', '372', '360', '358', '354', '353', '346', '345', '329', '328', '327', '309', '308', '307', '302'], ['590', '436', '420', '415', '404', '380', '370', '351', '319', '284', '279', '265', '251', '249', '249', '247', '245', '238', '226', '222', '208', '196', '185', '182', '180', '180', '159', '153', '149', '138', '137', '137', '134', '133', '133', '122', '117', '116', '113', '110', '109', '104', '103', '100', '99', '97', '95', '95', '93', '89'], ['389', '348', '337', '313', '312', '292', '256', '256', '255', '243', '240', '237', '226', '226', '225', '223', '208', '201', '200', '199', '196', '190', '190', '189', '174', '173', '170', '160', '153', '150', '144', '139', '138', '137', '136', '135', '132', '131', '123', '123', '121', '120', '117', '116', '115', '114', '113', '113', '112', '110'], ['79', '70', '70', '67', '65', '64', '57', '55', '54', '52', '51', '50', '50', '49', '48', '47', '46', '45', '45', '45', '44', '44', '43', '43', '43', '43', '42', '41', '41', '41', '40', '40', '39', '39', '39', '38', '38', '37', '36', '36', '35', '35', '35', '35', '34', '34', '34', '33', '33', '32'], ['1195', '933', '927', '886', '790', '789', '776', '732', '659', '630', '623', '598', '574', '571', '565', '562', '509', '503', '493', '443', '437', '415', '413', '399', '394', '384', '383', '382', '381', '372', '371', '371', '370', '364', '359', '355', '352', '337', '337', '333', '333', '329', '326', '322', '320', '318', '314', '313', '311', '309'], ['283', '257', '133', '129', '117', '113', '107', '105', '105', '104', '104', '90', '89', '86', '85', '85', '83', '82', '81', '80', '80', '80', '79', '78', '74', '74', '74', '72', '71', '71', '71', '70', '69', '69', '68', '68', '68', '65', '65', '64', '64', '62', '59', '57', '56', '55', '54', '52', '51', '50'], ['627', '614', '552', '493', '438', '376', '351', '340', '337', '322', '314', '308', '301', '288', '280', '278', '270', '260', '245', '243', '241', '225', '224', '222', '207', '206', '204', '203', '199', '196', '181', '178', '178', '174', '170', '167', '165', '165', '165', '164', '163', '162', '151', '151', '149', '149', '143', '139', '138', '136'], ['1461', '1265', '875', '619', '471', '426', '391', '387', '371', '363', '354', '329', '326', '307', '299', '297', '291', '290', '263', '248', '245', '233', '207', '206', '204', '203', '195', '194', '194', '190', '179', '178', '178', '176', '176', '174', '172', '172', '167', '167', '163', '154', '153', '153', '153', '152', '150', '149', '149', '147'], ['285', '278', '217', '182', '169', '159', '155', '134', '134', '133', '123', '113', '110', '100', '96', '93', '88', '85', '83', '75', '72', '70', '68', '66', '63', '63', '61', '57', '55', '52', '48', '48', '47', '46', '45', '44', '43', '43', '41', '41', '41', '39', '38', '37', '36', '36', '35', '35', '35', '34'], ['482', '304', '184', '182', '175', '173', '165', '163', '161', '145', '129', '122', '120', '114', '107', '101', '101', '93', '93', '90', '82', '82', '81', '74', '73', '70', '70', '68', '67', '67', '64', '64', '61', '57', '55', '55', '54', '54', '51', '49', '48', '45', '44', '43', '43', '43', '42', '41', '40', '40'], ['464', '444', '412', '376', '274', '228', '207', '205', '179', '177', '161', '161', '161', '152', '135', '130', '126', '122', '119', '117', '113', '110', '109', '108', '107', '105', '105', '105', '102', '99', '99', '98', '93', '91', '89', '88', '88', '86', '85', '82', '82', '81', '77', '77', '76', '71', '69', '69', '67', '65'], ['1159', '1020', '943', '891', '873', '808', '753', '697', '677', '644', '640', '629', '619', '598', '580', '532', '525', '495', '475', '475', '473', '462', '462', '445', '429', '426', '404', '402', '386', '370', '368', '361', '351', '319', '319', '315', '310', '308', '306', '302', '298', '291', '287', '279', '272', '268', '261', '246', '232', '231'], ['12793', '11795', '6465', '6261', '5991', '4084', '3938', '3437', '3368', '2738', '1896', '1828', '1678', '1633', '1385', '1226', '923', '861', '836', '805', '792', '784', '768', '728', '670', '607', '589', '518', '481', '434', '417', '414', '365', '361', '348', '347', '327', '311', '306', '297', '295', '293', '287', '278', '274', '270', '270', '269', '259', '246'], ['834', '780', '612', '474', '466', '353', '310', '310', '296', '286', '278', '267', '247', '241', '222', '213', '211', '206', '182', '177', '170', '168', '160', '158', '149', '149', '147', '145', '138', '137', '135', '135', '131', '130', '127', '118', '114', '113', '111', '111', '111', '106', '103', '103', '100', '99', '99', '98', '97', '96'], ['3521', '1424', '1267', '980', '889', '704', '694', '681', '661', '658', '604', '597', '595', '568', '547', '522', '394', '388', '374', '332', '326', '322', '319', '318', '295', '292', '267', '261', '258', '256', '248', '245', '240', '239', '234', '233', '233', '231', '218', '215', '210', '209', '207', '194', '190', '190', '189', '185', '180', '180'], ['273', '228', '217', '211', '199', '190', '175', '165', '148', '147', '147', '142', '139', '136', '135', '127', '124', '123', '116', '115', '115', '112', '111', '98', '97', '96', '94', '94', '91', '90', '88', '87', '85', '83', '83', '82', '81', '81', '81', '78', '78', '76', '74', '73', '71', '70', '68', '68', '67', '67'], ['536', '510', '501', '485', '432', '394', '345', '327', '319', '310', '297', '296', '278', '258', '253', '242', '239', '239', '223', '216', '215', '213', '209', '207', '199', '197', '196', '191', '188', '188', '186', '183', '182', '181', '179', '178', '175', '174', '172', '170', '161', '159', '158', '157', '151', '151', '150', '149', '148', '145'], ['1383', '1180', '771', '583', '544', '518', '512', '488', '480', '457', '455', '448', '434', '433', '427', '377', '367', '363', '362', '358', '355', '349', '346', '343', '339', '332', '325', '320', '319', '317', '316', '312', '311', '310', '308', '301', '297', '295', '294', '291', '290', '278', '274', '274', '272', '272', '272', '269', '262', '257'], ['137', '93', '89', '88', '87', '83', '78', '73', '70', '69', '69', '69', '69', '66', '65', '57', '54', '54', '54', '53', '51', '50', '49', '49', '48', '48', '47', '47', '46', '45', '44', '44', '44', '44', '43', '43', '43', '43', '42', '41', '41', '41', '41', '40', '40', '39', '39', '38', '37', '37'], ['112', '80', '75', '70', '70', '63', '60', '57', '56', '56', '55', '52', '51', '49', '49', '47', '44', '44', '43', '43', '43', '40', '39', '38', '37', '36', '36', '35', '35', '35', '34', '32', '32', '31', '31', '30', '30', '29', '29', '29', '27', '27', '26', '26', '26', '26', '25', '24', '24', '24'], ['755', '737', '337', '284', '281', '274', '274', '265', '265', '193', '184', '164', '159', '155', '153', '147', '140', '131', '124', '121', '120', '119', '114', '111', '110', '107', '106', '102', '98', '92', '92', '92', '92', '90', '86', '83', '82', '80', '78', '74', '72', '69', '69', '69', '68', '68', '66', '65', '65', '63'], ['123', '97', '89', '78', '77', '67', '65', '63', '61', '59', '54', '51', '50', '49', '49', '49', '48', '46', '45', '45', '45', '44', '44', '42', '41', '41', '41', '41', '40', '38', '37', '36', '36', '35', '35', '35', '34', '33', '32', '32', '31', '31', '31', '31', '30', '30', '30', '29', '29', '29'], ['1795', '1765', '1617', '1422', '1407', '1364', '1340', '1329', '1307', '1293', '1239', '1158', '1153', '1145', '1085', '1073', '1048', '1046', '1043', '1042', '1013', '1012', '993', '983', '980', '963', '950', '950', '929', '923', '921', '907', '905', '881', '880', '873', '818', '817', '812', '810', '799', '796', '791', '786', '775', '773', '762', '760', '749', '744'], ['542', '392', '320', '307', '268', '259', '246', '243', '228', '217', '207', '206', '195', '193', '188', '182', '182', '178', '168', '164', '146', '146', '141', '139', '136', '128', '119', '116', '116', '113', '109', '107', '107', '107', '105', '104', '102', '101', '101', '99', '99', '98', '96', '93', '90', '89', '88', '87', '87', '80'], ['143', '125', '114', '92', '89', '81', '79', '78', '76', '76', '75', '75', '74', '70', '69', '68', '67', '67', '63', '63', '62', '61', '61', '60', '58', '58', '58', '55', '53', '50', '49', '49', '49', '47', '45', '41', '41', '40', '40', '39', '39', '39', '38', '38', '38', '37', '37', '36', '36', '35'], ['793', '720', '676', '654', '639', '620', '608', '593', '571', '533', '526', '523', '511', '493', '475', '474', '467', '452', '443', '437', '437', '431', '429', '429', '429', '425', '424', '411', '411', '387', '386', '379', '375', '373', '372', '372', '361', '361', '358', '358', '357', '349', '348', '346', '341', '333', '332', '331', '329', '328'], ['922', '867', '819', '783', '762', '578', '571', '553', '508', '455', '448', '447', '428', '424', '419', '405', '388', '385', '375', '375', '368', '356', '356', '349', '344', '332', '328', '323', '317', '305', '304', '299', '290', '287', '281', '278', '264', '263', '261', '259', '259', '259', '259', '256', '254', '253', '252', '251', '246', '245'], ['987', '801', '699', '543', '503', '495', '347', '314', '241', '236', '229', '223', '201', '196', '190', '174', '172', '171', '161', '155', '154', '148', '137', '131', '128', '126', '125', '124', '121', '104', '100', '100', '97', '94', '92', '87', '86', '83', '78', '78', '77', '75', '75', '74', '74', '73', '73', '71', '71', '70'], ['697', '520', '404', '388', '377', '299', '260', '250', '247', '212', '210', '201', '201', '193', '183', '174', '162', '158', '157', '152', '150', '147', '144', '144', '140', '138', '137', '135', '134', '132', '129', '126', '124', '122', '119', '117', '114', '112', '111', '111', '105', '104', '104', '101', '99', '97', '96', '94', '93', '92'], ['2731', '2664', '2042', '1952', '1825', '1551', '995', '954', '839', '810', '802', '687', '673', '614', '545', '507', '495', '454', '454', '454', '433', '431', '382', '381', '381', '359', '356', '340', '338', '328', '316', '313', '295', '290', '279', '274', '271', '269', '255', '252', '250', '248', '247', '241', '227', '225', '222', '218', '214', '213'], ['1228', '1140', '1138', '1119', '913', '833', '726', '698', '593', '570', '554', '520', '497', '479', '478', '452', '450', '450', '441', '372', '341', '330', '317', '300', '261', '258', '258', '239', '228', '225', '224', '212', '203', '202', '196', '196', '186', '181', '179', '175', '173', '166', '166', '160', '155', '150', '149', '147', '147', '147'], ['464', '459', '458', '452', '433', '428', '420', '415', '392', '390', '376', '375', '350', '333', '327', '309', '307', '300', '295', '291', '283', '280', '279', '277', '270', '263', '258', '254', '252', '252', '251', '250', '245', '244', '239', '236', '233', '231', '228', '222', '215', '207', '207', '204', '198', '197', '197', '196', '195', '192'], ['730', '574', '390', '369', '361', '359', '351', '348', '324', '274', '253', '252', '249', '246', '246', '245', '245', '236', '234', '225', '216', '201', '194', '189', '189', '187', '179', '178', '177', '177', '175', '175', '168', '168', '165', '165', '164', '157', '154', '151', '149', '149', '147', '146', '146', '146', '142', '138', '136', '135'], ['691', '540', '531', '497', '469', '436', '421', '357', '315', '285', '271', '255', '232', '231', '230', '224', '223', '215', '204', '198', '197', '197', '196', '196', '194', '177', '176', '164', '154', '151', '147', '142', '142', '141', '136', '135', '129', '128', '125', '123', '121', '121', '120', '118', '117', '115', '113', '112', '107', '106'], ['347', '335', '301', '268', '260', '256', '248', '245', '243', '238', '238', '232', '232', '228', '224', '220', '218', '215', '215', '209', '208', '196', '195', '193', '192', '192', '190', '190', '187', '184', '182', '176', '175', '170', '168', '165', '159', '153', '152', '151', '147', '146', '145', '145', '143', '142', '142', '142', '141', '138']]\n"
          ]
        }
      ],
      "source": [
        "print(users)\n",
        "print(album_names)\n",
        "print(playcount)"
      ]
    },
    {
      "cell_type": "code",
      "execution_count": 69,
      "metadata": {
        "colab": {
          "base_uri": "https://localhost:8080/"
        },
        "id": "LO6X2M8JDqNo",
        "outputId": "1201a50a-7944-4d16-ea39-ee2983e2df8d"
      },
      "outputs": [
        {
          "name": "stdout",
          "output_type": "stream",
          "text": [
            "['hikamu', 'hikamu', 'hikamu', 'hikamu', 'hikamu', 'hikamu', 'hikamu', 'hikamu', 'hikamu', 'hikamu', 'hikamu', 'hikamu', 'hikamu', 'hikamu', 'hikamu', 'hikamu', 'hikamu', 'hikamu', 'hikamu', 'hikamu', 'hikamu', 'hikamu', 'hikamu', 'hikamu', 'hikamu', 'hikamu', 'hikamu', 'hikamu', 'hikamu', 'hikamu', 'hikamu', 'hikamu', 'hikamu', 'hikamu', 'hikamu', 'hikamu', 'hikamu', 'hikamu', 'hikamu', 'hikamu', 'hikamu', 'hikamu', 'hikamu', 'hikamu', 'hikamu', 'hikamu', 'hikamu', 'hikamu', 'hikamu', 'hikamu', 'Ko_tatsu', 'Ko_tatsu', 'Ko_tatsu', 'Ko_tatsu', 'Ko_tatsu', 'Ko_tatsu', 'Ko_tatsu', 'Ko_tatsu', 'Ko_tatsu', 'Ko_tatsu', 'Ko_tatsu', 'Ko_tatsu', 'Ko_tatsu', 'Ko_tatsu', 'Ko_tatsu', 'Ko_tatsu', 'Ko_tatsu', 'Ko_tatsu', 'Ko_tatsu', 'Ko_tatsu', 'Ko_tatsu', 'Ko_tatsu', 'Ko_tatsu', 'Ko_tatsu', 'Ko_tatsu', 'Ko_tatsu', 'Ko_tatsu', 'Ko_tatsu', 'Ko_tatsu', 'Ko_tatsu', 'Ko_tatsu', 'Ko_tatsu', 'Ko_tatsu', 'Ko_tatsu', 'Ko_tatsu', 'Ko_tatsu', 'Ko_tatsu', 'Ko_tatsu', 'Ko_tatsu', 'Ko_tatsu', 'Ko_tatsu', 'Ko_tatsu', 'Ko_tatsu', 'Ko_tatsu', 'Ko_tatsu', 'Ko_tatsu', 'Ko_tatsu', 'Ko_tatsu', 'Ko_tatsu', 'Ko_tatsu', 'oddpulp', 'oddpulp', 'oddpulp', 'oddpulp', 'oddpulp', 'oddpulp', 'oddpulp', 'oddpulp', 'oddpulp', 'oddpulp', 'oddpulp', 'oddpulp', 'oddpulp', 'oddpulp', 'oddpulp', 'oddpulp', 'oddpulp', 'oddpulp', 'oddpulp', 'oddpulp', 'oddpulp', 'oddpulp', 'oddpulp', 'oddpulp', 'oddpulp', 'oddpulp', 'oddpulp', 'oddpulp', 'oddpulp', 'oddpulp', 'oddpulp', 'oddpulp', 'oddpulp', 'oddpulp', 'oddpulp', 'oddpulp', 'oddpulp', 'oddpulp', 'oddpulp', 'oddpulp', 'oddpulp', 'oddpulp', 'oddpulp', 'oddpulp', 'oddpulp', 'oddpulp', 'oddpulp', 'oddpulp', 'oddpulp', 'oddpulp', 'arthuic', 'arthuic', 'arthuic', 'arthuic', 'arthuic', 'arthuic', 'arthuic', 'arthuic', 'arthuic', 'arthuic', 'arthuic', 'arthuic', 'arthuic', 'arthuic', 'arthuic', 'arthuic', 'arthuic', 'arthuic', 'arthuic', 'arthuic', 'arthuic', 'arthuic', 'arthuic', 'arthuic', 'arthuic', 'arthuic', 'arthuic', 'arthuic', 'arthuic', 'arthuic', 'arthuic', 'arthuic', 'arthuic', 'arthuic', 'arthuic', 'arthuic', 'arthuic', 'arthuic', 'arthuic', 'arthuic', 'arthuic', 'arthuic', 'arthuic', 'arthuic', 'arthuic', 'arthuic', 'arthuic', 'arthuic', 'arthuic', 'arthuic', 'darcvv', 'darcvv', 'darcvv', 'darcvv', 'darcvv', 'darcvv', 'darcvv', 'darcvv', 'darcvv', 'darcvv', 'darcvv', 'darcvv', 'darcvv', 'darcvv', 'darcvv', 'darcvv', 'darcvv', 'darcvv', 'darcvv', 'darcvv', 'darcvv', 'darcvv', 'darcvv', 'darcvv', 'darcvv', 'darcvv', 'darcvv', 'darcvv', 'darcvv', 'darcvv', 'darcvv', 'darcvv', 'darcvv', 'darcvv', 'darcvv', 'darcvv', 'darcvv', 'darcvv', 'darcvv', 'darcvv', 'darcvv', 'darcvv', 'darcvv', 'darcvv', 'darcvv', 'darcvv', 'darcvv', 'darcvv', 'darcvv', 'darcvv', 'cerejinhalol', 'cerejinhalol', 'cerejinhalol', 'cerejinhalol', 'cerejinhalol', 'cerejinhalol', 'cerejinhalol', 'cerejinhalol', 'cerejinhalol', 'cerejinhalol', 'cerejinhalol', 'cerejinhalol', 'cerejinhalol', 'cerejinhalol', 'cerejinhalol', 'cerejinhalol', 'cerejinhalol', 'cerejinhalol', 'cerejinhalol', 'cerejinhalol', 'cerejinhalol', 'cerejinhalol', 'cerejinhalol', 'cerejinhalol', 'cerejinhalol', 'cerejinhalol', 'cerejinhalol', 'cerejinhalol', 'cerejinhalol', 'cerejinhalol', 'cerejinhalol', 'cerejinhalol', 'cerejinhalol', 'cerejinhalol', 'cerejinhalol', 'cerejinhalol', 'cerejinhalol', 'cerejinhalol', 'cerejinhalol', 'cerejinhalol', 'cerejinhalol', 'cerejinhalol', 'cerejinhalol', 'cerejinhalol', 'cerejinhalol', 'cerejinhalol', 'cerejinhalol', 'cerejinhalol', 'cerejinhalol', 'cerejinhalol', 'caudria', 'caudria', 'caudria', 'caudria', 'caudria', 'caudria', 'caudria', 'caudria', 'caudria', 'caudria', 'caudria', 'caudria', 'caudria', 'caudria', 'caudria', 'caudria', 'caudria', 'caudria', 'caudria', 'caudria', 'caudria', 'caudria', 'caudria', 'caudria', 'caudria', 'caudria', 'caudria', 'caudria', 'caudria', 'caudria', 'caudria', 'caudria', 'caudria', 'caudria', 'caudria', 'caudria', 'caudria', 'caudria', 'caudria', 'caudria', 'caudria', 'caudria', 'caudria', 'caudria', 'caudria', 'caudria', 'caudria', 'caudria', 'caudria', 'caudria', 'CitrusCircus', 'CitrusCircus', 'CitrusCircus', 'CitrusCircus', 'CitrusCircus', 'CitrusCircus', 'CitrusCircus', 'CitrusCircus', 'CitrusCircus', 'CitrusCircus', 'CitrusCircus', 'CitrusCircus', 'CitrusCircus', 'CitrusCircus', 'CitrusCircus', 'CitrusCircus', 'CitrusCircus', 'CitrusCircus', 'CitrusCircus', 'CitrusCircus', 'CitrusCircus', 'CitrusCircus', 'CitrusCircus', 'CitrusCircus', 'CitrusCircus', 'CitrusCircus', 'CitrusCircus', 'CitrusCircus', 'CitrusCircus', 'CitrusCircus', 'CitrusCircus', 'CitrusCircus', 'CitrusCircus', 'CitrusCircus', 'CitrusCircus', 'CitrusCircus', 'CitrusCircus', 'CitrusCircus', 'CitrusCircus', 'CitrusCircus', 'CitrusCircus', 'CitrusCircus', 'CitrusCircus', 'CitrusCircus', 'CitrusCircus', 'CitrusCircus', 'CitrusCircus', 'CitrusCircus', 'CitrusCircus', 'CitrusCircus', 'kaiquemaximoff', 'kaiquemaximoff', 'kaiquemaximoff', 'kaiquemaximoff', 'kaiquemaximoff', 'kaiquemaximoff', 'kaiquemaximoff', 'kaiquemaximoff', 'kaiquemaximoff', 'kaiquemaximoff', 'kaiquemaximoff', 'kaiquemaximoff', 'kaiquemaximoff', 'kaiquemaximoff', 'kaiquemaximoff', 'kaiquemaximoff', 'kaiquemaximoff', 'kaiquemaximoff', 'kaiquemaximoff', 'kaiquemaximoff', 'kaiquemaximoff', 'kaiquemaximoff', 'kaiquemaximoff', 'kaiquemaximoff', 'kaiquemaximoff', 'kaiquemaximoff', 'kaiquemaximoff', 'kaiquemaximoff', 'kaiquemaximoff', 'kaiquemaximoff', 'kaiquemaximoff', 'kaiquemaximoff', 'kaiquemaximoff', 'kaiquemaximoff', 'kaiquemaximoff', 'kaiquemaximoff', 'kaiquemaximoff', 'kaiquemaximoff', 'kaiquemaximoff', 'kaiquemaximoff', 'kaiquemaximoff', 'kaiquemaximoff', 'kaiquemaximoff', 'kaiquemaximoff', 'kaiquemaximoff', 'kaiquemaximoff', 'kaiquemaximoff', 'kaiquemaximoff', 'kaiquemaximoff', 'kaiquemaximoff', 'Junkento', 'Junkento', 'Junkento', 'Junkento', 'Junkento', 'Junkento', 'Junkento', 'Junkento', 'Junkento', 'Junkento', 'Junkento', 'Junkento', 'Junkento', 'Junkento', 'Junkento', 'Junkento', 'Junkento', 'Junkento', 'Junkento', 'Junkento', 'Junkento', 'Junkento', 'Junkento', 'Junkento', 'Junkento', 'Junkento', 'Junkento', 'Junkento', 'Junkento', 'Junkento', 'Junkento', 'Junkento', 'Junkento', 'Junkento', 'Junkento', 'Junkento', 'Junkento', 'Junkento', 'Junkento', 'Junkento', 'Junkento', 'Junkento', 'Junkento', 'Junkento', 'Junkento', 'Junkento', 'Junkento', 'Junkento', 'Junkento', 'Junkento', 'jinsoulist', 'jinsoulist', 'jinsoulist', 'jinsoulist', 'jinsoulist', 'jinsoulist', 'jinsoulist', 'jinsoulist', 'jinsoulist', 'jinsoulist', 'jinsoulist', 'jinsoulist', 'jinsoulist', 'jinsoulist', 'jinsoulist', 'jinsoulist', 'jinsoulist', 'jinsoulist', 'jinsoulist', 'jinsoulist', 'jinsoulist', 'jinsoulist', 'jinsoulist', 'jinsoulist', 'jinsoulist', 'jinsoulist', 'jinsoulist', 'jinsoulist', 'jinsoulist', 'jinsoulist', 'jinsoulist', 'jinsoulist', 'jinsoulist', 'jinsoulist', 'jinsoulist', 'jinsoulist', 'jinsoulist', 'jinsoulist', 'jinsoulist', 'jinsoulist', 'jinsoulist', 'jinsoulist', 'jinsoulist', 'jinsoulist', 'jinsoulist', 'jinsoulist', 'jinsoulist', 'jinsoulist', 'jinsoulist', 'jinsoulist', 'Rockrarted', 'Rockrarted', 'Rockrarted', 'Rockrarted', 'Rockrarted', 'Rockrarted', 'Rockrarted', 'Rockrarted', 'Rockrarted', 'Rockrarted', 'Rockrarted', 'Rockrarted', 'Rockrarted', 'Rockrarted', 'Rockrarted', 'Rockrarted', 'Rockrarted', 'Rockrarted', 'Rockrarted', 'Rockrarted', 'Rockrarted', 'Rockrarted', 'Rockrarted', 'Rockrarted', 'Rockrarted', 'Rockrarted', 'Rockrarted', 'Rockrarted', 'Rockrarted', 'Rockrarted', 'Rockrarted', 'Rockrarted', 'Rockrarted', 'Rockrarted', 'Rockrarted', 'Rockrarted', 'Rockrarted', 'Rockrarted', 'Rockrarted', 'Rockrarted', 'Rockrarted', 'Rockrarted', 'Rockrarted', 'Rockrarted', 'Rockrarted', 'Rockrarted', 'Rockrarted', 'Rockrarted', 'Rockrarted', 'Rockrarted', 'Evan_Mumford', 'Evan_Mumford', 'Evan_Mumford', 'Evan_Mumford', 'Evan_Mumford', 'Evan_Mumford', 'Evan_Mumford', 'Evan_Mumford', 'Evan_Mumford', 'Evan_Mumford', 'Evan_Mumford', 'Evan_Mumford', 'Evan_Mumford', 'Evan_Mumford', 'Evan_Mumford', 'Evan_Mumford', 'Evan_Mumford', 'Evan_Mumford', 'Evan_Mumford', 'Evan_Mumford', 'Evan_Mumford', 'Evan_Mumford', 'Evan_Mumford', 'Evan_Mumford', 'Evan_Mumford', 'Evan_Mumford', 'Evan_Mumford', 'Evan_Mumford', 'Evan_Mumford', 'Evan_Mumford', 'Evan_Mumford', 'Evan_Mumford', 'Evan_Mumford', 'Evan_Mumford', 'Evan_Mumford', 'Evan_Mumford', 'Evan_Mumford', 'Evan_Mumford', 'Evan_Mumford', 'Evan_Mumford', 'Evan_Mumford', 'Evan_Mumford', 'Evan_Mumford', 'Evan_Mumford', 'Evan_Mumford', 'Evan_Mumford', 'Evan_Mumford', 'Evan_Mumford', 'Evan_Mumford', 'Evan_Mumford', 'Airen3a', 'Airen3a', 'Airen3a', 'Airen3a', 'Airen3a', 'Airen3a', 'Airen3a', 'Airen3a', 'Airen3a', 'Airen3a', 'Airen3a', 'Airen3a', 'Airen3a', 'Airen3a', 'Airen3a', 'Airen3a', 'Airen3a', 'Airen3a', 'Airen3a', 'Airen3a', 'Airen3a', 'Airen3a', 'Airen3a', 'Airen3a', 'Airen3a', 'Airen3a', 'Airen3a', 'Airen3a', 'Airen3a', 'Airen3a', 'Airen3a', 'Airen3a', 'Airen3a', 'Airen3a', 'Airen3a', 'Airen3a', 'Airen3a', 'Airen3a', 'Airen3a', 'Airen3a', 'Airen3a', 'Airen3a', 'Airen3a', 'Airen3a', 'Airen3a', 'Airen3a', 'Airen3a', 'Airen3a', 'Airen3a', 'Airen3a', 'jomellyfish', 'jomellyfish', 'jomellyfish', 'jomellyfish', 'jomellyfish', 'jomellyfish', 'jomellyfish', 'jomellyfish', 'jomellyfish', 'jomellyfish', 'jomellyfish', 'jomellyfish', 'jomellyfish', 'jomellyfish', 'jomellyfish', 'jomellyfish', 'jomellyfish', 'jomellyfish', 'jomellyfish', 'jomellyfish', 'jomellyfish', 'jomellyfish', 'jomellyfish', 'jomellyfish', 'jomellyfish', 'jomellyfish', 'jomellyfish', 'jomellyfish', 'jomellyfish', 'jomellyfish', 'jomellyfish', 'jomellyfish', 'jomellyfish', 'jomellyfish', 'jomellyfish', 'jomellyfish', 'jomellyfish', 'jomellyfish', 'jomellyfish', 'jomellyfish', 'jomellyfish', 'jomellyfish', 'jomellyfish', 'jomellyfish', 'jomellyfish', 'jomellyfish', 'jomellyfish', 'jomellyfish', 'jomellyfish', 'jomellyfish', 'baratacorn4', 'baratacorn4', 'baratacorn4', 'baratacorn4', 'baratacorn4', 'baratacorn4', 'baratacorn4', 'baratacorn4', 'baratacorn4', 'baratacorn4', 'baratacorn4', 'baratacorn4', 'baratacorn4', 'baratacorn4', 'baratacorn4', 'baratacorn4', 'baratacorn4', 'baratacorn4', 'baratacorn4', 'baratacorn4', 'baratacorn4', 'baratacorn4', 'baratacorn4', 'baratacorn4', 'baratacorn4', 'baratacorn4', 'baratacorn4', 'baratacorn4', 'baratacorn4', 'baratacorn4', 'baratacorn4', 'baratacorn4', 'baratacorn4', 'baratacorn4', 'baratacorn4', 'baratacorn4', 'baratacorn4', 'baratacorn4', 'baratacorn4', 'baratacorn4', 'baratacorn4', 'baratacorn4', 'baratacorn4', 'baratacorn4', 'baratacorn4', 'baratacorn4', 'baratacorn4', 'baratacorn4', 'baratacorn4', 'baratacorn4', 'addison_d', 'addison_d', 'addison_d', 'addison_d', 'addison_d', 'addison_d', 'addison_d', 'addison_d', 'addison_d', 'addison_d', 'addison_d', 'addison_d', 'addison_d', 'addison_d', 'addison_d', 'addison_d', 'addison_d', 'addison_d', 'addison_d', 'addison_d', 'addison_d', 'addison_d', 'addison_d', 'addison_d', 'addison_d', 'addison_d', 'addison_d', 'addison_d', 'addison_d', 'addison_d', 'addison_d', 'addison_d', 'addison_d', 'addison_d', 'addison_d', 'addison_d', 'addison_d', 'addison_d', 'addison_d', 'addison_d', 'addison_d', 'addison_d', 'addison_d', 'addison_d', 'addison_d', 'addison_d', 'addison_d', 'addison_d', 'addison_d', 'addison_d', 'mateo1232', 'mateo1232', 'mateo1232', 'mateo1232', 'mateo1232', 'mateo1232', 'mateo1232', 'mateo1232', 'mateo1232', 'mateo1232', 'mateo1232', 'mateo1232', 'mateo1232', 'mateo1232', 'mateo1232', 'mateo1232', 'mateo1232', 'mateo1232', 'mateo1232', 'mateo1232', 'mateo1232', 'mateo1232', 'mateo1232', 'mateo1232', 'mateo1232', 'mateo1232', 'mateo1232', 'mateo1232', 'mateo1232', 'mateo1232', 'mateo1232', 'mateo1232', 'mateo1232', 'mateo1232', 'mateo1232', 'mateo1232', 'mateo1232', 'mateo1232', 'mateo1232', 'mateo1232', 'mateo1232', 'mateo1232', 'mateo1232', 'mateo1232', 'mateo1232', 'mateo1232', 'mateo1232', 'mateo1232', 'mateo1232', 'mateo1232', 'Labotx95', 'Labotx95', 'Labotx95', 'Labotx95', 'Labotx95', 'Labotx95', 'Labotx95', 'Labotx95', 'Labotx95', 'Labotx95', 'Labotx95', 'Labotx95', 'Labotx95', 'Labotx95', 'Labotx95', 'Labotx95', 'Labotx95', 'Labotx95', 'Labotx95', 'Labotx95', 'Labotx95', 'Labotx95', 'Labotx95', 'Labotx95', 'Labotx95', 'Labotx95', 'Labotx95', 'Labotx95', 'Labotx95', 'Labotx95', 'Labotx95', 'Labotx95', 'Labotx95', 'Labotx95', 'Labotx95', 'Labotx95', 'Labotx95', 'Labotx95', 'Labotx95', 'Labotx95', 'Labotx95', 'Labotx95', 'Labotx95', 'Labotx95', 'Labotx95', 'Labotx95', 'Labotx95', 'Labotx95', 'Labotx95', 'Labotx95', 'Kinematosis', 'Kinematosis', 'Kinematosis', 'Kinematosis', 'Kinematosis', 'Kinematosis', 'Kinematosis', 'Kinematosis', 'Kinematosis', 'Kinematosis', 'Kinematosis', 'Kinematosis', 'Kinematosis', 'Kinematosis', 'Kinematosis', 'Kinematosis', 'Kinematosis', 'Kinematosis', 'Kinematosis', 'Kinematosis', 'Kinematosis', 'Kinematosis', 'Kinematosis', 'Kinematosis', 'Kinematosis', 'Kinematosis', 'Kinematosis', 'Kinematosis', 'Kinematosis', 'Kinematosis', 'Kinematosis', 'Kinematosis', 'Kinematosis', 'Kinematosis', 'Kinematosis', 'Kinematosis', 'Kinematosis', 'Kinematosis', 'Kinematosis', 'Kinematosis', 'Kinematosis', 'Kinematosis', 'Kinematosis', 'Kinematosis', 'Kinematosis', 'Kinematosis', 'Kinematosis', 'Kinematosis', 'Kinematosis', 'Kinematosis', 'numanuma_', 'numanuma_', 'numanuma_', 'numanuma_', 'numanuma_', 'numanuma_', 'numanuma_', 'numanuma_', 'numanuma_', 'numanuma_', 'numanuma_', 'numanuma_', 'numanuma_', 'numanuma_', 'numanuma_', 'numanuma_', 'numanuma_', 'numanuma_', 'numanuma_', 'numanuma_', 'numanuma_', 'numanuma_', 'numanuma_', 'numanuma_', 'numanuma_', 'numanuma_', 'numanuma_', 'numanuma_', 'numanuma_', 'numanuma_', 'numanuma_', 'numanuma_', 'numanuma_', 'numanuma_', 'numanuma_', 'numanuma_', 'numanuma_', 'numanuma_', 'numanuma_', 'numanuma_', 'numanuma_', 'numanuma_', 'numanuma_', 'numanuma_', 'numanuma_', 'numanuma_', 'numanuma_', 'numanuma_', 'numanuma_', 'numanuma_', 'ayawaska1', 'ayawaska1', 'ayawaska1', 'ayawaska1', 'ayawaska1', 'ayawaska1', 'ayawaska1', 'ayawaska1', 'ayawaska1', 'ayawaska1', 'ayawaska1', 'ayawaska1', 'ayawaska1', 'ayawaska1', 'ayawaska1', 'ayawaska1', 'ayawaska1', 'ayawaska1', 'ayawaska1', 'ayawaska1', 'ayawaska1', 'ayawaska1', 'ayawaska1', 'ayawaska1', 'ayawaska1', 'ayawaska1', 'ayawaska1', 'ayawaska1', 'ayawaska1', 'ayawaska1', 'ayawaska1', 'ayawaska1', 'ayawaska1', 'ayawaska1', 'ayawaska1', 'ayawaska1', 'ayawaska1', 'ayawaska1', 'ayawaska1', 'ayawaska1', 'ayawaska1', 'ayawaska1', 'ayawaska1', 'ayawaska1', 'ayawaska1', 'ayawaska1', 'ayawaska1', 'ayawaska1', 'ayawaska1', 'ayawaska1', 'guywithaqmark', 'guywithaqmark', 'guywithaqmark', 'guywithaqmark', 'guywithaqmark', 'guywithaqmark', 'guywithaqmark', 'guywithaqmark', 'guywithaqmark', 'guywithaqmark', 'guywithaqmark', 'guywithaqmark', 'guywithaqmark', 'guywithaqmark', 'guywithaqmark', 'guywithaqmark', 'guywithaqmark', 'guywithaqmark', 'guywithaqmark', 'guywithaqmark', 'guywithaqmark', 'guywithaqmark', 'guywithaqmark', 'guywithaqmark', 'guywithaqmark', 'guywithaqmark', 'guywithaqmark', 'guywithaqmark', 'guywithaqmark', 'guywithaqmark', 'guywithaqmark', 'guywithaqmark', 'guywithaqmark', 'guywithaqmark', 'guywithaqmark', 'guywithaqmark', 'guywithaqmark', 'guywithaqmark', 'guywithaqmark', 'guywithaqmark', 'guywithaqmark', 'guywithaqmark', 'guywithaqmark', 'guywithaqmark', 'guywithaqmark', 'guywithaqmark', 'guywithaqmark', 'guywithaqmark', 'guywithaqmark', 'guywithaqmark', 'rtasriel', 'rtasriel', 'rtasriel', 'rtasriel', 'rtasriel', 'rtasriel', 'rtasriel', 'rtasriel', 'rtasriel', 'rtasriel', 'rtasriel', 'rtasriel', 'rtasriel', 'rtasriel', 'rtasriel', 'rtasriel', 'rtasriel', 'rtasriel', 'rtasriel', 'rtasriel', 'rtasriel', 'rtasriel', 'rtasriel', 'rtasriel', 'rtasriel', 'rtasriel', 'rtasriel', 'rtasriel', 'rtasriel', 'rtasriel', 'rtasriel', 'rtasriel', 'rtasriel', 'rtasriel', 'rtasriel', 'rtasriel', 'rtasriel', 'rtasriel', 'rtasriel', 'rtasriel', 'rtasriel', 'rtasriel', 'rtasriel', 'rtasriel', 'rtasriel', 'rtasriel', 'rtasriel', 'rtasriel', 'rtasriel', 'rtasriel', 'anoond', 'anoond', 'anoond', 'anoond', 'anoond', 'anoond', 'anoond', 'anoond', 'anoond', 'anoond', 'anoond', 'anoond', 'anoond', 'anoond', 'anoond', 'anoond', 'anoond', 'anoond', 'anoond', 'anoond', 'anoond', 'anoond', 'anoond', 'anoond', 'anoond', 'anoond', 'anoond', 'anoond', 'anoond', 'anoond', 'anoond', 'anoond', 'anoond', 'anoond', 'anoond', 'anoond', 'anoond', 'anoond', 'anoond', 'anoond', 'anoond', 'anoond', 'anoond', 'anoond', 'anoond', 'anoond', 'anoond', 'anoond', 'anoond', 'anoond', 'maxwellk10', 'maxwellk10', 'maxwellk10', 'maxwellk10', 'maxwellk10', 'maxwellk10', 'maxwellk10', 'maxwellk10', 'maxwellk10', 'maxwellk10', 'maxwellk10', 'maxwellk10', 'maxwellk10', 'maxwellk10', 'maxwellk10', 'maxwellk10', 'maxwellk10', 'maxwellk10', 'maxwellk10', 'maxwellk10', 'maxwellk10', 'maxwellk10', 'maxwellk10', 'maxwellk10', 'maxwellk10', 'maxwellk10', 'maxwellk10', 'maxwellk10', 'maxwellk10', 'maxwellk10', 'maxwellk10', 'maxwellk10', 'maxwellk10', 'maxwellk10', 'maxwellk10', 'maxwellk10', 'maxwellk10', 'maxwellk10', 'maxwellk10', 'maxwellk10', 'maxwellk10', 'maxwellk10', 'maxwellk10', 'maxwellk10', 'maxwellk10', 'maxwellk10', 'maxwellk10', 'maxwellk10', 'maxwellk10', 'maxwellk10', 'weldingbrick', 'weldingbrick', 'weldingbrick', 'weldingbrick', 'weldingbrick', 'weldingbrick', 'weldingbrick', 'weldingbrick', 'weldingbrick', 'weldingbrick', 'weldingbrick', 'weldingbrick', 'weldingbrick', 'weldingbrick', 'weldingbrick', 'weldingbrick', 'weldingbrick', 'weldingbrick', 'weldingbrick', 'weldingbrick', 'weldingbrick', 'weldingbrick', 'weldingbrick', 'weldingbrick', 'weldingbrick', 'weldingbrick', 'weldingbrick', 'weldingbrick', 'weldingbrick', 'weldingbrick', 'weldingbrick', 'weldingbrick', 'weldingbrick', 'weldingbrick', 'weldingbrick', 'weldingbrick', 'weldingbrick', 'weldingbrick', 'weldingbrick', 'weldingbrick', 'weldingbrick', 'weldingbrick', 'weldingbrick', 'weldingbrick', 'weldingbrick', 'weldingbrick', 'weldingbrick', 'weldingbrick', 'weldingbrick', 'weldingbrick', 'Marz_bruh', 'Marz_bruh', 'Marz_bruh', 'Marz_bruh', 'Marz_bruh', 'Marz_bruh', 'Marz_bruh', 'Marz_bruh', 'Marz_bruh', 'Marz_bruh', 'Marz_bruh', 'Marz_bruh', 'Marz_bruh', 'Marz_bruh', 'Marz_bruh', 'Marz_bruh', 'Marz_bruh', 'Marz_bruh', 'Marz_bruh', 'Marz_bruh', 'Marz_bruh', 'Marz_bruh', 'Marz_bruh', 'Marz_bruh', 'Marz_bruh', 'Marz_bruh', 'Marz_bruh', 'Marz_bruh', 'Marz_bruh', 'Marz_bruh', 'Marz_bruh', 'Marz_bruh', 'Marz_bruh', 'Marz_bruh', 'Marz_bruh', 'Marz_bruh', 'Marz_bruh', 'Marz_bruh', 'Marz_bruh', 'Marz_bruh', 'Marz_bruh', 'Marz_bruh', 'Marz_bruh', 'Marz_bruh', 'Marz_bruh', 'Marz_bruh', 'Marz_bruh', 'Marz_bruh', 'Marz_bruh', 'Marz_bruh', 'how_aud', 'how_aud', 'how_aud', 'how_aud', 'how_aud', 'how_aud', 'how_aud', 'how_aud', 'how_aud', 'how_aud', 'how_aud', 'how_aud', 'how_aud', 'how_aud', 'how_aud', 'how_aud', 'how_aud', 'how_aud', 'how_aud', 'how_aud', 'how_aud', 'how_aud', 'how_aud', 'how_aud', 'how_aud', 'how_aud', 'how_aud', 'how_aud', 'how_aud', 'how_aud', 'how_aud', 'how_aud', 'how_aud', 'how_aud', 'how_aud', 'how_aud', 'how_aud', 'how_aud', 'how_aud', 'how_aud', 'how_aud', 'how_aud', 'how_aud', 'how_aud', 'how_aud', 'how_aud', 'how_aud', 'how_aud', 'how_aud', 'how_aud', 'avvisa', 'avvisa', 'avvisa', 'avvisa', 'avvisa', 'avvisa', 'avvisa', 'avvisa', 'avvisa', 'avvisa', 'avvisa', 'avvisa', 'avvisa', 'avvisa', 'avvisa', 'avvisa', 'avvisa', 'avvisa', 'avvisa', 'avvisa', 'avvisa', 'avvisa', 'avvisa', 'avvisa', 'avvisa', 'avvisa', 'avvisa', 'avvisa', 'avvisa', 'avvisa', 'avvisa', 'avvisa', 'avvisa', 'avvisa', 'avvisa', 'avvisa', 'avvisa', 'avvisa', 'avvisa', 'avvisa', 'avvisa', 'avvisa', 'avvisa', 'avvisa', 'avvisa', 'avvisa', 'avvisa', 'avvisa', 'avvisa', 'avvisa', 'DiegoVazquez77', 'DiegoVazquez77', 'DiegoVazquez77', 'DiegoVazquez77', 'DiegoVazquez77', 'DiegoVazquez77', 'DiegoVazquez77', 'DiegoVazquez77', 'DiegoVazquez77', 'DiegoVazquez77', 'DiegoVazquez77', 'DiegoVazquez77', 'DiegoVazquez77', 'DiegoVazquez77', 'DiegoVazquez77', 'DiegoVazquez77', 'DiegoVazquez77', 'DiegoVazquez77', 'DiegoVazquez77', 'DiegoVazquez77', 'DiegoVazquez77', 'DiegoVazquez77', 'DiegoVazquez77', 'DiegoVazquez77', 'DiegoVazquez77', 'DiegoVazquez77', 'DiegoVazquez77', 'DiegoVazquez77', 'DiegoVazquez77', 'DiegoVazquez77', 'DiegoVazquez77', 'DiegoVazquez77', 'DiegoVazquez77', 'DiegoVazquez77', 'DiegoVazquez77', 'DiegoVazquez77', 'DiegoVazquez77', 'DiegoVazquez77', 'DiegoVazquez77', 'DiegoVazquez77', 'DiegoVazquez77', 'DiegoVazquez77', 'DiegoVazquez77', 'DiegoVazquez77', 'DiegoVazquez77', 'DiegoVazquez77', 'DiegoVazquez77', 'DiegoVazquez77', 'DiegoVazquez77', 'DiegoVazquez77', 'CookieHoliday', 'CookieHoliday', 'CookieHoliday', 'CookieHoliday', 'CookieHoliday', 'CookieHoliday', 'CookieHoliday', 'CookieHoliday', 'CookieHoliday', 'CookieHoliday', 'CookieHoliday', 'CookieHoliday', 'CookieHoliday', 'CookieHoliday', 'CookieHoliday', 'CookieHoliday', 'CookieHoliday', 'CookieHoliday', 'CookieHoliday', 'CookieHoliday', 'CookieHoliday', 'CookieHoliday', 'CookieHoliday', 'CookieHoliday', 'CookieHoliday', 'CookieHoliday', 'CookieHoliday', 'CookieHoliday', 'CookieHoliday', 'CookieHoliday', 'CookieHoliday', 'CookieHoliday', 'CookieHoliday', 'CookieHoliday', 'CookieHoliday', 'CookieHoliday', 'CookieHoliday', 'CookieHoliday', 'CookieHoliday', 'CookieHoliday', 'CookieHoliday', 'CookieHoliday', 'CookieHoliday', 'CookieHoliday', 'CookieHoliday', 'CookieHoliday', 'CookieHoliday', 'CookieHoliday', 'CookieHoliday', 'CookieHoliday', 'pxrea', 'pxrea', 'pxrea', 'pxrea', 'pxrea', 'pxrea', 'pxrea', 'pxrea', 'pxrea', 'pxrea', 'pxrea', 'pxrea', 'pxrea', 'pxrea', 'pxrea', 'pxrea', 'pxrea', 'pxrea', 'pxrea', 'pxrea', 'pxrea', 'pxrea', 'pxrea', 'pxrea', 'pxrea', 'pxrea', 'pxrea', 'pxrea', 'pxrea', 'pxrea', 'pxrea', 'pxrea', 'pxrea', 'pxrea', 'pxrea', 'pxrea', 'pxrea', 'pxrea', 'pxrea', 'pxrea', 'pxrea', 'pxrea', 'pxrea', 'pxrea', 'pxrea', 'pxrea', 'pxrea', 'pxrea', 'pxrea', 'pxrea', 'kt3301', 'kt3301', 'kt3301', 'kt3301', 'kt3301', 'kt3301', 'kt3301', 'kt3301', 'kt3301', 'kt3301', 'kt3301', 'kt3301', 'kt3301', 'kt3301', 'kt3301', 'kt3301', 'kt3301', 'kt3301', 'kt3301', 'kt3301', 'kt3301', 'kt3301', 'kt3301', 'kt3301', 'kt3301', 'kt3301', 'kt3301', 'kt3301', 'kt3301', 'kt3301', 'kt3301', 'kt3301', 'kt3301', 'kt3301', 'kt3301', 'kt3301', 'kt3301', 'kt3301', 'kt3301', 'kt3301', 'kt3301', 'kt3301', 'kt3301', 'kt3301', 'kt3301', 'kt3301', 'kt3301', 'kt3301', 'kt3301', 'kt3301', 'Anonymousmov', 'Anonymousmov', 'Anonymousmov', 'Anonymousmov', 'Anonymousmov', 'Anonymousmov', 'Anonymousmov', 'Anonymousmov', 'Anonymousmov', 'Anonymousmov', 'Anonymousmov', 'Anonymousmov', 'Anonymousmov', 'Anonymousmov', 'Anonymousmov', 'Anonymousmov', 'Anonymousmov', 'Anonymousmov', 'Anonymousmov', 'Anonymousmov', 'Anonymousmov', 'Anonymousmov', 'Anonymousmov', 'Anonymousmov', 'Anonymousmov', 'Anonymousmov', 'Anonymousmov', 'Anonymousmov', 'Anonymousmov', 'Anonymousmov', 'Anonymousmov', 'Anonymousmov', 'Anonymousmov', 'Anonymousmov', 'Anonymousmov', 'Anonymousmov', 'Anonymousmov', 'Anonymousmov', 'Anonymousmov', 'Anonymousmov', 'Anonymousmov', 'Anonymousmov', 'Anonymousmov', 'Anonymousmov', 'Anonymousmov', 'Anonymousmov', 'Anonymousmov', 'Anonymousmov', 'Anonymousmov', 'Anonymousmov', 'PHChronos', 'PHChronos', 'PHChronos', 'PHChronos', 'PHChronos', 'PHChronos', 'PHChronos', 'PHChronos', 'PHChronos', 'PHChronos', 'PHChronos', 'PHChronos', 'PHChronos', 'PHChronos', 'PHChronos', 'PHChronos', 'PHChronos', 'PHChronos', 'PHChronos', 'PHChronos', 'PHChronos', 'PHChronos', 'PHChronos', 'PHChronos', 'PHChronos', 'PHChronos', 'PHChronos', 'PHChronos', 'PHChronos', 'PHChronos', 'PHChronos', 'PHChronos', 'PHChronos', 'PHChronos', 'PHChronos', 'PHChronos', 'PHChronos', 'PHChronos', 'PHChronos', 'PHChronos', 'PHChronos', 'PHChronos', 'PHChronos', 'PHChronos', 'PHChronos', 'PHChronos', 'PHChronos', 'PHChronos', 'PHChronos', 'PHChronos', 'Kid_aw', 'Kid_aw', 'Kid_aw', 'Kid_aw', 'Kid_aw', 'Kid_aw', 'Kid_aw', 'Kid_aw', 'Kid_aw', 'Kid_aw', 'Kid_aw', 'Kid_aw', 'Kid_aw', 'Kid_aw', 'Kid_aw', 'Kid_aw', 'Kid_aw', 'Kid_aw', 'Kid_aw', 'Kid_aw', 'Kid_aw', 'Kid_aw', 'Kid_aw', 'Kid_aw', 'Kid_aw', 'Kid_aw', 'Kid_aw', 'Kid_aw', 'Kid_aw', 'Kid_aw', 'Kid_aw', 'Kid_aw', 'Kid_aw', 'Kid_aw', 'Kid_aw', 'Kid_aw', 'Kid_aw', 'Kid_aw', 'Kid_aw', 'Kid_aw', 'Kid_aw', 'Kid_aw', 'Kid_aw', 'Kid_aw', 'Kid_aw', 'Kid_aw', 'Kid_aw', 'Kid_aw', 'Kid_aw', 'Kid_aw', 'smelltoxic', 'smelltoxic', 'smelltoxic', 'smelltoxic', 'smelltoxic', 'smelltoxic', 'smelltoxic', 'smelltoxic', 'smelltoxic', 'smelltoxic', 'smelltoxic', 'smelltoxic', 'smelltoxic', 'smelltoxic', 'smelltoxic', 'smelltoxic', 'smelltoxic', 'smelltoxic', 'smelltoxic', 'smelltoxic', 'smelltoxic', 'smelltoxic', 'smelltoxic', 'smelltoxic', 'smelltoxic', 'smelltoxic', 'smelltoxic', 'smelltoxic', 'smelltoxic', 'smelltoxic', 'smelltoxic', 'smelltoxic', 'smelltoxic', 'smelltoxic', 'smelltoxic', 'smelltoxic', 'smelltoxic', 'smelltoxic', 'smelltoxic', 'smelltoxic', 'smelltoxic', 'smelltoxic', 'smelltoxic', 'smelltoxic', 'smelltoxic', 'smelltoxic', 'smelltoxic', 'smelltoxic', 'smelltoxic', 'smelltoxic', 'iwnaras', 'iwnaras', 'iwnaras', 'iwnaras', 'iwnaras', 'iwnaras', 'iwnaras', 'iwnaras', 'iwnaras', 'iwnaras', 'iwnaras', 'iwnaras', 'iwnaras', 'iwnaras', 'iwnaras', 'iwnaras', 'iwnaras', 'iwnaras', 'iwnaras', 'iwnaras', 'iwnaras', 'iwnaras', 'iwnaras', 'iwnaras', 'iwnaras', 'iwnaras', 'iwnaras', 'iwnaras', 'iwnaras', 'iwnaras', 'iwnaras', 'iwnaras', 'iwnaras', 'iwnaras', 'iwnaras', 'iwnaras', 'iwnaras', 'iwnaras', 'iwnaras', 'iwnaras', 'iwnaras', 'iwnaras', 'iwnaras', 'iwnaras', 'iwnaras', 'iwnaras', 'iwnaras', 'iwnaras', 'iwnaras', 'iwnaras', 'Hay-zel', 'Hay-zel', 'Hay-zel', 'Hay-zel', 'Hay-zel', 'Hay-zel', 'Hay-zel', 'Hay-zel', 'Hay-zel', 'Hay-zel', 'Hay-zel', 'Hay-zel', 'Hay-zel', 'Hay-zel', 'Hay-zel', 'Hay-zel', 'Hay-zel', 'Hay-zel', 'Hay-zel', 'Hay-zel', 'Hay-zel', 'Hay-zel', 'Hay-zel', 'Hay-zel', 'Hay-zel', 'Hay-zel', 'Hay-zel', 'Hay-zel', 'Hay-zel', 'Hay-zel', 'Hay-zel', 'Hay-zel', 'Hay-zel', 'Hay-zel', 'Hay-zel', 'Hay-zel', 'Hay-zel', 'Hay-zel', 'Hay-zel', 'Hay-zel', 'Hay-zel', 'Hay-zel', 'Hay-zel', 'Hay-zel', 'Hay-zel', 'Hay-zel', 'Hay-zel', 'Hay-zel', 'Hay-zel', 'Hay-zel', 'davxpr', 'davxpr', 'davxpr', 'davxpr', 'davxpr', 'davxpr', 'davxpr', 'davxpr', 'davxpr', 'davxpr', 'davxpr', 'davxpr', 'davxpr', 'davxpr', 'davxpr', 'davxpr', 'davxpr', 'davxpr', 'davxpr', 'davxpr', 'davxpr', 'davxpr', 'davxpr', 'davxpr', 'davxpr', 'davxpr', 'davxpr', 'davxpr', 'davxpr', 'davxpr', 'davxpr', 'davxpr', 'davxpr', 'davxpr', 'davxpr', 'davxpr', 'davxpr', 'davxpr', 'davxpr', 'davxpr', 'davxpr', 'davxpr', 'davxpr', 'davxpr', 'davxpr', 'davxpr', 'davxpr', 'davxpr', 'davxpr', 'davxpr', 'AllanZone', 'AllanZone', 'AllanZone', 'AllanZone', 'AllanZone', 'AllanZone', 'AllanZone', 'AllanZone', 'AllanZone', 'AllanZone', 'AllanZone', 'AllanZone', 'AllanZone', 'AllanZone', 'AllanZone', 'AllanZone', 'AllanZone', 'AllanZone', 'AllanZone', 'AllanZone', 'AllanZone', 'AllanZone', 'AllanZone', 'AllanZone', 'AllanZone', 'AllanZone', 'AllanZone', 'AllanZone', 'AllanZone', 'AllanZone', 'AllanZone', 'AllanZone', 'AllanZone', 'AllanZone', 'AllanZone', 'AllanZone', 'AllanZone', 'AllanZone', 'AllanZone', 'AllanZone', 'AllanZone', 'AllanZone', 'AllanZone', 'AllanZone', 'AllanZone', 'AllanZone', 'AllanZone', 'AllanZone', 'AllanZone', 'AllanZone', 'testtype02', 'testtype02', 'testtype02', 'testtype02', 'testtype02', 'testtype02', 'testtype02', 'testtype02', 'testtype02', 'testtype02', 'testtype02', 'testtype02', 'testtype02', 'testtype02', 'testtype02', 'testtype02', 'testtype02', 'testtype02', 'testtype02', 'testtype02', 'testtype02', 'testtype02', 'testtype02', 'testtype02', 'testtype02', 'testtype02', 'testtype02', 'testtype02', 'testtype02', 'testtype02', 'testtype02', 'testtype02', 'testtype02', 'testtype02', 'testtype02', 'testtype02', 'testtype02', 'testtype02', 'testtype02', 'testtype02', 'testtype02', 'testtype02', 'testtype02', 'testtype02', 'testtype02', 'testtype02', 'testtype02', 'testtype02', 'testtype02', 'testtype02', 'semihcc', 'semihcc', 'semihcc', 'semihcc', 'semihcc', 'semihcc', 'semihcc', 'semihcc', 'semihcc', 'semihcc', 'semihcc', 'semihcc', 'semihcc', 'semihcc', 'semihcc', 'semihcc', 'semihcc', 'semihcc', 'semihcc', 'semihcc', 'semihcc', 'semihcc', 'semihcc', 'semihcc', 'semihcc', 'semihcc', 'semihcc', 'semihcc', 'semihcc', 'semihcc', 'semihcc', 'semihcc', 'semihcc', 'semihcc', 'semihcc', 'semihcc', 'semihcc', 'semihcc', 'semihcc', 'semihcc', 'semihcc', 'semihcc', 'semihcc', 'semihcc', 'semihcc', 'semihcc', 'semihcc', 'semihcc', 'semihcc', 'semihcc', 'mudkipi', 'mudkipi', 'mudkipi', 'mudkipi', 'mudkipi', 'mudkipi', 'mudkipi', 'mudkipi', 'mudkipi', 'mudkipi', 'mudkipi', 'mudkipi', 'mudkipi', 'mudkipi', 'mudkipi', 'mudkipi', 'mudkipi', 'mudkipi', 'mudkipi', 'mudkipi', 'mudkipi', 'mudkipi', 'mudkipi', 'mudkipi', 'mudkipi', 'mudkipi', 'mudkipi', 'mudkipi', 'mudkipi', 'mudkipi', 'mudkipi', 'mudkipi', 'mudkipi', 'mudkipi', 'mudkipi', 'mudkipi', 'mudkipi', 'mudkipi', 'mudkipi', 'mudkipi', 'mudkipi', 'mudkipi', 'mudkipi', 'mudkipi', 'mudkipi', 'mudkipi', 'mudkipi', 'mudkipi', 'mudkipi', 'mudkipi', 'sapphicasf', 'sapphicasf', 'sapphicasf', 'sapphicasf', 'sapphicasf', 'sapphicasf', 'sapphicasf', 'sapphicasf', 'sapphicasf', 'sapphicasf', 'sapphicasf', 'sapphicasf', 'sapphicasf', 'sapphicasf', 'sapphicasf', 'sapphicasf', 'sapphicasf', 'sapphicasf', 'sapphicasf', 'sapphicasf', 'sapphicasf', 'sapphicasf', 'sapphicasf', 'sapphicasf', 'sapphicasf', 'sapphicasf', 'sapphicasf', 'sapphicasf', 'sapphicasf', 'sapphicasf', 'sapphicasf', 'sapphicasf', 'sapphicasf', 'sapphicasf', 'sapphicasf', 'sapphicasf', 'sapphicasf', 'sapphicasf', 'sapphicasf', 'sapphicasf', 'sapphicasf', 'sapphicasf', 'sapphicasf', 'sapphicasf', 'sapphicasf', 'sapphicasf', 'sapphicasf', 'sapphicasf', 'sapphicasf', 'sapphicasf', 'emabelickova', 'emabelickova', 'emabelickova', 'emabelickova', 'emabelickova', 'emabelickova', 'emabelickova', 'emabelickova', 'emabelickova', 'emabelickova', 'emabelickova', 'emabelickova', 'emabelickova', 'emabelickova', 'emabelickova', 'emabelickova', 'emabelickova', 'emabelickova', 'emabelickova', 'emabelickova', 'emabelickova', 'emabelickova', 'emabelickova', 'emabelickova', 'emabelickova', 'emabelickova', 'emabelickova', 'emabelickova', 'emabelickova', 'emabelickova', 'emabelickova', 'emabelickova', 'emabelickova', 'emabelickova', 'emabelickova', 'emabelickova', 'emabelickova', 'emabelickova', 'emabelickova', 'emabelickova', 'emabelickova', 'emabelickova', 'emabelickova', 'emabelickova', 'emabelickova', 'emabelickova', 'emabelickova', 'emabelickova', 'emabelickova', 'emabelickova', 'LuisPaez02', 'LuisPaez02', 'LuisPaez02', 'LuisPaez02', 'LuisPaez02', 'LuisPaez02', 'LuisPaez02', 'LuisPaez02', 'LuisPaez02', 'LuisPaez02', 'LuisPaez02', 'LuisPaez02', 'LuisPaez02', 'LuisPaez02', 'LuisPaez02', 'LuisPaez02', 'LuisPaez02', 'LuisPaez02', 'LuisPaez02', 'LuisPaez02', 'LuisPaez02', 'LuisPaez02', 'LuisPaez02', 'LuisPaez02', 'LuisPaez02', 'LuisPaez02', 'LuisPaez02', 'LuisPaez02', 'LuisPaez02', 'LuisPaez02', 'LuisPaez02', 'LuisPaez02', 'LuisPaez02', 'LuisPaez02', 'LuisPaez02', 'LuisPaez02', 'LuisPaez02', 'LuisPaez02', 'LuisPaez02', 'LuisPaez02', 'LuisPaez02', 'LuisPaez02', 'LuisPaez02', 'LuisPaez02', 'LuisPaez02', 'LuisPaez02', 'LuisPaez02', 'LuisPaez02', 'LuisPaez02', 'LuisPaez02', 'AbelgodXOTWOD', 'AbelgodXOTWOD', 'AbelgodXOTWOD', 'AbelgodXOTWOD', 'AbelgodXOTWOD', 'AbelgodXOTWOD', 'AbelgodXOTWOD', 'AbelgodXOTWOD', 'AbelgodXOTWOD', 'AbelgodXOTWOD', 'AbelgodXOTWOD', 'AbelgodXOTWOD', 'AbelgodXOTWOD', 'AbelgodXOTWOD', 'AbelgodXOTWOD', 'AbelgodXOTWOD', 'AbelgodXOTWOD', 'AbelgodXOTWOD', 'AbelgodXOTWOD', 'AbelgodXOTWOD', 'AbelgodXOTWOD', 'AbelgodXOTWOD', 'AbelgodXOTWOD', 'AbelgodXOTWOD', 'AbelgodXOTWOD', 'AbelgodXOTWOD', 'AbelgodXOTWOD', 'AbelgodXOTWOD', 'AbelgodXOTWOD', 'AbelgodXOTWOD', 'AbelgodXOTWOD', 'AbelgodXOTWOD', 'AbelgodXOTWOD', 'AbelgodXOTWOD', 'AbelgodXOTWOD', 'AbelgodXOTWOD', 'AbelgodXOTWOD', 'AbelgodXOTWOD', 'AbelgodXOTWOD', 'AbelgodXOTWOD', 'AbelgodXOTWOD', 'AbelgodXOTWOD', 'AbelgodXOTWOD', 'AbelgodXOTWOD', 'AbelgodXOTWOD', 'AbelgodXOTWOD', 'AbelgodXOTWOD', 'AbelgodXOTWOD', 'AbelgodXOTWOD', 'AbelgodXOTWOD', 'deicidios', 'deicidios', 'deicidios', 'deicidios', 'deicidios', 'deicidios', 'deicidios', 'deicidios', 'deicidios', 'deicidios', 'deicidios', 'deicidios', 'deicidios', 'deicidios', 'deicidios', 'deicidios', 'deicidios', 'deicidios', 'deicidios', 'deicidios', 'deicidios', 'deicidios', 'deicidios', 'deicidios', 'deicidios', 'deicidios', 'deicidios', 'deicidios', 'deicidios', 'deicidios', 'deicidios', 'deicidios', 'deicidios', 'deicidios', 'deicidios', 'deicidios', 'deicidios', 'deicidios', 'deicidios', 'deicidios', 'deicidios', 'deicidios', 'deicidios', 'deicidios', 'deicidios', 'deicidios', 'deicidios', 'deicidios', 'deicidios', 'deicidios']\n",
            "['Black Moon', 'D&G', 'FLASH DESIRE', 'Azeroy', 'Icedancer', 'Marjorie -W.C. Sinclair', 'AZEROY GARDEN 8888', 'SURGEON DOGMA', 'Last Bible', 'SWORDS', 'CRYSTAL HELIX', 'Gluee', 'EVERSINCE', 'BAROQUE', 'Contemporary Movement', 'Working on Dying', 'E', 'Red Light', 'Earlier Works Bootleg', 'Munnie Fetish Renegade Demon', 'Legendary Member', 'Let Me Go', 'VALERIA PULSAR', 'The Best Piece of Shit Vol. 3', 'Unknown Memory', 'e m o c e a n', 'CLAWS', 'Total Eclipse', 'Rare RCB hexD', 'Pale Swordsman', 'Minecraft - Volume Alpha', 'Чернь', 'outcome', 'Grimey Youth', 'HARDSTYLE DRILL 2009 NOKIA ANGELZ 1.6', 'rip bladee', '302? ionwan2go', 'SILENT HILL3 (Original Soundtrack)', '333', 'Trash Island', 'Yrrr Mind', 'Drakengard', 'so bitter', 'Unknown Death 2002', 'Bladeecity', 'Almighty So', 'Poison Ivy', 'Rainbow Bridge 3', 'The Fool', 'Kyoto', 'Drukqs', 'The Tired Sounds of Stars of the Lid', 'Selected Ambient Works Volume II', 'The Ape of Naples', 'Vivadixiesubmarinetransmissionplot', 'Soundtracks for the Blind', 'The Dance of the Moon and the Sun', 'Trust', 'Geogaddi', 'Zen Arcade', 'Music Has the Right to Children', 'Xuvetyn', 'Pink Flag', 'Ágætis byrjun', 'You Will Never Know Why', 'Hellfire', 'Exai', 'Velocity: Design: Comfort.', 'Feels', 'LP5', 'Quaristice', 'Tri Repetae', 'In Rainbows', 'Yanqui U.X.O.', 'Stratosphere', 'Ravedeath, 1972', 'Yerself Is Steam', 'From Here We Go Sublime', 'Haunt Me', 'Confield', 'The Glow, Pt. 2', 'The Campfire Headphase', 'A Moon Shaped Pool', 'Red House Painters I', 'Hitori + Kaiso (1998 - 2001)', 'Rounds', 'TNT', 'Born Into Trouble as the Sparks Fly Upward', 'Things We Lost In the Fire', 'Syro', 'Codename: Dustsucker', 'A Promise', '...I Care Because You Do', 'Oversteps', 'Washing Machine', 'Pygmalion', 'Amber', 'Untrue', 'Electro-Shock Blues', \"Love's Secret Domain (30th Anniversary 2021 Remaster) [Bonati]\", 'KiCk i', 'I Brought You My Bullets, You Brought Me Your Love', 'The Black Parade', 'His N Hers', 'Arca', 'KicK iii', 'Three Cheers for Sweet Revenge', 'KICK ii', 'Freaks', 'Danger Days: The True Lives of the Fabulous Killjoys', 'パンクの鬼 (Tokyo Anal Dynamite)', 'kiCK iiiii', 'Different Class', 'Mutant', 'Fetch', 'Chocolate Hearts and Stag Beetles', 'S/T', 'Early Works Bootleg', '4: AIDS-a-Delic', 'how many h8 can u feeling?', 'El Alma Que Te Trajo', 'Enemy Of The Azunyan Business', '@@@@@', 'OOIOO', '22nd Chances', 'Unlimited Ammo', 'WAHALLA', 'Instruments Disorder (170 Songs CD)', 'Yellow Trash Bazooka', 'Umeå', 'This Is Hardcore', 'Marjorie -W.C. Sinclair', 'Separations (Remastered)', 'Cutie Cutie', \"'77 Live\", \"What's Tonight To Eternity\", 'Oh! Mountain', 'Xen (????? Edition)', 'VOLCANIC BIRD ENEMY AND THE VOICED CONCERN', '空中キャンプ', 'あらためまして、はじめまして、ミドリです。', 'Azeroy', 'The Foundations of Decay', '[untitled]', 'This Is Not an Erect, All-Red Neon Body', 'It', 'Malenkost', 'Nothing Above, Nothing Below', 'Cable Hogue Soundtrack', '宇宙 日本 世田谷', 'Pang', 'Ultraviolence (Deluxe)', 'to hell with it', 'Galore', 'Beatopia', 'Norman Fucking Rockwell!', 'Essentials', 'Flower Boy', 'Sin Miedo (del Amor y Otros Demonios) ∞', 'Sensational', 'Max & Match', 'Nymph', 'Patched Up', 'CRASH', 'bOrN pInK', 'Lust for Life', 'Yves', 'Midnights (3am Edition)', 'Ctrl', 'Blonde', 'Fake It Flowers', 'Climate Hive', 'French Exit', 'Soft Forest Clappering', 'Sky Is Rumbling', 'evermore (deluxe version)', 'Weather Watcher', 'Black Panther the Album Music From and Inspired By', 'Rainward', 'Blue Banisters', 'Chemtrails Over the Country Club', 'Nano Wave Sounds', 'Rainy days and rainy nights', 'Relaxation Makers', 'Soft Waves', 'WE NEED LOVE', 'YOUNG-LUV.COM', 'Z', 'folklore', 'folklore (deluxe version)', 'Sleepy Storm', \"Qu'il y Ait Des Vagues\", '2021 Wave Sounds', 'Ocean HD Vol. 3', 'Latent Heat', 'Thriftless Thunder', 'KICK ii', 'CAPRISONGS', 'Luscious Rain', 'Isolation', 'Souvlaki', 'Around the Fur', 'Nevermind (Deluxe Edition)', 'unexpectedly', 'OK Computer', 'Loveless', 'Ultraviolence (Deluxe)', 'The Dark Side of the Moon', 'Adrenaline', 'White Pony', 'Kiss Me, Kiss Me, Kiss Me', 'Stratosphere', 'Saturday Night Wrist', \"Unknown Pleasures (Collector's Edition)\", 'Pablo Honey', 'Weezer', 'Blonde', 'Icedancer', 'The Rise and Fall of Ziggy Stardust and the Spiders from Mars (2012 Remaster)', 'Diamond Eyes', 'Deathconsciousness', 'MTV Unplugged in New York', 'Amnesiac', 'channel ORANGE', 'folklore', 'The Bends', 'Just for a Day', 'Bleach', 'Ohms', 'Hatful of Hollow', 'Siamese Dream (2011 - Remaster)', 'The Money Store', '13', 'The Colour and the Shape', 'In Utero - 20th Anniversary - Deluxe Edition', 'She Hangs Brightly', 'Gore', 'Koi No Yokan', 'Doolittle', 'Born to Die - The Paradise Edition', 'The Fool', 'evermore (deluxe version)', 'Lover', 'Blur: The Best Of', 'Incesticide', 'Norman Fucking Rockwell!', 'Retired from Sad, New Career in Business', 'Capsule Losing Contact', 'The Idiot', 'In the Aeroplane Over the Sea', 'White Pony', 'Nevermind (Remastered)', 'The Slow Rush', 'Nevermind (Deluxe Edition)', 'Saturday Night Wrist', 'When the Pawn...', 'Diamond Eyes', 'Fallen', 'Three Cheers for Sweet Revenge', 'In Rainbows', 'Mezmerize', 'Around the Fur', 'Metallica', 'Vol. 3: The Subliminal Verses', 'Hybrid Theory (Bonus Edition)', 'The Bends', 'Facelift', 'From Under the Cork Tree', 'BU-IKIKAESU', 'In Utero - 20th Anniversary - Deluxe Edition', 'Gore', '13', 'Blur: The Best Of', 'Adrenaline', 'Deftones', 'Sinner', 'Dynasty', 'Be the Cowboy', 'Absolution', 'In Utero - 20th Anniversary Remaster', 'System of a Down', 'Toxicity', 'Currents', 'Comedown Machine', 'Black Ice', 'Post', 'Twilight', 'Anywhere But Home (Live)', 'Use Your Illusion II', 'See You on the Other Side', 'St. Anger', 'The Black Parade', 'Incesticide', 'The Wall', 'Amnesiac', 'Pablo Honey', 'Awake', 'All Hope Is Gone (10th Anniversary)', 'Superunknown (Deluxe Edition)', 'Mrs Magic', 'I like it when you sleep, for you are so beautiful yet so unaware of it', 'A Brief Inquiry Into Online Relationships', 'Notes on a Conditional Form', 'The 1975', 'The Slow Rush', 'Currents', 'Pablo Honey', 'Oracular Spectacular', 'brand new eyes', 'Chip Chrome & The Mono-Tones (Deluxe)', 'Who Really Cares', 'The 1975 (Deluxe)', 'Congratulations', 'GABRIEL', 'Corinne Bailey Rae', 'Plastic Beach', 'Peripheral Vision', 'mOoDsWiNgS iN tO oRdEr', 'Sidelines', 'French Exit', 'Little Dark Age', 'Be the Cowboy', 'When You Come Around', 'In Rainbows', 'MATA', \"Harry's House\", 'The New Abnormal', 'RENAISSANCE', 'Daydream', 'Science & Faith', 'Moodswings In This Order', 'A Twist in My Story', 'Fine Line', \"Good Morning It's Now Tomorrow\", \"mama's boy\", 'The Bends', 'Once Twice Melody', 'TEMPORARY HIGHS IN THE VIOLET SKIES', 'Pastlife', 'The Night in Question: French Exit Outtakes', 'What Do You Really Know?', 'RIP Indo Hisashi', 'Wolfgang Amadeus Phoenix', 'gg bb xx', 'The Miseducation of Lauryn Hill', 'Being Funny In A Foreign Language', '22', 'Hopes and Fears', 'Demon Days', \"Brotherhood (Collector's Edition)\", 'One Nite Alone... Live!', 'Purple Rain (Deluxe) [Expanded Edition]', \"One Nite Alone... The Aftershow: It Ain't Over! (Up Late with Prince & the NPG) [Live]\", 'Anthology: 1995-2010', 'Indigo Nights / Live Sessions', 'Emancipation', \"Sign ''O'' the Times\", 'Live in London', 'Parade (Music from the Motion Picture Under the Cherry Moon)', 'Musicology', 'Graffiti Bridge', 'Live in Dublin', \"Don Juan's Reckless Daughter\", 'Piano & a Microphone 1983', '1999', 'Prince', 'Originals', 'Blue Gardenia', '3121', 'Diamonds and Pearls', 'One Nite Alone... (Solo piano and voice by Prince)', 'Love Symbol Album', 'For You', 'Purple Rain', 'Crystal Ball', 'The Rainbow Children', 'Court and Spark', 'Around the World in a Day', 'Shadows and Light', 'Sweet Soul Queen of New Orleans: The Irma Thomas Collection', '20Ten', 'Back to Black', 'The Truth', 'Hejira', 'Dirty Mind', 'Miles of Aisles', 'For the Roses', 'PLECTRUMELECTRUM', 'Live at Carnegie Hall 1972-02-23', 'Prince And The Revolution: Live', 'From Natchez To New York', 'The Hissing Of The Summer Lawns', 'Blue', 'Live at Red Rocks, 30.08.1983', 'River: The Joni Letters', \"A Woman's Viewpoint: The Essential 1970s Recordings\", 'Frank', 'Ulisses', 'Ladies of the Canyon', 'Preludes: Rare And Unreleased Recordings', 'folklore (deluxe version)', \"Red (Taylor's Version)\", 'Lover', 'evermore (deluxe version)', 'Norman Fucking Rockwell!', 'reputation', '1989 (Deluxe)', 'Honeymoon', 'Formula of Love: O+T=<3', \"Fearless (Taylor's Version)\", 'Speak Now', 'THE ALBUM', 'MOTOMAMI', 'Midnights (3am Edition)', 'Rare (Deluxe)', 'Savage - The 1st Mini Album', 'BETWEEN 1&2', 'Pang', 'Ultraviolence (Deluxe)', 'Born This Way (International Special Edition Version)', 'SOUR', 'bOrN pInK', 'Lemonade', 'Melodrama', 'RENAISSANCE', 'COR', 'Lust for Life', \"Hollywood's Bleeding\", 'CRASH (Deluxe)', 'The Perfect Red Velvet - The 2nd Album Repackage', 'Chromatica', 'Born to Die - The Paradise Edition', 'Feel Special', 'WHEN WE ALL FALL ASLEEP, WHERE DO WE GO?', 'Im Nayeon', 'Blue Banisters', 'Cry Baby (Deluxe Edition)', 'All My Demons Greeting Me As A Friend (Deluxe)', 'MORE & MORE', 'Scorpion', '28 Reasons - The 1st Mini Album', 'Revival (Deluxe)', 'Eyes wide open', 'K-12', 'Queendom - The 6th Mini Album', '[X X]', 'Hard to Imagine the Neighbourhood Ever Changing', 'More Life', 'Taste of Love', 'Red (Deluxe Edition)', 'Deathconsciousness', 'OK Computer', 'The Bends', 'Stratosphere', 'Kid A', 'Shame, Shame (Deluxe Edition)', 'Pinkerton - Deluxe Edition', 'The Smiths', 'Talk Talk Talk', 'Amnesiac', 'DEATH NOTE original soundtrack', 'Songs About Leaving', 'Aerial 13', 'First Utterance', 'The Devil and God Are Raging Inside Me', 'Shakers For You', 'Hard Normal Daddy', 'Is This It', 'How It Feels to Be Something On', 'D>E>A>T>H>M>E>T>A>L', 'Alucinaciones en familia', \"La Conferencia Secreta Del Toto'S Bar\", 'American Football', 'Obey', 'Voids', 'Tri Repetae', 'Room on Fire', 'Raro', 'Deloused in the Comatorium', 'Soy Una Arveja', 'Pablo Honey', 'Barranca Abajo', 'Restos de un incendio', 'Hatful of Hollow', 'Danganronpa : Trigger Happy Havoc Original Soundtrack', 'haha', 'Yankee Hotel Foxtrot', 'Down Colorful Hill', 'Electro-Soma', 'Damnation', 'Zanoza', 'Развлечение', 'Pinkerton', 'Lunatic Harness', 'Zanoza', 'Selected Ambient Works 85-92', 'one', 'Rubber Soul', 'You All Look the Same to Me', 'Split', 'Lush', 'The Colour in Anything', 'Overgrown', 'James Blake', '[#]', 'Max & Match', 'Endless', 'Assume Form', 'Hounds of Love', 'Broke with Expensive Taste', '[+ +]', 'Valentine', '[&]', '[12:00]', 'JinSoul', 'Charli', 'MAGDALENE', '[X X]', '333 (Deluxe)', 'Perfect Velvet - The 2nd Album', 'EP2', 'LP1', 'M3LL155X', 'Unknown Pleasures', 'Blood', 'Arca', 'Lungs (International Version)', 'KiCk i', 'Aromanticism', 'When I Get Home', 'CTRL (Deluxe)', 'Choerry', 'Kim Lip', 'Souvlaki', 'Clean', 'How Big, How Blue, How Beautiful (Deluxe)', 'Goddess (Deluxe)', 'Take Me Apart', 'Carrie & Lowell', 'Number 1 Angel', 'Summer Special [Flip That]', 'Ceremonials', 'Lemonade', 'Pop 2', 'Friends That Break Your Heart', 'Hatful of Hollow', 'Blue Bell Knoll', 'evermore (deluxe version)', \"What's Your Pleasure?\", 'In Colour', 'Artaud', 'Piano bar', 'The Sound of Perseverance - Reissue', 'Pride & Glory', 'Serú Girán', 'Deliverance', 'Souvlaki', 'Bangkok Shocks, Saigon Shakes, Hanoi Rocks', 'Complete and Total Hell', 'Clics modernos', 'No Mercy For Mayhem', 'Bardcore, Vol. 2', 'Rebel Yell', 'King for a Day, Fool for a Lifetime', 'Two Steps From the Move', 'Blood Sugar Sex Magik (Deluxe Edition)', \"Kill 'em All (Remastered)\", 'García 87/93', 'La Rue Morgue', 'Serú Girán (Remasterizado 2021)', 'En la Ruta', 'Brother', 'The Real Thing', 'How I Go', 'Stay Sick!', 'Skid Row', 'Spellbound', 'Phenomenon (2007 Remaster)', 'Peacemaker', 'Mellon Collie and the Infinite Sadness (Deluxe Edition)', 'An Ocean Between Us', 'Pubis Angelical / Yendo De La Cama Al Living', 'Night of the Blade ...The Night Before', 'Abrázame', 'Historias de un hijo del Blues', 'Too Fast for Love', 'Black Magic', 'Pescado Rabioso 2', 'Morbid Visions / Bestial Devastation', 'Temple of the Dog', 'Bitterness the Star', 'Cowboys From Hell', 'Divididos por la Felicidad', 'Gravity X', 'Brother Cane', 'Hints, Allegations & Things Left Unsaid', 'White Pony', 'Probot', 'Red Fang', 'Dirt', 'Madvillainy', 'Revenge', 'Veteran', 'who told you to think??!!?!?!?!', \"So The Flies Don't Come\", 'Blonde', 'Donuts', 'things that happen at day // things that happen at night', 'IGOR', 'Some Rap Songs', 'Anthology', '17', \"I Don't Like Shit, I Don't Go Outside: An Album by Earl Sweatshirt\", 'Harbor', 'Dark Comedy', 'By the Throat', 'In Rainbows', 'Look at Me! - Single', 'The Money Store', 'Sports', 'Bottomless Pit', 'Detour', 'When We Were Friends', 'The Impossible Kid', \"Whatever People Say I Am, That's What I'm Not\", 'The G.A.T. (The Gospel According To...)', 'let the sun talk', 'Hot Fuss', 'Hella Personal Film Festival', 'No Love Deep Web', 'In the Aeroplane Over the Sea', 'Japan', '1000 gecs', 'Twin Fantasy', 'Budding ornithologists are weary of tired analogies', 'purple moonlight pages', 'May God Bless Your Hustle', 'All My Heroes Are Cornballs', 'Skelethon', 'For Emma, Forever Ago', 'Hiding Places', 'WHEN WE ALL FALL ASLEEP, WHERE DO WE GO?', 'OK Computer', 'Scatterbrain', 'Favourite Worst Nightmare', 'Souvlaki', 'Malibu Ken', 'Marlowe 2', 'LP!', 'The Glow, Pt. 2', 'Since I Left You (20th Anniversary Deluxe Edition)', 'Peliculas', 'Promises', 'Hounds of Love', 'Clics modernos', 'The Glow, Pt. 2', 'IGOR', 'Music for Commercials', 'Veteran', 'Fantasma (remastered)', 'あらためまして、はじめまして、ミドリです。', 'Three Cheers for Sweet Revenge', 'KICK ii', 'LP!', 'La Grasa de las Capitales: Edición 40º Aniversario', 'Hosianna Mantra', 'Human Beings and Animals', 'Camera Talk (Remastered 2006)', 'The Piper at the Gates of Dawn', 'Some Rap Songs', 'KiCk i', 'The Money Store', \"Mother Earth's Plantasia\", 'The Black Parade', 'Kakashi', 'A Shape of Light \"A Silent Voice the Movie\" Original Soundtrack', 'THREE CHEERS FOR OUR SIDE~海へ行くつもりじゃなかった~ (Remastered 2006)', 'London Calling (Remastered)', 'A', 'TONDEMO-WONDERZ', 'Disintegration (Deluxe Edition)', 'The Kick Inside', 'Divididos por la Felicidad', 'Llegando los Monos', 'Exmilitary', 'Draining Love Story', 'Call Me By Your Name (Original Motion Picture Soundtrack)', 'Joy as an Act of Resistance.', 'Dawn FM', 'KicK iii', 'Serú Girán (Remasterizado 2021)', 'Selected Ambient Works 85-92', 'Tango', 'Ants From Up There', 'Omori (Original Game Soundtrack), Pt.3', 'Russian Roulette - The 3rd Mini Album', 'El Mal Querer', 'MAN PLAYS THE HORN', 'my love feels all wrong. digipak', \"What's Going On\", 'Have One on Me', 'Heartland', 'Ys', 'He Poos Clouds', 'In Conflict', 'Ten Love Songs', 'Emotion', 'All Mirrors', 'Titanic Rising', 'Rid of Me', 'White Chalk', 'The Milk-Eyed Mender', 'Vespertine', 'Just for a Day', 'Divers', 'Soft Sounds From Another Planet', \"What's Your Pleasure?\", 'Dedicated', 'Have You In My Wilderness', 'WLFGRL', 'The New Abnormal', 'Dedicated Side B', 'Has A Good Home', 'and Their Refinement of the Decline', 'Atrocity Exhibition', 'Set My Heart On Fire Immediately', 'Too Bright', 'Jubilee', 'Boys for Pele (Deluxe Edition)', 'Let England Shake', 'IMPOSSIBLE WEIGHT', 'Aviary', 'Sound Of Silver', 'Stories from the City, Stories from the Sea', 'Psychopomp', 'Capsule Losing Contact', 'Soviet Kitsch', 'This Is Happening', 'Modern Vampires of the City', 'Soul Lady', 'The Dreaming', 'New Long Leg', 'bury me at makeout creek', 'Pray For Paris', 'Begin to Hope', 'Souvlaki', 'A Promise', 'Loud City Song', 'MY WOMAN', 'Diaries', 'Teen Dream', 'In Rainbows', 'To See the Next Part of the Dream', 'Melophobia', 'OK Computer', 'Bloom', 'Depression Cherry', 'Loveless', 'Devotion', '7', 'Once Twice Melody', 'Thank Your Lucky Stars', 'Heaven or Las Vegas', 'Carrie & Lowell', 'Kid A', 'The Bends', 'Antisocialites', 'Souvlaki', 'Plastic Beach', 'Slowdive', 'A Moon Shaped Pool', \"Whatever People Say I Am, That's What I'm Not\", 'Homogenic', 'Social Cues', 'Have One on Me', '...Like Clockwork', 'Supermodel', 'Downfall of the Neon Youth', 'Treasure', 'Illinois', 'Ys', 'Villains', 'Vespertine', 'Demon Days', 'Pure Heroine (Extended)', \"Tell Me I'm Pretty\", 'Twenty One Pilots', 'Kodama', 'Minecraft - Volume Alpha', 'Vessel', 'Beach House', 'Weatherglow', 'Trench', 'The Glow, Pt. 2', 'Écailles de lune', \"Hurry Up, We're Dreaming\", 'm b v', 'Bon Iver', 'Sunbather', 'Let Go', 'Live Through This', 'Nevermind (Remastered)', 'OK Computer', 'Foo Fighters', 'Because of the Times', 'In Utero - 20th Anniversary Remaster', 'Aha Shake Heartbreak', 'Only by the Night', 'The Colour and the Shape', 'Room on Fire', 'Mechanical Bull (Expanded Edition)', 'When You See Yourself', 'Weezer', 'There Is Nothing Left to Lose', 'The Bends', 'Youth and Young Manhood', 'Come Around Sundown (Expanded Edition)', 'In Rainbows', 'Is This It', 'Incesticide', 'MTV Unplugged in New York', 'Dirt', 'In Utero - 20th Anniversary - Deluxe Edition', 'Bleach', 'AM', 'Celebrity Skin', 'Fantastic Planet', 'Everything All the Time', 'Colter Wall', 'First Impressions of Earth', 'Jar of Flies', 'Angles', 'The New Abnormal', 'Dirt (2022 Remaster)', 'WALLS', 'Alice in Chains', 'Brothers', 'Pinkerton', 'Stadium Arcadium', 'Cease to Begin', 'Hot Fuss', 'Things Are Great', 'summerteeth', 'Traveller', 'Kid A', 'Holy Roller Novocaine', 'Dookie', 'By the Way (Deluxe Edition)', 'Born To Die (Bonus Track Version)', 'Master Of Puppets (Remastered)', 'The Life of Pablo', 'Kamikaze', 'Peluson Of Milk', 'ye', 'Artaud', 'Donda', 'My Beautiful Dark Twisted Fantasy', 'The Smiths', 'Yeezus', 'Graduation', 'The Rise and Fall of Ziggy Stardust and the Spiders From Mars', 'Almendra', 'JESUS IS KING', 'Louder Than Bombs', 'London Calling', 'The Queen Is Dead', 'Vida', 'El jardín de los presentes', 'The College Dropout', 'Durazno Sangrando', 'Bocanada', 'Hunky Dory', 'Al final de este viaje...', 'Late Registration', 'Peperina', 'Muerte', 'Confesiones De Invierno', 'Artaud', 'Blonde', 'The Doors', 'Clics modernos', 'Dynamo', 'Amor Amarillo', 'Transformer', 'Piano bar', 'Clandestino... Esperando La Última Ola', '808s & Heartbreak', 'El Amor Después del Amor', 'Los Demenciales Chicos Acelerados', 'The Clash', 'Salad Days', 'Anti Todo', '2', 'Kortatu', '1964-1971', 'The Rise and Fall of Ziggy Stardust and the Spiders from Mars (2012 Remaster)', 'Selected Ambient Works 85-92', 'Static Age', 'The Velvet Underground & Nico 45th Anniversary', 'Ramones', 'Mahler: Symphony No. 5', 'Midnights (3am Edition)', 'The Beatles', 'Glenn Gould plays Schoenberg: Klavierstücke opp. 11, 19, 23, 33; Piano Suite op. 25; Piano Concerto op. 42; Fantasy for Violin & Piano op. 47; Ode to Napoleon Buonaparte op. 41; Lieder opp. 1; 2; 3; 6; 12; 14; 15; 48', 'Hawaii', 'あらためまして、はじめまして、ミドリです。', 'Mozart: The Complete Piano Concertos', 'Merriweather Post Pavilion', 'Saijiki', 'channel ORANGE', 'Debussy: complete orchestral works', 'Debussy: Complete Works for Piano', 'reputation', 'Mezzanine', 'Bavarian Fruit Bread', 'Abbey Road', 'OK Computer', 'Vivaldi Masterworks', 'Fossora', 'Bach, J.S.: Cantatas & Sacred Masterpieces', \"Sgt. Pepper's Lonely Hearts Club Band (Super Deluxe Edition)\", 'summerteeth', 'Modern Life Is Rubbish', 'Be the Cowboy', 'Illinois', '1989 (Deluxe)', '勝訴ストリップ', 'Departure', 'Suspiria (Music for the Luca Guadagnino Film)', 'Yankee Hotel Foxtrot (Deluxe Edition)', 'Pygmalion', \"Red (Taylor's Version)\", 'Late Registration', 'Midnights', 'Rubber Soul', '69 Love Songs', 'Fly', 'Phantom Thread (Original Motion Picture Soundtrack)', 'Lift Your Skinny Fists Like Antennas to Heaven', 'Souvlaki', 'Homogenic', 'In the Aeroplane Over the Sea', 'folklore: the long pond studio sessions (from the Disney+ special) [deluxe edition]', \"Le fabuleux destin d'Amélie Poulain (Bande originale du film)\", 'Past Masters (Vols. 1 & 2)', 'Revolver', 'Disintegration (Remastered)', 'Raciocínio Quebrado', 'KID A MNESIA', 'Emotion (Deluxe Expanded Edition)', 'Year of the Snitch', 'Music Has the Right to Children', 'Geogaddi', 'Galaxy 2 Galaxy: A High Tech Jazz Compilation', 'Twilight', 'To Pimp a Butterfly', 'Heroes', 'New Moon', 'Dubnobasswithmyheadman (20th Anniversary Remaster)', 'No Love Deep Web', 'The Money Store', 'Veteran', 'Kid A', 'IGOR', 'Currents', 'Somersault', 'Second Toughest In The Infants (Remastered)', 'RAMONA', 'Change', 'Visions', 'untitled unmastered.', 'CLANNAD ORIGINAL SOUNDTRACK DI', 'Lonerism', 'Government Plates', 'Crack-Up', 'Atrocity Exhibition', 'Endtroducing.....', 'InnerSpeaker', 'Hejira', 'Emergency & I', 'Blonde', 'DAMN.', 'Exmilitary', 'Bookends', 'Beaucoup Fish', 'Double Nickels on the Dime', 'Syro', 'Blackstar', 'Flower Boy', 'Sometimes I Sit and Think, and Sometimes I Just Sit', 'COOOL', 'Bottomless Pit', 'The Fat of the Land', 'Art Angels', \"Who Will Cut Our Hair When We're Gone? (Remastered)\", 'Second Edition', 'good kid, m.A.A.d city', 'Madvillainy', 'Low', 'cLOUDDEAD', 'The Downward Spiral', 'Tourist History', 'OK Computer', 'FINAL FANTASY VI (Original Soundtrack)', 'The Glow, Pt. 2', 'We Are Not Your Kind', 'Rust In Peace', 'Demon Days', 'Toxicity', 'Discovery', 'In Utero (20th Anniversary Edition)', 'The Fragile', 'Random Access Memories', 'Absolution', 'Giving The World Away', 'Nevermind', 'Black Holes and Revelations', 'Broken', 'Pink Moon', 'Plastic Beach', 'Velocity : Design : Comfort.', 'Abbey Road (Remastered)', 'Nite Versions', 'Pretty Hate Machine (Remastered)', 'Among the Living', 'Black On Both Sides', 'VEGA INTL. Night School', 'Songs from the Big Chair', 'The Powers That B', '…Because I’m Young Arrogant and Hate Everything You Stand For', 'With Teeth', 'Pretty Hate Machine', 'Screaming for Vengeance (Bonus Track Version)', 'Ladies and Gentlemen We Are Floating in Space', 'Mega Man X Sound Collection', 'Electric', 'Since I Left You', 'Metaphorical Music', 'The Tired Sounds of Stars of the Lid', 'Justice', 'Ghosts I-IV', 'Power, Corruption & Lies', 'In Colour', 'Big Fish Theory', 'Psychic Chasms', 'Polygon', 'HIRAETH', \"Peace Sells... But Who's Buying?\", 'Dirt', 'Blackstar', 'Stranger', 'Deep Cuts', 'Warlord (Deluxe)', 'Студень', 'HotLine Miami 2: Wrong Number', 'LONG.LIVE.A$AP (Deluxe Version)', 'Crystal Castles', 'Unknown Memory', 'Luv Is Rage 2', 'Hotline Miami', 'AT.LONG.LAST.A$AP', 'Dummy', 'Frost God', 'Silent Shout', 'My Love Is Cool', '(III)', \"Can't Sleep\", '2', 'Crystal Castles (II)', 'Nevermind', 'Salad Days', 'Portishead', 'Finally Rich', 'OK Computer', 'Гантеля', 'Stoney (Deluxe)', 'Mas Fuerte', 'Неизвест. альбом', 'Annabel Dream Reader', 'Mezzanine', 'MCMXC a.D.', 'King Night', 'Ignorance is Bliss', 'Does This Look Infected?', 'Exploding Head', 'Lil Boat 2', 'Visions', 'Long Ambients 1: Calm. Sleep', 'Fires in Heaven', 'Kid A', 'Close The Door', 'Kasabian', 'Do Not Lay Waste To Homes...', 'The South Got Something to Say', 'Meteora', 'The Doors', 'Demon Days', 'The Knife', 'Tragic City', 'Back to Black', 'Punisher', 'Montgomery Ricky', 'Alopecia (Reissue)', 'Stranger in the Alps (Deluxe Edition)', 'Harmony House', 'evermore (deluxe version)', \"Red (Taylor's Version)\", 'folklore (deluxe version)', \"It's 2016 Somewhere\", 'Tallahassee', \"Harry's House\", 'Better Oblivion Community Center', 'Lover', 'Teens of Denial', 'Dark in Here', 'Plans', 'Transatlanticism (10th Anniversary Edition)', 'Fine Line', 'Fuzzybrain', 'Reconstruction Site', 'Elephant Eyelash', 'Pretty. Odd.', 'Take the Sadness out of Saturday Night', 'Pure Heroine', '1989 (Deluxe Edition)', 'Silo', 'Solar Power (Deluxe Edition)', 'Fleet Foxes', 'Shore', 'OUCH!', 'The Honeysticks', 'Making a Door Less Open', \"Fearless (Taylor's Version)\", 'In Sickness & in Flames', 'Testarossa', 'Talon of the Hawk', 'Norman Fucking Rockwell!', 'See You There', 'AM', 'Copycat Killer', 'Challengers', 'Jubilee', 'Marigold (Expanded Edition)', 'The Baby', 'Moh Lhean Expanded', 'Dreamland (+ Bonus Levels)', 'Amperland, NY', 'Strange Desire', '11:11', 'A Very Lonely Solstice', 'Leaves Turn Inside You', 'Orchid', 'Repetition', 'Voyage Out', 'The Going Away Present', 'The OOZ', 'Last City', 'Lumens', 'New Plastic Ideas', 'Fake Train', 'End on End', 'Spiderland', 'Unwound', 'fawn', 'The Future of What', 'Stratosphere', 'Dance Tonight! Revolution Tomorrow!', 'Steady Diet of Nothing', 'I.V.', 'Circle Thinking', 'Instrument Soundtrack', 'Pockets', 'Hatful of Hollow', 'Challenge for a Civilized Society', 'American Football', 'Collected', 'Here Comes the Cowboy', 'Damaged', 'Nothing Feels Natural', 'The Feeling', 'City of Caterpillar', 'TNT', 'Twin Fantasy (Mirror to Mirror)', 'Rat Conspiracy', 'Pieces of a Man', 'The Punch Line', 'Bad Brains', 'The Queen Is Dead', 'Skinny Grin', 'The Money Store', 'Rock and Roll Night Club', 'UNDERTALE Soundtrack', 'The Visit/Seduction', 'Out of Step', '2', 'あらためまして、はじめまして、ミドリです。', 'My War', 'Laisser vivre les squelettes', 'European Tour 2011', 'Fuzzybrain', 'The Beatles [White Album] CD1', 'Let It Be', 'Paranoid (Remaster)', 'Abbey Road', 'Abbey Road (Remastered)', 'Love', 'The Beatles (Remastered)', 'Magical Mystery Tour', 'Beatles for Sale', 'Rubber Soul', 'Sgt Peppers Lonely Hearts Club Band', 'With the Beatles', 'Gamer', 'Help!', 'The Queen Is Dead', 'All Things Must Pass (Remastered 2014)', 'Pablo Honey', 'Let It Be (remastered)', 'Hatful of Hollow', 'Paranoid', 'A Hard Day´s Night', 'Past Masters I', 'Abbey Road (Super Deluxe Edition)', 'Nevermind (Remastered)', 'In the Aeroplane Over the Sea', 'Revolver', 'Louder Than Bombs', 'Zerwee', 'OK Computer', 'The Smiths', 'Metallica (Remastered)', 'Please Please Me', 'MSG, Vol. 2', 'Little Dark Age', 'Past Masters II', 'Rubber Soul (Remastered)', 'MKULTRA SUPPORT GROUP, Vol. 1', \"Sgt. Pepper's Lonely Hearts Club Band (Remastered)\", 'Three Imaginary Boys (Deluxe Edition)', 'Let It Be... Naked (remastered)', 'Meat Is Murder', 'MSG, Vol. 3', 'Nevermind', 'The Bends', 'With the Beatles (Remastered)', 'Strange Days', 'Magical Mystery Tour (Remastered)', 'Old music alert', 'MKULTRA SUPPORT GROUP, Vol. 2', 'Yellow Submarine', 'KID A MNESIA', 'In Rainbows', 'Turn On The Bright Lights (The Tenth Anniversary Edition - 2012 Remaster)', 'Suffer On', 'OK Computer OKNOTOK 1997 2017', 'Wish Me Well', 'The Wall', 'Nevermind (Remastered 2021)', 'Antics (The Special Edition)', 'Hail to the Thief', \"50 Years - Don't Stop\", 'A Moon Shaped Pool', 'Magical Mystery Tour (Remastered)', 'We Will Always Love You', 'Endless Rooms', 'Culture III', 'The King of Limbs', 'Afraid Of Heights', 'Shoot for the Stars Aim for the Moon', 'The Beatles (Remastered)', 'After Hours', 'Suffer On (Deluxe Edition)', 'TYRON', 'Revolver (Remastered)', 'Khaled Khaled', 'The Devil and God Are Raging Inside Me', 'Scary Hours 2', 'Elephant Shell', 'Faith', 'Abbey Road (Super Deluxe Edition)', 'The Beatles (White Album / Super Deluxe)', 'Revolver (Super Deluxe)', 'Let It Be (Super Deluxe)', 'Ants From Up There', \"It's Been a Long Time Since You Said That You Missed Me\", 'Savage Mode II', 'In Utero - 20th Anniversary Remaster (96k)', 'Franchise (feat. Future, Young Thug & M.I.A.) [remix]', 'Plans', 'The Dark Side of the Moon', 'The Queen Is Dead (Deluxe Edition)', 'Complete', 'Keep It Like a Secret', 'AP (Music from the film Boogie)', 'Certified Lover Boy', 's/t', 'What a Time to Be Alive', \"Hollywood's Bleeding\", \"Come Over When You're Sober, Pt. 1\", 'Rust Never Sleeps', 'Amnesiac', '13', 'Hybrid', 'The Bends', 'In Rainbows', 'Nurture', 'Worlds', 'Kid A', 'Parklife', 'Music Has the Right to Children', 'Justice', 'Remote', 'Mezzanine', 'Spirit Phone', 'In the Aeroplane Over the Sea', 'Outside the Box', 'LCD Soundsystem', 'Mouth Silence', 'Happier Than Ever', 'Demon Days', 'Remain In Light (Deluxe Version)', 'Homework', 'Pablo Honey', 'The Great Escape', 'Good Faith', 'Random Access Memories', 'Discovery', 'Audio, Video, Disco.', 'Mouth Dreams', 'Alive 2007', 'No Jacket Required (2016 Remaster)', 'Adventure (Deluxe)', 'OK Computer', 'Outsidein', 'Yoshimi Battles The Pink Robots', 'The Downward Spiral', 'The Stranger', 'Think Tank', 'This Is Happening', 'Swing Resistance', 'The Velvet Underground & Nico 45th Anniversary', 'Plastic Beach', 'Leisure', 'The Eraser', 'American Pie', 'Three Cheers for Sweet Revenge', 'Future Nostalgia', 'SOUR', 'My Beautiful Dark Twisted Fantasy', 'Blur', 'Whole Lotta Red', 'Die Lit', 'FLASH DESIRE', 'PXE', 'Icedancer', 'CLAWS', 'solitude.', 'EXETER', 'Playboi Carti', '333', 'Crest', 'Good Luck', \"I'm Fresh\", 'EVERSINCE', 'Fade', 'E', 'Working on Dying', 'Eternal Atake (Deluxe) - LUV vs. The World 2', 'Let Me Go', 'Variety Pack EP, Vol. 1', 'The Fool', 'Lil Uzi Vert vs. the World', 'Bitch Made', 'ASTROWORLD', 'Kick Rocks (feat. Lil Darkie)', 'Life', 'In Abundance', 'Cozy Tapes Vol. 2: Too Cozy', 'Trash Island', 'BAROQUE', 'Red Light', 'WHAT', 'Man On The Moon: The End Of Day (Deluxe)', 'Gluee', '808s & Heartbreak', 'Into Dust', 'The Life of Pablo', 'SWORDS', '#SantanaWorld (+)', \"Nuthin' 2 Prove\", 'Freewave', 'Broke Boi', 'Wrath', 'Dark Lane Demo Tapes', 'Lil Boat 3.5', 'Kona Park', 'Graduation', 'xxet', 'Donda', '8888EACH DIVINITY', 'Formula of Love: O+T=<3', 'Nectar', 'ODDINARY', 'Cigarettes After Sex', 'Cry', 'the sum', 'AM', 'The Essential Michael Jackson', 'Taste of Love', 'LOVE DIVE', 'Summer Nights', 'Grande', 'Perfect World', 'Favourite Worst Nightmare (Standard Version)', 'good luck have fun', 'recess', 'Electra Heart (Platinum Blonde Edition)', 'The Family Jewels (Deluxe)', 'TWICEcoaster: LANE 1', 'The Nat King Cole Story', 'Eat Ya Veggies', 'Eyes wide open', 'Hard to Imagine the Neighbourhood Ever Changing', 'Ancient Dreams In A Modern Land (Deluxe Edition)', 'Planet Her', 'Celebrate', 'BETWEEN 1&2', 'gg bb xx', 'The Dream Chapter: STAR', 'The Fame Monster (Deluxe Edition)', 'NOEASY', 'Gasanova', '1 (Remastered)', 'FANCY YOU', 'Stokeley', 'Humanz (Deluxe)', 'sweetlilly93@hotmail.com', 'Chip Chrome & The Mono-Tones (Deluxe)', 'nokdu ep vol.1', 'GO Live', 'Feel Special', 'Nothing Happens', 'HIDEOUT: REMEMBER WHO WE ARE - SEASON1.', 'The Beatles (Remastered)', 'STAYDOM', 'Hello Future - The 1st Album Repackage', \"Seventeen 4th Album Repackage 'SECTOR 17'\", 'BORDER : CARNIVAL', 'Diana Ross Presents the Jackson 5', 'I.', 'THE GHOST~POP TAPE', 'Crystal Castles', 'Grind Mansion: Midnight House Party', 'VOLCANIC BIRD ENEMY AND THE VOICED CONCERN', 'Anti-World', 'Veteran', 'Unknown Pleasures', 'Whole Lotta Red', 'Goth Luv', 'All My Heroes Are Cornballs', 'Icytwat Radio', '700 DAGREEZ', 'LP!', 'Паранойя', 'Unimon Superstar', 'e m o c e a n', 'Donuts', 'HELLHORSE', 'Scumbag', 'Chocolate Hearts and Stag Beetles', 'Cilvia Demo', 'Soulja Luv Rari World', 'Serotonin II', 'Psychobabble Boogiepop', 'EVERSINCE', 'RARE Hi-C .PNG', 'Die Lit', 'CRACK CLOUD$ OVER ARTS KITCHEN', 'Konkurs', 'Loveless', 'Everyone Into Position', 'Yeezus', 'Dior Junts', 'antidote', \"Speedin' Bullet 2 Heaven\", '6 Dogs', 'OFFLINE!', 'キュプラ', 'Essentials', 'Trapped in The Trenches', 'Early Works Bootleg', 'Deathconsciousness', 'Red Light', 'Evil Nigga', 'Enchanted Propaganda', 'Hybrid Theory', 'Donda', 'Sxicid3 Sqxad', 'HELLBOY', 'Music For Nurses', 'Lincoln', 'Le Voyage dans la Lune', 'Hard Candy', 'Luxurious', 'Madvillainy', 'Marcos Valle', 'Some Rap Songs', 'Double Nickels on the Dime', 'Flower Boy', 'Five-A-Side', 'Illmatic', 'CALL ME IF YOU GET LOST', 'Turnpike Diaries', 'Songs in the Key of Life', 'NO OFFENCE', 'The Life of Pablo', 'Robbie Dupree', \"Dah Shinin'\", \"What's Going On\", 'Máquina do Tempo', 'Stukas Over Disneyland', 'Graduation', 'IGOR', 'ハルカリベーコン', 'Careless', \"LIFE'S A TRIP\", 'Lost in Love', 'A Mis 20', 'NataKong', 'More Life', 'Moment Of Truth', 'Pet Sounds (Original Mono & Stereo Mix Versions)', 'Luv Is Rage 2', 'Internal Affairs', 'Vacation (Original Motion Picture Soundtrack)', 'Superunknown', 'Hard To Earn', 'To Pimp a Butterfly', 'Minute by Minute', 'Behind Bars', '2+2+1=', 'We Got It From Here... Thank You 4 Your Service', 'Tesoros De Coleccion', 'The Original Soundtrack', 'Is This It', 'Endtroducing.....', 'Blind Melon', 'Garra', 'Baby On Baby', 'Traffic Jam In Moscow', 'MACABRE', 'The Wall', \"Never Mind The Bollocks, Here's The Sex Pistols\", 'GAUZE', 'American Psycho', 'I Disagree', 'Collection', 'THE MARROW OF A BONE', 'The Boys', 'Citron', 'Am I a Girl?', 'UROBOROS', '...And Out Come the Wolves', 'Eleventeen', 'Famous Monsters', 'Kisou', 'To Anyone', 'Hell Yeah', 'The Dark Side of the Moon', 'Static Age', 'Suki Suki Daisuki', '2NE1 2nd Mini Album', 'Wonder World', 'The Kick Inside', \"It's My Party!\", 'I GOT A BOY', 'London Calling', 'Never for Ever', 'A Kiss Before You Go', 'Flux', 'C.AARMÉ', 'CRASH', 'Energy', 'Sweets～SCANCH BEST COLLECTION～', 'Rancid [1993]', 'Rain Dogs', 'Vita', 'Electric Shock', 'JET CD', 'Le Pop', \"Life Won't Wait\", 'DUM SPIRO SPERO', 'I am...', 'ARCHE', 'Stone Roses', 'Jealousy', 'The Best Of The Ronettes', 'MY STORY', 'Hounds of Love', 'Splurge', 'Blonde', 'Parachutes', \"LO▼E'S\", 'YHLQMDLG', 'Random Access Memories', 'EL ÚLTIMO TOUR DEL MUNDO', 'beerbongs & bentleys', 'A Rush of Blood to the Head', \"Hollywood's Bleeding\", 'El Madrileño', 'OK Computer', 'Moonlight922', 'After Hours', 'Souvlaki', 'Standing On The Corner', 'X&Y', 'A.D.R.O.M.I.C.F.M.S. 4', 'Tercer Verano del Amor', 'In Rainbows', 'Unreleased', 'Siempre', 'Melanchole', 'Timelezz', 'How to Save a Life', 'Untrue', 'Die Lit', 'Pablo Honey', 'Around the Fur', '1999', 'The Life of Pablo', 'Kid A', 'Loveless', 'Avida Dollars', 'To Pimp a Butterfly', 'Maracucho Bueno Muere Chiquito', 'Traumatismo Kraneoencefalico', 'LAS QUE NO IBAN A SALIR', 'Is This It', 'The College Dropout', 'Ídolo', 'Dummy', 'The Queen Is Dead', 'X 100PRE', '808s & Heartbreak', '2001', 'Late Registration', 'MOTOMAMI', 'ye', 'El Mal Querer', 'My Beautiful Dark Twisted Fantasy', 'Whole Lotta Red', 'Fresh Fruit For Rotting Vegetables (Expanded Edition)', 'The Velvet Underground & Nico 45th Anniversary', 'ひまわり画像', 'Trout Mask Replica', 'Loveless', 'Kollaps', 'Pink Moon', 'Bad Brains', 'But, What Ends When the Symbols Shatter?', 'Rainbow Bridge 3', 'Filth', 'Deceit', 'A Promise', \"OIL OF EVERY PEARL'S UN-INSIDES\", 'In the Aeroplane Over the Sea', 'Double Nickels on the Dime', 'Children of God', 'Soundtracks for the Blind', 'Todd', 'Madvillainy', 'Rainbow Bridge', 'Sink', 'Remain In Light (Deluxe Version)', 'Horseshit on route 66', 'The Queen Is Dead', 'In the Flat Field', 'Stratosphere', 'あらためまして、はじめまして、ミドリです。', 'Fetch', 'Ortodossia II/Compagni, Cittadini, Fratelli, Partigiani (2008 Remastered Edition)', 'Crack Musica', 'MOTOMAMI', '・薔薇綺麗躊躇網羅就職痙攣蝋燭鷹麟爨齉馕龘爨齉龘・  (Pink Album)', 'Damaged', 'Obey', 'Atrocity Exhibition', '…Because I’m Young Arrogant and Hate Everything You Stand For', 'Le Mani Destre Recise Degli Ultimi Uomini', 'Obscura', 'All My Heroes Are Cornballs', '20 Jazz Funk Greats', 'Русское Поле Эксперимента (Акустика)', \"You Won't Get What You Want\", '好き好き大好き', 'Bad Moon Rising', 'To Be Kind', 'The Seeds', 'Live 1977-1979', 'Prayers On Fire', 'Punisher', 'LP!', 'Titanic Rising', 'Piñata', 'To Pimp a Butterfly', \"I Don't Like Shit, I Don't Go Outside: An Album by Earl Sweatshirt\", 'Minecraft - Volume Alpha', 'Whack World', 'Some Rap Songs', 'Paper Mâché Dream Balloon', 'WORRY.', 'All My Heroes Are Cornballs', 'The Money Store', 'Ants From Up There', 'Brick Body Kids Still Daydream', \"Time 'n' Place\", 'TA13OO', 'Flower Boy', 'Mista Thug Isolation', 'Madvillainy', 'Weezer', 'The Rise and Fall of Ziggy Stardust and the Spiders from Mars (2012 Remaster)', 'Hellfire', 'Atrocity Exhibition', 'Deceit', 'The Forever Story', 'good kid, m.A.A.d city (Deluxe)', 'SATURATION II', 'Mr. Morale & the Big Steppers', 'Revolver (Remastered)', 'Post', 'OFFLINE!', 'Late Registration', 'Melt My Eyez See Your Future', 'The Black Parade', 'The Impossible Kid', 'Veteran', 'Spiderr', 'CLPPNG', 'Pink Moon', 'Little Dark Age', 'Die Lit', 'Teens of Denial', 'Demon Days', 'By the Time I Get to Phoenix', 'GODS FATHER', 'FM!', '4eva Is a Mighty Long Time', 'Visions of Bodies Being Burned', 'Hyper-Dimensional Expansion Beam', 'AIM (Deluxe)', 'Trava Línguas', 'Matangi', 'MOTOMAMI', 'Born to Die - The Paradise Edition', 'Blue Banisters', 'Honeymoon', 'Norman Fucking Rockwell!', 'Ultraviolence (Deluxe)', 'Te Amo Lá Fora', 'MATA', 'Sin Miedo (del Amor y Otros Demonios) ∞', 'Lust for Life', 'KiCk i', 'Sinto Muito', 'Halfaxa', 'Born This Way (International Special Edition Version)', 'Brilliant Adventure (1992 – 2001)', 'Visions', 'New Decadence', 'Popular', 'Arular', 'The Fame Monster (Deluxe Edition)', \"Let's Part in Style\", 'Miley Cyrus & Her Dead Petz', '/\\\\/\\\\ /\\\\ Y /\\\\ (Deluxe Edition)', 'Elis', 'Clube Da Esquina', 'Chromatica', 'MENGA', 'Mourn', 'Miss Anthropocene (Deluxe Edition)', 'Starboy', 'Party Girl', 'Ecstasy in the Shadow of Ecstasy', 'The One', 'Rito de Passá', 'Kala', 'Born to Die – Paradise Edition (Special Version)', 'EVERYONE AFRAID TO BE FORGOTTEN', 'The Wall', 'Nó Na Orelha', 'kin', 'The Immaculate Collection', 'Pang', 'Tropix', 'Los Ángeles', 'Envolver', 'Transversal Do Tempo', 'Black Celebration (Deluxe)', 'Twin Fantasy', 'Teens of Denial', 'Making a Door Less Open', 'The Bends', 'In Rainbows', 'Horseshit on route 66', 'Pinkerton - Deluxe Edition', 'Is This It', 'Around the Fur', 'Loveless', 'How To Leave Town', 'Mirror Might Steal Your Charm', 'Cruel Melody', 'Saturday Night Wrist', 'OK Computer', 'Weezer (Black Album)', 'D>E>A>T>H>M>E>T>A>L', 'Position 2 (Extended)', 'Twilight', 'Either/Or', 'Room on Fire', '333', 'Pablo Honey', '22nd Chances', 'Red Light', 'Los Flakos', 'Hidden Treasures', 'Spirit Youth', 'Hunky Dory (2015 Remaster)', 'Rumskib', 'Rainbow Bridge', 'Vecinos Psicodélicos', 'Rust in Peace (Expanded Edition)', 'Depresión Sonora', 'Stratosphere', 'ep’s 1988-1991 and rare tracks', 'Diamond Eyes', 'XO', 'Marjorie -W.C. Sinclair', 'Collide With the Sky', \"Let's Dance (2018 remaster)\", 'La La Land (Original Motion Picture Score)', 'Souvlaki', 'tyuudokusyoujyou〜ni〜', 'White Pony', 'For Lovers', '日々のあわ', 'Microcastle', 'hikikomori days', 'Vol. 3: The Subliminal Verses', 'Born This Way', 'Melodrama', 'Back to Black', '1989', 'Lemonade', 'MASSEDUCTION', 'E•MO•TION', 'After Laughter', 'Dirty Computer', 'Sweetener', 'Night Time, My Time', 'Red', 'Chromatica', 'ANTI', 'Hounds of Love', 'ARTPOP', 'folklore', 'Lança perfume', 'Be the Cowboy', 'Dangerous Woman', 'Isolation', 'Lust for Life', 'SAWAYAMA', 'Pure Heroine', 'RENAISSANCE', 'Beyoncé', 'Blackout', 'MOTOMAMI', 'The Velvet Rope', \"Red (Taylor's Version)\", 'Laundry Service', 'Butterfly', 'thank u, next', 'Ctrl', 'Rainbow', 'Golden Hour', 'HOMECOMING: THE LIVE ALBUM', 'St. Vincent', 'Positions', 'Daydream', 'Rita Lee', 'Dedicated', 'No Shame', 'Fruto Proibido', 'Number 1 Angel', 'Alright, Still', 'Joanne', 'Broke with Expensive Taste', 'Caution', 'Sheezus', 'Relationship of Command', 'Career Suicide', 'Hissing Prigs in Static Couture', 'In On the Kill Taker', 'Red Medicine', 'The Smiths', 'Strangeways, Here We Come', 'Domestica', 'Hatful of Hollow', 'Life on a Plate', 'Attack on Memory', 'Fast Forward Eats the Tape', 'Ruiner', '13 Songs', 'Bright Green Field', 'Repetition', 'Public Strain', 'The Future of What', 'The Queen Is Dead (2017 Master)', 'The Queen Is Dead', 'Mute Print', 'Drive Like Jehu', 'Pennybridge Pioneers', 'Ass Cobra', 'Embrace', 'Songs to Scream at the Sun', 'Since I Left You', 'Sideburner', 'An American Paradox', 'Complete Discography [2003 Remaster]', 'Little Dark Age', 'Milo Goes to College', 'Endtroducing.....', 'The Marshall Mathers LP', 'Repeater + 3 Songs', 'Generator', 'Anonymized Internal Criminals', 'Entertainment!', 'Leaves Turn Inside You', 'The Argument', 'The Lurid Traversal of Route 7', 'Doppelgänger', \"Let's Talk About Feelings\", 'Suicide Invoice', 'Black Eyes', 'Meat Is Murder', 'Smash', 'The Life of Pablo', 'Operation Ivy', 'The Fall Of Troy', 'Wolf', 'Stratosphere', 'To Pimp a Butterfly', 'Chocolate and Cheese', 'Pure Guava', 'OK Computer', 'Die Lit', 'Kid A', 'The Life of Pablo', 'The Mollusk', 'Late Registration', 'The Bends', 'The Pod', 'Bastard', 'Goblin', 'Whole Lotta Red', 'ye', 'Quebec', 'Yeezus', 'GodWeenSatan: The Oneness', 'Experimental Dust', 'Blonde', 'The Wall', 'Contemporary Movement', 'Capsule Losing Contact', 'The College Dropout', 'IGOR', 'Geogaddi', 'Old Tunes Vol. 2', 'Cherry Bomb', 'Selected Ambient Works 85-92', 'Donda', 'Enter the Wu-Tang (36 Chambers)', 'Deathconsciousness', 'The Velvet Underground & Nico', 'White Pony', 'Watch the Throne', 'MM..Food', 'Flood', 'channel ORANGE', 'JESUS IS KING', 'Under Construction [The Wall Demos]', '808s & Heartbreak', 'Amnesiac', 'White Pepper', 'Resident Alien', 'WOLF (2010)', 'Graduation', 'Under Construction', 'So Help Me God', 'His N Hers', 'Danger Days: The True Lives of the Fabulous Killjoys', 'Wolfgang Amadeus Phoenix', 'Silent Alarm', 'You & Me', 'Different Class', 'Reflektor', 'The Suburbs', 'Kaputt', 'The Glow, Pt. 2', 'Modern Vampires of the City', 'HiperAsia', \"Sam's Town\", 'Neon Bible', 'This Is Happening', 'Portamento', 'Everyone Who Pretended to Like Me Is Gone', 'xx', 'Intimacy', 'Plastic Beach', 'Up the Bracket', 'Wildflower', 'Cupid Deluxe', 'My Beautiful Dark Twisted Fantasy', 'Ti Amo', 'Some Rap Songs', 'Bows + Arrows', 'Screamadelica', 'In Rainbows', 'Primary Colours', 'The Libertines', 'Depression Cherry', 'Sound Of Silver', 'Father of the Bride', 'Doolittle', 'First Impressions of Earth', 'A Weekend In the City', 'Love Letters', 'Four', 'Bossanova', 'The Resistance', 'Loveless', 'The Drums', 'A Brief Inquiry Into Online Relationships', '22, a Million', 'Bankrupt!', 'Contra', 'Humbug', 'Plans', 'Freetown Sound', 'Anthology 2', 'Abbey Road', 'Rubber Soul', 'Anthology 3', 'Anthology 1', 'Aha Shake Heartbreak', 'Help!', 'Complete', 'Past Masters, Vols. 1 & 2', 'The Dark Side Of The Moon (Remastered)', 'Junk of the Heart', \"Sgt. Pepper's Lonely Hearts Club Band\", 'The Dark Side of the Moon', 'The Platinum Collection', 'The Wall', 'Spinetta Y Los Socios Del Desierto', 'Tejas', 'Let It Be', '1919 Eternal', 'Degüello', 'Revolver', 'MTV Unplugged', 'Coliumo', 'Beatles for Sale', 'Please Please Me', 'The Beatles (White Album)', 'Pulse (live)', 'Live at Budokan', 'With the Beatles', 'More', \"A Hard Day's Night\", 'Magical Mystery Tour', 'Konk', 'Plans', 'No Rest for the Wicked (Bonus Track Version)', 'El Loco', 'Technical Difficulties', 'Incesticide', 'Pulse', 'Héroes del Silencio: The Platinum Collection', 'Imagine', 'Nevermind', 'The Division Bell', 'Ahí Vamos', 'Rak', 'Comfort y Música Para Volar', 'Big Bang', 'La Sangre En El Cuerpo', 'Obscured by Clouds', 'Yellow Submarine', 'NieR Gestalt & NieR RepliCant Original Soundtrack', 'Red Light', 'D&G', 'NieR:Automata Original Soundtrack', 'undergone', 'E', 'Icedancer', 'EVERSINCE', 'my love feels all wrong. digipak', 'gnb', 'EVANGELION FINALLY', 'Nekomonogatari (Kuro) Gekihanongakushu [Original Soundtrack]', 'Stranger', 'EXETER', 'goretrance 9', 'Shiro SAGISU Music from \"SHIN EVANGELION\" EVANGELION: 3.0+1.0.', 'NEO: The World Ends with You - Original Soundtrack', 'PERSONA5 ORIGINAL SOUNDTRACK', '0', 'Trash Island', 'Bakemonogatari Gekihanongakushu (Original Soundtrack)', 'Singles', 'Catherine & Catherine Full Body Soundtrack Set', 'UNDERTALE Soundtrack', 'Poison Ivy', 'Unknown Memory', 'NieR Gestalt & Replicant 15 Nightmares & Arrange Tracks', 'STEINS;GATE Original Soundtrack', 'C3L3STIAL天の', '333', 'Bladeecity', 'NieR:Automata Original Soundtrack', 'Nisemonogatari Gekihanongakushu (Original Soundtrack)', 'NieR:Automata Original Soundtrack', 'FINAL FANTASY XIII-2 Original Soundtrack PLUS', 'Heaven to a Tortured Mind', 'TOHO BOSSA NOVA 2', 'AvP', 'with all my heart. digipak', 'TOHO BOSSA NOVA 3', 'Koimonogatari Gekihanongakushu (Original Soundtrack)', 'Tomo Me Nyado', 'Violence', 'Sunset in Silver City', 'Utamonogatari Special Edition (Original Soundtrack)', 'Working on Dying', 'Kizumonogatari Gekihanongakushu (Original Soundtrack)', 'Tomboyish Love for Soda Pop and Apple Sweets (Digipak)', 'Draining Love Story', 'GUILTY GEAR SOUND COMPLETE BOX (5)', 'Icedancer', 'Stratosphere', 'Songs About Leaving', 'BAROQUE', '(III)', 'Three Cheers for Sweet Revenge', 'Azure-Core', 'Working on Dying', 'The Fool', 'FLASH DESIRE', 'D&G', 'SILENT HILL2 (Original Soundtrack)', 'Birds in the Ground', 'Trash Star', 'A Promise', 'The Glow, Pt. 2', 'Either/Or', 'Trash Island', 'Modal Soul', 'Spiderr', 'Early Works Bootleg', 'World Tour', 'Loveless', 'Whole Lotta Red', 'Twilight', 'White Pony', 'Leaves Turn Inside You', \"Just Got Back from the Discomfort We're Alright\", 'D>E>A>T>H>M>E>T>A>L', 'Red Light', 'Souvlaki', 'Crest', 'Together', 'Fabulous Muscles', 'E', 'Untrue', 'The Black Parade', 'Crystal Castles', 'Turn on the Bright Lights', 'Diary (2009 Edition)', 'Duster', 'Attention 2 Retail', 'The Power of Failing', 'Glitch Princess', '700 DAGREEZ', 'Transmission, Flux', 'value', 'Around the Fur', 'Twin Fantasy', 'Melody of Certain Damaged Lemons', 'The Mollusk', 'GodWeenSatan: The Oneness', 'The Wall', 'Chocolate and Cheese', 'Quebec', 'The Pod', 'Mass Teen Fainting', 'The Piper at the Gates of Dawn', 'Flood', 'White Pepper', 'Apollo 18', 'Pure Guava', 'They Might Be Giants', 'Scott Pilgrim vs. the World (Original Motion Picture Soundtrack)', 'More Songs About Buildings and Food', 'La Cucaracha', 'Talking Heads: 77', 'Night in the Woods Vol. 1: At The End Of Everything', 'Wish You Were Here', 'Lincoln', 'Grand Slam', 'Portal 2: Songs to Test By (Collectors Edition)', 'The Dark Side of the Moon', 'life changing moments seem minor in pictures', 'Chef Aid: The South Park Album', 'Flutterboard', 'Not For Broadcast - Original Soundtrack', 'Fear of Music', 'Ivy and the Big Apples', \"I'm in Your Mind Fuzz\", 'A Message for Marta', 'Nonagon Infinity', 'Night in the Woods Vol. 2: Hold On To Anything', 'A Saucerful of Secrets', 'Minecraft - Volume Alpha', 'Meddle', \"The Beginner's Guide\", 'Out of the Blue', 'A Night at the Opera', 'Cold Spring Harbor', 'Sam & Max Save the World', 'Life Sentence (B-Sides & Rarities)', 'Polygondwanaland', 'Brown Album', 'Fishing for Fishies', 'State Songs', 'Time', 'Atom Heart Mother', \"This Day Won't Last At All\", 'John Henry', 'Punisher', 'evermore (deluxe version)', 'reputation', 'folklore (deluxe version)', '1989 (Deluxe)', 'Lover', 'Red (Deluxe Edition)', \"Red (Taylor's Version)\", 'Blonde', 'Midnights', 'Melodrama', 'Puberty 2', 'Women in Music Pt III (Expanded Edition)', 'Home Video', 'songs', 'Be the Cowboy', 'SOUR', 'Stranger in the Alps', 'bury me at makeout creek', 'Historian', \"Fearless (Taylor's Version)\", 'Speak Now', 'Either/Or', 'Boygenius', 'LUSH', 'Burn Your Fire For No Witness (Deluxe Edition)', 'Masterpiece', 'folklore', 'evermore', 'Retired from Sad, New Career in Business', 'Hozier', 'Midnights (3am Edition)', 'Louder Than Bombs', 'Sling', 'Heard It in a Past Life', 'OK Computer', 'Cigarettes After Sex', \"I'm Wide Awake, It's Morning\", 'Norman Fucking Rockwell!', 'MY WOMAN', 'Carrie & Lowell', 'Solar Power', 'Stranger in the Alps (Deluxe Edition)', 'Valentine', 'channel ORANGE', 'Hatful of Hollow', 'In Rainbows', 'When the Pawn...', 'Novacane', 'Titanic Rising', 'Teen Dream', 'Schlagenheim', \"how i'm feeling now\", 'Bloom', 'Goat Girl', 'Pang', 'For the First Time', 'Visions of a Life', 'Titanic Rising', 'Blue Weekend', 'Leaves Turn Inside You', 'Cavalcade', 'White Light From the Mouth of Infinity', 'Drukqs', '925', 'Devotion', 'Depression Cherry', \"G_d's Pee AT STATE'S END!\", 'CALIGULA', 'Beach House', 'Telegraphs in Negative / Mouths Trapped in Static', 'Soundtrack ke konci světa', 'Spiderland', 'KiCk i', 'Souvlaki', 'Luciferian Towers', 'Public Strain', 'KicK iii', 'Stratosphere', '…Because I’m Young Arrogant and Hate Everything You Stand For', '7', 'Ants From Up There', 'My Love Is Cool (Deluxe Edition)', 'The Glow, Pt. 2', 'WOMEN', 'Once Twice Melody', 'Le voyage éternel', 'Thank Your Lucky Stars', 'Wicked City', 'Generácia Y', 'Nebeský klid', 'Around the Fur', 'New Plastic Ideas', 'On All Fours', 'CRASH', 'The Bends', 'Bright Green Field', 'White Pony', 'Repetition', 'In Rainbows', 'Tiene Que Haber Algo Más', 'Souvlaki', 'El Madrileño', 'Whole Lotta Red', 'Dizzy Up the Girl', 'Heaven or Las Vegas', 'Fetch the Bolt Cutters', 'Blonde', 'The Life of Pablo', 'FREELANCE', 'IGOR', 'Donda', 'Icedancer', 'EL ÚLTIMO TOUR DEL MUNDO', 'Die Lit', 'Twin Fantasy', 'El Mal Querer', 'Madvillainy', 'K.I.D.S.', 'Yeezus', 'We Love You Tecca', 'The Melodic Blue', 'Twilight', 'Graduation', 'Slowdive', \"(What's the Story) Morning Glory? [Remastered]\", 'Mr. Morale & the Big Steppers', 'Un Verano Sin Ti', 'Debut', 'My Beautiful Dark Twisted Fantasy', 'Around the Fur', 'Some Rap Songs', 'X 100PRE', 'Trash Island', 'Gutterflower', 'ye', 'MOTOMAMI', 'Montage of Heck: The Home Recordings (Deluxe Soundtrack)', 'When the Pawn...', 'Playboi Carti', 'Be the Cowboy', '18', 'DAMN.', 'Teens of Denial', 'Heathen Chemistry', \"It's Almost Dry\", 'Crest', 'Instrument Soundtrack', 'Richard D. James Album', 'After Hours', 'The Smiths', 'The Bends', 'The Queen Is Dead', 'Hatful of Hollow', 'Souvlaki', 'OK Computer', 'Meat Is Murder', 'Soda Stereo (Remastered)', 'Louder Than Bombs', 'The Doors', 'Just for a Day', 'Loveless', 'Depression Cherry', 'Nevermind (Remastered)', 'Stratosphere', 'In Rainbows', 'Unknown Pleasures', 'Comfort Y Musica Para Volar', 'Canción Animal (Remastered)', 'White Pony', 'In Utero - 20th Anniversary - Deluxe Edition', 'Doble Vida (Remastered)', 'Nada Personal (Remastered)', 'Three Imaginary Boys', 'Signos (Remastered)', 'Grace', 'Twilight', 'Deathconsciousness', \"Everybody Else Is Doing It, So Why Can't We?\", 'A Rush of Blood to the Head', 'Draining Love Story', 'Hybrid Theory (Bonus Edition)', 'этажи', 'Around the Fur', 'Turn on the Bright Lights', 'Locura', 'Bloweyelashwish', 'Pablo Honey', 'Los Tres', 'Favourite Worst Nightmare', 'Parachutes', 'Dynamo (Remastered)', 'Amnesiac', 'Endtroducing.....', 'Steve McQueen', \"Whatever People Say I Am, That's What I'm Not\", 'El Jardin De Los Presentes', 'Saturday Night Wrist', 'Silent Alarm', 'Bocanada', 'POST HUMAN: SURVIVAL HORROR', 'WINGS', 'Koi No Yokan', 'Finally We Are No One', '醜奴兒', 'Dear', 'The Most Beautiful Moment In Life Pt.2', 'The Most Beautiful Moment in Life: Young Forever', 'and Their Refinement of the Decline', 'White Pony', '更迭', 'Absolution', 'The Tired Sounds of Stars of the Lid', 'Diamond Eyes', 'OK Computer', 'The 2nd Law', '1830m', 'Mothership', '鮎川のしづく', 'Sempiternal (Expanded Edition)', '冀西南林路行', 'Death Magic', 'Wiped Out!', '何度でも新しく生まれる', 'Ohms', 'Saturday Night Wrist', \"No Man's Sky: Music for an Infinite Universe\", 'To See the Next Part of the Dream', 'Windswept Adan', 'Origin of Symmetry', 'Fetch', 'Electric Girl', 'Worlds', 'Shrines', 'AM', '(III)', 'Neō Wax Bloom', '(II)', 'Fantôme', 'NCT #127 Neo Zone: The Final Round - The 2nd Album Repackage', 'Sleeping with Ghosts', 'Kid A', 'Instant Gratification', 'NCT RESONANCE Pt. 2 - The 2nd Album', '暗闇', '0', 'FIRST IMPACT', 'Lance', '鏡中鏡', 'Deftones']\n",
            "['8027', '3190', '2356', '2164', '2036', '1735', '1503', '1495', '1428', '1300', '1044', '991', '875', '725', '695', '639', '579', '552', '516', '489', '483', '469', '460', '455', '428', '395', '384', '376', '375', '362', '341', '341', '329', '321', '320', '318', '308', '299', '299', '298', '292', '291', '290', '287', '284', '269', '269', '242', '239', '239', '387', '330', '267', '254', '244', '213', '194', '186', '161', '151', '150', '150', '150', '146', '143', '141', '139', '134', '130', '123', '121', '121', '115', '113', '111', '109', '106', '104', '104', '102', '102', '101', '101', '100', '98', '94', '94', '93', '92', '91', '91', '91', '88', '88', '88', '87', '86', '86', '86', '85', '1919', '1399', '1175', '1149', '1006', '1002', '899', '882', '725', '682', '679', '607', '598', '460', '449', '432', '432', '424', '385', '368', '364', '361', '341', '327', '323', '305', '303', '293', '290', '287', '284', '283', '281', '273', '273', '268', '263', '253', '244', '242', '242', '237', '232', '231', '230', '230', '215', '215', '215', '214', '56', '32', '30', '23', '20', '20', '18', '17', '14', '13', '13', '13', '12', '12', '11', '11', '11', '11', '10', '9', '8', '8', '8', '7', '7', '7', '7', '6', '6', '6', '6', '6', '6', '6', '6', '6', '6', '6', '6', '6', '6', '6', '6', '6', '6', '5', '5', '5', '5', '5', '8101', '7168', '4723', '4222', '4056', '3464', '3462', '3322', '3012', '2995', '2978', '2916', '2797', '2796', '2726', '2693', '2644', '2618', '2603', '2481', '2447', '2447', '2417', '2267', '2257', '2181', '2110', '2107', '2095', '2051', '1998', '1960', '1885', '1884', '1868', '1854', '1827', '1814', '1797', '1730', '1668', '1593', '1556', '1545', '1506', '1489', '1478', '1437', '1424', '1353', '38', '31', '25', '20', '17', '16', '13', '11', '11', '11', '10', '8', '8', '8', '7', '7', '6', '6', '6', '6', '6', '5', '5', '5', '5', '5', '5', '5', '5', '5', '5', '5', '5', '5', '4', '4', '4', '4', '4', '4', '4', '4', '4', '4', '4', '4', '4', '4', '4', '4', '526', '508', '466', '343', '270', '240', '238', '185', '169', '165', '149', '146', '138', '135', '124', '112', '111', '109', '106', '106', '105', '101', '101', '100', '97', '94', '93', '91', '91', '90', '89', '89', '87', '85', '83', '79', '75', '75', '73', '72', '71', '69', '69', '68', '67', '67', '65', '65', '64', '64', '29883', '9110', '8985', '8821', '8149', '5678', '5551', '5327', '4492', '4117', '4017', '3948', '3858', '3739', '3719', '3438', '3318', '2985', '2897', '2874', '2771', '2531', '2426', '2373', '2327', '2324', '2250', '2230', '2176', '2166', '2118', '1935', '1928', '1925', '1917', '1895', '1888', '1863', '1825', '1766', '1719', '1710', '1697', '1590', '1589', '1583', '1577', '1539', '1537', '1472', '2219', '1830', '1255', '1129', '1115', '1084', '1049', '712', '671', '654', '630', '621', '608', '608', '536', '476', '473', '465', '448', '444', '432', '428', '421', '412', '392', '355', '351', '340', '336', '335', '327', '315', '312', '311', '303', '301', '300', '295', '279', '274', '262', '256', '238', '237', '231', '224', '223', '221', '213', '209', '1320', '819', '645', '602', '508', '491', '453', '447', '443', '432', '422', '404', '384', '353', '350', '340', '340', '328', '325', '314', '255', '248', '239', '239', '235', '229', '219', '214', '207', '202', '196', '188', '183', '183', '179', '179', '174', '173', '172', '163', '150', '148', '144', '138', '138', '136', '135', '132', '125', '117', '1513', '1324', '1118', '918', '908', '856', '855', '756', '689', '675', '633', '631', '626', '604', '588', '554', '526', '512', '499', '488', '469', '457', '448', '416', '411', '410', '400', '378', '363', '362', '361', '338', '338', '330', '323', '313', '312', '289', '289', '282', '271', '267', '266', '265', '252', '246', '245', '244', '229', '225', '124', '97', '66', '61', '55', '53', '53', '49', '49', '47', '47', '47', '45', '45', '45', '44', '42', '41', '41', '41', '41', '39', '38', '38', '38', '37', '37', '37', '36', '36', '35', '34', '34', '33', '33', '33', '32', '32', '32', '32', '31', '31', '31', '31', '30', '30', '30', '30', '30', '29', '451', '350', '323', '282', '271', '255', '234', '227', '203', '181', '167', '157', '155', '155', '150', '138', '133', '133', '131', '131', '128', '126', '126', '125', '125', '124', '121', '117', '113', '109', '109', '109', '106', '104', '103', '101', '98', '97', '94', '92', '89', '84', '82', '79', '76', '75', '74', '73', '71', '70', '278', '270', '228', '213', '209', '202', '187', '187', '176', '163', '159', '150', '141', '140', '129', '111', '110', '107', '99', '91', '84', '84', '82', '82', '80', '78', '76', '72', '71', '69', '69', '68', '67', '64', '62', '61', '61', '59', '57', '56', '55', '54', '54', '52', '51', '51', '50', '49', '48', '47', '723', '481', '452', '436', '358', '301', '298', '296', '282', '255', '255', '249', '244', '236', '228', '208', '205', '200', '195', '189', '179', '168', '167', '166', '163', '161', '160', '158', '155', '139', '133', '133', '132', '123', '113', '112', '112', '110', '108', '107', '106', '103', '103', '103', '102', '97', '96', '90', '87', '86', '2180', '2065', '1860', '1457', '1390', '1373', '1338', '1046', '1014', '991', '926', '893', '843', '823', '709', '682', '680', '650', '595', '595', '585', '582', '576', '567', '516', '460', '449', '424', '421', '421', '418', '410', '405', '388', '381', '379', '372', '360', '358', '354', '353', '346', '345', '329', '328', '327', '309', '308', '307', '302', '590', '436', '420', '415', '404', '380', '370', '351', '319', '284', '279', '265', '251', '249', '249', '247', '245', '238', '226', '222', '208', '196', '185', '182', '180', '180', '159', '153', '149', '138', '137', '137', '134', '133', '133', '122', '117', '116', '113', '110', '109', '104', '103', '100', '99', '97', '95', '95', '93', '89', '389', '348', '337', '313', '312', '292', '256', '256', '255', '243', '240', '237', '226', '226', '225', '223', '208', '201', '200', '199', '196', '190', '190', '189', '174', '173', '170', '160', '153', '150', '144', '139', '138', '137', '136', '135', '132', '131', '123', '123', '121', '120', '117', '116', '115', '114', '113', '113', '112', '110', '79', '70', '70', '67', '65', '64', '57', '55', '54', '52', '51', '50', '50', '49', '48', '47', '46', '45', '45', '45', '44', '44', '43', '43', '43', '43', '42', '41', '41', '41', '40', '40', '39', '39', '39', '38', '38', '37', '36', '36', '35', '35', '35', '35', '34', '34', '34', '33', '33', '32', '1195', '933', '927', '886', '790', '789', '776', '732', '659', '630', '623', '598', '574', '571', '565', '562', '509', '503', '493', '443', '437', '415', '413', '399', '394', '384', '383', '382', '381', '372', '371', '371', '370', '364', '359', '355', '352', '337', '337', '333', '333', '329', '326', '322', '320', '318', '314', '313', '311', '309', '283', '257', '133', '129', '117', '113', '107', '105', '105', '104', '104', '90', '89', '86', '85', '85', '83', '82', '81', '80', '80', '80', '79', '78', '74', '74', '74', '72', '71', '71', '71', '70', '69', '69', '68', '68', '68', '65', '65', '64', '64', '62', '59', '57', '56', '55', '54', '52', '51', '50', '627', '614', '552', '493', '438', '376', '351', '340', '337', '322', '314', '308', '301', '288', '280', '278', '270', '260', '245', '243', '241', '225', '224', '222', '207', '206', '204', '203', '199', '196', '181', '178', '178', '174', '170', '167', '165', '165', '165', '164', '163', '162', '151', '151', '149', '149', '143', '139', '138', '136', '1461', '1265', '875', '619', '471', '426', '391', '387', '371', '363', '354', '329', '326', '307', '299', '297', '291', '290', '263', '248', '245', '233', '207', '206', '204', '203', '195', '194', '194', '190', '179', '178', '178', '176', '176', '174', '172', '172', '167', '167', '163', '154', '153', '153', '153', '152', '150', '149', '149', '147', '285', '278', '217', '182', '169', '159', '155', '134', '134', '133', '123', '113', '110', '100', '96', '93', '88', '85', '83', '75', '72', '70', '68', '66', '63', '63', '61', '57', '55', '52', '48', '48', '47', '46', '45', '44', '43', '43', '41', '41', '41', '39', '38', '37', '36', '36', '35', '35', '35', '34', '482', '304', '184', '182', '175', '173', '165', '163', '161', '145', '129', '122', '120', '114', '107', '101', '101', '93', '93', '90', '82', '82', '81', '74', '73', '70', '70', '68', '67', '67', '64', '64', '61', '57', '55', '55', '54', '54', '51', '49', '48', '45', '44', '43', '43', '43', '42', '41', '40', '40', '464', '444', '412', '376', '274', '228', '207', '205', '179', '177', '161', '161', '161', '152', '135', '130', '126', '122', '119', '117', '113', '110', '109', '108', '107', '105', '105', '105', '102', '99', '99', '98', '93', '91', '89', '88', '88', '86', '85', '82', '82', '81', '77', '77', '76', '71', '69', '69', '67', '65', '1159', '1020', '943', '891', '873', '808', '753', '697', '677', '644', '640', '629', '619', '598', '580', '532', '525', '495', '475', '475', '473', '462', '462', '445', '429', '426', '404', '402', '386', '370', '368', '361', '351', '319', '319', '315', '310', '308', '306', '302', '298', '291', '287', '279', '272', '268', '261', '246', '232', '231', '12793', '11795', '6465', '6261', '5991', '4084', '3938', '3437', '3368', '2738', '1896', '1828', '1678', '1633', '1385', '1226', '923', '861', '836', '805', '792', '784', '768', '728', '670', '607', '589', '518', '481', '434', '417', '414', '365', '361', '348', '347', '327', '311', '306', '297', '295', '293', '287', '278', '274', '270', '270', '269', '259', '246', '834', '780', '612', '474', '466', '353', '310', '310', '296', '286', '278', '267', '247', '241', '222', '213', '211', '206', '182', '177', '170', '168', '160', '158', '149', '149', '147', '145', '138', '137', '135', '135', '131', '130', '127', '118', '114', '113', '111', '111', '111', '106', '103', '103', '100', '99', '99', '98', '97', '96', '3521', '1424', '1267', '980', '889', '704', '694', '681', '661', '658', '604', '597', '595', '568', '547', '522', '394', '388', '374', '332', '326', '322', '319', '318', '295', '292', '267', '261', '258', '256', '248', '245', '240', '239', '234', '233', '233', '231', '218', '215', '210', '209', '207', '194', '190', '190', '189', '185', '180', '180', '273', '228', '217', '211', '199', '190', '175', '165', '148', '147', '147', '142', '139', '136', '135', '127', '124', '123', '116', '115', '115', '112', '111', '98', '97', '96', '94', '94', '91', '90', '88', '87', '85', '83', '83', '82', '81', '81', '81', '78', '78', '76', '74', '73', '71', '70', '68', '68', '67', '67', '536', '510', '501', '485', '432', '394', '345', '327', '319', '310', '297', '296', '278', '258', '253', '242', '239', '239', '223', '216', '215', '213', '209', '207', '199', '197', '196', '191', '188', '188', '186', '183', '182', '181', '179', '178', '175', '174', '172', '170', '161', '159', '158', '157', '151', '151', '150', '149', '148', '145', '1383', '1180', '771', '583', '544', '518', '512', '488', '480', '457', '455', '448', '434', '433', '427', '377', '367', '363', '362', '358', '355', '349', '346', '343', '339', '332', '325', '320', '319', '317', '316', '312', '311', '310', '308', '301', '297', '295', '294', '291', '290', '278', '274', '274', '272', '272', '272', '269', '262', '257', '137', '93', '89', '88', '87', '83', '78', '73', '70', '69', '69', '69', '69', '66', '65', '57', '54', '54', '54', '53', '51', '50', '49', '49', '48', '48', '47', '47', '46', '45', '44', '44', '44', '44', '43', '43', '43', '43', '42', '41', '41', '41', '41', '40', '40', '39', '39', '38', '37', '37', '112', '80', '75', '70', '70', '63', '60', '57', '56', '56', '55', '52', '51', '49', '49', '47', '44', '44', '43', '43', '43', '40', '39', '38', '37', '36', '36', '35', '35', '35', '34', '32', '32', '31', '31', '30', '30', '29', '29', '29', '27', '27', '26', '26', '26', '26', '25', '24', '24', '24', '755', '737', '337', '284', '281', '274', '274', '265', '265', '193', '184', '164', '159', '155', '153', '147', '140', '131', '124', '121', '120', '119', '114', '111', '110', '107', '106', '102', '98', '92', '92', '92', '92', '90', '86', '83', '82', '80', '78', '74', '72', '69', '69', '69', '68', '68', '66', '65', '65', '63', '123', '97', '89', '78', '77', '67', '65', '63', '61', '59', '54', '51', '50', '49', '49', '49', '48', '46', '45', '45', '45', '44', '44', '42', '41', '41', '41', '41', '40', '38', '37', '36', '36', '35', '35', '35', '34', '33', '32', '32', '31', '31', '31', '31', '30', '30', '30', '29', '29', '29', '1795', '1765', '1617', '1422', '1407', '1364', '1340', '1329', '1307', '1293', '1239', '1158', '1153', '1145', '1085', '1073', '1048', '1046', '1043', '1042', '1013', '1012', '993', '983', '980', '963', '950', '950', '929', '923', '921', '907', '905', '881', '880', '873', '818', '817', '812', '810', '799', '796', '791', '786', '775', '773', '762', '760', '749', '744', '542', '392', '320', '307', '268', '259', '246', '243', '228', '217', '207', '206', '195', '193', '188', '182', '182', '178', '168', '164', '146', '146', '141', '139', '136', '128', '119', '116', '116', '113', '109', '107', '107', '107', '105', '104', '102', '101', '101', '99', '99', '98', '96', '93', '90', '89', '88', '87', '87', '80', '143', '125', '114', '92', '89', '81', '79', '78', '76', '76', '75', '75', '74', '70', '69', '68', '67', '67', '63', '63', '62', '61', '61', '60', '58', '58', '58', '55', '53', '50', '49', '49', '49', '47', '45', '41', '41', '40', '40', '39', '39', '39', '38', '38', '38', '37', '37', '36', '36', '35', '793', '720', '676', '654', '639', '620', '608', '593', '571', '533', '526', '523', '511', '493', '475', '474', '467', '452', '443', '437', '437', '431', '429', '429', '429', '425', '424', '411', '411', '387', '386', '379', '375', '373', '372', '372', '361', '361', '358', '358', '357', '349', '348', '346', '341', '333', '332', '331', '329', '328', '922', '867', '819', '783', '762', '578', '571', '553', '508', '455', '448', '447', '428', '424', '419', '405', '388', '385', '375', '375', '368', '356', '356', '349', '344', '332', '328', '323', '317', '305', '304', '299', '290', '287', '281', '278', '264', '263', '261', '259', '259', '259', '259', '256', '254', '253', '252', '251', '246', '245', '987', '801', '699', '543', '503', '495', '347', '314', '241', '236', '229', '223', '201', '196', '190', '174', '172', '171', '161', '155', '154', '148', '137', '131', '128', '126', '125', '124', '121', '104', '100', '100', '97', '94', '92', '87', '86', '83', '78', '78', '77', '75', '75', '74', '74', '73', '73', '71', '71', '70', '697', '520', '404', '388', '377', '299', '260', '250', '247', '212', '210', '201', '201', '193', '183', '174', '162', '158', '157', '152', '150', '147', '144', '144', '140', '138', '137', '135', '134', '132', '129', '126', '124', '122', '119', '117', '114', '112', '111', '111', '105', '104', '104', '101', '99', '97', '96', '94', '93', '92', '2731', '2664', '2042', '1952', '1825', '1551', '995', '954', '839', '810', '802', '687', '673', '614', '545', '507', '495', '454', '454', '454', '433', '431', '382', '381', '381', '359', '356', '340', '338', '328', '316', '313', '295', '290', '279', '274', '271', '269', '255', '252', '250', '248', '247', '241', '227', '225', '222', '218', '214', '213', '1228', '1140', '1138', '1119', '913', '833', '726', '698', '593', '570', '554', '520', '497', '479', '478', '452', '450', '450', '441', '372', '341', '330', '317', '300', '261', '258', '258', '239', '228', '225', '224', '212', '203', '202', '196', '196', '186', '181', '179', '175', '173', '166', '166', '160', '155', '150', '149', '147', '147', '147', '464', '459', '458', '452', '433', '428', '420', '415', '392', '390', '376', '375', '350', '333', '327', '309', '307', '300', '295', '291', '283', '280', '279', '277', '270', '263', '258', '254', '252', '252', '251', '250', '245', '244', '239', '236', '233', '231', '228', '222', '215', '207', '207', '204', '198', '197', '197', '196', '195', '192', '730', '574', '390', '369', '361', '359', '351', '348', '324', '274', '253', '252', '249', '246', '246', '245', '245', '236', '234', '225', '216', '201', '194', '189', '189', '187', '179', '178', '177', '177', '175', '175', '168', '168', '165', '165', '164', '157', '154', '151', '149', '149', '147', '146', '146', '146', '142', '138', '136', '135', '691', '540', '531', '497', '469', '436', '421', '357', '315', '285', '271', '255', '232', '231', '230', '224', '223', '215', '204', '198', '197', '197', '196', '196', '194', '177', '176', '164', '154', '151', '147', '142', '142', '141', '136', '135', '129', '128', '125', '123', '121', '121', '120', '118', '117', '115', '113', '112', '107', '106', '347', '335', '301', '268', '260', '256', '248', '245', '243', '238', '238', '232', '232', '228', '224', '220', '218', '215', '215', '209', '208', '196', '195', '193', '192', '192', '190', '190', '187', '184', '182', '176', '175', '170', '168', '165', '159', '153', '152', '151', '147', '146', '145', '145', '143', '142', '142', '142', '141', '138']\n"
          ]
        }
      ],
      "source": [
        "user1d = [i for a in users for i in a]\n",
        "album_name1d = [i for a in album_names for i in a]\n",
        "playcount1d = [i for a in playcount for i in a]\n",
        "\n",
        "\n",
        "print(user1d)\n",
        "print(album_name1d)\n",
        "print(playcount1d)"
      ]
    },
    {
      "cell_type": "code",
      "execution_count": 70,
      "metadata": {
        "colab": {
          "base_uri": "https://localhost:8080/"
        },
        "id": "IalJShxAIJ-I",
        "outputId": "3cbf7fca-87e5-424b-f92c-79876f8c1d5a"
      },
      "outputs": [
        {
          "name": "stdout",
          "output_type": "stream",
          "text": [
            "[8027, 3190, 2356, 2164, 2036, 1735, 1503, 1495, 1428, 1300, 1044, 991, 875, 725, 695, 639, 579, 552, 516, 489, 483, 469, 460, 455, 428, 395, 384, 376, 375, 362, 341, 341, 329, 321, 320, 318, 308, 299, 299, 298, 292, 291, 290, 287, 284, 269, 269, 242, 239, 239, 387, 330, 267, 254, 244, 213, 194, 186, 161, 151, 150, 150, 150, 146, 143, 141, 139, 134, 130, 123, 121, 121, 115, 113, 111, 109, 106, 104, 104, 102, 102, 101, 101, 100, 98, 94, 94, 93, 92, 91, 91, 91, 88, 88, 88, 87, 86, 86, 86, 85, 1919, 1399, 1175, 1149, 1006, 1002, 899, 882, 725, 682, 679, 607, 598, 460, 449, 432, 432, 424, 385, 368, 364, 361, 341, 327, 323, 305, 303, 293, 290, 287, 284, 283, 281, 273, 273, 268, 263, 253, 244, 242, 242, 237, 232, 231, 230, 230, 215, 215, 215, 214, 56, 32, 30, 23, 20, 20, 18, 17, 14, 13, 13, 13, 12, 12, 11, 11, 11, 11, 10, 9, 8, 8, 8, 7, 7, 7, 7, 6, 6, 6, 6, 6, 6, 6, 6, 6, 6, 6, 6, 6, 6, 6, 6, 6, 6, 5, 5, 5, 5, 5, 8101, 7168, 4723, 4222, 4056, 3464, 3462, 3322, 3012, 2995, 2978, 2916, 2797, 2796, 2726, 2693, 2644, 2618, 2603, 2481, 2447, 2447, 2417, 2267, 2257, 2181, 2110, 2107, 2095, 2051, 1998, 1960, 1885, 1884, 1868, 1854, 1827, 1814, 1797, 1730, 1668, 1593, 1556, 1545, 1506, 1489, 1478, 1437, 1424, 1353, 38, 31, 25, 20, 17, 16, 13, 11, 11, 11, 10, 8, 8, 8, 7, 7, 6, 6, 6, 6, 6, 5, 5, 5, 5, 5, 5, 5, 5, 5, 5, 5, 5, 5, 4, 4, 4, 4, 4, 4, 4, 4, 4, 4, 4, 4, 4, 4, 4, 4, 526, 508, 466, 343, 270, 240, 238, 185, 169, 165, 149, 146, 138, 135, 124, 112, 111, 109, 106, 106, 105, 101, 101, 100, 97, 94, 93, 91, 91, 90, 89, 89, 87, 85, 83, 79, 75, 75, 73, 72, 71, 69, 69, 68, 67, 67, 65, 65, 64, 64, 29883, 9110, 8985, 8821, 8149, 5678, 5551, 5327, 4492, 4117, 4017, 3948, 3858, 3739, 3719, 3438, 3318, 2985, 2897, 2874, 2771, 2531, 2426, 2373, 2327, 2324, 2250, 2230, 2176, 2166, 2118, 1935, 1928, 1925, 1917, 1895, 1888, 1863, 1825, 1766, 1719, 1710, 1697, 1590, 1589, 1583, 1577, 1539, 1537, 1472, 2219, 1830, 1255, 1129, 1115, 1084, 1049, 712, 671, 654, 630, 621, 608, 608, 536, 476, 473, 465, 448, 444, 432, 428, 421, 412, 392, 355, 351, 340, 336, 335, 327, 315, 312, 311, 303, 301, 300, 295, 279, 274, 262, 256, 238, 237, 231, 224, 223, 221, 213, 209, 1320, 819, 645, 602, 508, 491, 453, 447, 443, 432, 422, 404, 384, 353, 350, 340, 340, 328, 325, 314, 255, 248, 239, 239, 235, 229, 219, 214, 207, 202, 196, 188, 183, 183, 179, 179, 174, 173, 172, 163, 150, 148, 144, 138, 138, 136, 135, 132, 125, 117, 1513, 1324, 1118, 918, 908, 856, 855, 756, 689, 675, 633, 631, 626, 604, 588, 554, 526, 512, 499, 488, 469, 457, 448, 416, 411, 410, 400, 378, 363, 362, 361, 338, 338, 330, 323, 313, 312, 289, 289, 282, 271, 267, 266, 265, 252, 246, 245, 244, 229, 225, 124, 97, 66, 61, 55, 53, 53, 49, 49, 47, 47, 47, 45, 45, 45, 44, 42, 41, 41, 41, 41, 39, 38, 38, 38, 37, 37, 37, 36, 36, 35, 34, 34, 33, 33, 33, 32, 32, 32, 32, 31, 31, 31, 31, 30, 30, 30, 30, 30, 29, 451, 350, 323, 282, 271, 255, 234, 227, 203, 181, 167, 157, 155, 155, 150, 138, 133, 133, 131, 131, 128, 126, 126, 125, 125, 124, 121, 117, 113, 109, 109, 109, 106, 104, 103, 101, 98, 97, 94, 92, 89, 84, 82, 79, 76, 75, 74, 73, 71, 70, 278, 270, 228, 213, 209, 202, 187, 187, 176, 163, 159, 150, 141, 140, 129, 111, 110, 107, 99, 91, 84, 84, 82, 82, 80, 78, 76, 72, 71, 69, 69, 68, 67, 64, 62, 61, 61, 59, 57, 56, 55, 54, 54, 52, 51, 51, 50, 49, 48, 47, 723, 481, 452, 436, 358, 301, 298, 296, 282, 255, 255, 249, 244, 236, 228, 208, 205, 200, 195, 189, 179, 168, 167, 166, 163, 161, 160, 158, 155, 139, 133, 133, 132, 123, 113, 112, 112, 110, 108, 107, 106, 103, 103, 103, 102, 97, 96, 90, 87, 86, 2180, 2065, 1860, 1457, 1390, 1373, 1338, 1046, 1014, 991, 926, 893, 843, 823, 709, 682, 680, 650, 595, 595, 585, 582, 576, 567, 516, 460, 449, 424, 421, 421, 418, 410, 405, 388, 381, 379, 372, 360, 358, 354, 353, 346, 345, 329, 328, 327, 309, 308, 307, 302, 590, 436, 420, 415, 404, 380, 370, 351, 319, 284, 279, 265, 251, 249, 249, 247, 245, 238, 226, 222, 208, 196, 185, 182, 180, 180, 159, 153, 149, 138, 137, 137, 134, 133, 133, 122, 117, 116, 113, 110, 109, 104, 103, 100, 99, 97, 95, 95, 93, 89, 389, 348, 337, 313, 312, 292, 256, 256, 255, 243, 240, 237, 226, 226, 225, 223, 208, 201, 200, 199, 196, 190, 190, 189, 174, 173, 170, 160, 153, 150, 144, 139, 138, 137, 136, 135, 132, 131, 123, 123, 121, 120, 117, 116, 115, 114, 113, 113, 112, 110, 79, 70, 70, 67, 65, 64, 57, 55, 54, 52, 51, 50, 50, 49, 48, 47, 46, 45, 45, 45, 44, 44, 43, 43, 43, 43, 42, 41, 41, 41, 40, 40, 39, 39, 39, 38, 38, 37, 36, 36, 35, 35, 35, 35, 34, 34, 34, 33, 33, 32, 1195, 933, 927, 886, 790, 789, 776, 732, 659, 630, 623, 598, 574, 571, 565, 562, 509, 503, 493, 443, 437, 415, 413, 399, 394, 384, 383, 382, 381, 372, 371, 371, 370, 364, 359, 355, 352, 337, 337, 333, 333, 329, 326, 322, 320, 318, 314, 313, 311, 309, 283, 257, 133, 129, 117, 113, 107, 105, 105, 104, 104, 90, 89, 86, 85, 85, 83, 82, 81, 80, 80, 80, 79, 78, 74, 74, 74, 72, 71, 71, 71, 70, 69, 69, 68, 68, 68, 65, 65, 64, 64, 62, 59, 57, 56, 55, 54, 52, 51, 50, 627, 614, 552, 493, 438, 376, 351, 340, 337, 322, 314, 308, 301, 288, 280, 278, 270, 260, 245, 243, 241, 225, 224, 222, 207, 206, 204, 203, 199, 196, 181, 178, 178, 174, 170, 167, 165, 165, 165, 164, 163, 162, 151, 151, 149, 149, 143, 139, 138, 136, 1461, 1265, 875, 619, 471, 426, 391, 387, 371, 363, 354, 329, 326, 307, 299, 297, 291, 290, 263, 248, 245, 233, 207, 206, 204, 203, 195, 194, 194, 190, 179, 178, 178, 176, 176, 174, 172, 172, 167, 167, 163, 154, 153, 153, 153, 152, 150, 149, 149, 147, 285, 278, 217, 182, 169, 159, 155, 134, 134, 133, 123, 113, 110, 100, 96, 93, 88, 85, 83, 75, 72, 70, 68, 66, 63, 63, 61, 57, 55, 52, 48, 48, 47, 46, 45, 44, 43, 43, 41, 41, 41, 39, 38, 37, 36, 36, 35, 35, 35, 34, 482, 304, 184, 182, 175, 173, 165, 163, 161, 145, 129, 122, 120, 114, 107, 101, 101, 93, 93, 90, 82, 82, 81, 74, 73, 70, 70, 68, 67, 67, 64, 64, 61, 57, 55, 55, 54, 54, 51, 49, 48, 45, 44, 43, 43, 43, 42, 41, 40, 40, 464, 444, 412, 376, 274, 228, 207, 205, 179, 177, 161, 161, 161, 152, 135, 130, 126, 122, 119, 117, 113, 110, 109, 108, 107, 105, 105, 105, 102, 99, 99, 98, 93, 91, 89, 88, 88, 86, 85, 82, 82, 81, 77, 77, 76, 71, 69, 69, 67, 65, 1159, 1020, 943, 891, 873, 808, 753, 697, 677, 644, 640, 629, 619, 598, 580, 532, 525, 495, 475, 475, 473, 462, 462, 445, 429, 426, 404, 402, 386, 370, 368, 361, 351, 319, 319, 315, 310, 308, 306, 302, 298, 291, 287, 279, 272, 268, 261, 246, 232, 231, 12793, 11795, 6465, 6261, 5991, 4084, 3938, 3437, 3368, 2738, 1896, 1828, 1678, 1633, 1385, 1226, 923, 861, 836, 805, 792, 784, 768, 728, 670, 607, 589, 518, 481, 434, 417, 414, 365, 361, 348, 347, 327, 311, 306, 297, 295, 293, 287, 278, 274, 270, 270, 269, 259, 246, 834, 780, 612, 474, 466, 353, 310, 310, 296, 286, 278, 267, 247, 241, 222, 213, 211, 206, 182, 177, 170, 168, 160, 158, 149, 149, 147, 145, 138, 137, 135, 135, 131, 130, 127, 118, 114, 113, 111, 111, 111, 106, 103, 103, 100, 99, 99, 98, 97, 96, 3521, 1424, 1267, 980, 889, 704, 694, 681, 661, 658, 604, 597, 595, 568, 547, 522, 394, 388, 374, 332, 326, 322, 319, 318, 295, 292, 267, 261, 258, 256, 248, 245, 240, 239, 234, 233, 233, 231, 218, 215, 210, 209, 207, 194, 190, 190, 189, 185, 180, 180, 273, 228, 217, 211, 199, 190, 175, 165, 148, 147, 147, 142, 139, 136, 135, 127, 124, 123, 116, 115, 115, 112, 111, 98, 97, 96, 94, 94, 91, 90, 88, 87, 85, 83, 83, 82, 81, 81, 81, 78, 78, 76, 74, 73, 71, 70, 68, 68, 67, 67, 536, 510, 501, 485, 432, 394, 345, 327, 319, 310, 297, 296, 278, 258, 253, 242, 239, 239, 223, 216, 215, 213, 209, 207, 199, 197, 196, 191, 188, 188, 186, 183, 182, 181, 179, 178, 175, 174, 172, 170, 161, 159, 158, 157, 151, 151, 150, 149, 148, 145, 1383, 1180, 771, 583, 544, 518, 512, 488, 480, 457, 455, 448, 434, 433, 427, 377, 367, 363, 362, 358, 355, 349, 346, 343, 339, 332, 325, 320, 319, 317, 316, 312, 311, 310, 308, 301, 297, 295, 294, 291, 290, 278, 274, 274, 272, 272, 272, 269, 262, 257, 137, 93, 89, 88, 87, 83, 78, 73, 70, 69, 69, 69, 69, 66, 65, 57, 54, 54, 54, 53, 51, 50, 49, 49, 48, 48, 47, 47, 46, 45, 44, 44, 44, 44, 43, 43, 43, 43, 42, 41, 41, 41, 41, 40, 40, 39, 39, 38, 37, 37, 112, 80, 75, 70, 70, 63, 60, 57, 56, 56, 55, 52, 51, 49, 49, 47, 44, 44, 43, 43, 43, 40, 39, 38, 37, 36, 36, 35, 35, 35, 34, 32, 32, 31, 31, 30, 30, 29, 29, 29, 27, 27, 26, 26, 26, 26, 25, 24, 24, 24, 755, 737, 337, 284, 281, 274, 274, 265, 265, 193, 184, 164, 159, 155, 153, 147, 140, 131, 124, 121, 120, 119, 114, 111, 110, 107, 106, 102, 98, 92, 92, 92, 92, 90, 86, 83, 82, 80, 78, 74, 72, 69, 69, 69, 68, 68, 66, 65, 65, 63, 123, 97, 89, 78, 77, 67, 65, 63, 61, 59, 54, 51, 50, 49, 49, 49, 48, 46, 45, 45, 45, 44, 44, 42, 41, 41, 41, 41, 40, 38, 37, 36, 36, 35, 35, 35, 34, 33, 32, 32, 31, 31, 31, 31, 30, 30, 30, 29, 29, 29, 1795, 1765, 1617, 1422, 1407, 1364, 1340, 1329, 1307, 1293, 1239, 1158, 1153, 1145, 1085, 1073, 1048, 1046, 1043, 1042, 1013, 1012, 993, 983, 980, 963, 950, 950, 929, 923, 921, 907, 905, 881, 880, 873, 818, 817, 812, 810, 799, 796, 791, 786, 775, 773, 762, 760, 749, 744, 542, 392, 320, 307, 268, 259, 246, 243, 228, 217, 207, 206, 195, 193, 188, 182, 182, 178, 168, 164, 146, 146, 141, 139, 136, 128, 119, 116, 116, 113, 109, 107, 107, 107, 105, 104, 102, 101, 101, 99, 99, 98, 96, 93, 90, 89, 88, 87, 87, 80, 143, 125, 114, 92, 89, 81, 79, 78, 76, 76, 75, 75, 74, 70, 69, 68, 67, 67, 63, 63, 62, 61, 61, 60, 58, 58, 58, 55, 53, 50, 49, 49, 49, 47, 45, 41, 41, 40, 40, 39, 39, 39, 38, 38, 38, 37, 37, 36, 36, 35, 793, 720, 676, 654, 639, 620, 608, 593, 571, 533, 526, 523, 511, 493, 475, 474, 467, 452, 443, 437, 437, 431, 429, 429, 429, 425, 424, 411, 411, 387, 386, 379, 375, 373, 372, 372, 361, 361, 358, 358, 357, 349, 348, 346, 341, 333, 332, 331, 329, 328, 922, 867, 819, 783, 762, 578, 571, 553, 508, 455, 448, 447, 428, 424, 419, 405, 388, 385, 375, 375, 368, 356, 356, 349, 344, 332, 328, 323, 317, 305, 304, 299, 290, 287, 281, 278, 264, 263, 261, 259, 259, 259, 259, 256, 254, 253, 252, 251, 246, 245, 987, 801, 699, 543, 503, 495, 347, 314, 241, 236, 229, 223, 201, 196, 190, 174, 172, 171, 161, 155, 154, 148, 137, 131, 128, 126, 125, 124, 121, 104, 100, 100, 97, 94, 92, 87, 86, 83, 78, 78, 77, 75, 75, 74, 74, 73, 73, 71, 71, 70, 697, 520, 404, 388, 377, 299, 260, 250, 247, 212, 210, 201, 201, 193, 183, 174, 162, 158, 157, 152, 150, 147, 144, 144, 140, 138, 137, 135, 134, 132, 129, 126, 124, 122, 119, 117, 114, 112, 111, 111, 105, 104, 104, 101, 99, 97, 96, 94, 93, 92, 2731, 2664, 2042, 1952, 1825, 1551, 995, 954, 839, 810, 802, 687, 673, 614, 545, 507, 495, 454, 454, 454, 433, 431, 382, 381, 381, 359, 356, 340, 338, 328, 316, 313, 295, 290, 279, 274, 271, 269, 255, 252, 250, 248, 247, 241, 227, 225, 222, 218, 214, 213, 1228, 1140, 1138, 1119, 913, 833, 726, 698, 593, 570, 554, 520, 497, 479, 478, 452, 450, 450, 441, 372, 341, 330, 317, 300, 261, 258, 258, 239, 228, 225, 224, 212, 203, 202, 196, 196, 186, 181, 179, 175, 173, 166, 166, 160, 155, 150, 149, 147, 147, 147, 464, 459, 458, 452, 433, 428, 420, 415, 392, 390, 376, 375, 350, 333, 327, 309, 307, 300, 295, 291, 283, 280, 279, 277, 270, 263, 258, 254, 252, 252, 251, 250, 245, 244, 239, 236, 233, 231, 228, 222, 215, 207, 207, 204, 198, 197, 197, 196, 195, 192, 730, 574, 390, 369, 361, 359, 351, 348, 324, 274, 253, 252, 249, 246, 246, 245, 245, 236, 234, 225, 216, 201, 194, 189, 189, 187, 179, 178, 177, 177, 175, 175, 168, 168, 165, 165, 164, 157, 154, 151, 149, 149, 147, 146, 146, 146, 142, 138, 136, 135, 691, 540, 531, 497, 469, 436, 421, 357, 315, 285, 271, 255, 232, 231, 230, 224, 223, 215, 204, 198, 197, 197, 196, 196, 194, 177, 176, 164, 154, 151, 147, 142, 142, 141, 136, 135, 129, 128, 125, 123, 121, 121, 120, 118, 117, 115, 113, 112, 107, 106, 347, 335, 301, 268, 260, 256, 248, 245, 243, 238, 238, 232, 232, 228, 224, 220, 218, 215, 215, 209, 208, 196, 195, 193, 192, 192, 190, 190, 187, 184, 182, 176, 175, 170, 168, 165, 159, 153, 152, 151, 147, 146, 145, 145, 143, 142, 142, 142, 141, 138]\n",
            "2500\n"
          ]
        }
      ],
      "source": [
        "playcount = [int(i) for i in playcount1d]\n",
        "print(playcount)\n",
        "print(len(playcount))"
      ]
    },
    {
      "cell_type": "code",
      "execution_count": 71,
      "metadata": {
        "id": "yublUJmMFN0i"
      },
      "outputs": [],
      "source": [
        "import pandas as pd\n",
        "\n",
        "user, uniques = pd.factorize(user1d)\n",
        "album, uniques = pd.factorize(album_name1d)"
      ]
    },
    {
      "cell_type": "code",
      "execution_count": 72,
      "metadata": {
        "colab": {
          "base_uri": "https://localhost:8080/"
        },
        "id": "ObK9gvS1FN0x",
        "outputId": "3cfeaaa6-3a36-4a1a-8ccb-8a78d36834cc"
      },
      "outputs": [
        {
          "name": "stdout",
          "output_type": "stream",
          "text": [
            "[ 0  0  0 ... 49 49 49]\n",
            "<class 'numpy.ndarray'>\n",
            "\n",
            "[   0    1    2 ... 1750 1751  250]\n",
            "<class 'numpy.ndarray'>\n"
          ]
        }
      ],
      "source": [
        "print(user)\n",
        "print(type(user))\n",
        "print()\n",
        "print(album)\n",
        "print(type(album))"
      ]
    },
    {
      "cell_type": "code",
      "execution_count": 73,
      "metadata": {
        "colab": {
          "base_uri": "https://localhost:8080/"
        },
        "id": "Nj9MrSrEFN0z",
        "outputId": "b1a30ce9-ca57-4d84-a97d-0b4fe556d5da"
      },
      "outputs": [
        {
          "name": "stdout",
          "output_type": "stream",
          "text": [
            "[0, 0, 0, 0, 0, 0, 0, 0, 0, 0, 0, 0, 0, 0, 0, 0, 0, 0, 0, 0, 0, 0, 0, 0, 0, 0, 0, 0, 0, 0, 0, 0, 0, 0, 0, 0, 0, 0, 0, 0, 0, 0, 0, 0, 0, 0, 0, 0, 0, 0, 1, 1, 1, 1, 1, 1, 1, 1, 1, 1, 1, 1, 1, 1, 1, 1, 1, 1, 1, 1, 1, 1, 1, 1, 1, 1, 1, 1, 1, 1, 1, 1, 1, 1, 1, 1, 1, 1, 1, 1, 1, 1, 1, 1, 1, 1, 1, 1, 1, 1, 2, 2, 2, 2, 2, 2, 2, 2, 2, 2, 2, 2, 2, 2, 2, 2, 2, 2, 2, 2, 2, 2, 2, 2, 2, 2, 2, 2, 2, 2, 2, 2, 2, 2, 2, 2, 2, 2, 2, 2, 2, 2, 2, 2, 2, 2, 2, 2, 2, 2, 3, 3, 3, 3, 3, 3, 3, 3, 3, 3, 3, 3, 3, 3, 3, 3, 3, 3, 3, 3, 3, 3, 3, 3, 3, 3, 3, 3, 3, 3, 3, 3, 3, 3, 3, 3, 3, 3, 3, 3, 3, 3, 3, 3, 3, 3, 3, 3, 3, 3, 4, 4, 4, 4, 4, 4, 4, 4, 4, 4, 4, 4, 4, 4, 4, 4, 4, 4, 4, 4, 4, 4, 4, 4, 4, 4, 4, 4, 4, 4, 4, 4, 4, 4, 4, 4, 4, 4, 4, 4, 4, 4, 4, 4, 4, 4, 4, 4, 4, 4, 5, 5, 5, 5, 5, 5, 5, 5, 5, 5, 5, 5, 5, 5, 5, 5, 5, 5, 5, 5, 5, 5, 5, 5, 5, 5, 5, 5, 5, 5, 5, 5, 5, 5, 5, 5, 5, 5, 5, 5, 5, 5, 5, 5, 5, 5, 5, 5, 5, 5, 6, 6, 6, 6, 6, 6, 6, 6, 6, 6, 6, 6, 6, 6, 6, 6, 6, 6, 6, 6, 6, 6, 6, 6, 6, 6, 6, 6, 6, 6, 6, 6, 6, 6, 6, 6, 6, 6, 6, 6, 6, 6, 6, 6, 6, 6, 6, 6, 6, 6, 7, 7, 7, 7, 7, 7, 7, 7, 7, 7, 7, 7, 7, 7, 7, 7, 7, 7, 7, 7, 7, 7, 7, 7, 7, 7, 7, 7, 7, 7, 7, 7, 7, 7, 7, 7, 7, 7, 7, 7, 7, 7, 7, 7, 7, 7, 7, 7, 7, 7, 8, 8, 8, 8, 8, 8, 8, 8, 8, 8, 8, 8, 8, 8, 8, 8, 8, 8, 8, 8, 8, 8, 8, 8, 8, 8, 8, 8, 8, 8, 8, 8, 8, 8, 8, 8, 8, 8, 8, 8, 8, 8, 8, 8, 8, 8, 8, 8, 8, 8, 9, 9, 9, 9, 9, 9, 9, 9, 9, 9, 9, 9, 9, 9, 9, 9, 9, 9, 9, 9, 9, 9, 9, 9, 9, 9, 9, 9, 9, 9, 9, 9, 9, 9, 9, 9, 9, 9, 9, 9, 9, 9, 9, 9, 9, 9, 9, 9, 9, 9, 10, 10, 10, 10, 10, 10, 10, 10, 10, 10, 10, 10, 10, 10, 10, 10, 10, 10, 10, 10, 10, 10, 10, 10, 10, 10, 10, 10, 10, 10, 10, 10, 10, 10, 10, 10, 10, 10, 10, 10, 10, 10, 10, 10, 10, 10, 10, 10, 10, 10, 11, 11, 11, 11, 11, 11, 11, 11, 11, 11, 11, 11, 11, 11, 11, 11, 11, 11, 11, 11, 11, 11, 11, 11, 11, 11, 11, 11, 11, 11, 11, 11, 11, 11, 11, 11, 11, 11, 11, 11, 11, 11, 11, 11, 11, 11, 11, 11, 11, 11, 12, 12, 12, 12, 12, 12, 12, 12, 12, 12, 12, 12, 12, 12, 12, 12, 12, 12, 12, 12, 12, 12, 12, 12, 12, 12, 12, 12, 12, 12, 12, 12, 12, 12, 12, 12, 12, 12, 12, 12, 12, 12, 12, 12, 12, 12, 12, 12, 12, 12, 13, 13, 13, 13, 13, 13, 13, 13, 13, 13, 13, 13, 13, 13, 13, 13, 13, 13, 13, 13, 13, 13, 13, 13, 13, 13, 13, 13, 13, 13, 13, 13, 13, 13, 13, 13, 13, 13, 13, 13, 13, 13, 13, 13, 13, 13, 13, 13, 13, 13, 14, 14, 14, 14, 14, 14, 14, 14, 14, 14, 14, 14, 14, 14, 14, 14, 14, 14, 14, 14, 14, 14, 14, 14, 14, 14, 14, 14, 14, 14, 14, 14, 14, 14, 14, 14, 14, 14, 14, 14, 14, 14, 14, 14, 14, 14, 14, 14, 14, 14, 15, 15, 15, 15, 15, 15, 15, 15, 15, 15, 15, 15, 15, 15, 15, 15, 15, 15, 15, 15, 15, 15, 15, 15, 15, 15, 15, 15, 15, 15, 15, 15, 15, 15, 15, 15, 15, 15, 15, 15, 15, 15, 15, 15, 15, 15, 15, 15, 15, 15, 16, 16, 16, 16, 16, 16, 16, 16, 16, 16, 16, 16, 16, 16, 16, 16, 16, 16, 16, 16, 16, 16, 16, 16, 16, 16, 16, 16, 16, 16, 16, 16, 16, 16, 16, 16, 16, 16, 16, 16, 16, 16, 16, 16, 16, 16, 16, 16, 16, 16, 17, 17, 17, 17, 17, 17, 17, 17, 17, 17, 17, 17, 17, 17, 17, 17, 17, 17, 17, 17, 17, 17, 17, 17, 17, 17, 17, 17, 17, 17, 17, 17, 17, 17, 17, 17, 17, 17, 17, 17, 17, 17, 17, 17, 17, 17, 17, 17, 17, 17, 18, 18, 18, 18, 18, 18, 18, 18, 18, 18, 18, 18, 18, 18, 18, 18, 18, 18, 18, 18, 18, 18, 18, 18, 18, 18, 18, 18, 18, 18, 18, 18, 18, 18, 18, 18, 18, 18, 18, 18, 18, 18, 18, 18, 18, 18, 18, 18, 18, 18, 19, 19, 19, 19, 19, 19, 19, 19, 19, 19, 19, 19, 19, 19, 19, 19, 19, 19, 19, 19, 19, 19, 19, 19, 19, 19, 19, 19, 19, 19, 19, 19, 19, 19, 19, 19, 19, 19, 19, 19, 19, 19, 19, 19, 19, 19, 19, 19, 19, 19, 20, 20, 20, 20, 20, 20, 20, 20, 20, 20, 20, 20, 20, 20, 20, 20, 20, 20, 20, 20, 20, 20, 20, 20, 20, 20, 20, 20, 20, 20, 20, 20, 20, 20, 20, 20, 20, 20, 20, 20, 20, 20, 20, 20, 20, 20, 20, 20, 20, 20, 21, 21, 21, 21, 21, 21, 21, 21, 21, 21, 21, 21, 21, 21, 21, 21, 21, 21, 21, 21, 21, 21, 21, 21, 21, 21, 21, 21, 21, 21, 21, 21, 21, 21, 21, 21, 21, 21, 21, 21, 21, 21, 21, 21, 21, 21, 21, 21, 21, 21, 22, 22, 22, 22, 22, 22, 22, 22, 22, 22, 22, 22, 22, 22, 22, 22, 22, 22, 22, 22, 22, 22, 22, 22, 22, 22, 22, 22, 22, 22, 22, 22, 22, 22, 22, 22, 22, 22, 22, 22, 22, 22, 22, 22, 22, 22, 22, 22, 22, 22, 23, 23, 23, 23, 23, 23, 23, 23, 23, 23, 23, 23, 23, 23, 23, 23, 23, 23, 23, 23, 23, 23, 23, 23, 23, 23, 23, 23, 23, 23, 23, 23, 23, 23, 23, 23, 23, 23, 23, 23, 23, 23, 23, 23, 23, 23, 23, 23, 23, 23, 24, 24, 24, 24, 24, 24, 24, 24, 24, 24, 24, 24, 24, 24, 24, 24, 24, 24, 24, 24, 24, 24, 24, 24, 24, 24, 24, 24, 24, 24, 24, 24, 24, 24, 24, 24, 24, 24, 24, 24, 24, 24, 24, 24, 24, 24, 24, 24, 24, 24, 25, 25, 25, 25, 25, 25, 25, 25, 25, 25, 25, 25, 25, 25, 25, 25, 25, 25, 25, 25, 25, 25, 25, 25, 25, 25, 25, 25, 25, 25, 25, 25, 25, 25, 25, 25, 25, 25, 25, 25, 25, 25, 25, 25, 25, 25, 25, 25, 25, 25, 26, 26, 26, 26, 26, 26, 26, 26, 26, 26, 26, 26, 26, 26, 26, 26, 26, 26, 26, 26, 26, 26, 26, 26, 26, 26, 26, 26, 26, 26, 26, 26, 26, 26, 26, 26, 26, 26, 26, 26, 26, 26, 26, 26, 26, 26, 26, 26, 26, 26, 27, 27, 27, 27, 27, 27, 27, 27, 27, 27, 27, 27, 27, 27, 27, 27, 27, 27, 27, 27, 27, 27, 27, 27, 27, 27, 27, 27, 27, 27, 27, 27, 27, 27, 27, 27, 27, 27, 27, 27, 27, 27, 27, 27, 27, 27, 27, 27, 27, 27, 28, 28, 28, 28, 28, 28, 28, 28, 28, 28, 28, 28, 28, 28, 28, 28, 28, 28, 28, 28, 28, 28, 28, 28, 28, 28, 28, 28, 28, 28, 28, 28, 28, 28, 28, 28, 28, 28, 28, 28, 28, 28, 28, 28, 28, 28, 28, 28, 28, 28, 29, 29, 29, 29, 29, 29, 29, 29, 29, 29, 29, 29, 29, 29, 29, 29, 29, 29, 29, 29, 29, 29, 29, 29, 29, 29, 29, 29, 29, 29, 29, 29, 29, 29, 29, 29, 29, 29, 29, 29, 29, 29, 29, 29, 29, 29, 29, 29, 29, 29, 30, 30, 30, 30, 30, 30, 30, 30, 30, 30, 30, 30, 30, 30, 30, 30, 30, 30, 30, 30, 30, 30, 30, 30, 30, 30, 30, 30, 30, 30, 30, 30, 30, 30, 30, 30, 30, 30, 30, 30, 30, 30, 30, 30, 30, 30, 30, 30, 30, 30, 31, 31, 31, 31, 31, 31, 31, 31, 31, 31, 31, 31, 31, 31, 31, 31, 31, 31, 31, 31, 31, 31, 31, 31, 31, 31, 31, 31, 31, 31, 31, 31, 31, 31, 31, 31, 31, 31, 31, 31, 31, 31, 31, 31, 31, 31, 31, 31, 31, 31, 32, 32, 32, 32, 32, 32, 32, 32, 32, 32, 32, 32, 32, 32, 32, 32, 32, 32, 32, 32, 32, 32, 32, 32, 32, 32, 32, 32, 32, 32, 32, 32, 32, 32, 32, 32, 32, 32, 32, 32, 32, 32, 32, 32, 32, 32, 32, 32, 32, 32, 33, 33, 33, 33, 33, 33, 33, 33, 33, 33, 33, 33, 33, 33, 33, 33, 33, 33, 33, 33, 33, 33, 33, 33, 33, 33, 33, 33, 33, 33, 33, 33, 33, 33, 33, 33, 33, 33, 33, 33, 33, 33, 33, 33, 33, 33, 33, 33, 33, 33, 34, 34, 34, 34, 34, 34, 34, 34, 34, 34, 34, 34, 34, 34, 34, 34, 34, 34, 34, 34, 34, 34, 34, 34, 34, 34, 34, 34, 34, 34, 34, 34, 34, 34, 34, 34, 34, 34, 34, 34, 34, 34, 34, 34, 34, 34, 34, 34, 34, 34, 35, 35, 35, 35, 35, 35, 35, 35, 35, 35, 35, 35, 35, 35, 35, 35, 35, 35, 35, 35, 35, 35, 35, 35, 35, 35, 35, 35, 35, 35, 35, 35, 35, 35, 35, 35, 35, 35, 35, 35, 35, 35, 35, 35, 35, 35, 35, 35, 35, 35, 36, 36, 36, 36, 36, 36, 36, 36, 36, 36, 36, 36, 36, 36, 36, 36, 36, 36, 36, 36, 36, 36, 36, 36, 36, 36, 36, 36, 36, 36, 36, 36, 36, 36, 36, 36, 36, 36, 36, 36, 36, 36, 36, 36, 36, 36, 36, 36, 36, 36, 37, 37, 37, 37, 37, 37, 37, 37, 37, 37, 37, 37, 37, 37, 37, 37, 37, 37, 37, 37, 37, 37, 37, 37, 37, 37, 37, 37, 37, 37, 37, 37, 37, 37, 37, 37, 37, 37, 37, 37, 37, 37, 37, 37, 37, 37, 37, 37, 37, 37, 38, 38, 38, 38, 38, 38, 38, 38, 38, 38, 38, 38, 38, 38, 38, 38, 38, 38, 38, 38, 38, 38, 38, 38, 38, 38, 38, 38, 38, 38, 38, 38, 38, 38, 38, 38, 38, 38, 38, 38, 38, 38, 38, 38, 38, 38, 38, 38, 38, 38, 39, 39, 39, 39, 39, 39, 39, 39, 39, 39, 39, 39, 39, 39, 39, 39, 39, 39, 39, 39, 39, 39, 39, 39, 39, 39, 39, 39, 39, 39, 39, 39, 39, 39, 39, 39, 39, 39, 39, 39, 39, 39, 39, 39, 39, 39, 39, 39, 39, 39, 40, 40, 40, 40, 40, 40, 40, 40, 40, 40, 40, 40, 40, 40, 40, 40, 40, 40, 40, 40, 40, 40, 40, 40, 40, 40, 40, 40, 40, 40, 40, 40, 40, 40, 40, 40, 40, 40, 40, 40, 40, 40, 40, 40, 40, 40, 40, 40, 40, 40, 41, 41, 41, 41, 41, 41, 41, 41, 41, 41, 41, 41, 41, 41, 41, 41, 41, 41, 41, 41, 41, 41, 41, 41, 41, 41, 41, 41, 41, 41, 41, 41, 41, 41, 41, 41, 41, 41, 41, 41, 41, 41, 41, 41, 41, 41, 41, 41, 41, 41, 42, 42, 42, 42, 42, 42, 42, 42, 42, 42, 42, 42, 42, 42, 42, 42, 42, 42, 42, 42, 42, 42, 42, 42, 42, 42, 42, 42, 42, 42, 42, 42, 42, 42, 42, 42, 42, 42, 42, 42, 42, 42, 42, 42, 42, 42, 42, 42, 42, 42, 43, 43, 43, 43, 43, 43, 43, 43, 43, 43, 43, 43, 43, 43, 43, 43, 43, 43, 43, 43, 43, 43, 43, 43, 43, 43, 43, 43, 43, 43, 43, 43, 43, 43, 43, 43, 43, 43, 43, 43, 43, 43, 43, 43, 43, 43, 43, 43, 43, 43, 44, 44, 44, 44, 44, 44, 44, 44, 44, 44, 44, 44, 44, 44, 44, 44, 44, 44, 44, 44, 44, 44, 44, 44, 44, 44, 44, 44, 44, 44, 44, 44, 44, 44, 44, 44, 44, 44, 44, 44, 44, 44, 44, 44, 44, 44, 44, 44, 44, 44, 45, 45, 45, 45, 45, 45, 45, 45, 45, 45, 45, 45, 45, 45, 45, 45, 45, 45, 45, 45, 45, 45, 45, 45, 45, 45, 45, 45, 45, 45, 45, 45, 45, 45, 45, 45, 45, 45, 45, 45, 45, 45, 45, 45, 45, 45, 45, 45, 45, 45, 46, 46, 46, 46, 46, 46, 46, 46, 46, 46, 46, 46, 46, 46, 46, 46, 46, 46, 46, 46, 46, 46, 46, 46, 46, 46, 46, 46, 46, 46, 46, 46, 46, 46, 46, 46, 46, 46, 46, 46, 46, 46, 46, 46, 46, 46, 46, 46, 46, 46, 47, 47, 47, 47, 47, 47, 47, 47, 47, 47, 47, 47, 47, 47, 47, 47, 47, 47, 47, 47, 47, 47, 47, 47, 47, 47, 47, 47, 47, 47, 47, 47, 47, 47, 47, 47, 47, 47, 47, 47, 47, 47, 47, 47, 47, 47, 47, 47, 47, 47, 48, 48, 48, 48, 48, 48, 48, 48, 48, 48, 48, 48, 48, 48, 48, 48, 48, 48, 48, 48, 48, 48, 48, 48, 48, 48, 48, 48, 48, 48, 48, 48, 48, 48, 48, 48, 48, 48, 48, 48, 48, 48, 48, 48, 48, 48, 48, 48, 48, 48, 49, 49, 49, 49, 49, 49, 49, 49, 49, 49, 49, 49, 49, 49, 49, 49, 49, 49, 49, 49, 49, 49, 49, 49, 49, 49, 49, 49, 49, 49, 49, 49, 49, 49, 49, 49, 49, 49, 49, 49, 49, 49, 49, 49, 49, 49, 49, 49, 49, 49]\n",
            "[0, 1, 2, 3, 4, 5, 6, 7, 8, 9, 10, 11, 12, 13, 14, 15, 16, 17, 18, 19, 20, 21, 22, 23, 24, 25, 26, 27, 28, 29, 30, 31, 32, 33, 34, 35, 36, 37, 38, 39, 40, 41, 42, 43, 44, 45, 46, 47, 48, 49, 50, 51, 52, 53, 54, 55, 56, 57, 58, 59, 60, 61, 62, 63, 64, 65, 66, 67, 68, 69, 70, 71, 72, 73, 74, 75, 76, 77, 78, 79, 80, 81, 82, 83, 84, 85, 86, 87, 88, 89, 90, 91, 92, 93, 94, 95, 96, 97, 98, 99, 100, 101, 102, 103, 104, 105, 106, 107, 108, 109, 110, 111, 112, 113, 114, 115, 116, 117, 118, 119, 120, 121, 122, 123, 124, 125, 126, 127, 128, 129, 130, 5, 131, 132, 133, 134, 135, 136, 137, 138, 139, 3, 140, 141, 142, 143, 144, 145, 146, 147, 148, 149, 150, 151, 152, 153, 154, 155, 156, 157, 158, 159, 160, 161, 162, 163, 164, 165, 166, 167, 168, 169, 170, 171, 172, 173, 174, 175, 176, 177, 178, 179, 180, 181, 182, 183, 184, 185, 186, 187, 188, 189, 190, 191, 192, 193, 107, 194, 195, 196, 197, 198, 199, 200, 201, 202, 149, 203, 204, 205, 206, 74, 207, 208, 209, 210, 167, 4, 211, 212, 213, 214, 215, 216, 186, 217, 218, 219, 220, 221, 222, 223, 224, 225, 226, 227, 228, 229, 230, 231, 48, 173, 232, 233, 234, 153, 235, 236, 237, 238, 205, 239, 240, 199, 207, 241, 212, 242, 106, 72, 243, 198, 244, 245, 246, 217, 247, 248, 249, 226, 228, 224, 233, 204, 250, 251, 252, 253, 254, 255, 256, 257, 258, 259, 260, 261, 262, 263, 264, 265, 266, 102, 234, 267, 215, 209, 268, 269, 270, 271, 272, 273, 274, 275, 240, 258, 209, 276, 277, 278, 279, 280, 281, 282, 283, 284, 285, 286, 287, 170, 288, 253, 289, 72, 290, 291, 292, 293, 294, 295, 296, 297, 298, 299, 300, 217, 301, 302, 303, 304, 305, 306, 307, 308, 309, 310, 311, 312, 313, 314, 315, 316, 317, 318, 319, 320, 321, 322, 323, 324, 325, 326, 327, 328, 329, 330, 331, 332, 333, 334, 335, 336, 337, 338, 339, 340, 341, 342, 343, 344, 345, 346, 347, 348, 349, 350, 351, 352, 353, 354, 355, 356, 357, 358, 359, 360, 361, 362, 363, 364, 187, 365, 232, 173, 153, 366, 367, 368, 369, 370, 371, 372, 373, 165, 374, 375, 376, 148, 149, 377, 378, 162, 379, 380, 293, 381, 163, 382, 383, 384, 385, 231, 386, 387, 388, 177, 389, 390, 391, 392, 393, 394, 395, 396, 397, 398, 399, 400, 401, 402, 213, 201, 217, 74, 403, 404, 405, 406, 407, 215, 408, 409, 410, 411, 412, 413, 414, 415, 416, 417, 418, 419, 420, 421, 422, 71, 423, 424, 425, 426, 209, 427, 428, 221, 429, 430, 431, 432, 433, 434, 435, 436, 437, 438, 435, 439, 440, 441, 442, 443, 444, 445, 446, 447, 448, 158, 449, 450, 451, 452, 453, 454, 455, 456, 457, 458, 459, 398, 460, 461, 462, 463, 464, 465, 466, 104, 467, 100, 468, 469, 470, 471, 472, 197, 473, 474, 475, 476, 477, 478, 479, 480, 379, 481, 482, 221, 483, 173, 484, 485, 486, 487, 488, 489, 490, 491, 197, 492, 493, 494, 495, 496, 497, 498, 499, 500, 501, 502, 503, 504, 505, 506, 507, 508, 509, 510, 511, 512, 513, 514, 515, 516, 517, 518, 519, 520, 521, 522, 523, 524, 525, 526, 527, 528, 529, 530, 205, 531, 532, 533, 534, 535, 536, 537, 538, 167, 539, 540, 541, 542, 543, 544, 545, 546, 547, 548, 72, 549, 223, 550, 551, 552, 553, 554, 555, 556, 557, 558, 559, 560, 238, 561, 562, 563, 564, 565, 566, 567, 568, 569, 570, 387, 201, 571, 572, 197, 573, 574, 575, 80, 576, 577, 578, 451, 494, 80, 541, 579, 536, 580, 139, 106, 107, 575, 581, 582, 583, 584, 585, 542, 100, 223, 586, 102, 587, 588, 589, 590, 591, 592, 593, 594, 527, 595, 596, 597, 598, 599, 600, 105, 504, 439, 601, 602, 603, 604, 605, 606, 607, 608, 609, 610, 611, 612, 613, 614, 615, 616, 617, 618, 619, 620, 621, 218, 622, 623, 484, 624, 625, 626, 292, 627, 628, 629, 630, 631, 632, 633, 634, 635, 636, 637, 638, 639, 640, 236, 641, 642, 643, 644, 645, 646, 647, 648, 649, 197, 91, 650, 651, 652, 653, 72, 654, 655, 201, 656, 657, 202, 658, 659, 301, 660, 661, 477, 403, 217, 662, 197, 284, 663, 82, 555, 664, 665, 609, 666, 667, 668, 669, 670, 611, 671, 621, 313, 672, 673, 674, 675, 30, 676, 677, 678, 679, 80, 680, 681, 682, 683, 684, 685, 686, 239, 201, 687, 688, 255, 689, 690, 225, 423, 691, 692, 210, 693, 217, 694, 695, 72, 415, 234, 214, 533, 226, 219, 696, 697, 698, 699, 700, 701, 702, 703, 292, 704, 705, 706, 707, 437, 708, 709, 558, 710, 711, 712, 403, 713, 714, 715, 716, 717, 718, 719, 720, 721, 486, 722, 723, 406, 724, 725, 726, 727, 728, 729, 730, 731, 732, 733, 734, 735, 736, 737, 738, 739, 740, 741, 742, 486, 167, 743, 494, 744, 745, 746, 487, 747, 748, 749, 750, 751, 752, 753, 754, 755, 756, 211, 439, 757, 758, 759, 760, 165, 761, 762, 763, 139, 764, 765, 766, 216, 767, 768, 366, 769, 770, 771, 201, 772, 773, 774, 775, 711, 776, 253, 670, 367, 777, 778, 779, 780, 95, 365, 739, 781, 441, 782, 783, 784, 785, 197, 664, 238, 786, 787, 788, 789, 790, 791, 792, 793, 794, 60, 58, 795, 262, 796, 797, 798, 799, 560, 223, 536, 403, 541, 258, 800, 801, 802, 803, 804, 805, 806, 807, 808, 809, 630, 810, 811, 348, 812, 167, 813, 596, 814, 815, 816, 89, 817, 155, 818, 819, 551, 820, 821, 822, 823, 824, 534, 825, 826, 827, 828, 201, 829, 80, 830, 831, 313, 257, 832, 833, 834, 835, 254, 836, 837, 838, 839, 840, 284, 841, 842, 843, 844, 845, 846, 847, 848, 849, 850, 851, 852, 853, 854, 855, 856, 857, 858, 51, 859, 860, 861, 485, 862, 863, 864, 865, 866, 533, 817, 867, 868, 869, 870, 871, 872, 873, 24, 874, 875, 876, 877, 878, 879, 880, 881, 882, 754, 883, 837, 752, 884, 885, 201, 886, 887, 888, 889, 890, 769, 891, 892, 893, 894, 895, 896, 804, 897, 898, 403, 899, 900, 901, 902, 903, 743, 313, 904, 905, 346, 906, 907, 908, 909, 910, 173, 365, 187, 911, 912, 291, 913, 232, 914, 915, 916, 917, 298, 918, 919, 920, 921, 922, 923, 924, 925, 926, 927, 928, 929, 930, 931, 370, 932, 933, 934, 153, 935, 696, 936, 937, 633, 938, 939, 940, 941, 942, 943, 944, 945, 946, 947, 948, 949, 950, 951, 952, 953, 954, 955, 956, 957, 958, 959, 960, 74, 961, 962, 963, 964, 965, 966, 221, 967, 420, 968, 969, 970, 971, 972, 973, 86, 974, 975, 976, 977, 978, 731, 979, 223, 980, 981, 982, 983, 754, 139, 984, 985, 986, 918, 987, 988, 989, 771, 842, 990, 991, 992, 993, 441, 994, 995, 996, 997, 731, 998, 209, 999, 221, 1000, 1001, 1002, 1003, 239, 238, 789, 729, 1004, 201, 406, 1005, 1006, 1007, 288, 1008, 1009, 1010, 1011, 1012, 1013, 1014, 1015, 837, 217, 1016, 1017, 1018, 1019, 1020, 1021, 792, 72, 1022, 1023, 1024, 1025, 267, 1026, 1027, 1028, 1029, 82, 1018, 1030, 1031, 1032, 1033, 1034, 1035, 991, 1036, 1037, 1038, 1039, 1040, 412, 1041, 1042, 1043, 1003, 1044, 1045, 1046, 602, 1047, 1048, 1049, 1050, 916, 203, 1051, 1052, 1053, 1054, 1055, 1056, 1057, 382, 1058, 1059, 215, 224, 1060, 217, 72, 1061, 1062, 403, 1063, 60, 859, 1064, 769, 1065, 238, 1066, 1067, 1068, 1069, 313, 1070, 1071, 209, 1072, 1073, 835, 832, 1074, 1075, 1076, 1077, 1078, 201, 1079, 1080, 827, 1081, 1082, 642, 1083, 758, 284, 1084, 1085, 1086, 106, 1087, 378, 723, 1088, 1089, 1090, 2, 1091, 4, 26, 1092, 1093, 1094, 38, 1095, 1096, 1097, 12, 1098, 16, 15, 1099, 21, 1100, 48, 1101, 1102, 1103, 1104, 1105, 1106, 1107, 39, 13, 17, 1108, 1109, 11, 748, 1110, 718, 9, 1111, 1112, 1113, 1114, 1115, 1116, 1117, 1118, 725, 1119, 722, 1120, 369, 1121, 1122, 1123, 1124, 1125, 696, 1126, 401, 1127, 1128, 1129, 1130, 1131, 1132, 1133, 1134, 1135, 1136, 1137, 1138, 395, 399, 1139, 1140, 1141, 376, 308, 1142, 1143, 1144, 1145, 1146, 1147, 1148, 1149, 1150, 278, 1151, 1152, 386, 1153, 1154, 991, 1155, 1156, 1157, 1158, 1159, 1160, 1161, 873, 1162, 137, 1163, 536, 465, 1089, 1164, 567, 1165, 1166, 575, 1167, 1168, 25, 539, 1169, 1170, 115, 1171, 1172, 1173, 1174, 12, 1175, 1090, 1176, 1177, 202, 1178, 724, 1179, 1180, 1181, 1182, 1183, 1184, 154, 1185, 117, 213, 17, 1186, 1187, 1188, 722, 1189, 1190, 1191, 1192, 1193, 1194, 1195, 534, 1196, 542, 816, 155, 1197, 1198, 1199, 1200, 1201, 1202, 718, 1203, 1204, 608, 1205, 1206, 725, 541, 1207, 1208, 1209, 1210, 1211, 1212, 400, 1213, 1214, 874, 1215, 1216, 1217, 1218, 796, 1219, 1220, 1221, 1222, 1223, 1224, 415, 810, 1225, 1226, 1227, 1228, 1229, 267, 1230, 1231, 1232, 1233, 1234, 1235, 1236, 1237, 1238, 1239, 1240, 1241, 1242, 1243, 1244, 1245, 203, 757, 1246, 1247, 1248, 594, 1249, 1250, 730, 1251, 1252, 1253, 1254, 161, 1255, 1256, 1257, 1258, 1259, 1260, 1261, 1262, 1263, 1264, 1265, 1266, 1267, 1268, 1269, 1270, 451, 1271, 167, 1272, 1273, 1274, 835, 1275, 1276, 1277, 382, 1278, 201, 1279, 1036, 197, 1280, 1281, 1282, 1283, 72, 1284, 1285, 1286, 1287, 1288, 97, 1090, 209, 198, 329, 718, 403, 202, 1289, 796, 1290, 1291, 1292, 415, 734, 1293, 877, 731, 1294, 748, 1295, 739, 373, 721, 605, 723, 1089, 1296, 758, 1297, 1298, 202, 1299, 840, 978, 1300, 47, 1301, 1302, 91, 1303, 238, 816, 1304, 55, 1305, 534, 1306, 1307, 1070, 1308, 731, 1309, 74, 139, 114, 1310, 1311, 373, 1312, 970, 421, 630, 850, 1313, 1314, 567, 1315, 1316, 1317, 1318, 1319, 1320, 1321, 1322, 1323, 906, 575, 617, 1324, 796, 545, 30, 1325, 542, 1326, 1327, 567, 223, 602, 1328, 1329, 1330, 155, 1331, 534, 210, 211, 65, 630, 1302, 1332, 1333, 1334, 1335, 1039, 261, 1183, 739, 1336, 102, 554, 536, 1337, 1338, 840, 288, 1090, 914, 313, 1339, 1340, 1341, 1342, 1343, 1344, 1345, 1346, 1347, 373, 231, 177, 368, 153, 149, 1348, 290, 156, 163, 100, 1349, 1350, 377, 1351, 804, 1352, 1353, 1354, 1143, 1355, 1356, 1357, 1358, 1359, 385, 1360, 1361, 1362, 1363, 1364, 1365, 1366, 1367, 1368, 1369, 1370, 267, 1371, 1372, 1373, 148, 1374, 1375, 1376, 1377, 1378, 563, 914, 931, 217, 72, 1308, 405, 415, 198, 202, 1379, 1380, 1381, 207, 201, 1382, 417, 1383, 262, 1384, 423, 38, 209, 124, 17, 1385, 1386, 1387, 1388, 1389, 1306, 1390, 1391, 1392, 74, 1393, 212, 1394, 5, 1395, 1396, 1397, 197, 1398, 205, 1399, 1400, 1401, 1402, 245, 1403, 380, 346, 1404, 379, 1405, 1406, 1407, 1408, 1409, 1410, 1411, 385, 1412, 451, 1413, 186, 1414, 253, 1415, 196, 163, 1416, 923, 293, 1417, 1418, 373, 1419, 365, 1420, 1421, 1422, 166, 1423, 1424, 1425, 1426, 1427, 294, 1428, 624, 1429, 1430, 478, 1431, 1432, 452, 1433, 1434, 1435, 1436, 1437, 1438, 1439, 406, 1440, 1441, 221, 1442, 1443, 1444, 1445, 1446, 1447, 948, 1448, 960, 1449, 731, 1450, 1451, 1452, 1453, 1454, 1455, 857, 1456, 1457, 1458, 288, 1459, 810, 1460, 1461, 1462, 1463, 1464, 946, 1465, 1466, 1467, 1468, 1469, 1470, 1014, 1471, 718, 1472, 1473, 1474, 74, 796, 1475, 1476, 201, 1090, 403, 718, 1477, 739, 217, 1478, 1479, 1480, 1089, 721, 1481, 724, 1482, 1483, 167, 267, 14, 236, 734, 541, 58, 1484, 1485, 439, 722, 1486, 213, 1487, 205, 1488, 1489, 1490, 216, 728, 1491, 748, 215, 1492, 1493, 1494, 725, 1495, 1496, 103, 109, 307, 1497, 1498, 112, 1499, 1500, 1501, 80, 643, 1502, 1503, 1504, 642, 1505, 1506, 1507, 1508, 284, 1509, 1510, 1511, 723, 1512, 542, 1513, 1514, 72, 1515, 1516, 657, 638, 1517, 230, 701, 1518, 1519, 1520, 1521, 1522, 202, 1523, 273, 1524, 1525, 1526, 1527, 916, 1528, 1529, 771, 441, 1530, 1531, 689, 997, 1052, 1532, 1533, 1534, 1535, 203, 1536, 267, 1537, 1538, 988, 1539, 1540, 789, 1541, 1542, 993, 1006, 1543, 1544, 1545, 995, 1546, 1547, 992, 1548, 916, 1549, 1550, 1551, 234, 1552, 1553, 1554, 837, 1555, 1556, 1557, 1558, 1559, 1560, 1561, 1021, 1562, 17, 1, 1563, 1564, 16, 4, 12, 607, 1565, 1566, 1567, 867, 1093, 1568, 1569, 1570, 1571, 1572, 39, 1573, 1574, 1575, 981, 46, 24, 1576, 1577, 1578, 38, 44, 1563, 1579, 1563, 1580, 1581, 1582, 1583, 1584, 1585, 1586, 1587, 1588, 1589, 1590, 15, 1591, 1592, 597, 1593, 4, 74, 409, 13, 881, 106, 1594, 15, 48, 2, 1, 1595, 1596, 1597, 91, 80, 1384, 39, 1598, 1337, 117, 1599, 202, 1089, 262, 205, 946, 1600, 417, 17, 197, 1095, 1601, 1602, 16, 97, 102, 873, 1603, 1604, 1605, 1606, 1607, 1608, 1166, 1609, 1610, 198, 563, 1611, 1477, 1482, 267, 1475, 1481, 1478, 1612, 585, 1490, 1492, 1613, 1476, 1614, 1615, 1616, 1617, 1618, 1619, 1620, 1192, 1621, 1622, 203, 1623, 1624, 1625, 1626, 1627, 1628, 1629, 1630, 1631, 1632, 1633, 30, 1634, 1635, 1636, 1637, 1638, 1639, 1640, 1641, 1642, 1643, 1644, 1645, 1646, 1647, 1648, 906, 173, 366, 187, 367, 232, 402, 365, 167, 781, 380, 1649, 1650, 1651, 1652, 253, 378, 1653, 647, 1654, 370, 371, 1384, 1655, 1656, 1657, 1658, 186, 1659, 235, 1660, 165, 729, 1661, 1662, 201, 1123, 1663, 153, 651, 477, 1664, 909, 454, 216, 221, 72, 241, 1665, 617, 653, 1666, 1667, 656, 1668, 148, 1669, 1670, 617, 1671, 946, 1672, 1673, 50, 1674, 658, 657, 1675, 1676, 677, 1677, 1678, 957, 100, 197, 1679, 1448, 105, 74, 850, 659, 602, 1680, 80, 1681, 301, 1682, 660, 1683, 1684, 1685, 198, 954, 1686, 161, 217, 1447, 205, 948, 72, 1687, 197, 1278, 1089, 1688, 661, 1689, 167, 718, 1690, 541, 722, 4, 1275, 1090, 563, 605, 534, 1691, 724, 1692, 1693, 262, 725, 663, 1694, 1335, 1695, 1696, 723, 198, 542, 1294, 39, 1697, 721, 373, 1698, 241, 1094, 253, 1699, 813, 914, 1700, 1701, 1095, 965, 1702, 1036, 406, 217, 731, 221, 197, 201, 1014, 1703, 729, 743, 218, 202, 657, 239, 74, 72, 465, 1704, 1705, 205, 226, 1706, 1707, 1708, 1709, 1710, 262, 213, 1711, 1277, 597, 246, 1712, 198, 1603, 1713, 1714, 209, 1715, 572, 1272, 1716, 215, 810, 1717, 555, 1718, 207, 1497, 736, 1719, 1720, 229, 1721, 1722, 1723, 1724, 1725, 629, 205, 1726, 254, 51, 212, 201, 1727, 1728, 1729, 1730, 1731, 1732, 1733, 1734, 1735, 220, 207, 1736, 654, 1737, 1738, 114, 1739, 1062, 1740, 696, 881, 1741, 1742, 1743, 1744, 1745, 403, 1746, 1747, 1748, 1572, 1749, 1750, 1751, 250]\n"
          ]
        }
      ],
      "source": [
        "user_id = [int(i) for i in user]\n",
        "print(user_id)\n",
        "\n",
        "album_id = [int(i) for i in album]\n",
        "print(album_id)"
      ]
    },
    {
      "cell_type": "code",
      "execution_count": 74,
      "metadata": {
        "id": "7a43KDTYB8GP"
      },
      "outputs": [],
      "source": [
        "data = []\n",
        "data.append(user_id)\n",
        "data.append(user1d)\n",
        "data.append(album_id)\n",
        "data.append(album_name1d)\n",
        "data.append(playcount)"
      ]
    },
    {
      "cell_type": "code",
      "execution_count": 75,
      "metadata": {
        "colab": {
          "base_uri": "https://localhost:8080/"
        },
        "id": "_Nn3qlW6IkQv",
        "outputId": "bf0578bb-a599-4576-f937-c8eba88c1ad5"
      },
      "outputs": [
        {
          "name": "stdout",
          "output_type": "stream",
          "text": [
            "[[0, 0, 0, 0, 0, 0, 0, 0, 0, 0, 0, 0, 0, 0, 0, 0, 0, 0, 0, 0, 0, 0, 0, 0, 0, 0, 0, 0, 0, 0, 0, 0, 0, 0, 0, 0, 0, 0, 0, 0, 0, 0, 0, 0, 0, 0, 0, 0, 0, 0, 1, 1, 1, 1, 1, 1, 1, 1, 1, 1, 1, 1, 1, 1, 1, 1, 1, 1, 1, 1, 1, 1, 1, 1, 1, 1, 1, 1, 1, 1, 1, 1, 1, 1, 1, 1, 1, 1, 1, 1, 1, 1, 1, 1, 1, 1, 1, 1, 1, 1, 2, 2, 2, 2, 2, 2, 2, 2, 2, 2, 2, 2, 2, 2, 2, 2, 2, 2, 2, 2, 2, 2, 2, 2, 2, 2, 2, 2, 2, 2, 2, 2, 2, 2, 2, 2, 2, 2, 2, 2, 2, 2, 2, 2, 2, 2, 2, 2, 2, 2, 3, 3, 3, 3, 3, 3, 3, 3, 3, 3, 3, 3, 3, 3, 3, 3, 3, 3, 3, 3, 3, 3, 3, 3, 3, 3, 3, 3, 3, 3, 3, 3, 3, 3, 3, 3, 3, 3, 3, 3, 3, 3, 3, 3, 3, 3, 3, 3, 3, 3, 4, 4, 4, 4, 4, 4, 4, 4, 4, 4, 4, 4, 4, 4, 4, 4, 4, 4, 4, 4, 4, 4, 4, 4, 4, 4, 4, 4, 4, 4, 4, 4, 4, 4, 4, 4, 4, 4, 4, 4, 4, 4, 4, 4, 4, 4, 4, 4, 4, 4, 5, 5, 5, 5, 5, 5, 5, 5, 5, 5, 5, 5, 5, 5, 5, 5, 5, 5, 5, 5, 5, 5, 5, 5, 5, 5, 5, 5, 5, 5, 5, 5, 5, 5, 5, 5, 5, 5, 5, 5, 5, 5, 5, 5, 5, 5, 5, 5, 5, 5, 6, 6, 6, 6, 6, 6, 6, 6, 6, 6, 6, 6, 6, 6, 6, 6, 6, 6, 6, 6, 6, 6, 6, 6, 6, 6, 6, 6, 6, 6, 6, 6, 6, 6, 6, 6, 6, 6, 6, 6, 6, 6, 6, 6, 6, 6, 6, 6, 6, 6, 7, 7, 7, 7, 7, 7, 7, 7, 7, 7, 7, 7, 7, 7, 7, 7, 7, 7, 7, 7, 7, 7, 7, 7, 7, 7, 7, 7, 7, 7, 7, 7, 7, 7, 7, 7, 7, 7, 7, 7, 7, 7, 7, 7, 7, 7, 7, 7, 7, 7, 8, 8, 8, 8, 8, 8, 8, 8, 8, 8, 8, 8, 8, 8, 8, 8, 8, 8, 8, 8, 8, 8, 8, 8, 8, 8, 8, 8, 8, 8, 8, 8, 8, 8, 8, 8, 8, 8, 8, 8, 8, 8, 8, 8, 8, 8, 8, 8, 8, 8, 9, 9, 9, 9, 9, 9, 9, 9, 9, 9, 9, 9, 9, 9, 9, 9, 9, 9, 9, 9, 9, 9, 9, 9, 9, 9, 9, 9, 9, 9, 9, 9, 9, 9, 9, 9, 9, 9, 9, 9, 9, 9, 9, 9, 9, 9, 9, 9, 9, 9, 10, 10, 10, 10, 10, 10, 10, 10, 10, 10, 10, 10, 10, 10, 10, 10, 10, 10, 10, 10, 10, 10, 10, 10, 10, 10, 10, 10, 10, 10, 10, 10, 10, 10, 10, 10, 10, 10, 10, 10, 10, 10, 10, 10, 10, 10, 10, 10, 10, 10, 11, 11, 11, 11, 11, 11, 11, 11, 11, 11, 11, 11, 11, 11, 11, 11, 11, 11, 11, 11, 11, 11, 11, 11, 11, 11, 11, 11, 11, 11, 11, 11, 11, 11, 11, 11, 11, 11, 11, 11, 11, 11, 11, 11, 11, 11, 11, 11, 11, 11, 12, 12, 12, 12, 12, 12, 12, 12, 12, 12, 12, 12, 12, 12, 12, 12, 12, 12, 12, 12, 12, 12, 12, 12, 12, 12, 12, 12, 12, 12, 12, 12, 12, 12, 12, 12, 12, 12, 12, 12, 12, 12, 12, 12, 12, 12, 12, 12, 12, 12, 13, 13, 13, 13, 13, 13, 13, 13, 13, 13, 13, 13, 13, 13, 13, 13, 13, 13, 13, 13, 13, 13, 13, 13, 13, 13, 13, 13, 13, 13, 13, 13, 13, 13, 13, 13, 13, 13, 13, 13, 13, 13, 13, 13, 13, 13, 13, 13, 13, 13, 14, 14, 14, 14, 14, 14, 14, 14, 14, 14, 14, 14, 14, 14, 14, 14, 14, 14, 14, 14, 14, 14, 14, 14, 14, 14, 14, 14, 14, 14, 14, 14, 14, 14, 14, 14, 14, 14, 14, 14, 14, 14, 14, 14, 14, 14, 14, 14, 14, 14, 15, 15, 15, 15, 15, 15, 15, 15, 15, 15, 15, 15, 15, 15, 15, 15, 15, 15, 15, 15, 15, 15, 15, 15, 15, 15, 15, 15, 15, 15, 15, 15, 15, 15, 15, 15, 15, 15, 15, 15, 15, 15, 15, 15, 15, 15, 15, 15, 15, 15, 16, 16, 16, 16, 16, 16, 16, 16, 16, 16, 16, 16, 16, 16, 16, 16, 16, 16, 16, 16, 16, 16, 16, 16, 16, 16, 16, 16, 16, 16, 16, 16, 16, 16, 16, 16, 16, 16, 16, 16, 16, 16, 16, 16, 16, 16, 16, 16, 16, 16, 17, 17, 17, 17, 17, 17, 17, 17, 17, 17, 17, 17, 17, 17, 17, 17, 17, 17, 17, 17, 17, 17, 17, 17, 17, 17, 17, 17, 17, 17, 17, 17, 17, 17, 17, 17, 17, 17, 17, 17, 17, 17, 17, 17, 17, 17, 17, 17, 17, 17, 18, 18, 18, 18, 18, 18, 18, 18, 18, 18, 18, 18, 18, 18, 18, 18, 18, 18, 18, 18, 18, 18, 18, 18, 18, 18, 18, 18, 18, 18, 18, 18, 18, 18, 18, 18, 18, 18, 18, 18, 18, 18, 18, 18, 18, 18, 18, 18, 18, 18, 19, 19, 19, 19, 19, 19, 19, 19, 19, 19, 19, 19, 19, 19, 19, 19, 19, 19, 19, 19, 19, 19, 19, 19, 19, 19, 19, 19, 19, 19, 19, 19, 19, 19, 19, 19, 19, 19, 19, 19, 19, 19, 19, 19, 19, 19, 19, 19, 19, 19, 20, 20, 20, 20, 20, 20, 20, 20, 20, 20, 20, 20, 20, 20, 20, 20, 20, 20, 20, 20, 20, 20, 20, 20, 20, 20, 20, 20, 20, 20, 20, 20, 20, 20, 20, 20, 20, 20, 20, 20, 20, 20, 20, 20, 20, 20, 20, 20, 20, 20, 21, 21, 21, 21, 21, 21, 21, 21, 21, 21, 21, 21, 21, 21, 21, 21, 21, 21, 21, 21, 21, 21, 21, 21, 21, 21, 21, 21, 21, 21, 21, 21, 21, 21, 21, 21, 21, 21, 21, 21, 21, 21, 21, 21, 21, 21, 21, 21, 21, 21, 22, 22, 22, 22, 22, 22, 22, 22, 22, 22, 22, 22, 22, 22, 22, 22, 22, 22, 22, 22, 22, 22, 22, 22, 22, 22, 22, 22, 22, 22, 22, 22, 22, 22, 22, 22, 22, 22, 22, 22, 22, 22, 22, 22, 22, 22, 22, 22, 22, 22, 23, 23, 23, 23, 23, 23, 23, 23, 23, 23, 23, 23, 23, 23, 23, 23, 23, 23, 23, 23, 23, 23, 23, 23, 23, 23, 23, 23, 23, 23, 23, 23, 23, 23, 23, 23, 23, 23, 23, 23, 23, 23, 23, 23, 23, 23, 23, 23, 23, 23, 24, 24, 24, 24, 24, 24, 24, 24, 24, 24, 24, 24, 24, 24, 24, 24, 24, 24, 24, 24, 24, 24, 24, 24, 24, 24, 24, 24, 24, 24, 24, 24, 24, 24, 24, 24, 24, 24, 24, 24, 24, 24, 24, 24, 24, 24, 24, 24, 24, 24, 25, 25, 25, 25, 25, 25, 25, 25, 25, 25, 25, 25, 25, 25, 25, 25, 25, 25, 25, 25, 25, 25, 25, 25, 25, 25, 25, 25, 25, 25, 25, 25, 25, 25, 25, 25, 25, 25, 25, 25, 25, 25, 25, 25, 25, 25, 25, 25, 25, 25, 26, 26, 26, 26, 26, 26, 26, 26, 26, 26, 26, 26, 26, 26, 26, 26, 26, 26, 26, 26, 26, 26, 26, 26, 26, 26, 26, 26, 26, 26, 26, 26, 26, 26, 26, 26, 26, 26, 26, 26, 26, 26, 26, 26, 26, 26, 26, 26, 26, 26, 27, 27, 27, 27, 27, 27, 27, 27, 27, 27, 27, 27, 27, 27, 27, 27, 27, 27, 27, 27, 27, 27, 27, 27, 27, 27, 27, 27, 27, 27, 27, 27, 27, 27, 27, 27, 27, 27, 27, 27, 27, 27, 27, 27, 27, 27, 27, 27, 27, 27, 28, 28, 28, 28, 28, 28, 28, 28, 28, 28, 28, 28, 28, 28, 28, 28, 28, 28, 28, 28, 28, 28, 28, 28, 28, 28, 28, 28, 28, 28, 28, 28, 28, 28, 28, 28, 28, 28, 28, 28, 28, 28, 28, 28, 28, 28, 28, 28, 28, 28, 29, 29, 29, 29, 29, 29, 29, 29, 29, 29, 29, 29, 29, 29, 29, 29, 29, 29, 29, 29, 29, 29, 29, 29, 29, 29, 29, 29, 29, 29, 29, 29, 29, 29, 29, 29, 29, 29, 29, 29, 29, 29, 29, 29, 29, 29, 29, 29, 29, 29, 30, 30, 30, 30, 30, 30, 30, 30, 30, 30, 30, 30, 30, 30, 30, 30, 30, 30, 30, 30, 30, 30, 30, 30, 30, 30, 30, 30, 30, 30, 30, 30, 30, 30, 30, 30, 30, 30, 30, 30, 30, 30, 30, 30, 30, 30, 30, 30, 30, 30, 31, 31, 31, 31, 31, 31, 31, 31, 31, 31, 31, 31, 31, 31, 31, 31, 31, 31, 31, 31, 31, 31, 31, 31, 31, 31, 31, 31, 31, 31, 31, 31, 31, 31, 31, 31, 31, 31, 31, 31, 31, 31, 31, 31, 31, 31, 31, 31, 31, 31, 32, 32, 32, 32, 32, 32, 32, 32, 32, 32, 32, 32, 32, 32, 32, 32, 32, 32, 32, 32, 32, 32, 32, 32, 32, 32, 32, 32, 32, 32, 32, 32, 32, 32, 32, 32, 32, 32, 32, 32, 32, 32, 32, 32, 32, 32, 32, 32, 32, 32, 33, 33, 33, 33, 33, 33, 33, 33, 33, 33, 33, 33, 33, 33, 33, 33, 33, 33, 33, 33, 33, 33, 33, 33, 33, 33, 33, 33, 33, 33, 33, 33, 33, 33, 33, 33, 33, 33, 33, 33, 33, 33, 33, 33, 33, 33, 33, 33, 33, 33, 34, 34, 34, 34, 34, 34, 34, 34, 34, 34, 34, 34, 34, 34, 34, 34, 34, 34, 34, 34, 34, 34, 34, 34, 34, 34, 34, 34, 34, 34, 34, 34, 34, 34, 34, 34, 34, 34, 34, 34, 34, 34, 34, 34, 34, 34, 34, 34, 34, 34, 35, 35, 35, 35, 35, 35, 35, 35, 35, 35, 35, 35, 35, 35, 35, 35, 35, 35, 35, 35, 35, 35, 35, 35, 35, 35, 35, 35, 35, 35, 35, 35, 35, 35, 35, 35, 35, 35, 35, 35, 35, 35, 35, 35, 35, 35, 35, 35, 35, 35, 36, 36, 36, 36, 36, 36, 36, 36, 36, 36, 36, 36, 36, 36, 36, 36, 36, 36, 36, 36, 36, 36, 36, 36, 36, 36, 36, 36, 36, 36, 36, 36, 36, 36, 36, 36, 36, 36, 36, 36, 36, 36, 36, 36, 36, 36, 36, 36, 36, 36, 37, 37, 37, 37, 37, 37, 37, 37, 37, 37, 37, 37, 37, 37, 37, 37, 37, 37, 37, 37, 37, 37, 37, 37, 37, 37, 37, 37, 37, 37, 37, 37, 37, 37, 37, 37, 37, 37, 37, 37, 37, 37, 37, 37, 37, 37, 37, 37, 37, 37, 38, 38, 38, 38, 38, 38, 38, 38, 38, 38, 38, 38, 38, 38, 38, 38, 38, 38, 38, 38, 38, 38, 38, 38, 38, 38, 38, 38, 38, 38, 38, 38, 38, 38, 38, 38, 38, 38, 38, 38, 38, 38, 38, 38, 38, 38, 38, 38, 38, 38, 39, 39, 39, 39, 39, 39, 39, 39, 39, 39, 39, 39, 39, 39, 39, 39, 39, 39, 39, 39, 39, 39, 39, 39, 39, 39, 39, 39, 39, 39, 39, 39, 39, 39, 39, 39, 39, 39, 39, 39, 39, 39, 39, 39, 39, 39, 39, 39, 39, 39, 40, 40, 40, 40, 40, 40, 40, 40, 40, 40, 40, 40, 40, 40, 40, 40, 40, 40, 40, 40, 40, 40, 40, 40, 40, 40, 40, 40, 40, 40, 40, 40, 40, 40, 40, 40, 40, 40, 40, 40, 40, 40, 40, 40, 40, 40, 40, 40, 40, 40, 41, 41, 41, 41, 41, 41, 41, 41, 41, 41, 41, 41, 41, 41, 41, 41, 41, 41, 41, 41, 41, 41, 41, 41, 41, 41, 41, 41, 41, 41, 41, 41, 41, 41, 41, 41, 41, 41, 41, 41, 41, 41, 41, 41, 41, 41, 41, 41, 41, 41, 42, 42, 42, 42, 42, 42, 42, 42, 42, 42, 42, 42, 42, 42, 42, 42, 42, 42, 42, 42, 42, 42, 42, 42, 42, 42, 42, 42, 42, 42, 42, 42, 42, 42, 42, 42, 42, 42, 42, 42, 42, 42, 42, 42, 42, 42, 42, 42, 42, 42, 43, 43, 43, 43, 43, 43, 43, 43, 43, 43, 43, 43, 43, 43, 43, 43, 43, 43, 43, 43, 43, 43, 43, 43, 43, 43, 43, 43, 43, 43, 43, 43, 43, 43, 43, 43, 43, 43, 43, 43, 43, 43, 43, 43, 43, 43, 43, 43, 43, 43, 44, 44, 44, 44, 44, 44, 44, 44, 44, 44, 44, 44, 44, 44, 44, 44, 44, 44, 44, 44, 44, 44, 44, 44, 44, 44, 44, 44, 44, 44, 44, 44, 44, 44, 44, 44, 44, 44, 44, 44, 44, 44, 44, 44, 44, 44, 44, 44, 44, 44, 45, 45, 45, 45, 45, 45, 45, 45, 45, 45, 45, 45, 45, 45, 45, 45, 45, 45, 45, 45, 45, 45, 45, 45, 45, 45, 45, 45, 45, 45, 45, 45, 45, 45, 45, 45, 45, 45, 45, 45, 45, 45, 45, 45, 45, 45, 45, 45, 45, 45, 46, 46, 46, 46, 46, 46, 46, 46, 46, 46, 46, 46, 46, 46, 46, 46, 46, 46, 46, 46, 46, 46, 46, 46, 46, 46, 46, 46, 46, 46, 46, 46, 46, 46, 46, 46, 46, 46, 46, 46, 46, 46, 46, 46, 46, 46, 46, 46, 46, 46, 47, 47, 47, 47, 47, 47, 47, 47, 47, 47, 47, 47, 47, 47, 47, 47, 47, 47, 47, 47, 47, 47, 47, 47, 47, 47, 47, 47, 47, 47, 47, 47, 47, 47, 47, 47, 47, 47, 47, 47, 47, 47, 47, 47, 47, 47, 47, 47, 47, 47, 48, 48, 48, 48, 48, 48, 48, 48, 48, 48, 48, 48, 48, 48, 48, 48, 48, 48, 48, 48, 48, 48, 48, 48, 48, 48, 48, 48, 48, 48, 48, 48, 48, 48, 48, 48, 48, 48, 48, 48, 48, 48, 48, 48, 48, 48, 48, 48, 48, 48, 49, 49, 49, 49, 49, 49, 49, 49, 49, 49, 49, 49, 49, 49, 49, 49, 49, 49, 49, 49, 49, 49, 49, 49, 49, 49, 49, 49, 49, 49, 49, 49, 49, 49, 49, 49, 49, 49, 49, 49, 49, 49, 49, 49, 49, 49, 49, 49, 49, 49], ['hikamu', 'hikamu', 'hikamu', 'hikamu', 'hikamu', 'hikamu', 'hikamu', 'hikamu', 'hikamu', 'hikamu', 'hikamu', 'hikamu', 'hikamu', 'hikamu', 'hikamu', 'hikamu', 'hikamu', 'hikamu', 'hikamu', 'hikamu', 'hikamu', 'hikamu', 'hikamu', 'hikamu', 'hikamu', 'hikamu', 'hikamu', 'hikamu', 'hikamu', 'hikamu', 'hikamu', 'hikamu', 'hikamu', 'hikamu', 'hikamu', 'hikamu', 'hikamu', 'hikamu', 'hikamu', 'hikamu', 'hikamu', 'hikamu', 'hikamu', 'hikamu', 'hikamu', 'hikamu', 'hikamu', 'hikamu', 'hikamu', 'hikamu', 'Ko_tatsu', 'Ko_tatsu', 'Ko_tatsu', 'Ko_tatsu', 'Ko_tatsu', 'Ko_tatsu', 'Ko_tatsu', 'Ko_tatsu', 'Ko_tatsu', 'Ko_tatsu', 'Ko_tatsu', 'Ko_tatsu', 'Ko_tatsu', 'Ko_tatsu', 'Ko_tatsu', 'Ko_tatsu', 'Ko_tatsu', 'Ko_tatsu', 'Ko_tatsu', 'Ko_tatsu', 'Ko_tatsu', 'Ko_tatsu', 'Ko_tatsu', 'Ko_tatsu', 'Ko_tatsu', 'Ko_tatsu', 'Ko_tatsu', 'Ko_tatsu', 'Ko_tatsu', 'Ko_tatsu', 'Ko_tatsu', 'Ko_tatsu', 'Ko_tatsu', 'Ko_tatsu', 'Ko_tatsu', 'Ko_tatsu', 'Ko_tatsu', 'Ko_tatsu', 'Ko_tatsu', 'Ko_tatsu', 'Ko_tatsu', 'Ko_tatsu', 'Ko_tatsu', 'Ko_tatsu', 'Ko_tatsu', 'Ko_tatsu', 'Ko_tatsu', 'Ko_tatsu', 'Ko_tatsu', 'Ko_tatsu', 'oddpulp', 'oddpulp', 'oddpulp', 'oddpulp', 'oddpulp', 'oddpulp', 'oddpulp', 'oddpulp', 'oddpulp', 'oddpulp', 'oddpulp', 'oddpulp', 'oddpulp', 'oddpulp', 'oddpulp', 'oddpulp', 'oddpulp', 'oddpulp', 'oddpulp', 'oddpulp', 'oddpulp', 'oddpulp', 'oddpulp', 'oddpulp', 'oddpulp', 'oddpulp', 'oddpulp', 'oddpulp', 'oddpulp', 'oddpulp', 'oddpulp', 'oddpulp', 'oddpulp', 'oddpulp', 'oddpulp', 'oddpulp', 'oddpulp', 'oddpulp', 'oddpulp', 'oddpulp', 'oddpulp', 'oddpulp', 'oddpulp', 'oddpulp', 'oddpulp', 'oddpulp', 'oddpulp', 'oddpulp', 'oddpulp', 'oddpulp', 'arthuic', 'arthuic', 'arthuic', 'arthuic', 'arthuic', 'arthuic', 'arthuic', 'arthuic', 'arthuic', 'arthuic', 'arthuic', 'arthuic', 'arthuic', 'arthuic', 'arthuic', 'arthuic', 'arthuic', 'arthuic', 'arthuic', 'arthuic', 'arthuic', 'arthuic', 'arthuic', 'arthuic', 'arthuic', 'arthuic', 'arthuic', 'arthuic', 'arthuic', 'arthuic', 'arthuic', 'arthuic', 'arthuic', 'arthuic', 'arthuic', 'arthuic', 'arthuic', 'arthuic', 'arthuic', 'arthuic', 'arthuic', 'arthuic', 'arthuic', 'arthuic', 'arthuic', 'arthuic', 'arthuic', 'arthuic', 'arthuic', 'arthuic', 'darcvv', 'darcvv', 'darcvv', 'darcvv', 'darcvv', 'darcvv', 'darcvv', 'darcvv', 'darcvv', 'darcvv', 'darcvv', 'darcvv', 'darcvv', 'darcvv', 'darcvv', 'darcvv', 'darcvv', 'darcvv', 'darcvv', 'darcvv', 'darcvv', 'darcvv', 'darcvv', 'darcvv', 'darcvv', 'darcvv', 'darcvv', 'darcvv', 'darcvv', 'darcvv', 'darcvv', 'darcvv', 'darcvv', 'darcvv', 'darcvv', 'darcvv', 'darcvv', 'darcvv', 'darcvv', 'darcvv', 'darcvv', 'darcvv', 'darcvv', 'darcvv', 'darcvv', 'darcvv', 'darcvv', 'darcvv', 'darcvv', 'darcvv', 'cerejinhalol', 'cerejinhalol', 'cerejinhalol', 'cerejinhalol', 'cerejinhalol', 'cerejinhalol', 'cerejinhalol', 'cerejinhalol', 'cerejinhalol', 'cerejinhalol', 'cerejinhalol', 'cerejinhalol', 'cerejinhalol', 'cerejinhalol', 'cerejinhalol', 'cerejinhalol', 'cerejinhalol', 'cerejinhalol', 'cerejinhalol', 'cerejinhalol', 'cerejinhalol', 'cerejinhalol', 'cerejinhalol', 'cerejinhalol', 'cerejinhalol', 'cerejinhalol', 'cerejinhalol', 'cerejinhalol', 'cerejinhalol', 'cerejinhalol', 'cerejinhalol', 'cerejinhalol', 'cerejinhalol', 'cerejinhalol', 'cerejinhalol', 'cerejinhalol', 'cerejinhalol', 'cerejinhalol', 'cerejinhalol', 'cerejinhalol', 'cerejinhalol', 'cerejinhalol', 'cerejinhalol', 'cerejinhalol', 'cerejinhalol', 'cerejinhalol', 'cerejinhalol', 'cerejinhalol', 'cerejinhalol', 'cerejinhalol', 'caudria', 'caudria', 'caudria', 'caudria', 'caudria', 'caudria', 'caudria', 'caudria', 'caudria', 'caudria', 'caudria', 'caudria', 'caudria', 'caudria', 'caudria', 'caudria', 'caudria', 'caudria', 'caudria', 'caudria', 'caudria', 'caudria', 'caudria', 'caudria', 'caudria', 'caudria', 'caudria', 'caudria', 'caudria', 'caudria', 'caudria', 'caudria', 'caudria', 'caudria', 'caudria', 'caudria', 'caudria', 'caudria', 'caudria', 'caudria', 'caudria', 'caudria', 'caudria', 'caudria', 'caudria', 'caudria', 'caudria', 'caudria', 'caudria', 'caudria', 'CitrusCircus', 'CitrusCircus', 'CitrusCircus', 'CitrusCircus', 'CitrusCircus', 'CitrusCircus', 'CitrusCircus', 'CitrusCircus', 'CitrusCircus', 'CitrusCircus', 'CitrusCircus', 'CitrusCircus', 'CitrusCircus', 'CitrusCircus', 'CitrusCircus', 'CitrusCircus', 'CitrusCircus', 'CitrusCircus', 'CitrusCircus', 'CitrusCircus', 'CitrusCircus', 'CitrusCircus', 'CitrusCircus', 'CitrusCircus', 'CitrusCircus', 'CitrusCircus', 'CitrusCircus', 'CitrusCircus', 'CitrusCircus', 'CitrusCircus', 'CitrusCircus', 'CitrusCircus', 'CitrusCircus', 'CitrusCircus', 'CitrusCircus', 'CitrusCircus', 'CitrusCircus', 'CitrusCircus', 'CitrusCircus', 'CitrusCircus', 'CitrusCircus', 'CitrusCircus', 'CitrusCircus', 'CitrusCircus', 'CitrusCircus', 'CitrusCircus', 'CitrusCircus', 'CitrusCircus', 'CitrusCircus', 'CitrusCircus', 'kaiquemaximoff', 'kaiquemaximoff', 'kaiquemaximoff', 'kaiquemaximoff', 'kaiquemaximoff', 'kaiquemaximoff', 'kaiquemaximoff', 'kaiquemaximoff', 'kaiquemaximoff', 'kaiquemaximoff', 'kaiquemaximoff', 'kaiquemaximoff', 'kaiquemaximoff', 'kaiquemaximoff', 'kaiquemaximoff', 'kaiquemaximoff', 'kaiquemaximoff', 'kaiquemaximoff', 'kaiquemaximoff', 'kaiquemaximoff', 'kaiquemaximoff', 'kaiquemaximoff', 'kaiquemaximoff', 'kaiquemaximoff', 'kaiquemaximoff', 'kaiquemaximoff', 'kaiquemaximoff', 'kaiquemaximoff', 'kaiquemaximoff', 'kaiquemaximoff', 'kaiquemaximoff', 'kaiquemaximoff', 'kaiquemaximoff', 'kaiquemaximoff', 'kaiquemaximoff', 'kaiquemaximoff', 'kaiquemaximoff', 'kaiquemaximoff', 'kaiquemaximoff', 'kaiquemaximoff', 'kaiquemaximoff', 'kaiquemaximoff', 'kaiquemaximoff', 'kaiquemaximoff', 'kaiquemaximoff', 'kaiquemaximoff', 'kaiquemaximoff', 'kaiquemaximoff', 'kaiquemaximoff', 'kaiquemaximoff', 'Junkento', 'Junkento', 'Junkento', 'Junkento', 'Junkento', 'Junkento', 'Junkento', 'Junkento', 'Junkento', 'Junkento', 'Junkento', 'Junkento', 'Junkento', 'Junkento', 'Junkento', 'Junkento', 'Junkento', 'Junkento', 'Junkento', 'Junkento', 'Junkento', 'Junkento', 'Junkento', 'Junkento', 'Junkento', 'Junkento', 'Junkento', 'Junkento', 'Junkento', 'Junkento', 'Junkento', 'Junkento', 'Junkento', 'Junkento', 'Junkento', 'Junkento', 'Junkento', 'Junkento', 'Junkento', 'Junkento', 'Junkento', 'Junkento', 'Junkento', 'Junkento', 'Junkento', 'Junkento', 'Junkento', 'Junkento', 'Junkento', 'Junkento', 'jinsoulist', 'jinsoulist', 'jinsoulist', 'jinsoulist', 'jinsoulist', 'jinsoulist', 'jinsoulist', 'jinsoulist', 'jinsoulist', 'jinsoulist', 'jinsoulist', 'jinsoulist', 'jinsoulist', 'jinsoulist', 'jinsoulist', 'jinsoulist', 'jinsoulist', 'jinsoulist', 'jinsoulist', 'jinsoulist', 'jinsoulist', 'jinsoulist', 'jinsoulist', 'jinsoulist', 'jinsoulist', 'jinsoulist', 'jinsoulist', 'jinsoulist', 'jinsoulist', 'jinsoulist', 'jinsoulist', 'jinsoulist', 'jinsoulist', 'jinsoulist', 'jinsoulist', 'jinsoulist', 'jinsoulist', 'jinsoulist', 'jinsoulist', 'jinsoulist', 'jinsoulist', 'jinsoulist', 'jinsoulist', 'jinsoulist', 'jinsoulist', 'jinsoulist', 'jinsoulist', 'jinsoulist', 'jinsoulist', 'jinsoulist', 'Rockrarted', 'Rockrarted', 'Rockrarted', 'Rockrarted', 'Rockrarted', 'Rockrarted', 'Rockrarted', 'Rockrarted', 'Rockrarted', 'Rockrarted', 'Rockrarted', 'Rockrarted', 'Rockrarted', 'Rockrarted', 'Rockrarted', 'Rockrarted', 'Rockrarted', 'Rockrarted', 'Rockrarted', 'Rockrarted', 'Rockrarted', 'Rockrarted', 'Rockrarted', 'Rockrarted', 'Rockrarted', 'Rockrarted', 'Rockrarted', 'Rockrarted', 'Rockrarted', 'Rockrarted', 'Rockrarted', 'Rockrarted', 'Rockrarted', 'Rockrarted', 'Rockrarted', 'Rockrarted', 'Rockrarted', 'Rockrarted', 'Rockrarted', 'Rockrarted', 'Rockrarted', 'Rockrarted', 'Rockrarted', 'Rockrarted', 'Rockrarted', 'Rockrarted', 'Rockrarted', 'Rockrarted', 'Rockrarted', 'Rockrarted', 'Evan_Mumford', 'Evan_Mumford', 'Evan_Mumford', 'Evan_Mumford', 'Evan_Mumford', 'Evan_Mumford', 'Evan_Mumford', 'Evan_Mumford', 'Evan_Mumford', 'Evan_Mumford', 'Evan_Mumford', 'Evan_Mumford', 'Evan_Mumford', 'Evan_Mumford', 'Evan_Mumford', 'Evan_Mumford', 'Evan_Mumford', 'Evan_Mumford', 'Evan_Mumford', 'Evan_Mumford', 'Evan_Mumford', 'Evan_Mumford', 'Evan_Mumford', 'Evan_Mumford', 'Evan_Mumford', 'Evan_Mumford', 'Evan_Mumford', 'Evan_Mumford', 'Evan_Mumford', 'Evan_Mumford', 'Evan_Mumford', 'Evan_Mumford', 'Evan_Mumford', 'Evan_Mumford', 'Evan_Mumford', 'Evan_Mumford', 'Evan_Mumford', 'Evan_Mumford', 'Evan_Mumford', 'Evan_Mumford', 'Evan_Mumford', 'Evan_Mumford', 'Evan_Mumford', 'Evan_Mumford', 'Evan_Mumford', 'Evan_Mumford', 'Evan_Mumford', 'Evan_Mumford', 'Evan_Mumford', 'Evan_Mumford', 'Airen3a', 'Airen3a', 'Airen3a', 'Airen3a', 'Airen3a', 'Airen3a', 'Airen3a', 'Airen3a', 'Airen3a', 'Airen3a', 'Airen3a', 'Airen3a', 'Airen3a', 'Airen3a', 'Airen3a', 'Airen3a', 'Airen3a', 'Airen3a', 'Airen3a', 'Airen3a', 'Airen3a', 'Airen3a', 'Airen3a', 'Airen3a', 'Airen3a', 'Airen3a', 'Airen3a', 'Airen3a', 'Airen3a', 'Airen3a', 'Airen3a', 'Airen3a', 'Airen3a', 'Airen3a', 'Airen3a', 'Airen3a', 'Airen3a', 'Airen3a', 'Airen3a', 'Airen3a', 'Airen3a', 'Airen3a', 'Airen3a', 'Airen3a', 'Airen3a', 'Airen3a', 'Airen3a', 'Airen3a', 'Airen3a', 'Airen3a', 'jomellyfish', 'jomellyfish', 'jomellyfish', 'jomellyfish', 'jomellyfish', 'jomellyfish', 'jomellyfish', 'jomellyfish', 'jomellyfish', 'jomellyfish', 'jomellyfish', 'jomellyfish', 'jomellyfish', 'jomellyfish', 'jomellyfish', 'jomellyfish', 'jomellyfish', 'jomellyfish', 'jomellyfish', 'jomellyfish', 'jomellyfish', 'jomellyfish', 'jomellyfish', 'jomellyfish', 'jomellyfish', 'jomellyfish', 'jomellyfish', 'jomellyfish', 'jomellyfish', 'jomellyfish', 'jomellyfish', 'jomellyfish', 'jomellyfish', 'jomellyfish', 'jomellyfish', 'jomellyfish', 'jomellyfish', 'jomellyfish', 'jomellyfish', 'jomellyfish', 'jomellyfish', 'jomellyfish', 'jomellyfish', 'jomellyfish', 'jomellyfish', 'jomellyfish', 'jomellyfish', 'jomellyfish', 'jomellyfish', 'jomellyfish', 'baratacorn4', 'baratacorn4', 'baratacorn4', 'baratacorn4', 'baratacorn4', 'baratacorn4', 'baratacorn4', 'baratacorn4', 'baratacorn4', 'baratacorn4', 'baratacorn4', 'baratacorn4', 'baratacorn4', 'baratacorn4', 'baratacorn4', 'baratacorn4', 'baratacorn4', 'baratacorn4', 'baratacorn4', 'baratacorn4', 'baratacorn4', 'baratacorn4', 'baratacorn4', 'baratacorn4', 'baratacorn4', 'baratacorn4', 'baratacorn4', 'baratacorn4', 'baratacorn4', 'baratacorn4', 'baratacorn4', 'baratacorn4', 'baratacorn4', 'baratacorn4', 'baratacorn4', 'baratacorn4', 'baratacorn4', 'baratacorn4', 'baratacorn4', 'baratacorn4', 'baratacorn4', 'baratacorn4', 'baratacorn4', 'baratacorn4', 'baratacorn4', 'baratacorn4', 'baratacorn4', 'baratacorn4', 'baratacorn4', 'baratacorn4', 'addison_d', 'addison_d', 'addison_d', 'addison_d', 'addison_d', 'addison_d', 'addison_d', 'addison_d', 'addison_d', 'addison_d', 'addison_d', 'addison_d', 'addison_d', 'addison_d', 'addison_d', 'addison_d', 'addison_d', 'addison_d', 'addison_d', 'addison_d', 'addison_d', 'addison_d', 'addison_d', 'addison_d', 'addison_d', 'addison_d', 'addison_d', 'addison_d', 'addison_d', 'addison_d', 'addison_d', 'addison_d', 'addison_d', 'addison_d', 'addison_d', 'addison_d', 'addison_d', 'addison_d', 'addison_d', 'addison_d', 'addison_d', 'addison_d', 'addison_d', 'addison_d', 'addison_d', 'addison_d', 'addison_d', 'addison_d', 'addison_d', 'addison_d', 'mateo1232', 'mateo1232', 'mateo1232', 'mateo1232', 'mateo1232', 'mateo1232', 'mateo1232', 'mateo1232', 'mateo1232', 'mateo1232', 'mateo1232', 'mateo1232', 'mateo1232', 'mateo1232', 'mateo1232', 'mateo1232', 'mateo1232', 'mateo1232', 'mateo1232', 'mateo1232', 'mateo1232', 'mateo1232', 'mateo1232', 'mateo1232', 'mateo1232', 'mateo1232', 'mateo1232', 'mateo1232', 'mateo1232', 'mateo1232', 'mateo1232', 'mateo1232', 'mateo1232', 'mateo1232', 'mateo1232', 'mateo1232', 'mateo1232', 'mateo1232', 'mateo1232', 'mateo1232', 'mateo1232', 'mateo1232', 'mateo1232', 'mateo1232', 'mateo1232', 'mateo1232', 'mateo1232', 'mateo1232', 'mateo1232', 'mateo1232', 'Labotx95', 'Labotx95', 'Labotx95', 'Labotx95', 'Labotx95', 'Labotx95', 'Labotx95', 'Labotx95', 'Labotx95', 'Labotx95', 'Labotx95', 'Labotx95', 'Labotx95', 'Labotx95', 'Labotx95', 'Labotx95', 'Labotx95', 'Labotx95', 'Labotx95', 'Labotx95', 'Labotx95', 'Labotx95', 'Labotx95', 'Labotx95', 'Labotx95', 'Labotx95', 'Labotx95', 'Labotx95', 'Labotx95', 'Labotx95', 'Labotx95', 'Labotx95', 'Labotx95', 'Labotx95', 'Labotx95', 'Labotx95', 'Labotx95', 'Labotx95', 'Labotx95', 'Labotx95', 'Labotx95', 'Labotx95', 'Labotx95', 'Labotx95', 'Labotx95', 'Labotx95', 'Labotx95', 'Labotx95', 'Labotx95', 'Labotx95', 'Kinematosis', 'Kinematosis', 'Kinematosis', 'Kinematosis', 'Kinematosis', 'Kinematosis', 'Kinematosis', 'Kinematosis', 'Kinematosis', 'Kinematosis', 'Kinematosis', 'Kinematosis', 'Kinematosis', 'Kinematosis', 'Kinematosis', 'Kinematosis', 'Kinematosis', 'Kinematosis', 'Kinematosis', 'Kinematosis', 'Kinematosis', 'Kinematosis', 'Kinematosis', 'Kinematosis', 'Kinematosis', 'Kinematosis', 'Kinematosis', 'Kinematosis', 'Kinematosis', 'Kinematosis', 'Kinematosis', 'Kinematosis', 'Kinematosis', 'Kinematosis', 'Kinematosis', 'Kinematosis', 'Kinematosis', 'Kinematosis', 'Kinematosis', 'Kinematosis', 'Kinematosis', 'Kinematosis', 'Kinematosis', 'Kinematosis', 'Kinematosis', 'Kinematosis', 'Kinematosis', 'Kinematosis', 'Kinematosis', 'Kinematosis', 'numanuma_', 'numanuma_', 'numanuma_', 'numanuma_', 'numanuma_', 'numanuma_', 'numanuma_', 'numanuma_', 'numanuma_', 'numanuma_', 'numanuma_', 'numanuma_', 'numanuma_', 'numanuma_', 'numanuma_', 'numanuma_', 'numanuma_', 'numanuma_', 'numanuma_', 'numanuma_', 'numanuma_', 'numanuma_', 'numanuma_', 'numanuma_', 'numanuma_', 'numanuma_', 'numanuma_', 'numanuma_', 'numanuma_', 'numanuma_', 'numanuma_', 'numanuma_', 'numanuma_', 'numanuma_', 'numanuma_', 'numanuma_', 'numanuma_', 'numanuma_', 'numanuma_', 'numanuma_', 'numanuma_', 'numanuma_', 'numanuma_', 'numanuma_', 'numanuma_', 'numanuma_', 'numanuma_', 'numanuma_', 'numanuma_', 'numanuma_', 'ayawaska1', 'ayawaska1', 'ayawaska1', 'ayawaska1', 'ayawaska1', 'ayawaska1', 'ayawaska1', 'ayawaska1', 'ayawaska1', 'ayawaska1', 'ayawaska1', 'ayawaska1', 'ayawaska1', 'ayawaska1', 'ayawaska1', 'ayawaska1', 'ayawaska1', 'ayawaska1', 'ayawaska1', 'ayawaska1', 'ayawaska1', 'ayawaska1', 'ayawaska1', 'ayawaska1', 'ayawaska1', 'ayawaska1', 'ayawaska1', 'ayawaska1', 'ayawaska1', 'ayawaska1', 'ayawaska1', 'ayawaska1', 'ayawaska1', 'ayawaska1', 'ayawaska1', 'ayawaska1', 'ayawaska1', 'ayawaska1', 'ayawaska1', 'ayawaska1', 'ayawaska1', 'ayawaska1', 'ayawaska1', 'ayawaska1', 'ayawaska1', 'ayawaska1', 'ayawaska1', 'ayawaska1', 'ayawaska1', 'ayawaska1', 'guywithaqmark', 'guywithaqmark', 'guywithaqmark', 'guywithaqmark', 'guywithaqmark', 'guywithaqmark', 'guywithaqmark', 'guywithaqmark', 'guywithaqmark', 'guywithaqmark', 'guywithaqmark', 'guywithaqmark', 'guywithaqmark', 'guywithaqmark', 'guywithaqmark', 'guywithaqmark', 'guywithaqmark', 'guywithaqmark', 'guywithaqmark', 'guywithaqmark', 'guywithaqmark', 'guywithaqmark', 'guywithaqmark', 'guywithaqmark', 'guywithaqmark', 'guywithaqmark', 'guywithaqmark', 'guywithaqmark', 'guywithaqmark', 'guywithaqmark', 'guywithaqmark', 'guywithaqmark', 'guywithaqmark', 'guywithaqmark', 'guywithaqmark', 'guywithaqmark', 'guywithaqmark', 'guywithaqmark', 'guywithaqmark', 'guywithaqmark', 'guywithaqmark', 'guywithaqmark', 'guywithaqmark', 'guywithaqmark', 'guywithaqmark', 'guywithaqmark', 'guywithaqmark', 'guywithaqmark', 'guywithaqmark', 'guywithaqmark', 'rtasriel', 'rtasriel', 'rtasriel', 'rtasriel', 'rtasriel', 'rtasriel', 'rtasriel', 'rtasriel', 'rtasriel', 'rtasriel', 'rtasriel', 'rtasriel', 'rtasriel', 'rtasriel', 'rtasriel', 'rtasriel', 'rtasriel', 'rtasriel', 'rtasriel', 'rtasriel', 'rtasriel', 'rtasriel', 'rtasriel', 'rtasriel', 'rtasriel', 'rtasriel', 'rtasriel', 'rtasriel', 'rtasriel', 'rtasriel', 'rtasriel', 'rtasriel', 'rtasriel', 'rtasriel', 'rtasriel', 'rtasriel', 'rtasriel', 'rtasriel', 'rtasriel', 'rtasriel', 'rtasriel', 'rtasriel', 'rtasriel', 'rtasriel', 'rtasriel', 'rtasriel', 'rtasriel', 'rtasriel', 'rtasriel', 'rtasriel', 'anoond', 'anoond', 'anoond', 'anoond', 'anoond', 'anoond', 'anoond', 'anoond', 'anoond', 'anoond', 'anoond', 'anoond', 'anoond', 'anoond', 'anoond', 'anoond', 'anoond', 'anoond', 'anoond', 'anoond', 'anoond', 'anoond', 'anoond', 'anoond', 'anoond', 'anoond', 'anoond', 'anoond', 'anoond', 'anoond', 'anoond', 'anoond', 'anoond', 'anoond', 'anoond', 'anoond', 'anoond', 'anoond', 'anoond', 'anoond', 'anoond', 'anoond', 'anoond', 'anoond', 'anoond', 'anoond', 'anoond', 'anoond', 'anoond', 'anoond', 'maxwellk10', 'maxwellk10', 'maxwellk10', 'maxwellk10', 'maxwellk10', 'maxwellk10', 'maxwellk10', 'maxwellk10', 'maxwellk10', 'maxwellk10', 'maxwellk10', 'maxwellk10', 'maxwellk10', 'maxwellk10', 'maxwellk10', 'maxwellk10', 'maxwellk10', 'maxwellk10', 'maxwellk10', 'maxwellk10', 'maxwellk10', 'maxwellk10', 'maxwellk10', 'maxwellk10', 'maxwellk10', 'maxwellk10', 'maxwellk10', 'maxwellk10', 'maxwellk10', 'maxwellk10', 'maxwellk10', 'maxwellk10', 'maxwellk10', 'maxwellk10', 'maxwellk10', 'maxwellk10', 'maxwellk10', 'maxwellk10', 'maxwellk10', 'maxwellk10', 'maxwellk10', 'maxwellk10', 'maxwellk10', 'maxwellk10', 'maxwellk10', 'maxwellk10', 'maxwellk10', 'maxwellk10', 'maxwellk10', 'maxwellk10', 'weldingbrick', 'weldingbrick', 'weldingbrick', 'weldingbrick', 'weldingbrick', 'weldingbrick', 'weldingbrick', 'weldingbrick', 'weldingbrick', 'weldingbrick', 'weldingbrick', 'weldingbrick', 'weldingbrick', 'weldingbrick', 'weldingbrick', 'weldingbrick', 'weldingbrick', 'weldingbrick', 'weldingbrick', 'weldingbrick', 'weldingbrick', 'weldingbrick', 'weldingbrick', 'weldingbrick', 'weldingbrick', 'weldingbrick', 'weldingbrick', 'weldingbrick', 'weldingbrick', 'weldingbrick', 'weldingbrick', 'weldingbrick', 'weldingbrick', 'weldingbrick', 'weldingbrick', 'weldingbrick', 'weldingbrick', 'weldingbrick', 'weldingbrick', 'weldingbrick', 'weldingbrick', 'weldingbrick', 'weldingbrick', 'weldingbrick', 'weldingbrick', 'weldingbrick', 'weldingbrick', 'weldingbrick', 'weldingbrick', 'weldingbrick', 'Marz_bruh', 'Marz_bruh', 'Marz_bruh', 'Marz_bruh', 'Marz_bruh', 'Marz_bruh', 'Marz_bruh', 'Marz_bruh', 'Marz_bruh', 'Marz_bruh', 'Marz_bruh', 'Marz_bruh', 'Marz_bruh', 'Marz_bruh', 'Marz_bruh', 'Marz_bruh', 'Marz_bruh', 'Marz_bruh', 'Marz_bruh', 'Marz_bruh', 'Marz_bruh', 'Marz_bruh', 'Marz_bruh', 'Marz_bruh', 'Marz_bruh', 'Marz_bruh', 'Marz_bruh', 'Marz_bruh', 'Marz_bruh', 'Marz_bruh', 'Marz_bruh', 'Marz_bruh', 'Marz_bruh', 'Marz_bruh', 'Marz_bruh', 'Marz_bruh', 'Marz_bruh', 'Marz_bruh', 'Marz_bruh', 'Marz_bruh', 'Marz_bruh', 'Marz_bruh', 'Marz_bruh', 'Marz_bruh', 'Marz_bruh', 'Marz_bruh', 'Marz_bruh', 'Marz_bruh', 'Marz_bruh', 'Marz_bruh', 'how_aud', 'how_aud', 'how_aud', 'how_aud', 'how_aud', 'how_aud', 'how_aud', 'how_aud', 'how_aud', 'how_aud', 'how_aud', 'how_aud', 'how_aud', 'how_aud', 'how_aud', 'how_aud', 'how_aud', 'how_aud', 'how_aud', 'how_aud', 'how_aud', 'how_aud', 'how_aud', 'how_aud', 'how_aud', 'how_aud', 'how_aud', 'how_aud', 'how_aud', 'how_aud', 'how_aud', 'how_aud', 'how_aud', 'how_aud', 'how_aud', 'how_aud', 'how_aud', 'how_aud', 'how_aud', 'how_aud', 'how_aud', 'how_aud', 'how_aud', 'how_aud', 'how_aud', 'how_aud', 'how_aud', 'how_aud', 'how_aud', 'how_aud', 'avvisa', 'avvisa', 'avvisa', 'avvisa', 'avvisa', 'avvisa', 'avvisa', 'avvisa', 'avvisa', 'avvisa', 'avvisa', 'avvisa', 'avvisa', 'avvisa', 'avvisa', 'avvisa', 'avvisa', 'avvisa', 'avvisa', 'avvisa', 'avvisa', 'avvisa', 'avvisa', 'avvisa', 'avvisa', 'avvisa', 'avvisa', 'avvisa', 'avvisa', 'avvisa', 'avvisa', 'avvisa', 'avvisa', 'avvisa', 'avvisa', 'avvisa', 'avvisa', 'avvisa', 'avvisa', 'avvisa', 'avvisa', 'avvisa', 'avvisa', 'avvisa', 'avvisa', 'avvisa', 'avvisa', 'avvisa', 'avvisa', 'avvisa', 'DiegoVazquez77', 'DiegoVazquez77', 'DiegoVazquez77', 'DiegoVazquez77', 'DiegoVazquez77', 'DiegoVazquez77', 'DiegoVazquez77', 'DiegoVazquez77', 'DiegoVazquez77', 'DiegoVazquez77', 'DiegoVazquez77', 'DiegoVazquez77', 'DiegoVazquez77', 'DiegoVazquez77', 'DiegoVazquez77', 'DiegoVazquez77', 'DiegoVazquez77', 'DiegoVazquez77', 'DiegoVazquez77', 'DiegoVazquez77', 'DiegoVazquez77', 'DiegoVazquez77', 'DiegoVazquez77', 'DiegoVazquez77', 'DiegoVazquez77', 'DiegoVazquez77', 'DiegoVazquez77', 'DiegoVazquez77', 'DiegoVazquez77', 'DiegoVazquez77', 'DiegoVazquez77', 'DiegoVazquez77', 'DiegoVazquez77', 'DiegoVazquez77', 'DiegoVazquez77', 'DiegoVazquez77', 'DiegoVazquez77', 'DiegoVazquez77', 'DiegoVazquez77', 'DiegoVazquez77', 'DiegoVazquez77', 'DiegoVazquez77', 'DiegoVazquez77', 'DiegoVazquez77', 'DiegoVazquez77', 'DiegoVazquez77', 'DiegoVazquez77', 'DiegoVazquez77', 'DiegoVazquez77', 'DiegoVazquez77', 'CookieHoliday', 'CookieHoliday', 'CookieHoliday', 'CookieHoliday', 'CookieHoliday', 'CookieHoliday', 'CookieHoliday', 'CookieHoliday', 'CookieHoliday', 'CookieHoliday', 'CookieHoliday', 'CookieHoliday', 'CookieHoliday', 'CookieHoliday', 'CookieHoliday', 'CookieHoliday', 'CookieHoliday', 'CookieHoliday', 'CookieHoliday', 'CookieHoliday', 'CookieHoliday', 'CookieHoliday', 'CookieHoliday', 'CookieHoliday', 'CookieHoliday', 'CookieHoliday', 'CookieHoliday', 'CookieHoliday', 'CookieHoliday', 'CookieHoliday', 'CookieHoliday', 'CookieHoliday', 'CookieHoliday', 'CookieHoliday', 'CookieHoliday', 'CookieHoliday', 'CookieHoliday', 'CookieHoliday', 'CookieHoliday', 'CookieHoliday', 'CookieHoliday', 'CookieHoliday', 'CookieHoliday', 'CookieHoliday', 'CookieHoliday', 'CookieHoliday', 'CookieHoliday', 'CookieHoliday', 'CookieHoliday', 'CookieHoliday', 'pxrea', 'pxrea', 'pxrea', 'pxrea', 'pxrea', 'pxrea', 'pxrea', 'pxrea', 'pxrea', 'pxrea', 'pxrea', 'pxrea', 'pxrea', 'pxrea', 'pxrea', 'pxrea', 'pxrea', 'pxrea', 'pxrea', 'pxrea', 'pxrea', 'pxrea', 'pxrea', 'pxrea', 'pxrea', 'pxrea', 'pxrea', 'pxrea', 'pxrea', 'pxrea', 'pxrea', 'pxrea', 'pxrea', 'pxrea', 'pxrea', 'pxrea', 'pxrea', 'pxrea', 'pxrea', 'pxrea', 'pxrea', 'pxrea', 'pxrea', 'pxrea', 'pxrea', 'pxrea', 'pxrea', 'pxrea', 'pxrea', 'pxrea', 'kt3301', 'kt3301', 'kt3301', 'kt3301', 'kt3301', 'kt3301', 'kt3301', 'kt3301', 'kt3301', 'kt3301', 'kt3301', 'kt3301', 'kt3301', 'kt3301', 'kt3301', 'kt3301', 'kt3301', 'kt3301', 'kt3301', 'kt3301', 'kt3301', 'kt3301', 'kt3301', 'kt3301', 'kt3301', 'kt3301', 'kt3301', 'kt3301', 'kt3301', 'kt3301', 'kt3301', 'kt3301', 'kt3301', 'kt3301', 'kt3301', 'kt3301', 'kt3301', 'kt3301', 'kt3301', 'kt3301', 'kt3301', 'kt3301', 'kt3301', 'kt3301', 'kt3301', 'kt3301', 'kt3301', 'kt3301', 'kt3301', 'kt3301', 'Anonymousmov', 'Anonymousmov', 'Anonymousmov', 'Anonymousmov', 'Anonymousmov', 'Anonymousmov', 'Anonymousmov', 'Anonymousmov', 'Anonymousmov', 'Anonymousmov', 'Anonymousmov', 'Anonymousmov', 'Anonymousmov', 'Anonymousmov', 'Anonymousmov', 'Anonymousmov', 'Anonymousmov', 'Anonymousmov', 'Anonymousmov', 'Anonymousmov', 'Anonymousmov', 'Anonymousmov', 'Anonymousmov', 'Anonymousmov', 'Anonymousmov', 'Anonymousmov', 'Anonymousmov', 'Anonymousmov', 'Anonymousmov', 'Anonymousmov', 'Anonymousmov', 'Anonymousmov', 'Anonymousmov', 'Anonymousmov', 'Anonymousmov', 'Anonymousmov', 'Anonymousmov', 'Anonymousmov', 'Anonymousmov', 'Anonymousmov', 'Anonymousmov', 'Anonymousmov', 'Anonymousmov', 'Anonymousmov', 'Anonymousmov', 'Anonymousmov', 'Anonymousmov', 'Anonymousmov', 'Anonymousmov', 'Anonymousmov', 'PHChronos', 'PHChronos', 'PHChronos', 'PHChronos', 'PHChronos', 'PHChronos', 'PHChronos', 'PHChronos', 'PHChronos', 'PHChronos', 'PHChronos', 'PHChronos', 'PHChronos', 'PHChronos', 'PHChronos', 'PHChronos', 'PHChronos', 'PHChronos', 'PHChronos', 'PHChronos', 'PHChronos', 'PHChronos', 'PHChronos', 'PHChronos', 'PHChronos', 'PHChronos', 'PHChronos', 'PHChronos', 'PHChronos', 'PHChronos', 'PHChronos', 'PHChronos', 'PHChronos', 'PHChronos', 'PHChronos', 'PHChronos', 'PHChronos', 'PHChronos', 'PHChronos', 'PHChronos', 'PHChronos', 'PHChronos', 'PHChronos', 'PHChronos', 'PHChronos', 'PHChronos', 'PHChronos', 'PHChronos', 'PHChronos', 'PHChronos', 'Kid_aw', 'Kid_aw', 'Kid_aw', 'Kid_aw', 'Kid_aw', 'Kid_aw', 'Kid_aw', 'Kid_aw', 'Kid_aw', 'Kid_aw', 'Kid_aw', 'Kid_aw', 'Kid_aw', 'Kid_aw', 'Kid_aw', 'Kid_aw', 'Kid_aw', 'Kid_aw', 'Kid_aw', 'Kid_aw', 'Kid_aw', 'Kid_aw', 'Kid_aw', 'Kid_aw', 'Kid_aw', 'Kid_aw', 'Kid_aw', 'Kid_aw', 'Kid_aw', 'Kid_aw', 'Kid_aw', 'Kid_aw', 'Kid_aw', 'Kid_aw', 'Kid_aw', 'Kid_aw', 'Kid_aw', 'Kid_aw', 'Kid_aw', 'Kid_aw', 'Kid_aw', 'Kid_aw', 'Kid_aw', 'Kid_aw', 'Kid_aw', 'Kid_aw', 'Kid_aw', 'Kid_aw', 'Kid_aw', 'Kid_aw', 'smelltoxic', 'smelltoxic', 'smelltoxic', 'smelltoxic', 'smelltoxic', 'smelltoxic', 'smelltoxic', 'smelltoxic', 'smelltoxic', 'smelltoxic', 'smelltoxic', 'smelltoxic', 'smelltoxic', 'smelltoxic', 'smelltoxic', 'smelltoxic', 'smelltoxic', 'smelltoxic', 'smelltoxic', 'smelltoxic', 'smelltoxic', 'smelltoxic', 'smelltoxic', 'smelltoxic', 'smelltoxic', 'smelltoxic', 'smelltoxic', 'smelltoxic', 'smelltoxic', 'smelltoxic', 'smelltoxic', 'smelltoxic', 'smelltoxic', 'smelltoxic', 'smelltoxic', 'smelltoxic', 'smelltoxic', 'smelltoxic', 'smelltoxic', 'smelltoxic', 'smelltoxic', 'smelltoxic', 'smelltoxic', 'smelltoxic', 'smelltoxic', 'smelltoxic', 'smelltoxic', 'smelltoxic', 'smelltoxic', 'smelltoxic', 'iwnaras', 'iwnaras', 'iwnaras', 'iwnaras', 'iwnaras', 'iwnaras', 'iwnaras', 'iwnaras', 'iwnaras', 'iwnaras', 'iwnaras', 'iwnaras', 'iwnaras', 'iwnaras', 'iwnaras', 'iwnaras', 'iwnaras', 'iwnaras', 'iwnaras', 'iwnaras', 'iwnaras', 'iwnaras', 'iwnaras', 'iwnaras', 'iwnaras', 'iwnaras', 'iwnaras', 'iwnaras', 'iwnaras', 'iwnaras', 'iwnaras', 'iwnaras', 'iwnaras', 'iwnaras', 'iwnaras', 'iwnaras', 'iwnaras', 'iwnaras', 'iwnaras', 'iwnaras', 'iwnaras', 'iwnaras', 'iwnaras', 'iwnaras', 'iwnaras', 'iwnaras', 'iwnaras', 'iwnaras', 'iwnaras', 'iwnaras', 'Hay-zel', 'Hay-zel', 'Hay-zel', 'Hay-zel', 'Hay-zel', 'Hay-zel', 'Hay-zel', 'Hay-zel', 'Hay-zel', 'Hay-zel', 'Hay-zel', 'Hay-zel', 'Hay-zel', 'Hay-zel', 'Hay-zel', 'Hay-zel', 'Hay-zel', 'Hay-zel', 'Hay-zel', 'Hay-zel', 'Hay-zel', 'Hay-zel', 'Hay-zel', 'Hay-zel', 'Hay-zel', 'Hay-zel', 'Hay-zel', 'Hay-zel', 'Hay-zel', 'Hay-zel', 'Hay-zel', 'Hay-zel', 'Hay-zel', 'Hay-zel', 'Hay-zel', 'Hay-zel', 'Hay-zel', 'Hay-zel', 'Hay-zel', 'Hay-zel', 'Hay-zel', 'Hay-zel', 'Hay-zel', 'Hay-zel', 'Hay-zel', 'Hay-zel', 'Hay-zel', 'Hay-zel', 'Hay-zel', 'Hay-zel', 'davxpr', 'davxpr', 'davxpr', 'davxpr', 'davxpr', 'davxpr', 'davxpr', 'davxpr', 'davxpr', 'davxpr', 'davxpr', 'davxpr', 'davxpr', 'davxpr', 'davxpr', 'davxpr', 'davxpr', 'davxpr', 'davxpr', 'davxpr', 'davxpr', 'davxpr', 'davxpr', 'davxpr', 'davxpr', 'davxpr', 'davxpr', 'davxpr', 'davxpr', 'davxpr', 'davxpr', 'davxpr', 'davxpr', 'davxpr', 'davxpr', 'davxpr', 'davxpr', 'davxpr', 'davxpr', 'davxpr', 'davxpr', 'davxpr', 'davxpr', 'davxpr', 'davxpr', 'davxpr', 'davxpr', 'davxpr', 'davxpr', 'davxpr', 'AllanZone', 'AllanZone', 'AllanZone', 'AllanZone', 'AllanZone', 'AllanZone', 'AllanZone', 'AllanZone', 'AllanZone', 'AllanZone', 'AllanZone', 'AllanZone', 'AllanZone', 'AllanZone', 'AllanZone', 'AllanZone', 'AllanZone', 'AllanZone', 'AllanZone', 'AllanZone', 'AllanZone', 'AllanZone', 'AllanZone', 'AllanZone', 'AllanZone', 'AllanZone', 'AllanZone', 'AllanZone', 'AllanZone', 'AllanZone', 'AllanZone', 'AllanZone', 'AllanZone', 'AllanZone', 'AllanZone', 'AllanZone', 'AllanZone', 'AllanZone', 'AllanZone', 'AllanZone', 'AllanZone', 'AllanZone', 'AllanZone', 'AllanZone', 'AllanZone', 'AllanZone', 'AllanZone', 'AllanZone', 'AllanZone', 'AllanZone', 'testtype02', 'testtype02', 'testtype02', 'testtype02', 'testtype02', 'testtype02', 'testtype02', 'testtype02', 'testtype02', 'testtype02', 'testtype02', 'testtype02', 'testtype02', 'testtype02', 'testtype02', 'testtype02', 'testtype02', 'testtype02', 'testtype02', 'testtype02', 'testtype02', 'testtype02', 'testtype02', 'testtype02', 'testtype02', 'testtype02', 'testtype02', 'testtype02', 'testtype02', 'testtype02', 'testtype02', 'testtype02', 'testtype02', 'testtype02', 'testtype02', 'testtype02', 'testtype02', 'testtype02', 'testtype02', 'testtype02', 'testtype02', 'testtype02', 'testtype02', 'testtype02', 'testtype02', 'testtype02', 'testtype02', 'testtype02', 'testtype02', 'testtype02', 'semihcc', 'semihcc', 'semihcc', 'semihcc', 'semihcc', 'semihcc', 'semihcc', 'semihcc', 'semihcc', 'semihcc', 'semihcc', 'semihcc', 'semihcc', 'semihcc', 'semihcc', 'semihcc', 'semihcc', 'semihcc', 'semihcc', 'semihcc', 'semihcc', 'semihcc', 'semihcc', 'semihcc', 'semihcc', 'semihcc', 'semihcc', 'semihcc', 'semihcc', 'semihcc', 'semihcc', 'semihcc', 'semihcc', 'semihcc', 'semihcc', 'semihcc', 'semihcc', 'semihcc', 'semihcc', 'semihcc', 'semihcc', 'semihcc', 'semihcc', 'semihcc', 'semihcc', 'semihcc', 'semihcc', 'semihcc', 'semihcc', 'semihcc', 'mudkipi', 'mudkipi', 'mudkipi', 'mudkipi', 'mudkipi', 'mudkipi', 'mudkipi', 'mudkipi', 'mudkipi', 'mudkipi', 'mudkipi', 'mudkipi', 'mudkipi', 'mudkipi', 'mudkipi', 'mudkipi', 'mudkipi', 'mudkipi', 'mudkipi', 'mudkipi', 'mudkipi', 'mudkipi', 'mudkipi', 'mudkipi', 'mudkipi', 'mudkipi', 'mudkipi', 'mudkipi', 'mudkipi', 'mudkipi', 'mudkipi', 'mudkipi', 'mudkipi', 'mudkipi', 'mudkipi', 'mudkipi', 'mudkipi', 'mudkipi', 'mudkipi', 'mudkipi', 'mudkipi', 'mudkipi', 'mudkipi', 'mudkipi', 'mudkipi', 'mudkipi', 'mudkipi', 'mudkipi', 'mudkipi', 'mudkipi', 'sapphicasf', 'sapphicasf', 'sapphicasf', 'sapphicasf', 'sapphicasf', 'sapphicasf', 'sapphicasf', 'sapphicasf', 'sapphicasf', 'sapphicasf', 'sapphicasf', 'sapphicasf', 'sapphicasf', 'sapphicasf', 'sapphicasf', 'sapphicasf', 'sapphicasf', 'sapphicasf', 'sapphicasf', 'sapphicasf', 'sapphicasf', 'sapphicasf', 'sapphicasf', 'sapphicasf', 'sapphicasf', 'sapphicasf', 'sapphicasf', 'sapphicasf', 'sapphicasf', 'sapphicasf', 'sapphicasf', 'sapphicasf', 'sapphicasf', 'sapphicasf', 'sapphicasf', 'sapphicasf', 'sapphicasf', 'sapphicasf', 'sapphicasf', 'sapphicasf', 'sapphicasf', 'sapphicasf', 'sapphicasf', 'sapphicasf', 'sapphicasf', 'sapphicasf', 'sapphicasf', 'sapphicasf', 'sapphicasf', 'sapphicasf', 'emabelickova', 'emabelickova', 'emabelickova', 'emabelickova', 'emabelickova', 'emabelickova', 'emabelickova', 'emabelickova', 'emabelickova', 'emabelickova', 'emabelickova', 'emabelickova', 'emabelickova', 'emabelickova', 'emabelickova', 'emabelickova', 'emabelickova', 'emabelickova', 'emabelickova', 'emabelickova', 'emabelickova', 'emabelickova', 'emabelickova', 'emabelickova', 'emabelickova', 'emabelickova', 'emabelickova', 'emabelickova', 'emabelickova', 'emabelickova', 'emabelickova', 'emabelickova', 'emabelickova', 'emabelickova', 'emabelickova', 'emabelickova', 'emabelickova', 'emabelickova', 'emabelickova', 'emabelickova', 'emabelickova', 'emabelickova', 'emabelickova', 'emabelickova', 'emabelickova', 'emabelickova', 'emabelickova', 'emabelickova', 'emabelickova', 'emabelickova', 'LuisPaez02', 'LuisPaez02', 'LuisPaez02', 'LuisPaez02', 'LuisPaez02', 'LuisPaez02', 'LuisPaez02', 'LuisPaez02', 'LuisPaez02', 'LuisPaez02', 'LuisPaez02', 'LuisPaez02', 'LuisPaez02', 'LuisPaez02', 'LuisPaez02', 'LuisPaez02', 'LuisPaez02', 'LuisPaez02', 'LuisPaez02', 'LuisPaez02', 'LuisPaez02', 'LuisPaez02', 'LuisPaez02', 'LuisPaez02', 'LuisPaez02', 'LuisPaez02', 'LuisPaez02', 'LuisPaez02', 'LuisPaez02', 'LuisPaez02', 'LuisPaez02', 'LuisPaez02', 'LuisPaez02', 'LuisPaez02', 'LuisPaez02', 'LuisPaez02', 'LuisPaez02', 'LuisPaez02', 'LuisPaez02', 'LuisPaez02', 'LuisPaez02', 'LuisPaez02', 'LuisPaez02', 'LuisPaez02', 'LuisPaez02', 'LuisPaez02', 'LuisPaez02', 'LuisPaez02', 'LuisPaez02', 'LuisPaez02', 'AbelgodXOTWOD', 'AbelgodXOTWOD', 'AbelgodXOTWOD', 'AbelgodXOTWOD', 'AbelgodXOTWOD', 'AbelgodXOTWOD', 'AbelgodXOTWOD', 'AbelgodXOTWOD', 'AbelgodXOTWOD', 'AbelgodXOTWOD', 'AbelgodXOTWOD', 'AbelgodXOTWOD', 'AbelgodXOTWOD', 'AbelgodXOTWOD', 'AbelgodXOTWOD', 'AbelgodXOTWOD', 'AbelgodXOTWOD', 'AbelgodXOTWOD', 'AbelgodXOTWOD', 'AbelgodXOTWOD', 'AbelgodXOTWOD', 'AbelgodXOTWOD', 'AbelgodXOTWOD', 'AbelgodXOTWOD', 'AbelgodXOTWOD', 'AbelgodXOTWOD', 'AbelgodXOTWOD', 'AbelgodXOTWOD', 'AbelgodXOTWOD', 'AbelgodXOTWOD', 'AbelgodXOTWOD', 'AbelgodXOTWOD', 'AbelgodXOTWOD', 'AbelgodXOTWOD', 'AbelgodXOTWOD', 'AbelgodXOTWOD', 'AbelgodXOTWOD', 'AbelgodXOTWOD', 'AbelgodXOTWOD', 'AbelgodXOTWOD', 'AbelgodXOTWOD', 'AbelgodXOTWOD', 'AbelgodXOTWOD', 'AbelgodXOTWOD', 'AbelgodXOTWOD', 'AbelgodXOTWOD', 'AbelgodXOTWOD', 'AbelgodXOTWOD', 'AbelgodXOTWOD', 'AbelgodXOTWOD', 'deicidios', 'deicidios', 'deicidios', 'deicidios', 'deicidios', 'deicidios', 'deicidios', 'deicidios', 'deicidios', 'deicidios', 'deicidios', 'deicidios', 'deicidios', 'deicidios', 'deicidios', 'deicidios', 'deicidios', 'deicidios', 'deicidios', 'deicidios', 'deicidios', 'deicidios', 'deicidios', 'deicidios', 'deicidios', 'deicidios', 'deicidios', 'deicidios', 'deicidios', 'deicidios', 'deicidios', 'deicidios', 'deicidios', 'deicidios', 'deicidios', 'deicidios', 'deicidios', 'deicidios', 'deicidios', 'deicidios', 'deicidios', 'deicidios', 'deicidios', 'deicidios', 'deicidios', 'deicidios', 'deicidios', 'deicidios', 'deicidios', 'deicidios'], [0, 1, 2, 3, 4, 5, 6, 7, 8, 9, 10, 11, 12, 13, 14, 15, 16, 17, 18, 19, 20, 21, 22, 23, 24, 25, 26, 27, 28, 29, 30, 31, 32, 33, 34, 35, 36, 37, 38, 39, 40, 41, 42, 43, 44, 45, 46, 47, 48, 49, 50, 51, 52, 53, 54, 55, 56, 57, 58, 59, 60, 61, 62, 63, 64, 65, 66, 67, 68, 69, 70, 71, 72, 73, 74, 75, 76, 77, 78, 79, 80, 81, 82, 83, 84, 85, 86, 87, 88, 89, 90, 91, 92, 93, 94, 95, 96, 97, 98, 99, 100, 101, 102, 103, 104, 105, 106, 107, 108, 109, 110, 111, 112, 113, 114, 115, 116, 117, 118, 119, 120, 121, 122, 123, 124, 125, 126, 127, 128, 129, 130, 5, 131, 132, 133, 134, 135, 136, 137, 138, 139, 3, 140, 141, 142, 143, 144, 145, 146, 147, 148, 149, 150, 151, 152, 153, 154, 155, 156, 157, 158, 159, 160, 161, 162, 163, 164, 165, 166, 167, 168, 169, 170, 171, 172, 173, 174, 175, 176, 177, 178, 179, 180, 181, 182, 183, 184, 185, 186, 187, 188, 189, 190, 191, 192, 193, 107, 194, 195, 196, 197, 198, 199, 200, 201, 202, 149, 203, 204, 205, 206, 74, 207, 208, 209, 210, 167, 4, 211, 212, 213, 214, 215, 216, 186, 217, 218, 219, 220, 221, 222, 223, 224, 225, 226, 227, 228, 229, 230, 231, 48, 173, 232, 233, 234, 153, 235, 236, 237, 238, 205, 239, 240, 199, 207, 241, 212, 242, 106, 72, 243, 198, 244, 245, 246, 217, 247, 248, 249, 226, 228, 224, 233, 204, 250, 251, 252, 253, 254, 255, 256, 257, 258, 259, 260, 261, 262, 263, 264, 265, 266, 102, 234, 267, 215, 209, 268, 269, 270, 271, 272, 273, 274, 275, 240, 258, 209, 276, 277, 278, 279, 280, 281, 282, 283, 284, 285, 286, 287, 170, 288, 253, 289, 72, 290, 291, 292, 293, 294, 295, 296, 297, 298, 299, 300, 217, 301, 302, 303, 304, 305, 306, 307, 308, 309, 310, 311, 312, 313, 314, 315, 316, 317, 318, 319, 320, 321, 322, 323, 324, 325, 326, 327, 328, 329, 330, 331, 332, 333, 334, 335, 336, 337, 338, 339, 340, 341, 342, 343, 344, 345, 346, 347, 348, 349, 350, 351, 352, 353, 354, 355, 356, 357, 358, 359, 360, 361, 362, 363, 364, 187, 365, 232, 173, 153, 366, 367, 368, 369, 370, 371, 372, 373, 165, 374, 375, 376, 148, 149, 377, 378, 162, 379, 380, 293, 381, 163, 382, 383, 384, 385, 231, 386, 387, 388, 177, 389, 390, 391, 392, 393, 394, 395, 396, 397, 398, 399, 400, 401, 402, 213, 201, 217, 74, 403, 404, 405, 406, 407, 215, 408, 409, 410, 411, 412, 413, 414, 415, 416, 417, 418, 419, 420, 421, 422, 71, 423, 424, 425, 426, 209, 427, 428, 221, 429, 430, 431, 432, 433, 434, 435, 436, 437, 438, 435, 439, 440, 441, 442, 443, 444, 445, 446, 447, 448, 158, 449, 450, 451, 452, 453, 454, 455, 456, 457, 458, 459, 398, 460, 461, 462, 463, 464, 465, 466, 104, 467, 100, 468, 469, 470, 471, 472, 197, 473, 474, 475, 476, 477, 478, 479, 480, 379, 481, 482, 221, 483, 173, 484, 485, 486, 487, 488, 489, 490, 491, 197, 492, 493, 494, 495, 496, 497, 498, 499, 500, 501, 502, 503, 504, 505, 506, 507, 508, 509, 510, 511, 512, 513, 514, 515, 516, 517, 518, 519, 520, 521, 522, 523, 524, 525, 526, 527, 528, 529, 530, 205, 531, 532, 533, 534, 535, 536, 537, 538, 167, 539, 540, 541, 542, 543, 544, 545, 546, 547, 548, 72, 549, 223, 550, 551, 552, 553, 554, 555, 556, 557, 558, 559, 560, 238, 561, 562, 563, 564, 565, 566, 567, 568, 569, 570, 387, 201, 571, 572, 197, 573, 574, 575, 80, 576, 577, 578, 451, 494, 80, 541, 579, 536, 580, 139, 106, 107, 575, 581, 582, 583, 584, 585, 542, 100, 223, 586, 102, 587, 588, 589, 590, 591, 592, 593, 594, 527, 595, 596, 597, 598, 599, 600, 105, 504, 439, 601, 602, 603, 604, 605, 606, 607, 608, 609, 610, 611, 612, 613, 614, 615, 616, 617, 618, 619, 620, 621, 218, 622, 623, 484, 624, 625, 626, 292, 627, 628, 629, 630, 631, 632, 633, 634, 635, 636, 637, 638, 639, 640, 236, 641, 642, 643, 644, 645, 646, 647, 648, 649, 197, 91, 650, 651, 652, 653, 72, 654, 655, 201, 656, 657, 202, 658, 659, 301, 660, 661, 477, 403, 217, 662, 197, 284, 663, 82, 555, 664, 665, 609, 666, 667, 668, 669, 670, 611, 671, 621, 313, 672, 673, 674, 675, 30, 676, 677, 678, 679, 80, 680, 681, 682, 683, 684, 685, 686, 239, 201, 687, 688, 255, 689, 690, 225, 423, 691, 692, 210, 693, 217, 694, 695, 72, 415, 234, 214, 533, 226, 219, 696, 697, 698, 699, 700, 701, 702, 703, 292, 704, 705, 706, 707, 437, 708, 709, 558, 710, 711, 712, 403, 713, 714, 715, 716, 717, 718, 719, 720, 721, 486, 722, 723, 406, 724, 725, 726, 727, 728, 729, 730, 731, 732, 733, 734, 735, 736, 737, 738, 739, 740, 741, 742, 486, 167, 743, 494, 744, 745, 746, 487, 747, 748, 749, 750, 751, 752, 753, 754, 755, 756, 211, 439, 757, 758, 759, 760, 165, 761, 762, 763, 139, 764, 765, 766, 216, 767, 768, 366, 769, 770, 771, 201, 772, 773, 774, 775, 711, 776, 253, 670, 367, 777, 778, 779, 780, 95, 365, 739, 781, 441, 782, 783, 784, 785, 197, 664, 238, 786, 787, 788, 789, 790, 791, 792, 793, 794, 60, 58, 795, 262, 796, 797, 798, 799, 560, 223, 536, 403, 541, 258, 800, 801, 802, 803, 804, 805, 806, 807, 808, 809, 630, 810, 811, 348, 812, 167, 813, 596, 814, 815, 816, 89, 817, 155, 818, 819, 551, 820, 821, 822, 823, 824, 534, 825, 826, 827, 828, 201, 829, 80, 830, 831, 313, 257, 832, 833, 834, 835, 254, 836, 837, 838, 839, 840, 284, 841, 842, 843, 844, 845, 846, 847, 848, 849, 850, 851, 852, 853, 854, 855, 856, 857, 858, 51, 859, 860, 861, 485, 862, 863, 864, 865, 866, 533, 817, 867, 868, 869, 870, 871, 872, 873, 24, 874, 875, 876, 877, 878, 879, 880, 881, 882, 754, 883, 837, 752, 884, 885, 201, 886, 887, 888, 889, 890, 769, 891, 892, 893, 894, 895, 896, 804, 897, 898, 403, 899, 900, 901, 902, 903, 743, 313, 904, 905, 346, 906, 907, 908, 909, 910, 173, 365, 187, 911, 912, 291, 913, 232, 914, 915, 916, 917, 298, 918, 919, 920, 921, 922, 923, 924, 925, 926, 927, 928, 929, 930, 931, 370, 932, 933, 934, 153, 935, 696, 936, 937, 633, 938, 939, 940, 941, 942, 943, 944, 945, 946, 947, 948, 949, 950, 951, 952, 953, 954, 955, 956, 957, 958, 959, 960, 74, 961, 962, 963, 964, 965, 966, 221, 967, 420, 968, 969, 970, 971, 972, 973, 86, 974, 975, 976, 977, 978, 731, 979, 223, 980, 981, 982, 983, 754, 139, 984, 985, 986, 918, 987, 988, 989, 771, 842, 990, 991, 992, 993, 441, 994, 995, 996, 997, 731, 998, 209, 999, 221, 1000, 1001, 1002, 1003, 239, 238, 789, 729, 1004, 201, 406, 1005, 1006, 1007, 288, 1008, 1009, 1010, 1011, 1012, 1013, 1014, 1015, 837, 217, 1016, 1017, 1018, 1019, 1020, 1021, 792, 72, 1022, 1023, 1024, 1025, 267, 1026, 1027, 1028, 1029, 82, 1018, 1030, 1031, 1032, 1033, 1034, 1035, 991, 1036, 1037, 1038, 1039, 1040, 412, 1041, 1042, 1043, 1003, 1044, 1045, 1046, 602, 1047, 1048, 1049, 1050, 916, 203, 1051, 1052, 1053, 1054, 1055, 1056, 1057, 382, 1058, 1059, 215, 224, 1060, 217, 72, 1061, 1062, 403, 1063, 60, 859, 1064, 769, 1065, 238, 1066, 1067, 1068, 1069, 313, 1070, 1071, 209, 1072, 1073, 835, 832, 1074, 1075, 1076, 1077, 1078, 201, 1079, 1080, 827, 1081, 1082, 642, 1083, 758, 284, 1084, 1085, 1086, 106, 1087, 378, 723, 1088, 1089, 1090, 2, 1091, 4, 26, 1092, 1093, 1094, 38, 1095, 1096, 1097, 12, 1098, 16, 15, 1099, 21, 1100, 48, 1101, 1102, 1103, 1104, 1105, 1106, 1107, 39, 13, 17, 1108, 1109, 11, 748, 1110, 718, 9, 1111, 1112, 1113, 1114, 1115, 1116, 1117, 1118, 725, 1119, 722, 1120, 369, 1121, 1122, 1123, 1124, 1125, 696, 1126, 401, 1127, 1128, 1129, 1130, 1131, 1132, 1133, 1134, 1135, 1136, 1137, 1138, 395, 399, 1139, 1140, 1141, 376, 308, 1142, 1143, 1144, 1145, 1146, 1147, 1148, 1149, 1150, 278, 1151, 1152, 386, 1153, 1154, 991, 1155, 1156, 1157, 1158, 1159, 1160, 1161, 873, 1162, 137, 1163, 536, 465, 1089, 1164, 567, 1165, 1166, 575, 1167, 1168, 25, 539, 1169, 1170, 115, 1171, 1172, 1173, 1174, 12, 1175, 1090, 1176, 1177, 202, 1178, 724, 1179, 1180, 1181, 1182, 1183, 1184, 154, 1185, 117, 213, 17, 1186, 1187, 1188, 722, 1189, 1190, 1191, 1192, 1193, 1194, 1195, 534, 1196, 542, 816, 155, 1197, 1198, 1199, 1200, 1201, 1202, 718, 1203, 1204, 608, 1205, 1206, 725, 541, 1207, 1208, 1209, 1210, 1211, 1212, 400, 1213, 1214, 874, 1215, 1216, 1217, 1218, 796, 1219, 1220, 1221, 1222, 1223, 1224, 415, 810, 1225, 1226, 1227, 1228, 1229, 267, 1230, 1231, 1232, 1233, 1234, 1235, 1236, 1237, 1238, 1239, 1240, 1241, 1242, 1243, 1244, 1245, 203, 757, 1246, 1247, 1248, 594, 1249, 1250, 730, 1251, 1252, 1253, 1254, 161, 1255, 1256, 1257, 1258, 1259, 1260, 1261, 1262, 1263, 1264, 1265, 1266, 1267, 1268, 1269, 1270, 451, 1271, 167, 1272, 1273, 1274, 835, 1275, 1276, 1277, 382, 1278, 201, 1279, 1036, 197, 1280, 1281, 1282, 1283, 72, 1284, 1285, 1286, 1287, 1288, 97, 1090, 209, 198, 329, 718, 403, 202, 1289, 796, 1290, 1291, 1292, 415, 734, 1293, 877, 731, 1294, 748, 1295, 739, 373, 721, 605, 723, 1089, 1296, 758, 1297, 1298, 202, 1299, 840, 978, 1300, 47, 1301, 1302, 91, 1303, 238, 816, 1304, 55, 1305, 534, 1306, 1307, 1070, 1308, 731, 1309, 74, 139, 114, 1310, 1311, 373, 1312, 970, 421, 630, 850, 1313, 1314, 567, 1315, 1316, 1317, 1318, 1319, 1320, 1321, 1322, 1323, 906, 575, 617, 1324, 796, 545, 30, 1325, 542, 1326, 1327, 567, 223, 602, 1328, 1329, 1330, 155, 1331, 534, 210, 211, 65, 630, 1302, 1332, 1333, 1334, 1335, 1039, 261, 1183, 739, 1336, 102, 554, 536, 1337, 1338, 840, 288, 1090, 914, 313, 1339, 1340, 1341, 1342, 1343, 1344, 1345, 1346, 1347, 373, 231, 177, 368, 153, 149, 1348, 290, 156, 163, 100, 1349, 1350, 377, 1351, 804, 1352, 1353, 1354, 1143, 1355, 1356, 1357, 1358, 1359, 385, 1360, 1361, 1362, 1363, 1364, 1365, 1366, 1367, 1368, 1369, 1370, 267, 1371, 1372, 1373, 148, 1374, 1375, 1376, 1377, 1378, 563, 914, 931, 217, 72, 1308, 405, 415, 198, 202, 1379, 1380, 1381, 207, 201, 1382, 417, 1383, 262, 1384, 423, 38, 209, 124, 17, 1385, 1386, 1387, 1388, 1389, 1306, 1390, 1391, 1392, 74, 1393, 212, 1394, 5, 1395, 1396, 1397, 197, 1398, 205, 1399, 1400, 1401, 1402, 245, 1403, 380, 346, 1404, 379, 1405, 1406, 1407, 1408, 1409, 1410, 1411, 385, 1412, 451, 1413, 186, 1414, 253, 1415, 196, 163, 1416, 923, 293, 1417, 1418, 373, 1419, 365, 1420, 1421, 1422, 166, 1423, 1424, 1425, 1426, 1427, 294, 1428, 624, 1429, 1430, 478, 1431, 1432, 452, 1433, 1434, 1435, 1436, 1437, 1438, 1439, 406, 1440, 1441, 221, 1442, 1443, 1444, 1445, 1446, 1447, 948, 1448, 960, 1449, 731, 1450, 1451, 1452, 1453, 1454, 1455, 857, 1456, 1457, 1458, 288, 1459, 810, 1460, 1461, 1462, 1463, 1464, 946, 1465, 1466, 1467, 1468, 1469, 1470, 1014, 1471, 718, 1472, 1473, 1474, 74, 796, 1475, 1476, 201, 1090, 403, 718, 1477, 739, 217, 1478, 1479, 1480, 1089, 721, 1481, 724, 1482, 1483, 167, 267, 14, 236, 734, 541, 58, 1484, 1485, 439, 722, 1486, 213, 1487, 205, 1488, 1489, 1490, 216, 728, 1491, 748, 215, 1492, 1493, 1494, 725, 1495, 1496, 103, 109, 307, 1497, 1498, 112, 1499, 1500, 1501, 80, 643, 1502, 1503, 1504, 642, 1505, 1506, 1507, 1508, 284, 1509, 1510, 1511, 723, 1512, 542, 1513, 1514, 72, 1515, 1516, 657, 638, 1517, 230, 701, 1518, 1519, 1520, 1521, 1522, 202, 1523, 273, 1524, 1525, 1526, 1527, 916, 1528, 1529, 771, 441, 1530, 1531, 689, 997, 1052, 1532, 1533, 1534, 1535, 203, 1536, 267, 1537, 1538, 988, 1539, 1540, 789, 1541, 1542, 993, 1006, 1543, 1544, 1545, 995, 1546, 1547, 992, 1548, 916, 1549, 1550, 1551, 234, 1552, 1553, 1554, 837, 1555, 1556, 1557, 1558, 1559, 1560, 1561, 1021, 1562, 17, 1, 1563, 1564, 16, 4, 12, 607, 1565, 1566, 1567, 867, 1093, 1568, 1569, 1570, 1571, 1572, 39, 1573, 1574, 1575, 981, 46, 24, 1576, 1577, 1578, 38, 44, 1563, 1579, 1563, 1580, 1581, 1582, 1583, 1584, 1585, 1586, 1587, 1588, 1589, 1590, 15, 1591, 1592, 597, 1593, 4, 74, 409, 13, 881, 106, 1594, 15, 48, 2, 1, 1595, 1596, 1597, 91, 80, 1384, 39, 1598, 1337, 117, 1599, 202, 1089, 262, 205, 946, 1600, 417, 17, 197, 1095, 1601, 1602, 16, 97, 102, 873, 1603, 1604, 1605, 1606, 1607, 1608, 1166, 1609, 1610, 198, 563, 1611, 1477, 1482, 267, 1475, 1481, 1478, 1612, 585, 1490, 1492, 1613, 1476, 1614, 1615, 1616, 1617, 1618, 1619, 1620, 1192, 1621, 1622, 203, 1623, 1624, 1625, 1626, 1627, 1628, 1629, 1630, 1631, 1632, 1633, 30, 1634, 1635, 1636, 1637, 1638, 1639, 1640, 1641, 1642, 1643, 1644, 1645, 1646, 1647, 1648, 906, 173, 366, 187, 367, 232, 402, 365, 167, 781, 380, 1649, 1650, 1651, 1652, 253, 378, 1653, 647, 1654, 370, 371, 1384, 1655, 1656, 1657, 1658, 186, 1659, 235, 1660, 165, 729, 1661, 1662, 201, 1123, 1663, 153, 651, 477, 1664, 909, 454, 216, 221, 72, 241, 1665, 617, 653, 1666, 1667, 656, 1668, 148, 1669, 1670, 617, 1671, 946, 1672, 1673, 50, 1674, 658, 657, 1675, 1676, 677, 1677, 1678, 957, 100, 197, 1679, 1448, 105, 74, 850, 659, 602, 1680, 80, 1681, 301, 1682, 660, 1683, 1684, 1685, 198, 954, 1686, 161, 217, 1447, 205, 948, 72, 1687, 197, 1278, 1089, 1688, 661, 1689, 167, 718, 1690, 541, 722, 4, 1275, 1090, 563, 605, 534, 1691, 724, 1692, 1693, 262, 725, 663, 1694, 1335, 1695, 1696, 723, 198, 542, 1294, 39, 1697, 721, 373, 1698, 241, 1094, 253, 1699, 813, 914, 1700, 1701, 1095, 965, 1702, 1036, 406, 217, 731, 221, 197, 201, 1014, 1703, 729, 743, 218, 202, 657, 239, 74, 72, 465, 1704, 1705, 205, 226, 1706, 1707, 1708, 1709, 1710, 262, 213, 1711, 1277, 597, 246, 1712, 198, 1603, 1713, 1714, 209, 1715, 572, 1272, 1716, 215, 810, 1717, 555, 1718, 207, 1497, 736, 1719, 1720, 229, 1721, 1722, 1723, 1724, 1725, 629, 205, 1726, 254, 51, 212, 201, 1727, 1728, 1729, 1730, 1731, 1732, 1733, 1734, 1735, 220, 207, 1736, 654, 1737, 1738, 114, 1739, 1062, 1740, 696, 881, 1741, 1742, 1743, 1744, 1745, 403, 1746, 1747, 1748, 1572, 1749, 1750, 1751, 250], ['Black Moon', 'D&G', 'FLASH DESIRE', 'Azeroy', 'Icedancer', 'Marjorie -W.C. Sinclair', 'AZEROY GARDEN 8888', 'SURGEON DOGMA', 'Last Bible', 'SWORDS', 'CRYSTAL HELIX', 'Gluee', 'EVERSINCE', 'BAROQUE', 'Contemporary Movement', 'Working on Dying', 'E', 'Red Light', 'Earlier Works Bootleg', 'Munnie Fetish Renegade Demon', 'Legendary Member', 'Let Me Go', 'VALERIA PULSAR', 'The Best Piece of Shit Vol. 3', 'Unknown Memory', 'e m o c e a n', 'CLAWS', 'Total Eclipse', 'Rare RCB hexD', 'Pale Swordsman', 'Minecraft - Volume Alpha', 'Чернь', 'outcome', 'Grimey Youth', 'HARDSTYLE DRILL 2009 NOKIA ANGELZ 1.6', 'rip bladee', '302? ionwan2go', 'SILENT HILL3 (Original Soundtrack)', '333', 'Trash Island', 'Yrrr Mind', 'Drakengard', 'so bitter', 'Unknown Death 2002', 'Bladeecity', 'Almighty So', 'Poison Ivy', 'Rainbow Bridge 3', 'The Fool', 'Kyoto', 'Drukqs', 'The Tired Sounds of Stars of the Lid', 'Selected Ambient Works Volume II', 'The Ape of Naples', 'Vivadixiesubmarinetransmissionplot', 'Soundtracks for the Blind', 'The Dance of the Moon and the Sun', 'Trust', 'Geogaddi', 'Zen Arcade', 'Music Has the Right to Children', 'Xuvetyn', 'Pink Flag', 'Ágætis byrjun', 'You Will Never Know Why', 'Hellfire', 'Exai', 'Velocity: Design: Comfort.', 'Feels', 'LP5', 'Quaristice', 'Tri Repetae', 'In Rainbows', 'Yanqui U.X.O.', 'Stratosphere', 'Ravedeath, 1972', 'Yerself Is Steam', 'From Here We Go Sublime', 'Haunt Me', 'Confield', 'The Glow, Pt. 2', 'The Campfire Headphase', 'A Moon Shaped Pool', 'Red House Painters I', 'Hitori + Kaiso (1998 - 2001)', 'Rounds', 'TNT', 'Born Into Trouble as the Sparks Fly Upward', 'Things We Lost In the Fire', 'Syro', 'Codename: Dustsucker', 'A Promise', '...I Care Because You Do', 'Oversteps', 'Washing Machine', 'Pygmalion', 'Amber', 'Untrue', 'Electro-Shock Blues', \"Love's Secret Domain (30th Anniversary 2021 Remaster) [Bonati]\", 'KiCk i', 'I Brought You My Bullets, You Brought Me Your Love', 'The Black Parade', 'His N Hers', 'Arca', 'KicK iii', 'Three Cheers for Sweet Revenge', 'KICK ii', 'Freaks', 'Danger Days: The True Lives of the Fabulous Killjoys', 'パンクの鬼 (Tokyo Anal Dynamite)', 'kiCK iiiii', 'Different Class', 'Mutant', 'Fetch', 'Chocolate Hearts and Stag Beetles', 'S/T', 'Early Works Bootleg', '4: AIDS-a-Delic', 'how many h8 can u feeling?', 'El Alma Que Te Trajo', 'Enemy Of The Azunyan Business', '@@@@@', 'OOIOO', '22nd Chances', 'Unlimited Ammo', 'WAHALLA', 'Instruments Disorder (170 Songs CD)', 'Yellow Trash Bazooka', 'Umeå', 'This Is Hardcore', 'Marjorie -W.C. Sinclair', 'Separations (Remastered)', 'Cutie Cutie', \"'77 Live\", \"What's Tonight To Eternity\", 'Oh! Mountain', 'Xen (????? Edition)', 'VOLCANIC BIRD ENEMY AND THE VOICED CONCERN', '空中キャンプ', 'あらためまして、はじめまして、ミドリです。', 'Azeroy', 'The Foundations of Decay', '[untitled]', 'This Is Not an Erect, All-Red Neon Body', 'It', 'Malenkost', 'Nothing Above, Nothing Below', 'Cable Hogue Soundtrack', '宇宙 日本 世田谷', 'Pang', 'Ultraviolence (Deluxe)', 'to hell with it', 'Galore', 'Beatopia', 'Norman Fucking Rockwell!', 'Essentials', 'Flower Boy', 'Sin Miedo (del Amor y Otros Demonios) ∞', 'Sensational', 'Max & Match', 'Nymph', 'Patched Up', 'CRASH', 'bOrN pInK', 'Lust for Life', 'Yves', 'Midnights (3am Edition)', 'Ctrl', 'Blonde', 'Fake It Flowers', 'Climate Hive', 'French Exit', 'Soft Forest Clappering', 'Sky Is Rumbling', 'evermore (deluxe version)', 'Weather Watcher', 'Black Panther the Album Music From and Inspired By', 'Rainward', 'Blue Banisters', 'Chemtrails Over the Country Club', 'Nano Wave Sounds', 'Rainy days and rainy nights', 'Relaxation Makers', 'Soft Waves', 'WE NEED LOVE', 'YOUNG-LUV.COM', 'Z', 'folklore', 'folklore (deluxe version)', 'Sleepy Storm', \"Qu'il y Ait Des Vagues\", '2021 Wave Sounds', 'Ocean HD Vol. 3', 'Latent Heat', 'Thriftless Thunder', 'KICK ii', 'CAPRISONGS', 'Luscious Rain', 'Isolation', 'Souvlaki', 'Around the Fur', 'Nevermind (Deluxe Edition)', 'unexpectedly', 'OK Computer', 'Loveless', 'Ultraviolence (Deluxe)', 'The Dark Side of the Moon', 'Adrenaline', 'White Pony', 'Kiss Me, Kiss Me, Kiss Me', 'Stratosphere', 'Saturday Night Wrist', \"Unknown Pleasures (Collector's Edition)\", 'Pablo Honey', 'Weezer', 'Blonde', 'Icedancer', 'The Rise and Fall of Ziggy Stardust and the Spiders from Mars (2012 Remaster)', 'Diamond Eyes', 'Deathconsciousness', 'MTV Unplugged in New York', 'Amnesiac', 'channel ORANGE', 'folklore', 'The Bends', 'Just for a Day', 'Bleach', 'Ohms', 'Hatful of Hollow', 'Siamese Dream (2011 - Remaster)', 'The Money Store', '13', 'The Colour and the Shape', 'In Utero - 20th Anniversary - Deluxe Edition', 'She Hangs Brightly', 'Gore', 'Koi No Yokan', 'Doolittle', 'Born to Die - The Paradise Edition', 'The Fool', 'evermore (deluxe version)', 'Lover', 'Blur: The Best Of', 'Incesticide', 'Norman Fucking Rockwell!', 'Retired from Sad, New Career in Business', 'Capsule Losing Contact', 'The Idiot', 'In the Aeroplane Over the Sea', 'White Pony', 'Nevermind (Remastered)', 'The Slow Rush', 'Nevermind (Deluxe Edition)', 'Saturday Night Wrist', 'When the Pawn...', 'Diamond Eyes', 'Fallen', 'Three Cheers for Sweet Revenge', 'In Rainbows', 'Mezmerize', 'Around the Fur', 'Metallica', 'Vol. 3: The Subliminal Verses', 'Hybrid Theory (Bonus Edition)', 'The Bends', 'Facelift', 'From Under the Cork Tree', 'BU-IKIKAESU', 'In Utero - 20th Anniversary - Deluxe Edition', 'Gore', '13', 'Blur: The Best Of', 'Adrenaline', 'Deftones', 'Sinner', 'Dynasty', 'Be the Cowboy', 'Absolution', 'In Utero - 20th Anniversary Remaster', 'System of a Down', 'Toxicity', 'Currents', 'Comedown Machine', 'Black Ice', 'Post', 'Twilight', 'Anywhere But Home (Live)', 'Use Your Illusion II', 'See You on the Other Side', 'St. Anger', 'The Black Parade', 'Incesticide', 'The Wall', 'Amnesiac', 'Pablo Honey', 'Awake', 'All Hope Is Gone (10th Anniversary)', 'Superunknown (Deluxe Edition)', 'Mrs Magic', 'I like it when you sleep, for you are so beautiful yet so unaware of it', 'A Brief Inquiry Into Online Relationships', 'Notes on a Conditional Form', 'The 1975', 'The Slow Rush', 'Currents', 'Pablo Honey', 'Oracular Spectacular', 'brand new eyes', 'Chip Chrome & The Mono-Tones (Deluxe)', 'Who Really Cares', 'The 1975 (Deluxe)', 'Congratulations', 'GABRIEL', 'Corinne Bailey Rae', 'Plastic Beach', 'Peripheral Vision', 'mOoDsWiNgS iN tO oRdEr', 'Sidelines', 'French Exit', 'Little Dark Age', 'Be the Cowboy', 'When You Come Around', 'In Rainbows', 'MATA', \"Harry's House\", 'The New Abnormal', 'RENAISSANCE', 'Daydream', 'Science & Faith', 'Moodswings In This Order', 'A Twist in My Story', 'Fine Line', \"Good Morning It's Now Tomorrow\", \"mama's boy\", 'The Bends', 'Once Twice Melody', 'TEMPORARY HIGHS IN THE VIOLET SKIES', 'Pastlife', 'The Night in Question: French Exit Outtakes', 'What Do You Really Know?', 'RIP Indo Hisashi', 'Wolfgang Amadeus Phoenix', 'gg bb xx', 'The Miseducation of Lauryn Hill', 'Being Funny In A Foreign Language', '22', 'Hopes and Fears', 'Demon Days', \"Brotherhood (Collector's Edition)\", 'One Nite Alone... Live!', 'Purple Rain (Deluxe) [Expanded Edition]', \"One Nite Alone... The Aftershow: It Ain't Over! (Up Late with Prince & the NPG) [Live]\", 'Anthology: 1995-2010', 'Indigo Nights / Live Sessions', 'Emancipation', \"Sign ''O'' the Times\", 'Live in London', 'Parade (Music from the Motion Picture Under the Cherry Moon)', 'Musicology', 'Graffiti Bridge', 'Live in Dublin', \"Don Juan's Reckless Daughter\", 'Piano & a Microphone 1983', '1999', 'Prince', 'Originals', 'Blue Gardenia', '3121', 'Diamonds and Pearls', 'One Nite Alone... (Solo piano and voice by Prince)', 'Love Symbol Album', 'For You', 'Purple Rain', 'Crystal Ball', 'The Rainbow Children', 'Court and Spark', 'Around the World in a Day', 'Shadows and Light', 'Sweet Soul Queen of New Orleans: The Irma Thomas Collection', '20Ten', 'Back to Black', 'The Truth', 'Hejira', 'Dirty Mind', 'Miles of Aisles', 'For the Roses', 'PLECTRUMELECTRUM', 'Live at Carnegie Hall 1972-02-23', 'Prince And The Revolution: Live', 'From Natchez To New York', 'The Hissing Of The Summer Lawns', 'Blue', 'Live at Red Rocks, 30.08.1983', 'River: The Joni Letters', \"A Woman's Viewpoint: The Essential 1970s Recordings\", 'Frank', 'Ulisses', 'Ladies of the Canyon', 'Preludes: Rare And Unreleased Recordings', 'folklore (deluxe version)', \"Red (Taylor's Version)\", 'Lover', 'evermore (deluxe version)', 'Norman Fucking Rockwell!', 'reputation', '1989 (Deluxe)', 'Honeymoon', 'Formula of Love: O+T=<3', \"Fearless (Taylor's Version)\", 'Speak Now', 'THE ALBUM', 'MOTOMAMI', 'Midnights (3am Edition)', 'Rare (Deluxe)', 'Savage - The 1st Mini Album', 'BETWEEN 1&2', 'Pang', 'Ultraviolence (Deluxe)', 'Born This Way (International Special Edition Version)', 'SOUR', 'bOrN pInK', 'Lemonade', 'Melodrama', 'RENAISSANCE', 'COR', 'Lust for Life', \"Hollywood's Bleeding\", 'CRASH (Deluxe)', 'The Perfect Red Velvet - The 2nd Album Repackage', 'Chromatica', 'Born to Die - The Paradise Edition', 'Feel Special', 'WHEN WE ALL FALL ASLEEP, WHERE DO WE GO?', 'Im Nayeon', 'Blue Banisters', 'Cry Baby (Deluxe Edition)', 'All My Demons Greeting Me As A Friend (Deluxe)', 'MORE & MORE', 'Scorpion', '28 Reasons - The 1st Mini Album', 'Revival (Deluxe)', 'Eyes wide open', 'K-12', 'Queendom - The 6th Mini Album', '[X X]', 'Hard to Imagine the Neighbourhood Ever Changing', 'More Life', 'Taste of Love', 'Red (Deluxe Edition)', 'Deathconsciousness', 'OK Computer', 'The Bends', 'Stratosphere', 'Kid A', 'Shame, Shame (Deluxe Edition)', 'Pinkerton - Deluxe Edition', 'The Smiths', 'Talk Talk Talk', 'Amnesiac', 'DEATH NOTE original soundtrack', 'Songs About Leaving', 'Aerial 13', 'First Utterance', 'The Devil and God Are Raging Inside Me', 'Shakers For You', 'Hard Normal Daddy', 'Is This It', 'How It Feels to Be Something On', 'D>E>A>T>H>M>E>T>A>L', 'Alucinaciones en familia', \"La Conferencia Secreta Del Toto'S Bar\", 'American Football', 'Obey', 'Voids', 'Tri Repetae', 'Room on Fire', 'Raro', 'Deloused in the Comatorium', 'Soy Una Arveja', 'Pablo Honey', 'Barranca Abajo', 'Restos de un incendio', 'Hatful of Hollow', 'Danganronpa : Trigger Happy Havoc Original Soundtrack', 'haha', 'Yankee Hotel Foxtrot', 'Down Colorful Hill', 'Electro-Soma', 'Damnation', 'Zanoza', 'Развлечение', 'Pinkerton', 'Lunatic Harness', 'Zanoza', 'Selected Ambient Works 85-92', 'one', 'Rubber Soul', 'You All Look the Same to Me', 'Split', 'Lush', 'The Colour in Anything', 'Overgrown', 'James Blake', '[#]', 'Max & Match', 'Endless', 'Assume Form', 'Hounds of Love', 'Broke with Expensive Taste', '[+ +]', 'Valentine', '[&]', '[12:00]', 'JinSoul', 'Charli', 'MAGDALENE', '[X X]', '333 (Deluxe)', 'Perfect Velvet - The 2nd Album', 'EP2', 'LP1', 'M3LL155X', 'Unknown Pleasures', 'Blood', 'Arca', 'Lungs (International Version)', 'KiCk i', 'Aromanticism', 'When I Get Home', 'CTRL (Deluxe)', 'Choerry', 'Kim Lip', 'Souvlaki', 'Clean', 'How Big, How Blue, How Beautiful (Deluxe)', 'Goddess (Deluxe)', 'Take Me Apart', 'Carrie & Lowell', 'Number 1 Angel', 'Summer Special [Flip That]', 'Ceremonials', 'Lemonade', 'Pop 2', 'Friends That Break Your Heart', 'Hatful of Hollow', 'Blue Bell Knoll', 'evermore (deluxe version)', \"What's Your Pleasure?\", 'In Colour', 'Artaud', 'Piano bar', 'The Sound of Perseverance - Reissue', 'Pride & Glory', 'Serú Girán', 'Deliverance', 'Souvlaki', 'Bangkok Shocks, Saigon Shakes, Hanoi Rocks', 'Complete and Total Hell', 'Clics modernos', 'No Mercy For Mayhem', 'Bardcore, Vol. 2', 'Rebel Yell', 'King for a Day, Fool for a Lifetime', 'Two Steps From the Move', 'Blood Sugar Sex Magik (Deluxe Edition)', \"Kill 'em All (Remastered)\", 'García 87/93', 'La Rue Morgue', 'Serú Girán (Remasterizado 2021)', 'En la Ruta', 'Brother', 'The Real Thing', 'How I Go', 'Stay Sick!', 'Skid Row', 'Spellbound', 'Phenomenon (2007 Remaster)', 'Peacemaker', 'Mellon Collie and the Infinite Sadness (Deluxe Edition)', 'An Ocean Between Us', 'Pubis Angelical / Yendo De La Cama Al Living', 'Night of the Blade ...The Night Before', 'Abrázame', 'Historias de un hijo del Blues', 'Too Fast for Love', 'Black Magic', 'Pescado Rabioso 2', 'Morbid Visions / Bestial Devastation', 'Temple of the Dog', 'Bitterness the Star', 'Cowboys From Hell', 'Divididos por la Felicidad', 'Gravity X', 'Brother Cane', 'Hints, Allegations & Things Left Unsaid', 'White Pony', 'Probot', 'Red Fang', 'Dirt', 'Madvillainy', 'Revenge', 'Veteran', 'who told you to think??!!?!?!?!', \"So The Flies Don't Come\", 'Blonde', 'Donuts', 'things that happen at day // things that happen at night', 'IGOR', 'Some Rap Songs', 'Anthology', '17', \"I Don't Like Shit, I Don't Go Outside: An Album by Earl Sweatshirt\", 'Harbor', 'Dark Comedy', 'By the Throat', 'In Rainbows', 'Look at Me! - Single', 'The Money Store', 'Sports', 'Bottomless Pit', 'Detour', 'When We Were Friends', 'The Impossible Kid', \"Whatever People Say I Am, That's What I'm Not\", 'The G.A.T. (The Gospel According To...)', 'let the sun talk', 'Hot Fuss', 'Hella Personal Film Festival', 'No Love Deep Web', 'In the Aeroplane Over the Sea', 'Japan', '1000 gecs', 'Twin Fantasy', 'Budding ornithologists are weary of tired analogies', 'purple moonlight pages', 'May God Bless Your Hustle', 'All My Heroes Are Cornballs', 'Skelethon', 'For Emma, Forever Ago', 'Hiding Places', 'WHEN WE ALL FALL ASLEEP, WHERE DO WE GO?', 'OK Computer', 'Scatterbrain', 'Favourite Worst Nightmare', 'Souvlaki', 'Malibu Ken', 'Marlowe 2', 'LP!', 'The Glow, Pt. 2', 'Since I Left You (20th Anniversary Deluxe Edition)', 'Peliculas', 'Promises', 'Hounds of Love', 'Clics modernos', 'The Glow, Pt. 2', 'IGOR', 'Music for Commercials', 'Veteran', 'Fantasma (remastered)', 'あらためまして、はじめまして、ミドリです。', 'Three Cheers for Sweet Revenge', 'KICK ii', 'LP!', 'La Grasa de las Capitales: Edición 40º Aniversario', 'Hosianna Mantra', 'Human Beings and Animals', 'Camera Talk (Remastered 2006)', 'The Piper at the Gates of Dawn', 'Some Rap Songs', 'KiCk i', 'The Money Store', \"Mother Earth's Plantasia\", 'The Black Parade', 'Kakashi', 'A Shape of Light \"A Silent Voice the Movie\" Original Soundtrack', 'THREE CHEERS FOR OUR SIDE~海へ行くつもりじゃなかった~ (Remastered 2006)', 'London Calling (Remastered)', 'A', 'TONDEMO-WONDERZ', 'Disintegration (Deluxe Edition)', 'The Kick Inside', 'Divididos por la Felicidad', 'Llegando los Monos', 'Exmilitary', 'Draining Love Story', 'Call Me By Your Name (Original Motion Picture Soundtrack)', 'Joy as an Act of Resistance.', 'Dawn FM', 'KicK iii', 'Serú Girán (Remasterizado 2021)', 'Selected Ambient Works 85-92', 'Tango', 'Ants From Up There', 'Omori (Original Game Soundtrack), Pt.3', 'Russian Roulette - The 3rd Mini Album', 'El Mal Querer', 'MAN PLAYS THE HORN', 'my love feels all wrong. digipak', \"What's Going On\", 'Have One on Me', 'Heartland', 'Ys', 'He Poos Clouds', 'In Conflict', 'Ten Love Songs', 'Emotion', 'All Mirrors', 'Titanic Rising', 'Rid of Me', 'White Chalk', 'The Milk-Eyed Mender', 'Vespertine', 'Just for a Day', 'Divers', 'Soft Sounds From Another Planet', \"What's Your Pleasure?\", 'Dedicated', 'Have You In My Wilderness', 'WLFGRL', 'The New Abnormal', 'Dedicated Side B', 'Has A Good Home', 'and Their Refinement of the Decline', 'Atrocity Exhibition', 'Set My Heart On Fire Immediately', 'Too Bright', 'Jubilee', 'Boys for Pele (Deluxe Edition)', 'Let England Shake', 'IMPOSSIBLE WEIGHT', 'Aviary', 'Sound Of Silver', 'Stories from the City, Stories from the Sea', 'Psychopomp', 'Capsule Losing Contact', 'Soviet Kitsch', 'This Is Happening', 'Modern Vampires of the City', 'Soul Lady', 'The Dreaming', 'New Long Leg', 'bury me at makeout creek', 'Pray For Paris', 'Begin to Hope', 'Souvlaki', 'A Promise', 'Loud City Song', 'MY WOMAN', 'Diaries', 'Teen Dream', 'In Rainbows', 'To See the Next Part of the Dream', 'Melophobia', 'OK Computer', 'Bloom', 'Depression Cherry', 'Loveless', 'Devotion', '7', 'Once Twice Melody', 'Thank Your Lucky Stars', 'Heaven or Las Vegas', 'Carrie & Lowell', 'Kid A', 'The Bends', 'Antisocialites', 'Souvlaki', 'Plastic Beach', 'Slowdive', 'A Moon Shaped Pool', \"Whatever People Say I Am, That's What I'm Not\", 'Homogenic', 'Social Cues', 'Have One on Me', '...Like Clockwork', 'Supermodel', 'Downfall of the Neon Youth', 'Treasure', 'Illinois', 'Ys', 'Villains', 'Vespertine', 'Demon Days', 'Pure Heroine (Extended)', \"Tell Me I'm Pretty\", 'Twenty One Pilots', 'Kodama', 'Minecraft - Volume Alpha', 'Vessel', 'Beach House', 'Weatherglow', 'Trench', 'The Glow, Pt. 2', 'Écailles de lune', \"Hurry Up, We're Dreaming\", 'm b v', 'Bon Iver', 'Sunbather', 'Let Go', 'Live Through This', 'Nevermind (Remastered)', 'OK Computer', 'Foo Fighters', 'Because of the Times', 'In Utero - 20th Anniversary Remaster', 'Aha Shake Heartbreak', 'Only by the Night', 'The Colour and the Shape', 'Room on Fire', 'Mechanical Bull (Expanded Edition)', 'When You See Yourself', 'Weezer', 'There Is Nothing Left to Lose', 'The Bends', 'Youth and Young Manhood', 'Come Around Sundown (Expanded Edition)', 'In Rainbows', 'Is This It', 'Incesticide', 'MTV Unplugged in New York', 'Dirt', 'In Utero - 20th Anniversary - Deluxe Edition', 'Bleach', 'AM', 'Celebrity Skin', 'Fantastic Planet', 'Everything All the Time', 'Colter Wall', 'First Impressions of Earth', 'Jar of Flies', 'Angles', 'The New Abnormal', 'Dirt (2022 Remaster)', 'WALLS', 'Alice in Chains', 'Brothers', 'Pinkerton', 'Stadium Arcadium', 'Cease to Begin', 'Hot Fuss', 'Things Are Great', 'summerteeth', 'Traveller', 'Kid A', 'Holy Roller Novocaine', 'Dookie', 'By the Way (Deluxe Edition)', 'Born To Die (Bonus Track Version)', 'Master Of Puppets (Remastered)', 'The Life of Pablo', 'Kamikaze', 'Peluson Of Milk', 'ye', 'Artaud', 'Donda', 'My Beautiful Dark Twisted Fantasy', 'The Smiths', 'Yeezus', 'Graduation', 'The Rise and Fall of Ziggy Stardust and the Spiders From Mars', 'Almendra', 'JESUS IS KING', 'Louder Than Bombs', 'London Calling', 'The Queen Is Dead', 'Vida', 'El jardín de los presentes', 'The College Dropout', 'Durazno Sangrando', 'Bocanada', 'Hunky Dory', 'Al final de este viaje...', 'Late Registration', 'Peperina', 'Muerte', 'Confesiones De Invierno', 'Artaud', 'Blonde', 'The Doors', 'Clics modernos', 'Dynamo', 'Amor Amarillo', 'Transformer', 'Piano bar', 'Clandestino... Esperando La Última Ola', '808s & Heartbreak', 'El Amor Después del Amor', 'Los Demenciales Chicos Acelerados', 'The Clash', 'Salad Days', 'Anti Todo', '2', 'Kortatu', '1964-1971', 'The Rise and Fall of Ziggy Stardust and the Spiders from Mars (2012 Remaster)', 'Selected Ambient Works 85-92', 'Static Age', 'The Velvet Underground & Nico 45th Anniversary', 'Ramones', 'Mahler: Symphony No. 5', 'Midnights (3am Edition)', 'The Beatles', 'Glenn Gould plays Schoenberg: Klavierstücke opp. 11, 19, 23, 33; Piano Suite op. 25; Piano Concerto op. 42; Fantasy for Violin & Piano op. 47; Ode to Napoleon Buonaparte op. 41; Lieder opp. 1; 2; 3; 6; 12; 14; 15; 48', 'Hawaii', 'あらためまして、はじめまして、ミドリです。', 'Mozart: The Complete Piano Concertos', 'Merriweather Post Pavilion', 'Saijiki', 'channel ORANGE', 'Debussy: complete orchestral works', 'Debussy: Complete Works for Piano', 'reputation', 'Mezzanine', 'Bavarian Fruit Bread', 'Abbey Road', 'OK Computer', 'Vivaldi Masterworks', 'Fossora', 'Bach, J.S.: Cantatas & Sacred Masterpieces', \"Sgt. Pepper's Lonely Hearts Club Band (Super Deluxe Edition)\", 'summerteeth', 'Modern Life Is Rubbish', 'Be the Cowboy', 'Illinois', '1989 (Deluxe)', '勝訴ストリップ', 'Departure', 'Suspiria (Music for the Luca Guadagnino Film)', 'Yankee Hotel Foxtrot (Deluxe Edition)', 'Pygmalion', \"Red (Taylor's Version)\", 'Late Registration', 'Midnights', 'Rubber Soul', '69 Love Songs', 'Fly', 'Phantom Thread (Original Motion Picture Soundtrack)', 'Lift Your Skinny Fists Like Antennas to Heaven', 'Souvlaki', 'Homogenic', 'In the Aeroplane Over the Sea', 'folklore: the long pond studio sessions (from the Disney+ special) [deluxe edition]', \"Le fabuleux destin d'Amélie Poulain (Bande originale du film)\", 'Past Masters (Vols. 1 & 2)', 'Revolver', 'Disintegration (Remastered)', 'Raciocínio Quebrado', 'KID A MNESIA', 'Emotion (Deluxe Expanded Edition)', 'Year of the Snitch', 'Music Has the Right to Children', 'Geogaddi', 'Galaxy 2 Galaxy: A High Tech Jazz Compilation', 'Twilight', 'To Pimp a Butterfly', 'Heroes', 'New Moon', 'Dubnobasswithmyheadman (20th Anniversary Remaster)', 'No Love Deep Web', 'The Money Store', 'Veteran', 'Kid A', 'IGOR', 'Currents', 'Somersault', 'Second Toughest In The Infants (Remastered)', 'RAMONA', 'Change', 'Visions', 'untitled unmastered.', 'CLANNAD ORIGINAL SOUNDTRACK DI', 'Lonerism', 'Government Plates', 'Crack-Up', 'Atrocity Exhibition', 'Endtroducing.....', 'InnerSpeaker', 'Hejira', 'Emergency & I', 'Blonde', 'DAMN.', 'Exmilitary', 'Bookends', 'Beaucoup Fish', 'Double Nickels on the Dime', 'Syro', 'Blackstar', 'Flower Boy', 'Sometimes I Sit and Think, and Sometimes I Just Sit', 'COOOL', 'Bottomless Pit', 'The Fat of the Land', 'Art Angels', \"Who Will Cut Our Hair When We're Gone? (Remastered)\", 'Second Edition', 'good kid, m.A.A.d city', 'Madvillainy', 'Low', 'cLOUDDEAD', 'The Downward Spiral', 'Tourist History', 'OK Computer', 'FINAL FANTASY VI (Original Soundtrack)', 'The Glow, Pt. 2', 'We Are Not Your Kind', 'Rust In Peace', 'Demon Days', 'Toxicity', 'Discovery', 'In Utero (20th Anniversary Edition)', 'The Fragile', 'Random Access Memories', 'Absolution', 'Giving The World Away', 'Nevermind', 'Black Holes and Revelations', 'Broken', 'Pink Moon', 'Plastic Beach', 'Velocity : Design : Comfort.', 'Abbey Road (Remastered)', 'Nite Versions', 'Pretty Hate Machine (Remastered)', 'Among the Living', 'Black On Both Sides', 'VEGA INTL. Night School', 'Songs from the Big Chair', 'The Powers That B', '…Because I’m Young Arrogant and Hate Everything You Stand For', 'With Teeth', 'Pretty Hate Machine', 'Screaming for Vengeance (Bonus Track Version)', 'Ladies and Gentlemen We Are Floating in Space', 'Mega Man X Sound Collection', 'Electric', 'Since I Left You', 'Metaphorical Music', 'The Tired Sounds of Stars of the Lid', 'Justice', 'Ghosts I-IV', 'Power, Corruption & Lies', 'In Colour', 'Big Fish Theory', 'Psychic Chasms', 'Polygon', 'HIRAETH', \"Peace Sells... But Who's Buying?\", 'Dirt', 'Blackstar', 'Stranger', 'Deep Cuts', 'Warlord (Deluxe)', 'Студень', 'HotLine Miami 2: Wrong Number', 'LONG.LIVE.A$AP (Deluxe Version)', 'Crystal Castles', 'Unknown Memory', 'Luv Is Rage 2', 'Hotline Miami', 'AT.LONG.LAST.A$AP', 'Dummy', 'Frost God', 'Silent Shout', 'My Love Is Cool', '(III)', \"Can't Sleep\", '2', 'Crystal Castles (II)', 'Nevermind', 'Salad Days', 'Portishead', 'Finally Rich', 'OK Computer', 'Гантеля', 'Stoney (Deluxe)', 'Mas Fuerte', 'Неизвест. альбом', 'Annabel Dream Reader', 'Mezzanine', 'MCMXC a.D.', 'King Night', 'Ignorance is Bliss', 'Does This Look Infected?', 'Exploding Head', 'Lil Boat 2', 'Visions', 'Long Ambients 1: Calm. Sleep', 'Fires in Heaven', 'Kid A', 'Close The Door', 'Kasabian', 'Do Not Lay Waste To Homes...', 'The South Got Something to Say', 'Meteora', 'The Doors', 'Demon Days', 'The Knife', 'Tragic City', 'Back to Black', 'Punisher', 'Montgomery Ricky', 'Alopecia (Reissue)', 'Stranger in the Alps (Deluxe Edition)', 'Harmony House', 'evermore (deluxe version)', \"Red (Taylor's Version)\", 'folklore (deluxe version)', \"It's 2016 Somewhere\", 'Tallahassee', \"Harry's House\", 'Better Oblivion Community Center', 'Lover', 'Teens of Denial', 'Dark in Here', 'Plans', 'Transatlanticism (10th Anniversary Edition)', 'Fine Line', 'Fuzzybrain', 'Reconstruction Site', 'Elephant Eyelash', 'Pretty. Odd.', 'Take the Sadness out of Saturday Night', 'Pure Heroine', '1989 (Deluxe Edition)', 'Silo', 'Solar Power (Deluxe Edition)', 'Fleet Foxes', 'Shore', 'OUCH!', 'The Honeysticks', 'Making a Door Less Open', \"Fearless (Taylor's Version)\", 'In Sickness & in Flames', 'Testarossa', 'Talon of the Hawk', 'Norman Fucking Rockwell!', 'See You There', 'AM', 'Copycat Killer', 'Challengers', 'Jubilee', 'Marigold (Expanded Edition)', 'The Baby', 'Moh Lhean Expanded', 'Dreamland (+ Bonus Levels)', 'Amperland, NY', 'Strange Desire', '11:11', 'A Very Lonely Solstice', 'Leaves Turn Inside You', 'Orchid', 'Repetition', 'Voyage Out', 'The Going Away Present', 'The OOZ', 'Last City', 'Lumens', 'New Plastic Ideas', 'Fake Train', 'End on End', 'Spiderland', 'Unwound', 'fawn', 'The Future of What', 'Stratosphere', 'Dance Tonight! Revolution Tomorrow!', 'Steady Diet of Nothing', 'I.V.', 'Circle Thinking', 'Instrument Soundtrack', 'Pockets', 'Hatful of Hollow', 'Challenge for a Civilized Society', 'American Football', 'Collected', 'Here Comes the Cowboy', 'Damaged', 'Nothing Feels Natural', 'The Feeling', 'City of Caterpillar', 'TNT', 'Twin Fantasy (Mirror to Mirror)', 'Rat Conspiracy', 'Pieces of a Man', 'The Punch Line', 'Bad Brains', 'The Queen Is Dead', 'Skinny Grin', 'The Money Store', 'Rock and Roll Night Club', 'UNDERTALE Soundtrack', 'The Visit/Seduction', 'Out of Step', '2', 'あらためまして、はじめまして、ミドリです。', 'My War', 'Laisser vivre les squelettes', 'European Tour 2011', 'Fuzzybrain', 'The Beatles [White Album] CD1', 'Let It Be', 'Paranoid (Remaster)', 'Abbey Road', 'Abbey Road (Remastered)', 'Love', 'The Beatles (Remastered)', 'Magical Mystery Tour', 'Beatles for Sale', 'Rubber Soul', 'Sgt Peppers Lonely Hearts Club Band', 'With the Beatles', 'Gamer', 'Help!', 'The Queen Is Dead', 'All Things Must Pass (Remastered 2014)', 'Pablo Honey', 'Let It Be (remastered)', 'Hatful of Hollow', 'Paranoid', 'A Hard Day´s Night', 'Past Masters I', 'Abbey Road (Super Deluxe Edition)', 'Nevermind (Remastered)', 'In the Aeroplane Over the Sea', 'Revolver', 'Louder Than Bombs', 'Zerwee', 'OK Computer', 'The Smiths', 'Metallica (Remastered)', 'Please Please Me', 'MSG, Vol. 2', 'Little Dark Age', 'Past Masters II', 'Rubber Soul (Remastered)', 'MKULTRA SUPPORT GROUP, Vol. 1', \"Sgt. Pepper's Lonely Hearts Club Band (Remastered)\", 'Three Imaginary Boys (Deluxe Edition)', 'Let It Be... Naked (remastered)', 'Meat Is Murder', 'MSG, Vol. 3', 'Nevermind', 'The Bends', 'With the Beatles (Remastered)', 'Strange Days', 'Magical Mystery Tour (Remastered)', 'Old music alert', 'MKULTRA SUPPORT GROUP, Vol. 2', 'Yellow Submarine', 'KID A MNESIA', 'In Rainbows', 'Turn On The Bright Lights (The Tenth Anniversary Edition - 2012 Remaster)', 'Suffer On', 'OK Computer OKNOTOK 1997 2017', 'Wish Me Well', 'The Wall', 'Nevermind (Remastered 2021)', 'Antics (The Special Edition)', 'Hail to the Thief', \"50 Years - Don't Stop\", 'A Moon Shaped Pool', 'Magical Mystery Tour (Remastered)', 'We Will Always Love You', 'Endless Rooms', 'Culture III', 'The King of Limbs', 'Afraid Of Heights', 'Shoot for the Stars Aim for the Moon', 'The Beatles (Remastered)', 'After Hours', 'Suffer On (Deluxe Edition)', 'TYRON', 'Revolver (Remastered)', 'Khaled Khaled', 'The Devil and God Are Raging Inside Me', 'Scary Hours 2', 'Elephant Shell', 'Faith', 'Abbey Road (Super Deluxe Edition)', 'The Beatles (White Album / Super Deluxe)', 'Revolver (Super Deluxe)', 'Let It Be (Super Deluxe)', 'Ants From Up There', \"It's Been a Long Time Since You Said That You Missed Me\", 'Savage Mode II', 'In Utero - 20th Anniversary Remaster (96k)', 'Franchise (feat. Future, Young Thug & M.I.A.) [remix]', 'Plans', 'The Dark Side of the Moon', 'The Queen Is Dead (Deluxe Edition)', 'Complete', 'Keep It Like a Secret', 'AP (Music from the film Boogie)', 'Certified Lover Boy', 's/t', 'What a Time to Be Alive', \"Hollywood's Bleeding\", \"Come Over When You're Sober, Pt. 1\", 'Rust Never Sleeps', 'Amnesiac', '13', 'Hybrid', 'The Bends', 'In Rainbows', 'Nurture', 'Worlds', 'Kid A', 'Parklife', 'Music Has the Right to Children', 'Justice', 'Remote', 'Mezzanine', 'Spirit Phone', 'In the Aeroplane Over the Sea', 'Outside the Box', 'LCD Soundsystem', 'Mouth Silence', 'Happier Than Ever', 'Demon Days', 'Remain In Light (Deluxe Version)', 'Homework', 'Pablo Honey', 'The Great Escape', 'Good Faith', 'Random Access Memories', 'Discovery', 'Audio, Video, Disco.', 'Mouth Dreams', 'Alive 2007', 'No Jacket Required (2016 Remaster)', 'Adventure (Deluxe)', 'OK Computer', 'Outsidein', 'Yoshimi Battles The Pink Robots', 'The Downward Spiral', 'The Stranger', 'Think Tank', 'This Is Happening', 'Swing Resistance', 'The Velvet Underground & Nico 45th Anniversary', 'Plastic Beach', 'Leisure', 'The Eraser', 'American Pie', 'Three Cheers for Sweet Revenge', 'Future Nostalgia', 'SOUR', 'My Beautiful Dark Twisted Fantasy', 'Blur', 'Whole Lotta Red', 'Die Lit', 'FLASH DESIRE', 'PXE', 'Icedancer', 'CLAWS', 'solitude.', 'EXETER', 'Playboi Carti', '333', 'Crest', 'Good Luck', \"I'm Fresh\", 'EVERSINCE', 'Fade', 'E', 'Working on Dying', 'Eternal Atake (Deluxe) - LUV vs. The World 2', 'Let Me Go', 'Variety Pack EP, Vol. 1', 'The Fool', 'Lil Uzi Vert vs. the World', 'Bitch Made', 'ASTROWORLD', 'Kick Rocks (feat. Lil Darkie)', 'Life', 'In Abundance', 'Cozy Tapes Vol. 2: Too Cozy', 'Trash Island', 'BAROQUE', 'Red Light', 'WHAT', 'Man On The Moon: The End Of Day (Deluxe)', 'Gluee', '808s & Heartbreak', 'Into Dust', 'The Life of Pablo', 'SWORDS', '#SantanaWorld (+)', \"Nuthin' 2 Prove\", 'Freewave', 'Broke Boi', 'Wrath', 'Dark Lane Demo Tapes', 'Lil Boat 3.5', 'Kona Park', 'Graduation', 'xxet', 'Donda', '8888EACH DIVINITY', 'Formula of Love: O+T=<3', 'Nectar', 'ODDINARY', 'Cigarettes After Sex', 'Cry', 'the sum', 'AM', 'The Essential Michael Jackson', 'Taste of Love', 'LOVE DIVE', 'Summer Nights', 'Grande', 'Perfect World', 'Favourite Worst Nightmare (Standard Version)', 'good luck have fun', 'recess', 'Electra Heart (Platinum Blonde Edition)', 'The Family Jewels (Deluxe)', 'TWICEcoaster: LANE 1', 'The Nat King Cole Story', 'Eat Ya Veggies', 'Eyes wide open', 'Hard to Imagine the Neighbourhood Ever Changing', 'Ancient Dreams In A Modern Land (Deluxe Edition)', 'Planet Her', 'Celebrate', 'BETWEEN 1&2', 'gg bb xx', 'The Dream Chapter: STAR', 'The Fame Monster (Deluxe Edition)', 'NOEASY', 'Gasanova', '1 (Remastered)', 'FANCY YOU', 'Stokeley', 'Humanz (Deluxe)', 'sweetlilly93@hotmail.com', 'Chip Chrome & The Mono-Tones (Deluxe)', 'nokdu ep vol.1', 'GO Live', 'Feel Special', 'Nothing Happens', 'HIDEOUT: REMEMBER WHO WE ARE - SEASON1.', 'The Beatles (Remastered)', 'STAYDOM', 'Hello Future - The 1st Album Repackage', \"Seventeen 4th Album Repackage 'SECTOR 17'\", 'BORDER : CARNIVAL', 'Diana Ross Presents the Jackson 5', 'I.', 'THE GHOST~POP TAPE', 'Crystal Castles', 'Grind Mansion: Midnight House Party', 'VOLCANIC BIRD ENEMY AND THE VOICED CONCERN', 'Anti-World', 'Veteran', 'Unknown Pleasures', 'Whole Lotta Red', 'Goth Luv', 'All My Heroes Are Cornballs', 'Icytwat Radio', '700 DAGREEZ', 'LP!', 'Паранойя', 'Unimon Superstar', 'e m o c e a n', 'Donuts', 'HELLHORSE', 'Scumbag', 'Chocolate Hearts and Stag Beetles', 'Cilvia Demo', 'Soulja Luv Rari World', 'Serotonin II', 'Psychobabble Boogiepop', 'EVERSINCE', 'RARE Hi-C .PNG', 'Die Lit', 'CRACK CLOUD$ OVER ARTS KITCHEN', 'Konkurs', 'Loveless', 'Everyone Into Position', 'Yeezus', 'Dior Junts', 'antidote', \"Speedin' Bullet 2 Heaven\", '6 Dogs', 'OFFLINE!', 'キュプラ', 'Essentials', 'Trapped in The Trenches', 'Early Works Bootleg', 'Deathconsciousness', 'Red Light', 'Evil Nigga', 'Enchanted Propaganda', 'Hybrid Theory', 'Donda', 'Sxicid3 Sqxad', 'HELLBOY', 'Music For Nurses', 'Lincoln', 'Le Voyage dans la Lune', 'Hard Candy', 'Luxurious', 'Madvillainy', 'Marcos Valle', 'Some Rap Songs', 'Double Nickels on the Dime', 'Flower Boy', 'Five-A-Side', 'Illmatic', 'CALL ME IF YOU GET LOST', 'Turnpike Diaries', 'Songs in the Key of Life', 'NO OFFENCE', 'The Life of Pablo', 'Robbie Dupree', \"Dah Shinin'\", \"What's Going On\", 'Máquina do Tempo', 'Stukas Over Disneyland', 'Graduation', 'IGOR', 'ハルカリベーコン', 'Careless', \"LIFE'S A TRIP\", 'Lost in Love', 'A Mis 20', 'NataKong', 'More Life', 'Moment Of Truth', 'Pet Sounds (Original Mono & Stereo Mix Versions)', 'Luv Is Rage 2', 'Internal Affairs', 'Vacation (Original Motion Picture Soundtrack)', 'Superunknown', 'Hard To Earn', 'To Pimp a Butterfly', 'Minute by Minute', 'Behind Bars', '2+2+1=', 'We Got It From Here... Thank You 4 Your Service', 'Tesoros De Coleccion', 'The Original Soundtrack', 'Is This It', 'Endtroducing.....', 'Blind Melon', 'Garra', 'Baby On Baby', 'Traffic Jam In Moscow', 'MACABRE', 'The Wall', \"Never Mind The Bollocks, Here's The Sex Pistols\", 'GAUZE', 'American Psycho', 'I Disagree', 'Collection', 'THE MARROW OF A BONE', 'The Boys', 'Citron', 'Am I a Girl?', 'UROBOROS', '...And Out Come the Wolves', 'Eleventeen', 'Famous Monsters', 'Kisou', 'To Anyone', 'Hell Yeah', 'The Dark Side of the Moon', 'Static Age', 'Suki Suki Daisuki', '2NE1 2nd Mini Album', 'Wonder World', 'The Kick Inside', \"It's My Party!\", 'I GOT A BOY', 'London Calling', 'Never for Ever', 'A Kiss Before You Go', 'Flux', 'C.AARMÉ', 'CRASH', 'Energy', 'Sweets～SCANCH BEST COLLECTION～', 'Rancid [1993]', 'Rain Dogs', 'Vita', 'Electric Shock', 'JET CD', 'Le Pop', \"Life Won't Wait\", 'DUM SPIRO SPERO', 'I am...', 'ARCHE', 'Stone Roses', 'Jealousy', 'The Best Of The Ronettes', 'MY STORY', 'Hounds of Love', 'Splurge', 'Blonde', 'Parachutes', \"LO▼E'S\", 'YHLQMDLG', 'Random Access Memories', 'EL ÚLTIMO TOUR DEL MUNDO', 'beerbongs & bentleys', 'A Rush of Blood to the Head', \"Hollywood's Bleeding\", 'El Madrileño', 'OK Computer', 'Moonlight922', 'After Hours', 'Souvlaki', 'Standing On The Corner', 'X&Y', 'A.D.R.O.M.I.C.F.M.S. 4', 'Tercer Verano del Amor', 'In Rainbows', 'Unreleased', 'Siempre', 'Melanchole', 'Timelezz', 'How to Save a Life', 'Untrue', 'Die Lit', 'Pablo Honey', 'Around the Fur', '1999', 'The Life of Pablo', 'Kid A', 'Loveless', 'Avida Dollars', 'To Pimp a Butterfly', 'Maracucho Bueno Muere Chiquito', 'Traumatismo Kraneoencefalico', 'LAS QUE NO IBAN A SALIR', 'Is This It', 'The College Dropout', 'Ídolo', 'Dummy', 'The Queen Is Dead', 'X 100PRE', '808s & Heartbreak', '2001', 'Late Registration', 'MOTOMAMI', 'ye', 'El Mal Querer', 'My Beautiful Dark Twisted Fantasy', 'Whole Lotta Red', 'Fresh Fruit For Rotting Vegetables (Expanded Edition)', 'The Velvet Underground & Nico 45th Anniversary', 'ひまわり画像', 'Trout Mask Replica', 'Loveless', 'Kollaps', 'Pink Moon', 'Bad Brains', 'But, What Ends When the Symbols Shatter?', 'Rainbow Bridge 3', 'Filth', 'Deceit', 'A Promise', \"OIL OF EVERY PEARL'S UN-INSIDES\", 'In the Aeroplane Over the Sea', 'Double Nickels on the Dime', 'Children of God', 'Soundtracks for the Blind', 'Todd', 'Madvillainy', 'Rainbow Bridge', 'Sink', 'Remain In Light (Deluxe Version)', 'Horseshit on route 66', 'The Queen Is Dead', 'In the Flat Field', 'Stratosphere', 'あらためまして、はじめまして、ミドリです。', 'Fetch', 'Ortodossia II/Compagni, Cittadini, Fratelli, Partigiani (2008 Remastered Edition)', 'Crack Musica', 'MOTOMAMI', '・薔薇綺麗躊躇網羅就職痙攣蝋燭鷹麟爨齉馕龘爨齉龘・  (Pink Album)', 'Damaged', 'Obey', 'Atrocity Exhibition', '…Because I’m Young Arrogant and Hate Everything You Stand For', 'Le Mani Destre Recise Degli Ultimi Uomini', 'Obscura', 'All My Heroes Are Cornballs', '20 Jazz Funk Greats', 'Русское Поле Эксперимента (Акустика)', \"You Won't Get What You Want\", '好き好き大好き', 'Bad Moon Rising', 'To Be Kind', 'The Seeds', 'Live 1977-1979', 'Prayers On Fire', 'Punisher', 'LP!', 'Titanic Rising', 'Piñata', 'To Pimp a Butterfly', \"I Don't Like Shit, I Don't Go Outside: An Album by Earl Sweatshirt\", 'Minecraft - Volume Alpha', 'Whack World', 'Some Rap Songs', 'Paper Mâché Dream Balloon', 'WORRY.', 'All My Heroes Are Cornballs', 'The Money Store', 'Ants From Up There', 'Brick Body Kids Still Daydream', \"Time 'n' Place\", 'TA13OO', 'Flower Boy', 'Mista Thug Isolation', 'Madvillainy', 'Weezer', 'The Rise and Fall of Ziggy Stardust and the Spiders from Mars (2012 Remaster)', 'Hellfire', 'Atrocity Exhibition', 'Deceit', 'The Forever Story', 'good kid, m.A.A.d city (Deluxe)', 'SATURATION II', 'Mr. Morale & the Big Steppers', 'Revolver (Remastered)', 'Post', 'OFFLINE!', 'Late Registration', 'Melt My Eyez See Your Future', 'The Black Parade', 'The Impossible Kid', 'Veteran', 'Spiderr', 'CLPPNG', 'Pink Moon', 'Little Dark Age', 'Die Lit', 'Teens of Denial', 'Demon Days', 'By the Time I Get to Phoenix', 'GODS FATHER', 'FM!', '4eva Is a Mighty Long Time', 'Visions of Bodies Being Burned', 'Hyper-Dimensional Expansion Beam', 'AIM (Deluxe)', 'Trava Línguas', 'Matangi', 'MOTOMAMI', 'Born to Die - The Paradise Edition', 'Blue Banisters', 'Honeymoon', 'Norman Fucking Rockwell!', 'Ultraviolence (Deluxe)', 'Te Amo Lá Fora', 'MATA', 'Sin Miedo (del Amor y Otros Demonios) ∞', 'Lust for Life', 'KiCk i', 'Sinto Muito', 'Halfaxa', 'Born This Way (International Special Edition Version)', 'Brilliant Adventure (1992 – 2001)', 'Visions', 'New Decadence', 'Popular', 'Arular', 'The Fame Monster (Deluxe Edition)', \"Let's Part in Style\", 'Miley Cyrus & Her Dead Petz', '/\\\\/\\\\ /\\\\ Y /\\\\ (Deluxe Edition)', 'Elis', 'Clube Da Esquina', 'Chromatica', 'MENGA', 'Mourn', 'Miss Anthropocene (Deluxe Edition)', 'Starboy', 'Party Girl', 'Ecstasy in the Shadow of Ecstasy', 'The One', 'Rito de Passá', 'Kala', 'Born to Die – Paradise Edition (Special Version)', 'EVERYONE AFRAID TO BE FORGOTTEN', 'The Wall', 'Nó Na Orelha', 'kin', 'The Immaculate Collection', 'Pang', 'Tropix', 'Los Ángeles', 'Envolver', 'Transversal Do Tempo', 'Black Celebration (Deluxe)', 'Twin Fantasy', 'Teens of Denial', 'Making a Door Less Open', 'The Bends', 'In Rainbows', 'Horseshit on route 66', 'Pinkerton - Deluxe Edition', 'Is This It', 'Around the Fur', 'Loveless', 'How To Leave Town', 'Mirror Might Steal Your Charm', 'Cruel Melody', 'Saturday Night Wrist', 'OK Computer', 'Weezer (Black Album)', 'D>E>A>T>H>M>E>T>A>L', 'Position 2 (Extended)', 'Twilight', 'Either/Or', 'Room on Fire', '333', 'Pablo Honey', '22nd Chances', 'Red Light', 'Los Flakos', 'Hidden Treasures', 'Spirit Youth', 'Hunky Dory (2015 Remaster)', 'Rumskib', 'Rainbow Bridge', 'Vecinos Psicodélicos', 'Rust in Peace (Expanded Edition)', 'Depresión Sonora', 'Stratosphere', 'ep’s 1988-1991 and rare tracks', 'Diamond Eyes', 'XO', 'Marjorie -W.C. Sinclair', 'Collide With the Sky', \"Let's Dance (2018 remaster)\", 'La La Land (Original Motion Picture Score)', 'Souvlaki', 'tyuudokusyoujyou〜ni〜', 'White Pony', 'For Lovers', '日々のあわ', 'Microcastle', 'hikikomori days', 'Vol. 3: The Subliminal Verses', 'Born This Way', 'Melodrama', 'Back to Black', '1989', 'Lemonade', 'MASSEDUCTION', 'E•MO•TION', 'After Laughter', 'Dirty Computer', 'Sweetener', 'Night Time, My Time', 'Red', 'Chromatica', 'ANTI', 'Hounds of Love', 'ARTPOP', 'folklore', 'Lança perfume', 'Be the Cowboy', 'Dangerous Woman', 'Isolation', 'Lust for Life', 'SAWAYAMA', 'Pure Heroine', 'RENAISSANCE', 'Beyoncé', 'Blackout', 'MOTOMAMI', 'The Velvet Rope', \"Red (Taylor's Version)\", 'Laundry Service', 'Butterfly', 'thank u, next', 'Ctrl', 'Rainbow', 'Golden Hour', 'HOMECOMING: THE LIVE ALBUM', 'St. Vincent', 'Positions', 'Daydream', 'Rita Lee', 'Dedicated', 'No Shame', 'Fruto Proibido', 'Number 1 Angel', 'Alright, Still', 'Joanne', 'Broke with Expensive Taste', 'Caution', 'Sheezus', 'Relationship of Command', 'Career Suicide', 'Hissing Prigs in Static Couture', 'In On the Kill Taker', 'Red Medicine', 'The Smiths', 'Strangeways, Here We Come', 'Domestica', 'Hatful of Hollow', 'Life on a Plate', 'Attack on Memory', 'Fast Forward Eats the Tape', 'Ruiner', '13 Songs', 'Bright Green Field', 'Repetition', 'Public Strain', 'The Future of What', 'The Queen Is Dead (2017 Master)', 'The Queen Is Dead', 'Mute Print', 'Drive Like Jehu', 'Pennybridge Pioneers', 'Ass Cobra', 'Embrace', 'Songs to Scream at the Sun', 'Since I Left You', 'Sideburner', 'An American Paradox', 'Complete Discography [2003 Remaster]', 'Little Dark Age', 'Milo Goes to College', 'Endtroducing.....', 'The Marshall Mathers LP', 'Repeater + 3 Songs', 'Generator', 'Anonymized Internal Criminals', 'Entertainment!', 'Leaves Turn Inside You', 'The Argument', 'The Lurid Traversal of Route 7', 'Doppelgänger', \"Let's Talk About Feelings\", 'Suicide Invoice', 'Black Eyes', 'Meat Is Murder', 'Smash', 'The Life of Pablo', 'Operation Ivy', 'The Fall Of Troy', 'Wolf', 'Stratosphere', 'To Pimp a Butterfly', 'Chocolate and Cheese', 'Pure Guava', 'OK Computer', 'Die Lit', 'Kid A', 'The Life of Pablo', 'The Mollusk', 'Late Registration', 'The Bends', 'The Pod', 'Bastard', 'Goblin', 'Whole Lotta Red', 'ye', 'Quebec', 'Yeezus', 'GodWeenSatan: The Oneness', 'Experimental Dust', 'Blonde', 'The Wall', 'Contemporary Movement', 'Capsule Losing Contact', 'The College Dropout', 'IGOR', 'Geogaddi', 'Old Tunes Vol. 2', 'Cherry Bomb', 'Selected Ambient Works 85-92', 'Donda', 'Enter the Wu-Tang (36 Chambers)', 'Deathconsciousness', 'The Velvet Underground & Nico', 'White Pony', 'Watch the Throne', 'MM..Food', 'Flood', 'channel ORANGE', 'JESUS IS KING', 'Under Construction [The Wall Demos]', '808s & Heartbreak', 'Amnesiac', 'White Pepper', 'Resident Alien', 'WOLF (2010)', 'Graduation', 'Under Construction', 'So Help Me God', 'His N Hers', 'Danger Days: The True Lives of the Fabulous Killjoys', 'Wolfgang Amadeus Phoenix', 'Silent Alarm', 'You & Me', 'Different Class', 'Reflektor', 'The Suburbs', 'Kaputt', 'The Glow, Pt. 2', 'Modern Vampires of the City', 'HiperAsia', \"Sam's Town\", 'Neon Bible', 'This Is Happening', 'Portamento', 'Everyone Who Pretended to Like Me Is Gone', 'xx', 'Intimacy', 'Plastic Beach', 'Up the Bracket', 'Wildflower', 'Cupid Deluxe', 'My Beautiful Dark Twisted Fantasy', 'Ti Amo', 'Some Rap Songs', 'Bows + Arrows', 'Screamadelica', 'In Rainbows', 'Primary Colours', 'The Libertines', 'Depression Cherry', 'Sound Of Silver', 'Father of the Bride', 'Doolittle', 'First Impressions of Earth', 'A Weekend In the City', 'Love Letters', 'Four', 'Bossanova', 'The Resistance', 'Loveless', 'The Drums', 'A Brief Inquiry Into Online Relationships', '22, a Million', 'Bankrupt!', 'Contra', 'Humbug', 'Plans', 'Freetown Sound', 'Anthology 2', 'Abbey Road', 'Rubber Soul', 'Anthology 3', 'Anthology 1', 'Aha Shake Heartbreak', 'Help!', 'Complete', 'Past Masters, Vols. 1 & 2', 'The Dark Side Of The Moon (Remastered)', 'Junk of the Heart', \"Sgt. Pepper's Lonely Hearts Club Band\", 'The Dark Side of the Moon', 'The Platinum Collection', 'The Wall', 'Spinetta Y Los Socios Del Desierto', 'Tejas', 'Let It Be', '1919 Eternal', 'Degüello', 'Revolver', 'MTV Unplugged', 'Coliumo', 'Beatles for Sale', 'Please Please Me', 'The Beatles (White Album)', 'Pulse (live)', 'Live at Budokan', 'With the Beatles', 'More', \"A Hard Day's Night\", 'Magical Mystery Tour', 'Konk', 'Plans', 'No Rest for the Wicked (Bonus Track Version)', 'El Loco', 'Technical Difficulties', 'Incesticide', 'Pulse', 'Héroes del Silencio: The Platinum Collection', 'Imagine', 'Nevermind', 'The Division Bell', 'Ahí Vamos', 'Rak', 'Comfort y Música Para Volar', 'Big Bang', 'La Sangre En El Cuerpo', 'Obscured by Clouds', 'Yellow Submarine', 'NieR Gestalt & NieR RepliCant Original Soundtrack', 'Red Light', 'D&G', 'NieR:Automata Original Soundtrack', 'undergone', 'E', 'Icedancer', 'EVERSINCE', 'my love feels all wrong. digipak', 'gnb', 'EVANGELION FINALLY', 'Nekomonogatari (Kuro) Gekihanongakushu [Original Soundtrack]', 'Stranger', 'EXETER', 'goretrance 9', 'Shiro SAGISU Music from \"SHIN EVANGELION\" EVANGELION: 3.0+1.0.', 'NEO: The World Ends with You - Original Soundtrack', 'PERSONA5 ORIGINAL SOUNDTRACK', '0', 'Trash Island', 'Bakemonogatari Gekihanongakushu (Original Soundtrack)', 'Singles', 'Catherine & Catherine Full Body Soundtrack Set', 'UNDERTALE Soundtrack', 'Poison Ivy', 'Unknown Memory', 'NieR Gestalt & Replicant 15 Nightmares & Arrange Tracks', 'STEINS;GATE Original Soundtrack', 'C3L3STIAL天の', '333', 'Bladeecity', 'NieR:Automata Original Soundtrack', 'Nisemonogatari Gekihanongakushu (Original Soundtrack)', 'NieR:Automata Original Soundtrack', 'FINAL FANTASY XIII-2 Original Soundtrack PLUS', 'Heaven to a Tortured Mind', 'TOHO BOSSA NOVA 2', 'AvP', 'with all my heart. digipak', 'TOHO BOSSA NOVA 3', 'Koimonogatari Gekihanongakushu (Original Soundtrack)', 'Tomo Me Nyado', 'Violence', 'Sunset in Silver City', 'Utamonogatari Special Edition (Original Soundtrack)', 'Working on Dying', 'Kizumonogatari Gekihanongakushu (Original Soundtrack)', 'Tomboyish Love for Soda Pop and Apple Sweets (Digipak)', 'Draining Love Story', 'GUILTY GEAR SOUND COMPLETE BOX (5)', 'Icedancer', 'Stratosphere', 'Songs About Leaving', 'BAROQUE', '(III)', 'Three Cheers for Sweet Revenge', 'Azure-Core', 'Working on Dying', 'The Fool', 'FLASH DESIRE', 'D&G', 'SILENT HILL2 (Original Soundtrack)', 'Birds in the Ground', 'Trash Star', 'A Promise', 'The Glow, Pt. 2', 'Either/Or', 'Trash Island', 'Modal Soul', 'Spiderr', 'Early Works Bootleg', 'World Tour', 'Loveless', 'Whole Lotta Red', 'Twilight', 'White Pony', 'Leaves Turn Inside You', \"Just Got Back from the Discomfort We're Alright\", 'D>E>A>T>H>M>E>T>A>L', 'Red Light', 'Souvlaki', 'Crest', 'Together', 'Fabulous Muscles', 'E', 'Untrue', 'The Black Parade', 'Crystal Castles', 'Turn on the Bright Lights', 'Diary (2009 Edition)', 'Duster', 'Attention 2 Retail', 'The Power of Failing', 'Glitch Princess', '700 DAGREEZ', 'Transmission, Flux', 'value', 'Around the Fur', 'Twin Fantasy', 'Melody of Certain Damaged Lemons', 'The Mollusk', 'GodWeenSatan: The Oneness', 'The Wall', 'Chocolate and Cheese', 'Quebec', 'The Pod', 'Mass Teen Fainting', 'The Piper at the Gates of Dawn', 'Flood', 'White Pepper', 'Apollo 18', 'Pure Guava', 'They Might Be Giants', 'Scott Pilgrim vs. the World (Original Motion Picture Soundtrack)', 'More Songs About Buildings and Food', 'La Cucaracha', 'Talking Heads: 77', 'Night in the Woods Vol. 1: At The End Of Everything', 'Wish You Were Here', 'Lincoln', 'Grand Slam', 'Portal 2: Songs to Test By (Collectors Edition)', 'The Dark Side of the Moon', 'life changing moments seem minor in pictures', 'Chef Aid: The South Park Album', 'Flutterboard', 'Not For Broadcast - Original Soundtrack', 'Fear of Music', 'Ivy and the Big Apples', \"I'm in Your Mind Fuzz\", 'A Message for Marta', 'Nonagon Infinity', 'Night in the Woods Vol. 2: Hold On To Anything', 'A Saucerful of Secrets', 'Minecraft - Volume Alpha', 'Meddle', \"The Beginner's Guide\", 'Out of the Blue', 'A Night at the Opera', 'Cold Spring Harbor', 'Sam & Max Save the World', 'Life Sentence (B-Sides & Rarities)', 'Polygondwanaland', 'Brown Album', 'Fishing for Fishies', 'State Songs', 'Time', 'Atom Heart Mother', \"This Day Won't Last At All\", 'John Henry', 'Punisher', 'evermore (deluxe version)', 'reputation', 'folklore (deluxe version)', '1989 (Deluxe)', 'Lover', 'Red (Deluxe Edition)', \"Red (Taylor's Version)\", 'Blonde', 'Midnights', 'Melodrama', 'Puberty 2', 'Women in Music Pt III (Expanded Edition)', 'Home Video', 'songs', 'Be the Cowboy', 'SOUR', 'Stranger in the Alps', 'bury me at makeout creek', 'Historian', \"Fearless (Taylor's Version)\", 'Speak Now', 'Either/Or', 'Boygenius', 'LUSH', 'Burn Your Fire For No Witness (Deluxe Edition)', 'Masterpiece', 'folklore', 'evermore', 'Retired from Sad, New Career in Business', 'Hozier', 'Midnights (3am Edition)', 'Louder Than Bombs', 'Sling', 'Heard It in a Past Life', 'OK Computer', 'Cigarettes After Sex', \"I'm Wide Awake, It's Morning\", 'Norman Fucking Rockwell!', 'MY WOMAN', 'Carrie & Lowell', 'Solar Power', 'Stranger in the Alps (Deluxe Edition)', 'Valentine', 'channel ORANGE', 'Hatful of Hollow', 'In Rainbows', 'When the Pawn...', 'Novacane', 'Titanic Rising', 'Teen Dream', 'Schlagenheim', \"how i'm feeling now\", 'Bloom', 'Goat Girl', 'Pang', 'For the First Time', 'Visions of a Life', 'Titanic Rising', 'Blue Weekend', 'Leaves Turn Inside You', 'Cavalcade', 'White Light From the Mouth of Infinity', 'Drukqs', '925', 'Devotion', 'Depression Cherry', \"G_d's Pee AT STATE'S END!\", 'CALIGULA', 'Beach House', 'Telegraphs in Negative / Mouths Trapped in Static', 'Soundtrack ke konci světa', 'Spiderland', 'KiCk i', 'Souvlaki', 'Luciferian Towers', 'Public Strain', 'KicK iii', 'Stratosphere', '…Because I’m Young Arrogant and Hate Everything You Stand For', '7', 'Ants From Up There', 'My Love Is Cool (Deluxe Edition)', 'The Glow, Pt. 2', 'WOMEN', 'Once Twice Melody', 'Le voyage éternel', 'Thank Your Lucky Stars', 'Wicked City', 'Generácia Y', 'Nebeský klid', 'Around the Fur', 'New Plastic Ideas', 'On All Fours', 'CRASH', 'The Bends', 'Bright Green Field', 'White Pony', 'Repetition', 'In Rainbows', 'Tiene Que Haber Algo Más', 'Souvlaki', 'El Madrileño', 'Whole Lotta Red', 'Dizzy Up the Girl', 'Heaven or Las Vegas', 'Fetch the Bolt Cutters', 'Blonde', 'The Life of Pablo', 'FREELANCE', 'IGOR', 'Donda', 'Icedancer', 'EL ÚLTIMO TOUR DEL MUNDO', 'Die Lit', 'Twin Fantasy', 'El Mal Querer', 'Madvillainy', 'K.I.D.S.', 'Yeezus', 'We Love You Tecca', 'The Melodic Blue', 'Twilight', 'Graduation', 'Slowdive', \"(What's the Story) Morning Glory? [Remastered]\", 'Mr. Morale & the Big Steppers', 'Un Verano Sin Ti', 'Debut', 'My Beautiful Dark Twisted Fantasy', 'Around the Fur', 'Some Rap Songs', 'X 100PRE', 'Trash Island', 'Gutterflower', 'ye', 'MOTOMAMI', 'Montage of Heck: The Home Recordings (Deluxe Soundtrack)', 'When the Pawn...', 'Playboi Carti', 'Be the Cowboy', '18', 'DAMN.', 'Teens of Denial', 'Heathen Chemistry', \"It's Almost Dry\", 'Crest', 'Instrument Soundtrack', 'Richard D. James Album', 'After Hours', 'The Smiths', 'The Bends', 'The Queen Is Dead', 'Hatful of Hollow', 'Souvlaki', 'OK Computer', 'Meat Is Murder', 'Soda Stereo (Remastered)', 'Louder Than Bombs', 'The Doors', 'Just for a Day', 'Loveless', 'Depression Cherry', 'Nevermind (Remastered)', 'Stratosphere', 'In Rainbows', 'Unknown Pleasures', 'Comfort Y Musica Para Volar', 'Canción Animal (Remastered)', 'White Pony', 'In Utero - 20th Anniversary - Deluxe Edition', 'Doble Vida (Remastered)', 'Nada Personal (Remastered)', 'Three Imaginary Boys', 'Signos (Remastered)', 'Grace', 'Twilight', 'Deathconsciousness', \"Everybody Else Is Doing It, So Why Can't We?\", 'A Rush of Blood to the Head', 'Draining Love Story', 'Hybrid Theory (Bonus Edition)', 'этажи', 'Around the Fur', 'Turn on the Bright Lights', 'Locura', 'Bloweyelashwish', 'Pablo Honey', 'Los Tres', 'Favourite Worst Nightmare', 'Parachutes', 'Dynamo (Remastered)', 'Amnesiac', 'Endtroducing.....', 'Steve McQueen', \"Whatever People Say I Am, That's What I'm Not\", 'El Jardin De Los Presentes', 'Saturday Night Wrist', 'Silent Alarm', 'Bocanada', 'POST HUMAN: SURVIVAL HORROR', 'WINGS', 'Koi No Yokan', 'Finally We Are No One', '醜奴兒', 'Dear', 'The Most Beautiful Moment In Life Pt.2', 'The Most Beautiful Moment in Life: Young Forever', 'and Their Refinement of the Decline', 'White Pony', '更迭', 'Absolution', 'The Tired Sounds of Stars of the Lid', 'Diamond Eyes', 'OK Computer', 'The 2nd Law', '1830m', 'Mothership', '鮎川のしづく', 'Sempiternal (Expanded Edition)', '冀西南林路行', 'Death Magic', 'Wiped Out!', '何度でも新しく生まれる', 'Ohms', 'Saturday Night Wrist', \"No Man's Sky: Music for an Infinite Universe\", 'To See the Next Part of the Dream', 'Windswept Adan', 'Origin of Symmetry', 'Fetch', 'Electric Girl', 'Worlds', 'Shrines', 'AM', '(III)', 'Neō Wax Bloom', '(II)', 'Fantôme', 'NCT #127 Neo Zone: The Final Round - The 2nd Album Repackage', 'Sleeping with Ghosts', 'Kid A', 'Instant Gratification', 'NCT RESONANCE Pt. 2 - The 2nd Album', '暗闇', '0', 'FIRST IMPACT', 'Lance', '鏡中鏡', 'Deftones'], [8027, 3190, 2356, 2164, 2036, 1735, 1503, 1495, 1428, 1300, 1044, 991, 875, 725, 695, 639, 579, 552, 516, 489, 483, 469, 460, 455, 428, 395, 384, 376, 375, 362, 341, 341, 329, 321, 320, 318, 308, 299, 299, 298, 292, 291, 290, 287, 284, 269, 269, 242, 239, 239, 387, 330, 267, 254, 244, 213, 194, 186, 161, 151, 150, 150, 150, 146, 143, 141, 139, 134, 130, 123, 121, 121, 115, 113, 111, 109, 106, 104, 104, 102, 102, 101, 101, 100, 98, 94, 94, 93, 92, 91, 91, 91, 88, 88, 88, 87, 86, 86, 86, 85, 1919, 1399, 1175, 1149, 1006, 1002, 899, 882, 725, 682, 679, 607, 598, 460, 449, 432, 432, 424, 385, 368, 364, 361, 341, 327, 323, 305, 303, 293, 290, 287, 284, 283, 281, 273, 273, 268, 263, 253, 244, 242, 242, 237, 232, 231, 230, 230, 215, 215, 215, 214, 56, 32, 30, 23, 20, 20, 18, 17, 14, 13, 13, 13, 12, 12, 11, 11, 11, 11, 10, 9, 8, 8, 8, 7, 7, 7, 7, 6, 6, 6, 6, 6, 6, 6, 6, 6, 6, 6, 6, 6, 6, 6, 6, 6, 6, 5, 5, 5, 5, 5, 8101, 7168, 4723, 4222, 4056, 3464, 3462, 3322, 3012, 2995, 2978, 2916, 2797, 2796, 2726, 2693, 2644, 2618, 2603, 2481, 2447, 2447, 2417, 2267, 2257, 2181, 2110, 2107, 2095, 2051, 1998, 1960, 1885, 1884, 1868, 1854, 1827, 1814, 1797, 1730, 1668, 1593, 1556, 1545, 1506, 1489, 1478, 1437, 1424, 1353, 38, 31, 25, 20, 17, 16, 13, 11, 11, 11, 10, 8, 8, 8, 7, 7, 6, 6, 6, 6, 6, 5, 5, 5, 5, 5, 5, 5, 5, 5, 5, 5, 5, 5, 4, 4, 4, 4, 4, 4, 4, 4, 4, 4, 4, 4, 4, 4, 4, 4, 526, 508, 466, 343, 270, 240, 238, 185, 169, 165, 149, 146, 138, 135, 124, 112, 111, 109, 106, 106, 105, 101, 101, 100, 97, 94, 93, 91, 91, 90, 89, 89, 87, 85, 83, 79, 75, 75, 73, 72, 71, 69, 69, 68, 67, 67, 65, 65, 64, 64, 29883, 9110, 8985, 8821, 8149, 5678, 5551, 5327, 4492, 4117, 4017, 3948, 3858, 3739, 3719, 3438, 3318, 2985, 2897, 2874, 2771, 2531, 2426, 2373, 2327, 2324, 2250, 2230, 2176, 2166, 2118, 1935, 1928, 1925, 1917, 1895, 1888, 1863, 1825, 1766, 1719, 1710, 1697, 1590, 1589, 1583, 1577, 1539, 1537, 1472, 2219, 1830, 1255, 1129, 1115, 1084, 1049, 712, 671, 654, 630, 621, 608, 608, 536, 476, 473, 465, 448, 444, 432, 428, 421, 412, 392, 355, 351, 340, 336, 335, 327, 315, 312, 311, 303, 301, 300, 295, 279, 274, 262, 256, 238, 237, 231, 224, 223, 221, 213, 209, 1320, 819, 645, 602, 508, 491, 453, 447, 443, 432, 422, 404, 384, 353, 350, 340, 340, 328, 325, 314, 255, 248, 239, 239, 235, 229, 219, 214, 207, 202, 196, 188, 183, 183, 179, 179, 174, 173, 172, 163, 150, 148, 144, 138, 138, 136, 135, 132, 125, 117, 1513, 1324, 1118, 918, 908, 856, 855, 756, 689, 675, 633, 631, 626, 604, 588, 554, 526, 512, 499, 488, 469, 457, 448, 416, 411, 410, 400, 378, 363, 362, 361, 338, 338, 330, 323, 313, 312, 289, 289, 282, 271, 267, 266, 265, 252, 246, 245, 244, 229, 225, 124, 97, 66, 61, 55, 53, 53, 49, 49, 47, 47, 47, 45, 45, 45, 44, 42, 41, 41, 41, 41, 39, 38, 38, 38, 37, 37, 37, 36, 36, 35, 34, 34, 33, 33, 33, 32, 32, 32, 32, 31, 31, 31, 31, 30, 30, 30, 30, 30, 29, 451, 350, 323, 282, 271, 255, 234, 227, 203, 181, 167, 157, 155, 155, 150, 138, 133, 133, 131, 131, 128, 126, 126, 125, 125, 124, 121, 117, 113, 109, 109, 109, 106, 104, 103, 101, 98, 97, 94, 92, 89, 84, 82, 79, 76, 75, 74, 73, 71, 70, 278, 270, 228, 213, 209, 202, 187, 187, 176, 163, 159, 150, 141, 140, 129, 111, 110, 107, 99, 91, 84, 84, 82, 82, 80, 78, 76, 72, 71, 69, 69, 68, 67, 64, 62, 61, 61, 59, 57, 56, 55, 54, 54, 52, 51, 51, 50, 49, 48, 47, 723, 481, 452, 436, 358, 301, 298, 296, 282, 255, 255, 249, 244, 236, 228, 208, 205, 200, 195, 189, 179, 168, 167, 166, 163, 161, 160, 158, 155, 139, 133, 133, 132, 123, 113, 112, 112, 110, 108, 107, 106, 103, 103, 103, 102, 97, 96, 90, 87, 86, 2180, 2065, 1860, 1457, 1390, 1373, 1338, 1046, 1014, 991, 926, 893, 843, 823, 709, 682, 680, 650, 595, 595, 585, 582, 576, 567, 516, 460, 449, 424, 421, 421, 418, 410, 405, 388, 381, 379, 372, 360, 358, 354, 353, 346, 345, 329, 328, 327, 309, 308, 307, 302, 590, 436, 420, 415, 404, 380, 370, 351, 319, 284, 279, 265, 251, 249, 249, 247, 245, 238, 226, 222, 208, 196, 185, 182, 180, 180, 159, 153, 149, 138, 137, 137, 134, 133, 133, 122, 117, 116, 113, 110, 109, 104, 103, 100, 99, 97, 95, 95, 93, 89, 389, 348, 337, 313, 312, 292, 256, 256, 255, 243, 240, 237, 226, 226, 225, 223, 208, 201, 200, 199, 196, 190, 190, 189, 174, 173, 170, 160, 153, 150, 144, 139, 138, 137, 136, 135, 132, 131, 123, 123, 121, 120, 117, 116, 115, 114, 113, 113, 112, 110, 79, 70, 70, 67, 65, 64, 57, 55, 54, 52, 51, 50, 50, 49, 48, 47, 46, 45, 45, 45, 44, 44, 43, 43, 43, 43, 42, 41, 41, 41, 40, 40, 39, 39, 39, 38, 38, 37, 36, 36, 35, 35, 35, 35, 34, 34, 34, 33, 33, 32, 1195, 933, 927, 886, 790, 789, 776, 732, 659, 630, 623, 598, 574, 571, 565, 562, 509, 503, 493, 443, 437, 415, 413, 399, 394, 384, 383, 382, 381, 372, 371, 371, 370, 364, 359, 355, 352, 337, 337, 333, 333, 329, 326, 322, 320, 318, 314, 313, 311, 309, 283, 257, 133, 129, 117, 113, 107, 105, 105, 104, 104, 90, 89, 86, 85, 85, 83, 82, 81, 80, 80, 80, 79, 78, 74, 74, 74, 72, 71, 71, 71, 70, 69, 69, 68, 68, 68, 65, 65, 64, 64, 62, 59, 57, 56, 55, 54, 52, 51, 50, 627, 614, 552, 493, 438, 376, 351, 340, 337, 322, 314, 308, 301, 288, 280, 278, 270, 260, 245, 243, 241, 225, 224, 222, 207, 206, 204, 203, 199, 196, 181, 178, 178, 174, 170, 167, 165, 165, 165, 164, 163, 162, 151, 151, 149, 149, 143, 139, 138, 136, 1461, 1265, 875, 619, 471, 426, 391, 387, 371, 363, 354, 329, 326, 307, 299, 297, 291, 290, 263, 248, 245, 233, 207, 206, 204, 203, 195, 194, 194, 190, 179, 178, 178, 176, 176, 174, 172, 172, 167, 167, 163, 154, 153, 153, 153, 152, 150, 149, 149, 147, 285, 278, 217, 182, 169, 159, 155, 134, 134, 133, 123, 113, 110, 100, 96, 93, 88, 85, 83, 75, 72, 70, 68, 66, 63, 63, 61, 57, 55, 52, 48, 48, 47, 46, 45, 44, 43, 43, 41, 41, 41, 39, 38, 37, 36, 36, 35, 35, 35, 34, 482, 304, 184, 182, 175, 173, 165, 163, 161, 145, 129, 122, 120, 114, 107, 101, 101, 93, 93, 90, 82, 82, 81, 74, 73, 70, 70, 68, 67, 67, 64, 64, 61, 57, 55, 55, 54, 54, 51, 49, 48, 45, 44, 43, 43, 43, 42, 41, 40, 40, 464, 444, 412, 376, 274, 228, 207, 205, 179, 177, 161, 161, 161, 152, 135, 130, 126, 122, 119, 117, 113, 110, 109, 108, 107, 105, 105, 105, 102, 99, 99, 98, 93, 91, 89, 88, 88, 86, 85, 82, 82, 81, 77, 77, 76, 71, 69, 69, 67, 65, 1159, 1020, 943, 891, 873, 808, 753, 697, 677, 644, 640, 629, 619, 598, 580, 532, 525, 495, 475, 475, 473, 462, 462, 445, 429, 426, 404, 402, 386, 370, 368, 361, 351, 319, 319, 315, 310, 308, 306, 302, 298, 291, 287, 279, 272, 268, 261, 246, 232, 231, 12793, 11795, 6465, 6261, 5991, 4084, 3938, 3437, 3368, 2738, 1896, 1828, 1678, 1633, 1385, 1226, 923, 861, 836, 805, 792, 784, 768, 728, 670, 607, 589, 518, 481, 434, 417, 414, 365, 361, 348, 347, 327, 311, 306, 297, 295, 293, 287, 278, 274, 270, 270, 269, 259, 246, 834, 780, 612, 474, 466, 353, 310, 310, 296, 286, 278, 267, 247, 241, 222, 213, 211, 206, 182, 177, 170, 168, 160, 158, 149, 149, 147, 145, 138, 137, 135, 135, 131, 130, 127, 118, 114, 113, 111, 111, 111, 106, 103, 103, 100, 99, 99, 98, 97, 96, 3521, 1424, 1267, 980, 889, 704, 694, 681, 661, 658, 604, 597, 595, 568, 547, 522, 394, 388, 374, 332, 326, 322, 319, 318, 295, 292, 267, 261, 258, 256, 248, 245, 240, 239, 234, 233, 233, 231, 218, 215, 210, 209, 207, 194, 190, 190, 189, 185, 180, 180, 273, 228, 217, 211, 199, 190, 175, 165, 148, 147, 147, 142, 139, 136, 135, 127, 124, 123, 116, 115, 115, 112, 111, 98, 97, 96, 94, 94, 91, 90, 88, 87, 85, 83, 83, 82, 81, 81, 81, 78, 78, 76, 74, 73, 71, 70, 68, 68, 67, 67, 536, 510, 501, 485, 432, 394, 345, 327, 319, 310, 297, 296, 278, 258, 253, 242, 239, 239, 223, 216, 215, 213, 209, 207, 199, 197, 196, 191, 188, 188, 186, 183, 182, 181, 179, 178, 175, 174, 172, 170, 161, 159, 158, 157, 151, 151, 150, 149, 148, 145, 1383, 1180, 771, 583, 544, 518, 512, 488, 480, 457, 455, 448, 434, 433, 427, 377, 367, 363, 362, 358, 355, 349, 346, 343, 339, 332, 325, 320, 319, 317, 316, 312, 311, 310, 308, 301, 297, 295, 294, 291, 290, 278, 274, 274, 272, 272, 272, 269, 262, 257, 137, 93, 89, 88, 87, 83, 78, 73, 70, 69, 69, 69, 69, 66, 65, 57, 54, 54, 54, 53, 51, 50, 49, 49, 48, 48, 47, 47, 46, 45, 44, 44, 44, 44, 43, 43, 43, 43, 42, 41, 41, 41, 41, 40, 40, 39, 39, 38, 37, 37, 112, 80, 75, 70, 70, 63, 60, 57, 56, 56, 55, 52, 51, 49, 49, 47, 44, 44, 43, 43, 43, 40, 39, 38, 37, 36, 36, 35, 35, 35, 34, 32, 32, 31, 31, 30, 30, 29, 29, 29, 27, 27, 26, 26, 26, 26, 25, 24, 24, 24, 755, 737, 337, 284, 281, 274, 274, 265, 265, 193, 184, 164, 159, 155, 153, 147, 140, 131, 124, 121, 120, 119, 114, 111, 110, 107, 106, 102, 98, 92, 92, 92, 92, 90, 86, 83, 82, 80, 78, 74, 72, 69, 69, 69, 68, 68, 66, 65, 65, 63, 123, 97, 89, 78, 77, 67, 65, 63, 61, 59, 54, 51, 50, 49, 49, 49, 48, 46, 45, 45, 45, 44, 44, 42, 41, 41, 41, 41, 40, 38, 37, 36, 36, 35, 35, 35, 34, 33, 32, 32, 31, 31, 31, 31, 30, 30, 30, 29, 29, 29, 1795, 1765, 1617, 1422, 1407, 1364, 1340, 1329, 1307, 1293, 1239, 1158, 1153, 1145, 1085, 1073, 1048, 1046, 1043, 1042, 1013, 1012, 993, 983, 980, 963, 950, 950, 929, 923, 921, 907, 905, 881, 880, 873, 818, 817, 812, 810, 799, 796, 791, 786, 775, 773, 762, 760, 749, 744, 542, 392, 320, 307, 268, 259, 246, 243, 228, 217, 207, 206, 195, 193, 188, 182, 182, 178, 168, 164, 146, 146, 141, 139, 136, 128, 119, 116, 116, 113, 109, 107, 107, 107, 105, 104, 102, 101, 101, 99, 99, 98, 96, 93, 90, 89, 88, 87, 87, 80, 143, 125, 114, 92, 89, 81, 79, 78, 76, 76, 75, 75, 74, 70, 69, 68, 67, 67, 63, 63, 62, 61, 61, 60, 58, 58, 58, 55, 53, 50, 49, 49, 49, 47, 45, 41, 41, 40, 40, 39, 39, 39, 38, 38, 38, 37, 37, 36, 36, 35, 793, 720, 676, 654, 639, 620, 608, 593, 571, 533, 526, 523, 511, 493, 475, 474, 467, 452, 443, 437, 437, 431, 429, 429, 429, 425, 424, 411, 411, 387, 386, 379, 375, 373, 372, 372, 361, 361, 358, 358, 357, 349, 348, 346, 341, 333, 332, 331, 329, 328, 922, 867, 819, 783, 762, 578, 571, 553, 508, 455, 448, 447, 428, 424, 419, 405, 388, 385, 375, 375, 368, 356, 356, 349, 344, 332, 328, 323, 317, 305, 304, 299, 290, 287, 281, 278, 264, 263, 261, 259, 259, 259, 259, 256, 254, 253, 252, 251, 246, 245, 987, 801, 699, 543, 503, 495, 347, 314, 241, 236, 229, 223, 201, 196, 190, 174, 172, 171, 161, 155, 154, 148, 137, 131, 128, 126, 125, 124, 121, 104, 100, 100, 97, 94, 92, 87, 86, 83, 78, 78, 77, 75, 75, 74, 74, 73, 73, 71, 71, 70, 697, 520, 404, 388, 377, 299, 260, 250, 247, 212, 210, 201, 201, 193, 183, 174, 162, 158, 157, 152, 150, 147, 144, 144, 140, 138, 137, 135, 134, 132, 129, 126, 124, 122, 119, 117, 114, 112, 111, 111, 105, 104, 104, 101, 99, 97, 96, 94, 93, 92, 2731, 2664, 2042, 1952, 1825, 1551, 995, 954, 839, 810, 802, 687, 673, 614, 545, 507, 495, 454, 454, 454, 433, 431, 382, 381, 381, 359, 356, 340, 338, 328, 316, 313, 295, 290, 279, 274, 271, 269, 255, 252, 250, 248, 247, 241, 227, 225, 222, 218, 214, 213, 1228, 1140, 1138, 1119, 913, 833, 726, 698, 593, 570, 554, 520, 497, 479, 478, 452, 450, 450, 441, 372, 341, 330, 317, 300, 261, 258, 258, 239, 228, 225, 224, 212, 203, 202, 196, 196, 186, 181, 179, 175, 173, 166, 166, 160, 155, 150, 149, 147, 147, 147, 464, 459, 458, 452, 433, 428, 420, 415, 392, 390, 376, 375, 350, 333, 327, 309, 307, 300, 295, 291, 283, 280, 279, 277, 270, 263, 258, 254, 252, 252, 251, 250, 245, 244, 239, 236, 233, 231, 228, 222, 215, 207, 207, 204, 198, 197, 197, 196, 195, 192, 730, 574, 390, 369, 361, 359, 351, 348, 324, 274, 253, 252, 249, 246, 246, 245, 245, 236, 234, 225, 216, 201, 194, 189, 189, 187, 179, 178, 177, 177, 175, 175, 168, 168, 165, 165, 164, 157, 154, 151, 149, 149, 147, 146, 146, 146, 142, 138, 136, 135, 691, 540, 531, 497, 469, 436, 421, 357, 315, 285, 271, 255, 232, 231, 230, 224, 223, 215, 204, 198, 197, 197, 196, 196, 194, 177, 176, 164, 154, 151, 147, 142, 142, 141, 136, 135, 129, 128, 125, 123, 121, 121, 120, 118, 117, 115, 113, 112, 107, 106, 347, 335, 301, 268, 260, 256, 248, 245, 243, 238, 238, 232, 232, 228, 224, 220, 218, 215, 215, 209, 208, 196, 195, 193, 192, 192, 190, 190, 187, 184, 182, 176, 175, 170, 168, 165, 159, 153, 152, 151, 147, 146, 145, 145, 143, 142, 142, 142, 141, 138]]\n"
          ]
        }
      ],
      "source": [
        "print(data)"
      ]
    },
    {
      "cell_type": "code",
      "execution_count": null,
      "metadata": {
        "id": "N4iZnlffB2dS"
      },
      "outputs": [],
      "source": [
        "# def get_friends_top_album_name():\n",
        "\n",
        "#     album_name = []\n",
        "    \n",
        "\n",
        "#     for name in get_user_friends():\n",
        "\n",
        "#         friend_album = lastfm_get({\n",
        "#             'method': 'user.getTopAlbums',\n",
        "#             'user': name\n",
        "#         })\n",
        "\n",
        "#         album = friend_album.json()['topalbums']['album']['name']\n",
        "\n",
        "#         album_name.append(album)\n",
        "\n",
        "\n",
        "#     return album_name"
      ]
    },
    {
      "cell_type": "code",
      "execution_count": null,
      "metadata": {
        "id": "XCbmOMOnElIe"
      },
      "outputs": [],
      "source": [
        "# album_names = get_friends_top_album_name()"
      ]
    },
    {
      "cell_type": "code",
      "execution_count": null,
      "metadata": {
        "id": "4KzIaTQvLa3A"
      },
      "outputs": [],
      "source": [
        "# print(album_names)\n",
        "# print(len(album_names))"
      ]
    },
    {
      "cell_type": "code",
      "execution_count": null,
      "metadata": {
        "id": "ihF9gvDSsvK6"
      },
      "outputs": [],
      "source": []
    },
    {
      "cell_type": "code",
      "execution_count": null,
      "metadata": {
        "id": "NiT1Krqy7p-R"
      },
      "outputs": [],
      "source": [
        "# def get_friends_top_album_playcount():\n",
        "\n",
        "#     playcount = []\n",
        "\n",
        "#     for name in get_user_friends():\n",
        "\n",
        "#         friend_album = lastfm_get({\n",
        "#             'method': 'user.getTopAlbums',\n",
        "#             'user': name\n",
        "#         })\n",
        "\n",
        "#         playcnt = friend_album.json()['topalbums']['album'][0]['playcount']\n",
        "\n",
        "#         playcount.append(str(playcnt))\n",
        "\n",
        "#     return playcount"
      ]
    },
    {
      "cell_type": "code",
      "execution_count": null,
      "metadata": {
        "id": "6cMeyjrcEliu"
      },
      "outputs": [],
      "source": [
        "# album_playcount = get_friends_top_album_playcount()"
      ]
    },
    {
      "cell_type": "code",
      "execution_count": null,
      "metadata": {
        "id": "x0FBFdFTYhI6"
      },
      "outputs": [],
      "source": [
        "# print(album_playcount)\n",
        "# print(len(album_playcount))"
      ]
    },
    {
      "cell_type": "code",
      "execution_count": null,
      "metadata": {
        "id": "x2oJvF1MjwJJ"
      },
      "outputs": [],
      "source": [
        "# n_playcount = [int(i) for i in album_playcount]\n",
        "# print(n_playcount)"
      ]
    },
    {
      "cell_type": "code",
      "execution_count": null,
      "metadata": {
        "id": "CGPg-cuTdDdQ"
      },
      "outputs": [],
      "source": [
        "# import pandas as pd\n",
        "\n",
        "# albums, uniques = pd.factorize(album_names)\n"
      ]
    },
    {
      "cell_type": "code",
      "execution_count": null,
      "metadata": {
        "id": "j7kqonyRdRDP"
      },
      "outputs": [],
      "source": [
        "# print(albums)\n",
        "\n",
        "# print(type(albums))"
      ]
    },
    {
      "cell_type": "code",
      "execution_count": null,
      "metadata": {
        "id": "7u529kf5jBbv"
      },
      "outputs": [],
      "source": [
        "# n_albums = [int(i) for i in albums]\n",
        "# print(n_albums)\n"
      ]
    },
    {
      "cell_type": "code",
      "execution_count": null,
      "metadata": {
        "id": "ilTtD46wYpBE"
      },
      "outputs": [],
      "source": [
        "# data = []\n",
        "\n",
        "# data.append(list(range(1,50)))\n",
        "# data.append(friend_names)\n",
        "# data.append(n_albums)\n",
        "# data.append(album_names)\n",
        "# data.append(n_playcount)"
      ]
    },
    {
      "cell_type": "code",
      "execution_count": null,
      "metadata": {
        "id": "34Vp7ln5YpH0"
      },
      "outputs": [],
      "source": [
        "print(data)"
      ]
    },
    {
      "cell_type": "code",
      "execution_count": 76,
      "metadata": {
        "id": "8rySnX1wYpJw"
      },
      "outputs": [],
      "source": [
        "n_data = [[a[n] for a in data] for n in range(len(data[0]))]"
      ]
    },
    {
      "cell_type": "code",
      "execution_count": 77,
      "metadata": {
        "colab": {
          "base_uri": "https://localhost:8080/"
        },
        "id": "q-AMI8hyYpQB",
        "outputId": "e2b3246e-bd4e-4731-9e25-cb04ed1ae643"
      },
      "outputs": [
        {
          "name": "stdout",
          "output_type": "stream",
          "text": [
            "[[0, 'hikamu', 0, 'Black Moon', 8027], [0, 'hikamu', 1, 'D&G', 3190], [0, 'hikamu', 2, 'FLASH DESIRE', 2356], [0, 'hikamu', 3, 'Azeroy', 2164], [0, 'hikamu', 4, 'Icedancer', 2036], [0, 'hikamu', 5, 'Marjorie -W.C. Sinclair', 1735], [0, 'hikamu', 6, 'AZEROY GARDEN 8888', 1503], [0, 'hikamu', 7, 'SURGEON DOGMA', 1495], [0, 'hikamu', 8, 'Last Bible', 1428], [0, 'hikamu', 9, 'SWORDS', 1300], [0, 'hikamu', 10, 'CRYSTAL HELIX', 1044], [0, 'hikamu', 11, 'Gluee', 991], [0, 'hikamu', 12, 'EVERSINCE', 875], [0, 'hikamu', 13, 'BAROQUE', 725], [0, 'hikamu', 14, 'Contemporary Movement', 695], [0, 'hikamu', 15, 'Working on Dying', 639], [0, 'hikamu', 16, 'E', 579], [0, 'hikamu', 17, 'Red Light', 552], [0, 'hikamu', 18, 'Earlier Works Bootleg', 516], [0, 'hikamu', 19, 'Munnie Fetish Renegade Demon', 489], [0, 'hikamu', 20, 'Legendary Member', 483], [0, 'hikamu', 21, 'Let Me Go', 469], [0, 'hikamu', 22, 'VALERIA PULSAR', 460], [0, 'hikamu', 23, 'The Best Piece of Shit Vol. 3', 455], [0, 'hikamu', 24, 'Unknown Memory', 428], [0, 'hikamu', 25, 'e m o c e a n', 395], [0, 'hikamu', 26, 'CLAWS', 384], [0, 'hikamu', 27, 'Total Eclipse', 376], [0, 'hikamu', 28, 'Rare RCB hexD', 375], [0, 'hikamu', 29, 'Pale Swordsman', 362], [0, 'hikamu', 30, 'Minecraft - Volume Alpha', 341], [0, 'hikamu', 31, 'Чернь', 341], [0, 'hikamu', 32, 'outcome', 329], [0, 'hikamu', 33, 'Grimey Youth', 321], [0, 'hikamu', 34, 'HARDSTYLE DRILL 2009 NOKIA ANGELZ 1.6', 320], [0, 'hikamu', 35, 'rip bladee', 318], [0, 'hikamu', 36, '302? ionwan2go', 308], [0, 'hikamu', 37, 'SILENT HILL3 (Original Soundtrack)', 299], [0, 'hikamu', 38, '333', 299], [0, 'hikamu', 39, 'Trash Island', 298], [0, 'hikamu', 40, 'Yrrr Mind', 292], [0, 'hikamu', 41, 'Drakengard', 291], [0, 'hikamu', 42, 'so bitter', 290], [0, 'hikamu', 43, 'Unknown Death 2002', 287], [0, 'hikamu', 44, 'Bladeecity', 284], [0, 'hikamu', 45, 'Almighty So', 269], [0, 'hikamu', 46, 'Poison Ivy', 269], [0, 'hikamu', 47, 'Rainbow Bridge 3', 242], [0, 'hikamu', 48, 'The Fool', 239], [0, 'hikamu', 49, 'Kyoto', 239], [1, 'Ko_tatsu', 50, 'Drukqs', 387], [1, 'Ko_tatsu', 51, 'The Tired Sounds of Stars of the Lid', 330], [1, 'Ko_tatsu', 52, 'Selected Ambient Works Volume II', 267], [1, 'Ko_tatsu', 53, 'The Ape of Naples', 254], [1, 'Ko_tatsu', 54, 'Vivadixiesubmarinetransmissionplot', 244], [1, 'Ko_tatsu', 55, 'Soundtracks for the Blind', 213], [1, 'Ko_tatsu', 56, 'The Dance of the Moon and the Sun', 194], [1, 'Ko_tatsu', 57, 'Trust', 186], [1, 'Ko_tatsu', 58, 'Geogaddi', 161], [1, 'Ko_tatsu', 59, 'Zen Arcade', 151], [1, 'Ko_tatsu', 60, 'Music Has the Right to Children', 150], [1, 'Ko_tatsu', 61, 'Xuvetyn', 150], [1, 'Ko_tatsu', 62, 'Pink Flag', 150], [1, 'Ko_tatsu', 63, 'Ágætis byrjun', 146], [1, 'Ko_tatsu', 64, 'You Will Never Know Why', 143], [1, 'Ko_tatsu', 65, 'Hellfire', 141], [1, 'Ko_tatsu', 66, 'Exai', 139], [1, 'Ko_tatsu', 67, 'Velocity: Design: Comfort.', 134], [1, 'Ko_tatsu', 68, 'Feels', 130], [1, 'Ko_tatsu', 69, 'LP5', 123], [1, 'Ko_tatsu', 70, 'Quaristice', 121], [1, 'Ko_tatsu', 71, 'Tri Repetae', 121], [1, 'Ko_tatsu', 72, 'In Rainbows', 115], [1, 'Ko_tatsu', 73, 'Yanqui U.X.O.', 113], [1, 'Ko_tatsu', 74, 'Stratosphere', 111], [1, 'Ko_tatsu', 75, 'Ravedeath, 1972', 109], [1, 'Ko_tatsu', 76, 'Yerself Is Steam', 106], [1, 'Ko_tatsu', 77, 'From Here We Go Sublime', 104], [1, 'Ko_tatsu', 78, 'Haunt Me', 104], [1, 'Ko_tatsu', 79, 'Confield', 102], [1, 'Ko_tatsu', 80, 'The Glow, Pt. 2', 102], [1, 'Ko_tatsu', 81, 'The Campfire Headphase', 101], [1, 'Ko_tatsu', 82, 'A Moon Shaped Pool', 101], [1, 'Ko_tatsu', 83, 'Red House Painters I', 100], [1, 'Ko_tatsu', 84, 'Hitori + Kaiso (1998 - 2001)', 98], [1, 'Ko_tatsu', 85, 'Rounds', 94], [1, 'Ko_tatsu', 86, 'TNT', 94], [1, 'Ko_tatsu', 87, 'Born Into Trouble as the Sparks Fly Upward', 93], [1, 'Ko_tatsu', 88, 'Things We Lost In the Fire', 92], [1, 'Ko_tatsu', 89, 'Syro', 91], [1, 'Ko_tatsu', 90, 'Codename: Dustsucker', 91], [1, 'Ko_tatsu', 91, 'A Promise', 91], [1, 'Ko_tatsu', 92, '...I Care Because You Do', 88], [1, 'Ko_tatsu', 93, 'Oversteps', 88], [1, 'Ko_tatsu', 94, 'Washing Machine', 88], [1, 'Ko_tatsu', 95, 'Pygmalion', 87], [1, 'Ko_tatsu', 96, 'Amber', 86], [1, 'Ko_tatsu', 97, 'Untrue', 86], [1, 'Ko_tatsu', 98, 'Electro-Shock Blues', 86], [1, 'Ko_tatsu', 99, \"Love's Secret Domain (30th Anniversary 2021 Remaster) [Bonati]\", 85], [2, 'oddpulp', 100, 'KiCk i', 1919], [2, 'oddpulp', 101, 'I Brought You My Bullets, You Brought Me Your Love', 1399], [2, 'oddpulp', 102, 'The Black Parade', 1175], [2, 'oddpulp', 103, 'His N Hers', 1149], [2, 'oddpulp', 104, 'Arca', 1006], [2, 'oddpulp', 105, 'KicK iii', 1002], [2, 'oddpulp', 106, 'Three Cheers for Sweet Revenge', 899], [2, 'oddpulp', 107, 'KICK ii', 882], [2, 'oddpulp', 108, 'Freaks', 725], [2, 'oddpulp', 109, 'Danger Days: The True Lives of the Fabulous Killjoys', 682], [2, 'oddpulp', 110, 'パンクの鬼 (Tokyo Anal Dynamite)', 679], [2, 'oddpulp', 111, 'kiCK iiiii', 607], [2, 'oddpulp', 112, 'Different Class', 598], [2, 'oddpulp', 113, 'Mutant', 460], [2, 'oddpulp', 114, 'Fetch', 449], [2, 'oddpulp', 115, 'Chocolate Hearts and Stag Beetles', 432], [2, 'oddpulp', 116, 'S/T', 432], [2, 'oddpulp', 117, 'Early Works Bootleg', 424], [2, 'oddpulp', 118, '4: AIDS-a-Delic', 385], [2, 'oddpulp', 119, 'how many h8 can u feeling?', 368], [2, 'oddpulp', 120, 'El Alma Que Te Trajo', 364], [2, 'oddpulp', 121, 'Enemy Of The Azunyan Business', 361], [2, 'oddpulp', 122, '@@@@@', 341], [2, 'oddpulp', 123, 'OOIOO', 327], [2, 'oddpulp', 124, '22nd Chances', 323], [2, 'oddpulp', 125, 'Unlimited Ammo', 305], [2, 'oddpulp', 126, 'WAHALLA', 303], [2, 'oddpulp', 127, 'Instruments Disorder (170 Songs CD)', 293], [2, 'oddpulp', 128, 'Yellow Trash Bazooka', 290], [2, 'oddpulp', 129, 'Umeå', 287], [2, 'oddpulp', 130, 'This Is Hardcore', 284], [2, 'oddpulp', 5, 'Marjorie -W.C. Sinclair', 283], [2, 'oddpulp', 131, 'Separations (Remastered)', 281], [2, 'oddpulp', 132, 'Cutie Cutie', 273], [2, 'oddpulp', 133, \"'77 Live\", 273], [2, 'oddpulp', 134, \"What's Tonight To Eternity\", 268], [2, 'oddpulp', 135, 'Oh! Mountain', 263], [2, 'oddpulp', 136, 'Xen (????? Edition)', 253], [2, 'oddpulp', 137, 'VOLCANIC BIRD ENEMY AND THE VOICED CONCERN', 244], [2, 'oddpulp', 138, '空中キャンプ', 242], [2, 'oddpulp', 139, 'あらためまして、はじめまして、ミドリです。', 242], [2, 'oddpulp', 3, 'Azeroy', 237], [2, 'oddpulp', 140, 'The Foundations of Decay', 232], [2, 'oddpulp', 141, '[untitled]', 231], [2, 'oddpulp', 142, 'This Is Not an Erect, All-Red Neon Body', 230], [2, 'oddpulp', 143, 'It', 230], [2, 'oddpulp', 144, 'Malenkost', 215], [2, 'oddpulp', 145, 'Nothing Above, Nothing Below', 215], [2, 'oddpulp', 146, 'Cable Hogue Soundtrack', 215], [2, 'oddpulp', 147, '宇宙 日本 世田谷', 214], [3, 'arthuic', 148, 'Pang', 56], [3, 'arthuic', 149, 'Ultraviolence (Deluxe)', 32], [3, 'arthuic', 150, 'to hell with it', 30], [3, 'arthuic', 151, 'Galore', 23], [3, 'arthuic', 152, 'Beatopia', 20], [3, 'arthuic', 153, 'Norman Fucking Rockwell!', 20], [3, 'arthuic', 154, 'Essentials', 18], [3, 'arthuic', 155, 'Flower Boy', 17], [3, 'arthuic', 156, 'Sin Miedo (del Amor y Otros Demonios) ∞', 14], [3, 'arthuic', 157, 'Sensational', 13], [3, 'arthuic', 158, 'Max & Match', 13], [3, 'arthuic', 159, 'Nymph', 13], [3, 'arthuic', 160, 'Patched Up', 12], [3, 'arthuic', 161, 'CRASH', 12], [3, 'arthuic', 162, 'bOrN pInK', 11], [3, 'arthuic', 163, 'Lust for Life', 11], [3, 'arthuic', 164, 'Yves', 11], [3, 'arthuic', 165, 'Midnights (3am Edition)', 11], [3, 'arthuic', 166, 'Ctrl', 10], [3, 'arthuic', 167, 'Blonde', 9], [3, 'arthuic', 168, 'Fake It Flowers', 8], [3, 'arthuic', 169, 'Climate Hive', 8], [3, 'arthuic', 170, 'French Exit', 8], [3, 'arthuic', 171, 'Soft Forest Clappering', 7], [3, 'arthuic', 172, 'Sky Is Rumbling', 7], [3, 'arthuic', 173, 'evermore (deluxe version)', 7], [3, 'arthuic', 174, 'Weather Watcher', 7], [3, 'arthuic', 175, 'Black Panther the Album Music From and Inspired By', 6], [3, 'arthuic', 176, 'Rainward', 6], [3, 'arthuic', 177, 'Blue Banisters', 6], [3, 'arthuic', 178, 'Chemtrails Over the Country Club', 6], [3, 'arthuic', 179, 'Nano Wave Sounds', 6], [3, 'arthuic', 180, 'Rainy days and rainy nights', 6], [3, 'arthuic', 181, 'Relaxation Makers', 6], [3, 'arthuic', 182, 'Soft Waves', 6], [3, 'arthuic', 183, 'WE NEED LOVE', 6], [3, 'arthuic', 184, 'YOUNG-LUV.COM', 6], [3, 'arthuic', 185, 'Z', 6], [3, 'arthuic', 186, 'folklore', 6], [3, 'arthuic', 187, 'folklore (deluxe version)', 6], [3, 'arthuic', 188, 'Sleepy Storm', 6], [3, 'arthuic', 189, \"Qu'il y Ait Des Vagues\", 6], [3, 'arthuic', 190, '2021 Wave Sounds', 6], [3, 'arthuic', 191, 'Ocean HD Vol. 3', 6], [3, 'arthuic', 192, 'Latent Heat', 6], [3, 'arthuic', 193, 'Thriftless Thunder', 5], [3, 'arthuic', 107, 'KICK ii', 5], [3, 'arthuic', 194, 'CAPRISONGS', 5], [3, 'arthuic', 195, 'Luscious Rain', 5], [3, 'arthuic', 196, 'Isolation', 5], [4, 'darcvv', 197, 'Souvlaki', 8101], [4, 'darcvv', 198, 'Around the Fur', 7168], [4, 'darcvv', 199, 'Nevermind (Deluxe Edition)', 4723], [4, 'darcvv', 200, 'unexpectedly', 4222], [4, 'darcvv', 201, 'OK Computer', 4056], [4, 'darcvv', 202, 'Loveless', 3464], [4, 'darcvv', 149, 'Ultraviolence (Deluxe)', 3462], [4, 'darcvv', 203, 'The Dark Side of the Moon', 3322], [4, 'darcvv', 204, 'Adrenaline', 3012], [4, 'darcvv', 205, 'White Pony', 2995], [4, 'darcvv', 206, 'Kiss Me, Kiss Me, Kiss Me', 2978], [4, 'darcvv', 74, 'Stratosphere', 2916], [4, 'darcvv', 207, 'Saturday Night Wrist', 2797], [4, 'darcvv', 208, \"Unknown Pleasures (Collector's Edition)\", 2796], [4, 'darcvv', 209, 'Pablo Honey', 2726], [4, 'darcvv', 210, 'Weezer', 2693], [4, 'darcvv', 167, 'Blonde', 2644], [4, 'darcvv', 4, 'Icedancer', 2618], [4, 'darcvv', 211, 'The Rise and Fall of Ziggy Stardust and the Spiders from Mars (2012 Remaster)', 2603], [4, 'darcvv', 212, 'Diamond Eyes', 2481], [4, 'darcvv', 213, 'Deathconsciousness', 2447], [4, 'darcvv', 214, 'MTV Unplugged in New York', 2447], [4, 'darcvv', 215, 'Amnesiac', 2417], [4, 'darcvv', 216, 'channel ORANGE', 2267], [4, 'darcvv', 186, 'folklore', 2257], [4, 'darcvv', 217, 'The Bends', 2181], [4, 'darcvv', 218, 'Just for a Day', 2110], [4, 'darcvv', 219, 'Bleach', 2107], [4, 'darcvv', 220, 'Ohms', 2095], [4, 'darcvv', 221, 'Hatful of Hollow', 2051], [4, 'darcvv', 222, 'Siamese Dream (2011 - Remaster)', 1998], [4, 'darcvv', 223, 'The Money Store', 1960], [4, 'darcvv', 224, '13', 1885], [4, 'darcvv', 225, 'The Colour and the Shape', 1884], [4, 'darcvv', 226, 'In Utero - 20th Anniversary - Deluxe Edition', 1868], [4, 'darcvv', 227, 'She Hangs Brightly', 1854], [4, 'darcvv', 228, 'Gore', 1827], [4, 'darcvv', 229, 'Koi No Yokan', 1814], [4, 'darcvv', 230, 'Doolittle', 1797], [4, 'darcvv', 231, 'Born to Die - The Paradise Edition', 1730], [4, 'darcvv', 48, 'The Fool', 1668], [4, 'darcvv', 173, 'evermore (deluxe version)', 1593], [4, 'darcvv', 232, 'Lover', 1556], [4, 'darcvv', 233, 'Blur: The Best Of', 1545], [4, 'darcvv', 234, 'Incesticide', 1506], [4, 'darcvv', 153, 'Norman Fucking Rockwell!', 1489], [4, 'darcvv', 235, 'Retired from Sad, New Career in Business', 1478], [4, 'darcvv', 236, 'Capsule Losing Contact', 1437], [4, 'darcvv', 237, 'The Idiot', 1424], [4, 'darcvv', 238, 'In the Aeroplane Over the Sea', 1353], [5, 'cerejinhalol', 205, 'White Pony', 38], [5, 'cerejinhalol', 239, 'Nevermind (Remastered)', 31], [5, 'cerejinhalol', 240, 'The Slow Rush', 25], [5, 'cerejinhalol', 199, 'Nevermind (Deluxe Edition)', 20], [5, 'cerejinhalol', 207, 'Saturday Night Wrist', 17], [5, 'cerejinhalol', 241, 'When the Pawn...', 16], [5, 'cerejinhalol', 212, 'Diamond Eyes', 13], [5, 'cerejinhalol', 242, 'Fallen', 11], [5, 'cerejinhalol', 106, 'Three Cheers for Sweet Revenge', 11], [5, 'cerejinhalol', 72, 'In Rainbows', 11], [5, 'cerejinhalol', 243, 'Mezmerize', 10], [5, 'cerejinhalol', 198, 'Around the Fur', 8], [5, 'cerejinhalol', 244, 'Metallica', 8], [5, 'cerejinhalol', 245, 'Vol. 3: The Subliminal Verses', 8], [5, 'cerejinhalol', 246, 'Hybrid Theory (Bonus Edition)', 7], [5, 'cerejinhalol', 217, 'The Bends', 7], [5, 'cerejinhalol', 247, 'Facelift', 6], [5, 'cerejinhalol', 248, 'From Under the Cork Tree', 6], [5, 'cerejinhalol', 249, 'BU-IKIKAESU', 6], [5, 'cerejinhalol', 226, 'In Utero - 20th Anniversary - Deluxe Edition', 6], [5, 'cerejinhalol', 228, 'Gore', 6], [5, 'cerejinhalol', 224, '13', 5], [5, 'cerejinhalol', 233, 'Blur: The Best Of', 5], [5, 'cerejinhalol', 204, 'Adrenaline', 5], [5, 'cerejinhalol', 250, 'Deftones', 5], [5, 'cerejinhalol', 251, 'Sinner', 5], [5, 'cerejinhalol', 252, 'Dynasty', 5], [5, 'cerejinhalol', 253, 'Be the Cowboy', 5], [5, 'cerejinhalol', 254, 'Absolution', 5], [5, 'cerejinhalol', 255, 'In Utero - 20th Anniversary Remaster', 5], [5, 'cerejinhalol', 256, 'System of a Down', 5], [5, 'cerejinhalol', 257, 'Toxicity', 5], [5, 'cerejinhalol', 258, 'Currents', 5], [5, 'cerejinhalol', 259, 'Comedown Machine', 5], [5, 'cerejinhalol', 260, 'Black Ice', 4], [5, 'cerejinhalol', 261, 'Post', 4], [5, 'cerejinhalol', 262, 'Twilight', 4], [5, 'cerejinhalol', 263, 'Anywhere But Home (Live)', 4], [5, 'cerejinhalol', 264, 'Use Your Illusion II', 4], [5, 'cerejinhalol', 265, 'See You on the Other Side', 4], [5, 'cerejinhalol', 266, 'St. Anger', 4], [5, 'cerejinhalol', 102, 'The Black Parade', 4], [5, 'cerejinhalol', 234, 'Incesticide', 4], [5, 'cerejinhalol', 267, 'The Wall', 4], [5, 'cerejinhalol', 215, 'Amnesiac', 4], [5, 'cerejinhalol', 209, 'Pablo Honey', 4], [5, 'cerejinhalol', 268, 'Awake', 4], [5, 'cerejinhalol', 269, 'All Hope Is Gone (10th Anniversary)', 4], [5, 'cerejinhalol', 270, 'Superunknown (Deluxe Edition)', 4], [5, 'cerejinhalol', 271, 'Mrs Magic', 4], [6, 'caudria', 272, 'I like it when you sleep, for you are so beautiful yet so unaware of it', 526], [6, 'caudria', 273, 'A Brief Inquiry Into Online Relationships', 508], [6, 'caudria', 274, 'Notes on a Conditional Form', 466], [6, 'caudria', 275, 'The 1975', 343], [6, 'caudria', 240, 'The Slow Rush', 270], [6, 'caudria', 258, 'Currents', 240], [6, 'caudria', 209, 'Pablo Honey', 238], [6, 'caudria', 276, 'Oracular Spectacular', 185], [6, 'caudria', 277, 'brand new eyes', 169], [6, 'caudria', 278, 'Chip Chrome & The Mono-Tones (Deluxe)', 165], [6, 'caudria', 279, 'Who Really Cares', 149], [6, 'caudria', 280, 'The 1975 (Deluxe)', 146], [6, 'caudria', 281, 'Congratulations', 138], [6, 'caudria', 282, 'GABRIEL', 135], [6, 'caudria', 283, 'Corinne Bailey Rae', 124], [6, 'caudria', 284, 'Plastic Beach', 112], [6, 'caudria', 285, 'Peripheral Vision', 111], [6, 'caudria', 286, 'mOoDsWiNgS iN tO oRdEr', 109], [6, 'caudria', 287, 'Sidelines', 106], [6, 'caudria', 170, 'French Exit', 106], [6, 'caudria', 288, 'Little Dark Age', 105], [6, 'caudria', 253, 'Be the Cowboy', 101], [6, 'caudria', 289, 'When You Come Around', 101], [6, 'caudria', 72, 'In Rainbows', 100], [6, 'caudria', 290, 'MATA', 97], [6, 'caudria', 291, \"Harry's House\", 94], [6, 'caudria', 292, 'The New Abnormal', 93], [6, 'caudria', 293, 'RENAISSANCE', 91], [6, 'caudria', 294, 'Daydream', 91], [6, 'caudria', 295, 'Science & Faith', 90], [6, 'caudria', 296, 'Moodswings In This Order', 89], [6, 'caudria', 297, 'A Twist in My Story', 89], [6, 'caudria', 298, 'Fine Line', 87], [6, 'caudria', 299, \"Good Morning It's Now Tomorrow\", 85], [6, 'caudria', 300, \"mama's boy\", 83], [6, 'caudria', 217, 'The Bends', 79], [6, 'caudria', 301, 'Once Twice Melody', 75], [6, 'caudria', 302, 'TEMPORARY HIGHS IN THE VIOLET SKIES', 75], [6, 'caudria', 303, 'Pastlife', 73], [6, 'caudria', 304, 'The Night in Question: French Exit Outtakes', 72], [6, 'caudria', 305, 'What Do You Really Know?', 71], [6, 'caudria', 306, 'RIP Indo Hisashi', 69], [6, 'caudria', 307, 'Wolfgang Amadeus Phoenix', 69], [6, 'caudria', 308, 'gg bb xx', 68], [6, 'caudria', 309, 'The Miseducation of Lauryn Hill', 67], [6, 'caudria', 310, 'Being Funny In A Foreign Language', 67], [6, 'caudria', 311, '22', 65], [6, 'caudria', 312, 'Hopes and Fears', 65], [6, 'caudria', 313, 'Demon Days', 64], [6, 'caudria', 314, \"Brotherhood (Collector's Edition)\", 64], [7, 'CitrusCircus', 315, 'One Nite Alone... Live!', 29883], [7, 'CitrusCircus', 316, 'Purple Rain (Deluxe) [Expanded Edition]', 9110], [7, 'CitrusCircus', 317, \"One Nite Alone... The Aftershow: It Ain't Over! (Up Late with Prince & the NPG) [Live]\", 8985], [7, 'CitrusCircus', 318, 'Anthology: 1995-2010', 8821], [7, 'CitrusCircus', 319, 'Indigo Nights / Live Sessions', 8149], [7, 'CitrusCircus', 320, 'Emancipation', 5678], [7, 'CitrusCircus', 321, \"Sign ''O'' the Times\", 5551], [7, 'CitrusCircus', 322, 'Live in London', 5327], [7, 'CitrusCircus', 323, 'Parade (Music from the Motion Picture Under the Cherry Moon)', 4492], [7, 'CitrusCircus', 324, 'Musicology', 4117], [7, 'CitrusCircus', 325, 'Graffiti Bridge', 4017], [7, 'CitrusCircus', 326, 'Live in Dublin', 3948], [7, 'CitrusCircus', 327, \"Don Juan's Reckless Daughter\", 3858], [7, 'CitrusCircus', 328, 'Piano & a Microphone 1983', 3739], [7, 'CitrusCircus', 329, '1999', 3719], [7, 'CitrusCircus', 330, 'Prince', 3438], [7, 'CitrusCircus', 331, 'Originals', 3318], [7, 'CitrusCircus', 332, 'Blue Gardenia', 2985], [7, 'CitrusCircus', 333, '3121', 2897], [7, 'CitrusCircus', 334, 'Diamonds and Pearls', 2874], [7, 'CitrusCircus', 335, 'One Nite Alone... (Solo piano and voice by Prince)', 2771], [7, 'CitrusCircus', 336, 'Love Symbol Album', 2531], [7, 'CitrusCircus', 337, 'For You', 2426], [7, 'CitrusCircus', 338, 'Purple Rain', 2373], [7, 'CitrusCircus', 339, 'Crystal Ball', 2327], [7, 'CitrusCircus', 340, 'The Rainbow Children', 2324], [7, 'CitrusCircus', 341, 'Court and Spark', 2250], [7, 'CitrusCircus', 342, 'Around the World in a Day', 2230], [7, 'CitrusCircus', 343, 'Shadows and Light', 2176], [7, 'CitrusCircus', 344, 'Sweet Soul Queen of New Orleans: The Irma Thomas Collection', 2166], [7, 'CitrusCircus', 345, '20Ten', 2118], [7, 'CitrusCircus', 346, 'Back to Black', 1935], [7, 'CitrusCircus', 347, 'The Truth', 1928], [7, 'CitrusCircus', 348, 'Hejira', 1925], [7, 'CitrusCircus', 349, 'Dirty Mind', 1917], [7, 'CitrusCircus', 350, 'Miles of Aisles', 1895], [7, 'CitrusCircus', 351, 'For the Roses', 1888], [7, 'CitrusCircus', 352, 'PLECTRUMELECTRUM', 1863], [7, 'CitrusCircus', 353, 'Live at Carnegie Hall 1972-02-23', 1825], [7, 'CitrusCircus', 354, 'Prince And The Revolution: Live', 1766], [7, 'CitrusCircus', 355, 'From Natchez To New York', 1719], [7, 'CitrusCircus', 356, 'The Hissing Of The Summer Lawns', 1710], [7, 'CitrusCircus', 357, 'Blue', 1697], [7, 'CitrusCircus', 358, 'Live at Red Rocks, 30.08.1983', 1590], [7, 'CitrusCircus', 359, 'River: The Joni Letters', 1589], [7, 'CitrusCircus', 360, \"A Woman's Viewpoint: The Essential 1970s Recordings\", 1583], [7, 'CitrusCircus', 361, 'Frank', 1577], [7, 'CitrusCircus', 362, 'Ulisses', 1539], [7, 'CitrusCircus', 363, 'Ladies of the Canyon', 1537], [7, 'CitrusCircus', 364, 'Preludes: Rare And Unreleased Recordings', 1472], [8, 'kaiquemaximoff', 187, 'folklore (deluxe version)', 2219], [8, 'kaiquemaximoff', 365, \"Red (Taylor's Version)\", 1830], [8, 'kaiquemaximoff', 232, 'Lover', 1255], [8, 'kaiquemaximoff', 173, 'evermore (deluxe version)', 1129], [8, 'kaiquemaximoff', 153, 'Norman Fucking Rockwell!', 1115], [8, 'kaiquemaximoff', 366, 'reputation', 1084], [8, 'kaiquemaximoff', 367, '1989 (Deluxe)', 1049], [8, 'kaiquemaximoff', 368, 'Honeymoon', 712], [8, 'kaiquemaximoff', 369, 'Formula of Love: O+T=<3', 671], [8, 'kaiquemaximoff', 370, \"Fearless (Taylor's Version)\", 654], [8, 'kaiquemaximoff', 371, 'Speak Now', 630], [8, 'kaiquemaximoff', 372, 'THE ALBUM', 621], [8, 'kaiquemaximoff', 373, 'MOTOMAMI', 608], [8, 'kaiquemaximoff', 165, 'Midnights (3am Edition)', 608], [8, 'kaiquemaximoff', 374, 'Rare (Deluxe)', 536], [8, 'kaiquemaximoff', 375, 'Savage - The 1st Mini Album', 476], [8, 'kaiquemaximoff', 376, 'BETWEEN 1&2', 473], [8, 'kaiquemaximoff', 148, 'Pang', 465], [8, 'kaiquemaximoff', 149, 'Ultraviolence (Deluxe)', 448], [8, 'kaiquemaximoff', 377, 'Born This Way (International Special Edition Version)', 444], [8, 'kaiquemaximoff', 378, 'SOUR', 432], [8, 'kaiquemaximoff', 162, 'bOrN pInK', 428], [8, 'kaiquemaximoff', 379, 'Lemonade', 421], [8, 'kaiquemaximoff', 380, 'Melodrama', 412], [8, 'kaiquemaximoff', 293, 'RENAISSANCE', 392], [8, 'kaiquemaximoff', 381, 'COR', 355], [8, 'kaiquemaximoff', 163, 'Lust for Life', 351], [8, 'kaiquemaximoff', 382, \"Hollywood's Bleeding\", 340], [8, 'kaiquemaximoff', 383, 'CRASH (Deluxe)', 336], [8, 'kaiquemaximoff', 384, 'The Perfect Red Velvet - The 2nd Album Repackage', 335], [8, 'kaiquemaximoff', 385, 'Chromatica', 327], [8, 'kaiquemaximoff', 231, 'Born to Die - The Paradise Edition', 315], [8, 'kaiquemaximoff', 386, 'Feel Special', 312], [8, 'kaiquemaximoff', 387, 'WHEN WE ALL FALL ASLEEP, WHERE DO WE GO?', 311], [8, 'kaiquemaximoff', 388, 'Im Nayeon', 303], [8, 'kaiquemaximoff', 177, 'Blue Banisters', 301], [8, 'kaiquemaximoff', 389, 'Cry Baby (Deluxe Edition)', 300], [8, 'kaiquemaximoff', 390, 'All My Demons Greeting Me As A Friend (Deluxe)', 295], [8, 'kaiquemaximoff', 391, 'MORE & MORE', 279], [8, 'kaiquemaximoff', 392, 'Scorpion', 274], [8, 'kaiquemaximoff', 393, '28 Reasons - The 1st Mini Album', 262], [8, 'kaiquemaximoff', 394, 'Revival (Deluxe)', 256], [8, 'kaiquemaximoff', 395, 'Eyes wide open', 238], [8, 'kaiquemaximoff', 396, 'K-12', 237], [8, 'kaiquemaximoff', 397, 'Queendom - The 6th Mini Album', 231], [8, 'kaiquemaximoff', 398, '[X X]', 224], [8, 'kaiquemaximoff', 399, 'Hard to Imagine the Neighbourhood Ever Changing', 223], [8, 'kaiquemaximoff', 400, 'More Life', 221], [8, 'kaiquemaximoff', 401, 'Taste of Love', 213], [8, 'kaiquemaximoff', 402, 'Red (Deluxe Edition)', 209], [9, 'Junkento', 213, 'Deathconsciousness', 1320], [9, 'Junkento', 201, 'OK Computer', 819], [9, 'Junkento', 217, 'The Bends', 645], [9, 'Junkento', 74, 'Stratosphere', 602], [9, 'Junkento', 403, 'Kid A', 508], [9, 'Junkento', 404, 'Shame, Shame (Deluxe Edition)', 491], [9, 'Junkento', 405, 'Pinkerton - Deluxe Edition', 453], [9, 'Junkento', 406, 'The Smiths', 447], [9, 'Junkento', 407, 'Talk Talk Talk', 443], [9, 'Junkento', 215, 'Amnesiac', 432], [9, 'Junkento', 408, 'DEATH NOTE original soundtrack', 422], [9, 'Junkento', 409, 'Songs About Leaving', 404], [9, 'Junkento', 410, 'Aerial 13', 384], [9, 'Junkento', 411, 'First Utterance', 353], [9, 'Junkento', 412, 'The Devil and God Are Raging Inside Me', 350], [9, 'Junkento', 413, 'Shakers For You', 340], [9, 'Junkento', 414, 'Hard Normal Daddy', 340], [9, 'Junkento', 415, 'Is This It', 328], [9, 'Junkento', 416, 'How It Feels to Be Something On', 325], [9, 'Junkento', 417, 'D>E>A>T>H>M>E>T>A>L', 314], [9, 'Junkento', 418, 'Alucinaciones en familia', 255], [9, 'Junkento', 419, \"La Conferencia Secreta Del Toto'S Bar\", 248], [9, 'Junkento', 420, 'American Football', 239], [9, 'Junkento', 421, 'Obey', 239], [9, 'Junkento', 422, 'Voids', 235], [9, 'Junkento', 71, 'Tri Repetae', 229], [9, 'Junkento', 423, 'Room on Fire', 219], [9, 'Junkento', 424, 'Raro', 214], [9, 'Junkento', 425, 'Deloused in the Comatorium', 207], [9, 'Junkento', 426, 'Soy Una Arveja', 202], [9, 'Junkento', 209, 'Pablo Honey', 196], [9, 'Junkento', 427, 'Barranca Abajo', 188], [9, 'Junkento', 428, 'Restos de un incendio', 183], [9, 'Junkento', 221, 'Hatful of Hollow', 183], [9, 'Junkento', 429, 'Danganronpa : Trigger Happy Havoc Original Soundtrack', 179], [9, 'Junkento', 430, 'haha', 179], [9, 'Junkento', 431, 'Yankee Hotel Foxtrot', 174], [9, 'Junkento', 432, 'Down Colorful Hill', 173], [9, 'Junkento', 433, 'Electro-Soma', 172], [9, 'Junkento', 434, 'Damnation', 163], [9, 'Junkento', 435, 'Zanoza', 150], [9, 'Junkento', 436, 'Развлечение', 148], [9, 'Junkento', 437, 'Pinkerton', 144], [9, 'Junkento', 438, 'Lunatic Harness', 138], [9, 'Junkento', 435, 'Zanoza', 138], [9, 'Junkento', 439, 'Selected Ambient Works 85-92', 136], [9, 'Junkento', 440, 'one', 135], [9, 'Junkento', 441, 'Rubber Soul', 132], [9, 'Junkento', 442, 'You All Look the Same to Me', 125], [9, 'Junkento', 443, 'Split', 117], [10, 'jinsoulist', 444, 'Lush', 1513], [10, 'jinsoulist', 445, 'The Colour in Anything', 1324], [10, 'jinsoulist', 446, 'Overgrown', 1118], [10, 'jinsoulist', 447, 'James Blake', 918], [10, 'jinsoulist', 448, '[#]', 908], [10, 'jinsoulist', 158, 'Max & Match', 856], [10, 'jinsoulist', 449, 'Endless', 855], [10, 'jinsoulist', 450, 'Assume Form', 756], [10, 'jinsoulist', 451, 'Hounds of Love', 689], [10, 'jinsoulist', 452, 'Broke with Expensive Taste', 675], [10, 'jinsoulist', 453, '[+ +]', 633], [10, 'jinsoulist', 454, 'Valentine', 631], [10, 'jinsoulist', 455, '[&]', 626], [10, 'jinsoulist', 456, '[12:00]', 604], [10, 'jinsoulist', 457, 'JinSoul', 588], [10, 'jinsoulist', 458, 'Charli', 554], [10, 'jinsoulist', 459, 'MAGDALENE', 526], [10, 'jinsoulist', 398, '[X X]', 512], [10, 'jinsoulist', 460, '333 (Deluxe)', 499], [10, 'jinsoulist', 461, 'Perfect Velvet - The 2nd Album', 488], [10, 'jinsoulist', 462, 'EP2', 469], [10, 'jinsoulist', 463, 'LP1', 457], [10, 'jinsoulist', 464, 'M3LL155X', 448], [10, 'jinsoulist', 465, 'Unknown Pleasures', 416], [10, 'jinsoulist', 466, 'Blood', 411], [10, 'jinsoulist', 104, 'Arca', 410], [10, 'jinsoulist', 467, 'Lungs (International Version)', 400], [10, 'jinsoulist', 100, 'KiCk i', 378], [10, 'jinsoulist', 468, 'Aromanticism', 363], [10, 'jinsoulist', 469, 'When I Get Home', 362], [10, 'jinsoulist', 470, 'CTRL (Deluxe)', 361], [10, 'jinsoulist', 471, 'Choerry', 338], [10, 'jinsoulist', 472, 'Kim Lip', 338], [10, 'jinsoulist', 197, 'Souvlaki', 330], [10, 'jinsoulist', 473, 'Clean', 323], [10, 'jinsoulist', 474, 'How Big, How Blue, How Beautiful (Deluxe)', 313], [10, 'jinsoulist', 475, 'Goddess (Deluxe)', 312], [10, 'jinsoulist', 476, 'Take Me Apart', 289], [10, 'jinsoulist', 477, 'Carrie & Lowell', 289], [10, 'jinsoulist', 478, 'Number 1 Angel', 282], [10, 'jinsoulist', 479, 'Summer Special [Flip That]', 271], [10, 'jinsoulist', 480, 'Ceremonials', 267], [10, 'jinsoulist', 379, 'Lemonade', 266], [10, 'jinsoulist', 481, 'Pop 2', 265], [10, 'jinsoulist', 482, 'Friends That Break Your Heart', 252], [10, 'jinsoulist', 221, 'Hatful of Hollow', 246], [10, 'jinsoulist', 483, 'Blue Bell Knoll', 245], [10, 'jinsoulist', 173, 'evermore (deluxe version)', 244], [10, 'jinsoulist', 484, \"What's Your Pleasure?\", 229], [10, 'jinsoulist', 485, 'In Colour', 225], [11, 'Rockrarted', 486, 'Artaud', 124], [11, 'Rockrarted', 487, 'Piano bar', 97], [11, 'Rockrarted', 488, 'The Sound of Perseverance - Reissue', 66], [11, 'Rockrarted', 489, 'Pride & Glory', 61], [11, 'Rockrarted', 490, 'Serú Girán', 55], [11, 'Rockrarted', 491, 'Deliverance', 53], [11, 'Rockrarted', 197, 'Souvlaki', 53], [11, 'Rockrarted', 492, 'Bangkok Shocks, Saigon Shakes, Hanoi Rocks', 49], [11, 'Rockrarted', 493, 'Complete and Total Hell', 49], [11, 'Rockrarted', 494, 'Clics modernos', 47], [11, 'Rockrarted', 495, 'No Mercy For Mayhem', 47], [11, 'Rockrarted', 496, 'Bardcore, Vol. 2', 47], [11, 'Rockrarted', 497, 'Rebel Yell', 45], [11, 'Rockrarted', 498, 'King for a Day, Fool for a Lifetime', 45], [11, 'Rockrarted', 499, 'Two Steps From the Move', 45], [11, 'Rockrarted', 500, 'Blood Sugar Sex Magik (Deluxe Edition)', 44], [11, 'Rockrarted', 501, \"Kill 'em All (Remastered)\", 42], [11, 'Rockrarted', 502, 'García 87/93', 41], [11, 'Rockrarted', 503, 'La Rue Morgue', 41], [11, 'Rockrarted', 504, 'Serú Girán (Remasterizado 2021)', 41], [11, 'Rockrarted', 505, 'En la Ruta', 41], [11, 'Rockrarted', 506, 'Brother', 39], [11, 'Rockrarted', 507, 'The Real Thing', 38], [11, 'Rockrarted', 508, 'How I Go', 38], [11, 'Rockrarted', 509, 'Stay Sick!', 38], [11, 'Rockrarted', 510, 'Skid Row', 37], [11, 'Rockrarted', 511, 'Spellbound', 37], [11, 'Rockrarted', 512, 'Phenomenon (2007 Remaster)', 37], [11, 'Rockrarted', 513, 'Peacemaker', 36], [11, 'Rockrarted', 514, 'Mellon Collie and the Infinite Sadness (Deluxe Edition)', 36], [11, 'Rockrarted', 515, 'An Ocean Between Us', 35], [11, 'Rockrarted', 516, 'Pubis Angelical / Yendo De La Cama Al Living', 34], [11, 'Rockrarted', 517, 'Night of the Blade ...The Night Before', 34], [11, 'Rockrarted', 518, 'Abrázame', 33], [11, 'Rockrarted', 519, 'Historias de un hijo del Blues', 33], [11, 'Rockrarted', 520, 'Too Fast for Love', 33], [11, 'Rockrarted', 521, 'Black Magic', 32], [11, 'Rockrarted', 522, 'Pescado Rabioso 2', 32], [11, 'Rockrarted', 523, 'Morbid Visions / Bestial Devastation', 32], [11, 'Rockrarted', 524, 'Temple of the Dog', 32], [11, 'Rockrarted', 525, 'Bitterness the Star', 31], [11, 'Rockrarted', 526, 'Cowboys From Hell', 31], [11, 'Rockrarted', 527, 'Divididos por la Felicidad', 31], [11, 'Rockrarted', 528, 'Gravity X', 31], [11, 'Rockrarted', 529, 'Brother Cane', 30], [11, 'Rockrarted', 530, 'Hints, Allegations & Things Left Unsaid', 30], [11, 'Rockrarted', 205, 'White Pony', 30], [11, 'Rockrarted', 531, 'Probot', 30], [11, 'Rockrarted', 532, 'Red Fang', 30], [11, 'Rockrarted', 533, 'Dirt', 29], [12, 'Evan_Mumford', 534, 'Madvillainy', 451], [12, 'Evan_Mumford', 535, 'Revenge', 350], [12, 'Evan_Mumford', 536, 'Veteran', 323], [12, 'Evan_Mumford', 537, 'who told you to think??!!?!?!?!', 282], [12, 'Evan_Mumford', 538, \"So The Flies Don't Come\", 271], [12, 'Evan_Mumford', 167, 'Blonde', 255], [12, 'Evan_Mumford', 539, 'Donuts', 234], [12, 'Evan_Mumford', 540, 'things that happen at day // things that happen at night', 227], [12, 'Evan_Mumford', 541, 'IGOR', 203], [12, 'Evan_Mumford', 542, 'Some Rap Songs', 181], [12, 'Evan_Mumford', 543, 'Anthology', 167], [12, 'Evan_Mumford', 544, '17', 157], [12, 'Evan_Mumford', 545, \"I Don't Like Shit, I Don't Go Outside: An Album by Earl Sweatshirt\", 155], [12, 'Evan_Mumford', 546, 'Harbor', 155], [12, 'Evan_Mumford', 547, 'Dark Comedy', 150], [12, 'Evan_Mumford', 548, 'By the Throat', 138], [12, 'Evan_Mumford', 72, 'In Rainbows', 133], [12, 'Evan_Mumford', 549, 'Look at Me! - Single', 133], [12, 'Evan_Mumford', 223, 'The Money Store', 131], [12, 'Evan_Mumford', 550, 'Sports', 131], [12, 'Evan_Mumford', 551, 'Bottomless Pit', 128], [12, 'Evan_Mumford', 552, 'Detour', 126], [12, 'Evan_Mumford', 553, 'When We Were Friends', 126], [12, 'Evan_Mumford', 554, 'The Impossible Kid', 125], [12, 'Evan_Mumford', 555, \"Whatever People Say I Am, That's What I'm Not\", 125], [12, 'Evan_Mumford', 556, 'The G.A.T. (The Gospel According To...)', 124], [12, 'Evan_Mumford', 557, 'let the sun talk', 121], [12, 'Evan_Mumford', 558, 'Hot Fuss', 117], [12, 'Evan_Mumford', 559, 'Hella Personal Film Festival', 113], [12, 'Evan_Mumford', 560, 'No Love Deep Web', 109], [12, 'Evan_Mumford', 238, 'In the Aeroplane Over the Sea', 109], [12, 'Evan_Mumford', 561, 'Japan', 109], [12, 'Evan_Mumford', 562, '1000 gecs', 106], [12, 'Evan_Mumford', 563, 'Twin Fantasy', 104], [12, 'Evan_Mumford', 564, 'Budding ornithologists are weary of tired analogies', 103], [12, 'Evan_Mumford', 565, 'purple moonlight pages', 101], [12, 'Evan_Mumford', 566, 'May God Bless Your Hustle', 98], [12, 'Evan_Mumford', 567, 'All My Heroes Are Cornballs', 97], [12, 'Evan_Mumford', 568, 'Skelethon', 94], [12, 'Evan_Mumford', 569, 'For Emma, Forever Ago', 92], [12, 'Evan_Mumford', 570, 'Hiding Places', 89], [12, 'Evan_Mumford', 387, 'WHEN WE ALL FALL ASLEEP, WHERE DO WE GO?', 84], [12, 'Evan_Mumford', 201, 'OK Computer', 82], [12, 'Evan_Mumford', 571, 'Scatterbrain', 79], [12, 'Evan_Mumford', 572, 'Favourite Worst Nightmare', 76], [12, 'Evan_Mumford', 197, 'Souvlaki', 75], [12, 'Evan_Mumford', 573, 'Malibu Ken', 74], [12, 'Evan_Mumford', 574, 'Marlowe 2', 73], [12, 'Evan_Mumford', 575, 'LP!', 71], [12, 'Evan_Mumford', 80, 'The Glow, Pt. 2', 70], [13, 'Airen3a', 576, 'Since I Left You (20th Anniversary Deluxe Edition)', 278], [13, 'Airen3a', 577, 'Peliculas', 270], [13, 'Airen3a', 578, 'Promises', 228], [13, 'Airen3a', 451, 'Hounds of Love', 213], [13, 'Airen3a', 494, 'Clics modernos', 209], [13, 'Airen3a', 80, 'The Glow, Pt. 2', 202], [13, 'Airen3a', 541, 'IGOR', 187], [13, 'Airen3a', 579, 'Music for Commercials', 187], [13, 'Airen3a', 536, 'Veteran', 176], [13, 'Airen3a', 580, 'Fantasma (remastered)', 163], [13, 'Airen3a', 139, 'あらためまして、はじめまして、ミドリです。', 159], [13, 'Airen3a', 106, 'Three Cheers for Sweet Revenge', 150], [13, 'Airen3a', 107, 'KICK ii', 141], [13, 'Airen3a', 575, 'LP!', 140], [13, 'Airen3a', 581, 'La Grasa de las Capitales: Edición 40º Aniversario', 129], [13, 'Airen3a', 582, 'Hosianna Mantra', 111], [13, 'Airen3a', 583, 'Human Beings and Animals', 110], [13, 'Airen3a', 584, 'Camera Talk (Remastered 2006)', 107], [13, 'Airen3a', 585, 'The Piper at the Gates of Dawn', 99], [13, 'Airen3a', 542, 'Some Rap Songs', 91], [13, 'Airen3a', 100, 'KiCk i', 84], [13, 'Airen3a', 223, 'The Money Store', 84], [13, 'Airen3a', 586, \"Mother Earth's Plantasia\", 82], [13, 'Airen3a', 102, 'The Black Parade', 82], [13, 'Airen3a', 587, 'Kakashi', 80], [13, 'Airen3a', 588, 'A Shape of Light \"A Silent Voice the Movie\" Original Soundtrack', 78], [13, 'Airen3a', 589, 'THREE CHEERS FOR OUR SIDE~海へ行くつもりじゃなかった~ (Remastered 2006)', 76], [13, 'Airen3a', 590, 'London Calling (Remastered)', 72], [13, 'Airen3a', 591, 'A', 71], [13, 'Airen3a', 592, 'TONDEMO-WONDERZ', 69], [13, 'Airen3a', 593, 'Disintegration (Deluxe Edition)', 69], [13, 'Airen3a', 594, 'The Kick Inside', 68], [13, 'Airen3a', 527, 'Divididos por la Felicidad', 67], [13, 'Airen3a', 595, 'Llegando los Monos', 64], [13, 'Airen3a', 596, 'Exmilitary', 62], [13, 'Airen3a', 597, 'Draining Love Story', 61], [13, 'Airen3a', 598, 'Call Me By Your Name (Original Motion Picture Soundtrack)', 61], [13, 'Airen3a', 599, 'Joy as an Act of Resistance.', 59], [13, 'Airen3a', 600, 'Dawn FM', 57], [13, 'Airen3a', 105, 'KicK iii', 56], [13, 'Airen3a', 504, 'Serú Girán (Remasterizado 2021)', 55], [13, 'Airen3a', 439, 'Selected Ambient Works 85-92', 54], [13, 'Airen3a', 601, 'Tango', 54], [13, 'Airen3a', 602, 'Ants From Up There', 52], [13, 'Airen3a', 603, 'Omori (Original Game Soundtrack), Pt.3', 51], [13, 'Airen3a', 604, 'Russian Roulette - The 3rd Mini Album', 51], [13, 'Airen3a', 605, 'El Mal Querer', 50], [13, 'Airen3a', 606, 'MAN PLAYS THE HORN', 49], [13, 'Airen3a', 607, 'my love feels all wrong. digipak', 48], [13, 'Airen3a', 608, \"What's Going On\", 47], [14, 'jomellyfish', 609, 'Have One on Me', 723], [14, 'jomellyfish', 610, 'Heartland', 481], [14, 'jomellyfish', 611, 'Ys', 452], [14, 'jomellyfish', 612, 'He Poos Clouds', 436], [14, 'jomellyfish', 613, 'In Conflict', 358], [14, 'jomellyfish', 614, 'Ten Love Songs', 301], [14, 'jomellyfish', 615, 'Emotion', 298], [14, 'jomellyfish', 616, 'All Mirrors', 296], [14, 'jomellyfish', 617, 'Titanic Rising', 282], [14, 'jomellyfish', 618, 'Rid of Me', 255], [14, 'jomellyfish', 619, 'White Chalk', 255], [14, 'jomellyfish', 620, 'The Milk-Eyed Mender', 249], [14, 'jomellyfish', 621, 'Vespertine', 244], [14, 'jomellyfish', 218, 'Just for a Day', 236], [14, 'jomellyfish', 622, 'Divers', 228], [14, 'jomellyfish', 623, 'Soft Sounds From Another Planet', 208], [14, 'jomellyfish', 484, \"What's Your Pleasure?\", 205], [14, 'jomellyfish', 624, 'Dedicated', 200], [14, 'jomellyfish', 625, 'Have You In My Wilderness', 195], [14, 'jomellyfish', 626, 'WLFGRL', 189], [14, 'jomellyfish', 292, 'The New Abnormal', 179], [14, 'jomellyfish', 627, 'Dedicated Side B', 168], [14, 'jomellyfish', 628, 'Has A Good Home', 167], [14, 'jomellyfish', 629, 'and Their Refinement of the Decline', 166], [14, 'jomellyfish', 630, 'Atrocity Exhibition', 163], [14, 'jomellyfish', 631, 'Set My Heart On Fire Immediately', 161], [14, 'jomellyfish', 632, 'Too Bright', 160], [14, 'jomellyfish', 633, 'Jubilee', 158], [14, 'jomellyfish', 634, 'Boys for Pele (Deluxe Edition)', 155], [14, 'jomellyfish', 635, 'Let England Shake', 139], [14, 'jomellyfish', 636, 'IMPOSSIBLE WEIGHT', 133], [14, 'jomellyfish', 637, 'Aviary', 133], [14, 'jomellyfish', 638, 'Sound Of Silver', 132], [14, 'jomellyfish', 639, 'Stories from the City, Stories from the Sea', 123], [14, 'jomellyfish', 640, 'Psychopomp', 113], [14, 'jomellyfish', 236, 'Capsule Losing Contact', 112], [14, 'jomellyfish', 641, 'Soviet Kitsch', 112], [14, 'jomellyfish', 642, 'This Is Happening', 110], [14, 'jomellyfish', 643, 'Modern Vampires of the City', 108], [14, 'jomellyfish', 644, 'Soul Lady', 107], [14, 'jomellyfish', 645, 'The Dreaming', 106], [14, 'jomellyfish', 646, 'New Long Leg', 103], [14, 'jomellyfish', 647, 'bury me at makeout creek', 103], [14, 'jomellyfish', 648, 'Pray For Paris', 103], [14, 'jomellyfish', 649, 'Begin to Hope', 102], [14, 'jomellyfish', 197, 'Souvlaki', 97], [14, 'jomellyfish', 91, 'A Promise', 96], [14, 'jomellyfish', 650, 'Loud City Song', 90], [14, 'jomellyfish', 651, 'MY WOMAN', 87], [14, 'jomellyfish', 652, 'Diaries', 86], [15, 'baratacorn4', 653, 'Teen Dream', 2180], [15, 'baratacorn4', 72, 'In Rainbows', 2065], [15, 'baratacorn4', 654, 'To See the Next Part of the Dream', 1860], [15, 'baratacorn4', 655, 'Melophobia', 1457], [15, 'baratacorn4', 201, 'OK Computer', 1390], [15, 'baratacorn4', 656, 'Bloom', 1373], [15, 'baratacorn4', 657, 'Depression Cherry', 1338], [15, 'baratacorn4', 202, 'Loveless', 1046], [15, 'baratacorn4', 658, 'Devotion', 1014], [15, 'baratacorn4', 659, '7', 991], [15, 'baratacorn4', 301, 'Once Twice Melody', 926], [15, 'baratacorn4', 660, 'Thank Your Lucky Stars', 893], [15, 'baratacorn4', 661, 'Heaven or Las Vegas', 843], [15, 'baratacorn4', 477, 'Carrie & Lowell', 823], [15, 'baratacorn4', 403, 'Kid A', 709], [15, 'baratacorn4', 217, 'The Bends', 682], [15, 'baratacorn4', 662, 'Antisocialites', 680], [15, 'baratacorn4', 197, 'Souvlaki', 650], [15, 'baratacorn4', 284, 'Plastic Beach', 595], [15, 'baratacorn4', 663, 'Slowdive', 595], [15, 'baratacorn4', 82, 'A Moon Shaped Pool', 585], [15, 'baratacorn4', 555, \"Whatever People Say I Am, That's What I'm Not\", 582], [15, 'baratacorn4', 664, 'Homogenic', 576], [15, 'baratacorn4', 665, 'Social Cues', 567], [15, 'baratacorn4', 609, 'Have One on Me', 516], [15, 'baratacorn4', 666, '...Like Clockwork', 460], [15, 'baratacorn4', 667, 'Supermodel', 449], [15, 'baratacorn4', 668, 'Downfall of the Neon Youth', 424], [15, 'baratacorn4', 669, 'Treasure', 421], [15, 'baratacorn4', 670, 'Illinois', 421], [15, 'baratacorn4', 611, 'Ys', 418], [15, 'baratacorn4', 671, 'Villains', 410], [15, 'baratacorn4', 621, 'Vespertine', 405], [15, 'baratacorn4', 313, 'Demon Days', 388], [15, 'baratacorn4', 672, 'Pure Heroine (Extended)', 381], [15, 'baratacorn4', 673, \"Tell Me I'm Pretty\", 379], [15, 'baratacorn4', 674, 'Twenty One Pilots', 372], [15, 'baratacorn4', 675, 'Kodama', 360], [15, 'baratacorn4', 30, 'Minecraft - Volume Alpha', 358], [15, 'baratacorn4', 676, 'Vessel', 354], [15, 'baratacorn4', 677, 'Beach House', 353], [15, 'baratacorn4', 678, 'Weatherglow', 346], [15, 'baratacorn4', 679, 'Trench', 345], [15, 'baratacorn4', 80, 'The Glow, Pt. 2', 329], [15, 'baratacorn4', 680, 'Écailles de lune', 328], [15, 'baratacorn4', 681, \"Hurry Up, We're Dreaming\", 327], [15, 'baratacorn4', 682, 'm b v', 309], [15, 'baratacorn4', 683, 'Bon Iver', 308], [15, 'baratacorn4', 684, 'Sunbather', 307], [15, 'baratacorn4', 685, 'Let Go', 302], [16, 'addison_d', 686, 'Live Through This', 590], [16, 'addison_d', 239, 'Nevermind (Remastered)', 436], [16, 'addison_d', 201, 'OK Computer', 420], [16, 'addison_d', 687, 'Foo Fighters', 415], [16, 'addison_d', 688, 'Because of the Times', 404], [16, 'addison_d', 255, 'In Utero - 20th Anniversary Remaster', 380], [16, 'addison_d', 689, 'Aha Shake Heartbreak', 370], [16, 'addison_d', 690, 'Only by the Night', 351], [16, 'addison_d', 225, 'The Colour and the Shape', 319], [16, 'addison_d', 423, 'Room on Fire', 284], [16, 'addison_d', 691, 'Mechanical Bull (Expanded Edition)', 279], [16, 'addison_d', 692, 'When You See Yourself', 265], [16, 'addison_d', 210, 'Weezer', 251], [16, 'addison_d', 693, 'There Is Nothing Left to Lose', 249], [16, 'addison_d', 217, 'The Bends', 249], [16, 'addison_d', 694, 'Youth and Young Manhood', 247], [16, 'addison_d', 695, 'Come Around Sundown (Expanded Edition)', 245], [16, 'addison_d', 72, 'In Rainbows', 238], [16, 'addison_d', 415, 'Is This It', 226], [16, 'addison_d', 234, 'Incesticide', 222], [16, 'addison_d', 214, 'MTV Unplugged in New York', 208], [16, 'addison_d', 533, 'Dirt', 196], [16, 'addison_d', 226, 'In Utero - 20th Anniversary - Deluxe Edition', 185], [16, 'addison_d', 219, 'Bleach', 182], [16, 'addison_d', 696, 'AM', 180], [16, 'addison_d', 697, 'Celebrity Skin', 180], [16, 'addison_d', 698, 'Fantastic Planet', 159], [16, 'addison_d', 699, 'Everything All the Time', 153], [16, 'addison_d', 700, 'Colter Wall', 149], [16, 'addison_d', 701, 'First Impressions of Earth', 138], [16, 'addison_d', 702, 'Jar of Flies', 137], [16, 'addison_d', 703, 'Angles', 137], [16, 'addison_d', 292, 'The New Abnormal', 134], [16, 'addison_d', 704, 'Dirt (2022 Remaster)', 133], [16, 'addison_d', 705, 'WALLS', 133], [16, 'addison_d', 706, 'Alice in Chains', 122], [16, 'addison_d', 707, 'Brothers', 117], [16, 'addison_d', 437, 'Pinkerton', 116], [16, 'addison_d', 708, 'Stadium Arcadium', 113], [16, 'addison_d', 709, 'Cease to Begin', 110], [16, 'addison_d', 558, 'Hot Fuss', 109], [16, 'addison_d', 710, 'Things Are Great', 104], [16, 'addison_d', 711, 'summerteeth', 103], [16, 'addison_d', 712, 'Traveller', 100], [16, 'addison_d', 403, 'Kid A', 99], [16, 'addison_d', 713, 'Holy Roller Novocaine', 97], [16, 'addison_d', 714, 'Dookie', 95], [16, 'addison_d', 715, 'By the Way (Deluxe Edition)', 95], [16, 'addison_d', 716, 'Born To Die (Bonus Track Version)', 93], [16, 'addison_d', 717, 'Master Of Puppets (Remastered)', 89], [17, 'mateo1232', 718, 'The Life of Pablo', 389], [17, 'mateo1232', 719, 'Kamikaze', 348], [17, 'mateo1232', 720, 'Peluson Of Milk', 337], [17, 'mateo1232', 721, 'ye', 313], [17, 'mateo1232', 486, 'Artaud', 312], [17, 'mateo1232', 722, 'Donda', 292], [17, 'mateo1232', 723, 'My Beautiful Dark Twisted Fantasy', 256], [17, 'mateo1232', 406, 'The Smiths', 256], [17, 'mateo1232', 724, 'Yeezus', 255], [17, 'mateo1232', 725, 'Graduation', 243], [17, 'mateo1232', 726, 'The Rise and Fall of Ziggy Stardust and the Spiders From Mars', 240], [17, 'mateo1232', 727, 'Almendra', 237], [17, 'mateo1232', 728, 'JESUS IS KING', 226], [17, 'mateo1232', 729, 'Louder Than Bombs', 226], [17, 'mateo1232', 730, 'London Calling', 225], [17, 'mateo1232', 731, 'The Queen Is Dead', 223], [17, 'mateo1232', 732, 'Vida', 208], [17, 'mateo1232', 733, 'El jardín de los presentes', 201], [17, 'mateo1232', 734, 'The College Dropout', 200], [17, 'mateo1232', 735, 'Durazno Sangrando', 199], [17, 'mateo1232', 736, 'Bocanada', 196], [17, 'mateo1232', 737, 'Hunky Dory', 190], [17, 'mateo1232', 738, 'Al final de este viaje...', 190], [17, 'mateo1232', 739, 'Late Registration', 189], [17, 'mateo1232', 740, 'Peperina', 174], [17, 'mateo1232', 741, 'Muerte', 173], [17, 'mateo1232', 742, 'Confesiones De Invierno', 170], [17, 'mateo1232', 486, 'Artaud', 160], [17, 'mateo1232', 167, 'Blonde', 153], [17, 'mateo1232', 743, 'The Doors', 150], [17, 'mateo1232', 494, 'Clics modernos', 144], [17, 'mateo1232', 744, 'Dynamo', 139], [17, 'mateo1232', 745, 'Amor Amarillo', 138], [17, 'mateo1232', 746, 'Transformer', 137], [17, 'mateo1232', 487, 'Piano bar', 136], [17, 'mateo1232', 747, 'Clandestino... Esperando La Última Ola', 135], [17, 'mateo1232', 748, '808s & Heartbreak', 132], [17, 'mateo1232', 749, 'El Amor Después del Amor', 131], [17, 'mateo1232', 750, 'Los Demenciales Chicos Acelerados', 123], [17, 'mateo1232', 751, 'The Clash', 123], [17, 'mateo1232', 752, 'Salad Days', 121], [17, 'mateo1232', 753, 'Anti Todo', 120], [17, 'mateo1232', 754, '2', 117], [17, 'mateo1232', 755, 'Kortatu', 116], [17, 'mateo1232', 756, '1964-1971', 115], [17, 'mateo1232', 211, 'The Rise and Fall of Ziggy Stardust and the Spiders from Mars (2012 Remaster)', 114], [17, 'mateo1232', 439, 'Selected Ambient Works 85-92', 113], [17, 'mateo1232', 757, 'Static Age', 113], [17, 'mateo1232', 758, 'The Velvet Underground & Nico 45th Anniversary', 112], [17, 'mateo1232', 759, 'Ramones', 110], [18, 'Labotx95', 760, 'Mahler: Symphony No. 5', 79], [18, 'Labotx95', 165, 'Midnights (3am Edition)', 70], [18, 'Labotx95', 761, 'The Beatles', 70], [18, 'Labotx95', 762, 'Glenn Gould plays Schoenberg: Klavierstücke opp. 11, 19, 23, 33; Piano Suite op. 25; Piano Concerto op. 42; Fantasy for Violin & Piano op. 47; Ode to Napoleon Buonaparte op. 41; Lieder opp. 1; 2; 3; 6; 12; 14; 15; 48', 67], [18, 'Labotx95', 763, 'Hawaii', 65], [18, 'Labotx95', 139, 'あらためまして、はじめまして、ミドリです。', 64], [18, 'Labotx95', 764, 'Mozart: The Complete Piano Concertos', 57], [18, 'Labotx95', 765, 'Merriweather Post Pavilion', 55], [18, 'Labotx95', 766, 'Saijiki', 54], [18, 'Labotx95', 216, 'channel ORANGE', 52], [18, 'Labotx95', 767, 'Debussy: complete orchestral works', 51], [18, 'Labotx95', 768, 'Debussy: Complete Works for Piano', 50], [18, 'Labotx95', 366, 'reputation', 50], [18, 'Labotx95', 769, 'Mezzanine', 49], [18, 'Labotx95', 770, 'Bavarian Fruit Bread', 48], [18, 'Labotx95', 771, 'Abbey Road', 47], [18, 'Labotx95', 201, 'OK Computer', 46], [18, 'Labotx95', 772, 'Vivaldi Masterworks', 45], [18, 'Labotx95', 773, 'Fossora', 45], [18, 'Labotx95', 774, 'Bach, J.S.: Cantatas & Sacred Masterpieces', 45], [18, 'Labotx95', 775, \"Sgt. Pepper's Lonely Hearts Club Band (Super Deluxe Edition)\", 44], [18, 'Labotx95', 711, 'summerteeth', 44], [18, 'Labotx95', 776, 'Modern Life Is Rubbish', 43], [18, 'Labotx95', 253, 'Be the Cowboy', 43], [18, 'Labotx95', 670, 'Illinois', 43], [18, 'Labotx95', 367, '1989 (Deluxe)', 43], [18, 'Labotx95', 777, '勝訴ストリップ', 42], [18, 'Labotx95', 778, 'Departure', 41], [18, 'Labotx95', 779, 'Suspiria (Music for the Luca Guadagnino Film)', 41], [18, 'Labotx95', 780, 'Yankee Hotel Foxtrot (Deluxe Edition)', 41], [18, 'Labotx95', 95, 'Pygmalion', 40], [18, 'Labotx95', 365, \"Red (Taylor's Version)\", 40], [18, 'Labotx95', 739, 'Late Registration', 39], [18, 'Labotx95', 781, 'Midnights', 39], [18, 'Labotx95', 441, 'Rubber Soul', 39], [18, 'Labotx95', 782, '69 Love Songs', 38], [18, 'Labotx95', 783, 'Fly', 38], [18, 'Labotx95', 784, 'Phantom Thread (Original Motion Picture Soundtrack)', 37], [18, 'Labotx95', 785, 'Lift Your Skinny Fists Like Antennas to Heaven', 36], [18, 'Labotx95', 197, 'Souvlaki', 36], [18, 'Labotx95', 664, 'Homogenic', 35], [18, 'Labotx95', 238, 'In the Aeroplane Over the Sea', 35], [18, 'Labotx95', 786, 'folklore: the long pond studio sessions (from the Disney+ special) [deluxe edition]', 35], [18, 'Labotx95', 787, \"Le fabuleux destin d'Amélie Poulain (Bande originale du film)\", 35], [18, 'Labotx95', 788, 'Past Masters (Vols. 1 & 2)', 34], [18, 'Labotx95', 789, 'Revolver', 34], [18, 'Labotx95', 790, 'Disintegration (Remastered)', 34], [18, 'Labotx95', 791, 'Raciocínio Quebrado', 33], [18, 'Labotx95', 792, 'KID A MNESIA', 33], [18, 'Labotx95', 793, 'Emotion (Deluxe Expanded Edition)', 32], [19, 'Kinematosis', 794, 'Year of the Snitch', 1195], [19, 'Kinematosis', 60, 'Music Has the Right to Children', 933], [19, 'Kinematosis', 58, 'Geogaddi', 927], [19, 'Kinematosis', 795, 'Galaxy 2 Galaxy: A High Tech Jazz Compilation', 886], [19, 'Kinematosis', 262, 'Twilight', 790], [19, 'Kinematosis', 796, 'To Pimp a Butterfly', 789], [19, 'Kinematosis', 797, 'Heroes', 776], [19, 'Kinematosis', 798, 'New Moon', 732], [19, 'Kinematosis', 799, 'Dubnobasswithmyheadman (20th Anniversary Remaster)', 659], [19, 'Kinematosis', 560, 'No Love Deep Web', 630], [19, 'Kinematosis', 223, 'The Money Store', 623], [19, 'Kinematosis', 536, 'Veteran', 598], [19, 'Kinematosis', 403, 'Kid A', 574], [19, 'Kinematosis', 541, 'IGOR', 571], [19, 'Kinematosis', 258, 'Currents', 565], [19, 'Kinematosis', 800, 'Somersault', 562], [19, 'Kinematosis', 801, 'Second Toughest In The Infants (Remastered)', 509], [19, 'Kinematosis', 802, 'RAMONA', 503], [19, 'Kinematosis', 803, 'Change', 493], [19, 'Kinematosis', 804, 'Visions', 443], [19, 'Kinematosis', 805, 'untitled unmastered.', 437], [19, 'Kinematosis', 806, 'CLANNAD ORIGINAL SOUNDTRACK DI', 415], [19, 'Kinematosis', 807, 'Lonerism', 413], [19, 'Kinematosis', 808, 'Government Plates', 399], [19, 'Kinematosis', 809, 'Crack-Up', 394], [19, 'Kinematosis', 630, 'Atrocity Exhibition', 384], [19, 'Kinematosis', 810, 'Endtroducing.....', 383], [19, 'Kinematosis', 811, 'InnerSpeaker', 382], [19, 'Kinematosis', 348, 'Hejira', 381], [19, 'Kinematosis', 812, 'Emergency & I', 372], [19, 'Kinematosis', 167, 'Blonde', 371], [19, 'Kinematosis', 813, 'DAMN.', 371], [19, 'Kinematosis', 596, 'Exmilitary', 370], [19, 'Kinematosis', 814, 'Bookends', 364], [19, 'Kinematosis', 815, 'Beaucoup Fish', 359], [19, 'Kinematosis', 816, 'Double Nickels on the Dime', 355], [19, 'Kinematosis', 89, 'Syro', 352], [19, 'Kinematosis', 817, 'Blackstar', 337], [19, 'Kinematosis', 155, 'Flower Boy', 337], [19, 'Kinematosis', 818, 'Sometimes I Sit and Think, and Sometimes I Just Sit', 333], [19, 'Kinematosis', 819, 'COOOL', 333], [19, 'Kinematosis', 551, 'Bottomless Pit', 329], [19, 'Kinematosis', 820, 'The Fat of the Land', 326], [19, 'Kinematosis', 821, 'Art Angels', 322], [19, 'Kinematosis', 822, \"Who Will Cut Our Hair When We're Gone? (Remastered)\", 320], [19, 'Kinematosis', 823, 'Second Edition', 318], [19, 'Kinematosis', 824, 'good kid, m.A.A.d city', 314], [19, 'Kinematosis', 534, 'Madvillainy', 313], [19, 'Kinematosis', 825, 'Low', 311], [19, 'Kinematosis', 826, 'cLOUDDEAD', 309], [20, 'numanuma_', 827, 'The Downward Spiral', 283], [20, 'numanuma_', 828, 'Tourist History', 257], [20, 'numanuma_', 201, 'OK Computer', 133], [20, 'numanuma_', 829, 'FINAL FANTASY VI (Original Soundtrack)', 129], [20, 'numanuma_', 80, 'The Glow, Pt. 2', 117], [20, 'numanuma_', 830, 'We Are Not Your Kind', 113], [20, 'numanuma_', 831, 'Rust In Peace', 107], [20, 'numanuma_', 313, 'Demon Days', 105], [20, 'numanuma_', 257, 'Toxicity', 105], [20, 'numanuma_', 832, 'Discovery', 104], [20, 'numanuma_', 833, 'In Utero (20th Anniversary Edition)', 104], [20, 'numanuma_', 834, 'The Fragile', 90], [20, 'numanuma_', 835, 'Random Access Memories', 89], [20, 'numanuma_', 254, 'Absolution', 86], [20, 'numanuma_', 836, 'Giving The World Away', 85], [20, 'numanuma_', 837, 'Nevermind', 85], [20, 'numanuma_', 838, 'Black Holes and Revelations', 83], [20, 'numanuma_', 839, 'Broken', 82], [20, 'numanuma_', 840, 'Pink Moon', 81], [20, 'numanuma_', 284, 'Plastic Beach', 80], [20, 'numanuma_', 841, 'Velocity : Design : Comfort.', 80], [20, 'numanuma_', 842, 'Abbey Road (Remastered)', 80], [20, 'numanuma_', 843, 'Nite Versions', 79], [20, 'numanuma_', 844, 'Pretty Hate Machine (Remastered)', 78], [20, 'numanuma_', 845, 'Among the Living', 74], [20, 'numanuma_', 846, 'Black On Both Sides', 74], [20, 'numanuma_', 847, 'VEGA INTL. Night School', 74], [20, 'numanuma_', 848, 'Songs from the Big Chair', 72], [20, 'numanuma_', 849, 'The Powers That B', 71], [20, 'numanuma_', 850, '…Because I’m Young Arrogant and Hate Everything You Stand For', 71], [20, 'numanuma_', 851, 'With Teeth', 71], [20, 'numanuma_', 852, 'Pretty Hate Machine', 70], [20, 'numanuma_', 853, 'Screaming for Vengeance (Bonus Track Version)', 69], [20, 'numanuma_', 854, 'Ladies and Gentlemen We Are Floating in Space', 69], [20, 'numanuma_', 855, 'Mega Man X Sound Collection', 68], [20, 'numanuma_', 856, 'Electric', 68], [20, 'numanuma_', 857, 'Since I Left You', 68], [20, 'numanuma_', 858, 'Metaphorical Music', 65], [20, 'numanuma_', 51, 'The Tired Sounds of Stars of the Lid', 65], [20, 'numanuma_', 859, 'Justice', 64], [20, 'numanuma_', 860, 'Ghosts I-IV', 64], [20, 'numanuma_', 861, 'Power, Corruption & Lies', 62], [20, 'numanuma_', 485, 'In Colour', 59], [20, 'numanuma_', 862, 'Big Fish Theory', 57], [20, 'numanuma_', 863, 'Psychic Chasms', 56], [20, 'numanuma_', 864, 'Polygon', 55], [20, 'numanuma_', 865, 'HIRAETH', 54], [20, 'numanuma_', 866, \"Peace Sells... But Who's Buying?\", 52], [20, 'numanuma_', 533, 'Dirt', 51], [20, 'numanuma_', 817, 'Blackstar', 50], [21, 'ayawaska1', 867, 'Stranger', 627], [21, 'ayawaska1', 868, 'Deep Cuts', 614], [21, 'ayawaska1', 869, 'Warlord (Deluxe)', 552], [21, 'ayawaska1', 870, 'Студень', 493], [21, 'ayawaska1', 871, 'HotLine Miami 2: Wrong Number', 438], [21, 'ayawaska1', 872, 'LONG.LIVE.A$AP (Deluxe Version)', 376], [21, 'ayawaska1', 873, 'Crystal Castles', 351], [21, 'ayawaska1', 24, 'Unknown Memory', 340], [21, 'ayawaska1', 874, 'Luv Is Rage 2', 337], [21, 'ayawaska1', 875, 'Hotline Miami', 322], [21, 'ayawaska1', 876, 'AT.LONG.LAST.A$AP', 314], [21, 'ayawaska1', 877, 'Dummy', 308], [21, 'ayawaska1', 878, 'Frost God', 301], [21, 'ayawaska1', 879, 'Silent Shout', 288], [21, 'ayawaska1', 880, 'My Love Is Cool', 280], [21, 'ayawaska1', 881, '(III)', 278], [21, 'ayawaska1', 882, \"Can't Sleep\", 270], [21, 'ayawaska1', 754, '2', 260], [21, 'ayawaska1', 883, 'Crystal Castles (II)', 245], [21, 'ayawaska1', 837, 'Nevermind', 243], [21, 'ayawaska1', 752, 'Salad Days', 241], [21, 'ayawaska1', 884, 'Portishead', 225], [21, 'ayawaska1', 885, 'Finally Rich', 224], [21, 'ayawaska1', 201, 'OK Computer', 222], [21, 'ayawaska1', 886, 'Гантеля', 207], [21, 'ayawaska1', 887, 'Stoney (Deluxe)', 206], [21, 'ayawaska1', 888, 'Mas Fuerte', 204], [21, 'ayawaska1', 889, 'Неизвест. альбом', 203], [21, 'ayawaska1', 890, 'Annabel Dream Reader', 199], [21, 'ayawaska1', 769, 'Mezzanine', 196], [21, 'ayawaska1', 891, 'MCMXC a.D.', 181], [21, 'ayawaska1', 892, 'King Night', 178], [21, 'ayawaska1', 893, 'Ignorance is Bliss', 178], [21, 'ayawaska1', 894, 'Does This Look Infected?', 174], [21, 'ayawaska1', 895, 'Exploding Head', 170], [21, 'ayawaska1', 896, 'Lil Boat 2', 167], [21, 'ayawaska1', 804, 'Visions', 165], [21, 'ayawaska1', 897, 'Long Ambients 1: Calm. Sleep', 165], [21, 'ayawaska1', 898, 'Fires in Heaven', 165], [21, 'ayawaska1', 403, 'Kid A', 164], [21, 'ayawaska1', 899, 'Close The Door', 163], [21, 'ayawaska1', 900, 'Kasabian', 162], [21, 'ayawaska1', 901, 'Do Not Lay Waste To Homes...', 151], [21, 'ayawaska1', 902, 'The South Got Something to Say', 151], [21, 'ayawaska1', 903, 'Meteora', 149], [21, 'ayawaska1', 743, 'The Doors', 149], [21, 'ayawaska1', 313, 'Demon Days', 143], [21, 'ayawaska1', 904, 'The Knife', 139], [21, 'ayawaska1', 905, 'Tragic City', 138], [21, 'ayawaska1', 346, 'Back to Black', 136], [22, 'guywithaqmark', 906, 'Punisher', 1461], [22, 'guywithaqmark', 907, 'Montgomery Ricky', 1265], [22, 'guywithaqmark', 908, 'Alopecia (Reissue)', 875], [22, 'guywithaqmark', 909, 'Stranger in the Alps (Deluxe Edition)', 619], [22, 'guywithaqmark', 910, 'Harmony House', 471], [22, 'guywithaqmark', 173, 'evermore (deluxe version)', 426], [22, 'guywithaqmark', 365, \"Red (Taylor's Version)\", 391], [22, 'guywithaqmark', 187, 'folklore (deluxe version)', 387], [22, 'guywithaqmark', 911, \"It's 2016 Somewhere\", 371], [22, 'guywithaqmark', 912, 'Tallahassee', 363], [22, 'guywithaqmark', 291, \"Harry's House\", 354], [22, 'guywithaqmark', 913, 'Better Oblivion Community Center', 329], [22, 'guywithaqmark', 232, 'Lover', 326], [22, 'guywithaqmark', 914, 'Teens of Denial', 307], [22, 'guywithaqmark', 915, 'Dark in Here', 299], [22, 'guywithaqmark', 916, 'Plans', 297], [22, 'guywithaqmark', 917, 'Transatlanticism (10th Anniversary Edition)', 291], [22, 'guywithaqmark', 298, 'Fine Line', 290], [22, 'guywithaqmark', 918, 'Fuzzybrain', 263], [22, 'guywithaqmark', 919, 'Reconstruction Site', 248], [22, 'guywithaqmark', 920, 'Elephant Eyelash', 245], [22, 'guywithaqmark', 921, 'Pretty. Odd.', 233], [22, 'guywithaqmark', 922, 'Take the Sadness out of Saturday Night', 207], [22, 'guywithaqmark', 923, 'Pure Heroine', 206], [22, 'guywithaqmark', 924, '1989 (Deluxe Edition)', 204], [22, 'guywithaqmark', 925, 'Silo', 203], [22, 'guywithaqmark', 926, 'Solar Power (Deluxe Edition)', 195], [22, 'guywithaqmark', 927, 'Fleet Foxes', 194], [22, 'guywithaqmark', 928, 'Shore', 194], [22, 'guywithaqmark', 929, 'OUCH!', 190], [22, 'guywithaqmark', 930, 'The Honeysticks', 179], [22, 'guywithaqmark', 931, 'Making a Door Less Open', 178], [22, 'guywithaqmark', 370, \"Fearless (Taylor's Version)\", 178], [22, 'guywithaqmark', 932, 'In Sickness & in Flames', 176], [22, 'guywithaqmark', 933, 'Testarossa', 176], [22, 'guywithaqmark', 934, 'Talon of the Hawk', 174], [22, 'guywithaqmark', 153, 'Norman Fucking Rockwell!', 172], [22, 'guywithaqmark', 935, 'See You There', 172], [22, 'guywithaqmark', 696, 'AM', 167], [22, 'guywithaqmark', 936, 'Copycat Killer', 167], [22, 'guywithaqmark', 937, 'Challengers', 163], [22, 'guywithaqmark', 633, 'Jubilee', 154], [22, 'guywithaqmark', 938, 'Marigold (Expanded Edition)', 153], [22, 'guywithaqmark', 939, 'The Baby', 153], [22, 'guywithaqmark', 940, 'Moh Lhean Expanded', 153], [22, 'guywithaqmark', 941, 'Dreamland (+ Bonus Levels)', 152], [22, 'guywithaqmark', 942, 'Amperland, NY', 150], [22, 'guywithaqmark', 943, 'Strange Desire', 149], [22, 'guywithaqmark', 944, '11:11', 149], [22, 'guywithaqmark', 945, 'A Very Lonely Solstice', 147], [23, 'rtasriel', 946, 'Leaves Turn Inside You', 285], [23, 'rtasriel', 947, 'Orchid', 278], [23, 'rtasriel', 948, 'Repetition', 217], [23, 'rtasriel', 949, 'Voyage Out', 182], [23, 'rtasriel', 950, 'The Going Away Present', 169], [23, 'rtasriel', 951, 'The OOZ', 159], [23, 'rtasriel', 952, 'Last City', 155], [23, 'rtasriel', 953, 'Lumens', 134], [23, 'rtasriel', 954, 'New Plastic Ideas', 134], [23, 'rtasriel', 955, 'Fake Train', 133], [23, 'rtasriel', 956, 'End on End', 123], [23, 'rtasriel', 957, 'Spiderland', 113], [23, 'rtasriel', 958, 'Unwound', 110], [23, 'rtasriel', 959, 'fawn', 100], [23, 'rtasriel', 960, 'The Future of What', 96], [23, 'rtasriel', 74, 'Stratosphere', 93], [23, 'rtasriel', 961, 'Dance Tonight! Revolution Tomorrow!', 88], [23, 'rtasriel', 962, 'Steady Diet of Nothing', 85], [23, 'rtasriel', 963, 'I.V.', 83], [23, 'rtasriel', 964, 'Circle Thinking', 75], [23, 'rtasriel', 965, 'Instrument Soundtrack', 72], [23, 'rtasriel', 966, 'Pockets', 70], [23, 'rtasriel', 221, 'Hatful of Hollow', 68], [23, 'rtasriel', 967, 'Challenge for a Civilized Society', 66], [23, 'rtasriel', 420, 'American Football', 63], [23, 'rtasriel', 968, 'Collected', 63], [23, 'rtasriel', 969, 'Here Comes the Cowboy', 61], [23, 'rtasriel', 970, 'Damaged', 57], [23, 'rtasriel', 971, 'Nothing Feels Natural', 55], [23, 'rtasriel', 972, 'The Feeling', 52], [23, 'rtasriel', 973, 'City of Caterpillar', 48], [23, 'rtasriel', 86, 'TNT', 48], [23, 'rtasriel', 974, 'Twin Fantasy (Mirror to Mirror)', 47], [23, 'rtasriel', 975, 'Rat Conspiracy', 46], [23, 'rtasriel', 976, 'Pieces of a Man', 45], [23, 'rtasriel', 977, 'The Punch Line', 44], [23, 'rtasriel', 978, 'Bad Brains', 43], [23, 'rtasriel', 731, 'The Queen Is Dead', 43], [23, 'rtasriel', 979, 'Skinny Grin', 41], [23, 'rtasriel', 223, 'The Money Store', 41], [23, 'rtasriel', 980, 'Rock and Roll Night Club', 41], [23, 'rtasriel', 981, 'UNDERTALE Soundtrack', 39], [23, 'rtasriel', 982, 'The Visit/Seduction', 38], [23, 'rtasriel', 983, 'Out of Step', 37], [23, 'rtasriel', 754, '2', 36], [23, 'rtasriel', 139, 'あらためまして、はじめまして、ミドリです。', 36], [23, 'rtasriel', 984, 'My War', 35], [23, 'rtasriel', 985, 'Laisser vivre les squelettes', 35], [23, 'rtasriel', 986, 'European Tour 2011', 35], [23, 'rtasriel', 918, 'Fuzzybrain', 34], [24, 'anoond', 987, 'The Beatles [White Album] CD1', 482], [24, 'anoond', 988, 'Let It Be', 304], [24, 'anoond', 989, 'Paranoid (Remaster)', 184], [24, 'anoond', 771, 'Abbey Road', 182], [24, 'anoond', 842, 'Abbey Road (Remastered)', 175], [24, 'anoond', 990, 'Love', 173], [24, 'anoond', 991, 'The Beatles (Remastered)', 165], [24, 'anoond', 992, 'Magical Mystery Tour', 163], [24, 'anoond', 993, 'Beatles for Sale', 161], [24, 'anoond', 441, 'Rubber Soul', 145], [24, 'anoond', 994, 'Sgt Peppers Lonely Hearts Club Band', 129], [24, 'anoond', 995, 'With the Beatles', 122], [24, 'anoond', 996, 'Gamer', 120], [24, 'anoond', 997, 'Help!', 114], [24, 'anoond', 731, 'The Queen Is Dead', 107], [24, 'anoond', 998, 'All Things Must Pass (Remastered 2014)', 101], [24, 'anoond', 209, 'Pablo Honey', 101], [24, 'anoond', 999, 'Let It Be (remastered)', 93], [24, 'anoond', 221, 'Hatful of Hollow', 93], [24, 'anoond', 1000, 'Paranoid', 90], [24, 'anoond', 1001, 'A Hard Day´s Night', 82], [24, 'anoond', 1002, 'Past Masters I', 82], [24, 'anoond', 1003, 'Abbey Road (Super Deluxe Edition)', 81], [24, 'anoond', 239, 'Nevermind (Remastered)', 74], [24, 'anoond', 238, 'In the Aeroplane Over the Sea', 73], [24, 'anoond', 789, 'Revolver', 70], [24, 'anoond', 729, 'Louder Than Bombs', 70], [24, 'anoond', 1004, 'Zerwee', 68], [24, 'anoond', 201, 'OK Computer', 67], [24, 'anoond', 406, 'The Smiths', 67], [24, 'anoond', 1005, 'Metallica (Remastered)', 64], [24, 'anoond', 1006, 'Please Please Me', 64], [24, 'anoond', 1007, 'MSG, Vol. 2', 61], [24, 'anoond', 288, 'Little Dark Age', 57], [24, 'anoond', 1008, 'Past Masters II', 55], [24, 'anoond', 1009, 'Rubber Soul (Remastered)', 55], [24, 'anoond', 1010, 'MKULTRA SUPPORT GROUP, Vol. 1', 54], [24, 'anoond', 1011, \"Sgt. Pepper's Lonely Hearts Club Band (Remastered)\", 54], [24, 'anoond', 1012, 'Three Imaginary Boys (Deluxe Edition)', 51], [24, 'anoond', 1013, 'Let It Be... Naked (remastered)', 49], [24, 'anoond', 1014, 'Meat Is Murder', 48], [24, 'anoond', 1015, 'MSG, Vol. 3', 45], [24, 'anoond', 837, 'Nevermind', 44], [24, 'anoond', 217, 'The Bends', 43], [24, 'anoond', 1016, 'With the Beatles (Remastered)', 43], [24, 'anoond', 1017, 'Strange Days', 43], [24, 'anoond', 1018, 'Magical Mystery Tour (Remastered)', 42], [24, 'anoond', 1019, 'Old music alert', 41], [24, 'anoond', 1020, 'MKULTRA SUPPORT GROUP, Vol. 2', 40], [24, 'anoond', 1021, 'Yellow Submarine', 40], [25, 'maxwellk10', 792, 'KID A MNESIA', 464], [25, 'maxwellk10', 72, 'In Rainbows', 444], [25, 'maxwellk10', 1022, 'Turn On The Bright Lights (The Tenth Anniversary Edition - 2012 Remaster)', 412], [25, 'maxwellk10', 1023, 'Suffer On', 376], [25, 'maxwellk10', 1024, 'OK Computer OKNOTOK 1997 2017', 274], [25, 'maxwellk10', 1025, 'Wish Me Well', 228], [25, 'maxwellk10', 267, 'The Wall', 207], [25, 'maxwellk10', 1026, 'Nevermind (Remastered 2021)', 205], [25, 'maxwellk10', 1027, 'Antics (The Special Edition)', 179], [25, 'maxwellk10', 1028, 'Hail to the Thief', 177], [25, 'maxwellk10', 1029, \"50 Years - Don't Stop\", 161], [25, 'maxwellk10', 82, 'A Moon Shaped Pool', 161], [25, 'maxwellk10', 1018, 'Magical Mystery Tour (Remastered)', 161], [25, 'maxwellk10', 1030, 'We Will Always Love You', 152], [25, 'maxwellk10', 1031, 'Endless Rooms', 135], [25, 'maxwellk10', 1032, 'Culture III', 130], [25, 'maxwellk10', 1033, 'The King of Limbs', 126], [25, 'maxwellk10', 1034, 'Afraid Of Heights', 122], [25, 'maxwellk10', 1035, 'Shoot for the Stars Aim for the Moon', 119], [25, 'maxwellk10', 991, 'The Beatles (Remastered)', 117], [25, 'maxwellk10', 1036, 'After Hours', 113], [25, 'maxwellk10', 1037, 'Suffer On (Deluxe Edition)', 110], [25, 'maxwellk10', 1038, 'TYRON', 109], [25, 'maxwellk10', 1039, 'Revolver (Remastered)', 108], [25, 'maxwellk10', 1040, 'Khaled Khaled', 107], [25, 'maxwellk10', 412, 'The Devil and God Are Raging Inside Me', 105], [25, 'maxwellk10', 1041, 'Scary Hours 2', 105], [25, 'maxwellk10', 1042, 'Elephant Shell', 105], [25, 'maxwellk10', 1043, 'Faith', 102], [25, 'maxwellk10', 1003, 'Abbey Road (Super Deluxe Edition)', 99], [25, 'maxwellk10', 1044, 'The Beatles (White Album / Super Deluxe)', 99], [25, 'maxwellk10', 1045, 'Revolver (Super Deluxe)', 98], [25, 'maxwellk10', 1046, 'Let It Be (Super Deluxe)', 93], [25, 'maxwellk10', 602, 'Ants From Up There', 91], [25, 'maxwellk10', 1047, \"It's Been a Long Time Since You Said That You Missed Me\", 89], [25, 'maxwellk10', 1048, 'Savage Mode II', 88], [25, 'maxwellk10', 1049, 'In Utero - 20th Anniversary Remaster (96k)', 88], [25, 'maxwellk10', 1050, 'Franchise (feat. Future, Young Thug & M.I.A.) [remix]', 86], [25, 'maxwellk10', 916, 'Plans', 85], [25, 'maxwellk10', 203, 'The Dark Side of the Moon', 82], [25, 'maxwellk10', 1051, 'The Queen Is Dead (Deluxe Edition)', 82], [25, 'maxwellk10', 1052, 'Complete', 81], [25, 'maxwellk10', 1053, 'Keep It Like a Secret', 77], [25, 'maxwellk10', 1054, 'AP (Music from the film Boogie)', 77], [25, 'maxwellk10', 1055, 'Certified Lover Boy', 76], [25, 'maxwellk10', 1056, 's/t', 71], [25, 'maxwellk10', 1057, 'What a Time to Be Alive', 69], [25, 'maxwellk10', 382, \"Hollywood's Bleeding\", 69], [25, 'maxwellk10', 1058, \"Come Over When You're Sober, Pt. 1\", 67], [25, 'maxwellk10', 1059, 'Rust Never Sleeps', 65], [26, 'weldingbrick', 215, 'Amnesiac', 1159], [26, 'weldingbrick', 224, '13', 1020], [26, 'weldingbrick', 1060, 'Hybrid', 943], [26, 'weldingbrick', 217, 'The Bends', 891], [26, 'weldingbrick', 72, 'In Rainbows', 873], [26, 'weldingbrick', 1061, 'Nurture', 808], [26, 'weldingbrick', 1062, 'Worlds', 753], [26, 'weldingbrick', 403, 'Kid A', 697], [26, 'weldingbrick', 1063, 'Parklife', 677], [26, 'weldingbrick', 60, 'Music Has the Right to Children', 644], [26, 'weldingbrick', 859, 'Justice', 640], [26, 'weldingbrick', 1064, 'Remote', 629], [26, 'weldingbrick', 769, 'Mezzanine', 619], [26, 'weldingbrick', 1065, 'Spirit Phone', 598], [26, 'weldingbrick', 238, 'In the Aeroplane Over the Sea', 580], [26, 'weldingbrick', 1066, 'Outside the Box', 532], [26, 'weldingbrick', 1067, 'LCD Soundsystem', 525], [26, 'weldingbrick', 1068, 'Mouth Silence', 495], [26, 'weldingbrick', 1069, 'Happier Than Ever', 475], [26, 'weldingbrick', 313, 'Demon Days', 475], [26, 'weldingbrick', 1070, 'Remain In Light (Deluxe Version)', 473], [26, 'weldingbrick', 1071, 'Homework', 462], [26, 'weldingbrick', 209, 'Pablo Honey', 462], [26, 'weldingbrick', 1072, 'The Great Escape', 445], [26, 'weldingbrick', 1073, 'Good Faith', 429], [26, 'weldingbrick', 835, 'Random Access Memories', 426], [26, 'weldingbrick', 832, 'Discovery', 404], [26, 'weldingbrick', 1074, 'Audio, Video, Disco.', 402], [26, 'weldingbrick', 1075, 'Mouth Dreams', 386], [26, 'weldingbrick', 1076, 'Alive 2007', 370], [26, 'weldingbrick', 1077, 'No Jacket Required (2016 Remaster)', 368], [26, 'weldingbrick', 1078, 'Adventure (Deluxe)', 361], [26, 'weldingbrick', 201, 'OK Computer', 351], [26, 'weldingbrick', 1079, 'Outsidein', 319], [26, 'weldingbrick', 1080, 'Yoshimi Battles The Pink Robots', 319], [26, 'weldingbrick', 827, 'The Downward Spiral', 315], [26, 'weldingbrick', 1081, 'The Stranger', 310], [26, 'weldingbrick', 1082, 'Think Tank', 308], [26, 'weldingbrick', 642, 'This Is Happening', 306], [26, 'weldingbrick', 1083, 'Swing Resistance', 302], [26, 'weldingbrick', 758, 'The Velvet Underground & Nico 45th Anniversary', 298], [26, 'weldingbrick', 284, 'Plastic Beach', 291], [26, 'weldingbrick', 1084, 'Leisure', 287], [26, 'weldingbrick', 1085, 'The Eraser', 279], [26, 'weldingbrick', 1086, 'American Pie', 272], [26, 'weldingbrick', 106, 'Three Cheers for Sweet Revenge', 268], [26, 'weldingbrick', 1087, 'Future Nostalgia', 261], [26, 'weldingbrick', 378, 'SOUR', 246], [26, 'weldingbrick', 723, 'My Beautiful Dark Twisted Fantasy', 232], [26, 'weldingbrick', 1088, 'Blur', 231], [27, 'Marz_bruh', 1089, 'Whole Lotta Red', 12793], [27, 'Marz_bruh', 1090, 'Die Lit', 11795], [27, 'Marz_bruh', 2, 'FLASH DESIRE', 6465], [27, 'Marz_bruh', 1091, 'PXE', 6261], [27, 'Marz_bruh', 4, 'Icedancer', 5991], [27, 'Marz_bruh', 26, 'CLAWS', 4084], [27, 'Marz_bruh', 1092, 'solitude.', 3938], [27, 'Marz_bruh', 1093, 'EXETER', 3437], [27, 'Marz_bruh', 1094, 'Playboi Carti', 3368], [27, 'Marz_bruh', 38, '333', 2738], [27, 'Marz_bruh', 1095, 'Crest', 1896], [27, 'Marz_bruh', 1096, 'Good Luck', 1828], [27, 'Marz_bruh', 1097, \"I'm Fresh\", 1678], [27, 'Marz_bruh', 12, 'EVERSINCE', 1633], [27, 'Marz_bruh', 1098, 'Fade', 1385], [27, 'Marz_bruh', 16, 'E', 1226], [27, 'Marz_bruh', 15, 'Working on Dying', 923], [27, 'Marz_bruh', 1099, 'Eternal Atake (Deluxe) - LUV vs. The World 2', 861], [27, 'Marz_bruh', 21, 'Let Me Go', 836], [27, 'Marz_bruh', 1100, 'Variety Pack EP, Vol. 1', 805], [27, 'Marz_bruh', 48, 'The Fool', 792], [27, 'Marz_bruh', 1101, 'Lil Uzi Vert vs. the World', 784], [27, 'Marz_bruh', 1102, 'Bitch Made', 768], [27, 'Marz_bruh', 1103, 'ASTROWORLD', 728], [27, 'Marz_bruh', 1104, 'Kick Rocks (feat. Lil Darkie)', 670], [27, 'Marz_bruh', 1105, 'Life', 607], [27, 'Marz_bruh', 1106, 'In Abundance', 589], [27, 'Marz_bruh', 1107, 'Cozy Tapes Vol. 2: Too Cozy', 518], [27, 'Marz_bruh', 39, 'Trash Island', 481], [27, 'Marz_bruh', 13, 'BAROQUE', 434], [27, 'Marz_bruh', 17, 'Red Light', 417], [27, 'Marz_bruh', 1108, 'WHAT', 414], [27, 'Marz_bruh', 1109, 'Man On The Moon: The End Of Day (Deluxe)', 365], [27, 'Marz_bruh', 11, 'Gluee', 361], [27, 'Marz_bruh', 748, '808s & Heartbreak', 348], [27, 'Marz_bruh', 1110, 'Into Dust', 347], [27, 'Marz_bruh', 718, 'The Life of Pablo', 327], [27, 'Marz_bruh', 9, 'SWORDS', 311], [27, 'Marz_bruh', 1111, '#SantanaWorld (+)', 306], [27, 'Marz_bruh', 1112, \"Nuthin' 2 Prove\", 297], [27, 'Marz_bruh', 1113, 'Freewave', 295], [27, 'Marz_bruh', 1114, 'Broke Boi', 293], [27, 'Marz_bruh', 1115, 'Wrath', 287], [27, 'Marz_bruh', 1116, 'Dark Lane Demo Tapes', 278], [27, 'Marz_bruh', 1117, 'Lil Boat 3.5', 274], [27, 'Marz_bruh', 1118, 'Kona Park', 270], [27, 'Marz_bruh', 725, 'Graduation', 270], [27, 'Marz_bruh', 1119, 'xxet', 269], [27, 'Marz_bruh', 722, 'Donda', 259], [27, 'Marz_bruh', 1120, '8888EACH DIVINITY', 246], [28, 'how_aud', 369, 'Formula of Love: O+T=<3', 834], [28, 'how_aud', 1121, 'Nectar', 780], [28, 'how_aud', 1122, 'ODDINARY', 612], [28, 'how_aud', 1123, 'Cigarettes After Sex', 474], [28, 'how_aud', 1124, 'Cry', 466], [28, 'how_aud', 1125, 'the sum', 353], [28, 'how_aud', 696, 'AM', 310], [28, 'how_aud', 1126, 'The Essential Michael Jackson', 310], [28, 'how_aud', 401, 'Taste of Love', 296], [28, 'how_aud', 1127, 'LOVE DIVE', 286], [28, 'how_aud', 1128, 'Summer Nights', 278], [28, 'how_aud', 1129, 'Grande', 267], [28, 'how_aud', 1130, 'Perfect World', 247], [28, 'how_aud', 1131, 'Favourite Worst Nightmare (Standard Version)', 241], [28, 'how_aud', 1132, 'good luck have fun', 222], [28, 'how_aud', 1133, 'recess', 213], [28, 'how_aud', 1134, 'Electra Heart (Platinum Blonde Edition)', 211], [28, 'how_aud', 1135, 'The Family Jewels (Deluxe)', 206], [28, 'how_aud', 1136, 'TWICEcoaster: LANE 1', 182], [28, 'how_aud', 1137, 'The Nat King Cole Story', 177], [28, 'how_aud', 1138, 'Eat Ya Veggies', 170], [28, 'how_aud', 395, 'Eyes wide open', 168], [28, 'how_aud', 399, 'Hard to Imagine the Neighbourhood Ever Changing', 160], [28, 'how_aud', 1139, 'Ancient Dreams In A Modern Land (Deluxe Edition)', 158], [28, 'how_aud', 1140, 'Planet Her', 149], [28, 'how_aud', 1141, 'Celebrate', 149], [28, 'how_aud', 376, 'BETWEEN 1&2', 147], [28, 'how_aud', 308, 'gg bb xx', 145], [28, 'how_aud', 1142, 'The Dream Chapter: STAR', 138], [28, 'how_aud', 1143, 'The Fame Monster (Deluxe Edition)', 137], [28, 'how_aud', 1144, 'NOEASY', 135], [28, 'how_aud', 1145, 'Gasanova', 135], [28, 'how_aud', 1146, '1 (Remastered)', 131], [28, 'how_aud', 1147, 'FANCY YOU', 130], [28, 'how_aud', 1148, 'Stokeley', 127], [28, 'how_aud', 1149, 'Humanz (Deluxe)', 118], [28, 'how_aud', 1150, 'sweetlilly93@hotmail.com', 114], [28, 'how_aud', 278, 'Chip Chrome & The Mono-Tones (Deluxe)', 113], [28, 'how_aud', 1151, 'nokdu ep vol.1', 111], [28, 'how_aud', 1152, 'GO Live', 111], [28, 'how_aud', 386, 'Feel Special', 111], [28, 'how_aud', 1153, 'Nothing Happens', 106], [28, 'how_aud', 1154, 'HIDEOUT: REMEMBER WHO WE ARE - SEASON1.', 103], [28, 'how_aud', 991, 'The Beatles (Remastered)', 103], [28, 'how_aud', 1155, 'STAYDOM', 100], [28, 'how_aud', 1156, 'Hello Future - The 1st Album Repackage', 99], [28, 'how_aud', 1157, \"Seventeen 4th Album Repackage 'SECTOR 17'\", 99], [28, 'how_aud', 1158, 'BORDER : CARNIVAL', 98], [28, 'how_aud', 1159, 'Diana Ross Presents the Jackson 5', 97], [28, 'how_aud', 1160, 'I.', 96], [29, 'avvisa', 1161, 'THE GHOST~POP TAPE', 3521], [29, 'avvisa', 873, 'Crystal Castles', 1424], [29, 'avvisa', 1162, 'Grind Mansion: Midnight House Party', 1267], [29, 'avvisa', 137, 'VOLCANIC BIRD ENEMY AND THE VOICED CONCERN', 980], [29, 'avvisa', 1163, 'Anti-World', 889], [29, 'avvisa', 536, 'Veteran', 704], [29, 'avvisa', 465, 'Unknown Pleasures', 694], [29, 'avvisa', 1089, 'Whole Lotta Red', 681], [29, 'avvisa', 1164, 'Goth Luv', 661], [29, 'avvisa', 567, 'All My Heroes Are Cornballs', 658], [29, 'avvisa', 1165, 'Icytwat Radio', 604], [29, 'avvisa', 1166, '700 DAGREEZ', 597], [29, 'avvisa', 575, 'LP!', 595], [29, 'avvisa', 1167, 'Паранойя', 568], [29, 'avvisa', 1168, 'Unimon Superstar', 547], [29, 'avvisa', 25, 'e m o c e a n', 522], [29, 'avvisa', 539, 'Donuts', 394], [29, 'avvisa', 1169, 'HELLHORSE', 388], [29, 'avvisa', 1170, 'Scumbag', 374], [29, 'avvisa', 115, 'Chocolate Hearts and Stag Beetles', 332], [29, 'avvisa', 1171, 'Cilvia Demo', 326], [29, 'avvisa', 1172, 'Soulja Luv Rari World', 322], [29, 'avvisa', 1173, 'Serotonin II', 319], [29, 'avvisa', 1174, 'Psychobabble Boogiepop', 318], [29, 'avvisa', 12, 'EVERSINCE', 295], [29, 'avvisa', 1175, 'RARE Hi-C .PNG', 292], [29, 'avvisa', 1090, 'Die Lit', 267], [29, 'avvisa', 1176, 'CRACK CLOUD$ OVER ARTS KITCHEN', 261], [29, 'avvisa', 1177, 'Konkurs', 258], [29, 'avvisa', 202, 'Loveless', 256], [29, 'avvisa', 1178, 'Everyone Into Position', 248], [29, 'avvisa', 724, 'Yeezus', 245], [29, 'avvisa', 1179, 'Dior Junts', 240], [29, 'avvisa', 1180, 'antidote', 239], [29, 'avvisa', 1181, \"Speedin' Bullet 2 Heaven\", 234], [29, 'avvisa', 1182, '6 Dogs', 233], [29, 'avvisa', 1183, 'OFFLINE!', 233], [29, 'avvisa', 1184, 'キュプラ', 231], [29, 'avvisa', 154, 'Essentials', 218], [29, 'avvisa', 1185, 'Trapped in The Trenches', 215], [29, 'avvisa', 117, 'Early Works Bootleg', 210], [29, 'avvisa', 213, 'Deathconsciousness', 209], [29, 'avvisa', 17, 'Red Light', 207], [29, 'avvisa', 1186, 'Evil Nigga', 194], [29, 'avvisa', 1187, 'Enchanted Propaganda', 190], [29, 'avvisa', 1188, 'Hybrid Theory', 190], [29, 'avvisa', 722, 'Donda', 189], [29, 'avvisa', 1189, 'Sxicid3 Sqxad', 185], [29, 'avvisa', 1190, 'HELLBOY', 180], [29, 'avvisa', 1191, 'Music For Nurses', 180], [30, 'DiegoVazquez77', 1192, 'Lincoln', 273], [30, 'DiegoVazquez77', 1193, 'Le Voyage dans la Lune', 228], [30, 'DiegoVazquez77', 1194, 'Hard Candy', 217], [30, 'DiegoVazquez77', 1195, 'Luxurious', 211], [30, 'DiegoVazquez77', 534, 'Madvillainy', 199], [30, 'DiegoVazquez77', 1196, 'Marcos Valle', 190], [30, 'DiegoVazquez77', 542, 'Some Rap Songs', 175], [30, 'DiegoVazquez77', 816, 'Double Nickels on the Dime', 165], [30, 'DiegoVazquez77', 155, 'Flower Boy', 148], [30, 'DiegoVazquez77', 1197, 'Five-A-Side', 147], [30, 'DiegoVazquez77', 1198, 'Illmatic', 147], [30, 'DiegoVazquez77', 1199, 'CALL ME IF YOU GET LOST', 142], [30, 'DiegoVazquez77', 1200, 'Turnpike Diaries', 139], [30, 'DiegoVazquez77', 1201, 'Songs in the Key of Life', 136], [30, 'DiegoVazquez77', 1202, 'NO OFFENCE', 135], [30, 'DiegoVazquez77', 718, 'The Life of Pablo', 127], [30, 'DiegoVazquez77', 1203, 'Robbie Dupree', 124], [30, 'DiegoVazquez77', 1204, \"Dah Shinin'\", 123], [30, 'DiegoVazquez77', 608, \"What's Going On\", 116], [30, 'DiegoVazquez77', 1205, 'Máquina do Tempo', 115], [30, 'DiegoVazquez77', 1206, 'Stukas Over Disneyland', 115], [30, 'DiegoVazquez77', 725, 'Graduation', 112], [30, 'DiegoVazquez77', 541, 'IGOR', 111], [30, 'DiegoVazquez77', 1207, 'ハルカリベーコン', 98], [30, 'DiegoVazquez77', 1208, 'Careless', 97], [30, 'DiegoVazquez77', 1209, \"LIFE'S A TRIP\", 96], [30, 'DiegoVazquez77', 1210, 'Lost in Love', 94], [30, 'DiegoVazquez77', 1211, 'A Mis 20', 94], [30, 'DiegoVazquez77', 1212, 'NataKong', 91], [30, 'DiegoVazquez77', 400, 'More Life', 90], [30, 'DiegoVazquez77', 1213, 'Moment Of Truth', 88], [30, 'DiegoVazquez77', 1214, 'Pet Sounds (Original Mono & Stereo Mix Versions)', 87], [30, 'DiegoVazquez77', 874, 'Luv Is Rage 2', 85], [30, 'DiegoVazquez77', 1215, 'Internal Affairs', 83], [30, 'DiegoVazquez77', 1216, 'Vacation (Original Motion Picture Soundtrack)', 83], [30, 'DiegoVazquez77', 1217, 'Superunknown', 82], [30, 'DiegoVazquez77', 1218, 'Hard To Earn', 81], [30, 'DiegoVazquez77', 796, 'To Pimp a Butterfly', 81], [30, 'DiegoVazquez77', 1219, 'Minute by Minute', 81], [30, 'DiegoVazquez77', 1220, 'Behind Bars', 78], [30, 'DiegoVazquez77', 1221, '2+2+1=', 78], [30, 'DiegoVazquez77', 1222, 'We Got It From Here... Thank You 4 Your Service', 76], [30, 'DiegoVazquez77', 1223, 'Tesoros De Coleccion', 74], [30, 'DiegoVazquez77', 1224, 'The Original Soundtrack', 73], [30, 'DiegoVazquez77', 415, 'Is This It', 71], [30, 'DiegoVazquez77', 810, 'Endtroducing.....', 70], [30, 'DiegoVazquez77', 1225, 'Blind Melon', 68], [30, 'DiegoVazquez77', 1226, 'Garra', 68], [30, 'DiegoVazquez77', 1227, 'Baby On Baby', 67], [30, 'DiegoVazquez77', 1228, 'Traffic Jam In Moscow', 67], [31, 'CookieHoliday', 1229, 'MACABRE', 536], [31, 'CookieHoliday', 267, 'The Wall', 510], [31, 'CookieHoliday', 1230, \"Never Mind The Bollocks, Here's The Sex Pistols\", 501], [31, 'CookieHoliday', 1231, 'GAUZE', 485], [31, 'CookieHoliday', 1232, 'American Psycho', 432], [31, 'CookieHoliday', 1233, 'I Disagree', 394], [31, 'CookieHoliday', 1234, 'Collection', 345], [31, 'CookieHoliday', 1235, 'THE MARROW OF A BONE', 327], [31, 'CookieHoliday', 1236, 'The Boys', 319], [31, 'CookieHoliday', 1237, 'Citron', 310], [31, 'CookieHoliday', 1238, 'Am I a Girl?', 297], [31, 'CookieHoliday', 1239, 'UROBOROS', 296], [31, 'CookieHoliday', 1240, '...And Out Come the Wolves', 278], [31, 'CookieHoliday', 1241, 'Eleventeen', 258], [31, 'CookieHoliday', 1242, 'Famous Monsters', 253], [31, 'CookieHoliday', 1243, 'Kisou', 242], [31, 'CookieHoliday', 1244, 'To Anyone', 239], [31, 'CookieHoliday', 1245, 'Hell Yeah', 239], [31, 'CookieHoliday', 203, 'The Dark Side of the Moon', 223], [31, 'CookieHoliday', 757, 'Static Age', 216], [31, 'CookieHoliday', 1246, 'Suki Suki Daisuki', 215], [31, 'CookieHoliday', 1247, '2NE1 2nd Mini Album', 213], [31, 'CookieHoliday', 1248, 'Wonder World', 209], [31, 'CookieHoliday', 594, 'The Kick Inside', 207], [31, 'CookieHoliday', 1249, \"It's My Party!\", 199], [31, 'CookieHoliday', 1250, 'I GOT A BOY', 197], [31, 'CookieHoliday', 730, 'London Calling', 196], [31, 'CookieHoliday', 1251, 'Never for Ever', 191], [31, 'CookieHoliday', 1252, 'A Kiss Before You Go', 188], [31, 'CookieHoliday', 1253, 'Flux', 188], [31, 'CookieHoliday', 1254, 'C.AARMÉ', 186], [31, 'CookieHoliday', 161, 'CRASH', 183], [31, 'CookieHoliday', 1255, 'Energy', 182], [31, 'CookieHoliday', 1256, 'Sweets～SCANCH BEST COLLECTION～', 181], [31, 'CookieHoliday', 1257, 'Rancid [1993]', 179], [31, 'CookieHoliday', 1258, 'Rain Dogs', 178], [31, 'CookieHoliday', 1259, 'Vita', 175], [31, 'CookieHoliday', 1260, 'Electric Shock', 174], [31, 'CookieHoliday', 1261, 'JET CD', 172], [31, 'CookieHoliday', 1262, 'Le Pop', 170], [31, 'CookieHoliday', 1263, \"Life Won't Wait\", 161], [31, 'CookieHoliday', 1264, 'DUM SPIRO SPERO', 159], [31, 'CookieHoliday', 1265, 'I am...', 158], [31, 'CookieHoliday', 1266, 'ARCHE', 157], [31, 'CookieHoliday', 1267, 'Stone Roses', 151], [31, 'CookieHoliday', 1268, 'Jealousy', 151], [31, 'CookieHoliday', 1269, 'The Best Of The Ronettes', 150], [31, 'CookieHoliday', 1270, 'MY STORY', 149], [31, 'CookieHoliday', 451, 'Hounds of Love', 148], [31, 'CookieHoliday', 1271, 'Splurge', 145], [32, 'pxrea', 167, 'Blonde', 1383], [32, 'pxrea', 1272, 'Parachutes', 1180], [32, 'pxrea', 1273, \"LO▼E'S\", 771], [32, 'pxrea', 1274, 'YHLQMDLG', 583], [32, 'pxrea', 835, 'Random Access Memories', 544], [32, 'pxrea', 1275, 'EL ÚLTIMO TOUR DEL MUNDO', 518], [32, 'pxrea', 1276, 'beerbongs & bentleys', 512], [32, 'pxrea', 1277, 'A Rush of Blood to the Head', 488], [32, 'pxrea', 382, \"Hollywood's Bleeding\", 480], [32, 'pxrea', 1278, 'El Madrileño', 457], [32, 'pxrea', 201, 'OK Computer', 455], [32, 'pxrea', 1279, 'Moonlight922', 448], [32, 'pxrea', 1036, 'After Hours', 434], [32, 'pxrea', 197, 'Souvlaki', 433], [32, 'pxrea', 1280, 'Standing On The Corner', 427], [32, 'pxrea', 1281, 'X&Y', 377], [32, 'pxrea', 1282, 'A.D.R.O.M.I.C.F.M.S. 4', 367], [32, 'pxrea', 1283, 'Tercer Verano del Amor', 363], [32, 'pxrea', 72, 'In Rainbows', 362], [32, 'pxrea', 1284, 'Unreleased', 358], [32, 'pxrea', 1285, 'Siempre', 355], [32, 'pxrea', 1286, 'Melanchole', 349], [32, 'pxrea', 1287, 'Timelezz', 346], [32, 'pxrea', 1288, 'How to Save a Life', 343], [32, 'pxrea', 97, 'Untrue', 339], [32, 'pxrea', 1090, 'Die Lit', 332], [32, 'pxrea', 209, 'Pablo Honey', 325], [32, 'pxrea', 198, 'Around the Fur', 320], [32, 'pxrea', 329, '1999', 319], [32, 'pxrea', 718, 'The Life of Pablo', 317], [32, 'pxrea', 403, 'Kid A', 316], [32, 'pxrea', 202, 'Loveless', 312], [32, 'pxrea', 1289, 'Avida Dollars', 311], [32, 'pxrea', 796, 'To Pimp a Butterfly', 310], [32, 'pxrea', 1290, 'Maracucho Bueno Muere Chiquito', 308], [32, 'pxrea', 1291, 'Traumatismo Kraneoencefalico', 301], [32, 'pxrea', 1292, 'LAS QUE NO IBAN A SALIR', 297], [32, 'pxrea', 415, 'Is This It', 295], [32, 'pxrea', 734, 'The College Dropout', 294], [32, 'pxrea', 1293, 'Ídolo', 291], [32, 'pxrea', 877, 'Dummy', 290], [32, 'pxrea', 731, 'The Queen Is Dead', 278], [32, 'pxrea', 1294, 'X 100PRE', 274], [32, 'pxrea', 748, '808s & Heartbreak', 274], [32, 'pxrea', 1295, '2001', 272], [32, 'pxrea', 739, 'Late Registration', 272], [32, 'pxrea', 373, 'MOTOMAMI', 272], [32, 'pxrea', 721, 'ye', 269], [32, 'pxrea', 605, 'El Mal Querer', 262], [32, 'pxrea', 723, 'My Beautiful Dark Twisted Fantasy', 257], [33, 'kt3301', 1089, 'Whole Lotta Red', 137], [33, 'kt3301', 1296, 'Fresh Fruit For Rotting Vegetables (Expanded Edition)', 93], [33, 'kt3301', 758, 'The Velvet Underground & Nico 45th Anniversary', 89], [33, 'kt3301', 1297, 'ひまわり画像', 88], [33, 'kt3301', 1298, 'Trout Mask Replica', 87], [33, 'kt3301', 202, 'Loveless', 83], [33, 'kt3301', 1299, 'Kollaps', 78], [33, 'kt3301', 840, 'Pink Moon', 73], [33, 'kt3301', 978, 'Bad Brains', 70], [33, 'kt3301', 1300, 'But, What Ends When the Symbols Shatter?', 69], [33, 'kt3301', 47, 'Rainbow Bridge 3', 69], [33, 'kt3301', 1301, 'Filth', 69], [33, 'kt3301', 1302, 'Deceit', 69], [33, 'kt3301', 91, 'A Promise', 66], [33, 'kt3301', 1303, \"OIL OF EVERY PEARL'S UN-INSIDES\", 65], [33, 'kt3301', 238, 'In the Aeroplane Over the Sea', 57], [33, 'kt3301', 816, 'Double Nickels on the Dime', 54], [33, 'kt3301', 1304, 'Children of God', 54], [33, 'kt3301', 55, 'Soundtracks for the Blind', 54], [33, 'kt3301', 1305, 'Todd', 53], [33, 'kt3301', 534, 'Madvillainy', 51], [33, 'kt3301', 1306, 'Rainbow Bridge', 50], [33, 'kt3301', 1307, 'Sink', 49], [33, 'kt3301', 1070, 'Remain In Light (Deluxe Version)', 49], [33, 'kt3301', 1308, 'Horseshit on route 66', 48], [33, 'kt3301', 731, 'The Queen Is Dead', 48], [33, 'kt3301', 1309, 'In the Flat Field', 47], [33, 'kt3301', 74, 'Stratosphere', 47], [33, 'kt3301', 139, 'あらためまして、はじめまして、ミドリです。', 46], [33, 'kt3301', 114, 'Fetch', 45], [33, 'kt3301', 1310, 'Ortodossia II/Compagni, Cittadini, Fratelli, Partigiani (2008 Remastered Edition)', 44], [33, 'kt3301', 1311, 'Crack Musica', 44], [33, 'kt3301', 373, 'MOTOMAMI', 44], [33, 'kt3301', 1312, '・薔薇綺麗躊躇網羅就職痙攣蝋燭鷹麟爨齉馕龘爨齉龘・  (Pink Album)', 44], [33, 'kt3301', 970, 'Damaged', 43], [33, 'kt3301', 421, 'Obey', 43], [33, 'kt3301', 630, 'Atrocity Exhibition', 43], [33, 'kt3301', 850, '…Because I’m Young Arrogant and Hate Everything You Stand For', 43], [33, 'kt3301', 1313, 'Le Mani Destre Recise Degli Ultimi Uomini', 42], [33, 'kt3301', 1314, 'Obscura', 41], [33, 'kt3301', 567, 'All My Heroes Are Cornballs', 41], [33, 'kt3301', 1315, '20 Jazz Funk Greats', 41], [33, 'kt3301', 1316, 'Русское Поле Эксперимента (Акустика)', 41], [33, 'kt3301', 1317, \"You Won't Get What You Want\", 40], [33, 'kt3301', 1318, '好き好き大好き', 40], [33, 'kt3301', 1319, 'Bad Moon Rising', 39], [33, 'kt3301', 1320, 'To Be Kind', 39], [33, 'kt3301', 1321, 'The Seeds', 38], [33, 'kt3301', 1322, 'Live 1977-1979', 37], [33, 'kt3301', 1323, 'Prayers On Fire', 37], [34, 'Anonymousmov', 906, 'Punisher', 112], [34, 'Anonymousmov', 575, 'LP!', 80], [34, 'Anonymousmov', 617, 'Titanic Rising', 75], [34, 'Anonymousmov', 1324, 'Piñata', 70], [34, 'Anonymousmov', 796, 'To Pimp a Butterfly', 70], [34, 'Anonymousmov', 545, \"I Don't Like Shit, I Don't Go Outside: An Album by Earl Sweatshirt\", 63], [34, 'Anonymousmov', 30, 'Minecraft - Volume Alpha', 60], [34, 'Anonymousmov', 1325, 'Whack World', 57], [34, 'Anonymousmov', 542, 'Some Rap Songs', 56], [34, 'Anonymousmov', 1326, 'Paper Mâché Dream Balloon', 56], [34, 'Anonymousmov', 1327, 'WORRY.', 55], [34, 'Anonymousmov', 567, 'All My Heroes Are Cornballs', 52], [34, 'Anonymousmov', 223, 'The Money Store', 51], [34, 'Anonymousmov', 602, 'Ants From Up There', 49], [34, 'Anonymousmov', 1328, 'Brick Body Kids Still Daydream', 49], [34, 'Anonymousmov', 1329, \"Time 'n' Place\", 47], [34, 'Anonymousmov', 1330, 'TA13OO', 44], [34, 'Anonymousmov', 155, 'Flower Boy', 44], [34, 'Anonymousmov', 1331, 'Mista Thug Isolation', 43], [34, 'Anonymousmov', 534, 'Madvillainy', 43], [34, 'Anonymousmov', 210, 'Weezer', 43], [34, 'Anonymousmov', 211, 'The Rise and Fall of Ziggy Stardust and the Spiders from Mars (2012 Remaster)', 40], [34, 'Anonymousmov', 65, 'Hellfire', 39], [34, 'Anonymousmov', 630, 'Atrocity Exhibition', 38], [34, 'Anonymousmov', 1302, 'Deceit', 37], [34, 'Anonymousmov', 1332, 'The Forever Story', 36], [34, 'Anonymousmov', 1333, 'good kid, m.A.A.d city (Deluxe)', 36], [34, 'Anonymousmov', 1334, 'SATURATION II', 35], [34, 'Anonymousmov', 1335, 'Mr. Morale & the Big Steppers', 35], [34, 'Anonymousmov', 1039, 'Revolver (Remastered)', 35], [34, 'Anonymousmov', 261, 'Post', 34], [34, 'Anonymousmov', 1183, 'OFFLINE!', 32], [34, 'Anonymousmov', 739, 'Late Registration', 32], [34, 'Anonymousmov', 1336, 'Melt My Eyez See Your Future', 31], [34, 'Anonymousmov', 102, 'The Black Parade', 31], [34, 'Anonymousmov', 554, 'The Impossible Kid', 30], [34, 'Anonymousmov', 536, 'Veteran', 30], [34, 'Anonymousmov', 1337, 'Spiderr', 29], [34, 'Anonymousmov', 1338, 'CLPPNG', 29], [34, 'Anonymousmov', 840, 'Pink Moon', 29], [34, 'Anonymousmov', 288, 'Little Dark Age', 27], [34, 'Anonymousmov', 1090, 'Die Lit', 27], [34, 'Anonymousmov', 914, 'Teens of Denial', 26], [34, 'Anonymousmov', 313, 'Demon Days', 26], [34, 'Anonymousmov', 1339, 'By the Time I Get to Phoenix', 26], [34, 'Anonymousmov', 1340, 'GODS FATHER', 26], [34, 'Anonymousmov', 1341, 'FM!', 25], [34, 'Anonymousmov', 1342, '4eva Is a Mighty Long Time', 24], [34, 'Anonymousmov', 1343, 'Visions of Bodies Being Burned', 24], [34, 'Anonymousmov', 1344, 'Hyper-Dimensional Expansion Beam', 24], [35, 'PHChronos', 1345, 'AIM (Deluxe)', 755], [35, 'PHChronos', 1346, 'Trava Línguas', 737], [35, 'PHChronos', 1347, 'Matangi', 337], [35, 'PHChronos', 373, 'MOTOMAMI', 284], [35, 'PHChronos', 231, 'Born to Die - The Paradise Edition', 281], [35, 'PHChronos', 177, 'Blue Banisters', 274], [35, 'PHChronos', 368, 'Honeymoon', 274], [35, 'PHChronos', 153, 'Norman Fucking Rockwell!', 265], [35, 'PHChronos', 149, 'Ultraviolence (Deluxe)', 265], [35, 'PHChronos', 1348, 'Te Amo Lá Fora', 193], [35, 'PHChronos', 290, 'MATA', 184], [35, 'PHChronos', 156, 'Sin Miedo (del Amor y Otros Demonios) ∞', 164], [35, 'PHChronos', 163, 'Lust for Life', 159], [35, 'PHChronos', 100, 'KiCk i', 155], [35, 'PHChronos', 1349, 'Sinto Muito', 153], [35, 'PHChronos', 1350, 'Halfaxa', 147], [35, 'PHChronos', 377, 'Born This Way (International Special Edition Version)', 140], [35, 'PHChronos', 1351, 'Brilliant Adventure (1992 – 2001)', 131], [35, 'PHChronos', 804, 'Visions', 124], [35, 'PHChronos', 1352, 'New Decadence', 121], [35, 'PHChronos', 1353, 'Popular', 120], [35, 'PHChronos', 1354, 'Arular', 119], [35, 'PHChronos', 1143, 'The Fame Monster (Deluxe Edition)', 114], [35, 'PHChronos', 1355, \"Let's Part in Style\", 111], [35, 'PHChronos', 1356, 'Miley Cyrus & Her Dead Petz', 110], [35, 'PHChronos', 1357, '/\\\\/\\\\ /\\\\ Y /\\\\ (Deluxe Edition)', 107], [35, 'PHChronos', 1358, 'Elis', 106], [35, 'PHChronos', 1359, 'Clube Da Esquina', 102], [35, 'PHChronos', 385, 'Chromatica', 98], [35, 'PHChronos', 1360, 'MENGA', 92], [35, 'PHChronos', 1361, 'Mourn', 92], [35, 'PHChronos', 1362, 'Miss Anthropocene (Deluxe Edition)', 92], [35, 'PHChronos', 1363, 'Starboy', 92], [35, 'PHChronos', 1364, 'Party Girl', 90], [35, 'PHChronos', 1365, 'Ecstasy in the Shadow of Ecstasy', 86], [35, 'PHChronos', 1366, 'The One', 83], [35, 'PHChronos', 1367, 'Rito de Passá', 82], [35, 'PHChronos', 1368, 'Kala', 80], [35, 'PHChronos', 1369, 'Born to Die – Paradise Edition (Special Version)', 78], [35, 'PHChronos', 1370, 'EVERYONE AFRAID TO BE FORGOTTEN', 74], [35, 'PHChronos', 267, 'The Wall', 72], [35, 'PHChronos', 1371, 'Nó Na Orelha', 69], [35, 'PHChronos', 1372, 'kin', 69], [35, 'PHChronos', 1373, 'The Immaculate Collection', 69], [35, 'PHChronos', 148, 'Pang', 68], [35, 'PHChronos', 1374, 'Tropix', 68], [35, 'PHChronos', 1375, 'Los Ángeles', 66], [35, 'PHChronos', 1376, 'Envolver', 65], [35, 'PHChronos', 1377, 'Transversal Do Tempo', 65], [35, 'PHChronos', 1378, 'Black Celebration (Deluxe)', 63], [36, 'Kid_aw', 563, 'Twin Fantasy', 123], [36, 'Kid_aw', 914, 'Teens of Denial', 97], [36, 'Kid_aw', 931, 'Making a Door Less Open', 89], [36, 'Kid_aw', 217, 'The Bends', 78], [36, 'Kid_aw', 72, 'In Rainbows', 77], [36, 'Kid_aw', 1308, 'Horseshit on route 66', 67], [36, 'Kid_aw', 405, 'Pinkerton - Deluxe Edition', 65], [36, 'Kid_aw', 415, 'Is This It', 63], [36, 'Kid_aw', 198, 'Around the Fur', 61], [36, 'Kid_aw', 202, 'Loveless', 59], [36, 'Kid_aw', 1379, 'How To Leave Town', 54], [36, 'Kid_aw', 1380, 'Mirror Might Steal Your Charm', 51], [36, 'Kid_aw', 1381, 'Cruel Melody', 50], [36, 'Kid_aw', 207, 'Saturday Night Wrist', 49], [36, 'Kid_aw', 201, 'OK Computer', 49], [36, 'Kid_aw', 1382, 'Weezer (Black Album)', 49], [36, 'Kid_aw', 417, 'D>E>A>T>H>M>E>T>A>L', 48], [36, 'Kid_aw', 1383, 'Position 2 (Extended)', 46], [36, 'Kid_aw', 262, 'Twilight', 45], [36, 'Kid_aw', 1384, 'Either/Or', 45], [36, 'Kid_aw', 423, 'Room on Fire', 45], [36, 'Kid_aw', 38, '333', 44], [36, 'Kid_aw', 209, 'Pablo Honey', 44], [36, 'Kid_aw', 124, '22nd Chances', 42], [36, 'Kid_aw', 17, 'Red Light', 41], [36, 'Kid_aw', 1385, 'Los Flakos', 41], [36, 'Kid_aw', 1386, 'Hidden Treasures', 41], [36, 'Kid_aw', 1387, 'Spirit Youth', 41], [36, 'Kid_aw', 1388, 'Hunky Dory (2015 Remaster)', 40], [36, 'Kid_aw', 1389, 'Rumskib', 38], [36, 'Kid_aw', 1306, 'Rainbow Bridge', 37], [36, 'Kid_aw', 1390, 'Vecinos Psicodélicos', 36], [36, 'Kid_aw', 1391, 'Rust in Peace (Expanded Edition)', 36], [36, 'Kid_aw', 1392, 'Depresión Sonora', 35], [36, 'Kid_aw', 74, 'Stratosphere', 35], [36, 'Kid_aw', 1393, 'ep’s 1988-1991 and rare tracks', 35], [36, 'Kid_aw', 212, 'Diamond Eyes', 34], [36, 'Kid_aw', 1394, 'XO', 33], [36, 'Kid_aw', 5, 'Marjorie -W.C. Sinclair', 32], [36, 'Kid_aw', 1395, 'Collide With the Sky', 32], [36, 'Kid_aw', 1396, \"Let's Dance (2018 remaster)\", 31], [36, 'Kid_aw', 1397, 'La La Land (Original Motion Picture Score)', 31], [36, 'Kid_aw', 197, 'Souvlaki', 31], [36, 'Kid_aw', 1398, 'tyuudokusyoujyou〜ni〜', 31], [36, 'Kid_aw', 205, 'White Pony', 30], [36, 'Kid_aw', 1399, 'For Lovers', 30], [36, 'Kid_aw', 1400, '日々のあわ', 30], [36, 'Kid_aw', 1401, 'Microcastle', 29], [36, 'Kid_aw', 1402, 'hikikomori days', 29], [36, 'Kid_aw', 245, 'Vol. 3: The Subliminal Verses', 29], [37, 'smelltoxic', 1403, 'Born This Way', 1795], [37, 'smelltoxic', 380, 'Melodrama', 1765], [37, 'smelltoxic', 346, 'Back to Black', 1617], [37, 'smelltoxic', 1404, '1989', 1422], [37, 'smelltoxic', 379, 'Lemonade', 1407], [37, 'smelltoxic', 1405, 'MASSEDUCTION', 1364], [37, 'smelltoxic', 1406, 'E•MO•TION', 1340], [37, 'smelltoxic', 1407, 'After Laughter', 1329], [37, 'smelltoxic', 1408, 'Dirty Computer', 1307], [37, 'smelltoxic', 1409, 'Sweetener', 1293], [37, 'smelltoxic', 1410, 'Night Time, My Time', 1239], [37, 'smelltoxic', 1411, 'Red', 1158], [37, 'smelltoxic', 385, 'Chromatica', 1153], [37, 'smelltoxic', 1412, 'ANTI', 1145], [37, 'smelltoxic', 451, 'Hounds of Love', 1085], [37, 'smelltoxic', 1413, 'ARTPOP', 1073], [37, 'smelltoxic', 186, 'folklore', 1048], [37, 'smelltoxic', 1414, 'Lança perfume', 1046], [37, 'smelltoxic', 253, 'Be the Cowboy', 1043], [37, 'smelltoxic', 1415, 'Dangerous Woman', 1042], [37, 'smelltoxic', 196, 'Isolation', 1013], [37, 'smelltoxic', 163, 'Lust for Life', 1012], [37, 'smelltoxic', 1416, 'SAWAYAMA', 993], [37, 'smelltoxic', 923, 'Pure Heroine', 983], [37, 'smelltoxic', 293, 'RENAISSANCE', 980], [37, 'smelltoxic', 1417, 'Beyoncé', 963], [37, 'smelltoxic', 1418, 'Blackout', 950], [37, 'smelltoxic', 373, 'MOTOMAMI', 950], [37, 'smelltoxic', 1419, 'The Velvet Rope', 929], [37, 'smelltoxic', 365, \"Red (Taylor's Version)\", 923], [37, 'smelltoxic', 1420, 'Laundry Service', 921], [37, 'smelltoxic', 1421, 'Butterfly', 907], [37, 'smelltoxic', 1422, 'thank u, next', 905], [37, 'smelltoxic', 166, 'Ctrl', 881], [37, 'smelltoxic', 1423, 'Rainbow', 880], [37, 'smelltoxic', 1424, 'Golden Hour', 873], [37, 'smelltoxic', 1425, 'HOMECOMING: THE LIVE ALBUM', 818], [37, 'smelltoxic', 1426, 'St. Vincent', 817], [37, 'smelltoxic', 1427, 'Positions', 812], [37, 'smelltoxic', 294, 'Daydream', 810], [37, 'smelltoxic', 1428, 'Rita Lee', 799], [37, 'smelltoxic', 624, 'Dedicated', 796], [37, 'smelltoxic', 1429, 'No Shame', 791], [37, 'smelltoxic', 1430, 'Fruto Proibido', 786], [37, 'smelltoxic', 478, 'Number 1 Angel', 775], [37, 'smelltoxic', 1431, 'Alright, Still', 773], [37, 'smelltoxic', 1432, 'Joanne', 762], [37, 'smelltoxic', 452, 'Broke with Expensive Taste', 760], [37, 'smelltoxic', 1433, 'Caution', 749], [37, 'smelltoxic', 1434, 'Sheezus', 744], [38, 'iwnaras', 1435, 'Relationship of Command', 542], [38, 'iwnaras', 1436, 'Career Suicide', 392], [38, 'iwnaras', 1437, 'Hissing Prigs in Static Couture', 320], [38, 'iwnaras', 1438, 'In On the Kill Taker', 307], [38, 'iwnaras', 1439, 'Red Medicine', 268], [38, 'iwnaras', 406, 'The Smiths', 259], [38, 'iwnaras', 1440, 'Strangeways, Here We Come', 246], [38, 'iwnaras', 1441, 'Domestica', 243], [38, 'iwnaras', 221, 'Hatful of Hollow', 228], [38, 'iwnaras', 1442, 'Life on a Plate', 217], [38, 'iwnaras', 1443, 'Attack on Memory', 207], [38, 'iwnaras', 1444, 'Fast Forward Eats the Tape', 206], [38, 'iwnaras', 1445, 'Ruiner', 195], [38, 'iwnaras', 1446, '13 Songs', 193], [38, 'iwnaras', 1447, 'Bright Green Field', 188], [38, 'iwnaras', 948, 'Repetition', 182], [38, 'iwnaras', 1448, 'Public Strain', 182], [38, 'iwnaras', 960, 'The Future of What', 178], [38, 'iwnaras', 1449, 'The Queen Is Dead (2017 Master)', 168], [38, 'iwnaras', 731, 'The Queen Is Dead', 164], [38, 'iwnaras', 1450, 'Mute Print', 146], [38, 'iwnaras', 1451, 'Drive Like Jehu', 146], [38, 'iwnaras', 1452, 'Pennybridge Pioneers', 141], [38, 'iwnaras', 1453, 'Ass Cobra', 139], [38, 'iwnaras', 1454, 'Embrace', 136], [38, 'iwnaras', 1455, 'Songs to Scream at the Sun', 128], [38, 'iwnaras', 857, 'Since I Left You', 119], [38, 'iwnaras', 1456, 'Sideburner', 116], [38, 'iwnaras', 1457, 'An American Paradox', 116], [38, 'iwnaras', 1458, 'Complete Discography [2003 Remaster]', 113], [38, 'iwnaras', 288, 'Little Dark Age', 109], [38, 'iwnaras', 1459, 'Milo Goes to College', 107], [38, 'iwnaras', 810, 'Endtroducing.....', 107], [38, 'iwnaras', 1460, 'The Marshall Mathers LP', 107], [38, 'iwnaras', 1461, 'Repeater + 3 Songs', 105], [38, 'iwnaras', 1462, 'Generator', 104], [38, 'iwnaras', 1463, 'Anonymized Internal Criminals', 102], [38, 'iwnaras', 1464, 'Entertainment!', 101], [38, 'iwnaras', 946, 'Leaves Turn Inside You', 101], [38, 'iwnaras', 1465, 'The Argument', 99], [38, 'iwnaras', 1466, 'The Lurid Traversal of Route 7', 99], [38, 'iwnaras', 1467, 'Doppelgänger', 98], [38, 'iwnaras', 1468, \"Let's Talk About Feelings\", 96], [38, 'iwnaras', 1469, 'Suicide Invoice', 93], [38, 'iwnaras', 1470, 'Black Eyes', 90], [38, 'iwnaras', 1014, 'Meat Is Murder', 89], [38, 'iwnaras', 1471, 'Smash', 88], [38, 'iwnaras', 718, 'The Life of Pablo', 87], [38, 'iwnaras', 1472, 'Operation Ivy', 87], [38, 'iwnaras', 1473, 'The Fall Of Troy', 80], [39, 'Hay-zel', 1474, 'Wolf', 143], [39, 'Hay-zel', 74, 'Stratosphere', 125], [39, 'Hay-zel', 796, 'To Pimp a Butterfly', 114], [39, 'Hay-zel', 1475, 'Chocolate and Cheese', 92], [39, 'Hay-zel', 1476, 'Pure Guava', 89], [39, 'Hay-zel', 201, 'OK Computer', 81], [39, 'Hay-zel', 1090, 'Die Lit', 79], [39, 'Hay-zel', 403, 'Kid A', 78], [39, 'Hay-zel', 718, 'The Life of Pablo', 76], [39, 'Hay-zel', 1477, 'The Mollusk', 76], [39, 'Hay-zel', 739, 'Late Registration', 75], [39, 'Hay-zel', 217, 'The Bends', 75], [39, 'Hay-zel', 1478, 'The Pod', 74], [39, 'Hay-zel', 1479, 'Bastard', 70], [39, 'Hay-zel', 1480, 'Goblin', 69], [39, 'Hay-zel', 1089, 'Whole Lotta Red', 68], [39, 'Hay-zel', 721, 'ye', 67], [39, 'Hay-zel', 1481, 'Quebec', 67], [39, 'Hay-zel', 724, 'Yeezus', 63], [39, 'Hay-zel', 1482, 'GodWeenSatan: The Oneness', 63], [39, 'Hay-zel', 1483, 'Experimental Dust', 62], [39, 'Hay-zel', 167, 'Blonde', 61], [39, 'Hay-zel', 267, 'The Wall', 61], [39, 'Hay-zel', 14, 'Contemporary Movement', 60], [39, 'Hay-zel', 236, 'Capsule Losing Contact', 58], [39, 'Hay-zel', 734, 'The College Dropout', 58], [39, 'Hay-zel', 541, 'IGOR', 58], [39, 'Hay-zel', 58, 'Geogaddi', 55], [39, 'Hay-zel', 1484, 'Old Tunes Vol. 2', 53], [39, 'Hay-zel', 1485, 'Cherry Bomb', 50], [39, 'Hay-zel', 439, 'Selected Ambient Works 85-92', 49], [39, 'Hay-zel', 722, 'Donda', 49], [39, 'Hay-zel', 1486, 'Enter the Wu-Tang (36 Chambers)', 49], [39, 'Hay-zel', 213, 'Deathconsciousness', 47], [39, 'Hay-zel', 1487, 'The Velvet Underground & Nico', 45], [39, 'Hay-zel', 205, 'White Pony', 41], [39, 'Hay-zel', 1488, 'Watch the Throne', 41], [39, 'Hay-zel', 1489, 'MM..Food', 40], [39, 'Hay-zel', 1490, 'Flood', 40], [39, 'Hay-zel', 216, 'channel ORANGE', 39], [39, 'Hay-zel', 728, 'JESUS IS KING', 39], [39, 'Hay-zel', 1491, 'Under Construction [The Wall Demos]', 39], [39, 'Hay-zel', 748, '808s & Heartbreak', 38], [39, 'Hay-zel', 215, 'Amnesiac', 38], [39, 'Hay-zel', 1492, 'White Pepper', 38], [39, 'Hay-zel', 1493, 'Resident Alien', 37], [39, 'Hay-zel', 1494, 'WOLF (2010)', 37], [39, 'Hay-zel', 725, 'Graduation', 36], [39, 'Hay-zel', 1495, 'Under Construction', 36], [39, 'Hay-zel', 1496, 'So Help Me God', 35], [40, 'davxpr', 103, 'His N Hers', 793], [40, 'davxpr', 109, 'Danger Days: The True Lives of the Fabulous Killjoys', 720], [40, 'davxpr', 307, 'Wolfgang Amadeus Phoenix', 676], [40, 'davxpr', 1497, 'Silent Alarm', 654], [40, 'davxpr', 1498, 'You & Me', 639], [40, 'davxpr', 112, 'Different Class', 620], [40, 'davxpr', 1499, 'Reflektor', 608], [40, 'davxpr', 1500, 'The Suburbs', 593], [40, 'davxpr', 1501, 'Kaputt', 571], [40, 'davxpr', 80, 'The Glow, Pt. 2', 533], [40, 'davxpr', 643, 'Modern Vampires of the City', 526], [40, 'davxpr', 1502, 'HiperAsia', 523], [40, 'davxpr', 1503, \"Sam's Town\", 511], [40, 'davxpr', 1504, 'Neon Bible', 493], [40, 'davxpr', 642, 'This Is Happening', 475], [40, 'davxpr', 1505, 'Portamento', 474], [40, 'davxpr', 1506, 'Everyone Who Pretended to Like Me Is Gone', 467], [40, 'davxpr', 1507, 'xx', 452], [40, 'davxpr', 1508, 'Intimacy', 443], [40, 'davxpr', 284, 'Plastic Beach', 437], [40, 'davxpr', 1509, 'Up the Bracket', 437], [40, 'davxpr', 1510, 'Wildflower', 431], [40, 'davxpr', 1511, 'Cupid Deluxe', 429], [40, 'davxpr', 723, 'My Beautiful Dark Twisted Fantasy', 429], [40, 'davxpr', 1512, 'Ti Amo', 429], [40, 'davxpr', 542, 'Some Rap Songs', 425], [40, 'davxpr', 1513, 'Bows + Arrows', 424], [40, 'davxpr', 1514, 'Screamadelica', 411], [40, 'davxpr', 72, 'In Rainbows', 411], [40, 'davxpr', 1515, 'Primary Colours', 387], [40, 'davxpr', 1516, 'The Libertines', 386], [40, 'davxpr', 657, 'Depression Cherry', 379], [40, 'davxpr', 638, 'Sound Of Silver', 375], [40, 'davxpr', 1517, 'Father of the Bride', 373], [40, 'davxpr', 230, 'Doolittle', 372], [40, 'davxpr', 701, 'First Impressions of Earth', 372], [40, 'davxpr', 1518, 'A Weekend In the City', 361], [40, 'davxpr', 1519, 'Love Letters', 361], [40, 'davxpr', 1520, 'Four', 358], [40, 'davxpr', 1521, 'Bossanova', 358], [40, 'davxpr', 1522, 'The Resistance', 357], [40, 'davxpr', 202, 'Loveless', 349], [40, 'davxpr', 1523, 'The Drums', 348], [40, 'davxpr', 273, 'A Brief Inquiry Into Online Relationships', 346], [40, 'davxpr', 1524, '22, a Million', 341], [40, 'davxpr', 1525, 'Bankrupt!', 333], [40, 'davxpr', 1526, 'Contra', 332], [40, 'davxpr', 1527, 'Humbug', 331], [40, 'davxpr', 916, 'Plans', 329], [40, 'davxpr', 1528, 'Freetown Sound', 328], [41, 'AllanZone', 1529, 'Anthology 2', 922], [41, 'AllanZone', 771, 'Abbey Road', 867], [41, 'AllanZone', 441, 'Rubber Soul', 819], [41, 'AllanZone', 1530, 'Anthology 3', 783], [41, 'AllanZone', 1531, 'Anthology 1', 762], [41, 'AllanZone', 689, 'Aha Shake Heartbreak', 578], [41, 'AllanZone', 997, 'Help!', 571], [41, 'AllanZone', 1052, 'Complete', 553], [41, 'AllanZone', 1532, 'Past Masters, Vols. 1 & 2', 508], [41, 'AllanZone', 1533, 'The Dark Side Of The Moon (Remastered)', 455], [41, 'AllanZone', 1534, 'Junk of the Heart', 448], [41, 'AllanZone', 1535, \"Sgt. Pepper's Lonely Hearts Club Band\", 447], [41, 'AllanZone', 203, 'The Dark Side of the Moon', 428], [41, 'AllanZone', 1536, 'The Platinum Collection', 424], [41, 'AllanZone', 267, 'The Wall', 419], [41, 'AllanZone', 1537, 'Spinetta Y Los Socios Del Desierto', 405], [41, 'AllanZone', 1538, 'Tejas', 388], [41, 'AllanZone', 988, 'Let It Be', 385], [41, 'AllanZone', 1539, '1919 Eternal', 375], [41, 'AllanZone', 1540, 'Degüello', 375], [41, 'AllanZone', 789, 'Revolver', 368], [41, 'AllanZone', 1541, 'MTV Unplugged', 356], [41, 'AllanZone', 1542, 'Coliumo', 356], [41, 'AllanZone', 993, 'Beatles for Sale', 349], [41, 'AllanZone', 1006, 'Please Please Me', 344], [41, 'AllanZone', 1543, 'The Beatles (White Album)', 332], [41, 'AllanZone', 1544, 'Pulse (live)', 328], [41, 'AllanZone', 1545, 'Live at Budokan', 323], [41, 'AllanZone', 995, 'With the Beatles', 317], [41, 'AllanZone', 1546, 'More', 305], [41, 'AllanZone', 1547, \"A Hard Day's Night\", 304], [41, 'AllanZone', 992, 'Magical Mystery Tour', 299], [41, 'AllanZone', 1548, 'Konk', 290], [41, 'AllanZone', 916, 'Plans', 287], [41, 'AllanZone', 1549, 'No Rest for the Wicked (Bonus Track Version)', 281], [41, 'AllanZone', 1550, 'El Loco', 278], [41, 'AllanZone', 1551, 'Technical Difficulties', 264], [41, 'AllanZone', 234, 'Incesticide', 263], [41, 'AllanZone', 1552, 'Pulse', 261], [41, 'AllanZone', 1553, 'Héroes del Silencio: The Platinum Collection', 259], [41, 'AllanZone', 1554, 'Imagine', 259], [41, 'AllanZone', 837, 'Nevermind', 259], [41, 'AllanZone', 1555, 'The Division Bell', 259], [41, 'AllanZone', 1556, 'Ahí Vamos', 256], [41, 'AllanZone', 1557, 'Rak', 254], [41, 'AllanZone', 1558, 'Comfort y Música Para Volar', 253], [41, 'AllanZone', 1559, 'Big Bang', 252], [41, 'AllanZone', 1560, 'La Sangre En El Cuerpo', 251], [41, 'AllanZone', 1561, 'Obscured by Clouds', 246], [41, 'AllanZone', 1021, 'Yellow Submarine', 245], [42, 'testtype02', 1562, 'NieR Gestalt & NieR RepliCant Original Soundtrack', 987], [42, 'testtype02', 17, 'Red Light', 801], [42, 'testtype02', 1, 'D&G', 699], [42, 'testtype02', 1563, 'NieR:Automata Original Soundtrack', 543], [42, 'testtype02', 1564, 'undergone', 503], [42, 'testtype02', 16, 'E', 495], [42, 'testtype02', 4, 'Icedancer', 347], [42, 'testtype02', 12, 'EVERSINCE', 314], [42, 'testtype02', 607, 'my love feels all wrong. digipak', 241], [42, 'testtype02', 1565, 'gnb', 236], [42, 'testtype02', 1566, 'EVANGELION FINALLY', 229], [42, 'testtype02', 1567, 'Nekomonogatari (Kuro) Gekihanongakushu [Original Soundtrack]', 223], [42, 'testtype02', 867, 'Stranger', 201], [42, 'testtype02', 1093, 'EXETER', 196], [42, 'testtype02', 1568, 'goretrance 9', 190], [42, 'testtype02', 1569, 'Shiro SAGISU Music from \"SHIN EVANGELION\" EVANGELION: 3.0+1.0.', 174], [42, 'testtype02', 1570, 'NEO: The World Ends with You - Original Soundtrack', 172], [42, 'testtype02', 1571, 'PERSONA5 ORIGINAL SOUNDTRACK', 171], [42, 'testtype02', 1572, '0', 161], [42, 'testtype02', 39, 'Trash Island', 155], [42, 'testtype02', 1573, 'Bakemonogatari Gekihanongakushu (Original Soundtrack)', 154], [42, 'testtype02', 1574, 'Singles', 148], [42, 'testtype02', 1575, 'Catherine & Catherine Full Body Soundtrack Set', 137], [42, 'testtype02', 981, 'UNDERTALE Soundtrack', 131], [42, 'testtype02', 46, 'Poison Ivy', 128], [42, 'testtype02', 24, 'Unknown Memory', 126], [42, 'testtype02', 1576, 'NieR Gestalt & Replicant 15 Nightmares & Arrange Tracks', 125], [42, 'testtype02', 1577, 'STEINS;GATE Original Soundtrack', 124], [42, 'testtype02', 1578, 'C3L3STIAL天の', 121], [42, 'testtype02', 38, '333', 104], [42, 'testtype02', 44, 'Bladeecity', 100], [42, 'testtype02', 1563, 'NieR:Automata Original Soundtrack', 100], [42, 'testtype02', 1579, 'Nisemonogatari Gekihanongakushu (Original Soundtrack)', 97], [42, 'testtype02', 1563, 'NieR:Automata Original Soundtrack', 94], [42, 'testtype02', 1580, 'FINAL FANTASY XIII-2 Original Soundtrack PLUS', 92], [42, 'testtype02', 1581, 'Heaven to a Tortured Mind', 87], [42, 'testtype02', 1582, 'TOHO BOSSA NOVA 2', 86], [42, 'testtype02', 1583, 'AvP', 83], [42, 'testtype02', 1584, 'with all my heart. digipak', 78], [42, 'testtype02', 1585, 'TOHO BOSSA NOVA 3', 78], [42, 'testtype02', 1586, 'Koimonogatari Gekihanongakushu (Original Soundtrack)', 77], [42, 'testtype02', 1587, 'Tomo Me Nyado', 75], [42, 'testtype02', 1588, 'Violence', 75], [42, 'testtype02', 1589, 'Sunset in Silver City', 74], [42, 'testtype02', 1590, 'Utamonogatari Special Edition (Original Soundtrack)', 74], [42, 'testtype02', 15, 'Working on Dying', 73], [42, 'testtype02', 1591, 'Kizumonogatari Gekihanongakushu (Original Soundtrack)', 73], [42, 'testtype02', 1592, 'Tomboyish Love for Soda Pop and Apple Sweets (Digipak)', 71], [42, 'testtype02', 597, 'Draining Love Story', 71], [42, 'testtype02', 1593, 'GUILTY GEAR SOUND COMPLETE BOX (5)', 70], [43, 'semihcc', 4, 'Icedancer', 697], [43, 'semihcc', 74, 'Stratosphere', 520], [43, 'semihcc', 409, 'Songs About Leaving', 404], [43, 'semihcc', 13, 'BAROQUE', 388], [43, 'semihcc', 881, '(III)', 377], [43, 'semihcc', 106, 'Three Cheers for Sweet Revenge', 299], [43, 'semihcc', 1594, 'Azure-Core', 260], [43, 'semihcc', 15, 'Working on Dying', 250], [43, 'semihcc', 48, 'The Fool', 247], [43, 'semihcc', 2, 'FLASH DESIRE', 212], [43, 'semihcc', 1, 'D&G', 210], [43, 'semihcc', 1595, 'SILENT HILL2 (Original Soundtrack)', 201], [43, 'semihcc', 1596, 'Birds in the Ground', 201], [43, 'semihcc', 1597, 'Trash Star', 193], [43, 'semihcc', 91, 'A Promise', 183], [43, 'semihcc', 80, 'The Glow, Pt. 2', 174], [43, 'semihcc', 1384, 'Either/Or', 162], [43, 'semihcc', 39, 'Trash Island', 158], [43, 'semihcc', 1598, 'Modal Soul', 157], [43, 'semihcc', 1337, 'Spiderr', 152], [43, 'semihcc', 117, 'Early Works Bootleg', 150], [43, 'semihcc', 1599, 'World Tour', 147], [43, 'semihcc', 202, 'Loveless', 144], [43, 'semihcc', 1089, 'Whole Lotta Red', 144], [43, 'semihcc', 262, 'Twilight', 140], [43, 'semihcc', 205, 'White Pony', 138], [43, 'semihcc', 946, 'Leaves Turn Inside You', 137], [43, 'semihcc', 1600, \"Just Got Back from the Discomfort We're Alright\", 135], [43, 'semihcc', 417, 'D>E>A>T>H>M>E>T>A>L', 134], [43, 'semihcc', 17, 'Red Light', 132], [43, 'semihcc', 197, 'Souvlaki', 129], [43, 'semihcc', 1095, 'Crest', 126], [43, 'semihcc', 1601, 'Together', 124], [43, 'semihcc', 1602, 'Fabulous Muscles', 122], [43, 'semihcc', 16, 'E', 119], [43, 'semihcc', 97, 'Untrue', 117], [43, 'semihcc', 102, 'The Black Parade', 114], [43, 'semihcc', 873, 'Crystal Castles', 112], [43, 'semihcc', 1603, 'Turn on the Bright Lights', 111], [43, 'semihcc', 1604, 'Diary (2009 Edition)', 111], [43, 'semihcc', 1605, 'Duster', 105], [43, 'semihcc', 1606, 'Attention 2 Retail', 104], [43, 'semihcc', 1607, 'The Power of Failing', 104], [43, 'semihcc', 1608, 'Glitch Princess', 101], [43, 'semihcc', 1166, '700 DAGREEZ', 99], [43, 'semihcc', 1609, 'Transmission, Flux', 97], [43, 'semihcc', 1610, 'value', 96], [43, 'semihcc', 198, 'Around the Fur', 94], [43, 'semihcc', 563, 'Twin Fantasy', 93], [43, 'semihcc', 1611, 'Melody of Certain Damaged Lemons', 92], [44, 'mudkipi', 1477, 'The Mollusk', 2731], [44, 'mudkipi', 1482, 'GodWeenSatan: The Oneness', 2664], [44, 'mudkipi', 267, 'The Wall', 2042], [44, 'mudkipi', 1475, 'Chocolate and Cheese', 1952], [44, 'mudkipi', 1481, 'Quebec', 1825], [44, 'mudkipi', 1478, 'The Pod', 1551], [44, 'mudkipi', 1612, 'Mass Teen Fainting', 995], [44, 'mudkipi', 585, 'The Piper at the Gates of Dawn', 954], [44, 'mudkipi', 1490, 'Flood', 839], [44, 'mudkipi', 1492, 'White Pepper', 810], [44, 'mudkipi', 1613, 'Apollo 18', 802], [44, 'mudkipi', 1476, 'Pure Guava', 687], [44, 'mudkipi', 1614, 'They Might Be Giants', 673], [44, 'mudkipi', 1615, 'Scott Pilgrim vs. the World (Original Motion Picture Soundtrack)', 614], [44, 'mudkipi', 1616, 'More Songs About Buildings and Food', 545], [44, 'mudkipi', 1617, 'La Cucaracha', 507], [44, 'mudkipi', 1618, 'Talking Heads: 77', 495], [44, 'mudkipi', 1619, 'Night in the Woods Vol. 1: At The End Of Everything', 454], [44, 'mudkipi', 1620, 'Wish You Were Here', 454], [44, 'mudkipi', 1192, 'Lincoln', 454], [44, 'mudkipi', 1621, 'Grand Slam', 433], [44, 'mudkipi', 1622, 'Portal 2: Songs to Test By (Collectors Edition)', 431], [44, 'mudkipi', 203, 'The Dark Side of the Moon', 382], [44, 'mudkipi', 1623, 'life changing moments seem minor in pictures', 381], [44, 'mudkipi', 1624, 'Chef Aid: The South Park Album', 381], [44, 'mudkipi', 1625, 'Flutterboard', 359], [44, 'mudkipi', 1626, 'Not For Broadcast - Original Soundtrack', 356], [44, 'mudkipi', 1627, 'Fear of Music', 340], [44, 'mudkipi', 1628, 'Ivy and the Big Apples', 338], [44, 'mudkipi', 1629, \"I'm in Your Mind Fuzz\", 328], [44, 'mudkipi', 1630, 'A Message for Marta', 316], [44, 'mudkipi', 1631, 'Nonagon Infinity', 313], [44, 'mudkipi', 1632, 'Night in the Woods Vol. 2: Hold On To Anything', 295], [44, 'mudkipi', 1633, 'A Saucerful of Secrets', 290], [44, 'mudkipi', 30, 'Minecraft - Volume Alpha', 279], [44, 'mudkipi', 1634, 'Meddle', 274], [44, 'mudkipi', 1635, \"The Beginner's Guide\", 271], [44, 'mudkipi', 1636, 'Out of the Blue', 269], [44, 'mudkipi', 1637, 'A Night at the Opera', 255], [44, 'mudkipi', 1638, 'Cold Spring Harbor', 252], [44, 'mudkipi', 1639, 'Sam & Max Save the World', 250], [44, 'mudkipi', 1640, 'Life Sentence (B-Sides & Rarities)', 248], [44, 'mudkipi', 1641, 'Polygondwanaland', 247], [44, 'mudkipi', 1642, 'Brown Album', 241], [44, 'mudkipi', 1643, 'Fishing for Fishies', 227], [44, 'mudkipi', 1644, 'State Songs', 225], [44, 'mudkipi', 1645, 'Time', 222], [44, 'mudkipi', 1646, 'Atom Heart Mother', 218], [44, 'mudkipi', 1647, \"This Day Won't Last At All\", 214], [44, 'mudkipi', 1648, 'John Henry', 213], [45, 'sapphicasf', 906, 'Punisher', 1228], [45, 'sapphicasf', 173, 'evermore (deluxe version)', 1140], [45, 'sapphicasf', 366, 'reputation', 1138], [45, 'sapphicasf', 187, 'folklore (deluxe version)', 1119], [45, 'sapphicasf', 367, '1989 (Deluxe)', 913], [45, 'sapphicasf', 232, 'Lover', 833], [45, 'sapphicasf', 402, 'Red (Deluxe Edition)', 726], [45, 'sapphicasf', 365, \"Red (Taylor's Version)\", 698], [45, 'sapphicasf', 167, 'Blonde', 593], [45, 'sapphicasf', 781, 'Midnights', 570], [45, 'sapphicasf', 380, 'Melodrama', 554], [45, 'sapphicasf', 1649, 'Puberty 2', 520], [45, 'sapphicasf', 1650, 'Women in Music Pt III (Expanded Edition)', 497], [45, 'sapphicasf', 1651, 'Home Video', 479], [45, 'sapphicasf', 1652, 'songs', 478], [45, 'sapphicasf', 253, 'Be the Cowboy', 452], [45, 'sapphicasf', 378, 'SOUR', 450], [45, 'sapphicasf', 1653, 'Stranger in the Alps', 450], [45, 'sapphicasf', 647, 'bury me at makeout creek', 441], [45, 'sapphicasf', 1654, 'Historian', 372], [45, 'sapphicasf', 370, \"Fearless (Taylor's Version)\", 341], [45, 'sapphicasf', 371, 'Speak Now', 330], [45, 'sapphicasf', 1384, 'Either/Or', 317], [45, 'sapphicasf', 1655, 'Boygenius', 300], [45, 'sapphicasf', 1656, 'LUSH', 261], [45, 'sapphicasf', 1657, 'Burn Your Fire For No Witness (Deluxe Edition)', 258], [45, 'sapphicasf', 1658, 'Masterpiece', 258], [45, 'sapphicasf', 186, 'folklore', 239], [45, 'sapphicasf', 1659, 'evermore', 228], [45, 'sapphicasf', 235, 'Retired from Sad, New Career in Business', 225], [45, 'sapphicasf', 1660, 'Hozier', 224], [45, 'sapphicasf', 165, 'Midnights (3am Edition)', 212], [45, 'sapphicasf', 729, 'Louder Than Bombs', 203], [45, 'sapphicasf', 1661, 'Sling', 202], [45, 'sapphicasf', 1662, 'Heard It in a Past Life', 196], [45, 'sapphicasf', 201, 'OK Computer', 196], [45, 'sapphicasf', 1123, 'Cigarettes After Sex', 186], [45, 'sapphicasf', 1663, \"I'm Wide Awake, It's Morning\", 181], [45, 'sapphicasf', 153, 'Norman Fucking Rockwell!', 179], [45, 'sapphicasf', 651, 'MY WOMAN', 175], [45, 'sapphicasf', 477, 'Carrie & Lowell', 173], [45, 'sapphicasf', 1664, 'Solar Power', 166], [45, 'sapphicasf', 909, 'Stranger in the Alps (Deluxe Edition)', 166], [45, 'sapphicasf', 454, 'Valentine', 160], [45, 'sapphicasf', 216, 'channel ORANGE', 155], [45, 'sapphicasf', 221, 'Hatful of Hollow', 150], [45, 'sapphicasf', 72, 'In Rainbows', 149], [45, 'sapphicasf', 241, 'When the Pawn...', 147], [45, 'sapphicasf', 1665, 'Novacane', 147], [45, 'sapphicasf', 617, 'Titanic Rising', 147], [46, 'emabelickova', 653, 'Teen Dream', 464], [46, 'emabelickova', 1666, 'Schlagenheim', 459], [46, 'emabelickova', 1667, \"how i'm feeling now\", 458], [46, 'emabelickova', 656, 'Bloom', 452], [46, 'emabelickova', 1668, 'Goat Girl', 433], [46, 'emabelickova', 148, 'Pang', 428], [46, 'emabelickova', 1669, 'For the First Time', 420], [46, 'emabelickova', 1670, 'Visions of a Life', 415], [46, 'emabelickova', 617, 'Titanic Rising', 392], [46, 'emabelickova', 1671, 'Blue Weekend', 390], [46, 'emabelickova', 946, 'Leaves Turn Inside You', 376], [46, 'emabelickova', 1672, 'Cavalcade', 375], [46, 'emabelickova', 1673, 'White Light From the Mouth of Infinity', 350], [46, 'emabelickova', 50, 'Drukqs', 333], [46, 'emabelickova', 1674, '925', 327], [46, 'emabelickova', 658, 'Devotion', 309], [46, 'emabelickova', 657, 'Depression Cherry', 307], [46, 'emabelickova', 1675, \"G_d's Pee AT STATE'S END!\", 300], [46, 'emabelickova', 1676, 'CALIGULA', 295], [46, 'emabelickova', 677, 'Beach House', 291], [46, 'emabelickova', 1677, 'Telegraphs in Negative / Mouths Trapped in Static', 283], [46, 'emabelickova', 1678, 'Soundtrack ke konci světa', 280], [46, 'emabelickova', 957, 'Spiderland', 279], [46, 'emabelickova', 100, 'KiCk i', 277], [46, 'emabelickova', 197, 'Souvlaki', 270], [46, 'emabelickova', 1679, 'Luciferian Towers', 263], [46, 'emabelickova', 1448, 'Public Strain', 258], [46, 'emabelickova', 105, 'KicK iii', 254], [46, 'emabelickova', 74, 'Stratosphere', 252], [46, 'emabelickova', 850, '…Because I’m Young Arrogant and Hate Everything You Stand For', 252], [46, 'emabelickova', 659, '7', 251], [46, 'emabelickova', 602, 'Ants From Up There', 250], [46, 'emabelickova', 1680, 'My Love Is Cool (Deluxe Edition)', 245], [46, 'emabelickova', 80, 'The Glow, Pt. 2', 244], [46, 'emabelickova', 1681, 'WOMEN', 239], [46, 'emabelickova', 301, 'Once Twice Melody', 236], [46, 'emabelickova', 1682, 'Le voyage éternel', 233], [46, 'emabelickova', 660, 'Thank Your Lucky Stars', 231], [46, 'emabelickova', 1683, 'Wicked City', 228], [46, 'emabelickova', 1684, 'Generácia Y', 222], [46, 'emabelickova', 1685, 'Nebeský klid', 215], [46, 'emabelickova', 198, 'Around the Fur', 207], [46, 'emabelickova', 954, 'New Plastic Ideas', 207], [46, 'emabelickova', 1686, 'On All Fours', 204], [46, 'emabelickova', 161, 'CRASH', 198], [46, 'emabelickova', 217, 'The Bends', 197], [46, 'emabelickova', 1447, 'Bright Green Field', 197], [46, 'emabelickova', 205, 'White Pony', 196], [46, 'emabelickova', 948, 'Repetition', 195], [46, 'emabelickova', 72, 'In Rainbows', 192], [47, 'LuisPaez02', 1687, 'Tiene Que Haber Algo Más', 730], [47, 'LuisPaez02', 197, 'Souvlaki', 574], [47, 'LuisPaez02', 1278, 'El Madrileño', 390], [47, 'LuisPaez02', 1089, 'Whole Lotta Red', 369], [47, 'LuisPaez02', 1688, 'Dizzy Up the Girl', 361], [47, 'LuisPaez02', 661, 'Heaven or Las Vegas', 359], [47, 'LuisPaez02', 1689, 'Fetch the Bolt Cutters', 351], [47, 'LuisPaez02', 167, 'Blonde', 348], [47, 'LuisPaez02', 718, 'The Life of Pablo', 324], [47, 'LuisPaez02', 1690, 'FREELANCE', 274], [47, 'LuisPaez02', 541, 'IGOR', 253], [47, 'LuisPaez02', 722, 'Donda', 252], [47, 'LuisPaez02', 4, 'Icedancer', 249], [47, 'LuisPaez02', 1275, 'EL ÚLTIMO TOUR DEL MUNDO', 246], [47, 'LuisPaez02', 1090, 'Die Lit', 246], [47, 'LuisPaez02', 563, 'Twin Fantasy', 245], [47, 'LuisPaez02', 605, 'El Mal Querer', 245], [47, 'LuisPaez02', 534, 'Madvillainy', 236], [47, 'LuisPaez02', 1691, 'K.I.D.S.', 234], [47, 'LuisPaez02', 724, 'Yeezus', 225], [47, 'LuisPaez02', 1692, 'We Love You Tecca', 216], [47, 'LuisPaez02', 1693, 'The Melodic Blue', 201], [47, 'LuisPaez02', 262, 'Twilight', 194], [47, 'LuisPaez02', 725, 'Graduation', 189], [47, 'LuisPaez02', 663, 'Slowdive', 189], [47, 'LuisPaez02', 1694, \"(What's the Story) Morning Glory? [Remastered]\", 187], [47, 'LuisPaez02', 1335, 'Mr. Morale & the Big Steppers', 179], [47, 'LuisPaez02', 1695, 'Un Verano Sin Ti', 178], [47, 'LuisPaez02', 1696, 'Debut', 177], [47, 'LuisPaez02', 723, 'My Beautiful Dark Twisted Fantasy', 177], [47, 'LuisPaez02', 198, 'Around the Fur', 175], [47, 'LuisPaez02', 542, 'Some Rap Songs', 175], [47, 'LuisPaez02', 1294, 'X 100PRE', 168], [47, 'LuisPaez02', 39, 'Trash Island', 168], [47, 'LuisPaez02', 1697, 'Gutterflower', 165], [47, 'LuisPaez02', 721, 'ye', 165], [47, 'LuisPaez02', 373, 'MOTOMAMI', 164], [47, 'LuisPaez02', 1698, 'Montage of Heck: The Home Recordings (Deluxe Soundtrack)', 157], [47, 'LuisPaez02', 241, 'When the Pawn...', 154], [47, 'LuisPaez02', 1094, 'Playboi Carti', 151], [47, 'LuisPaez02', 253, 'Be the Cowboy', 149], [47, 'LuisPaez02', 1699, '18', 149], [47, 'LuisPaez02', 813, 'DAMN.', 147], [47, 'LuisPaez02', 914, 'Teens of Denial', 146], [47, 'LuisPaez02', 1700, 'Heathen Chemistry', 146], [47, 'LuisPaez02', 1701, \"It's Almost Dry\", 146], [47, 'LuisPaez02', 1095, 'Crest', 142], [47, 'LuisPaez02', 965, 'Instrument Soundtrack', 138], [47, 'LuisPaez02', 1702, 'Richard D. James Album', 136], [47, 'LuisPaez02', 1036, 'After Hours', 135], [48, 'AbelgodXOTWOD', 406, 'The Smiths', 691], [48, 'AbelgodXOTWOD', 217, 'The Bends', 540], [48, 'AbelgodXOTWOD', 731, 'The Queen Is Dead', 531], [48, 'AbelgodXOTWOD', 221, 'Hatful of Hollow', 497], [48, 'AbelgodXOTWOD', 197, 'Souvlaki', 469], [48, 'AbelgodXOTWOD', 201, 'OK Computer', 436], [48, 'AbelgodXOTWOD', 1014, 'Meat Is Murder', 421], [48, 'AbelgodXOTWOD', 1703, 'Soda Stereo (Remastered)', 357], [48, 'AbelgodXOTWOD', 729, 'Louder Than Bombs', 315], [48, 'AbelgodXOTWOD', 743, 'The Doors', 285], [48, 'AbelgodXOTWOD', 218, 'Just for a Day', 271], [48, 'AbelgodXOTWOD', 202, 'Loveless', 255], [48, 'AbelgodXOTWOD', 657, 'Depression Cherry', 232], [48, 'AbelgodXOTWOD', 239, 'Nevermind (Remastered)', 231], [48, 'AbelgodXOTWOD', 74, 'Stratosphere', 230], [48, 'AbelgodXOTWOD', 72, 'In Rainbows', 224], [48, 'AbelgodXOTWOD', 465, 'Unknown Pleasures', 223], [48, 'AbelgodXOTWOD', 1704, 'Comfort Y Musica Para Volar', 215], [48, 'AbelgodXOTWOD', 1705, 'Canción Animal (Remastered)', 204], [48, 'AbelgodXOTWOD', 205, 'White Pony', 198], [48, 'AbelgodXOTWOD', 226, 'In Utero - 20th Anniversary - Deluxe Edition', 197], [48, 'AbelgodXOTWOD', 1706, 'Doble Vida (Remastered)', 197], [48, 'AbelgodXOTWOD', 1707, 'Nada Personal (Remastered)', 196], [48, 'AbelgodXOTWOD', 1708, 'Three Imaginary Boys', 196], [48, 'AbelgodXOTWOD', 1709, 'Signos (Remastered)', 194], [48, 'AbelgodXOTWOD', 1710, 'Grace', 177], [48, 'AbelgodXOTWOD', 262, 'Twilight', 176], [48, 'AbelgodXOTWOD', 213, 'Deathconsciousness', 164], [48, 'AbelgodXOTWOD', 1711, \"Everybody Else Is Doing It, So Why Can't We?\", 154], [48, 'AbelgodXOTWOD', 1277, 'A Rush of Blood to the Head', 151], [48, 'AbelgodXOTWOD', 597, 'Draining Love Story', 147], [48, 'AbelgodXOTWOD', 246, 'Hybrid Theory (Bonus Edition)', 142], [48, 'AbelgodXOTWOD', 1712, 'этажи', 142], [48, 'AbelgodXOTWOD', 198, 'Around the Fur', 141], [48, 'AbelgodXOTWOD', 1603, 'Turn on the Bright Lights', 136], [48, 'AbelgodXOTWOD', 1713, 'Locura', 135], [48, 'AbelgodXOTWOD', 1714, 'Bloweyelashwish', 129], [48, 'AbelgodXOTWOD', 209, 'Pablo Honey', 128], [48, 'AbelgodXOTWOD', 1715, 'Los Tres', 125], [48, 'AbelgodXOTWOD', 572, 'Favourite Worst Nightmare', 123], [48, 'AbelgodXOTWOD', 1272, 'Parachutes', 121], [48, 'AbelgodXOTWOD', 1716, 'Dynamo (Remastered)', 121], [48, 'AbelgodXOTWOD', 215, 'Amnesiac', 120], [48, 'AbelgodXOTWOD', 810, 'Endtroducing.....', 118], [48, 'AbelgodXOTWOD', 1717, 'Steve McQueen', 117], [48, 'AbelgodXOTWOD', 555, \"Whatever People Say I Am, That's What I'm Not\", 115], [48, 'AbelgodXOTWOD', 1718, 'El Jardin De Los Presentes', 113], [48, 'AbelgodXOTWOD', 207, 'Saturday Night Wrist', 112], [48, 'AbelgodXOTWOD', 1497, 'Silent Alarm', 107], [48, 'AbelgodXOTWOD', 736, 'Bocanada', 106], [49, 'deicidios', 1719, 'POST HUMAN: SURVIVAL HORROR', 347], [49, 'deicidios', 1720, 'WINGS', 335], [49, 'deicidios', 229, 'Koi No Yokan', 301], [49, 'deicidios', 1721, 'Finally We Are No One', 268], [49, 'deicidios', 1722, '醜奴兒', 260], [49, 'deicidios', 1723, 'Dear', 256], [49, 'deicidios', 1724, 'The Most Beautiful Moment In Life Pt.2', 248], [49, 'deicidios', 1725, 'The Most Beautiful Moment in Life: Young Forever', 245], [49, 'deicidios', 629, 'and Their Refinement of the Decline', 243], [49, 'deicidios', 205, 'White Pony', 238], [49, 'deicidios', 1726, '更迭', 238], [49, 'deicidios', 254, 'Absolution', 232], [49, 'deicidios', 51, 'The Tired Sounds of Stars of the Lid', 232], [49, 'deicidios', 212, 'Diamond Eyes', 228], [49, 'deicidios', 201, 'OK Computer', 224], [49, 'deicidios', 1727, 'The 2nd Law', 220], [49, 'deicidios', 1728, '1830m', 218], [49, 'deicidios', 1729, 'Mothership', 215], [49, 'deicidios', 1730, '鮎川のしづく', 215], [49, 'deicidios', 1731, 'Sempiternal (Expanded Edition)', 209], [49, 'deicidios', 1732, '冀西南林路行', 208], [49, 'deicidios', 1733, 'Death Magic', 196], [49, 'deicidios', 1734, 'Wiped Out!', 195], [49, 'deicidios', 1735, '何度でも新しく生まれる', 193], [49, 'deicidios', 220, 'Ohms', 192], [49, 'deicidios', 207, 'Saturday Night Wrist', 192], [49, 'deicidios', 1736, \"No Man's Sky: Music for an Infinite Universe\", 190], [49, 'deicidios', 654, 'To See the Next Part of the Dream', 190], [49, 'deicidios', 1737, 'Windswept Adan', 187], [49, 'deicidios', 1738, 'Origin of Symmetry', 184], [49, 'deicidios', 114, 'Fetch', 182], [49, 'deicidios', 1739, 'Electric Girl', 176], [49, 'deicidios', 1062, 'Worlds', 175], [49, 'deicidios', 1740, 'Shrines', 170], [49, 'deicidios', 696, 'AM', 168], [49, 'deicidios', 881, '(III)', 165], [49, 'deicidios', 1741, 'Neō Wax Bloom', 159], [49, 'deicidios', 1742, '(II)', 153], [49, 'deicidios', 1743, 'Fantôme', 152], [49, 'deicidios', 1744, 'NCT #127 Neo Zone: The Final Round - The 2nd Album Repackage', 151], [49, 'deicidios', 1745, 'Sleeping with Ghosts', 147], [49, 'deicidios', 403, 'Kid A', 146], [49, 'deicidios', 1746, 'Instant Gratification', 145], [49, 'deicidios', 1747, 'NCT RESONANCE Pt. 2 - The 2nd Album', 145], [49, 'deicidios', 1748, '暗闇', 143], [49, 'deicidios', 1572, '0', 142], [49, 'deicidios', 1749, 'FIRST IMPACT', 142], [49, 'deicidios', 1750, 'Lance', 142], [49, 'deicidios', 1751, '鏡中鏡', 141], [49, 'deicidios', 250, 'Deftones', 138]]\n"
          ]
        }
      ],
      "source": [
        "print(n_data)"
      ]
    },
    {
      "cell_type": "code",
      "execution_count": 78,
      "metadata": {
        "colab": {
          "base_uri": "https://localhost:8080/"
        },
        "id": "GLa9CjudyJfN",
        "outputId": "b4c4fcda-c181-47fb-e494-16f1d6e79201"
      },
      "outputs": [
        {
          "name": "stdout",
          "output_type": "stream",
          "text": [
            "Looking in indexes: https://pypi.org/simple, https://us-python.pkg.dev/colab-wheels/public/simple/\n",
            "Requirement already satisfied: pyspark in /usr/local/lib/python3.7/dist-packages (3.3.1)\n",
            "Requirement already satisfied: py4j==0.10.9.5 in /usr/local/lib/python3.7/dist-packages (from pyspark) (0.10.9.5)\n"
          ]
        }
      ],
      "source": [
        "pip install pyspark"
      ]
    },
    {
      "cell_type": "code",
      "execution_count": 79,
      "metadata": {
        "id": "TtN0xdPiPYHO"
      },
      "outputs": [],
      "source": [
        "# import libraries\n",
        "from pyspark import SparkContext\n",
        "from pyspark.ml.recommendation import ALS\n",
        "from pyspark.sql import SparkSession ,Row"
      ]
    },
    {
      "cell_type": "code",
      "execution_count": 80,
      "metadata": {
        "id": "TVh2GjhMyAE1"
      },
      "outputs": [],
      "source": [
        "appName=\"exam neo4j lastfm\"\n",
        "\n",
        "# initialize the spark session\n",
        "spark = SparkSession.builder.appName(appName).getOrCreate()\n",
        "\n",
        "# get sparkcontext from the sparksession\n",
        "sc = spark.sparkContext"
      ]
    },
    {
      "cell_type": "code",
      "execution_count": 81,
      "metadata": {
        "id": "kVvb5F3bdcZu"
      },
      "outputs": [],
      "source": [
        "from pyspark.sql.types import *\n",
        "from pyspark.sql.functions import col\n",
        "\n",
        "user_schema = StructType([\n",
        "    StructField('user_id', IntegerType()),\n",
        "    StructField('user_name', StringType()),\n",
        "    StructField('album_id', IntegerType()),\n",
        "    StructField('album_name', StringType()),\n",
        "    StructField('playcount', IntegerType())\n",
        "])\n",
        "\n"
      ]
    },
    {
      "cell_type": "code",
      "execution_count": 82,
      "metadata": {
        "id": "Fc83Rk87h9Cu"
      },
      "outputs": [],
      "source": [
        "# user_rdd = sc.parallelize([friend_names])"
      ]
    },
    {
      "cell_type": "code",
      "execution_count": 83,
      "metadata": {
        "id": "uik3kU4ZH34P"
      },
      "outputs": [],
      "source": [
        "df = spark.createDataFrame(n_data, schema=user_schema)"
      ]
    },
    {
      "cell_type": "code",
      "execution_count": 84,
      "metadata": {
        "colab": {
          "base_uri": "https://localhost:8080/"
        },
        "id": "NlCpAJ3rh9FN",
        "outputId": "0b132d9e-2dab-4920-f439-56b474c35649"
      },
      "outputs": [
        {
          "name": "stdout",
          "output_type": "stream",
          "text": [
            "root\n",
            " |-- user_id: integer (nullable = true)\n",
            " |-- user_name: string (nullable = true)\n",
            " |-- album_id: integer (nullable = true)\n",
            " |-- album_name: string (nullable = true)\n",
            " |-- playcount: integer (nullable = true)\n",
            "\n"
          ]
        }
      ],
      "source": [
        "df.printSchema()"
      ]
    },
    {
      "cell_type": "code",
      "execution_count": 85,
      "metadata": {
        "colab": {
          "base_uri": "https://localhost:8080/"
        },
        "id": "GDT5rty6He_-",
        "outputId": "9e027647-506e-427f-b1bb-5a0f0fcfa5db"
      },
      "outputs": [
        {
          "name": "stdout",
          "output_type": "stream",
          "text": [
            "+-------+---------+--------+----------------------------+---------+\n",
            "|user_id|user_name|album_id|album_name                  |playcount|\n",
            "+-------+---------+--------+----------------------------+---------+\n",
            "|0      |hikamu   |0       |Black Moon                  |8027     |\n",
            "|0      |hikamu   |1       |D&G                         |3190     |\n",
            "|0      |hikamu   |2       |FLASH DESIRE                |2356     |\n",
            "|0      |hikamu   |3       |Azeroy                      |2164     |\n",
            "|0      |hikamu   |4       |Icedancer                   |2036     |\n",
            "|0      |hikamu   |5       |Marjorie -W.C. Sinclair     |1735     |\n",
            "|0      |hikamu   |6       |AZEROY GARDEN 8888          |1503     |\n",
            "|0      |hikamu   |7       |SURGEON DOGMA               |1495     |\n",
            "|0      |hikamu   |8       |Last Bible                  |1428     |\n",
            "|0      |hikamu   |9       |SWORDS                      |1300     |\n",
            "|0      |hikamu   |10      |CRYSTAL HELIX               |1044     |\n",
            "|0      |hikamu   |11      |Gluee                       |991      |\n",
            "|0      |hikamu   |12      |EVERSINCE                   |875      |\n",
            "|0      |hikamu   |13      |BAROQUE                     |725      |\n",
            "|0      |hikamu   |14      |Contemporary Movement       |695      |\n",
            "|0      |hikamu   |15      |Working on Dying            |639      |\n",
            "|0      |hikamu   |16      |E                           |579      |\n",
            "|0      |hikamu   |17      |Red Light                   |552      |\n",
            "|0      |hikamu   |18      |Earlier Works Bootleg       |516      |\n",
            "|0      |hikamu   |19      |Munnie Fetish Renegade Demon|489      |\n",
            "+-------+---------+--------+----------------------------+---------+\n",
            "only showing top 20 rows\n",
            "\n"
          ]
        }
      ],
      "source": [
        "df.show(truncate=False)"
      ]
    },
    {
      "cell_type": "code",
      "execution_count": 86,
      "metadata": {
        "id": "dKgc066Wa6n_"
      },
      "outputs": [],
      "source": [
        "# dataset split into training and testing set\n",
        "(training, test) = df.randomSplit([0.8, 0.2])"
      ]
    },
    {
      "cell_type": "code",
      "execution_count": 87,
      "metadata": {
        "id": "OBlEWm_Pa6uh"
      },
      "outputs": [],
      "source": [
        "#Training the model\n",
        "als = ALS(maxIter=5, \n",
        "          implicitPrefs=True,\n",
        "          userCol=\"user_id\", \n",
        "          itemCol=\"album_id\", \n",
        "          ratingCol=\"playcount\",\n",
        "          coldStartStrategy=\"drop\")"
      ]
    },
    {
      "cell_type": "code",
      "execution_count": 88,
      "metadata": {
        "id": "_csfFCqSa69u"
      },
      "outputs": [],
      "source": [
        "# predict using the testing datatset\n",
        "model = als.fit(training)\n"
      ]
    },
    {
      "cell_type": "code",
      "execution_count": 89,
      "metadata": {
        "colab": {
          "base_uri": "https://localhost:8080/"
        },
        "id": "Hk4rFg-za7EM",
        "outputId": "74923c2a-824f-4a4a-c956-e834f464b0d7"
      },
      "outputs": [
        {
          "name": "stdout",
          "output_type": "stream",
          "text": [
            "+-------+------------+--------+--------------------+---------+------------+\n",
            "|user_id|   user_name|album_id|          album_name|playcount|  prediction|\n",
            "+-------+------------+--------+--------------------+---------+------------+\n",
            "|     12|Evan_Mumford|     167|              Blonde|      255|  0.86312187|\n",
            "|     12|Evan_Mumford|     534|         Madvillainy|      451|   0.5551498|\n",
            "|      1|    Ko_tatsu|      58|            Geogaddi|      161|   0.2071779|\n",
            "|      1|    Ko_tatsu|      71|         Tri Repetae|      121| 0.024169847|\n",
            "|      1|    Ko_tatsu|      82|  A Moon Shaped Pool|      101|  0.27044207|\n",
            "|     13|     Airen3a|      80|     The Glow, Pt. 2|      202|  -0.2850807|\n",
            "|     13|     Airen3a|     451|      Hounds of Love|      213|  -0.5000315|\n",
            "|     13|     Airen3a|     504|Serú Girán (Remas...|       55|  0.13302967|\n",
            "|     13|     Airen3a|     536|             Veteran|      176|  0.21098709|\n",
            "|     13|     Airen3a|     607|my love feels all...|       48|    0.152865|\n",
            "|      6|     caudria|     217|           The Bends|       79|   1.4871876|\n",
            "|      6|     caudria|     284|       Plastic Beach|      112|    0.601385|\n",
            "|      6|     caudria|     292|    The New Abnormal|       93|   0.5512172|\n",
            "|      6|     caudria|     307|Wolfgang Amadeus ...|       69|-0.029142305|\n",
            "|     16|   addison_d|     226|In Utero - 20th A...|      185|   0.5769729|\n",
            "|     16|   addison_d|     239|Nevermind (Remast...|      436|  0.44021246|\n",
            "|     16|   addison_d|     533|                Dirt|      196| 0.016068652|\n",
            "|     16|   addison_d|     689|Aha Shake Heartbreak|      370|  0.51293576|\n",
            "|      3|     arthuic|     154|          Essentials|       18| 0.082346335|\n",
            "|      3|     arthuic|     158|         Max & Match|       13|  0.17487752|\n",
            "+-------+------------+--------+--------------------+---------+------------+\n",
            "only showing top 20 rows\n",
            "\n"
          ]
        }
      ],
      "source": [
        "predictions = model.transform(test)\n",
        "predictions.show()"
      ]
    },
    {
      "cell_type": "code",
      "execution_count": null,
      "metadata": {
        "id": "8b8IZ16za7N1"
      },
      "outputs": [],
      "source": []
    },
    {
      "cell_type": "code",
      "execution_count": null,
      "metadata": {
        "id": "Tgt5D_Jdi-oq"
      },
      "outputs": [],
      "source": [
        "# album_schema = StructType([\n",
        "\n",
        "#     StructField('album_name', StringType()),\n",
        "#     StructField('playcount', StringType())\n",
        "\n",
        "# ])"
      ]
    },
    {
      "cell_type": "code",
      "execution_count": null,
      "metadata": {
        "id": "sFyLS2Zvh9Hm"
      },
      "outputs": [],
      "source": [
        "# album_df = spark.createDataFrame([], schema = album_schema)"
      ]
    },
    {
      "cell_type": "code",
      "execution_count": null,
      "metadata": {
        "id": "1fO-rj1Ah9KD"
      },
      "outputs": [],
      "source": [
        "# album_df.printSchema()"
      ]
    },
    {
      "cell_type": "markdown",
      "metadata": {},
      "source": []
    },
    {
      "cell_type": "code",
      "execution_count": null,
      "metadata": {
        "id": "Od1U4aIlyiN5"
      },
      "outputs": [],
      "source": [
        "'''\n",
        "from pyspark.sql.types import *\n",
        "from pyspark.sql.functions import col\n",
        "\n",
        "#Define the schema for the datasets\n",
        "schema_charttopartist = StructType([\n",
        "\n",
        "    StructField(\"artists\", StructType([\n",
        "\n",
        "        StructField(\"@attr\", StructType([\n",
        "\n",
        "            StructField('total', StringType()),\n",
        "            StructField('perPage', StringType()), \n",
        "            StructField('totalPages', StringType()),\n",
        "            StructField('page', StringType())\n",
        "            \n",
        "        ])),\n",
        "        \n",
        "        StructField('artist', ArrayType(StructType([\n",
        "\n",
        "            StructField('image', ArrayType(StructType([\n",
        "\n",
        "                StructField('#text', StringType()),\n",
        "                StructField('size',  StringType())\n",
        "                \n",
        "            ]))),\n",
        "\n",
        "\n",
        "            # StructField('empty', StructType([\n",
        "\n",
        "            StructField('mbid', StringType()),\n",
        "            StructField('listeners', StringType()),\n",
        "            StructField('streamable', StringType()),\n",
        "            StructField('playcount', StringType()),\n",
        "            StructField('name', StringType()),\n",
        "            StructField('url', StringType()) \n",
        "            ])))\n",
        "            \n",
        "                \n",
        "            \n",
        "            \n",
        "        ]))])\n",
        "    # ])#)\n",
        "# ])"
      ]
    },
    {
      "cell_type": "code",
      "execution_count": null,
      "metadata": {
        "id": "msBFEa7Fyqbr"
      },
      "outputs": [],
      "source": [
        "df = spark.createDataFrame([], schema = schema_charttopartist)"
      ]
    },
    {
      "cell_type": "code",
      "execution_count": null,
      "metadata": {
        "id": "V_u_VabPyqf7"
      },
      "outputs": [],
      "source": [
        "df.printSchema()"
      ]
    },
    {
      "cell_type": "code",
      "execution_count": null,
      "metadata": {
        "id": "9QTUr_LxmTmA"
      },
      "outputs": [],
      "source": [
        "rdd = spark.sparkContext.parallelize([chart_topartist_data.text])"
      ]
    },
    {
      "cell_type": "code",
      "execution_count": null,
      "metadata": {
        "id": "4alXK-isr4TY"
      },
      "outputs": [],
      "source": [
        "chart_topartist_df = spark.read.json(rdd)"
      ]
    },
    {
      "cell_type": "code",
      "execution_count": null,
      "metadata": {
        "id": "e6SfYkQvmTuQ"
      },
      "outputs": [],
      "source": [
        "chart_topartist_df.printSchema()"
      ]
    },
    {
      "cell_type": "code",
      "execution_count": null,
      "metadata": {
        "id": "SpMDL_CzmTx-"
      },
      "outputs": [],
      "source": [
        "chart_topartist_df.show(truncate=False)"
      ]
    },
    {
      "cell_type": "code",
      "execution_count": null,
      "metadata": {
        "id": "1r-lvKvHyuEr"
      },
      "outputs": [],
      "source": [
        "# custom_charttopartist_df = spark.createDataFrame([], schema = custom_charttopartist)"
      ]
    },
    {
      "cell_type": "code",
      "execution_count": null,
      "metadata": {
        "id": "F_BMVUJQywbX"
      },
      "outputs": [],
      "source": [
        "# custom_charttopartist_df.printSchema()"
      ]
    },
    {
      "cell_type": "code",
      "execution_count": null,
      "metadata": {
        "id": "E3dCm2xhmT1s"
      },
      "outputs": [],
      "source": [
        "# custom_usertopartist = StructType([\n",
        "\n",
        "#     StructField('name', StringType()),\n",
        "#     StructField('playcount', StringType())\n",
        "\n",
        "# ])\n"
      ]
    },
    {
      "cell_type": "code",
      "execution_count": null,
      "metadata": {
        "id": "iNguhOE4XiLN"
      },
      "outputs": [],
      "source": [
        "# custom_usertopartist_df = spark.createDataFrame([], schema = custom_usertopartist)"
      ]
    },
    {
      "cell_type": "code",
      "execution_count": null,
      "metadata": {
        "id": "tlZ95NtZXiN7"
      },
      "outputs": [],
      "source": [
        "# custom_usertopartist_df.printSchema()"
      ]
    },
    {
      "cell_type": "code",
      "execution_count": null,
      "metadata": {
        "id": "yMzvCLRcXiSE"
      },
      "outputs": [],
      "source": []
    },
    {
      "cell_type": "code",
      "execution_count": null,
      "metadata": {
        "id": "oybMFL3dyqs9"
      },
      "outputs": [],
      "source": []
    },
    {
      "cell_type": "code",
      "execution_count": null,
      "metadata": {
        "id": "mv7f6UDIQ2G8"
      },
      "outputs": [],
      "source": [
        "# # match relationships (basic paths)\n",
        "\n",
        "# query = '''MATCH (p1:Person) - [r]->(p2:Person) RETURN p1, r, p2 limit 10'''\n",
        "\n",
        "# result = conn.query(query)\n",
        "# print(result)"
      ]
    },
    {
      "cell_type": "code",
      "execution_count": null,
      "metadata": {
        "id": "yKGHfHUAZg5U"
      },
      "outputs": [],
      "source": [
        "\n",
        "# from neo4j import GraphDatabase, basic_auth\n",
        "\n",
        "# driver = GraphDatabase.driver(\n",
        "#   \"bolt://35.175.122.15:7687\",\n",
        "#   auth=basic_auth(\"neo4j\", \"child-teeth-formula\"))\n",
        "\n",
        "# cypher_query = '''\n",
        "# MATCH (n)\n",
        "# RETURN COUNT(n) AS count\n",
        "# LIMIT $limit\n",
        "# '''\n",
        "\n",
        "# with driver.session(database=\"neo4j\") as session:\n",
        "#   results = session.read_transaction(\n",
        "#     lambda tx: tx.run(cypher_query,\n",
        "#                       limit=10).data())\n",
        "#   for record in results:\n",
        "#     print(record['count'])\n",
        "\n",
        "# driver.close()\n"
      ]
    },
    {
      "cell_type": "code",
      "execution_count": null,
      "metadata": {
        "id": "_ZlDS-GjNyLn"
      },
      "outputs": [],
      "source": []
    }
  ],
  "metadata": {
    "colab": {
      "collapsed_sections": [],
      "provenance": []
    },
    "kernelspec": {
      "display_name": "Python 3",
      "name": "python3"
    },
    "language_info": {
      "name": "python"
    }
  },
  "nbformat": 4,
  "nbformat_minor": 0
}
